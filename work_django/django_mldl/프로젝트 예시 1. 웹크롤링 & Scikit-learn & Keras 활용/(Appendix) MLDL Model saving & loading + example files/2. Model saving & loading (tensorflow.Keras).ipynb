{
 "cells": [
  {
   "cell_type": "markdown",
   "metadata": {},
   "source": [
    "<br> \n",
    "\n",
    "#### 1. Build & train a model"
   ]
  },
  {
   "cell_type": "code",
   "execution_count": 2,
   "metadata": {},
   "outputs": [],
   "source": [
    "import tensorflow as tf\n",
    "from tensorflow.keras import datasets, utils\n",
    "from tensorflow.keras import models, layers, activations, initializers, losses, optimizers, metrics\n",
    "\n",
    "import os\n",
    "os.environ['TF_CPP_MIN_LOG_LEVEL'] = '2' # https://stackoverflow.com/questions/35911252/disable-tensorflow-debugging-information"
   ]
  },
  {
   "cell_type": "code",
   "execution_count": 3,
   "metadata": {},
   "outputs": [],
   "source": [
    "(train_data, train_label), (test_data, test_label) = datasets.mnist.load_data()\n",
    "\n",
    "# print(train_data.shape) # # of training data == 60000, each data = 28px * 28px\n",
    "# print(test_data.shape) # # of test data == 10000\n",
    "\n",
    "train_data = train_data.reshape(60000, 784) / 255.0 # 0~255 -> 0~1\n",
    "test_data = test_data.reshape(10000, 784) / 255.0 # 0~255 -> 0~1\n",
    "\n",
    "train_label = utils.to_categorical(train_label) # 0~9 -> one-hot vector\n",
    "test_label = utils.to_categorical(test_label) # 0~9 -> one-hot vector"
   ]
  },
  {
   "cell_type": "code",
   "execution_count": 4,
   "metadata": {},
   "outputs": [],
   "source": [
    "model = models.Sequential() \n",
    "\n",
    "model.add(layers.Dense(input_dim=28*28, units=256, activation=None, kernel_initializer=initializers.he_uniform())) \n",
    "model.add(layers.BatchNormalization())\n",
    "model.add(layers.Activation('relu')) # layers.ELU or layers.LeakyReLU\n",
    "model.add(layers.Dropout(rate=0.2))\n",
    "\n",
    "model.add(layers.Dense(units=256, activation=None, kernel_initializer=initializers.he_uniform())) \n",
    "model.add(layers.BatchNormalization())\n",
    "model.add(layers.Activation('relu')) # layers.ELU or layers.LeakyReLU\n",
    "model.add(layers.Dropout(rate=0.2))\n",
    "\n",
    "model.add(layers.Dense(units=10, activation='softmax')) # 0~9 "
   ]
  },
  {
   "cell_type": "code",
   "execution_count": 5,
   "metadata": {},
   "outputs": [],
   "source": [
    "model.compile(optimizer=optimizers.Adam(), \n",
    "              loss=losses.categorical_crossentropy, \n",
    "              metrics=[metrics.categorical_accuracy]) # Precision / Recall / F1-Score 적용하기 @ https://j.mp/3cf3lbi"
   ]
  },
  {
   "cell_type": "code",
   "execution_count": 6,
   "metadata": {},
   "outputs": [
    {
     "name": "stdout",
     "output_type": "stream",
     "text": [
      "Epoch 1/15\n",
      "480/480 [==============================] - 3s 5ms/step - loss: 0.3050 - categorical_accuracy: 0.9075 - val_loss: 0.1307 - val_categorical_accuracy: 0.9607\n",
      "Epoch 2/15\n",
      "480/480 [==============================] - 2s 5ms/step - loss: 0.1413 - categorical_accuracy: 0.9564 - val_loss: 0.0985 - val_categorical_accuracy: 0.9698\n",
      "Epoch 3/15\n",
      "480/480 [==============================] - 2s 5ms/step - loss: 0.1035 - categorical_accuracy: 0.9679 - val_loss: 0.0840 - val_categorical_accuracy: 0.9749\n",
      "Epoch 4/15\n",
      "480/480 [==============================] - 2s 5ms/step - loss: 0.0852 - categorical_accuracy: 0.9725 - val_loss: 0.0802 - val_categorical_accuracy: 0.9759\n",
      "Epoch 5/15\n",
      "480/480 [==============================] - 2s 5ms/step - loss: 0.0681 - categorical_accuracy: 0.9791 - val_loss: 0.0823 - val_categorical_accuracy: 0.9745\n",
      "Epoch 6/15\n",
      "480/480 [==============================] - 2s 5ms/step - loss: 0.0587 - categorical_accuracy: 0.9812 - val_loss: 0.0771 - val_categorical_accuracy: 0.9762\n",
      "Epoch 7/15\n",
      "480/480 [==============================] - 2s 5ms/step - loss: 0.0536 - categorical_accuracy: 0.9827 - val_loss: 0.0755 - val_categorical_accuracy: 0.9778\n",
      "Epoch 8/15\n",
      "480/480 [==============================] - 3s 6ms/step - loss: 0.0457 - categorical_accuracy: 0.9854 - val_loss: 0.0785 - val_categorical_accuracy: 0.9787\n",
      "Epoch 9/15\n",
      "480/480 [==============================] - 3s 5ms/step - loss: 0.0428 - categorical_accuracy: 0.9855 - val_loss: 0.0768 - val_categorical_accuracy: 0.9787\n",
      "Epoch 10/15\n",
      "480/480 [==============================] - 3s 6ms/step - loss: 0.0434 - categorical_accuracy: 0.9855 - val_loss: 0.0804 - val_categorical_accuracy: 0.9785\n",
      "Epoch 11/15\n",
      "480/480 [==============================] - 3s 7ms/step - loss: 0.0353 - categorical_accuracy: 0.9880 - val_loss: 0.0726 - val_categorical_accuracy: 0.9797\n",
      "Epoch 12/15\n",
      "480/480 [==============================] - 2s 5ms/step - loss: 0.0321 - categorical_accuracy: 0.9885 - val_loss: 0.0784 - val_categorical_accuracy: 0.9793\n",
      "Epoch 13/15\n",
      "480/480 [==============================] - 2s 5ms/step - loss: 0.0302 - categorical_accuracy: 0.9897 - val_loss: 0.0692 - val_categorical_accuracy: 0.9806\n",
      "Epoch 14/15\n",
      "480/480 [==============================] - 2s 5ms/step - loss: 0.0298 - categorical_accuracy: 0.9894 - val_loss: 0.0808 - val_categorical_accuracy: 0.9787\n",
      "Epoch 15/15\n",
      "480/480 [==============================] - 2s 5ms/step - loss: 0.0258 - categorical_accuracy: 0.9909 - val_loss: 0.0817 - val_categorical_accuracy: 0.9793\n"
     ]
    }
   ],
   "source": [
    "history = model.fit(train_data, train_label, batch_size=100, epochs=15, validation_split=0.2) "
   ]
  },
  {
   "cell_type": "code",
   "execution_count": 7,
   "metadata": {},
   "outputs": [
    {
     "name": "stdout",
     "output_type": "stream",
     "text": [
      "100/100 [==============================] - 0s 2ms/step - loss: 0.0698 - categorical_accuracy: 0.9813\n",
      "loss (cross-entropy) : 0.06981161236763\n",
      "test accuracy : 0.9812999963760376\n"
     ]
    }
   ],
   "source": [
    "result = model.evaluate(test_data, test_label, batch_size=100)\n",
    "\n",
    "print('loss (cross-entropy) :', result[0])\n",
    "print('test accuracy :', result[1])"
   ]
  },
  {
   "cell_type": "markdown",
   "metadata": {},
   "source": [
    "<br> \n",
    "\n",
    "#### 2. Save the trained model"
   ]
  },
  {
   "cell_type": "code",
   "execution_count": 8,
   "metadata": {},
   "outputs": [],
   "source": [
    "# 저장되는 항목 \n",
    "# - Model의 architecture\n",
    "# - Model의 모든 weights (Parameter Theta)\n",
    "# - The state of the optimizer (바로 모델 학습의 재개 가능)\n",
    "\n",
    "model.save('mnist_2layer_bn.h5') # \"Save\" the model\n",
    "\n",
    "# model.save_weights('mnist_2layer_bn.h5') # weights만 따로 저장도 가능함"
   ]
  },
  {
   "cell_type": "markdown",
   "metadata": {},
   "source": [
    "<br> \n",
    "\n",
    "#### 3. Load the saved model "
   ]
  },
  {
   "cell_type": "code",
   "execution_count": 9,
   "metadata": {},
   "outputs": [],
   "source": [
    "from tensorflow.keras import models\n",
    "import numpy as np\n",
    "import matplotlib.pyplot as plt\n",
    "from PIL import Image # pillow\n",
    "import cv2 # opencv-python"
   ]
  },
  {
   "cell_type": "code",
   "execution_count": 10,
   "metadata": {},
   "outputs": [],
   "source": [
    "model = models.load_model('mnist_2layer_bn.h5') # \"Load\" the model\n",
    "\n",
    "# model.load_weights('trained_model.h5') # weights만 따로 불러올 수 있음"
   ]
  },
  {
   "cell_type": "code",
   "execution_count": 11,
   "metadata": {},
   "outputs": [
    {
     "name": "stdout",
     "output_type": "stream",
     "text": [
      "313/313 [==============================] - 1s 1ms/step - loss: 0.0698 - categorical_accuracy: 0.9813\n",
      "loss (cross-entropy) : 0.06981159001588821\n",
      "test accuracy : 0.9812999963760376\n"
     ]
    }
   ],
   "source": [
    "result = model.evaluate(test_data, test_label)\n",
    "\n",
    "print('loss (cross-entropy) :', result[0])\n",
    "print('test accuracy :', result[1])"
   ]
  },
  {
   "cell_type": "code",
   "execution_count": 12,
   "metadata": {},
   "outputs": [
    {
     "name": "stdout",
     "output_type": "stream",
     "text": [
      "(784,)\n",
      "(1, 784)\n"
     ]
    }
   ],
   "source": [
    "sample_one = test_data[0]\n",
    "print(sample_one.shape)\n",
    "\n",
    "sample_one = np.reshape(test_data[0], (1, 28*28))\n",
    "print(sample_one.shape)"
   ]
  },
  {
   "cell_type": "code",
   "execution_count": 13,
   "metadata": {},
   "outputs": [
    {
     "data": {
      "text/plain": [
       "array([[1.3644857e-09, 9.6214869e-11, 3.1766557e-08, 1.0475949e-06,\n",
       "        3.1736710e-11, 6.6590350e-10, 1.9885977e-12, 9.9999881e-01,\n",
       "        4.2537401e-11, 1.3202670e-07]], dtype=float32)"
      ]
     },
     "execution_count": 13,
     "metadata": {},
     "output_type": "execute_result"
    }
   ],
   "source": [
    "model.predict(sample_one)"
   ]
  },
  {
   "cell_type": "code",
   "execution_count": 14,
   "metadata": {},
   "outputs": [
    {
     "data": {
      "text/plain": [
       "7"
      ]
     },
     "execution_count": 14,
     "metadata": {},
     "output_type": "execute_result"
    }
   ],
   "source": [
    "np.argmax(model.predict(sample_one))"
   ]
  },
  {
   "cell_type": "code",
   "execution_count": 15,
   "metadata": {},
   "outputs": [
    {
     "data": {
      "image/png": "[encoded data removed]",
      "text/plain": [
       "<Figure size 360x360 with 1 Axes>"
      ]
     },
     "metadata": {
      "needs_background": "light"
     },
     "output_type": "display_data"
    }
   ],
   "source": [
    "img = np.reshape(test_data[0], (28, 28))\n",
    "\n",
    "plt.figure(figsize=(5, 5)) \n",
    "plt.imshow(img)\n",
    "plt.show()"
   ]
  },
  {
   "cell_type": "markdown",
   "metadata": {},
   "source": [
    "<br> \n",
    "\n",
    "#### 4. Predict on a sample image"
   ]
  },
  {
   "cell_type": "code",
   "execution_count": 16,
   "metadata": {},
   "outputs": [
    {
     "name": "stdout",
     "output_type": "stream",
     "text": [
      "(28, 28)\n"
     ]
    },
    {
     "data": {
      "image/png": "[encoded data removed]",
      "text/plain": [
       "<Figure size 360x360 with 1 Axes>"
      ]
     },
     "metadata": {
      "needs_background": "light"
     },
     "output_type": "display_data"
    }
   ],
   "source": [
    "sample_array = np.array(Image.open(\"sample_num3.jpg\"))\n",
    "print(sample_array.shape)\n",
    "\n",
    "plt.figure(figsize=(5, 5)) \n",
    "plt.imshow(sample_array)\n",
    "plt.show()"
   ]
  },
  {
   "cell_type": "code",
   "execution_count": 17,
   "metadata": {},
   "outputs": [
    {
     "name": "stdout",
     "output_type": "stream",
     "text": [
      "(28, 28)\n",
      "(1, 784)\n"
     ]
    }
   ],
   "source": [
    "sample_one = sample_array\n",
    "print(sample_one.shape)\n",
    "\n",
    "sample_one = np.reshape(sample_array, (1, 28*28))\n",
    "print(sample_one.shape)"
   ]
  },
  {
   "cell_type": "code",
   "execution_count": 18,
   "metadata": {},
   "outputs": [
    {
     "data": {
      "text/plain": [
       "array([[0., 0., 0., 1., 0., 0., 0., 0., 0., 0.]], dtype=float32)"
      ]
     },
     "execution_count": 18,
     "metadata": {},
     "output_type": "execute_result"
    }
   ],
   "source": [
    "model.predict(sample_one)"
   ]
  },
  {
   "cell_type": "code",
   "execution_count": 19,
   "metadata": {},
   "outputs": [
    {
     "data": {
      "text/plain": [
       "3"
      ]
     },
     "execution_count": 19,
     "metadata": {},
     "output_type": "execute_result"
    }
   ],
   "source": [
    "np.argmax(model.predict(sample_one))"
   ]
  },
  {
   "cell_type": "markdown",
   "metadata": {},
   "source": [
    "<br> \n",
    "\n",
    "#### 5. Predict on a sample image - 500 x 500 x 3 (big & 3-channel)"
   ]
  },
  {
   "cell_type": "code",
   "execution_count": 20,
   "metadata": {},
   "outputs": [
    {
     "name": "stdout",
     "output_type": "stream",
     "text": [
      "(500, 500, 3)\n"
     ]
    },
    {
     "data": {
      "image/png": "[encoded data removed]",
      "text/plain": [
       "<Figure size 360x360 with 1 Axes>"
      ]
     },
     "metadata": {
      "needs_background": "light"
     },
     "output_type": "display_data"
    }
   ],
   "source": [
    "sample_array = np.array(Image.open(\"sample_num3_500.jpg\"))\n",
    "print(sample_array.shape)\n",
    "\n",
    "plt.figure(figsize=(5, 5)) \n",
    "plt.imshow(sample_array)\n",
    "plt.show()"
   ]
  },
  {
   "cell_type": "code",
   "execution_count": 21,
   "metadata": {},
   "outputs": [
    {
     "name": "stdout",
     "output_type": "stream",
     "text": [
      "(500, 500, 3)\n",
      "(500, 500)\n",
      "(28, 28)\n",
      "(1, 784)\n"
     ]
    }
   ],
   "source": [
    "image_big_path = \"sample_num3_500.jpg\"\n",
    "img = cv2.imread(image_big_path, 1)\n",
    "print(img.shape)\n",
    "\n",
    "img = cv2.cvtColor(img, cv2.COLOR_BGR2GRAY)\n",
    "print(img.shape)\n",
    "\n",
    "img = cv2.resize(img, (28, 28))\n",
    "print(img.shape)\n",
    "\n",
    "sample_one = np.reshape(img, (1, 28*28))\n",
    "print(sample_one.shape)"
   ]
  },
  {
   "cell_type": "code",
   "execution_count": 22,
   "metadata": {},
   "outputs": [
    {
     "data": {
      "text/plain": [
       "array([[0., 0., 0., 1., 0., 0., 0., 0., 0., 0.]], dtype=float32)"
      ]
     },
     "execution_count": 22,
     "metadata": {},
     "output_type": "execute_result"
    }
   ],
   "source": [
    "model.predict(sample_one)"
   ]
  },
  {
   "cell_type": "code",
   "execution_count": 23,
   "metadata": {},
   "outputs": [
    {
     "data": {
      "text/plain": [
       "3"
      ]
     },
     "execution_count": 23,
     "metadata": {},
     "output_type": "execute_result"
    }
   ],
   "source": [
    "np.argmax(model.predict(sample_one))"
   ]
  },
  {
   "cell_type": "code",
   "execution_count": null,
   "metadata": {},
   "outputs": [],
   "source": []
  }
 ],
 "metadata": {
  "kernel_info": {
   "name": "python3"
  },
  "kernelspec": {
   "display_name": "Python 3",
   "language": "python",
   "name": "python3"
  },
  "language_info": {
   "codemirror_mode": {
    "name": "ipython",
    "version": 3
   },
   "file_extension": ".py",
   "mimetype": "text/x-python",
   "name": "python",
   "nbconvert_exporter": "python",
   "pygments_lexer": "ipython3",
   "version": "3.8.8"
  },
  "nteract": {
   "version": "0.14.3"
  }
 },
 "nbformat": 4,
 "nbformat_minor": 2
}
