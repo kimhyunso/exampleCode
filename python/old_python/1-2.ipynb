{
 "cells": [
  {
   "cell_type": "code",
   "execution_count": 1,
   "id": "d62f1d42",
   "metadata": {},
   "outputs": [
    {
     "name": "stdout",
     "output_type": "stream",
     "text": [
      "elephant\n",
      "ELEPHANT\n"
     ]
    }
   ],
   "source": [
    "animal = \"elephant\"\n",
    "\n",
    "animal_big = animal.upper()\n",
    "print(animal)\n",
    "print(animal_big)"
   ]
  },
  {
   "cell_type": "code",
   "execution_count": 3,
   "id": "8c56265f",
   "metadata": {},
   "outputs": [
    {
     "name": "stdout",
     "output_type": "stream",
     "text": [
      "2\n"
     ]
    }
   ],
   "source": [
    "print(animal.count(\"e\"))"
   ]
  },
  {
   "cell_type": "code",
   "execution_count": 4,
   "id": "e4ce9e3b",
   "metadata": {},
   "outputs": [
    {
     "name": "stdout",
     "output_type": "stream",
     "text": [
      "banana는 yellow입니다.\n"
     ]
    }
   ],
   "source": [
    "fruit =\"banana\"\n",
    "color = \"yellow\"\n",
    "\n",
    "print(\"{}는 {}입니다.\".format(fruit,color))\n"
   ]
  },
  {
   "cell_type": "code",
   "execution_count": 5,
   "id": "a392b05b",
   "metadata": {},
   "outputs": [
    {
     "name": "stdout",
     "output_type": "stream",
     "text": [
      "5\n",
      "3\n"
     ]
    }
   ],
   "source": [
    "n=[3,6,8,6,3,2,4,6]\n",
    "print(n.index(2))\n",
    "print(n.count(6))"
   ]
  },
  {
   "cell_type": "code",
   "execution_count": 7,
   "id": "8be4aa10",
   "metadata": {},
   "outputs": [
    {
     "name": "stdout",
     "output_type": "stream",
     "text": [
      "[1, 2, 3, 4]\n",
      "[4, 3, 2, 1]\n",
      "['라', '다', '나', '가']\n"
     ]
    }
   ],
   "source": [
    "list=[4,3,1,2]\n",
    "list.sort()\n",
    "print(list)\n",
    "list.reverse()\n",
    "print(list)\n",
    "\n",
    "list[:]=[\"가\",\"나\",\"다\",\"라\"]\n",
    "list.reverse()\n",
    "print(list)\n",
    "\n"
   ]
  },
  {
   "cell_type": "code",
   "execution_count": 8,
   "id": "36b2786d",
   "metadata": {},
   "outputs": [
    {
     "name": "stdout",
     "output_type": "stream",
     "text": [
      "노래를 부릅니다. 카서스가 노래하네요. 다죽어라.\n"
     ]
    }
   ],
   "source": [
    "def sing():\n",
    "    print(\"노래를 부릅니다. 카서스가 노래하네요. 다죽어라.\")\n",
    "sing()"
   ]
  },
  {
   "cell_type": "code",
   "execution_count": 9,
   "id": "e9bd0970",
   "metadata": {},
   "outputs": [
    {
     "name": "stdout",
     "output_type": "stream",
     "text": [
      "노래를 부릅니다. 카서스가 노래하네요. 다죽어라.\n"
     ]
    }
   ],
   "source": [
    "sing()"
   ]
  },
  {
   "cell_type": "code",
   "execution_count": 10,
   "id": "0b454a1b",
   "metadata": {},
   "outputs": [
    {
     "name": "stdout",
     "output_type": "stream",
     "text": [
      "홍길동입니다.\n"
     ]
    }
   ],
   "source": [
    "def introduce(name):\n",
    "    print(name+\"입니다.\")\n",
    "introduce(\"홍길동\")"
   ]
  },
  {
   "cell_type": "code",
   "execution_count": 12,
   "id": "c10cf4a7",
   "metadata": {},
   "outputs": [
    {
     "name": "stdout",
     "output_type": "stream",
     "text": [
      "아무개입니다.\n"
     ]
    }
   ],
   "source": [
    "introduce(\"아무개\")"
   ]
  },
  {
   "cell_type": "code",
   "execution_count": 1,
   "id": "78c0b377",
   "metadata": {},
   "outputs": [
    {
     "name": "stdout",
     "output_type": "stream",
     "text": [
      "1655799424.304115\n"
     ]
    }
   ],
   "source": [
    "import time\n",
    "now_time = time.time()\n",
    "print(now_time)"
   ]
  },
  {
   "cell_type": "code",
   "execution_count": 2,
   "id": "30b2a100",
   "metadata": {},
   "outputs": [
    {
     "name": "stdout",
     "output_type": "stream",
     "text": [
      "1655799493.0667098\n"
     ]
    }
   ],
   "source": [
    "from time import time\n",
    "now_time = time()\n",
    "print(now_time)"
   ]
  },
  {
   "cell_type": "code",
   "execution_count": 3,
   "id": "fdb1fb1a",
   "metadata": {},
   "outputs": [
    {
     "name": "stdout",
     "output_type": "stream",
     "text": [
      "6\n"
     ]
    }
   ],
   "source": [
    "vage=\"potato\"\n",
    "print(len(vage))\n",
    "\n"
   ]
  },
  {
   "cell_type": "code",
   "execution_count": 8,
   "id": "81089945",
   "metadata": {},
   "outputs": [
    {
     "name": "stdout",
     "output_type": "stream",
     "text": [
      "[1, 2, 3, 4, 5]\n",
      "[1, 2, 3, 4, 5]\n",
      "[1, 5, 3, 4, 2]\n"
     ]
    }
   ],
   "source": [
    "number=[1,5,3,4,2]\n",
    "number.sort()\n",
    "print(number)\n",
    "number=[1,5,3,4,2]\n",
    "print(sorted(number))\n",
    "print(number)\n"
   ]
  },
  {
   "cell_type": "code",
   "execution_count": 2,
   "id": "81489bb8",
   "metadata": {},
   "outputs": [
    {
     "name": "stdout",
     "output_type": "stream",
     "text": [
      "성은홍이고, 이름은 길동입니다.\n"
     ]
    }
   ],
   "source": [
    "def introduce(first=\"김\", second=\"길동\"):\n",
    "    return \"성은\" + first+\"이고, 이름은 \"+second+\"입니다.\"\n",
    "\n",
    "print(introduce(\"홍\"))"
   ]
  },
  {
   "cell_type": "code",
   "execution_count": 4,
   "id": "4d185f73",
   "metadata": {},
   "outputs": [
    {
     "name": "stdout",
     "output_type": "stream",
     "text": [
      "23.875114784205696\n"
     ]
    }
   ],
   "source": [
    "def bmi(height,weight):\n",
    "    return weight / height**2\n",
    "\n",
    "print(bmi(1.65,65))"
   ]
  },
  {
   "cell_type": "code",
   "execution_count": 5,
   "id": "0ee873d6",
   "metadata": {},
   "outputs": [
    {
     "data": {
      "text/plain": [
       "array([1, 2, 3])"
      ]
     },
     "execution_count": 5,
     "metadata": {},
     "output_type": "execute_result"
    }
   ],
   "source": [
    "import numpy as np\n",
    "np.array([1,2,3])\n"
   ]
  },
  {
   "cell_type": "code",
   "execution_count": 6,
   "id": "74f88011",
   "metadata": {},
   "outputs": [
    {
     "data": {
      "text/plain": [
       "array([0, 1, 2, 3])"
      ]
     },
     "execution_count": 6,
     "metadata": {},
     "output_type": "execute_result"
    }
   ],
   "source": [
    "np.arange(4)"
   ]
  },
  {
   "cell_type": "code",
   "execution_count": 8,
   "id": "f3449b75",
   "metadata": {},
   "outputs": [
    {
     "name": "stdout",
     "output_type": "stream",
     "text": [
      "[2, 4, 6, 8]\n"
     ]
    }
   ],
   "source": [
    "storages = [1,2,3,4]\n",
    "new_storages= []\n",
    "for n in storages:\n",
    "    n += n\n",
    "    new_storages.append(n)\n",
    "print(new_storages)"
   ]
  },
  {
   "cell_type": "code",
   "execution_count": 14,
   "id": "bde81529",
   "metadata": {},
   "outputs": [
    {
     "name": "stdout",
     "output_type": "stream",
     "text": [
      "[2 4 6 8]\n"
     ]
    }
   ],
   "source": [
    "#import numpy as np\n",
    "storages = np.array([1,2,3,4])\n",
    "storages += storages\n",
    "print(storages)"
   ]
  },
  {
   "cell_type": "code",
   "execution_count": 16,
   "id": "67d11c15",
   "metadata": {},
   "outputs": [
    {
     "name": "stdout",
     "output_type": "stream",
     "text": [
      "[0 1 2 3 4 5 6 7 8 9]\n"
     ]
    }
   ],
   "source": [
    "arr = np.arange(10)\n",
    "print(arr)"
   ]
  },
  {
   "cell_type": "code",
   "execution_count": 17,
   "id": "ac977fc1",
   "metadata": {},
   "outputs": [
    {
     "name": "stdout",
     "output_type": "stream",
     "text": [
      "[1 1 1 3 4 5 6 7 8 9]\n"
     ]
    }
   ],
   "source": [
    "arr = np.arange(10)\n",
    "arr[0:3] = 1\n",
    "print(arr)"
   ]
  },
  {
   "cell_type": "code",
   "execution_count": 21,
   "id": "a8550b3c",
   "metadata": {},
   "outputs": [
    {
     "name": "stdout",
     "output_type": "stream",
     "text": [
      "[1 2 3 4 5]\n",
      "[100   2   3   4   5]\n",
      "[1 2 3 4 5]\n",
      "[1 2 3 4 5]\n"
     ]
    }
   ],
   "source": [
    "arr1 = np.array([1,2,3,4,5])\n",
    "print(arr1)\n",
    "\n",
    "arr2 = arr1\n",
    "arr2[0] = 100\n",
    "\n",
    "print(arr1)\n",
    "\n",
    "arr1 = np.array([1,2,3,4,5])\n",
    "print(arr1)\n",
    "\n",
    "arr2 = arr1.copy()\n",
    "arr2[0] = 100\n",
    "\n",
    "print(arr1)\n"
   ]
  },
  {
   "cell_type": "code",
   "execution_count": 26,
   "id": "67016855",
   "metadata": {},
   "outputs": [
    {
     "name": "stdout",
     "output_type": "stream",
     "text": [
      "[2 4 6]\n"
     ]
    }
   ],
   "source": [
    "arr3 = np.array([2, 4, 6, 7])\n",
    "print(arr3[np.array([True,True,True,False])])"
   ]
  },
  {
   "cell_type": "code",
   "execution_count": 30,
   "id": "c6efdc2f",
   "metadata": {},
   "outputs": [
    {
     "name": "stdout",
     "output_type": "stream",
     "text": [
      "[4 7]\n"
     ]
    }
   ],
   "source": [
    "arr = np.array([2,4,6,7])\n",
    "print(arr[arr%3 == 1])"
   ]
  },
  {
   "cell_type": "code",
   "execution_count": 32,
   "id": "d47b7ca5",
   "metadata": {},
   "outputs": [
    {
     "name": "stdout",
     "output_type": "stream",
     "text": [
      "[ 4 -9 16 -4 20]\n",
      "[ 4  9 16  4 20]\n",
      "[5.45981500e+01 8.10308393e+03 8.88611052e+06 5.45981500e+01\n",
      " 4.85165195e+08]\n",
      "[2.         3.         4.         2.         4.47213595]\n"
     ]
    }
   ],
   "source": [
    "arr = np.array([4,-9,16,-4,20])\n",
    "print(arr)\n",
    "\n",
    "arr_abs=np.abs(arr)\n",
    "print(arr_abs)\n",
    "\n",
    "print(np.exp(arr_abs))\n",
    "print(np.sqrt(arr_abs))"
   ]
  },
  {
   "cell_type": "code",
   "execution_count": 36,
   "id": "e8a32ce0",
   "metadata": {},
   "outputs": [
    {
     "name": "stdout",
     "output_type": "stream",
     "text": [
      "[2 4 5 6]\n",
      "[2 4 5 6]\n"
     ]
    }
   ],
   "source": [
    "arr = np.array([2,2,4,5,6,2,4,6])\n",
    "\n",
    "arr1 = np.unique(arr)\n",
    "print(arr1)\n",
    "\n"
   ]
  },
  {
   "cell_type": "code",
   "execution_count": 39,
   "id": "867df0ad",
   "metadata": {},
   "outputs": [
    {
     "name": "stdout",
     "output_type": "stream",
     "text": [
      "[[1 2 3 4]\n",
      " [5 6 7 8]]\n",
      "(2, 4)\n",
      "[[1 2]\n",
      " [3 4]\n",
      " [5 6]\n",
      " [7 8]]\n"
     ]
    }
   ],
   "source": [
    "arr = np.array([[1,2,3,4],[5,6,7,8]])\n",
    "print(arr)\n",
    "\n",
    "print(arr.shape)\n",
    "\n",
    "print(arr.reshape(4, 2))\n",
    "\n",
    "\n"
   ]
  },
  {
   "cell_type": "code",
   "execution_count": 42,
   "id": "c5b99248",
   "metadata": {},
   "outputs": [
    {
     "name": "stdout",
     "output_type": "stream",
     "text": [
      "[4 5 6]\n",
      "[5 6]\n",
      "6\n"
     ]
    }
   ],
   "source": [
    "arr = np.array([[1,2,3],[4,5,6]])\n",
    "print(arr[1])\n",
    "\n",
    "print(arr[1,1:])\n",
    "\n",
    "print(arr[1,2])"
   ]
  },
  {
   "cell_type": "code",
   "execution_count": 44,
   "id": "876f4919",
   "metadata": {},
   "outputs": [
    {
     "name": "stdout",
     "output_type": "stream",
     "text": [
      "21\n",
      "[5 7 9]\n",
      "[ 6 15]\n"
     ]
    }
   ],
   "source": [
    "print(arr.sum())\n",
    "print(arr.sum(axis=0))\n",
    "print(arr.sum(axis=1))"
   ]
  },
  {
   "cell_type": "code",
   "execution_count": 50,
   "id": "d9a5ff73",
   "metadata": {},
   "outputs": [
    {
     "name": "stdout",
     "output_type": "stream",
     "text": [
      "[[0 5]\n",
      " [1 6]\n",
      " [2 7]\n",
      " [3 8]\n",
      " [4 9]]\n"
     ]
    }
   ],
   "source": [
    "arr = np.arange(10).reshape(2,5)\n",
    "\n",
    "print(arr.T)\n"
   ]
  },
  {
   "cell_type": "code",
   "execution_count": 54,
   "id": "788560c6",
   "metadata": {},
   "outputs": [
    {
     "name": "stdout",
     "output_type": "stream",
     "text": [
      "[[2 1 0]\n",
      " [2 0 1]]\n",
      "[[2 4 8]\n",
      " [1 3 5]]\n",
      "[[2 4 8]\n",
      " [1 3 5]]\n"
     ]
    }
   ],
   "source": [
    "arr = np.array([[8,4,2],[3,5,1]])\n",
    "print(arr.argsort())\n",
    "\n",
    "print(np.sort(arr))\n",
    "\n",
    "arr.sort(1)\n",
    "print(arr)\n",
    "    "
   ]
  },
  {
   "cell_type": "code",
   "execution_count": null,
   "id": "782a2050",
   "metadata": {},
   "outputs": [],
   "source": []
  }
 ],
 "metadata": {
  "kernelspec": {
   "display_name": "Python 3 (ipykernel)",
   "language": "python",
   "name": "python3"
  },
  "language_info": {
   "codemirror_mode": {
    "name": "ipython",
    "version": 3
   },
   "file_extension": ".py",
   "mimetype": "text/x-python",
   "name": "python",
   "nbconvert_exporter": "python",
   "pygments_lexer": "ipython3",
   "version": "3.8.13"
  }
 },
 "nbformat": 4,
 "nbformat_minor": 5
}
