{
 "cells": [
  {
   "cell_type": "code",
   "execution_count": 14,
   "id": "ba949dfd",
   "metadata": {},
   "outputs": [
    {
     "name": "stdout",
     "output_type": "stream",
     "text": [
      "0 45\n",
      "24 0\n"
     ]
    }
   ],
   "source": [
    "hour, minute = map(int, input().split())\n",
    "\n",
    "if hour == 0:\n",
    "    hour = 24\n",
    "\n",
    "\n",
    "result = (hour * 3600) + (minute * 60) - (45*60)\n",
    "\n",
    "\n",
    "hour = result // 3600\n",
    "minute = (result % 3600) // 60\n",
    "\n",
    "print(hour , end=' ')\n",
    "print(minute)"
   ]
  },
  {
   "cell_type": "code",
   "execution_count": null,
   "id": "30893274",
   "metadata": {},
   "outputs": [],
   "source": []
  },
  {
   "cell_type": "code",
   "execution_count": null,
   "id": "c31e3bd4",
   "metadata": {},
   "outputs": [],
   "source": []
  }
 ],
 "metadata": {
  "kernelspec": {
   "display_name": "Python 3 (ipykernel)",
   "language": "python",
   "name": "python3"
  },
  "language_info": {
   "codemirror_mode": {
    "name": "ipython",
    "version": 3
   },
   "file_extension": ".py",
   "mimetype": "text/x-python",
   "name": "python",
   "nbconvert_exporter": "python",
   "pygments_lexer": "ipython3",
   "version": "3.8.13"
  }
 },
 "nbformat": 4,
 "nbformat_minor": 5
}
