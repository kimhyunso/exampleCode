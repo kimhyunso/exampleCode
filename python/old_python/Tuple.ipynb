{
 "cells": [
  {
   "cell_type": "code",
   "execution_count": 3,
   "id": "0dcae135",
   "metadata": {},
   "outputs": [
    {
     "name": "stdout",
     "output_type": "stream",
     "text": [
      "(1, 2, 3, 4, 5, 6, 7, 8)\n",
      "4\n",
      "(2, 3, 4)\n"
     ]
    },
    {
     "ename": "TypeError",
     "evalue": "'tuple' object does not support item assignment",
     "output_type": "error",
     "traceback": [
      "\u001b[1;31m---------------------------------------------------------------------------\u001b[0m",
      "\u001b[1;31mTypeError\u001b[0m                                 Traceback (most recent call last)",
      "Input \u001b[1;32mIn [3]\u001b[0m, in \u001b[0;36m<cell line: 12>\u001b[1;34m()\u001b[0m\n\u001b[0;32m      9\u001b[0m \u001b[38;5;66;03m#2번째에서 4번째 원소 출력\u001b[39;00m\n\u001b[0;32m     10\u001b[0m \u001b[38;5;28mprint\u001b[39m(a[\u001b[38;5;241m1\u001b[39m:\u001b[38;5;241m4\u001b[39m])\n\u001b[1;32m---> 12\u001b[0m a[\u001b[38;5;241m2\u001b[39m] \u001b[38;5;241m=\u001b[39m \u001b[38;5;241m7\u001b[39m\n",
      "\u001b[1;31mTypeError\u001b[0m: 'tuple' object does not support item assignment"
     ]
    }
   ],
   "source": [
    "#특정 인덱스의 값을 변경 불가 ()사용\n",
    "#리스트보다 공간 효율적\n",
    "a = (1,2,3,4,5,6,7,8)\n",
    "print(a)\n",
    "\n",
    "#네 번째 원소만 출력\n",
    "print(a[3])\n",
    "\n",
    "#2번째에서 4번째 원소 출력\n",
    "print(a[1:4])\n",
    "\n",
    "#a[2] = 7"
   ]
  },
  {
   "cell_type": "code",
   "execution_count": null,
   "id": "f0aef355",
   "metadata": {},
   "outputs": [],
   "source": [
    "#튜플을 사용하면 좋은 경우\n",
    "#1. 서로다른 성질의 데이터를 묶어서 관리해야할 때\n",
    "#2. 데이터의 나열을 해싱의 키 값으로 사용해야 할 때\n",
    "#3. 리스트보다 메모리를 효율적으로 사용해야 할 때"
   ]
  }
 ],
 "metadata": {
  "kernelspec": {
   "display_name": "Python 3 (ipykernel)",
   "language": "python",
   "name": "python3"
  },
  "language_info": {
   "codemirror_mode": {
    "name": "ipython",
    "version": 3
   },
   "file_extension": ".py",
   "mimetype": "text/x-python",
   "name": "python",
   "nbconvert_exporter": "python",
   "pygments_lexer": "ipython3",
   "version": "3.8.13"
  }
 },
 "nbformat": 4,
 "nbformat_minor": 5
}
