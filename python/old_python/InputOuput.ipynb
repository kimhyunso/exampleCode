{
 "cells": [
  {
   "cell_type": "code",
   "execution_count": 1,
   "id": "7c1794b1",
   "metadata": {},
   "outputs": [
    {
     "name": "stdout",
     "output_type": "stream",
     "text": [
      "5\n",
      "5\n"
     ]
    }
   ],
   "source": [
    "n = int(input())\n",
    "\n",
    "print(n)"
   ]
  },
  {
   "cell_type": "code",
   "execution_count": 4,
   "id": "bb5abd98",
   "metadata": {},
   "outputs": [
    {
     "name": "stdout",
     "output_type": "stream",
     "text": [
      "78 95 34 15 75\n",
      "[78, 95, 34, 15, 75]\n"
     ]
    }
   ],
   "source": [
    "data = list(map(int,input().split()))\n",
    "\n",
    "print(data)"
   ]
  },
  {
   "cell_type": "code",
   "execution_count": 5,
   "id": "7f29f2e3",
   "metadata": {},
   "outputs": [
    {
     "name": "stdout",
     "output_type": "stream",
     "text": [
      "1 2 4\n",
      "1 2 4\n"
     ]
    }
   ],
   "source": [
    "a, b, c  = map(int, input().split())\n",
    "print(a, b, c)"
   ]
  },
  {
   "cell_type": "code",
   "execution_count": 7,
   "id": "9d06b126",
   "metadata": {},
   "outputs": [
    {
     "name": "stdout",
     "output_type": "stream",
     "text": [
      "\n"
     ]
    }
   ],
   "source": [
    "#입력을 최대한 빠르게 받아야하는 경우\n",
    "import sys\n",
    "\n",
    "#문자열 입력받기\n",
    "data = sys.stdin.readline().rstrip()\n",
    "print(data)"
   ]
  },
  {
   "cell_type": "code",
   "execution_count": 9,
   "id": "2e31bbe8",
   "metadata": {},
   "outputs": [
    {
     "name": "stdout",
     "output_type": "stream",
     "text": [
      "1 2\n",
      "7 8 정답은 7입니다. \n"
     ]
    }
   ],
   "source": [
    "#, 이용하여 띄어쓰기로 구분하여 출력\n",
    "#end 속성 : 줄바꿈\n",
    "\n",
    "a=1\n",
    "b=2\n",
    "print(a,b)\n",
    "print(7, end=\" \")\n",
    "print(8, end=\" \")\n",
    "\n",
    "answer = 7\n",
    "print(\"정답은 \" + str(answer) + \"입니다. \")"
   ]
  },
  {
   "cell_type": "code",
   "execution_count": 10,
   "id": "97c35ef2",
   "metadata": {},
   "outputs": [
    {
     "name": "stdout",
     "output_type": "stream",
     "text": [
      "정답은 7 입니다.\n"
     ]
    }
   ],
   "source": [
    "#f-string\n",
    "answer = 7\n",
    "print(f\"정답은 {answer} 입니다.\")"
   ]
  },
  {
   "cell_type": "code",
   "execution_count": null,
   "id": "134e882c",
   "metadata": {},
   "outputs": [],
   "source": []
  }
 ],
 "metadata": {
  "kernelspec": {
   "display_name": "Python 3",
   "language": "python",
   "name": "python3"
  },
  "language_info": {
   "codemirror_mode": {
    "name": "ipython",
    "version": 3
   },
   "file_extension": ".py",
   "mimetype": "text/x-python",
   "name": "python",
   "nbconvert_exporter": "python",
   "pygments_lexer": "ipython3",
   "version": "3.10.9 (tags/v3.10.9:1dd9be6, Dec  6 2022, 20:01:21) [MSC v.1934 64 bit (AMD64)]"
  },
  "vscode": {
   "interpreter": {
    "hash": "4595c56d504348f96af1daee35d79490df37cf87d758d69ee92f17e4f33d37a1"
   }
  }
 },
 "nbformat": 4,
 "nbformat_minor": 5
}
