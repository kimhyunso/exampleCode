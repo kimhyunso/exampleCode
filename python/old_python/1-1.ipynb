{
 "cells": [
  {
   "cell_type": "code",
   "execution_count": 2,
   "id": "c1e047cb",
   "metadata": {},
   "outputs": [
    {
     "name": "stdout",
     "output_type": "stream",
     "text": [
      "8\n"
     ]
    }
   ],
   "source": [
    "print(3+5)"
   ]
  },
  {
   "cell_type": "code",
   "execution_count": 4,
   "id": "683adf31",
   "metadata": {},
   "outputs": [
    {
     "name": "stdout",
     "output_type": "stream",
     "text": [
      "2\n",
      "2\n"
     ]
    }
   ],
   "source": [
    "fruits = [\"apple\",2,\"orange\",4,\"grape\",3,\"banana\",1]\n",
    "print(fruits[1])\n",
    "print(fruits[-7])"
   ]
  },
  {
   "cell_type": "code",
   "execution_count": 7,
   "id": "6faa2280",
   "metadata": {},
   "outputs": [
    {
     "name": "stdout",
     "output_type": "stream",
     "text": [
      "1\n",
      "1\n"
     ]
    }
   ],
   "source": [
    "print(fruits[7])\n",
    "print(fruits[-1])"
   ]
  },
  {
   "cell_type": "code",
   "execution_count": 12,
   "id": "874835f1",
   "metadata": {},
   "outputs": [
    {
     "name": "stdout",
     "output_type": "stream",
     "text": [
      "['b', 'c', 'd', 'e']\n",
      "['b', 'c', 'd', 'e']\n",
      "['a', 'b', 'c', 'd', 'e']\n"
     ]
    }
   ],
   "source": [
    "alphabet = [\"a\",\"b\",\"c\",\"d\",\"e\",\"f\",\"g\",\"h\",\"i\",\"j\"]\n",
    "print(alphabet[1:5])\n",
    "print(alphabet[1:-5])\n",
    "print(alphabet[:-5])"
   ]
  },
  {
   "cell_type": "code",
   "execution_count": 14,
   "id": "6d75e478",
   "metadata": {},
   "outputs": [
    {
     "name": "stdout",
     "output_type": "stream",
     "text": [
      "A\n",
      "['B', 'C']\n"
     ]
    }
   ],
   "source": [
    "alphabet[0]=\"A\"\n",
    "alphabet[1:3]=[\"B\",\"C\"]\n",
    "print(alphabet[0])\n",
    "print(alphabet[1:3])"
   ]
  },
  {
   "cell_type": "code",
   "execution_count": 18,
   "id": "33983310",
   "metadata": {},
   "outputs": [
    {
     "name": "stdout",
     "output_type": "stream",
     "text": [
      "['A', 'B', 'C', 'd', 'e', 'f', 'g', 'h', 'i', 'j', 'f', 'g', 'h', 'i', 'f', 'g', 'h', 'i', 'f', 'g', 'h', 'i', 'f', 'g', 'h', 'i']\n"
     ]
    }
   ],
   "source": [
    "alphabet = alphabet + [\"f\"]\n",
    "alphabet += [\"g\",\"h\"]\n",
    "alphabet.append(\"i\")\n",
    "print(alphabet)\n"
   ]
  },
  {
   "cell_type": "code",
   "execution_count": 21,
   "id": "2e508f03",
   "metadata": {},
   "outputs": [
    {
     "name": "stdout",
     "output_type": "stream",
     "text": [
      "['blue', 'red', 'blue']\n"
     ]
    }
   ],
   "source": [
    "c=[\"dog\",\"red\",\"blue\"]\n",
    "c[0] = \"blue\"\n",
    "print(c)"
   ]
  },
  {
   "cell_type": "code",
   "execution_count": 23,
   "id": "45fdd60e",
   "metadata": {},
   "outputs": [
    {
     "name": "stdout",
     "output_type": "stream",
     "text": [
      "{'Japan': 'Tokyo', 'Korea': 'Seoul'}\n"
     ]
    }
   ],
   "source": [
    "dic = {\"Japan\":\"Tokyo\",\"Korea\":\"Seoul\"}\n",
    "print(dic)"
   ]
  },
  {
   "cell_type": "code",
   "execution_count": 27,
   "id": "c724a518",
   "metadata": {},
   "outputs": [
    {
     "name": "stdout",
     "output_type": "stream",
     "text": [
      "city : Japan\n",
      "city : Korea\n",
      "capital : Tokyo\n",
      "capital : Seoul\n"
     ]
    }
   ],
   "source": [
    "for city, capital in dic.items():\n",
    "    print(\"city : \"+city)\n",
    "    \n",
    "for city, capital in dic.items():\n",
    "    print(\"capital : \"+capital)"
   ]
  }
 ],
 "metadata": {
  "kernelspec": {
   "display_name": "Python 3 (ipykernel)",
   "language": "python",
   "name": "python3"
  },
  "language_info": {
   "codemirror_mode": {
    "name": "ipython",
    "version": 3
   },
   "file_extension": ".py",
   "mimetype": "text/x-python",
   "name": "python",
   "nbconvert_exporter": "python",
   "pygments_lexer": "ipython3",
   "version": "3.8.13"
  }
 },
 "nbformat": 4,
 "nbformat_minor": 5
}
