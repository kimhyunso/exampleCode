{
 "cells": [
  {
   "cell_type": "code",
   "execution_count": 5,
   "id": "95beb989",
   "metadata": {},
   "outputs": [
    {
     "name": "stdout",
     "output_type": "stream",
     "text": [
      "   apple  orange  banana\n",
      "1     45      65      68\n",
      "2     48      68      10\n",
      "\n",
      "   apple  orange  banana\n",
      "1     38      76      17\n",
      "2     13       6       2\n",
      "3     73      80      77\n",
      "4     10      65      72\n",
      "\n",
      "   apple  orange  banana\n",
      "1     45      65      68\n",
      "2     48      68      10\n",
      "1     38      76      17\n",
      "2     13       6       2\n",
      "3     73      80      77\n",
      "4     10      65      72\n",
      "\n",
      "   apple  orange  banana  apple  orange  banana\n",
      "1   45.0    65.0    68.0     38      76      17\n",
      "2   48.0    68.0    10.0     13       6       2\n",
      "3    NaN     NaN     NaN     73      80      77\n",
      "4    NaN     NaN     NaN     10      65      72\n"
     ]
    }
   ],
   "source": [
    "import numpy as np\n",
    "import pandas as pd\n",
    "\n",
    "def make_random_df(index, columns, seed):\n",
    "    np.random.seed(seed)\n",
    "    df = pd.DataFrame()\n",
    "    for column in columns:\n",
    "        df[column] = np.random.choice(range(1,101),len(index))\n",
    "    df.index = index\n",
    "    return df\n",
    "\n",
    "columns = [\"apple\",\"orange\",\"banana\"]\n",
    "df_data1 = make_random_df(range(1,3),columns,0)\n",
    "df_data2 = make_random_df(range(1,5),columns,1)\n",
    "\n",
    "print(df_data1)\n",
    "print()\n",
    "print(df_data2)\n",
    "print()\n",
    "\n",
    "df1 = pd.concat([df_data1, df_data2],axis=0)\n",
    "df2 = pd.concat([df_data1, df_data2],axis=1)\n",
    "\n",
    "print(df1)\n",
    "print()\n",
    "print(df2)\n",
    "\n"
   ]
  },
  {
   "cell_type": "code",
   "execution_count": 6,
   "id": "0c5a157d",
   "metadata": {},
   "outputs": [
    {
     "name": "stdout",
     "output_type": "stream",
     "text": [
      "   apple  orange  banana\n",
      "1     45      68      37\n",
      "2     48      10      88\n",
      "3     65      84      71\n",
      "4     68      22      89\n",
      "\n",
      "   orange  kiwi  banana\n",
      "1      38    76      17\n",
      "3      13     6       2\n",
      "5      73    80      77\n",
      "7      10    65      72\n",
      "\n",
      "   apple  orange  banana  kiwi\n",
      "1   45.0      68      37   NaN\n",
      "2   48.0      10      88   NaN\n",
      "3   65.0      84      71   NaN\n",
      "4   68.0      22      89   NaN\n",
      "1    NaN      38      17  76.0\n",
      "3    NaN      13       2   6.0\n",
      "5    NaN      73      77  80.0\n",
      "7    NaN      10      72  65.0\n",
      "\n",
      "   apple  orange  banana  orange  kiwi  banana\n",
      "1   45.0    68.0    37.0    38.0  76.0    17.0\n",
      "2   48.0    10.0    88.0     NaN   NaN     NaN\n",
      "3   65.0    84.0    71.0    13.0   6.0     2.0\n",
      "4   68.0    22.0    89.0     NaN   NaN     NaN\n",
      "5    NaN     NaN     NaN    73.0  80.0    77.0\n",
      "7    NaN     NaN     NaN    10.0  65.0    72.0\n"
     ]
    }
   ],
   "source": [
    "columns1 = [\"apple\",\"orange\",\"banana\"]\n",
    "columns2 = [\"orange\",\"kiwi\",\"banana\"]\n",
    "\n",
    "df_data1 = make_random_df(range(1,5),columns1,0)\n",
    "df_data2 = make_random_df(np.arange(1,8,2),columns2,1)\n",
    "\n",
    "print(df_data1)\n",
    "print()\n",
    "print(df_data2)\n",
    "print()\n",
    "\n",
    "df1 = pd.concat([df_data1,df_data2], axis=0)\n",
    "df2 = pd.concat([df_data1, df_data2], axis=1)\n",
    "\n",
    "print(df1)\n",
    "print()\n",
    "print(df2)\n",
    "\n"
   ]
  },
  {
   "cell_type": "code",
   "execution_count": 7,
   "id": "0357a17d",
   "metadata": {},
   "outputs": [
    {
     "name": "stdout",
     "output_type": "stream",
     "text": [
      "      X                   Y              \n",
      "  apple orange banana apple orange banana\n",
      "1    45     68     37    38     76     17\n",
      "2    48     10     88    13      6      2\n",
      "3    65     84     71    73     80     77\n",
      "4    68     22     89    10     65     72\n",
      "\n",
      "1    17\n",
      "2     2\n",
      "3    77\n",
      "4    72\n",
      "Name: (Y, banana), dtype: int32\n"
     ]
    }
   ],
   "source": [
    "columns = [\"apple\",\"orange\",\"banana\"]\n",
    "df_data1 = make_random_df(range(1,5),columns,0)\n",
    "df_data2 = make_random_df(range(1,5),columns,1)\n",
    "\n",
    "df = pd.concat([df_data1,df_data2],axis=1,keys=[\"X\",\"Y\"])\n",
    "Y_banana = df[\"Y\",\"banana\"]\n",
    "\n",
    "print(df)\n",
    "print()\n",
    "print(Y_banana)\n",
    "\n"
   ]
  },
  {
   "cell_type": "code",
   "execution_count": 16,
   "id": "0c5e04b3",
   "metadata": {},
   "outputs": [
    {
     "name": "stdout",
     "output_type": "stream",
     "text": [
      "       fruits  year  price\n",
      "0       apple  2001    150\n",
      "1      orange  2002    120\n",
      "2      banana  2001    100\n",
      "3  strawberry  2008   2510\n",
      "4        kiwi  2007   3000\n",
      "\n",
      "       fruits  year  price\n",
      "0       apple  2001    150\n",
      "1      orange  2002    120\n",
      "2      banana  2001    100\n",
      "3  strawberry  2008   2510\n",
      "4       mango  2007   3000\n",
      "\n",
      "       fruits  year_x  price_x  year_y  price_y\n",
      "0       apple    2001      150    2001      150\n",
      "1      orange    2002      120    2002      120\n",
      "2      banana    2001      100    2001      100\n",
      "3  strawberry    2008     2510    2008     2510\n"
     ]
    }
   ],
   "source": [
    "data1 = {\"fruits\":[\"apple\",\"orange\",\"banana\",\"strawberry\",\"kiwi\"],\n",
    "        \"year\":[2001,2002,2001,2008,2007],\n",
    "        \"price\":[150,120,100,2510,3000]}\n",
    "\n",
    "df1 = pd.DataFrame(data1)\n",
    "\n",
    "data2 = {\"fruits\":[\"apple\",\"orange\",\"banana\",\"strawberry\",\"mango\"],\n",
    "        \"year\":[2001,2002,2001,2008,2007],\n",
    "        \"price\":[150,120,100,2510,3000]}\n",
    "df2 = pd.DataFrame(data2)\n",
    "\n",
    "print(df1)\n",
    "print()\n",
    "print(df2)\n",
    "print()\n",
    "\n",
    "df3 = pd.merge(df1, df2, on=\"fruits\", how=\"inner\")\n",
    "print(df3)\n",
    "\n",
    "\n",
    "\n"
   ]
  },
  {
   "cell_type": "code",
   "execution_count": 23,
   "id": "56940a2a",
   "metadata": {},
   "outputs": [
    {
     "name": "stdout",
     "output_type": "stream",
     "text": [
      "   id_x  item_id  customer_id  id_y    name\n",
      "0  1000     2546          103   103    Kato\n",
      "1  1001     4352          101   101  Tanaka\n",
      "2  1002      342          101   101  Tanaka\n"
     ]
    }
   ],
   "source": [
    "order_df = pd.DataFrame([[1000,2546,103],\n",
    "                         [1001,4352,101],\n",
    "                         [1002,342,101]],\n",
    "                         columns=[\"id\",\"item_id\",\"customer_id\"])\n",
    "\n",
    "customer_df = pd.DataFrame([[101,\"Tanaka\"],\n",
    "                            [102,\"Suzuki\"],\n",
    "                            [103,\"Kato\"]],\n",
    "                           columns=[\"id\",\"name\"])\n",
    "\n",
    "order_df = pd.merge(order_df, customer_df, left_on=\"customer_id\",right_on=\"id\", how=\"inner\")\n",
    "\n",
    "print(order_df)"
   ]
  },
  {
   "cell_type": "code",
   "execution_count": 24,
   "id": "d2cf35fd",
   "metadata": {},
   "outputs": [
    {
     "name": "stdout",
     "output_type": "stream",
     "text": [
      "   id_x  item_id  customer_id  id_y  name_x   id  name_y\n",
      "0  1000     2546          103   103    Kato  103    Kato\n",
      "1  1001     4352          101   101  Tanaka  101  Tanaka\n",
      "2  1002      342          101   101  Tanaka  101  Tanaka\n"
     ]
    }
   ],
   "source": [
    "customer_df.index = [101,102,103]\n",
    "order_df = pd.merge(order_df, customer_df,left_on=\"customer_id\",right_index=True, how=\"inner\")\n",
    "print(order_df)"
   ]
  },
  {
   "cell_type": "code",
   "execution_count": 33,
   "id": "29562008",
   "metadata": {},
   "outputs": [
    {
     "name": "stdout",
     "output_type": "stream",
     "text": [
      "   apple  orange  banana  strawberry  kiwi\n",
      "1      6       8       6           3    10\n",
      "2      1       7      10           4    10\n",
      "3      4       9       9           9     1\n",
      "    apple  orange  banana  strawberry  kiwi\n",
      "8       6       8       4           8     8\n",
      "9       3       9       6           1     3\n",
      "10      5       2       1           2     1\n"
     ]
    }
   ],
   "source": [
    "np.random.seed(0)\n",
    "columns = [\"apple\",\"orange\",\"banana\",\"strawberry\",\"kiwi\"]\n",
    "\n",
    "df = pd.DataFrame()\n",
    "for column in columns:\n",
    "    df[column] = np.random.choice(range(1,11),10)\n",
    "df.index = range(1, 11)\n",
    "\n",
    "df_head = df.head(3)\n",
    "df_tail = df.tail(3)\n",
    "\n",
    "print(df_head)\n",
    "print(df_tail)\n"
   ]
  },
  {
   "cell_type": "code",
   "execution_count": 34,
   "id": "d2773e84",
   "metadata": {},
   "outputs": [
    {
     "name": "stdout",
     "output_type": "stream",
     "text": [
      "  Prefecture  Area  Population Region\n",
      "0      Tokyo  2190       13636  Kanto\n",
      "1   Kanagawa  2415        9145  Kanto\n",
      "2      Osaka  1904        8837  Kinki\n",
      "3      Kyoto  4610        2605  Kinki\n",
      "4      Aichi  5172        7505  Chubu\n",
      "\n",
      "<pandas.core.groupby.generic.DataFrameGroupBy object at 0x00000162B2579B20>\n"
     ]
    }
   ],
   "source": [
    "prefecture_df = pd.DataFrame([[\"Tokyo\",2190,13636,\"Kanto\"],\n",
    "                             [\"Kanagawa\",2415,9145,\"Kanto\"],\n",
    "                             [\"Osaka\",1904,8837,\"Kinki\"],\n",
    "                             [\"Kyoto\",4610,2605,\"Kinki\"],\n",
    "                             [\"Aichi\",5172,7505,\"Chubu\"]],\n",
    "                            columns=[\"Prefecture\",\"Area\",\"Population\",\"Region\"])\n",
    "print(prefecture_df)\n",
    "print()\n",
    "\n",
    "grouped_region = prefecture_df.groupby(\"Region\")\n",
    "\n",
    "mean_df = grouped_region.mean()\n",
    "\n",
    "print(mean_df)"
   ]
  },
  {
   "cell_type": "code",
   "execution_count": null,
   "id": "70289feb",
   "metadata": {},
   "outputs": [],
   "source": []
  }
 ],
 "metadata": {
  "kernelspec": {
   "display_name": "Python 3 (ipykernel)",
   "language": "python",
   "name": "python3"
  },
  "language_info": {
   "codemirror_mode": {
    "name": "ipython",
    "version": 3
   },
   "file_extension": ".py",
   "mimetype": "text/x-python",
   "name": "python",
   "nbconvert_exporter": "python",
   "pygments_lexer": "ipython3",
   "version": "3.8.13"
  }
 },
 "nbformat": 4,
 "nbformat_minor": 5
}
