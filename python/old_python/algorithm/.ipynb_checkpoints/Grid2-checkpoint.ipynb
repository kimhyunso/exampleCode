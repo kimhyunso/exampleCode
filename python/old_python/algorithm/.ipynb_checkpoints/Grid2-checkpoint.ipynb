{
 "cells": [
  {
   "cell_type": "code",
   "execution_count": 6,
   "id": "43591bec",
   "metadata": {},
   "outputs": [
    {
     "name": "stdout",
     "output_type": "stream",
     "text": [
      "5 8 3\n",
      "2 4 5 4 6\n",
      "46\n"
     ]
    }
   ],
   "source": [
    "n,m,k = map(int, input().split())\n",
    "data = list(map(int,input().split()))\n",
    "\n",
    "data.sort()\n",
    "first = data[n-1] #첫번째로 가장 큰 수\n",
    "second = data[n-2] #두번째로 가장 큰 수\n",
    "\n",
    "result = 0\n",
    "\n",
    "while True:\n",
    "    for i in range(k):\n",
    "        if m==0:\n",
    "            break;\n",
    "        result += first;\n",
    "        m -=1;\n",
    "    if m==0:\n",
    "        break\n",
    "    result += second\n",
    "    m -=1;\n",
    "        \n",
    "print(result)\n"
   ]
  },
  {
   "cell_type": "code",
   "execution_count": 8,
   "id": "107b30cb",
   "metadata": {},
   "outputs": [
    {
     "name": "stdout",
     "output_type": "stream",
     "text": [
      "5 8 3\n",
      "2 4 5 4 6\n",
      "33\n"
     ]
    }
   ],
   "source": [
    "n,m,k = map(int, input().split())\n",
    "data = list(map(int, input().split()))\n",
    "\n",
    "data.sort()\n",
    "first = data[n-1]\n",
    "second = data[n-2]\n",
    "\n",
    "count = int(m/(k+1)) * k\n",
    "count += m % (k+1)\n",
    "\n",
    "result = 0\n",
    "result += (count) * first\n",
    "result += (m-count) * second\n",
    "\n",
    "print(result)\n"
   ]
  },
  {
   "cell_type": "code",
   "execution_count": null,
   "id": "018c93dd",
   "metadata": {},
   "outputs": [],
   "source": []
  }
 ],
 "metadata": {
  "kernelspec": {
   "display_name": "Python 3 (ipykernel)",
   "language": "python",
   "name": "python3"
  },
  "language_info": {
   "codemirror_mode": {
    "name": "ipython",
    "version": 3
   },
   "file_extension": ".py",
   "mimetype": "text/x-python",
   "name": "python",
   "nbconvert_exporter": "python",
   "pygments_lexer": "ipython3",
   "version": "3.8.13"
  }
 },
 "nbformat": 4,
 "nbformat_minor": 5
}
