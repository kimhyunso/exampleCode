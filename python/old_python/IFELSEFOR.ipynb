{
 "cells": [
  {
   "cell_type": "code",
   "execution_count": 1,
   "id": "5835cb25",
   "metadata": {},
   "outputs": [
    {
     "name": "stdout",
     "output_type": "stream",
     "text": [
      "x >= 10\n",
      "x >= 0\n"
     ]
    }
   ],
   "source": [
    "x = 15\n",
    "\n",
    "if x >= 10:\n",
    "    print(\"x >= 10\")\n",
    "\n",
    "if x >= 0:\n",
    "    print(\"x >= 0\")\n",
    "\n",
    "if x>=30:\n",
    "    print(\"x >= 30\")"
   ]
  },
  {
   "cell_type": "code",
   "execution_count": 2,
   "id": "078760a5",
   "metadata": {},
   "outputs": [
    {
     "name": "stdout",
     "output_type": "stream",
     "text": [
      "성적이 70점 이상입니다.\n"
     ]
    }
   ],
   "source": [
    "score = 85\n",
    "\n",
    "if score >= 70:\n",
    "    print(\"성적이 70점 이상입니다.\")\n",
    "    if score >= 90:\n",
    "        print(\"우수한 성적입니다.\")\n",
    "else:\n",
    "    print(\"성적이 70점 미만입니다.\")\n",
    "    print(\"분발하세요\")"
   ]
  },
  {
   "cell_type": "code",
   "execution_count": 3,
   "id": "27e100c5",
   "metadata": {},
   "outputs": [
    {
     "name": "stdout",
     "output_type": "stream",
     "text": [
      "a >= 0\n"
     ]
    }
   ],
   "source": [
    "a = 5\n",
    "\n",
    "if a>= 0:\n",
    "    print(\"a >= 0\")\n",
    "elif a>=-10:\n",
    "    print(\"0 > a >= -10\")\n",
    "else:\n",
    "    print(\"-10 > a\")"
   ]
  },
  {
   "cell_type": "code",
   "execution_count": 4,
   "id": "06ca53fa",
   "metadata": {},
   "outputs": [
    {
     "name": "stdout",
     "output_type": "stream",
     "text": [
      "학점 : B\n"
     ]
    }
   ],
   "source": [
    "score = 85\n",
    "\n",
    "if score >= 90:\n",
    "    print(\"학점 : A\")\n",
    "elif score >=80:\n",
    "    print(\"학점 : B\")\n",
    "elif score >= 70 :\n",
    "    print(\"학점 : C\")\n",
    "else:\n",
    "    print(\"학점 : D\")\n",
    "    "
   ]
  },
  {
   "cell_type": "code",
   "execution_count": null,
   "id": "e2e3459d",
   "metadata": {},
   "outputs": [],
   "source": [
    "#비교 연산자 : ==, !=, >, <. >=, <=\n"
   ]
  }
 ],
 "metadata": {
  "kernelspec": {
   "display_name": "Python 3 (ipykernel)",
   "language": "python",
   "name": "python3"
  },
  "language_info": {
   "codemirror_mode": {
    "name": "ipython",
    "version": 3
   },
   "file_extension": ".py",
   "mimetype": "text/x-python",
   "name": "python",
   "nbconvert_exporter": "python",
   "pygments_lexer": "ipython3",
   "version": "3.8.13"
  }
 },
 "nbformat": 4,
 "nbformat_minor": 5
}
