{
 "cells": [
  {
   "cell_type": "code",
   "execution_count": null,
   "id": "f1d69204",
   "metadata": {},
   "outputs": [],
   "source": [
    "h, m = map(int, input().split())\n",
    "c = int(input())\n",
    "if h == 0:\n",
    "    h = 24\n",
    "    \n",
    "    \n",
    "h = h+((m+c)//60)\n",
    "print(h)\n",
    "\n",
    "if h > 24:\n",
    "    h = h//24\n",
    "elif h == 24:\n",
    "    h = 0\n",
    "\n",
    "\n",
    "if (m+c) % 60 == 0:\n",
    "    m = 0\n",
    "else:\n",
    "    m = (m+c) % 60\n",
    "\n",
    "print(h, end=' ')\n",
    "print(m)\n",
    "    "
   ]
  },
  {
   "cell_type": "code",
   "execution_count": null,
   "id": "7e557fac",
   "metadata": {},
   "outputs": [],
   "source": [
    "h, m = map(int, input().split())\n",
    "c = int(input())\n",
    "if h == 0:\n",
    "    h = 24\n",
    "    \n",
    "    \n",
    "h = h+((m+c)//60)\n",
    "print(h)\n",
    "\n",
    "if h > 24:\n",
    "    h = h//24\n",
    "elif h == 24:\n",
    "    h = 0\n",
    "\n",
    "\n",
    "if (m+c) % 60 == 0:\n",
    "    m = 0\n",
    "else:\n",
    "    m = (m+c) % 60\n",
    "\n",
    "print(h, end=' ')\n",
    "print(m)\n",
    "    "
   ]
  }
 ],
 "metadata": {
  "kernelspec": {
   "display_name": "Python 3 (ipykernel)",
   "language": "python",
   "name": "python3"
  },
  "language_info": {
   "codemirror_mode": {
    "name": "ipython",
    "version": 3
   },
   "file_extension": ".py",
   "mimetype": "text/x-python",
   "name": "python",
   "nbconvert_exporter": "python",
   "pygments_lexer": "ipython3",
   "version": "3.8.13"
  }
 },
 "nbformat": 4,
 "nbformat_minor": 5
}
