{
 "cells": [
  {
   "cell_type": "code",
   "execution_count": 1,
   "id": "ef17bd52",
   "metadata": {},
   "outputs": [
    {
     "name": "stdout",
     "output_type": "stream",
     "text": [
      "1000\n"
     ]
    }
   ],
   "source": [
    "#양의 정수\n",
    "a = 1000\n",
    "print(a)"
   ]
  },
  {
   "cell_type": "code",
   "execution_count": 2,
   "id": "3bb719a8",
   "metadata": {},
   "outputs": [
    {
     "name": "stdout",
     "output_type": "stream",
     "text": [
      "-7\n"
     ]
    }
   ],
   "source": [
    "#음의 정수\n",
    "a = -7\n",
    "print(a)"
   ]
  },
  {
   "cell_type": "code",
   "execution_count": 3,
   "id": "4a6a02bc",
   "metadata": {},
   "outputs": [
    {
     "name": "stdout",
     "output_type": "stream",
     "text": [
      "0\n"
     ]
    }
   ],
   "source": [
    "#0\n",
    "a = 0\n",
    "print(a)"
   ]
  },
  {
   "cell_type": "code",
   "execution_count": 4,
   "id": "f0c20cee",
   "metadata": {},
   "outputs": [
    {
     "name": "stdout",
     "output_type": "stream",
     "text": [
      "157.93\n"
     ]
    }
   ],
   "source": [
    "#양의 실수\n",
    "a = 157.93\n",
    "print(a)"
   ]
  },
  {
   "cell_type": "code",
   "execution_count": 5,
   "id": "5d03a0eb",
   "metadata": {},
   "outputs": [
    {
     "name": "stdout",
     "output_type": "stream",
     "text": [
      "-157.98\n"
     ]
    }
   ],
   "source": [
    "#음의 실수\n",
    "a = -157.98\n",
    "print(a)"
   ]
  },
  {
   "cell_type": "code",
   "execution_count": 6,
   "id": "6722cf68",
   "metadata": {},
   "outputs": [
    {
     "name": "stdout",
     "output_type": "stream",
     "text": [
      "5.0\n"
     ]
    }
   ],
   "source": [
    "#소수부가 0일 때 생략가능\n",
    "a = 5.\n",
    "print(a)"
   ]
  },
  {
   "cell_type": "code",
   "execution_count": 7,
   "id": "46326592",
   "metadata": {},
   "outputs": [
    {
     "name": "stdout",
     "output_type": "stream",
     "text": [
      "0.7\n"
     ]
    }
   ],
   "source": [
    "#정수부가 0일 때 생략가능\n",
    "a = .7\n",
    "print(a)"
   ]
  },
  {
   "cell_type": "code",
   "execution_count": 8,
   "id": "38088a87",
   "metadata": {},
   "outputs": [
    {
     "name": "stdout",
     "output_type": "stream",
     "text": [
      "1000000000.0\n"
     ]
    }
   ],
   "source": [
    "# 1000000000의 지수 표현 방식\n",
    "a = 1e9\n",
    "print(a)"
   ]
  },
  {
   "cell_type": "code",
   "execution_count": 9,
   "id": "bf7037c0",
   "metadata": {},
   "outputs": [
    {
     "name": "stdout",
     "output_type": "stream",
     "text": [
      "752.5\n"
     ]
    }
   ],
   "source": [
    "a = 75.25e1\n",
    "print(a)"
   ]
  },
  {
   "cell_type": "code",
   "execution_count": 10,
   "id": "cb5f8ce2",
   "metadata": {},
   "outputs": [
    {
     "name": "stdout",
     "output_type": "stream",
     "text": [
      "3.954\n"
     ]
    }
   ],
   "source": [
    "a = 3954e-3\n",
    "print(a)"
   ]
  },
  {
   "cell_type": "code",
   "execution_count": 12,
   "id": "b02f9b11",
   "metadata": {},
   "outputs": [
    {
     "name": "stdout",
     "output_type": "stream",
     "text": [
      "0.8999999999999999\n",
      "틀립니다\n"
     ]
    }
   ],
   "source": [
    "#무하한 0.9에 거의 근접하게 나옴\n",
    "a = 0.3 + 0.6\n",
    "print(a)\n",
    "if a == 0.9:\n",
    "    print(\"맞습니다\")\n",
    "else:\n",
    "    print(\"틀립니다\")"
   ]
  },
  {
   "cell_type": "code",
   "execution_count": 14,
   "id": "70646ae4",
   "metadata": {},
   "outputs": [
    {
     "name": "stdout",
     "output_type": "stream",
     "text": [
      "0.9\n",
      "맞습니다\n"
     ]
    }
   ],
   "source": [
    "#round함수 사용\n",
    "a = 0.3+0.6\n",
    "print(round(a,2))\n",
    "\n",
    "if round(a,2) == 0.9 :\n",
    "    print(\"맞습니다\")\n",
    "else:\n",
    "    print(\"틀립니다\")\n"
   ]
  },
  {
   "cell_type": "code",
   "execution_count": 16,
   "id": "012d4fda",
   "metadata": {},
   "outputs": [
    {
     "name": "stdout",
     "output_type": "stream",
     "text": [
      "0.42857142857142855\n",
      "3\n",
      "0\n",
      "125\n",
      "2.23606797749979\n"
     ]
    }
   ],
   "source": [
    "#!중요사칙연산\n",
    "a = 3\n",
    "b = 7\n",
    "\n",
    "#나누기 :실수형으로 나옴\n",
    "print(a / b)\n",
    "\n",
    "#나머지 연산자\n",
    "print(a % b)\n",
    "\n",
    "#몫 연산자\n",
    "print(a // b)\n",
    "\n",
    "a = 5\n",
    "b = 3\n",
    "\n",
    "#거듭제곱\n",
    "print(a ** b)\n",
    "\n",
    "#제곱근\n",
    "print(a ** 0.5)\n"
   ]
  },
  {
   "cell_type": "code",
   "execution_count": null,
   "id": "ef32036e",
   "metadata": {},
   "outputs": [],
   "source": []
  }
 ],
 "metadata": {
  "kernelspec": {
   "display_name": "Python 3 (ipykernel)",
   "language": "python",
   "name": "python3"
  },
  "language_info": {
   "codemirror_mode": {
    "name": "ipython",
    "version": 3
   },
   "file_extension": ".py",
   "mimetype": "text/x-python",
   "name": "python",
   "nbconvert_exporter": "python",
   "pygments_lexer": "ipython3",
   "version": "3.8.13"
  }
 },
 "nbformat": 4,
 "nbformat_minor": 5
}
