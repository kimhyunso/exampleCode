{
 "cells": [
  {
   "cell_type": "code",
   "execution_count": 2,
   "id": "9476c529",
   "metadata": {},
   "outputs": [
    {
     "name": "stdout",
     "output_type": "stream",
     "text": [
      "[1, 2, 3, 4, 5, 6]\n",
      "4\n",
      "[0, 0, 0, 0, 0, 0, 0, 0, 0, 0]\n"
     ]
    }
   ],
   "source": [
    "#직접초기화\n",
    "a = [1,2,3,4,5,6]\n",
    "print(a)\n",
    "\n",
    "#리스트 4번째 원소에 접근 : n-1\n",
    "print(a[3])\n",
    "\n",
    "#크기가 N, 모든 값이 0\n",
    "n = 10\n",
    "a = [0] * n\n",
    "print(a)"
   ]
  },
  {
   "cell_type": "code",
   "execution_count": 3,
   "id": "56ed8f0d",
   "metadata": {},
   "outputs": [
    {
     "name": "stdout",
     "output_type": "stream",
     "text": [
      "8\n",
      "8\n",
      "6\n",
      "[1, 2, 3, 7, 5, 6, 7, 8]\n"
     ]
    }
   ],
   "source": [
    "a = [1,2,3,4,5,6,7,8]\n",
    "\n",
    "#여덟 번째 원소만 출력\n",
    "print(a[7])\n",
    "\n",
    "#뒤에서 첫 번째 원소 출력\n",
    "print(a[-1])\n",
    "\n",
    "#뒤에서 세 번째 원소 출력\n",
    "print(a[-3])\n",
    "\n",
    "#네 번째 원소 값 변경\n",
    "a[3] = 7\n",
    "print(a)"
   ]
  },
  {
   "cell_type": "code",
   "execution_count": 4,
   "id": "6dfb73ce",
   "metadata": {},
   "outputs": [
    {
     "name": "stdout",
     "output_type": "stream",
     "text": [
      "[2, 3, 4]\n"
     ]
    }
   ],
   "source": [
    "#리스트 슬라이싱 : 끝 인덱스는 실제 인덱스보다 1크게 설정\n",
    "a = [1,2,3,4,5,6,7,8,9]\n",
    "\n",
    "#두번째 원소부터 네번째원소까지 가져오기\n",
    "print(a[1:4])"
   ]
  },
  {
   "cell_type": "code",
   "execution_count": 13,
   "id": "0aef56a0",
   "metadata": {},
   "outputs": [
    {
     "name": "stdout",
     "output_type": "stream",
     "text": [
      "[1, 2, 3, 4, 5, 6, 7, 8, 9]\n",
      "[1, 3, 5, 7, 9, 11, 13, 15, 17, 19]\n",
      "[1, 4, 9, 16, 25, 36, 49, 64, 81]\n"
     ]
    }
   ],
   "source": [
    "#리스트컴프리헨션\n",
    "#1~9까지 리스트 초기화\n",
    "array = [i for i in range(1, 10)]\n",
    "print(array)\n",
    "\n",
    "#0부터 19까지의 수 중 홀수만 리스트에 포함\n",
    "array = [i for i in range(20) if not i%2 == 0]\n",
    "print(array)\n",
    "\n",
    "#1부터 9까지 수들의 제곱값 리스트\n",
    "array = [i * i for i in range(1,10)] \n",
    "print(array)"
   ]
  },
  {
   "cell_type": "code",
   "execution_count": 33,
   "id": "384b2d6b",
   "metadata": {},
   "outputs": [
    {
     "name": "stdout",
     "output_type": "stream",
     "text": [
      "0 0 0 \n",
      "0 0 0 \n",
      "0 0 0 \n",
      "0 0 0 \n",
      "\n",
      "0 0 0 \n",
      "0 5 0 \n",
      "0 0 0 \n",
      "0 0 0 \n"
     ]
    }
   ],
   "source": [
    "#리스트컴프리헨션\n",
    "#2차원 배열 초기화\n",
    "n = 4\n",
    "m = 3\n",
    "array= [[0] * m for _ in range(n)]\n",
    "\n",
    "\n",
    "\n",
    "\n",
    "for i in range(len(array)):\n",
    "    for j in range(len(array[0])):\n",
    "        print(array[i][j], end=' ')\n",
    "    print()\n",
    "\n",
    "array[1][1] = 5\n",
    "print()\n",
    "\n",
    "for i in range(len(array)):\n",
    "    for j in range(len(array[0])):\n",
    "        print(array[i][j], end=' ')\n",
    "    print()\n",
    "\n"
   ]
  },
  {
   "cell_type": "code",
   "execution_count": 34,
   "id": "79424884",
   "metadata": {},
   "outputs": [
    {
     "name": "stdout",
     "output_type": "stream",
     "text": [
      "0 0 0 \n",
      "0 0 0 \n",
      "0 0 0 \n",
      "0 0 0 \n",
      "\n",
      "0 5 0 \n",
      "0 5 0 \n",
      "0 5 0 \n",
      "0 5 0 \n"
     ]
    }
   ],
   "source": [
    "#리스트컴프리헨션\n",
    "#2차원 배열 초기화\n",
    "n = 4\n",
    "m = 3\n",
    "array= [[0] * m ] * n\n",
    "\n",
    "\n",
    "\n",
    "\n",
    "for i in range(len(array)):\n",
    "    for j in range(len(array[0])):\n",
    "        print(array[i][j], end=' ')\n",
    "    print()\n",
    "\n",
    "array[1][1] = 5\n",
    "print()\n",
    "\n",
    "for i in range(len(array)):\n",
    "    for j in range(len(array[0])):\n",
    "        print(array[i][j], end=' ')\n",
    "    print()"
   ]
  },
  {
   "cell_type": "code",
   "execution_count": 37,
   "id": "6340ed8e",
   "metadata": {},
   "outputs": [
    {
     "name": "stdout",
     "output_type": "stream",
     "text": [
      "45\n",
      "Hello world\n",
      "Hello world\n",
      "Hello world\n",
      "Hello world\n",
      "Hello world\n"
     ]
    }
   ],
   "source": [
    "#반복을 수행하되 반복을 위한 변수의 값을 무시하고자 할때 언더바(_)를 사용한다\n",
    "#1~9까지 자연수 더하기\n",
    "result = 0\n",
    "for i in range(1,10):\n",
    "    result += i\n",
    "print(result)\n",
    "\n",
    "#Hello World 5번 출력하기\n",
    "for _ in range(5):\n",
    "    print(\"Hello world\")"
   ]
  },
  {
   "cell_type": "code",
   "execution_count": 46,
   "id": "5fa13031",
   "metadata": {},
   "outputs": [
    {
     "name": "stdout",
     "output_type": "stream",
     "text": [
      "[1, 4, 5]\n",
      "[1, 4, 5, 3]\n",
      "[1, 3, 4, 5]\n",
      "[5, 4, 3, 1]\n",
      "[1, 2, 3, 4]\n",
      "[1, 2, 3, 3, 4]\n",
      "2\n",
      "[1, 2, 3, 4]\n",
      "[1, 2, 4]\n"
     ]
    }
   ],
   "source": [
    "#리스트 메소드\n",
    "a = [1,4,5]\n",
    "print(a)\n",
    "\n",
    "#리스트 맨뒤에 삽입\n",
    "a.append(3)\n",
    "print(a)\n",
    "\n",
    "#오름차순 정렬\n",
    "a.sort()\n",
    "print(a)\n",
    "\n",
    "#내림차순 정렬\n",
    "a.sort(reverse=True)\n",
    "print(a)\n",
    "\n",
    "a = [4,3,2,1]\n",
    "\n",
    "#리스트 원소 뒤집기\n",
    "a.reverse()\n",
    "print(a)\n",
    "\n",
    "#특정 인덱스에 데이터 추가\n",
    "a.insert(2,3)\n",
    "print(a)\n",
    "\n",
    "#특정 값의 데이터 갯수 세기\n",
    "print(a.count(3))\n",
    "\n",
    "#특정 값 데이터 삭제 : 하나의 원소만 삭제함\n",
    "a.remove(3)\n",
    "print(a)\n",
    "\n",
    "#똑같은 값을 가지는 원소 제거하기\n",
    "a = [1,2,3,4,5,5,5]\n",
    "remove_set = {3,5}\n",
    "result = [i for i in a if i not in remove_set]\n",
    "print(result)"
   ]
  },
  {
   "cell_type": "code",
   "execution_count": null,
   "id": "9a45f797",
   "metadata": {},
   "outputs": [],
   "source": []
  }
 ],
 "metadata": {
  "kernelspec": {
   "display_name": "Python 3 (ipykernel)",
   "language": "python",
   "name": "python3"
  },
  "language_info": {
   "codemirror_mode": {
    "name": "ipython",
    "version": 3
   },
   "file_extension": ".py",
   "mimetype": "text/x-python",
   "name": "python",
   "nbconvert_exporter": "python",
   "pygments_lexer": "ipython3",
   "version": "3.8.13"
  }
 },
 "nbformat": 4,
 "nbformat_minor": 5
}
