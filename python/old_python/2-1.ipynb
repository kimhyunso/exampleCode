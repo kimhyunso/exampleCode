{
 "cells": [
  {
   "cell_type": "code",
   "execution_count": 1,
   "id": "28d1097a",
   "metadata": {},
   "outputs": [
    {
     "name": "stdout",
     "output_type": "stream",
     "text": [
      "banana    3\n",
      "orange    2\n",
      "dtype: int64\n"
     ]
    }
   ],
   "source": [
    "import pandas as pd\n",
    "fruits ={\"banana\":3,\"orange\":2}\n",
    "print(pd.Series(fruits))\n"
   ]
  },
  {
   "cell_type": "code",
   "execution_count": 5,
   "id": "22c1e2e4",
   "metadata": {},
   "outputs": [
    {
     "name": "stdout",
     "output_type": "stream",
     "text": [
      "banana    3\n",
      "orange    4\n",
      "dtype: int64\n",
      "orange    4\n",
      "grape     1\n",
      "peach     5\n",
      "dtype: int64\n"
     ]
    }
   ],
   "source": [
    "fruits = {\"banana\":3, \"orange\":4, \"grape\":1, \"peach\":5}\n",
    "series = pd.Series(fruits)\n",
    "print(series[0:2])\n",
    "print(series[\"orange\":\"peach\"])"
   ]
  },
  {
   "cell_type": "code",
   "execution_count": 6,
   "id": "2e323eb3",
   "metadata": {},
   "outputs": [
    {
     "name": "stdout",
     "output_type": "stream",
     "text": [
      "[10  5  8 12  3]\n",
      "Index(['apple', 'orange', 'banana', 'strawberry', 'kiwifruit'], dtype='object')\n"
     ]
    }
   ],
   "source": [
    "index = [\"apple\",\"orange\",\"banana\",\"strawberry\",\"kiwifruit\"]\n",
    "data = [10,5,8,12,3]\n",
    "\n",
    "series = pd.Series(data, index=index)\n",
    "\n",
    "series_value = series.values\n",
    "\n",
    "series_index = series.index\n",
    "\n",
    "print(series_value)\n",
    "print(series_index)"
   ]
  },
  {
   "cell_type": "code",
   "execution_count": 7,
   "id": "e7c37af4",
   "metadata": {},
   "outputs": [
    {
     "name": "stdout",
     "output_type": "stream",
     "text": [
      "apple         10\n",
      "orange         5\n",
      "banana         8\n",
      "strawberry    12\n",
      "kiwifruit      3\n",
      "pineapple     12\n",
      "dtype: int64\n"
     ]
    },
    {
     "name": "stderr",
     "output_type": "stream",
     "text": [
      "C:\\Users\\나\\AppData\\Local\\Temp\\ipykernel_47240\\3284255168.py:1: FutureWarning: The series.append method is deprecated and will be removed from pandas in a future version. Use pandas.concat instead.\n",
      "  series = series.append(pd.Series({\"pineapple\":12}))\n"
     ]
    }
   ],
   "source": [
    "series = series.append(pd.Series({\"pineapple\":12}))\n",
    "print(series)"
   ]
  },
  {
   "cell_type": "code",
   "execution_count": 8,
   "id": "78dc8cd9",
   "metadata": {},
   "outputs": [
    {
     "name": "stdout",
     "output_type": "stream",
     "text": [
      "apple        10\n",
      "orange        5\n",
      "banana        8\n",
      "kiwifruit     3\n",
      "pineapple    12\n",
      "dtype: int64\n"
     ]
    }
   ],
   "source": [
    "series = series.drop(\"strawberry\")\n",
    "print(series)"
   ]
  },
  {
   "cell_type": "code",
   "execution_count": 9,
   "id": "b1f7dd7b",
   "metadata": {},
   "outputs": [
    {
     "name": "stdout",
     "output_type": "stream",
     "text": [
      "apple     10\n",
      "orange     5\n",
      "dtype: int64\n"
     ]
    }
   ],
   "source": [
    "conditions = [True, True, False, False, False]\n",
    "print(series[conditions])"
   ]
  },
  {
   "cell_type": "code",
   "execution_count": 11,
   "id": "ec373fb0",
   "metadata": {},
   "outputs": [
    {
     "name": "stdout",
     "output_type": "stream",
     "text": [
      "apple        10\n",
      "banana        8\n",
      "kiwifruit     3\n",
      "orange        5\n",
      "pineapple    12\n",
      "dtype: int64\n",
      "kiwifruit     3\n",
      "orange        5\n",
      "banana        8\n",
      "apple        10\n",
      "pineapple    12\n",
      "dtype: int64\n"
     ]
    }
   ],
   "source": [
    "item1 = series.sort_index()\n",
    "item2 = series.sort_values()\n",
    "\n",
    "print(item1)\n",
    "print(item2)"
   ]
  },
  {
   "cell_type": "code",
   "execution_count": 12,
   "id": "b080e72b",
   "metadata": {},
   "outputs": [
    {
     "name": "stdout",
     "output_type": "stream",
     "text": [
      "       fruits  year  time\n",
      "0       apple  2001     1\n",
      "1      orange  2002     4\n",
      "2      banana  2001     5\n",
      "3  strawberry  2008     6\n",
      "4   kiwifruit  2006     3\n"
     ]
    }
   ],
   "source": [
    "data = {\"fruits\":[\"apple\",\"orange\",\"banana\",\"strawberry\",\"kiwifruit\"],\n",
    "       \"year\":[2001,2002,2001,2008,2006],\n",
    "       \"time\":[1,4,5,6,3]}\n",
    "df = pd.DataFrame(data)\n",
    "print(df)"
   ]
  },
  {
   "cell_type": "code",
   "execution_count": 13,
   "id": "cd043015",
   "metadata": {},
   "outputs": [
    {
     "name": "stdout",
     "output_type": "stream",
     "text": [
      "   apple  orange  banana  strawberry  kiwifruit\n",
      "0     10       5       8          12          3\n",
      "1     30      25      12          10          8\n"
     ]
    }
   ],
   "source": [
    "index = [\"apple\",\"orange\",\"banana\",\"strawberry\",\"kiwifruit\"]\n",
    "data1 = [10,5,8,12,3]\n",
    "data2 = [30,25,12,10,8]\n",
    "series1 = pd.Series(data1, index=index)\n",
    "series2 = pd.Series(data2, index=index)\n",
    "\n",
    "df = pd.DataFrame([series1, series2])\n",
    "print(df)"
   ]
  },
  {
   "cell_type": "code",
   "execution_count": 15,
   "id": "ae0efa27",
   "metadata": {},
   "outputs": [
    {
     "name": "stdout",
     "output_type": "stream",
     "text": [
      "       fruits  year  time\n",
      "0       apple  2001     1\n",
      "1      orange  2002     4\n",
      "2      banana  2001     5\n",
      "3  strawberry  2008     6\n",
      "4   kiwifruit  2006     3\n",
      "5       mango  2008     7\n"
     ]
    },
    {
     "name": "stderr",
     "output_type": "stream",
     "text": [
      "C:\\Users\\나\\AppData\\Local\\Temp\\ipykernel_47240\\1467580988.py:7: FutureWarning: The frame.append method is deprecated and will be removed from pandas in a future version. Use pandas.concat instead.\n",
      "  df = df.append(series, ignore_index=True)\n"
     ]
    }
   ],
   "source": [
    "data = {\"fruits\":[\"apple\",\"orange\",\"banana\",\"strawberry\",\"kiwifruit\"],\n",
    "       \"year\":[2001,2002,2001,2008,2006],\n",
    "       \"time\":[1,4,5,6,3]}\n",
    "df = pd.DataFrame(data)\n",
    "\n",
    "series = pd.Series([\"mango\",2008,7],index=[\"fruits\",\"year\",\"time\"])\n",
    "df = df.append(series, ignore_index=True)\n",
    "print(df)"
   ]
  },
  {
   "cell_type": "code",
   "execution_count": 17,
   "id": "4f293224",
   "metadata": {},
   "outputs": [
    {
     "name": "stdout",
     "output_type": "stream",
     "text": [
      "   apple  orange  banana  strawberry  kiwifruit  pineapple\n",
      "0     10       5       8          12          3        NaN\n",
      "1     10       5       8          12          3        NaN\n",
      "2     10       5       8          12          3        NaN\n",
      "3     10       5       8          12          3        NaN\n",
      "4     10       5       8          12          3        NaN\n",
      "5     30      12      10           8         25        3.0\n"
     ]
    },
    {
     "name": "stderr",
     "output_type": "stream",
     "text": [
      "C:\\Users\\나\\AppData\\Local\\Temp\\ipykernel_47240\\883352716.py:12: FutureWarning: The frame.append method is deprecated and will be removed from pandas in a future version. Use pandas.concat instead.\n",
      "  df = df.append(series3, ignore_index=True)\n"
     ]
    }
   ],
   "source": [
    "index = [\"apple\",\"orange\",\"banana\",\"strawberry\",\"kiwifruit\"]\n",
    "data1 = [10,5,8,12,3]\n",
    "data2 = [30,25,12,10,8]\n",
    "data3 = [30, 12, 10,8,25,3]\n",
    "series1 = pd.Series(data1, index=index)\n",
    "series2 = pd.Series(data2, index=index)\n",
    "\n",
    "index.append(\"pineapple\")\n",
    "series3 = pd.Series(data3, index=index)\n",
    "df = pd.DataFrame([series1],[series2])\n",
    "\n",
    "df = df.append(series3, ignore_index=True)\n",
    "print(df)\n"
   ]
  },
  {
   "cell_type": "code",
   "execution_count": 19,
   "id": "ac51b002",
   "metadata": {},
   "outputs": [
    {
     "name": "stdout",
     "output_type": "stream",
     "text": [
      "   apple  orange  banana  strawberry  kiwifruit  pineapple  mango\n",
      "0     10       5       8          12          3        NaN   15.0\n",
      "1     10       5       8          12          3        NaN    7.0\n",
      "2     10       5       8          12          3        NaN    NaN\n",
      "3     10       5       8          12          3        NaN    NaN\n",
      "4     10       5       8          12          3        NaN    NaN\n",
      "5     30      12      10           8         25        3.0    NaN\n"
     ]
    }
   ],
   "source": [
    "new_column = pd.Series([15,7],index=[0,1])\n",
    "\n",
    "df[\"mango\"] = new_column\n",
    "print(df)"
   ]
  },
  {
   "cell_type": "code",
   "execution_count": 21,
   "id": "26818285",
   "metadata": {},
   "outputs": [
    {
     "name": "stdout",
     "output_type": "stream",
     "text": [
      "       fruits  year  time\n",
      "0       apple  2001     1\n",
      "1      orange  2002     4\n",
      "2      banana  2001     5\n",
      "3  strawberry  2008     6\n",
      "4   kiwifruit  2006     3\n",
      "   time  year\n",
      "1     4  2002\n",
      "2     5  2001\n"
     ]
    }
   ],
   "source": [
    "data = {\"fruits\":[\"apple\",\"orange\",\"banana\",\"strawberry\",\"kiwifruit\"],\n",
    "       \"year\":[2001,2002,2001,2008,2006],\n",
    "       \"time\":[1,4,5,6,3]}\n",
    "df = pd.DataFrame(data)\n",
    "\n",
    "print(df)\n",
    "\n",
    "df = df.loc[[1,2],[\"time\",\"year\"]]\n",
    "print(df)"
   ]
  },
  {
   "cell_type": "code",
   "execution_count": 24,
   "id": "dbab5bed",
   "metadata": {},
   "outputs": [
    {
     "name": "stdout",
     "output_type": "stream",
     "text": [
      "       fruits  year  time\n",
      "0       apple  2001     1\n",
      "1      orange  2002     4\n",
      "2      banana  2001     5\n",
      "3  strawberry  2008     6\n",
      "4   kiwifruit  2006     3\n",
      "       fruits  time\n",
      "1      orange     4\n",
      "3  strawberry     6\n"
     ]
    }
   ],
   "source": [
    "data = {\"fruits\":[\"apple\",\"orange\",\"banana\",\"strawberry\",\"kiwifruit\"],\n",
    "       \"year\":[2001,2002,2001,2008,2006],\n",
    "       \"time\":[1,4,5,6,3]}\n",
    "df = pd.DataFrame(data)\n",
    "\n",
    "print(df)\n",
    "\n",
    "df = df.iloc[[1,3],[0,2]]\n",
    "print(df)\n"
   ]
  },
  {
   "cell_type": "code",
   "execution_count": 27,
   "id": "13eec8a0",
   "metadata": {},
   "outputs": [
    {
     "name": "stdout",
     "output_type": "stream",
     "text": [
      "       fruits  year  time\n",
      "0       apple  2001     1\n",
      "1      orange  2002     4\n",
      "2      banana  2001     5\n",
      "3  strawberry  2008     6\n",
      "4   kiwifruit  2006     3\n",
      "\n",
      "       fruits  year  time\n",
      "2      banana  2001     5\n",
      "3  strawberry  2008     6\n",
      "4   kiwifruit  2006     3\n",
      "\n",
      "       fruits  time\n",
      "0       apple     1\n",
      "1      orange     4\n",
      "2      banana     5\n",
      "3  strawberry     6\n",
      "4   kiwifruit     3\n",
      "\n"
     ]
    }
   ],
   "source": [
    "data = {\"fruits\":[\"apple\",\"orange\",\"banana\",\"strawberry\",\"kiwifruit\"],\n",
    "       \"year\":[2001,2002,2001,2008,2006],\n",
    "       \"time\":[1,4,5,6,3]}\n",
    "df = pd.DataFrame(data)\n",
    "\n",
    "print(df)\n",
    "print()\n",
    "\n",
    "df_1 = df.drop(range(0,2))\n",
    "\n",
    "print(df_1)\n",
    "print()\n",
    "\n",
    "df_2 = df.drop(\"year\",axis=1)\n",
    "print(df_2)\n",
    "print()\n",
    "\n"
   ]
  },
  {
   "cell_type": "code",
   "execution_count": 28,
   "id": "a3bca4b1",
   "metadata": {},
   "outputs": [
    {
     "name": "stdout",
     "output_type": "stream",
     "text": [
      "       fruits  year  time\n",
      "0       apple  2001     1\n",
      "1      orange  2002     4\n",
      "2      banana  2001     5\n",
      "3  strawberry  2008     6\n",
      "4   kiwifruit  2006     3\n",
      "\n",
      "       fruits  year  time\n",
      "0       apple  2001     1\n",
      "2      banana  2001     5\n",
      "1      orange  2002     4\n",
      "4   kiwifruit  2006     3\n",
      "3  strawberry  2008     6\n",
      "\n",
      "       fruits  year  time\n",
      "0       apple  2001     1\n",
      "4   kiwifruit  2006     3\n",
      "1      orange  2002     4\n",
      "2      banana  2001     5\n",
      "3  strawberry  2008     6\n"
     ]
    }
   ],
   "source": [
    "data = {\"fruits\":[\"apple\",\"orange\",\"banana\",\"strawberry\",\"kiwifruit\"],\n",
    "       \"year\":[2001,2002,2001,2008,2006],\n",
    "       \"time\":[1,4,5,6,3]}\n",
    "df = pd.DataFrame(data)\n",
    "\n",
    "print(df)\n",
    "print()\n",
    "\n",
    "df = df.sort_values(by=\"year\", ascending=True)\n",
    "print(df)\n",
    "print()\n",
    "\n",
    "df= df.sort_values(by=[\"time\",\"year\"],ascending=True)\n",
    "print(df)\n",
    "\n"
   ]
  },
  {
   "cell_type": "code",
   "execution_count": 29,
   "id": "662080db",
   "metadata": {},
   "outputs": [
    {
     "name": "stdout",
     "output_type": "stream",
     "text": [
      "       fruits  year  time\n",
      "0       apple  2001     1\n",
      "1      orange  2002     4\n",
      "2      banana  2001     5\n",
      "3  strawberry  2008     6\n",
      "4   kiwifruit  2006     3\n",
      "\n",
      "[ True False  True False  True]\n",
      "\n",
      "      fruits  year  time\n",
      "0      apple  2001     1\n",
      "2     banana  2001     5\n",
      "4  kiwifruit  2006     3\n"
     ]
    }
   ],
   "source": [
    "data = {\"fruits\":[\"apple\",\"orange\",\"banana\",\"strawberry\",\"kiwifruit\"],\n",
    "       \"year\":[2001,2002,2001,2008,2006],\n",
    "       \"time\":[1,4,5,6,3]}\n",
    "df = pd.DataFrame(data)\n",
    "\n",
    "print(df)\n",
    "print()\n",
    "\n",
    "print(df.index %2 == 0)\n",
    "print()\n",
    "print(df[df.index%2 == 0])\n",
    "\n"
   ]
  },
  {
   "cell_type": "code",
   "execution_count": 30,
   "id": "eae46f23",
   "metadata": {},
   "outputs": [
    {
     "name": "stdout",
     "output_type": "stream",
     "text": [
      "orange    5\n",
      "banana    8\n",
      "dtype: int64\n"
     ]
    }
   ],
   "source": [
    "index = [\"apple\",\"orange\",\"banana\",\"strawbverry\",\"kiwi\"]\n",
    "data = [10,5,8,12,3]\n",
    "series = pd.Series(data,index=index)\n",
    "#5이상 10미만 데이터 추출\n",
    "series = series[series>= 5 ][series<10]\n",
    "print(series)"
   ]
  },
  {
   "cell_type": "code",
   "execution_count": null,
   "id": "c6bf8c60",
   "metadata": {},
   "outputs": [],
   "source": []
  }
 ],
 "metadata": {
  "kernelspec": {
   "display_name": "Python 3 (ipykernel)",
   "language": "python",
   "name": "python3"
  },
  "language_info": {
   "codemirror_mode": {
    "name": "ipython",
    "version": 3
   },
   "file_extension": ".py",
   "mimetype": "text/x-python",
   "name": "python",
   "nbconvert_exporter": "python",
   "pygments_lexer": "ipython3",
   "version": "3.8.13"
  }
 },
 "nbformat": 4,
 "nbformat_minor": 5
}
