{
 "cells": [
  {
   "cell_type": "code",
   "execution_count": 26,
   "id": "e8ca589d",
   "metadata": {},
   "outputs": [
    {
     "name": "stdout",
     "output_type": "stream",
     "text": [
      "1036\n",
      "1037\n",
      "1038\n",
      "1039\n",
      "1040\n",
      "1041\n",
      "1042\n",
      "1043\n",
      "1044\n",
      "1045\n",
      "1046\n"
     ]
    }
   ],
   "source": [
    "import requests as r\n",
    "\n",
    "\n",
    "\n",
    "url = 'https://www.dhlottery.co.kr/common.do?method=getLottoNumber&drwNo=1046'\n",
    "\n",
    "data = r.get(url).json()\n",
    "\n",
    "\n",
    "result = 0\n",
    "for no in range(1046-10, 1047):\n",
    "    url = f'https://www.dhlottery.co.kr/common.do?method=getLottoNumber&drwNo={no}'\n",
    "    data = r.get(url).json()\n",
    "    result += data['totSellamnt']\n",
    "\n",
    "\n",
    "\n",
    "\n"
   ]
  },
  {
   "cell_type": "code",
   "execution_count": null,
   "id": "88583efa",
   "metadata": {},
   "outputs": [],
   "source": []
  }
 ],
 "metadata": {
  "kernelspec": {
   "display_name": "Python 3 (ipykernel)",
   "language": "python",
   "name": "python3"
  },
  "language_info": {
   "codemirror_mode": {
    "name": "ipython",
    "version": 3
   },
   "file_extension": ".py",
   "mimetype": "text/x-python",
   "name": "python",
   "nbconvert_exporter": "python",
   "pygments_lexer": "ipython3",
   "version": "3.10.9"
  }
 },
 "nbformat": 4,
 "nbformat_minor": 5
}
