{
 "cells": [
  {
   "cell_type": "markdown",
   "metadata": {},
   "source": [
    "## 모음 제거하기\n",
    "\n",
    "> 다음 문장의 모음을 제거한 새로운 문자열을 출력하세요.\n",
    "\n",
    "---\n",
    "\n",
    "\n",
    "**[입력 예시]**\n",
    "\n",
    "`'Life is too short, you need python'`\n",
    "\n",
    "**[출력 예시]**\n",
    "\n",
    "`Lf s t shrt, y nd pythn`"
   ]
  },
  {
   "cell_type": "code",
   "execution_count": 4,
   "metadata": {},
   "outputs": [],
   "source": [
    "my_str = 'Life is too short, you need python'\n",
    "# 아래에 코드를 작성하세요."
   ]
  },
  {
   "cell_type": "code",
   "execution_count": 66,
   "metadata": {
    "scrolled": true
   },
   "outputs": [
    {
     "name": "stdout",
     "output_type": "stream",
     "text": [
      "Lf s t shrt, y nd pythn\n"
     ]
    }
   ],
   "source": [
    "remove_code = ['i','o','u','e','a']\n",
    "result = ''\n",
    "for my in my_str:\n",
    "    if my not in remove_code:\n",
    "        result += my\n",
    "    \n",
    "print(result)"
   ]
  },
  {
   "cell_type": "code",
   "execution_count": 60,
   "metadata": {},
   "outputs": [
    {
     "name": "stdout",
     "output_type": "stream",
     "text": [
      "Lf s t shrt, y nd pythn\n"
     ]
    }
   ],
   "source": [
    "new_str = ''\n",
    "# my_str 내부의 알파벳들을 순회하며 for로 돌면서,\n",
    "\n",
    "# 각각이 모음인지 아닌지 확인하고 알파벳이 aeiou 중에 하나인지 => aeiou 중에 확인할 글자가 있는지 => in,\n",
    "# 자음일 경우에만, new_str에 쌓아 나가겠다 => aeiou가 아니라면, new_str에 쌓아나가겠다..\n",
    "\n",
    "for char in my_str:\n",
    "    if char not in 'aeiou' : #모음 체크\n",
    "        new_str += char\n",
    "#     else: #자음\n",
    "#         new_str += char\n",
    "\n",
    "print(new_str)"
   ]
  },
  {
   "cell_type": "markdown",
   "metadata": {},
   "source": [
    "## 과일 개수 골라내기\n",
    "\n",
    "> 내 장바구니에 과일이 몇 개인지, 과일이 아닌 것은 몇개인지 출력하세요.\n",
    ">\n",
    "> 장바구니에 담긴 과일과, 과일 판별 리스트는 다음과 같습니다.\n",
    "> ```python\n",
    "> basket_items = {'apples': 4, 'oranges': 19, 'kites': 3, 'sandwiches': 8}\n",
    "> fruits = ['apples', 'oranges', 'pears', 'peaches', 'grapes', 'bananas']\n",
    "> ```\n",
    "\n",
    "---\n",
    "\n",
    "**[출력 예시]**\n",
    "\n",
    "과일은 23개이고, 11개는 과일이 아닙니다."
   ]
  },
  {
   "cell_type": "code",
   "execution_count": 11,
   "metadata": {},
   "outputs": [],
   "source": [
    "basket_items = {'apples': 4, 'oranges': 19, 'kites': 3, 'sandwiches': 8}\n",
    "fruits = ['apples', 'oranges', 'pears', 'peaches', 'grapes', 'bananas']\n",
    "\n",
    "# 아래에 코드를 작성하세요."
   ]
  },
  {
   "cell_type": "code",
   "execution_count": 17,
   "metadata": {},
   "outputs": [
    {
     "name": "stdout",
     "output_type": "stream",
     "text": [
      "과일은 23개이고, 11개는 과일이 아닙니다.\n"
     ]
    }
   ],
   "source": [
    "fruit_count = 0\n",
    "not_fruit_count = 0\n",
    "for key in basket_items:\n",
    "    if key in fruits:\n",
    "        fruit_count += basket_items[key]\n",
    "    else:\n",
    "        not_fruit_count += basket_items[key]\n",
    "\n",
    "print(f'과일은 {fruit_count}개이고, {not_fruit_count}개는 과일이 아닙니다.')"
   ]
  },
  {
   "cell_type": "markdown",
   "metadata": {},
   "source": [
    "## 영어 이름 출력하기 \n",
    "\n",
    "> 영어 이름은 가운데 이름을 가지고 있는 경우가 있습니다.\n",
    ">\n",
    "> 가운데 이름은 대문자로 축약해서 나타내는 코드를 작성하세요.\n",
    "\n",
    "---\n",
    "**[입력 예시]**\n",
    "\n",
    "Alice Betty Catherine Davis\n",
    "\n",
    "**[출력 예시]**\n",
    "\n",
    "Alice B. C. Davis"
   ]
  },
  {
   "cell_type": "code",
   "execution_count": 5,
   "metadata": {},
   "outputs": [],
   "source": [
    "name = 'Alice Betty Catherine Davis'\n",
    "names = name.split()\n",
    "\n",
    "# 아래에 코드를 작성하세요."
   ]
  },
  {
   "cell_type": "code",
   "execution_count": 95,
   "metadata": {},
   "outputs": [
    {
     "data": {
      "text/plain": [
       "'Alice B. C. Davis'"
      ]
     },
     "execution_count": 95,
     "metadata": {},
     "output_type": "execute_result"
    }
   ],
   "source": [
    "# name = 'Alice Betty Catherine Davis'\n",
    "# names = name.split()\n",
    "# len_names = len(names) - 1\n",
    "# new_name = ''\n",
    "\n",
    "# i = 0\n",
    "# new_name += names[0] + ' '\n",
    "# for name in names:\n",
    "#     if len(names) != 2:\n",
    "#         if i != 0 and i != len_names:\n",
    "#             new_name += names[i][0] + '. '\n",
    "#         i += 1\n",
    "# new_name += names[-1]\n",
    "\n",
    "# new_name"
   ]
  },
  {
   "cell_type": "code",
   "execution_count": null,
   "metadata": {},
   "outputs": [],
   "source": [
    "# 최민정\n",
    "name = 'Alice Betty Catherine Davis'\n",
    "names = name.split()\n",
    "\n",
    "short_name = ''\n",
    "\n",
    "for idx in range(len(names)):\n",
    "    if names[idx] in names[1: len(names)-1]:\n",
    "        short_name += names[idx][0] + '. '\n",
    "    else:\n",
    "        short_name += names[idx] + ' '\n",
    "print(short_name)"
   ]
  },
  {
   "cell_type": "code",
   "execution_count": null,
   "metadata": {},
   "outputs": [],
   "source": [
    "# 유진\n",
    "name = 'Benicio Monserrate Rafael Del Toro Sanchez'\n",
    "names = name.split()\n",
    "idx_lastname = len(names) - 1  # 이름이 몇 덩어리인지 확인하기위해 마지막 덩어리의 인덱스 얻기\n",
    "new_name = ''\n",
    "i = 0\n",
    "\n",
    "new_name += names[0] + ' '  # first name을 new_name에 넣어라\n",
    "\n",
    "## 미들네임 개수 확인하고 앞글자만 따서 출력하기\n",
    "for name in names:\n",
    "    if i != 0 and i != idx_lastname:  # 이름 덩어리 중 first name과 last name이 아니면, 즉 미들네임이 있으면\n",
    "        new_name += name[0] + '. '  # 해당 이름의 인덱스 중 첫번째 글자에 .을 붙여 new_name에 붙여라\n",
    "    i += 1  # 다음 이름 덩어리가 있나 체크하기 위함\n",
    "\n",
    "new_name += names[idx_lastname]  # last name을 new_name에 붙여라\n",
    "print(new_name)"
   ]
  },
  {
   "cell_type": "code",
   "execution_count": 6,
   "metadata": {
    "scrolled": true
   },
   "outputs": [
    {
     "name": "stdout",
     "output_type": "stream",
     "text": [
      "Alice Betty C. D. testest asdadsad aaaaa \n"
     ]
    }
   ],
   "source": [
    "div_number = len(names)//2\n",
    "new_str = ''\n",
    "\n",
    "for idx in range(len(names)):\n",
    "    if idx == div_number or idx == div_number -1:\n",
    "        new_str += names[idx].replace(names[idx][1:],'. ')\n",
    "    else:\n",
    "        new_str += names[idx]+' '\n",
    "\n",
    "print(new_str)"
   ]
  },
  {
   "cell_type": "code",
   "execution_count": null,
   "metadata": {},
   "outputs": [],
   "source": []
  }
 ],
 "metadata": {
  "kernelspec": {
   "display_name": "Python 3 (ipykernel)",
   "language": "python",
   "name": "python3"
  },
  "language_info": {
   "codemirror_mode": {
    "name": "ipython",
    "version": 3
   },
   "file_extension": ".py",
   "mimetype": "text/x-python",
   "name": "python",
   "nbconvert_exporter": "python",
   "pygments_lexer": "ipython3",
   "version": "3.10.9"
  },
  "toc": {
   "base_numbering": 1,
   "nav_menu": {},
   "number_sections": true,
   "sideBar": true,
   "skip_h1_title": false,
   "title_cell": "Table of Contents",
   "title_sidebar": "Contents",
   "toc_cell": false,
   "toc_position": {},
   "toc_section_display": true,
   "toc_window_display": false
  }
 },
 "nbformat": 4,
 "nbformat_minor": 2
}
