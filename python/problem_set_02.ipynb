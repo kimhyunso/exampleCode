{
 "cells": [
  {
   "cell_type": "markdown",
   "metadata": {},
   "source": [
    "## 구구단 출력하기\n",
    "> 2단부터 9단까지 반복문을 사용하여 구구단을 출력하세요.\n",
    "---\n",
    "**[출력 예시]**\n",
    "```\n",
    "------- [2 단] -------\n",
    "2 X 1 = 2\n",
    "2 X 2 = 4\n",
    "2 X 3 = 6\n",
    "2 X 4 = 8\n",
    "2 X 5 = 10\n",
    "2 X 6 = 12\n",
    "2 X 7 = 14\n",
    "2 X 8 = 16\n",
    "2 X 9 = 18\n",
    "\n",
    "------- [3 단] -------\n",
    "...\n",
    "```"
   ]
  },
  {
   "cell_type": "code",
   "execution_count": null,
   "metadata": {},
   "outputs": [],
   "source": [
    "# 아래에 코드를 작성하세요."
   ]
  },
  {
   "cell_type": "code",
   "execution_count": 10,
   "metadata": {},
   "outputs": [
    {
     "name": "stdout",
     "output_type": "stream",
     "text": [
      "2 X 1 = 2\n",
      "2 X 2 = 4\n",
      "2 X 3 = 6\n",
      "2 X 4 = 8\n",
      "2 X 5 = 10\n",
      "2 X 6 = 12\n",
      "2 X 7 = 14\n",
      "2 X 8 = 16\n",
      "2 X 9 = 18\n",
      "-----[2단]-------\n",
      "3 X 1 = 3\n",
      "3 X 2 = 6\n",
      "3 X 3 = 9\n",
      "3 X 4 = 12\n",
      "3 X 5 = 15\n",
      "3 X 6 = 18\n",
      "3 X 7 = 21\n",
      "3 X 8 = 24\n",
      "3 X 9 = 27\n",
      "-----[3단]-------\n",
      "4 X 1 = 4\n",
      "4 X 2 = 8\n",
      "4 X 3 = 12\n",
      "4 X 4 = 16\n",
      "4 X 5 = 20\n",
      "4 X 6 = 24\n",
      "4 X 7 = 28\n",
      "4 X 8 = 32\n",
      "4 X 9 = 36\n",
      "-----[4단]-------\n",
      "5 X 1 = 5\n",
      "5 X 2 = 10\n",
      "5 X 3 = 15\n",
      "5 X 4 = 20\n",
      "5 X 5 = 25\n",
      "5 X 6 = 30\n",
      "5 X 7 = 35\n",
      "5 X 8 = 40\n",
      "5 X 9 = 45\n",
      "-----[5단]-------\n",
      "6 X 1 = 6\n",
      "6 X 2 = 12\n",
      "6 X 3 = 18\n",
      "6 X 4 = 24\n",
      "6 X 5 = 30\n",
      "6 X 6 = 36\n",
      "6 X 7 = 42\n",
      "6 X 8 = 48\n",
      "6 X 9 = 54\n",
      "-----[6단]-------\n",
      "7 X 1 = 7\n",
      "7 X 2 = 14\n",
      "7 X 3 = 21\n",
      "7 X 4 = 28\n",
      "7 X 5 = 35\n",
      "7 X 6 = 42\n",
      "7 X 7 = 49\n",
      "7 X 8 = 56\n",
      "7 X 9 = 63\n",
      "-----[7단]-------\n",
      "8 X 1 = 8\n",
      "8 X 2 = 16\n",
      "8 X 3 = 24\n",
      "8 X 4 = 32\n",
      "8 X 5 = 40\n",
      "8 X 6 = 48\n",
      "8 X 7 = 56\n",
      "8 X 8 = 64\n",
      "8 X 9 = 72\n",
      "-----[8단]-------\n",
      "9 X 1 = 9\n",
      "9 X 2 = 18\n",
      "9 X 3 = 27\n",
      "9 X 4 = 36\n",
      "9 X 5 = 45\n",
      "9 X 6 = 54\n",
      "9 X 7 = 63\n",
      "9 X 8 = 72\n",
      "9 X 9 = 81\n",
      "-----[9단]-------\n"
     ]
    }
   ],
   "source": [
    "\n",
    "for key in range(2, 10):\n",
    "    print(f'-----[{key}단]-------')\n",
    "    for dan in range(1, 10):\n",
    "        print(f'{key} X {dan} = {dan * key}')\n",
    "    "
   ]
  },
  {
   "cell_type": "code",
   "execution_count": 12,
   "metadata": {},
   "outputs": [
    {
     "name": "stdout",
     "output_type": "stream",
     "text": [
      "핸드폰번호를 입력하세요 01012341234\n",
      "*******1234\n"
     ]
    }
   ],
   "source": [
    "len_phone = ''\n",
    "while not len_phone:  # 폰번호에 입력값이 있다면 True 입력없다면 False / False 아닐때까지 반복해 / True 일때까지 반복해\n",
    "    phone_num = input('핸드폰번호를 입력하세요 ')\n",
    "    len_phone = len(phone_num)  # 폰번호 자리수\n",
    "    check_010 = phone_num[0:3]  # 폰번호 앞 세자리 \n",
    "    if len_phone == False:  # 만약 폰번호가 입력되지 않았다면\n",
    "        continue  # 반복문 다시 돌리세요(폰번호 input 받으세요)\n",
    "    elif check_010 != '010' or len_phone != 11:  # 만약 폰번호 앞자리가 010이 아니거나 11자리수가 아니라면\n",
    "        print('휴대폰번호가 아닙니다. 안녕')\n",
    "    else:\n",
    "        print('*'*7+ phone_num[7:])  # 어느 경우도 아니라면 앞 7자리는 *로 처리하세요"
   ]
  },
  {
   "cell_type": "markdown",
   "metadata": {},
   "source": [
    "## 개인정보보호\n",
    "> 사용자의 핸드폰번호를 입력 받고, 개인정보 보호를 위하여 뒷자리 4자리를 제외하고는 마스킹 처리하세요.\n",
    "> * 핸드폰번호는 010으로 시작해야하고 11자리여야한다.\n",
    "> * 핸드폰번호를 입력하지 않았다면 \"핸드폰번호를 입력하세요\"를 출력한다.\n",
    "\n",
    "---\n",
    "\n",
    "**[입력 예시]**\n",
    "\n",
    "01012341234\n",
    "\n",
    "**[출력 예시]**\n",
    "\n",
    "*******1234"
   ]
  },
  {
   "cell_type": "code",
   "execution_count": null,
   "metadata": {},
   "outputs": [],
   "source": [
    "# 아래에 코드를 작성하세요."
   ]
  },
  {
   "cell_type": "code",
   "execution_count": 4,
   "metadata": {},
   "outputs": [
    {
     "name": "stdout",
     "output_type": "stream",
     "text": [
      "\n",
      "핸드폰번호를 다시 입력해주세요\n",
      "\n",
      "핸드폰번호를 다시 입력해주세요\n",
      "\n",
      "핸드폰번호를 다시 입력해주세요\n",
      "\n",
      "핸드폰번호를 다시 입력해주세요\n",
      "\n",
      "핸드폰번호를 다시 입력해주세요\n",
      "\n",
      "핸드폰번호를 다시 입력해주세요\n",
      "\n",
      "핸드폰번호를 다시 입력해주세요\n",
      "\n",
      "핸드폰번호를 다시 입력해주세요\n",
      "\n",
      "핸드폰번호를 다시 입력해주세요\n",
      "\n",
      "핸드폰번호를 다시 입력해주세요\n",
      "\n",
      "핸드폰번호를 다시 입력해주세요\n",
      "\n",
      "핸드폰번호를 다시 입력해주세요\n",
      "\n",
      "핸드폰번호를 다시 입력해주세요\n",
      "\n",
      "핸드폰번호를 다시 입력해주세요\n",
      "\n",
      "핸드폰번호를 다시 입력해주세요\n",
      "\n",
      "핸드폰번호를 다시 입력해주세요\n",
      "\n",
      "핸드폰번호를 다시 입력해주세요\n",
      "\n",
      "핸드폰번호를 다시 입력해주세요\n",
      "\n",
      "핸드폰번호를 다시 입력해주세요\n",
      "\n",
      "핸드폰번호를 다시 입력해주세요\n",
      "\n",
      "핸드폰번호를 다시 입력해주세요\n",
      "\n",
      "핸드폰번호를 다시 입력해주세요\n",
      "324234234\n",
      "핸드폰번호를 다시 입력해주세요\n",
      "01012341234\n",
      "*******1234\n"
     ]
    }
   ],
   "source": [
    "while True:\n",
    "    phone_num = input()\n",
    "    if phone_num[0:3] != '010' and len(phone_num) != 11:\n",
    "        print('핸드폰번호를 다시 입력해주세요')\n",
    "    else:\n",
    "        print(phone_num.replace(phone_num[0:11-4],'*'*7))\n",
    "        break"
   ]
  },
  {
   "cell_type": "code",
   "execution_count": 1,
   "metadata": {},
   "outputs": [
    {
     "name": "stdout",
     "output_type": "stream",
     "text": [
      "0101231\n",
      "*******\n"
     ]
    }
   ],
   "source": [
    "phone_num = input()\n",
    "if phone_num[0:3] != '010' and len(phone_num) != 11:\n",
    "    print('핸드폰번호를 다시 입력해주세요')\n",
    "else:\n",
    "    print(phone_num.replace(phone_num[0:11-4],'*'*7))"
   ]
  },
  {
   "cell_type": "markdown",
   "metadata": {},
   "source": [
    "## 정중앙\n",
    "> 사용자가 입력한 문자열중 가운데 글자를 출력하세요. \n",
    "> * 단, 문자열이 짝수라면 가운데 두글자를 출력하세요.\n",
    "\n",
    "---\n",
    "\n",
    "**[입력 예시]**\n",
    "\n",
    "abc\n",
    "\n",
    "**[출력 예시]**\n",
    "\n",
    "b"
   ]
  },
  {
   "cell_type": "code",
   "execution_count": 1,
   "metadata": {},
   "outputs": [],
   "source": [
    "# 아래에 코드를 작성하세요."
   ]
  },
  {
   "cell_type": "code",
   "execution_count": 4,
   "metadata": {},
   "outputs": [
    {
     "name": "stdout",
     "output_type": "stream",
     "text": [
      "abcdef\n",
      "cd\n"
     ]
    }
   ],
   "source": [
    "char_str = input()\n",
    "div = len(char_str)//2\n",
    "\n",
    "if len(char_str) % 2 == 0:\n",
    "    print(char_str[div-1:div+1])\n",
    "else:\n",
    "    print(char_str[div])"
   ]
  },
  {
   "cell_type": "markdown",
   "metadata": {},
   "source": [
    "## 소수 찾기\n",
    "\n",
    "> 조건, 반복문을 응용하여 numbers 리스트의 요소들이 소수인지 아닌지 판단하는 코드를 작성하세요.\n",
    "\n",
    "---\n",
    "\n",
    "\n",
    "**[입력 예시]**\n",
    "\n",
    "26, 39, 51, 53, 57, 79, 85\n",
    "\n",
    "**[출력 예시]**\n",
    "```python\n",
    "26 는 소수가 아닙니다. 2 는 26 의 인수입니다.\n",
    "39 는 소수가 아닙니다. 3 는 39 의 인수입니다.\n",
    "51 는 소수가 아닙니다. 3 는 51 의 인수입니다.\n",
    "53 는 소수입니다.\n",
    "57 는 소수가 아닙니다. 3 는 57 의 인수입니다.\n",
    "79 는 소수입니다.\n",
    "85 는 소수가 아닙니다. 5 는 85 의 인수입니다.\n",
    "```"
   ]
  },
  {
   "cell_type": "code",
   "execution_count": 2,
   "metadata": {},
   "outputs": [],
   "source": [
    "numbers = [26, 39, 51, 53, 57, 79, 85]\n",
    "# 아래에 코드를 작성하세요."
   ]
  },
  {
   "cell_type": "code",
   "execution_count": 3,
   "metadata": {
    "scrolled": true
   },
   "outputs": [
    {
     "name": "stdout",
     "output_type": "stream",
     "text": [
      "26는 소수가 아닙니다. 2는 26의 인수 입니다.\n",
      "39는 소수가 아닙니다. 3는 39의 인수 입니다.\n",
      "51는 소수가 아닙니다. 3는 51의 인수 입니다.\n",
      "53는 소수입니다.\n",
      "57는 소수가 아닙니다. 3는 57의 인수 입니다.\n",
      "79는 소수입니다.\n",
      "85는 소수가 아닙니다. 5는 85의 인수 입니다.\n"
     ]
    }
   ],
   "source": [
    "demis = [2, 3, 5, 7]\n",
    "result = 0\n",
    "\n",
    "for number in numbers:\n",
    "    for demi in demis:\n",
    "        if number % demi == 0:\n",
    "            result = demi\n",
    "            break\n",
    "    if number % demi:\n",
    "        print(f'{number}는 소수입니다.')\n",
    "    else:\n",
    "        print(f'{number}는 소수가 아닙니다. {result}는 {number}의 인수 입니다.')"
   ]
  },
  {
   "cell_type": "code",
   "execution_count": null,
   "metadata": {},
   "outputs": [],
   "source": []
  },
  {
   "cell_type": "code",
   "execution_count": null,
   "metadata": {},
   "outputs": [],
   "source": [
    "#최유진 소수\n",
    "numbers = [26, 39, 51, 53, 57, 79, 85, 121]\n",
    "for num in numbers:\n",
    "    for d_num in range(2, (num // 2)):  # 2부터 확인할 수를 반으로 나눈 값의 -1 까지의 범위\n",
    "        if num % d_num == 0:  # 26 / 2\n",
    "            print(f'{num} 는 소수가 아닙니다. {d_num} 는 {num} 의 인수입니다.')\n",
    "            break\n",
    "    else:\n",
    "        print(f'{num} 는 소수입니다.')"
   ]
  },
  {
   "cell_type": "code",
   "execution_count": null,
   "metadata": {},
   "outputs": [],
   "source": [
    "# 최민정\n",
    "# 소수란, 1과 자신만으로 나누어 떨어지는 1보다 큰 양의 정수\n",
    "\n",
    "numbers = [26, 39, 51, 53, 57, 79, 85]\n",
    "\n",
    "primes = [2, 3, 5, 7]  # 소수인지 판별할 숫자 리스트 생성\n",
    "\n",
    "for number in numbers:\n",
    "    for prime in primes:\n",
    "        prime_tf = bool(number % prime)  # 나머지가 있으면 True, 없으면 False로 변환해서 boolean 형태로 저장\n",
    "        if prime_tf == False:  # 만약 소수가 아니라면,\n",
    "            print(f'{number} 는 소수가 아닙니다. {prime} 는 {number} 의 인수입니다.')  # 소수가 아니라고 출력\n",
    "            break\n",
    "    if prime_tf == True:  # 만약 소수라면,\n",
    "            print(f'{number} 는 소수입니다.')  # 소수라고 출력"
   ]
  },
  {
   "cell_type": "code",
   "execution_count": 16,
   "metadata": {},
   "outputs": [
    {
     "name": "stdout",
     "output_type": "stream",
     "text": [
      "3등\n"
     ]
    }
   ],
   "source": [
    "my_numbers = [1, 2, 3, 4, 5, 6]\n",
    "jackpot_numbers = [2, 1, 4, 5, 6, 7]\n",
    "bonus_number = 8\n",
    "cnt = 0\n",
    "result = ''\n",
    "\n",
    "for number in my_numbers:\n",
    "    if number in jackpot_numbers:\n",
    "        cnt += 1\n",
    "        \n",
    "        \n",
    "if cnt == 5 and bonus_number in my_numbers:\n",
    "    result = '2등'\n",
    "elif cnt == 6:\n",
    "    result = '1등'\n",
    "elif cnt == 5:\n",
    "    result = '3등'\n",
    "elif cnt == 4:\n",
    "    result = '4등'\n",
    "elif cnt == 3:\n",
    "    result = '5등'\n",
    "        \n",
    "print(result)"
   ]
  },
  {
   "cell_type": "code",
   "execution_count": null,
   "metadata": {},
   "outputs": [],
   "source": []
  }
 ],
 "metadata": {
  "kernelspec": {
   "display_name": "Python 3 (ipykernel)",
   "language": "python",
   "name": "python3"
  },
  "language_info": {
   "codemirror_mode": {
    "name": "ipython",
    "version": 3
   },
   "file_extension": ".py",
   "mimetype": "text/x-python",
   "name": "python",
   "nbconvert_exporter": "python",
   "pygments_lexer": "ipython3",
   "version": "3.10.9"
  },
  "latex_envs": {
   "LaTeX_envs_menu_present": true,
   "autoclose": false,
   "autocomplete": true,
   "bibliofile": "biblio.bib",
   "cite_by": "apalike",
   "current_citInitial": 1,
   "eqLabelWithNumbers": true,
   "eqNumInitial": 1,
   "hotkeys": {
    "equation": "Ctrl-E",
    "itemize": "Ctrl-I"
   },
   "labels_anchors": false,
   "latex_user_defs": false,
   "report_style_numbering": false,
   "user_envs_cfg": false
  },
  "toc": {
   "base_numbering": 1,
   "nav_menu": {},
   "number_sections": true,
   "sideBar": true,
   "skip_h1_title": false,
   "title_cell": "Table of Contents",
   "title_sidebar": "Contents",
   "toc_cell": false,
   "toc_position": {},
   "toc_section_display": true,
   "toc_window_display": false
  },
  "vscode": {
   "interpreter": {
    "hash": "51d354aa4721e008858a28cad10f7efbfd288bcf50ac31411bfc117a31ae17c9"
   }
  }
 },
 "nbformat": 4,
 "nbformat_minor": 2
}
