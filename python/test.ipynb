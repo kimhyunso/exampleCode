{
 "cells": [
  {
   "cell_type": "code",
   "execution_count": null,
   "id": "6d1476f3",
   "metadata": {},
   "outputs": [],
   "source": [
    "print('hello')"
   ]
  },
  {
   "cell_type": "code",
   "execution_count": null,
   "id": "fb0322ed",
   "metadata": {},
   "outputs": [],
   "source": [
    "print('next!!')"
   ]
  },
  {
   "cell_type": "code",
   "execution_count": null,
   "id": "83b60133",
   "metadata": {},
   "outputs": [],
   "source": [
    "print('above, below')"
   ]
  },
  {
   "cell_type": "markdown",
   "id": "1fda813e",
   "metadata": {},
   "source": [
    "# 마크다운 편집하기\n",
    "- 이건\n",
    "- 마크\n",
    "- 다운\n",
    "M, Y"
   ]
  },
  {
   "cell_type": "code",
   "execution_count": null,
   "id": "19307f33",
   "metadata": {},
   "outputs": [],
   "source": []
  }
 ],
 "metadata": {
  "kernelspec": {
   "display_name": "Python 3 (ipykernel)",
   "language": "python",
   "name": "python3"
  },
  "language_info": {
   "codemirror_mode": {
    "name": "ipython",
    "version": 3
   },
   "file_extension": ".py",
   "mimetype": "text/x-python",
   "name": "python",
   "nbconvert_exporter": "python",
   "pygments_lexer": "ipython3",
   "version": "3.10.9"
  }
 },
 "nbformat": 4,
 "nbformat_minor": 5
}
