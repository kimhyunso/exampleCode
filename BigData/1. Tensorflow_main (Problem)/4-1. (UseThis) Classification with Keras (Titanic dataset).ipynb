{
 "cells": [
  {
   "cell_type": "markdown",
   "metadata": {},
   "source": [
    "#### 참고 : tensorflow.keras 공식 문서 (Official API Docs) @ https://www.tensorflow.org/api_docs/python/tf/keras"
   ]
  },
  {
   "cell_type": "markdown",
   "metadata": {},
   "source": [
    "<br>\n",
    "\n",
    "## 1. Data loading & preprocessing"
   ]
  },
  {
   "cell_type": "code",
   "execution_count": 31,
   "metadata": {},
   "outputs": [],
   "source": [
    "import pandas as pd\n",
    "import numpy as np\n",
    "import matplotlib.pyplot as plt"
   ]
  },
  {
   "cell_type": "code",
   "execution_count": 32,
   "metadata": {},
   "outputs": [
    {
     "data": {
      "text/html": [
       "<div>\n",
       "<style scoped>\n",
       "    .dataframe tbody tr th:only-of-type {\n",
       "        vertical-align: middle;\n",
       "    }\n",
       "\n",
       "    .dataframe tbody tr th {\n",
       "        vertical-align: top;\n",
       "    }\n",
       "\n",
       "    .dataframe thead th {\n",
       "        text-align: right;\n",
       "    }\n",
       "</style>\n",
       "<table border=\"1\" class=\"dataframe\">\n",
       "  <thead>\n",
       "    <tr style=\"text-align: right;\">\n",
       "      <th></th>\n",
       "      <th>PassengerId</th>\n",
       "      <th>Survived</th>\n",
       "      <th>Pclass</th>\n",
       "      <th>Name</th>\n",
       "      <th>Sex</th>\n",
       "      <th>Age</th>\n",
       "      <th>SibSp</th>\n",
       "      <th>Parch</th>\n",
       "      <th>Ticket</th>\n",
       "      <th>Fare</th>\n",
       "      <th>Cabin</th>\n",
       "      <th>Embarked</th>\n",
       "    </tr>\n",
       "  </thead>\n",
       "  <tbody>\n",
       "    <tr>\n",
       "      <th>0</th>\n",
       "      <td>1</td>\n",
       "      <td>0</td>\n",
       "      <td>3</td>\n",
       "      <td>Braund, Mr. Owen Harris</td>\n",
       "      <td>male</td>\n",
       "      <td>22.0</td>\n",
       "      <td>1</td>\n",
       "      <td>0</td>\n",
       "      <td>A/5 21171</td>\n",
       "      <td>7.2500</td>\n",
       "      <td>NaN</td>\n",
       "      <td>S</td>\n",
       "    </tr>\n",
       "    <tr>\n",
       "      <th>1</th>\n",
       "      <td>2</td>\n",
       "      <td>1</td>\n",
       "      <td>1</td>\n",
       "      <td>Cumings, Mrs. John Bradley (Florence Briggs Th...</td>\n",
       "      <td>female</td>\n",
       "      <td>38.0</td>\n",
       "      <td>1</td>\n",
       "      <td>0</td>\n",
       "      <td>PC 17599</td>\n",
       "      <td>71.2833</td>\n",
       "      <td>C85</td>\n",
       "      <td>C</td>\n",
       "    </tr>\n",
       "    <tr>\n",
       "      <th>2</th>\n",
       "      <td>3</td>\n",
       "      <td>1</td>\n",
       "      <td>3</td>\n",
       "      <td>Heikkinen, Miss. Laina</td>\n",
       "      <td>female</td>\n",
       "      <td>26.0</td>\n",
       "      <td>0</td>\n",
       "      <td>0</td>\n",
       "      <td>STON/O2. 3101282</td>\n",
       "      <td>7.9250</td>\n",
       "      <td>NaN</td>\n",
       "      <td>S</td>\n",
       "    </tr>\n",
       "  </tbody>\n",
       "</table>\n",
       "</div>"
      ],
      "text/plain": [
       "   PassengerId  Survived  Pclass  \\\n",
       "0            1         0       3   \n",
       "1            2         1       1   \n",
       "2            3         1       3   \n",
       "\n",
       "                                                Name     Sex   Age  SibSp  \\\n",
       "0                            Braund, Mr. Owen Harris    male  22.0      1   \n",
       "1  Cumings, Mrs. John Bradley (Florence Briggs Th...  female  38.0      1   \n",
       "2                             Heikkinen, Miss. Laina  female  26.0      0   \n",
       "\n",
       "   Parch            Ticket     Fare Cabin Embarked  \n",
       "0      0         A/5 21171   7.2500   NaN        S  \n",
       "1      0          PC 17599  71.2833   C85        C  \n",
       "2      0  STON/O2. 3101282   7.9250   NaN        S  "
      ]
     },
     "execution_count": 32,
     "metadata": {},
     "output_type": "execute_result"
    }
   ],
   "source": [
    "titanic_df = pd.read_csv(\"titanic.csv\")\n",
    "titanic_df.head(3)"
   ]
  },
  {
   "cell_type": "code",
   "execution_count": 33,
   "metadata": {},
   "outputs": [
    {
     "data": {
      "text/html": [
       "<div>\n",
       "<style scoped>\n",
       "    .dataframe tbody tr th:only-of-type {\n",
       "        vertical-align: middle;\n",
       "    }\n",
       "\n",
       "    .dataframe tbody tr th {\n",
       "        vertical-align: top;\n",
       "    }\n",
       "\n",
       "    .dataframe thead th {\n",
       "        text-align: right;\n",
       "    }\n",
       "</style>\n",
       "<table border=\"1\" class=\"dataframe\">\n",
       "  <thead>\n",
       "    <tr style=\"text-align: right;\">\n",
       "      <th></th>\n",
       "      <th>Survived</th>\n",
       "      <th>Pclass</th>\n",
       "      <th>Sex</th>\n",
       "      <th>Age</th>\n",
       "      <th>Fare</th>\n",
       "      <th>Embarked</th>\n",
       "      <th>Title</th>\n",
       "      <th>FamilySize</th>\n",
       "      <th>isAlone</th>\n",
       "    </tr>\n",
       "  </thead>\n",
       "  <tbody>\n",
       "    <tr>\n",
       "      <th>0</th>\n",
       "      <td>0</td>\n",
       "      <td>3</td>\n",
       "      <td>0</td>\n",
       "      <td>1.0</td>\n",
       "      <td>0.0</td>\n",
       "      <td>0</td>\n",
       "      <td>3</td>\n",
       "      <td>0.4</td>\n",
       "      <td>0</td>\n",
       "    </tr>\n",
       "    <tr>\n",
       "      <th>1</th>\n",
       "      <td>1</td>\n",
       "      <td>1</td>\n",
       "      <td>1</td>\n",
       "      <td>2.0</td>\n",
       "      <td>0.0</td>\n",
       "      <td>2</td>\n",
       "      <td>4</td>\n",
       "      <td>0.4</td>\n",
       "      <td>0</td>\n",
       "    </tr>\n",
       "    <tr>\n",
       "      <th>2</th>\n",
       "      <td>1</td>\n",
       "      <td>3</td>\n",
       "      <td>1</td>\n",
       "      <td>1.0</td>\n",
       "      <td>0.0</td>\n",
       "      <td>0</td>\n",
       "      <td>2</td>\n",
       "      <td>0.0</td>\n",
       "      <td>1</td>\n",
       "    </tr>\n",
       "  </tbody>\n",
       "</table>\n",
       "</div>"
      ],
      "text/plain": [
       "   Survived  Pclass  Sex  Age  Fare  Embarked  Title  FamilySize  isAlone\n",
       "0         0       3    0  1.0   0.0         0      3         0.4        0\n",
       "1         1       1    1  2.0   0.0         2      4         0.4        0\n",
       "2         1       3    1  1.0   0.0         0      2         0.0        1"
      ]
     },
     "execution_count": 33,
     "metadata": {},
     "output_type": "execute_result"
    }
   ],
   "source": [
    "del titanic_df['Cabin'] # 너무 많은 결측치가 존재\n",
    "del titanic_df['PassengerId'] # Passenger 번호는 큰 의미를 갖고있지 않은 일련번호\n",
    "del titanic_df['Ticket'] # ticket 번호에서 패턴이 확인되지 않음\n",
    "\n",
    "\n",
    "titanic_df['Title'] = titanic_df['Name'].str.extract('([A-Za-z]+)\\.', expand=False)\n",
    "del titanic_df['Name'] # 호칭만 남김\n",
    "\n",
    "rare_title = []\n",
    "for title in set(titanic_df['Title']):\n",
    "    if list(titanic_df['Title']).count(title) < 10:\n",
    "        rare_title.append(title)\n",
    "\n",
    "titanic_df['Title'] = titanic_df['Title'].replace('Mlle', 'Miss') # Mademoiselle\n",
    "titanic_df['Title'] = titanic_df['Title'].replace('Ms', 'Miss') \n",
    "titanic_df['Title'] = titanic_df['Title'].replace('Mme', 'Mrs') # Madame\n",
    "titanic_df['Title'] = titanic_df['Title'].replace(rare_title, 'Rare')\n",
    "\n",
    "title_mapping = {\"Master\":1, \"Miss\":2, \"Mr\":3, \"Mrs\":4, \"Rare\":5 }\n",
    "titanic_df['Title'] = titanic_df['Title'].map(title_mapping)\n",
    "titanic_df['Title'] = titanic_df['Title'].fillna(0)\n",
    "titanic_df['Title'].astype(int)\n",
    "\n",
    "\n",
    "sex_mapping = {\"male\": 0 , \"female\":1} \n",
    "titanic_df['Sex'] = titanic_df['Sex'].map(sex_mapping)\n",
    "\n",
    "\n",
    "titanic_df['Embarked'] = titanic_df['Embarked'].fillna('S')\n",
    "mapping_data ={\"S\":0, \"Q\":1, \"C\":2}\n",
    "titanic_df[\"Embarked\"] = titanic_df[\"Embarked\"].map(mapping_data)\n",
    "\n",
    "\n",
    "titanic_df.loc[ titanic_df['Fare'] <= 102, 'Fare'] = 0\n",
    "titanic_df.loc[(titanic_df['Fare'] > 102) & (titanic_df['Fare'] <= 204), 'Fare'] = 1\n",
    "titanic_df.loc[(titanic_df['Fare'] > 204) & (titanic_df['Fare'] <= 307), 'Fare'] = 2\n",
    "titanic_df.loc[ titanic_df['Fare'] > 307, 'Fare'] = 4\n",
    "\n",
    "\n",
    "titanic_df[\"FamilySize\"] = titanic_df[\"SibSp\"] + titanic_df[\"Parch\"] +1\n",
    "del titanic_df['SibSp']\n",
    "del titanic_df['Parch']\n",
    "\n",
    "titanic_df['isAlone'] = 0\n",
    "titanic_df.loc[titanic_df['FamilySize'] == 1, 'isAlone'] = 1\n",
    "\n",
    "family_mapping = {1: 0, 2: 0.4, 3: 0.8, 4: 1.2, 5: 1.6, 6: 2, 7: 2.4, 8: 2.8, 9: 3.2, 10: 3.6, 11: 4}\n",
    "titanic_df['FamilySize'] = titanic_df['FamilySize'].map(family_mapping)\n",
    "\n",
    "\n",
    "titanic_df[\"Age\"].fillna(titanic_df.groupby(\"Title\")[\"Age\"].transform(\"median\"), inplace=True)\n",
    "\n",
    "titanic_df.loc[ titanic_df['Age'] <= 16, 'Age'] = 0\n",
    "titanic_df.loc[(titanic_df['Age'] > 16) & (titanic_df['Age'] <= 32), 'Age'] = 1\n",
    "titanic_df.loc[(titanic_df['Age'] > 32) & (titanic_df['Age'] <= 48), 'Age'] = 2\n",
    "titanic_df.loc[(titanic_df['Age'] > 48) & (titanic_df['Age'] <= 64), 'Age'] = 3\n",
    "titanic_df.loc[ titanic_df['Age'] > 64, 'Age'] = 4\n",
    "\n",
    "titanic_df.head(3)"
   ]
  },
  {
   "cell_type": "markdown",
   "metadata": {},
   "source": [
    "<br>\n",
    "\n",
    "## 2. Devide dataframe into X & Y -> Train X / Test X / Train Y / Test Y"
   ]
  },
  {
   "cell_type": "code",
   "execution_count": 34,
   "metadata": {},
   "outputs": [],
   "source": [
    "titanic_target = titanic_df[['Survived']].copy()\n",
    "titanic_data = titanic_df.copy()\n",
    "\n",
    "del titanic_data['Survived']"
   ]
  },
  {
   "cell_type": "code",
   "execution_count": 35,
   "metadata": {},
   "outputs": [],
   "source": [
    "from sklearn import model_selection"
   ]
  },
  {
   "cell_type": "code",
   "execution_count": 36,
   "metadata": {},
   "outputs": [
    {
     "name": "stdout",
     "output_type": "stream",
     "text": [
      "(623, 8)\n",
      "(268, 8)\n",
      "(623, 1)\n",
      "(268, 1)\n"
     ]
    }
   ],
   "source": [
    "train_data, test_data, train_label, test_label = model_selection.train_test_split(titanic_data, titanic_target,\n",
    "                                                                                 test_size=0.3,\n",
    "                                                                                 random_state=0)\n",
    "print(train_data.shape)\n",
    "print(test_data.shape)\n",
    "print(train_label.shape)\n",
    "print(test_label.shape)"
   ]
  },
  {
   "cell_type": "markdown",
   "metadata": {},
   "source": [
    "<br>\n",
    "\n",
    "## 3. Change normal labels to one-hot labels"
   ]
  },
  {
   "cell_type": "code",
   "execution_count": 37,
   "metadata": {},
   "outputs": [
    {
     "data": {
      "text/html": [
       "<div>\n",
       "<style scoped>\n",
       "    .dataframe tbody tr th:only-of-type {\n",
       "        vertical-align: middle;\n",
       "    }\n",
       "\n",
       "    .dataframe tbody tr th {\n",
       "        vertical-align: top;\n",
       "    }\n",
       "\n",
       "    .dataframe thead th {\n",
       "        text-align: right;\n",
       "    }\n",
       "</style>\n",
       "<table border=\"1\" class=\"dataframe\">\n",
       "  <thead>\n",
       "    <tr style=\"text-align: right;\">\n",
       "      <th></th>\n",
       "      <th>Survived</th>\n",
       "    </tr>\n",
       "  </thead>\n",
       "  <tbody>\n",
       "    <tr>\n",
       "      <th>857</th>\n",
       "      <td>1</td>\n",
       "    </tr>\n",
       "    <tr>\n",
       "      <th>52</th>\n",
       "      <td>1</td>\n",
       "    </tr>\n",
       "    <tr>\n",
       "      <th>386</th>\n",
       "      <td>0</td>\n",
       "    </tr>\n",
       "    <tr>\n",
       "      <th>124</th>\n",
       "      <td>0</td>\n",
       "    </tr>\n",
       "    <tr>\n",
       "      <th>578</th>\n",
       "      <td>0</td>\n",
       "    </tr>\n",
       "  </tbody>\n",
       "</table>\n",
       "</div>"
      ],
      "text/plain": [
       "     Survived\n",
       "857         1\n",
       "52          1\n",
       "386         0\n",
       "124         0\n",
       "578         0"
      ]
     },
     "execution_count": 37,
     "metadata": {},
     "output_type": "execute_result"
    }
   ],
   "source": [
    "train_label[:5]"
   ]
  },
  {
   "cell_type": "code",
   "execution_count": 38,
   "metadata": {},
   "outputs": [
    {
     "name": "stdout",
     "output_type": "stream",
     "text": [
      "(623, 2)\n",
      "(268, 2)\n"
     ]
    }
   ],
   "source": [
    "from tensorflow.keras import utils\n",
    "\n",
    "train_label = utils.to_categorical(train_label) # 0 or 1 -> one-hot vector\n",
    "test_label = utils.to_categorical(test_label) # 0 or 1 -> one-hot vector\n",
    "\n",
    "print(train_label.shape) # 모양을 영어로?\n",
    "print(test_label.shape) # 모양을 영어로?\n",
    "\n",
    "# from sklearn import preprocessing\n",
    "# enc = preprocessing.OneHotEncoder(categories='auto') # Apply 'One-hot encoding' on labels (Single integer to One-hot vector)\n",
    "# train_label = enc.fit_transform(train_label).toarray()\n",
    "# test_label = enc.fit_transform(test_label).toarray()"
   ]
  },
  {
   "cell_type": "code",
   "execution_count": 39,
   "metadata": {},
   "outputs": [
    {
     "data": {
      "text/plain": [
       "array([[0., 1.],\n",
       "       [0., 1.],\n",
       "       [1., 0.],\n",
       "       ...,\n",
       "       [1., 0.],\n",
       "       [0., 1.],\n",
       "       [1., 0.]], dtype=float32)"
      ]
     },
     "execution_count": 39,
     "metadata": {},
     "output_type": "execute_result"
    }
   ],
   "source": [
    "train_label"
   ]
  },
  {
   "cell_type": "markdown",
   "metadata": {},
   "source": [
    "<br>\n",
    "\n",
    "## 4. Build & Train the model "
   ]
  },
  {
   "cell_type": "code",
   "execution_count": 40,
   "metadata": {},
   "outputs": [],
   "source": [
    "import tensorflow as tf\n",
    "\n",
    "# tf.keras 에 필요한 함수들이 모여있습니다.\n",
    "from tensorflow.keras import datasets, utils\n",
    "from tensorflow.keras import models, layers, activations, initializers, losses, optimizers, metrics"
   ]
  },
  {
   "cell_type": "code",
   "execution_count": 41,
   "metadata": {},
   "outputs": [],
   "source": [
    "import os\n",
    "os.environ['TF_CPP_MIN_LOG_LEVEL'] = '2' # https://stackoverflow.com/questions/35911252/disable-tensorflow-debugging-information"
   ]
  },
  {
   "cell_type": "code",
   "execution_count": 42,
   "metadata": {},
   "outputs": [],
   "source": [
    "model = models.Sequential() # Build up the \"Sequence\" of layers (Linear stack of layers)\n",
    "\n",
    "# Dense-layer (with he-initialization)\n",
    "model.add(layers.Dense(input_dim=len(titanic_data.columns), units=256, activation=None, kernel_initializer=initializers.he_uniform())) # he-uniform initialization\n",
    "# model.add(layers.BatchNormalization()) # Use this line as if needed\n",
    "model.add(layers.Activation('elu')) # elu or relu (or layers.ELU / layers.LeakyReLU)\n",
    "\n",
    "model.add(layers.Dense(units=512, activation=None, kernel_initializer=initializers.he_uniform())) \n",
    "model.add(layers.Activation('elu')) \n",
    "\n",
    "model.add(layers.Dense(units=512, activation=None, kernel_initializer=initializers.he_uniform())) \n",
    "model.add(layers.Activation('elu'))\n",
    "\n",
    "model.add(layers.Dense(units=256, activation=None, kernel_initializer=initializers.he_uniform())) \n",
    "model.add(layers.Activation('elu')) \n",
    "model.add(layers.Dropout(rate=0.5)) # Dropout-layer\n",
    "\n",
    "model.add(layers.Dense(units=2, activation='softmax')) # Apply softmax function on model's output"
   ]
  },
  {
   "cell_type": "code",
   "execution_count": 73,
   "metadata": {},
   "outputs": [],
   "source": [
    "# \"Compile\" the model description (Configures the model for training)\n",
    "\n",
    "model.compile(optimizer=optimizers.Adam(), # Please try the Adam-optimizer\n",
    "              loss=losses.categorical_crossentropy, \n",
    "              metrics=[metrics.Recall(), metrics.Precision()]) # Precision / Recall / F1-Score 적용하기 @ https://j.mp/3cf3lbi"
   ]
  },
  {
   "cell_type": "code",
   "execution_count": 74,
   "metadata": {},
   "outputs": [],
   "source": [
    "# tf.keras.callbacks.ModelCheckpoint(3-3)"
   ]
  },
  {
   "cell_type": "code",
   "execution_count": 75,
   "metadata": {},
   "outputs": [
    {
     "name": "stdout",
     "output_type": "stream",
     "text": [
      "Epoch 1/20\n",
      "5/5 [==============================] - 1s 66ms/step - loss: 0.4677 - recall_1: 0.8005 - precision: 0.8005 - val_loss: 0.4958 - val_recall_1: 0.8128 - val_precision: 0.8128\n",
      "Epoch 2/20\n",
      "5/5 [==============================] - 0s 10ms/step - loss: 0.4399 - recall_1: 0.8165 - precision: 0.8165 - val_loss: 0.6570 - val_recall_1: 0.7701 - val_precision: 0.7701\n",
      "Epoch 3/20\n",
      "5/5 [==============================] - 0s 10ms/step - loss: 0.4028 - recall_1: 0.8463 - precision: 0.8463 - val_loss: 0.6139 - val_recall_1: 0.7914 - val_precision: 0.7914\n",
      "Epoch 4/20\n",
      "5/5 [==============================] - 0s 9ms/step - loss: 0.4026 - recall_1: 0.8372 - precision: 0.8372 - val_loss: 0.6237 - val_recall_1: 0.8075 - val_precision: 0.8075\n",
      "Epoch 5/20\n",
      "5/5 [==============================] - 0s 10ms/step - loss: 0.4162 - recall_1: 0.8372 - precision: 0.8372 - val_loss: 0.5815 - val_recall_1: 0.8128 - val_precision: 0.8128\n",
      "Epoch 6/20\n",
      "5/5 [==============================] - 0s 10ms/step - loss: 0.4226 - recall_1: 0.8119 - precision: 0.8119 - val_loss: 0.6822 - val_recall_1: 0.7807 - val_precision: 0.7807\n",
      "Epoch 7/20\n",
      "5/5 [==============================] - 0s 10ms/step - loss: 0.4010 - recall_1: 0.8349 - precision: 0.8349 - val_loss: 0.5595 - val_recall_1: 0.8128 - val_precision: 0.8128\n",
      "Epoch 8/20\n",
      "5/5 [==============================] - 0s 10ms/step - loss: 0.3963 - recall_1: 0.8257 - precision: 0.8257 - val_loss: 0.6979 - val_recall_1: 0.7701 - val_precision: 0.7701\n",
      "Epoch 9/20\n",
      "5/5 [==============================] - 0s 10ms/step - loss: 0.3959 - recall_1: 0.8417 - precision: 0.8417 - val_loss: 0.5642 - val_recall_1: 0.8075 - val_precision: 0.8075\n",
      "Epoch 10/20\n",
      "5/5 [==============================] - 0s 10ms/step - loss: 0.3991 - recall_1: 0.8463 - precision: 0.8463 - val_loss: 0.6860 - val_recall_1: 0.7807 - val_precision: 0.7807\n",
      "Epoch 11/20\n",
      "5/5 [==============================] - 0s 10ms/step - loss: 0.3848 - recall_1: 0.8486 - precision: 0.8486 - val_loss: 0.5805 - val_recall_1: 0.8235 - val_precision: 0.8235\n",
      "Epoch 12/20\n",
      "5/5 [==============================] - 0s 10ms/step - loss: 0.4005 - recall_1: 0.8280 - precision: 0.8280 - val_loss: 0.6517 - val_recall_1: 0.7380 - val_precision: 0.7380\n",
      "Epoch 13/20\n",
      "5/5 [==============================] - 0s 10ms/step - loss: 0.3881 - recall_1: 0.8349 - precision: 0.8349 - val_loss: 0.5544 - val_recall_1: 0.8182 - val_precision: 0.8182\n",
      "Epoch 14/20\n",
      "5/5 [==============================] - 0s 10ms/step - loss: 0.4257 - recall_1: 0.8142 - precision: 0.8142 - val_loss: 0.7221 - val_recall_1: 0.7112 - val_precision: 0.7112\n",
      "Epoch 15/20\n",
      "5/5 [==============================] - 0s 9ms/step - loss: 0.4096 - recall_1: 0.8326 - precision: 0.8326 - val_loss: 0.5693 - val_recall_1: 0.8075 - val_precision: 0.8075\n",
      "Epoch 16/20\n",
      "5/5 [==============================] - 0s 10ms/step - loss: 0.3926 - recall_1: 0.8372 - precision: 0.8372 - val_loss: 0.5759 - val_recall_1: 0.8235 - val_precision: 0.8235\n",
      "Epoch 17/20\n",
      "5/5 [==============================] - 0s 10ms/step - loss: 0.3815 - recall_1: 0.8555 - precision: 0.8555 - val_loss: 0.5993 - val_recall_1: 0.7968 - val_precision: 0.7968\n",
      "Epoch 18/20\n",
      "5/5 [==============================] - 0s 10ms/step - loss: 0.3994 - recall_1: 0.8349 - precision: 0.8349 - val_loss: 0.5794 - val_recall_1: 0.7968 - val_precision: 0.7968\n",
      "Epoch 19/20\n",
      "5/5 [==============================] - 0s 10ms/step - loss: 0.3905 - recall_1: 0.8326 - precision: 0.8326 - val_loss: 0.6427 - val_recall_1: 0.7968 - val_precision: 0.7968\n",
      "Epoch 20/20\n",
      "5/5 [==============================] - 0s 10ms/step - loss: 0.3768 - recall_1: 0.8555 - precision: 0.8555 - val_loss: 0.5772 - val_recall_1: 0.8182 - val_precision: 0.8182\n"
     ]
    }
   ],
   "source": [
    "# \"Fit\" the model on training data\n",
    "\n",
    "history = model.fit(train_data, train_label, batch_size=100, epochs=20, validation_split=0.3) "
   ]
  },
  {
   "cell_type": "code",
   "execution_count": 76,
   "metadata": {
    "scrolled": true
   },
   "outputs": [
    {
     "name": "stdout",
     "output_type": "stream",
     "text": [
      "9/9 [==============================] - 0s 2ms/step - loss: 0.5709 - recall_1: 0.8022 - precision: 0.8022\n",
      "loss (cross-entropy) : 0.5709450840950012\n",
      "test accuracy : 0.8022388219833374\n"
     ]
    }
   ],
   "source": [
    "# \"Evaluate\" the model on test data\n",
    "\n",
    "result = model.evaluate(test_data, test_label)\n",
    "\n",
    "print('loss (cross-entropy) :', result[0])\n",
    "print('test accuracy :', result[1])"
   ]
  },
  {
   "cell_type": "code",
   "execution_count": 77,
   "metadata": {},
   "outputs": [
    {
     "data": {
      "text/plain": [
       "dict_keys(['loss', 'recall_1', 'precision', 'val_loss', 'val_recall_1', 'val_precision'])"
      ]
     },
     "execution_count": 77,
     "metadata": {},
     "output_type": "execute_result"
    }
   ],
   "source": [
    "history.history.keys()"
   ]
  },
  {
   "cell_type": "code",
   "execution_count": 79,
   "metadata": {
    "scrolled": true
   },
   "outputs": [
    {
     "data": {
      "image/png": "[encoded data removed]",
      "text/plain": [
       "<Figure size 432x288 with 1 Axes>"
      ]
     },
     "metadata": {
      "needs_background": "light"
     },
     "output_type": "display_data"
    }
   ],
   "source": [
    "acc = history.history['recall_1']\n",
    "val_acc = history.history['val_recall_1']\n",
    "\n",
    "x_len = np.arange(len(acc))\n",
    "\n",
    "plt.plot(x_len, acc, marker='.', c='blue', label=\"Train-set Acc.\")\n",
    "plt.plot(x_len, val_acc, marker='.', c='red', label=\"Validation-set Acc.\")\n",
    "\n",
    "plt.legend(loc='lower right')\n",
    "plt.grid()\n",
    "plt.xlabel('epoch')\n",
    "plt.ylabel('Accuracy')\n",
    "plt.show()"
   ]
  },
  {
   "cell_type": "code",
   "execution_count": 80,
   "metadata": {},
   "outputs": [
    {
     "data": {
      "text/plain": [
       "dict_keys(['loss', 'recall_1', 'precision', 'val_loss', 'val_recall_1', 'val_precision'])"
      ]
     },
     "execution_count": 80,
     "metadata": {},
     "output_type": "execute_result"
    }
   ],
   "source": [
    "history.history.keys()"
   ]
  },
  {
   "cell_type": "code",
   "execution_count": 81,
   "metadata": {},
   "outputs": [
    {
     "data": {
      "image/png": "[encoded data removed]",
      "text/plain": [
       "<Figure size 432x288 with 1 Axes>"
      ]
     },
     "metadata": {
      "needs_background": "light"
     },
     "output_type": "display_data"
    }
   ],
   "source": [
    "loss = history.history['recall_1']\n",
    "val_loss = history.history['val_recall_1']\n",
    "\n",
    "x_len = np.arange(len(acc))\n",
    "\n",
    "plt.plot(x_len, loss, marker='.', c='blue', label=\"Train-set loss.\")\n",
    "plt.plot(x_len, val_loss, marker='.', c='red', label=\"Validation-set loss.\")\n",
    "\n",
    "plt.legend(loc='upper right')\n",
    "plt.grid()\n",
    "plt.xlabel('epoch')\n",
    "plt.ylabel('Cross-entropy')\n",
    "plt.show()"
   ]
  },
  {
   "cell_type": "code",
   "execution_count": 64,
   "metadata": {},
   "outputs": [
    {
     "data": {
      "text/plain": [
       "array([[7.80945539e-01, 2.19054431e-01],\n",
       "       [8.32793653e-01, 1.67206317e-01],\n",
       "       [9.80425417e-01, 1.95746291e-02],\n",
       "       [3.92444395e-02, 9.60755587e-01],\n",
       "       [4.58185822e-01, 5.41814148e-01],\n",
       "       [9.24406052e-01, 7.55939782e-02],\n",
       "       [8.93293298e-04, 9.99106705e-01],\n",
       "       [1.11927576e-01, 8.88072431e-01],\n",
       "       [8.57481718e-01, 1.42518297e-01],\n",
       "       [3.92728627e-01, 6.07271433e-01],\n",
       "       [8.86818886e-01, 1.13181122e-01],\n",
       "       [1.23454697e-01, 8.76545310e-01],\n",
       "       [8.04122388e-01, 1.95877656e-01],\n",
       "       [6.20015934e-02, 9.37998414e-01],\n",
       "       [6.89736102e-04, 9.99310255e-01],\n",
       "       [2.09877536e-01, 7.90122390e-01],\n",
       "       [8.32793653e-01, 1.67206317e-01],\n",
       "       [9.65828419e-01, 3.41716148e-02],\n",
       "       [8.91959131e-01, 1.08040877e-01],\n",
       "       [9.26304201e-05, 9.99907374e-01],\n",
       "       [8.73148024e-01, 1.26852021e-01],\n",
       "       [2.01055668e-02, 9.79894459e-01],\n",
       "       [8.04122388e-01, 1.95877656e-01],\n",
       "       [9.24406052e-01, 7.55939782e-02],\n",
       "       [3.65733743e-01, 6.34266257e-01],\n",
       "       [1.17957525e-01, 8.82042527e-01],\n",
       "       [8.32793653e-01, 1.67206317e-01],\n",
       "       [3.65733743e-01, 6.34266257e-01],\n",
       "       [2.40880321e-03, 9.97591257e-01],\n",
       "       [9.33284879e-01, 6.67150840e-02],\n",
       "       [8.49004626e-01, 1.50995404e-01],\n",
       "       [9.12809297e-02, 9.08719003e-01],\n",
       "       [8.32793653e-01, 1.67206317e-01],\n",
       "       [9.24406052e-01, 7.55939782e-02],\n",
       "       [8.86818886e-01, 1.13181122e-01],\n",
       "       [9.89429533e-01, 1.05705392e-02],\n",
       "       [8.91959131e-01, 1.08040877e-01],\n",
       "       [8.73148024e-01, 1.26852021e-01],\n",
       "       [8.73148024e-01, 1.26852021e-01],\n",
       "       [8.43627989e-01, 1.56371996e-01],\n",
       "       [7.09670544e-01, 2.90329456e-01],\n",
       "       [7.80945539e-01, 2.19054431e-01],\n",
       "       [8.32793653e-01, 1.67206317e-01],\n",
       "       [9.87341583e-01, 1.26584591e-02],\n",
       "       [2.38989742e-06, 9.99997616e-01],\n",
       "       [8.32793653e-01, 1.67206317e-01],\n",
       "       [8.32793653e-01, 1.67206317e-01],\n",
       "       [1.81725360e-02, 9.81827438e-01],\n",
       "       [8.44106555e-01, 1.55893430e-01],\n",
       "       [9.96547043e-01, 3.45301162e-03],\n",
       "       [9.24406052e-01, 7.55939782e-02],\n",
       "       [8.57481718e-01, 1.42518297e-01],\n",
       "       [6.20015934e-02, 9.37998414e-01],\n",
       "       [8.32793653e-01, 1.67206317e-01],\n",
       "       [8.05772245e-01, 1.94227785e-01],\n",
       "       [9.65828419e-01, 3.41716148e-02],\n",
       "       [6.91751301e-01, 3.08248639e-01],\n",
       "       [9.46780503e-01, 5.32195047e-02],\n",
       "       [9.99105513e-01, 8.94409313e-04],\n",
       "       [8.83839309e-01, 1.16160668e-01],\n",
       "       [7.80945539e-01, 2.19054431e-01],\n",
       "       [9.01193559e-01, 9.88064706e-02],\n",
       "       [1.21316034e-03, 9.98786867e-01],\n",
       "       [4.74643409e-01, 5.25356591e-01],\n",
       "       [6.20334029e-01, 3.79666060e-01],\n",
       "       [8.04122388e-01, 1.95877656e-01],\n",
       "       [9.81815683e-05, 9.99901772e-01],\n",
       "       [9.92485762e-01, 7.51423230e-03],\n",
       "       [6.20015934e-02, 9.37998414e-01],\n",
       "       [1.81378142e-04, 9.99818623e-01],\n",
       "       [2.40880321e-03, 9.97591257e-01],\n",
       "       [9.25791800e-01, 7.42081702e-02],\n",
       "       [8.57481718e-01, 1.42518297e-01],\n",
       "       [8.32793653e-01, 1.67206317e-01],\n",
       "       [8.32793653e-01, 1.67206317e-01],\n",
       "       [5.20300679e-02, 9.47969973e-01],\n",
       "       [9.99559462e-01, 4.40544129e-04],\n",
       "       [8.37615252e-01, 1.62384734e-01],\n",
       "       [8.91959131e-01, 1.08040877e-01],\n",
       "       [7.81303763e-01, 2.18696222e-01],\n",
       "       [8.22266698e-01, 1.77733257e-01],\n",
       "       [2.42726092e-05, 9.99975681e-01],\n",
       "       [1.08366096e-02, 9.89163399e-01],\n",
       "       [8.10437918e-01, 1.89562112e-01],\n",
       "       [8.44106555e-01, 1.55893430e-01],\n",
       "       [1.81378142e-04, 9.99818623e-01],\n",
       "       [3.69868467e-05, 9.99963045e-01],\n",
       "       [6.69521511e-01, 3.30478430e-01],\n",
       "       [3.23372148e-02, 9.67662811e-01],\n",
       "       [9.92394924e-01, 7.60511030e-03],\n",
       "       [9.24406052e-01, 7.55939782e-02],\n",
       "       [8.32793653e-01, 1.67206317e-01],\n",
       "       [1.93164175e-04, 9.99806821e-01],\n",
       "       [2.32850907e-05, 9.99976754e-01],\n",
       "       [9.33284998e-01, 6.67150617e-02],\n",
       "       [7.80945659e-01, 2.19054386e-01],\n",
       "       [1.08366096e-02, 9.89163399e-01],\n",
       "       [9.87341583e-01, 1.26584591e-02],\n",
       "       [5.94375432e-01, 4.05624628e-01],\n",
       "       [8.05772245e-01, 1.94227785e-01],\n",
       "       [9.97738719e-01, 2.26128730e-03],\n",
       "       [9.83505428e-01, 1.64945554e-02],\n",
       "       [8.32793653e-01, 1.67206317e-01],\n",
       "       [9.57348585e-01, 4.26514037e-02],\n",
       "       [6.20334029e-01, 3.79666060e-01],\n",
       "       [8.61000299e-01, 1.38999686e-01],\n",
       "       [2.29009874e-02, 9.77099001e-01],\n",
       "       [9.95465338e-01, 4.53466550e-03],\n",
       "       [9.27649558e-01, 7.23503754e-02],\n",
       "       [2.20780596e-01, 7.79219329e-01],\n",
       "       [8.91959131e-01, 1.08040877e-01],\n",
       "       [1.57898239e-06, 9.99998450e-01],\n",
       "       [8.32793653e-01, 1.67206317e-01],\n",
       "       [3.65733743e-01, 6.34266257e-01],\n",
       "       [9.98430073e-01, 1.56992639e-03],\n",
       "       [8.29907060e-02, 9.17009354e-01],\n",
       "       [4.13465381e-01, 5.86534560e-01],\n",
       "       [9.94825721e-01, 5.17430529e-03],\n",
       "       [8.91959131e-01, 1.08040877e-01],\n",
       "       [1.11036729e-02, 9.88896370e-01],\n",
       "       [8.32793653e-01, 1.67206317e-01],\n",
       "       [8.04122388e-01, 1.95877656e-01],\n",
       "       [8.32793653e-01, 1.67206317e-01],\n",
       "       [9.42634046e-01, 5.73659204e-02],\n",
       "       [8.91959131e-01, 1.08040877e-01],\n",
       "       [6.88580513e-01, 3.11419457e-01],\n",
       "       [7.80945659e-01, 2.19054386e-01],\n",
       "       [8.86818886e-01, 1.13181151e-01],\n",
       "       [8.73148024e-01, 1.26852021e-01],\n",
       "       [8.43627989e-01, 1.56371996e-01],\n",
       "       [2.08666131e-01, 7.91333914e-01],\n",
       "       [8.32793653e-01, 1.67206317e-01],\n",
       "       [8.32793653e-01, 1.67206317e-01],\n",
       "       [5.52940965e-01, 4.47059035e-01],\n",
       "       [6.91751301e-01, 3.08248639e-01],\n",
       "       [8.32793653e-01, 1.67206317e-01],\n",
       "       [8.22266698e-01, 1.77733257e-01],\n",
       "       [6.38611972e-01, 3.61388028e-01],\n",
       "       [9.78942335e-01, 2.10575853e-02],\n",
       "       [8.73148024e-01, 1.26852021e-01],\n",
       "       [8.73148024e-01, 1.26852021e-01],\n",
       "       [2.81549219e-05, 9.99971867e-01],\n",
       "       [8.32793653e-01, 1.67206317e-01],\n",
       "       [2.08666131e-01, 7.91333914e-01],\n",
       "       [8.29907060e-02, 9.17009354e-01],\n",
       "       [3.65733743e-01, 6.34266257e-01],\n",
       "       [8.73148024e-01, 1.26852021e-01],\n",
       "       [1.85757177e-03, 9.98142481e-01],\n",
       "       [2.91863028e-02, 9.70813692e-01],\n",
       "       [8.32793653e-01, 1.67206317e-01],\n",
       "       [9.25791800e-01, 7.42081702e-02],\n",
       "       [3.65733743e-01, 6.34266257e-01],\n",
       "       [5.90575635e-01, 4.09424424e-01],\n",
       "       [8.32793653e-01, 1.67206317e-01],\n",
       "       [4.74659652e-02, 9.52534020e-01],\n",
       "       [8.73148024e-01, 1.26852021e-01],\n",
       "       [3.21388364e-01, 6.78611696e-01],\n",
       "       [9.14440513e-01, 8.55594873e-02],\n",
       "       [2.08666161e-01, 7.91333854e-01],\n",
       "       [3.18347543e-01, 6.81652427e-01],\n",
       "       [8.32793653e-01, 1.67206317e-01],\n",
       "       [7.80945539e-01, 2.19054431e-01],\n",
       "       [7.84583899e-05, 9.99921560e-01],\n",
       "       [9.58990455e-01, 4.10094969e-02],\n",
       "       [8.57630551e-01, 1.42369464e-01],\n",
       "       [8.32793653e-01, 1.67206317e-01],\n",
       "       [9.60217595e-01, 3.97823788e-02],\n",
       "       [8.32793653e-01, 1.67206317e-01],\n",
       "       [8.32793653e-01, 1.67206317e-01],\n",
       "       [8.32793653e-01, 1.67206317e-01],\n",
       "       [9.60217595e-01, 3.97823788e-02],\n",
       "       [2.32850907e-05, 9.99976754e-01],\n",
       "       [8.32793653e-01, 1.67206317e-01],\n",
       "       [8.32793653e-01, 1.67206317e-01],\n",
       "       [1.76979601e-01, 8.23020399e-01],\n",
       "       [8.32793653e-01, 1.67206317e-01],\n",
       "       [1.07970322e-02, 9.89202917e-01],\n",
       "       [8.32793653e-01, 1.67206317e-01],\n",
       "       [8.32793653e-01, 1.67206317e-01],\n",
       "       [3.95352662e-01, 6.04647279e-01],\n",
       "       [8.73148024e-01, 1.26852021e-01],\n",
       "       [8.55328679e-01, 1.44671321e-01],\n",
       "       [7.80945539e-01, 2.19054431e-01],\n",
       "       [8.32793653e-01, 1.67206317e-01],\n",
       "       [6.36877120e-01, 3.63122851e-01],\n",
       "       [8.32793653e-01, 1.67206317e-01],\n",
       "       [2.08666131e-01, 7.91333914e-01],\n",
       "       [8.73148024e-01, 1.26852021e-01],\n",
       "       [8.32793653e-01, 1.67206317e-01],\n",
       "       [8.11009407e-02, 9.18899000e-01],\n",
       "       [5.52940965e-01, 4.47059035e-01],\n",
       "       [9.40387785e-01, 5.96122146e-02],\n",
       "       [1.76979601e-01, 8.23020399e-01],\n",
       "       [2.08666131e-01, 7.91333914e-01],\n",
       "       [8.04122388e-01, 1.95877656e-01],\n",
       "       [8.19046080e-01, 1.80953830e-01],\n",
       "       [8.32793653e-01, 1.67206317e-01],\n",
       "       [5.84915459e-01, 4.15084571e-01],\n",
       "       [6.36877120e-01, 3.63122851e-01],\n",
       "       [9.60217595e-01, 3.97823788e-02],\n",
       "       [8.32793653e-01, 1.67206317e-01],\n",
       "       [2.56499529e-01, 7.43500471e-01],\n",
       "       [9.43801820e-01, 5.61981983e-02],\n",
       "       [2.60694444e-01, 7.39305615e-01],\n",
       "       [8.32793653e-01, 1.67206317e-01],\n",
       "       [8.27920020e-01, 1.72080025e-01],\n",
       "       [4.13465381e-01, 5.86534560e-01],\n",
       "       [8.32793653e-01, 1.67206317e-01],\n",
       "       [1.08049542e-01, 8.91950488e-01],\n",
       "       [9.60217595e-01, 3.97823788e-02],\n",
       "       [8.32793653e-01, 1.67206317e-01],\n",
       "       [4.74643588e-01, 5.25356412e-01],\n",
       "       [9.99105513e-01, 8.94409313e-04],\n",
       "       [2.88142174e-01, 7.11857796e-01],\n",
       "       [8.44106555e-01, 1.55893430e-01],\n",
       "       [8.32793653e-01, 1.67206317e-01],\n",
       "       [7.21855640e-01, 2.78144360e-01],\n",
       "       [5.42269042e-03, 9.94577289e-01],\n",
       "       [9.95465338e-01, 4.53466550e-03],\n",
       "       [1.11247562e-02, 9.88875270e-01],\n",
       "       [8.32793653e-01, 1.67206317e-01],\n",
       "       [1.81725360e-02, 9.81827438e-01],\n",
       "       [5.84915459e-01, 4.15084630e-01],\n",
       "       [8.32793653e-01, 1.67206317e-01],\n",
       "       [9.98590648e-01, 1.40934275e-03],\n",
       "       [8.86818886e-01, 1.13181122e-01],\n",
       "       [8.32793653e-01, 1.67206317e-01],\n",
       "       [3.23372148e-02, 9.67662811e-01],\n",
       "       [8.32793653e-01, 1.67206317e-01],\n",
       "       [9.57348585e-01, 4.26514037e-02],\n",
       "       [8.91959131e-01, 1.08040877e-01],\n",
       "       [3.25519621e-01, 6.74480379e-01],\n",
       "       [3.65733743e-01, 6.34266257e-01],\n",
       "       [3.65733743e-01, 6.34266257e-01],\n",
       "       [6.91751301e-01, 3.08248639e-01],\n",
       "       [8.86818886e-01, 1.13181122e-01],\n",
       "       [8.10466860e-10, 1.00000000e+00],\n",
       "       [2.19453163e-02, 9.78054702e-01],\n",
       "       [1.85757177e-03, 9.98142481e-01],\n",
       "       [8.32793653e-01, 1.67206317e-01],\n",
       "       [7.80945539e-01, 2.19054431e-01],\n",
       "       [2.48671859e-04, 9.99751270e-01],\n",
       "       [8.32793653e-01, 1.67206317e-01],\n",
       "       [8.44106555e-01, 1.55893430e-01],\n",
       "       [9.65318577e-06, 9.99990344e-01],\n",
       "       [3.74580763e-04, 9.99625444e-01],\n",
       "       [2.08666131e-01, 7.91333914e-01],\n",
       "       [8.32793653e-01, 1.67206317e-01],\n",
       "       [8.32793653e-01, 1.67206317e-01],\n",
       "       [4.13465381e-01, 5.86534560e-01],\n",
       "       [8.32793653e-01, 1.67206317e-01],\n",
       "       [8.76611829e-01, 1.23388201e-01],\n",
       "       [8.97099495e-01, 1.02900498e-01],\n",
       "       [8.73148024e-01, 1.26852021e-01],\n",
       "       [9.60327744e-01, 3.96722704e-02],\n",
       "       [4.13465381e-01, 5.86534679e-01],\n",
       "       [2.08666101e-01, 7.91333914e-01],\n",
       "       [8.91959131e-01, 1.08040906e-01],\n",
       "       [9.99969482e-01, 3.05323229e-05],\n",
       "       [9.79808509e-01, 2.01915223e-02],\n",
       "       [8.32793653e-01, 1.67206317e-01],\n",
       "       [8.15149903e-01, 1.84850171e-01],\n",
       "       [8.49004626e-01, 1.50995389e-01],\n",
       "       [6.36877060e-01, 3.63122910e-01],\n",
       "       [8.04122388e-01, 1.95877612e-01],\n",
       "       [7.90696502e-01, 2.09303528e-01],\n",
       "       [3.65733773e-01, 6.34266198e-01],\n",
       "       [8.05772245e-01, 1.94227785e-01]], dtype=float32)"
      ]
     },
     "execution_count": 64,
     "metadata": {},
     "output_type": "execute_result"
    }
   ],
   "source": [
    "# 'Predict' on test data\n",
    "\n",
    "model.predict(test_data)"
   ]
  },
  {
   "cell_type": "code",
   "execution_count": 65,
   "metadata": {},
   "outputs": [
    {
     "data": {
      "text/plain": [
       "array([0, 0, 0, 1, 1, 0, 1, 1, 0, 1, 0, 1, 0, 1, 1, 1, 0, 0, 0, 1, 0, 1,\n",
       "       0, 0, 1, 1, 0, 1, 1, 0, 0, 1, 0, 0, 0, 0, 0, 0, 0, 0, 0, 0, 0, 0,\n",
       "       1, 0, 0, 1, 0, 0, 0, 0, 1, 0, 0, 0, 0, 0, 0, 0, 0, 0, 1, 1, 0, 0,\n",
       "       1, 0, 1, 1, 1, 0, 0, 0, 0, 1, 0, 0, 0, 0, 0, 1, 1, 0, 0, 1, 1, 0,\n",
       "       1, 0, 0, 0, 1, 1, 0, 0, 1, 0, 0, 0, 0, 0, 0, 0, 0, 0, 1, 0, 0, 1,\n",
       "       0, 1, 0, 1, 0, 1, 1, 0, 0, 1, 0, 0, 0, 0, 0, 0, 0, 0, 0, 0, 1, 0,\n",
       "       0, 0, 0, 0, 0, 0, 0, 0, 0, 1, 0, 1, 1, 1, 0, 1, 1, 0, 0, 1, 0, 0,\n",
       "       1, 0, 1, 0, 1, 1, 0, 0, 1, 0, 0, 0, 0, 0, 0, 0, 0, 1, 0, 0, 1, 0,\n",
       "       1, 0, 0, 1, 0, 0, 0, 0, 0, 0, 1, 0, 0, 1, 0, 0, 1, 1, 0, 0, 0, 0,\n",
       "       0, 0, 0, 1, 0, 1, 0, 0, 1, 0, 1, 0, 0, 1, 0, 1, 0, 0, 0, 1, 0, 1,\n",
       "       0, 1, 0, 0, 0, 0, 0, 1, 0, 0, 0, 1, 1, 1, 0, 0, 1, 1, 1, 0, 0, 1,\n",
       "       0, 0, 1, 1, 1, 0, 0, 1, 0, 0, 0, 0, 0, 1, 1, 0, 0, 0, 0, 0, 0, 0,\n",
       "       0, 0, 1, 0], dtype=int64)"
      ]
     },
     "execution_count": 65,
     "metadata": {},
     "output_type": "execute_result"
    }
   ],
   "source": [
    "np.argmax(model.predict(test_data), axis=1)"
   ]
  },
  {
   "cell_type": "code",
   "execution_count": 66,
   "metadata": {},
   "outputs": [],
   "source": [
    "sample_data = np.array([[3, 0, 0.0, 0.0, 1, 1, 2.0, 0]])"
   ]
  },
  {
   "cell_type": "code",
   "execution_count": 67,
   "metadata": {},
   "outputs": [
    {
     "data": {
      "text/plain": [
       "array([[0.9804254 , 0.01957463]], dtype=float32)"
      ]
     },
     "execution_count": 67,
     "metadata": {},
     "output_type": "execute_result"
    }
   ],
   "source": [
    "# out_put layout의 확률 : 죽었을 확률/ 살았을 확률\n",
    "model.predict(sample_data)"
   ]
  },
  {
   "cell_type": "code",
   "execution_count": 68,
   "metadata": {},
   "outputs": [
    {
     "data": {
      "text/plain": [
       "array([0], dtype=int64)"
      ]
     },
     "execution_count": 68,
     "metadata": {},
     "output_type": "execute_result"
    }
   ],
   "source": [
    "np.argmax(model.predict(sample_data), axis=1)"
   ]
  },
  {
   "cell_type": "code",
   "execution_count": null,
   "metadata": {},
   "outputs": [],
   "source": []
  }
 ],
 "metadata": {
  "kernel_info": {
   "name": "python3"
  },
  "kernelspec": {
   "display_name": "Python 3",
   "language": "python",
   "name": "python3"
  },
  "language_info": {
   "codemirror_mode": {
    "name": "ipython",
    "version": 3
   },
   "file_extension": ".py",
   "mimetype": "text/x-python",
   "name": "python",
   "nbconvert_exporter": "python",
   "pygments_lexer": "ipython3",
   "version": "3.8.8"
  },
  "nteract": {
   "version": "0.15.0"
  }
 },
 "nbformat": 4,
 "nbformat_minor": 2
}
