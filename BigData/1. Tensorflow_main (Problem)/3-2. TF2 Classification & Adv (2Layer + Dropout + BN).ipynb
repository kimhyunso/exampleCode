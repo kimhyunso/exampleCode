{
 "cells": [
  {
   "cell_type": "markdown",
   "metadata": {},
   "source": [
    "#### 참고 : tensorflow.keras 공식 문서 (Official API Docs) @ https://www.tensorflow.org/api_docs/python/tf/keras"
   ]
  },
  {
   "cell_type": "code",
   "execution_count": 1,
   "metadata": {},
   "outputs": [],
   "source": [
    "import tensorflow as tf\n",
    "from tensorflow.keras import datasets, utils\n",
    "from tensorflow.keras import models, layers, activations, initializers, losses, optimizers, metrics\n",
    "\n",
    "import os\n",
    "os.environ['TF_CPP_MIN_LOG_LEVEL'] = '2' # https://stackoverflow.com/questions/35911252/disable-tensorflow-debugging-information"
   ]
  },
  {
   "cell_type": "markdown",
   "metadata": {},
   "source": [
    "<br> \n",
    "\n",
    "#### 1. Prepare train & test data (MNIST)"
   ]
  },
  {
   "cell_type": "markdown",
   "metadata": {},
   "source": [
    "#### Train & Test split"
   ]
  },
  {
   "cell_type": "code",
   "execution_count": 2,
   "metadata": {},
   "outputs": [],
   "source": [
    "(train_data, train_label), (test_data, test_label) = datasets.mnist.load_data()"
   ]
  },
  {
   "cell_type": "markdown",
   "metadata": {},
   "source": [
    "#### Normalization"
   ]
  },
  {
   "cell_type": "code",
   "execution_count": 3,
   "metadata": {},
   "outputs": [],
   "source": [
    "train_data = train_data.reshape(60000, 784) / 255.0\n",
    "test_data = test_data.reshape(10000, 784) / 255.0"
   ]
  },
  {
   "cell_type": "markdown",
   "metadata": {},
   "source": [
    "#### One-hot encoding"
   ]
  },
  {
   "cell_type": "code",
   "execution_count": 4,
   "metadata": {},
   "outputs": [],
   "source": [
    "train_label = utils.to_categorical(train_label) # 0~9 -> one-hot vector\n",
    "test_label = utils.to_categorical(test_label) # 0~9 -> one-hot vector"
   ]
  },
  {
   "cell_type": "markdown",
   "metadata": {},
   "source": [
    "<br> \n",
    "\n",
    "#### 2. Build the model & Set the criterion"
   ]
  },
  {
   "cell_type": "code",
   "execution_count": 5,
   "metadata": {},
   "outputs": [],
   "source": [
    "model = models.Sequential() \n",
    "# model.add(layers.Flatten())\n",
    "\n",
    "model.add(layers.Dense(input_dim=28*28, units=256, activation=None, kernel_initializer=initializers.he_uniform())) \n",
    "model.add(layers.BatchNormalization())\n",
    "model.add(layers.Activation('relu')) # layers.ELU or layers.LeakyReLU\n",
    "model.add(layers.Dropout(rate=0.2))\n",
    "\n",
    "model.add(layers.Dense(units=256, activation=None, kernel_initializer=initializers.he_uniform())) \n",
    "model.add(layers.BatchNormalization())\n",
    "model.add(layers.Activation('relu')) # layers.ELU or layers.LeakyReLU\n",
    "model.add(layers.Dropout(rate=0.2))\n",
    "\n",
    "model.add(layers.Dense(units=10, activation='softmax')) # 0~9"
   ]
  },
  {
   "cell_type": "code",
   "execution_count": 6,
   "metadata": {},
   "outputs": [],
   "source": [
    "# model.compile(optimizer=optimizers.Adam(0.01), \n",
    "#               loss=losses.categorical_crossentropy, \n",
    "#               metrics=[metrics.categorical_accuracy]) # Precision / Recall / F1-Score 적용하기 @ https://j.mp/3cf3lbi\n",
    "model.compile(optimizer=optimizers.Adam(), \n",
    "              loss=losses.categorical_crossentropy, \n",
    "              metrics=[metrics.categorical_accuracy]) # Precision / Recall / F1-Score 적용하기 @ https://j.mp/3cf3lbi\n",
    "\n",
    "# metrics.top_k_categorical_accuracyp\n",
    "# model.compile(optimizer='adam', \n",
    "#               loss=losses.categorical_crossentropy, \n",
    "#               metrics=['accuracy'])"
   ]
  },
  {
   "cell_type": "markdown",
   "metadata": {},
   "source": [
    "<br> \n",
    "\n",
    "#### 3. Train the model"
   ]
  },
  {
   "cell_type": "code",
   "execution_count": 7,
   "metadata": {},
   "outputs": [
    {
     "name": "stdout",
     "output_type": "stream",
     "text": [
      "Epoch 1/15\n",
      "480/480 [==============================] - 2s 4ms/step - loss: 0.3024 - categorical_accuracy: 0.9084 - val_loss: 0.1204 - val_categorical_accuracy: 0.9633\n",
      "Epoch 2/15\n",
      "480/480 [==============================] - 2s 3ms/step - loss: 0.1414 - categorical_accuracy: 0.9566 - val_loss: 0.0944 - val_categorical_accuracy: 0.9725\n",
      "Epoch 3/15\n",
      "480/480 [==============================] - 2s 3ms/step - loss: 0.1041 - categorical_accuracy: 0.9675 - val_loss: 0.0878 - val_categorical_accuracy: 0.9732\n",
      "Epoch 4/15\n",
      "480/480 [==============================] - 2s 3ms/step - loss: 0.0837 - categorical_accuracy: 0.9734 - val_loss: 0.0878 - val_categorical_accuracy: 0.9743\n",
      "Epoch 5/15\n",
      "480/480 [==============================] - 1s 3ms/step - loss: 0.0711 - categorical_accuracy: 0.9766 - val_loss: 0.0749 - val_categorical_accuracy: 0.9783\n",
      "Epoch 6/15\n",
      "480/480 [==============================] - 2s 3ms/step - loss: 0.0609 - categorical_accuracy: 0.9800 - val_loss: 0.0799 - val_categorical_accuracy: 0.9766\n",
      "Epoch 7/15\n",
      "480/480 [==============================] - 2s 3ms/step - loss: 0.0552 - categorical_accuracy: 0.9821 - val_loss: 0.0820 - val_categorical_accuracy: 0.9768\n",
      "Epoch 8/15\n",
      "480/480 [==============================] - 2s 3ms/step - loss: 0.0478 - categorical_accuracy: 0.9842 - val_loss: 0.0745 - val_categorical_accuracy: 0.9783\n",
      "Epoch 9/15\n",
      "480/480 [==============================] - 2s 3ms/step - loss: 0.0440 - categorical_accuracy: 0.9855 - val_loss: 0.0710 - val_categorical_accuracy: 0.9819\n",
      "Epoch 10/15\n",
      "480/480 [==============================] - 2s 3ms/step - loss: 0.0382 - categorical_accuracy: 0.9871 - val_loss: 0.0758 - val_categorical_accuracy: 0.9798\n",
      "Epoch 11/15\n",
      "480/480 [==============================] - 2s 3ms/step - loss: 0.0346 - categorical_accuracy: 0.9883 - val_loss: 0.0752 - val_categorical_accuracy: 0.9809\n",
      "Epoch 12/15\n",
      "480/480 [==============================] - 2s 3ms/step - loss: 0.0350 - categorical_accuracy: 0.9886 - val_loss: 0.0732 - val_categorical_accuracy: 0.9810\n",
      "Epoch 13/15\n",
      "480/480 [==============================] - 2s 3ms/step - loss: 0.0312 - categorical_accuracy: 0.9890 - val_loss: 0.0789 - val_categorical_accuracy: 0.9787\n",
      "Epoch 14/15\n",
      "480/480 [==============================] - 1s 3ms/step - loss: 0.0312 - categorical_accuracy: 0.9894 - val_loss: 0.0798 - val_categorical_accuracy: 0.9815\n",
      "Epoch 15/15\n",
      "480/480 [==============================] - 2s 3ms/step - loss: 0.0292 - categorical_accuracy: 0.9897 - val_loss: 0.0733 - val_categorical_accuracy: 0.9807\n"
     ]
    }
   ],
   "source": [
    "# Training 과정에서 epoch마다 활용할 validation set을 나눠줄 수 있습니다.\n",
    "'''\n",
    "train_data == 60000행\n",
    "train == 0.8 == 48000행 / 100행 -> 480 batches\n",
    "validation == 0.2 == 12000행\n",
    "loss, - categorical_accuracy : train_data의 cross_entropy - train_data의 accuracy\n",
    "val_loss, val_categorical_accuracy : validation_data의 cross_entropy - validation_data의 accuracy\n",
    "'''\n",
    "\n",
    "history = model.fit(train_data, train_label, batch_size=100, epochs=15, validation_split=0.2) "
   ]
  },
  {
   "cell_type": "markdown",
   "metadata": {},
   "source": [
    "<br> \n",
    "\n",
    "#### 4. Test the model"
   ]
  },
  {
   "cell_type": "code",
   "execution_count": 8,
   "metadata": {},
   "outputs": [
    {
     "data": {
      "text/plain": [
       "dict_keys(['loss', 'categorical_accuracy', 'val_loss', 'val_categorical_accuracy'])"
      ]
     },
     "execution_count": 8,
     "metadata": {},
     "output_type": "execute_result"
    }
   ],
   "source": [
    "history.history.keys()"
   ]
  },
  {
   "cell_type": "code",
   "execution_count": 9,
   "metadata": {},
   "outputs": [
    {
     "data": {
      "text/plain": [
       "[0.30235254764556885,\n",
       " 0.14140117168426514,\n",
       " 0.10414157807826996,\n",
       " 0.08366416394710541,\n",
       " 0.07111061364412308,\n",
       " 0.060897547751665115,\n",
       " 0.055240727961063385,\n",
       " 0.04779842123389244,\n",
       " 0.04404144734144211,\n",
       " 0.03824794664978981,\n",
       " 0.03458132967352867,\n",
       " 0.0349837988615036,\n",
       " 0.03124312311410904,\n",
       " 0.031150413677096367,\n",
       " 0.029249701648950577]"
      ]
     },
     "execution_count": 9,
     "metadata": {},
     "output_type": "execute_result"
    }
   ],
   "source": [
    "history.history['loss']"
   ]
  },
  {
   "cell_type": "code",
   "execution_count": 10,
   "metadata": {},
   "outputs": [
    {
     "data": {
      "text/plain": [
       "[0.9083541631698608,\n",
       " 0.9566249847412109,\n",
       " 0.9675416946411133,\n",
       " 0.973395824432373,\n",
       " 0.9766250252723694,\n",
       " 0.9800416827201843,\n",
       " 0.9821041822433472,\n",
       " 0.98416668176651,\n",
       " 0.9854791760444641,\n",
       " 0.9871458411216736,\n",
       " 0.9882916808128357,\n",
       " 0.9886041879653931,\n",
       " 0.9889583587646484,\n",
       " 0.9893958568572998,\n",
       " 0.9896875023841858]"
      ]
     },
     "execution_count": 10,
     "metadata": {},
     "output_type": "execute_result"
    }
   ],
   "source": [
    "history.history['categorical_accuracy']"
   ]
  },
  {
   "cell_type": "code",
   "execution_count": 11,
   "metadata": {
    "scrolled": true
   },
   "outputs": [
    {
     "name": "stdout",
     "output_type": "stream",
     "text": [
      "100/100 [==============================] - 0s 1ms/step - loss: 0.0663 - categorical_accuracy: 0.9821\n",
      "loss (cross-entropy) : 0.06634029000997543\n",
      "test accuracy : 0.9821000099182129\n"
     ]
    }
   ],
   "source": [
    "result = model.evaluate(test_data, test_label, batch_size=100)\n",
    "\n",
    "print('loss (cross-entropy) :', result[0])\n",
    "print('test accuracy :', result[1])"
   ]
  },
  {
   "cell_type": "markdown",
   "metadata": {},
   "source": [
    "<br> \n",
    "\n",
    "#### 5. Visualize the result"
   ]
  },
  {
   "cell_type": "code",
   "execution_count": 12,
   "metadata": {},
   "outputs": [
    {
     "data": {
      "text/plain": [
       "dict_keys(['loss', 'categorical_accuracy', 'val_loss', 'val_categorical_accuracy'])"
      ]
     },
     "execution_count": 12,
     "metadata": {},
     "output_type": "execute_result"
    }
   ],
   "source": [
    "history.history.keys()"
   ]
  },
  {
   "cell_type": "code",
   "execution_count": 13,
   "metadata": {},
   "outputs": [
    {
     "data": {
      "image/png": "[encoded data removed]",
      "text/plain": [
       "<Figure size 432x288 with 1 Axes>"
      ]
     },
     "metadata": {
      "needs_background": "light"
     },
     "output_type": "display_data"
    }
   ],
   "source": [
    "val_acc = history.history['val_categorical_accuracy']\n",
    "acc = history.history['categorical_accuracy']\n",
    "\n",
    "import numpy as np\n",
    "import matplotlib.pyplot as plt\n",
    "\n",
    "x_len = np.arange(len(acc))\n",
    "plt.plot(x_len, acc, marker='.', c='blue', label=\"Train-set Acc.\")\n",
    "plt.plot(x_len, val_acc, marker='.', c='red', label=\"Validation-set Acc.\")\n",
    "\n",
    "plt.legend(loc='lower right')\n",
    "plt.grid()\n",
    "plt.xlabel('epoch')\n",
    "plt.ylabel('Accuracy')\n",
    "plt.show()"
   ]
  },
  {
   "cell_type": "code",
   "execution_count": null,
   "metadata": {},
   "outputs": [],
   "source": []
  },
  {
   "cell_type": "code",
   "execution_count": null,
   "metadata": {},
   "outputs": [],
   "source": []
  },
  {
   "cell_type": "code",
   "execution_count": null,
   "metadata": {},
   "outputs": [],
   "source": []
  }
 ],
 "metadata": {
  "kernel_info": {
   "name": "python3"
  },
  "kernelspec": {
   "display_name": "Python 3",
   "language": "python",
   "name": "python3"
  },
  "language_info": {
   "codemirror_mode": {
    "name": "ipython",
    "version": 3
   },
   "file_extension": ".py",
   "mimetype": "text/x-python",
   "name": "python",
   "nbconvert_exporter": "python",
   "pygments_lexer": "ipython3",
   "version": "3.8.8"
  },
  "nteract": {
   "version": "0.15.0"
  }
 },
 "nbformat": 4,
 "nbformat_minor": 2
}
