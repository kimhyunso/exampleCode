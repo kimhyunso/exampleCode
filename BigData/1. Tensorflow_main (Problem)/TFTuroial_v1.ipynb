{
 "cells": [
  {
   "cell_type": "code",
   "execution_count": 99,
   "id": "f2ef4c77",
   "metadata": {},
   "outputs": [],
   "source": [
    "import warnings\n",
    "import numpy as np\n",
    "import pandas as pd\n",
    "import tensorflow.compat.v1 as tf\n",
    "tf.disable_v2_behavior()\n",
    "from sklearn import datasets\n",
    "warnings.filterwarnings('ignore')\n",
    "from matplotlib import pyplot as plt"
   ]
  },
  {
   "cell_type": "code",
   "execution_count": 87,
   "id": "a4f9e987",
   "metadata": {},
   "outputs": [],
   "source": [
    "def running(*args):\n",
    "    with tf.Session() as sess:\n",
    "        sess.run(args)"
   ]
  },
  {
   "cell_type": "code",
   "execution_count": 46,
   "id": "80a553a7",
   "metadata": {},
   "outputs": [
    {
     "data": {
      "text/plain": [
       "<tf.Tensor 'var_4:0' shape=() dtype=int32>"
      ]
     },
     "execution_count": 46,
     "metadata": {},
     "output_type": "execute_result"
    }
   ],
   "source": [
    "var = tf.add(3, 5, name='var')\n",
    "var"
   ]
  },
  {
   "cell_type": "code",
   "execution_count": 47,
   "id": "42e10c51",
   "metadata": {},
   "outputs": [
    {
     "name": "stdout",
     "output_type": "stream",
     "text": [
      "(8,)\n"
     ]
    }
   ],
   "source": [
    "running(var)"
   ]
  },
  {
   "cell_type": "code",
   "execution_count": 48,
   "id": "ebf82b5f",
   "metadata": {},
   "outputs": [],
   "source": [
    "var = tf.add(np.array(np.arange(10)), np.array(np.arange(10)))"
   ]
  },
  {
   "cell_type": "code",
   "execution_count": 49,
   "id": "0832dccb",
   "metadata": {},
   "outputs": [
    {
     "name": "stdout",
     "output_type": "stream",
     "text": [
      "(array([ 0,  2,  4,  6,  8, 10, 12, 14, 16, 18]),)\n"
     ]
    }
   ],
   "source": [
    "running(var)"
   ]
  },
  {
   "cell_type": "code",
   "execution_count": 50,
   "id": "41f77b76",
   "metadata": {},
   "outputs": [
    {
     "name": "stdout",
     "output_type": "stream",
     "text": [
      "(7776, 10)\n"
     ]
    }
   ],
   "source": [
    "x = 2\n",
    "y = 3\n",
    "op1 = tf.add(x, y, name='add')\n",
    "op2 = tf.multiply(x, y, 'multiple')\n",
    "useless = tf.multiply(x, op1)\n",
    "op3 = tf.pow(op2, op1, name='pow')\n",
    "\n",
    "running(op3, useless)"
   ]
  },
  {
   "cell_type": "code",
   "execution_count": 51,
   "id": "437c1b4a",
   "metadata": {},
   "outputs": [
    {
     "data": {
      "text/html": [
       "<div>\n",
       "<style scoped>\n",
       "    .dataframe tbody tr th:only-of-type {\n",
       "        vertical-align: middle;\n",
       "    }\n",
       "\n",
       "    .dataframe tbody tr th {\n",
       "        vertical-align: top;\n",
       "    }\n",
       "\n",
       "    .dataframe thead th {\n",
       "        text-align: right;\n",
       "    }\n",
       "</style>\n",
       "<table border=\"1\" class=\"dataframe\">\n",
       "  <thead>\n",
       "    <tr style=\"text-align: right;\">\n",
       "      <th></th>\n",
       "      <th>0</th>\n",
       "      <th>1</th>\n",
       "    </tr>\n",
       "  </thead>\n",
       "  <tbody>\n",
       "    <tr>\n",
       "      <th>0</th>\n",
       "      <td>4.98</td>\n",
       "      <td>24.0</td>\n",
       "    </tr>\n",
       "    <tr>\n",
       "      <th>1</th>\n",
       "      <td>9.14</td>\n",
       "      <td>21.6</td>\n",
       "    </tr>\n",
       "    <tr>\n",
       "      <th>2</th>\n",
       "      <td>4.03</td>\n",
       "      <td>34.7</td>\n",
       "    </tr>\n",
       "    <tr>\n",
       "      <th>3</th>\n",
       "      <td>2.94</td>\n",
       "      <td>33.4</td>\n",
       "    </tr>\n",
       "    <tr>\n",
       "      <th>4</th>\n",
       "      <td>5.33</td>\n",
       "      <td>36.2</td>\n",
       "    </tr>\n",
       "  </tbody>\n",
       "</table>\n",
       "</div>"
      ],
      "text/plain": [
       "      0     1\n",
       "0  4.98  24.0\n",
       "1  9.14  21.6\n",
       "2  4.03  34.7\n",
       "3  2.94  33.4\n",
       "4  5.33  36.2"
      ]
     },
     "execution_count": 51,
     "metadata": {},
     "output_type": "execute_result"
    }
   ],
   "source": [
    "x_data = datasets.load_boston().data[:, 12]\n",
    "y_data = datasets.load_boston().target\n",
    "boston_df = pd.DataFrame([x_data, y_data]).transpose()\n",
    "boston_df.head()"
   ]
  },
  {
   "cell_type": "code",
   "execution_count": 59,
   "id": "a923aac7",
   "metadata": {},
   "outputs": [],
   "source": [
    "w = tf.Variable(tf.random_normal([1]))\n",
    "b = tf.Variable(tf.random_normal([1]))\n",
    "y_predicted = w * x_data + b"
   ]
  },
  {
   "cell_type": "code",
   "execution_count": 66,
   "id": "3fa98e05",
   "metadata": {},
   "outputs": [],
   "source": [
    "loss = tf.reduce_mean(tf.square(y_predicted - y_data))\n",
    "# running_rate\n",
    "optimizer = tf.train.GradientDescentOptimizer(0.001)\n",
    "train = optimizer.minimize(loss)"
   ]
  },
  {
   "cell_type": "code",
   "execution_count": 106,
   "id": "8ea32647",
   "metadata": {},
   "outputs": [
    {
     "name": "stdout",
     "output_type": "stream",
     "text": [
      "Step 0 : w [0.12040395] b [1.3244956]\n",
      "loss 484.29345703125\n",
      "\n",
      "Step 1000 : w [0.28137404] b [14.042841]\n",
      "loss 139.9609375\n",
      "\n",
      "Step 2000 : w [-0.18868007] b [21.872221]\n",
      "loss 77.27545166015625\n",
      "\n",
      "Step 3000 : w [-0.47930506] b [26.712967]\n",
      "loss 53.31248092651367\n",
      "\n",
      "Step 4000 : w [-0.65899533] b [29.705948]\n",
      "loss 44.151939392089844\n",
      "\n",
      "Step 5000 : w [-0.77009594] b [31.556477]\n",
      "loss 40.650054931640625\n",
      "\n",
      "Step 6000 : w [-0.83878624] b [32.700607]\n",
      "loss 39.311405181884766\n",
      "\n",
      "Step 7000 : w [-0.881257] b [33.408012]\n",
      "loss 38.799659729003906\n",
      "\n",
      "Step 8000 : w [-0.90751565] b [33.845383]\n",
      "loss 38.60403060913086\n",
      "\n",
      "Step 9000 : w [-0.9237509] b [34.115803]\n",
      "loss 38.52925109863281\n",
      "\n"
     ]
    }
   ],
   "source": [
    "# running(tf.random_poisson(np.arange(10), [10]))\n",
    "with tf.Session() as sess:\n",
    "    sess.run(tf.global_variables_initializer())\n",
    "    for step in range(10000):\n",
    "        sess.run(train)\n",
    "        if step % 1000 == 0:\n",
    "            print(f'Step {step} : w {sess.run(w)} b {sess.run(b)}')\n",
    "            print(f'loss {sess.run(loss)}')        \n",
    "            print()\n",
    "    w_out, b_out = sess.run([w, b])"
   ]
  },
  {
   "cell_type": "code",
   "execution_count": 109,
   "id": "d10afe1f",
   "metadata": {},
   "outputs": [
    {
     "data": {
      "image/png": "[encoded data removed]",
      "text/plain": [
       "<Figure size 720x720 with 1 Axes>"
      ]
     },
     "metadata": {
      "needs_background": "light"
     },
     "output_type": "display_data"
    }
   ],
   "source": [
    "plt.figure(figsize=(10, 10))\n",
    "plt.plot(x_data, y_data, 'bo', label='Real data')\n",
    "plt.plot(x_data, x_data * w_out + b_out, 'ro', label='Prediction')\n",
    "plt.legend()\n",
    "plt.show()"
   ]
  },
  {
   "cell_type": "code",
   "execution_count": null,
   "id": "2fbe5c45",
   "metadata": {},
   "outputs": [],
   "source": []
  }
 ],
 "metadata": {
  "kernelspec": {
   "display_name": "Python 3",
   "language": "python",
   "name": "python3"
  },
  "language_info": {
   "codemirror_mode": {
    "name": "ipython",
    "version": 3
   },
   "file_extension": ".py",
   "mimetype": "text/x-python",
   "name": "python",
   "nbconvert_exporter": "python",
   "pygments_lexer": "ipython3",
   "version": "3.8.8"
  }
 },
 "nbformat": 4,
 "nbformat_minor": 5
}
