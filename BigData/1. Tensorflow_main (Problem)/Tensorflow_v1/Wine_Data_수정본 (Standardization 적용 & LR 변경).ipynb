{
 "cells": [
  {
   "cell_type": "markdown",
   "id": "979e7f8d",
   "metadata": {},
   "source": [
    "## 타겟 데이터\n",
    "- 와인의 종류 0, 1, 2의 세가지 값\n",
    "\n",
    "## 특징 데이터\n",
    "\n",
    "- 알콜(Alcohol)\n",
    "- 말산(Malic acid)\n",
    "- 회분(Ash)\n",
    "- 회분의 알칼리도(Alcalinity of ash)\n",
    "- 마그네슘(Magnesium)\n",
    "- 총 폴리페놀(Total phenols)\n",
    "- 플라보노이드 폴리페놀(Flavanoids)\n",
    "- 비 플라보노이드 폴리페놀(Nonflavanoid phenols)\n",
    "- 프로안토시아닌(Proanthocyanins)\n",
    "- 색상의 강도(Color intensity)\n",
    "- 색상(Hue)\n",
    "- 희석 와인의 OD280/OD315 비율 (OD280/OD315 of diluted wines)\n",
    "- 프롤린(Proline)"
   ]
  },
  {
   "cell_type": "code",
   "execution_count": 1,
   "id": "66c036f3",
   "metadata": {
    "execution": {
     "iopub.execute_input": "2023-03-27T02:11:19.483Z",
     "iopub.status.busy": "2023-03-27T02:11:19.470Z",
     "iopub.status.idle": "2023-03-27T02:11:24.384Z",
     "shell.execute_reply": "2023-03-27T02:11:24.298Z"
    }
   },
   "outputs": [],
   "source": [
    "import tensorflow as tf\n",
    "from tensorflow.keras import datasets, models, layers, utils, losses, optimizers, metrics, initializers, activations\n",
    "from sklearn import datasets, model_selection\n",
    "import pandas as pd\n",
    "import numpy as np\n",
    "from matplotlib import pyplot as plt\n",
    "import seaborn as sns\n",
    "from sklearn import preprocessing\n",
    "wine_data = datasets.load_wine()"
   ]
  },
  {
   "cell_type": "code",
   "execution_count": 2,
   "id": "c7b4c16d",
   "metadata": {
    "execution": {
     "iopub.execute_input": "2023-03-27T02:11:24.412Z",
     "iopub.status.busy": "2023-03-27T02:11:24.400Z",
     "iopub.status.idle": "2023-03-27T02:11:24.430Z",
     "shell.execute_reply": "2023-03-27T02:11:24.312Z"
    }
   },
   "outputs": [],
   "source": [
    "target = wine_data['target']"
   ]
  },
  {
   "cell_type": "code",
   "execution_count": 3,
   "id": "d6973ad9",
   "metadata": {
    "execution": {
     "iopub.execute_input": "2023-03-27T02:11:24.457Z",
     "iopub.status.busy": "2023-03-27T02:11:24.446Z",
     "iopub.status.idle": "2023-03-27T02:11:24.467Z",
     "shell.execute_reply": "2023-03-27T02:11:24.337Z"
    }
   },
   "outputs": [],
   "source": [
    "data = wine_data['data']"
   ]
  },
  {
   "cell_type": "code",
   "execution_count": 4,
   "id": "2ee43049",
   "metadata": {
    "execution": {
     "iopub.execute_input": "2023-03-27T02:11:24.496Z",
     "iopub.status.busy": "2023-03-27T02:11:24.484Z",
     "iopub.status.idle": "2023-03-27T02:11:24.514Z",
     "shell.execute_reply": "2023-03-27T02:11:24.350Z"
    },
    "scrolled": false
   },
   "outputs": [
    {
     "data": {
      "text/html": [
       "<div>\n",
       "<style scoped>\n",
       "    .dataframe tbody tr th:only-of-type {\n",
       "        vertical-align: middle;\n",
       "    }\n",
       "\n",
       "    .dataframe tbody tr th {\n",
       "        vertical-align: top;\n",
       "    }\n",
       "\n",
       "    .dataframe thead th {\n",
       "        text-align: right;\n",
       "    }\n",
       "</style>\n",
       "<table border=\"1\" class=\"dataframe\">\n",
       "  <thead>\n",
       "    <tr style=\"text-align: right;\">\n",
       "      <th></th>\n",
       "      <th>0</th>\n",
       "      <th>1</th>\n",
       "      <th>2</th>\n",
       "      <th>3</th>\n",
       "      <th>4</th>\n",
       "      <th>5</th>\n",
       "      <th>6</th>\n",
       "      <th>7</th>\n",
       "      <th>8</th>\n",
       "      <th>9</th>\n",
       "      <th>10</th>\n",
       "      <th>11</th>\n",
       "      <th>12</th>\n",
       "    </tr>\n",
       "  </thead>\n",
       "  <tbody>\n",
       "    <tr>\n",
       "      <th>0</th>\n",
       "      <td>14.23</td>\n",
       "      <td>1.71</td>\n",
       "      <td>2.43</td>\n",
       "      <td>15.6</td>\n",
       "      <td>127.0</td>\n",
       "      <td>2.80</td>\n",
       "      <td>3.06</td>\n",
       "      <td>0.28</td>\n",
       "      <td>2.29</td>\n",
       "      <td>5.64</td>\n",
       "      <td>1.04</td>\n",
       "      <td>3.92</td>\n",
       "      <td>1065.0</td>\n",
       "    </tr>\n",
       "    <tr>\n",
       "      <th>1</th>\n",
       "      <td>13.20</td>\n",
       "      <td>1.78</td>\n",
       "      <td>2.14</td>\n",
       "      <td>11.2</td>\n",
       "      <td>100.0</td>\n",
       "      <td>2.65</td>\n",
       "      <td>2.76</td>\n",
       "      <td>0.26</td>\n",
       "      <td>1.28</td>\n",
       "      <td>4.38</td>\n",
       "      <td>1.05</td>\n",
       "      <td>3.40</td>\n",
       "      <td>1050.0</td>\n",
       "    </tr>\n",
       "    <tr>\n",
       "      <th>2</th>\n",
       "      <td>13.16</td>\n",
       "      <td>2.36</td>\n",
       "      <td>2.67</td>\n",
       "      <td>18.6</td>\n",
       "      <td>101.0</td>\n",
       "      <td>2.80</td>\n",
       "      <td>3.24</td>\n",
       "      <td>0.30</td>\n",
       "      <td>2.81</td>\n",
       "      <td>5.68</td>\n",
       "      <td>1.03</td>\n",
       "      <td>3.17</td>\n",
       "      <td>1185.0</td>\n",
       "    </tr>\n",
       "    <tr>\n",
       "      <th>3</th>\n",
       "      <td>14.37</td>\n",
       "      <td>1.95</td>\n",
       "      <td>2.50</td>\n",
       "      <td>16.8</td>\n",
       "      <td>113.0</td>\n",
       "      <td>3.85</td>\n",
       "      <td>3.49</td>\n",
       "      <td>0.24</td>\n",
       "      <td>2.18</td>\n",
       "      <td>7.80</td>\n",
       "      <td>0.86</td>\n",
       "      <td>3.45</td>\n",
       "      <td>1480.0</td>\n",
       "    </tr>\n",
       "    <tr>\n",
       "      <th>4</th>\n",
       "      <td>13.24</td>\n",
       "      <td>2.59</td>\n",
       "      <td>2.87</td>\n",
       "      <td>21.0</td>\n",
       "      <td>118.0</td>\n",
       "      <td>2.80</td>\n",
       "      <td>2.69</td>\n",
       "      <td>0.39</td>\n",
       "      <td>1.82</td>\n",
       "      <td>4.32</td>\n",
       "      <td>1.04</td>\n",
       "      <td>2.93</td>\n",
       "      <td>735.0</td>\n",
       "    </tr>\n",
       "    <tr>\n",
       "      <th>...</th>\n",
       "      <td>...</td>\n",
       "      <td>...</td>\n",
       "      <td>...</td>\n",
       "      <td>...</td>\n",
       "      <td>...</td>\n",
       "      <td>...</td>\n",
       "      <td>...</td>\n",
       "      <td>...</td>\n",
       "      <td>...</td>\n",
       "      <td>...</td>\n",
       "      <td>...</td>\n",
       "      <td>...</td>\n",
       "      <td>...</td>\n",
       "    </tr>\n",
       "    <tr>\n",
       "      <th>173</th>\n",
       "      <td>13.71</td>\n",
       "      <td>5.65</td>\n",
       "      <td>2.45</td>\n",
       "      <td>20.5</td>\n",
       "      <td>95.0</td>\n",
       "      <td>1.68</td>\n",
       "      <td>0.61</td>\n",
       "      <td>0.52</td>\n",
       "      <td>1.06</td>\n",
       "      <td>7.70</td>\n",
       "      <td>0.64</td>\n",
       "      <td>1.74</td>\n",
       "      <td>740.0</td>\n",
       "    </tr>\n",
       "    <tr>\n",
       "      <th>174</th>\n",
       "      <td>13.40</td>\n",
       "      <td>3.91</td>\n",
       "      <td>2.48</td>\n",
       "      <td>23.0</td>\n",
       "      <td>102.0</td>\n",
       "      <td>1.80</td>\n",
       "      <td>0.75</td>\n",
       "      <td>0.43</td>\n",
       "      <td>1.41</td>\n",
       "      <td>7.30</td>\n",
       "      <td>0.70</td>\n",
       "      <td>1.56</td>\n",
       "      <td>750.0</td>\n",
       "    </tr>\n",
       "    <tr>\n",
       "      <th>175</th>\n",
       "      <td>13.27</td>\n",
       "      <td>4.28</td>\n",
       "      <td>2.26</td>\n",
       "      <td>20.0</td>\n",
       "      <td>120.0</td>\n",
       "      <td>1.59</td>\n",
       "      <td>0.69</td>\n",
       "      <td>0.43</td>\n",
       "      <td>1.35</td>\n",
       "      <td>10.20</td>\n",
       "      <td>0.59</td>\n",
       "      <td>1.56</td>\n",
       "      <td>835.0</td>\n",
       "    </tr>\n",
       "    <tr>\n",
       "      <th>176</th>\n",
       "      <td>13.17</td>\n",
       "      <td>2.59</td>\n",
       "      <td>2.37</td>\n",
       "      <td>20.0</td>\n",
       "      <td>120.0</td>\n",
       "      <td>1.65</td>\n",
       "      <td>0.68</td>\n",
       "      <td>0.53</td>\n",
       "      <td>1.46</td>\n",
       "      <td>9.30</td>\n",
       "      <td>0.60</td>\n",
       "      <td>1.62</td>\n",
       "      <td>840.0</td>\n",
       "    </tr>\n",
       "    <tr>\n",
       "      <th>177</th>\n",
       "      <td>14.13</td>\n",
       "      <td>4.10</td>\n",
       "      <td>2.74</td>\n",
       "      <td>24.5</td>\n",
       "      <td>96.0</td>\n",
       "      <td>2.05</td>\n",
       "      <td>0.76</td>\n",
       "      <td>0.56</td>\n",
       "      <td>1.35</td>\n",
       "      <td>9.20</td>\n",
       "      <td>0.61</td>\n",
       "      <td>1.60</td>\n",
       "      <td>560.0</td>\n",
       "    </tr>\n",
       "  </tbody>\n",
       "</table>\n",
       "<p>178 rows × 13 columns</p>\n",
       "</div>"
      ],
      "text/plain": [
       "        0     1     2     3      4     5     6     7     8      9     10  \\\n",
       "0    14.23  1.71  2.43  15.6  127.0  2.80  3.06  0.28  2.29   5.64  1.04   \n",
       "1    13.20  1.78  2.14  11.2  100.0  2.65  2.76  0.26  1.28   4.38  1.05   \n",
       "2    13.16  2.36  2.67  18.6  101.0  2.80  3.24  0.30  2.81   5.68  1.03   \n",
       "3    14.37  1.95  2.50  16.8  113.0  3.85  3.49  0.24  2.18   7.80  0.86   \n",
       "4    13.24  2.59  2.87  21.0  118.0  2.80  2.69  0.39  1.82   4.32  1.04   \n",
       "..     ...   ...   ...   ...    ...   ...   ...   ...   ...    ...   ...   \n",
       "173  13.71  5.65  2.45  20.5   95.0  1.68  0.61  0.52  1.06   7.70  0.64   \n",
       "174  13.40  3.91  2.48  23.0  102.0  1.80  0.75  0.43  1.41   7.30  0.70   \n",
       "175  13.27  4.28  2.26  20.0  120.0  1.59  0.69  0.43  1.35  10.20  0.59   \n",
       "176  13.17  2.59  2.37  20.0  120.0  1.65  0.68  0.53  1.46   9.30  0.60   \n",
       "177  14.13  4.10  2.74  24.5   96.0  2.05  0.76  0.56  1.35   9.20  0.61   \n",
       "\n",
       "       11      12  \n",
       "0    3.92  1065.0  \n",
       "1    3.40  1050.0  \n",
       "2    3.17  1185.0  \n",
       "3    3.45  1480.0  \n",
       "4    2.93   735.0  \n",
       "..    ...     ...  \n",
       "173  1.74   740.0  \n",
       "174  1.56   750.0  \n",
       "175  1.56   835.0  \n",
       "176  1.62   840.0  \n",
       "177  1.60   560.0  \n",
       "\n",
       "[178 rows x 13 columns]"
      ]
     },
     "execution_count": 4,
     "metadata": {},
     "output_type": "execute_result"
    }
   ],
   "source": [
    "pd.DataFrame(data)"
   ]
  },
  {
   "cell_type": "code",
   "execution_count": 5,
   "id": "96420735",
   "metadata": {
    "execution": {
     "iopub.execute_input": "2023-03-27T02:11:24.549Z",
     "iopub.status.busy": "2023-03-27T02:11:24.536Z",
     "iopub.status.idle": "2023-03-27T02:11:24.568Z",
     "shell.execute_reply": "2023-03-27T02:11:24.362Z"
    }
   },
   "outputs": [
    {
     "data": {
      "text/plain": [
       "array([0, 0, 0, 0, 0, 0, 0, 0, 0, 0, 0, 0, 0, 0, 0, 0, 0, 0, 0, 0, 0, 0,\n",
       "       0, 0, 0, 0, 0, 0, 0, 0, 0, 0, 0, 0, 0, 0, 0, 0, 0, 0, 0, 0, 0, 0,\n",
       "       0, 0, 0, 0, 0, 0, 0, 0, 0, 0, 0, 0, 0, 0, 0, 1, 1, 1, 1, 1, 1, 1,\n",
       "       1, 1, 1, 1, 1, 1, 1, 1, 1, 1, 1, 1, 1, 1, 1, 1, 1, 1, 1, 1, 1, 1,\n",
       "       1, 1, 1, 1, 1, 1, 1, 1, 1, 1, 1, 1, 1, 1, 1, 1, 1, 1, 1, 1, 1, 1,\n",
       "       1, 1, 1, 1, 1, 1, 1, 1, 1, 1, 1, 1, 1, 1, 1, 1, 1, 1, 1, 1, 2, 2,\n",
       "       2, 2, 2, 2, 2, 2, 2, 2, 2, 2, 2, 2, 2, 2, 2, 2, 2, 2, 2, 2, 2, 2,\n",
       "       2, 2, 2, 2, 2, 2, 2, 2, 2, 2, 2, 2, 2, 2, 2, 2, 2, 2, 2, 2, 2, 2,\n",
       "       2, 2])"
      ]
     },
     "execution_count": 5,
     "metadata": {},
     "output_type": "execute_result"
    }
   ],
   "source": [
    "target"
   ]
  },
  {
   "cell_type": "code",
   "execution_count": 6,
   "id": "37a5a8ee",
   "metadata": {
    "execution": {
     "iopub.execute_input": "2023-03-27T02:11:25.858Z",
     "iopub.status.busy": "2023-03-27T02:11:25.845Z",
     "iopub.status.idle": "2023-03-27T02:11:25.874Z",
     "shell.execute_reply": "2023-03-27T02:11:25.887Z"
    }
   },
   "outputs": [],
   "source": [
    "x_train, x_test, y_train, y_test = model_selection.train_test_split(data, target, test_size=0.2, random_state=42)"
   ]
  },
  {
   "cell_type": "code",
   "execution_count": 7,
   "id": "3566df65-ba54-42b5-add6-2b5d9b1b3dab",
   "metadata": {
    "execution": {
     "iopub.execute_input": "2023-03-27T02:11:28.497Z",
     "iopub.status.busy": "2023-03-27T02:11:28.483Z",
     "iopub.status.idle": "2023-03-27T02:11:28.518Z",
     "shell.execute_reply": "2023-03-27T02:11:28.529Z"
    },
    "jupyter": {
     "outputs_hidden": false,
     "source_hidden": false
    },
    "nteract": {
     "transient": {
      "deleting": false
     }
    }
   },
   "outputs": [],
   "source": [
    "sc = preprocessing.StandardScaler()\n",
    "sc.fit(x_train)\n",
    "\n",
    "x_train = sc.transform(x_train)\n",
    "x_test = sc.transform(x_test)"
   ]
  },
  {
   "cell_type": "code",
   "execution_count": 8,
   "id": "c00063ed",
   "metadata": {
    "execution": {
     "iopub.execute_input": "2023-03-27T02:11:28.849Z",
     "iopub.status.busy": "2023-03-27T02:11:28.825Z",
     "iopub.status.idle": "2023-03-27T02:11:28.871Z",
     "shell.execute_reply": "2023-03-27T02:11:28.882Z"
    }
   },
   "outputs": [
    {
     "name": "stdout",
     "output_type": "stream",
     "text": [
      "(142, 13)\n",
      "(36, 13)\n"
     ]
    }
   ],
   "source": [
    "print(x_train.shape)\n",
    "print(x_test.shape)"
   ]
  },
  {
   "cell_type": "code",
   "execution_count": 9,
   "id": "802844ad",
   "metadata": {
    "execution": {
     "iopub.execute_input": "2023-03-27T02:11:29.365Z",
     "iopub.status.busy": "2023-03-27T02:11:29.351Z",
     "iopub.status.idle": "2023-03-27T02:11:29.388Z",
     "shell.execute_reply": "2023-03-27T02:11:29.400Z"
    }
   },
   "outputs": [
    {
     "name": "stdout",
     "output_type": "stream",
     "text": [
      "(142,)\n",
      "(36,)\n"
     ]
    }
   ],
   "source": [
    "print(y_train.shape)\n",
    "print(y_test.shape)"
   ]
  },
  {
   "cell_type": "code",
   "execution_count": 10,
   "id": "0618c2a3",
   "metadata": {
    "execution": {
     "iopub.execute_input": "2023-03-27T02:11:30.222Z",
     "iopub.status.busy": "2023-03-27T02:11:30.211Z",
     "iopub.status.idle": "2023-03-27T02:11:30.241Z",
     "shell.execute_reply": "2023-03-27T02:11:30.255Z"
    }
   },
   "outputs": [],
   "source": [
    "y_train = utils.to_categorical(y_train)\n",
    "y_test = utils.to_categorical(y_test)"
   ]
  },
  {
   "cell_type": "code",
   "execution_count": 11,
   "id": "f9f19cbe",
   "metadata": {
    "execution": {
     "iopub.execute_input": "2023-03-27T02:11:30.767Z",
     "iopub.status.busy": "2023-03-27T02:11:30.751Z",
     "iopub.status.idle": "2023-03-27T02:11:30.791Z",
     "shell.execute_reply": "2023-03-27T02:11:30.802Z"
    }
   },
   "outputs": [
    {
     "name": "stdout",
     "output_type": "stream",
     "text": [
      "(142, 3)\n",
      "(36, 3)\n"
     ]
    }
   ],
   "source": [
    "print(y_train.shape)\n",
    "print(y_test.shape)"
   ]
  },
  {
   "cell_type": "code",
   "execution_count": 12,
   "id": "f9a6218f",
   "metadata": {
    "execution": {
     "iopub.execute_input": "2023-03-27T02:11:32.455Z",
     "iopub.status.busy": "2023-03-27T02:11:32.438Z",
     "iopub.status.idle": "2023-03-27T02:11:32.530Z",
     "shell.execute_reply": "2023-03-27T02:11:32.543Z"
    }
   },
   "outputs": [],
   "source": [
    "\n",
    "model = models.Sequential()\n",
    "elu = activations.elu\n",
    "softmax = activations.softmax\n",
    "\n",
    "model.add(layers.Dense(input_dim=x_train.shape[1], units=512, activation=None, kernel_initializer=initializers.he_uniform()))\n",
    "model.add(layers.Activation(elu))\n",
    "\n",
    "model.add(layers.Dense(units=512, activation=None, kernel_initializer=initializers.he_uniform())) \n",
    "model.add(layers.Activation(elu))\n",
    "\n",
    "model.add(layers.Dense(units=512, activation=None, kernel_initializer=initializers.he_uniform())) \n",
    "model.add(layers.Activation(elu)) \n",
    "\n",
    "model.add(layers.Dense(units=512, activation=None, kernel_initializer=initializers.he_uniform())) \n",
    "model.add(layers.Activation(elu)) \n",
    "\n",
    "model.add(layers.Dense(units=512, activation=None, kernel_initializer=initializers.he_uniform())) \n",
    "model.add(layers.Activation(elu)) \n",
    "\n",
    "# model.add(layers.Dense(units=512, activation=None, kernel_initializer=initializers.he_uniform())) \n",
    "# model.add(layers.Activation('elu'))\n",
    "\n",
    "# model.add(layers.Dense(units=256, activation=None, kernel_initializer=initializers.he_uniform())) \n",
    "# model.add(layers.Activation('elu')) \n",
    "model.add(layers.Dropout(rate=0.4))\n",
    "\n",
    "model.add(layers.Dense(units=3, activation=softmax)) # Apply softmax function on model's output"
   ]
  },
  {
   "cell_type": "code",
   "execution_count": 13,
   "id": "786b15a4",
   "metadata": {
    "execution": {
     "iopub.execute_input": "2023-03-27T02:11:33.518Z",
     "iopub.status.busy": "2023-03-27T02:11:33.504Z",
     "iopub.status.idle": "2023-03-27T02:11:33.534Z",
     "shell.execute_reply": "2023-03-27T02:11:33.544Z"
    }
   },
   "outputs": [],
   "source": [
    "model.compile(optimizer=optimizers.Adam(0.01), \n",
    "              loss=losses.categorical_crossentropy, # See other available losses @ https://keras.io/losses/\n",
    "              metrics=[metrics.Accuracy(), metrics.Recall(), metrics.Precision()]) # TF 2.X 에서 Precision / Recall / F1-Score 적용하기 @ https://j.mp/3cf3lbi"
   ]
  },
  {
   "cell_type": "code",
   "execution_count": 14,
   "id": "bd447145",
   "metadata": {
    "execution": {
     "iopub.execute_input": "2023-03-27T02:11:34.648Z",
     "iopub.status.busy": "2023-03-27T02:11:34.630Z",
     "iopub.status.idle": "2023-03-27T02:11:39.163Z",
     "shell.execute_reply": "2023-03-27T02:11:39.229Z"
    }
   },
   "outputs": [
    {
     "name": "stdout",
     "output_type": "stream",
     "text": [
      "Epoch 1/30\n",
      "4/4 [==============================] - 1s 100ms/step - loss: 26.9097 - accuracy: 0.4543 - recall: 0.5221 - precision: 0.5268 - val_loss: 39.0969 - val_accuracy: 0.6667 - val_recall: 0.6207 - val_precision: 0.6207\n",
      "Epoch 2/30\n",
      "4/4 [==============================] - 0s 22ms/step - loss: 40.8028 - accuracy: 0.7729 - recall: 0.7434 - precision: 0.7434 - val_loss: 0.0000e+00 - val_accuracy: 0.9770 - val_recall: 1.0000 - val_precision: 1.0000\n",
      "Epoch 3/30\n",
      "4/4 [==============================] - 0s 21ms/step - loss: 4.3804 - accuracy: 0.9115 - recall: 0.9558 - precision: 0.9558 - val_loss: 0.0000e+00 - val_accuracy: 0.9885 - val_recall: 1.0000 - val_precision: 1.0000\n",
      "Epoch 4/30\n",
      "4/4 [==============================] - 0s 20ms/step - loss: 4.1207 - accuracy: 0.9440 - recall: 0.9646 - precision: 0.9646 - val_loss: 0.0000e+00 - val_accuracy: 0.9885 - val_recall: 1.0000 - val_precision: 1.0000\n",
      "Epoch 5/30\n",
      "4/4 [==============================] - 0s 22ms/step - loss: 2.1572 - accuracy: 0.9646 - recall: 0.9823 - precision: 0.9823 - val_loss: 16.9883 - val_accuracy: 0.9770 - val_recall: 0.9655 - val_precision: 0.9655\n",
      "Epoch 6/30\n",
      "4/4 [==============================] - 0s 21ms/step - loss: 3.6461 - accuracy: 0.9882 - recall: 0.9823 - precision: 0.9823 - val_loss: 0.0000e+00 - val_accuracy: 0.9770 - val_recall: 1.0000 - val_precision: 1.0000\n",
      "Epoch 7/30\n",
      "4/4 [==============================] - 0s 20ms/step - loss: 1.2978 - accuracy: 0.9941 - recall: 0.9912 - precision: 0.9912 - val_loss: 0.0000e+00 - val_accuracy: 1.0000 - val_recall: 1.0000 - val_precision: 1.0000\n",
      "Epoch 8/30\n",
      "4/4 [==============================] - 0s 21ms/step - loss: 0.5980 - accuracy: 0.9941 - recall: 0.9912 - precision: 0.9912 - val_loss: 0.0000e+00 - val_accuracy: 1.0000 - val_recall: 1.0000 - val_precision: 1.0000\n",
      "Epoch 9/30\n",
      "4/4 [==============================] - 0s 23ms/step - loss: 0.0000e+00 - accuracy: 1.0000 - recall: 1.0000 - precision: 1.0000 - val_loss: 0.0000e+00 - val_accuracy: 1.0000 - val_recall: 1.0000 - val_precision: 1.0000\n",
      "Epoch 10/30\n",
      "4/4 [==============================] - 0s 22ms/step - loss: 0.0000e+00 - accuracy: 1.0000 - recall: 1.0000 - precision: 1.0000 - val_loss: 0.0000e+00 - val_accuracy: 1.0000 - val_recall: 1.0000 - val_precision: 1.0000\n",
      "Epoch 11/30\n",
      "4/4 [==============================] - 0s 21ms/step - loss: 0.0000e+00 - accuracy: 1.0000 - recall: 1.0000 - precision: 1.0000 - val_loss: 0.0000e+00 - val_accuracy: 1.0000 - val_recall: 1.0000 - val_precision: 1.0000\n",
      "Epoch 12/30\n",
      "4/4 [==============================] - 0s 21ms/step - loss: 0.0000e+00 - accuracy: 1.0000 - recall: 1.0000 - precision: 1.0000 - val_loss: 0.0000e+00 - val_accuracy: 1.0000 - val_recall: 1.0000 - val_precision: 1.0000\n",
      "Epoch 13/30\n",
      "4/4 [==============================] - 0s 20ms/step - loss: 0.0000e+00 - accuracy: 0.9971 - recall: 1.0000 - precision: 1.0000 - val_loss: 0.0000e+00 - val_accuracy: 1.0000 - val_recall: 1.0000 - val_precision: 1.0000\n",
      "Epoch 14/30\n",
      "4/4 [==============================] - 0s 21ms/step - loss: 0.0000e+00 - accuracy: 1.0000 - recall: 1.0000 - precision: 1.0000 - val_loss: 0.0000e+00 - val_accuracy: 1.0000 - val_recall: 1.0000 - val_precision: 1.0000\n",
      "Epoch 15/30\n",
      "4/4 [==============================] - 0s 20ms/step - loss: 0.0000e+00 - accuracy: 0.9941 - recall: 1.0000 - precision: 1.0000 - val_loss: 0.0000e+00 - val_accuracy: 1.0000 - val_recall: 1.0000 - val_precision: 1.0000\n",
      "Epoch 16/30\n",
      "4/4 [==============================] - 0s 21ms/step - loss: 0.0000e+00 - accuracy: 0.9971 - recall: 1.0000 - precision: 1.0000 - val_loss: 0.0000e+00 - val_accuracy: 1.0000 - val_recall: 1.0000 - val_precision: 1.0000\n",
      "Epoch 17/30\n",
      "4/4 [==============================] - 0s 20ms/step - loss: 0.0000e+00 - accuracy: 0.9941 - recall: 1.0000 - precision: 1.0000 - val_loss: 0.0000e+00 - val_accuracy: 1.0000 - val_recall: 1.0000 - val_precision: 1.0000\n",
      "Epoch 18/30\n",
      "4/4 [==============================] - 0s 21ms/step - loss: 1.4104e-06 - accuracy: 0.9912 - recall: 1.0000 - precision: 1.0000 - val_loss: 0.0000e+00 - val_accuracy: 1.0000 - val_recall: 1.0000 - val_precision: 1.0000\n",
      "Epoch 19/30\n",
      "4/4 [==============================] - 0s 20ms/step - loss: 0.0000e+00 - accuracy: 0.9941 - recall: 1.0000 - precision: 1.0000 - val_loss: 0.0000e+00 - val_accuracy: 1.0000 - val_recall: 1.0000 - val_precision: 1.0000\n",
      "Epoch 20/30\n",
      "4/4 [==============================] - 0s 20ms/step - loss: 0.0991 - accuracy: 0.9912 - recall: 0.9912 - precision: 0.9912 - val_loss: 0.0000e+00 - val_accuracy: 1.0000 - val_recall: 1.0000 - val_precision: 1.0000\n",
      "Epoch 21/30\n",
      "4/4 [==============================] - 0s 22ms/step - loss: 4.0642 - accuracy: 0.9941 - recall: 0.9912 - precision: 0.9912 - val_loss: 0.0000e+00 - val_accuracy: 1.0000 - val_recall: 1.0000 - val_precision: 1.0000\n",
      "Epoch 22/30\n",
      "4/4 [==============================] - 0s 21ms/step - loss: 1.2088 - accuracy: 0.9912 - recall: 0.9912 - precision: 0.9912 - val_loss: 4.4764 - val_accuracy: 0.9425 - val_recall: 0.9655 - val_precision: 0.9655\n",
      "Epoch 23/30\n",
      "4/4 [==============================] - 0s 21ms/step - loss: 3.5584 - accuracy: 0.9853 - recall: 0.9823 - precision: 0.9823 - val_loss: 0.0620 - val_accuracy: 0.9770 - val_recall: 0.9655 - val_precision: 0.9655\n",
      "Epoch 24/30\n",
      "4/4 [==============================] - 0s 20ms/step - loss: 9.8243 - accuracy: 0.9764 - recall: 0.9735 - precision: 0.9735 - val_loss: 0.0000e+00 - val_accuracy: 1.0000 - val_recall: 1.0000 - val_precision: 1.0000\n",
      "Epoch 25/30\n",
      "4/4 [==============================] - 0s 20ms/step - loss: 0.0000e+00 - accuracy: 1.0000 - recall: 1.0000 - precision: 1.0000 - val_loss: 0.0000e+00 - val_accuracy: 1.0000 - val_recall: 1.0000 - val_precision: 1.0000\n",
      "Epoch 26/30\n",
      "4/4 [==============================] - 0s 21ms/step - loss: 0.0000e+00 - accuracy: 0.9941 - recall: 1.0000 - precision: 1.0000 - val_loss: 0.0000e+00 - val_accuracy: 1.0000 - val_recall: 1.0000 - val_precision: 1.0000\n",
      "Epoch 27/30\n",
      "4/4 [==============================] - 0s 20ms/step - loss: 12.9580 - accuracy: 0.9794 - recall: 0.9735 - precision: 0.9735 - val_loss: 47.7778 - val_accuracy: 0.9770 - val_recall: 0.9655 - val_precision: 0.9655\n",
      "Epoch 28/30\n",
      "4/4 [==============================] - 0s 21ms/step - loss: 48.2711 - accuracy: 0.9617 - recall: 0.9558 - precision: 0.9558 - val_loss: 4.4390 - val_accuracy: 0.9770 - val_recall: 0.9655 - val_precision: 0.9655\n",
      "Epoch 29/30\n",
      "4/4 [==============================] - 0s 20ms/step - loss: 93.0824 - accuracy: 0.9115 - recall: 0.8761 - precision: 0.8761 - val_loss: 5.7619 - val_accuracy: 0.9770 - val_recall: 0.9655 - val_precision: 0.9655\n",
      "Epoch 30/30\n",
      "4/4 [==============================] - 0s 21ms/step - loss: 73.7734 - accuracy: 0.9322 - recall: 0.9204 - precision: 0.9204 - val_loss: 0.0000e+00 - val_accuracy: 1.0000 - val_recall: 1.0000 - val_precision: 1.0000\n"
     ]
    }
   ],
   "source": [
    "history = model.fit(x_train, y_train, epochs=30, validation_split=0.2)"
   ]
  },
  {
   "cell_type": "code",
   "execution_count": 15,
   "id": "8aed0c38",
   "metadata": {
    "execution": {
     "iopub.execute_input": "2023-03-27T02:11:39.194Z",
     "iopub.status.busy": "2023-03-27T02:11:39.181Z",
     "iopub.status.idle": "2023-03-27T02:11:39.263Z",
     "shell.execute_reply": "2023-03-27T02:11:39.242Z"
    }
   },
   "outputs": [
    {
     "name": "stdout",
     "output_type": "stream",
     "text": [
      "4/4 [==============================] - 0s 3ms/step - loss: 24.3325 - accuracy: 0.9815 - recall: 0.9722 - precision: 0.9722\n"
     ]
    }
   ],
   "source": [
    "result = model.evaluate(x_test, y_test, batch_size=10, verbose=1)"
   ]
  },
  {
   "cell_type": "code",
   "execution_count": 16,
   "id": "4a9e24b3",
   "metadata": {
    "execution": {
     "iopub.execute_input": "2023-03-27T02:11:40.060Z",
     "iopub.status.busy": "2023-03-27T02:11:40.048Z",
     "iopub.status.idle": "2023-03-27T02:11:40.081Z",
     "shell.execute_reply": "2023-03-27T02:11:40.092Z"
    }
   },
   "outputs": [
    {
     "data": {
      "text/plain": [
       "dict_keys(['loss', 'accuracy', 'recall', 'precision', 'val_loss', 'val_accuracy', 'val_recall', 'val_precision'])"
      ]
     },
     "execution_count": 16,
     "metadata": {},
     "output_type": "execute_result"
    }
   ],
   "source": [
    "history.history.keys()"
   ]
  },
  {
   "cell_type": "code",
   "execution_count": 17,
   "id": "353730f9",
   "metadata": {
    "execution": {
     "iopub.execute_input": "2023-03-27T02:11:40.914Z",
     "iopub.status.busy": "2023-03-27T02:11:40.900Z",
     "iopub.status.idle": "2023-03-27T02:11:41.299Z",
     "shell.execute_reply": "2023-03-27T02:11:41.318Z"
    },
    "scrolled": false
   },
   "outputs": [
    {
     "data": {
      "image/png": "[encoded data removed]",
      "text/plain": [
       "<Figure size 640x480 with 1 Axes>"
      ]
     },
     "metadata": {},
     "output_type": "display_data"
    }
   ],
   "source": [
    "val_acc = history.history['val_accuracy']\n",
    "acc = history.history['accuracy']\n",
    "\n",
    "val_recall = history.history['val_recall']\n",
    "recall = history.history['recall']\n",
    "\n",
    "val_precision = history.history['val_precision']\n",
    "precision = history.history['precision']\n",
    "\n",
    "x_len = np.arange(len(acc))\n",
    "plt.plot(x_len, acc, marker='.', c='blue', label=\"Train-set Acc.\")\n",
    "plt.plot(x_len, val_acc, marker='.', c='red', label=\"Validation-set Acc.\")\n",
    "\n",
    "x_len = np.arange(len(recall))\n",
    "plt.plot(x_len, recall, marker='.', c='green', label=\"Train-set Recall.\")\n",
    "plt.plot(x_len, val_recall, marker='.', c='purple', label=\"Validation-set Recall.\")\n",
    "\n",
    "x_len = np.arange(len(precision))\n",
    "plt.plot(x_len, precision, marker='.', c='yellow', label=\"Train-set Precision.\")\n",
    "plt.plot(x_len, val_precision, marker='.', c='cyan', label=\"Validation-set Precision.\")\n",
    "\n",
    "plt.legend(loc='lower right')\n",
    "plt.grid()\n",
    "plt.xlabel('epoch')\n",
    "plt.ylabel('Accuracy')\n",
    "plt.show()"
   ]
  },
  {
   "cell_type": "code",
   "execution_count": 18,
   "id": "14b9db39",
   "metadata": {
    "execution": {
     "iopub.execute_input": "2023-03-27T02:11:44.064Z",
     "iopub.status.busy": "2023-03-27T02:11:44.050Z",
     "iopub.status.idle": "2023-03-27T02:11:44.158Z",
     "shell.execute_reply": "2023-03-27T02:11:44.175Z"
    }
   },
   "outputs": [
    {
     "name": "stdout",
     "output_type": "stream",
     "text": [
      "2/2 [==============================] - 0s 3ms/step\n",
      "2/2 [==============================] - 0s 2ms/step\n"
     ]
    },
    {
     "data": {
      "text/plain": [
       "array([0, 0, 2, 0, 1, 0, 1, 2, 1, 2, 0, 2, 0, 2, 0, 1, 1, 1, 0, 1, 0, 1,\n",
       "       1, 2, 2, 2, 1, 1, 1, 0, 0, 1, 2, 0, 0, 0], dtype=int64)"
      ]
     },
     "execution_count": 18,
     "metadata": {},
     "output_type": "execute_result"
    }
   ],
   "source": [
    "model.predict(x_test)\n",
    "np.argmax(model.predict(x_test), axis=1)"
   ]
  },
  {
   "cell_type": "code",
   "execution_count": 19,
   "id": "75914459",
   "metadata": {
    "execution": {
     "iopub.execute_input": "2023-03-27T02:11:46.147Z",
     "iopub.status.busy": "2023-03-27T02:11:46.133Z",
     "iopub.status.idle": "2023-03-27T02:11:46.170Z",
     "shell.execute_reply": "2023-03-27T02:11:46.201Z"
    }
   },
   "outputs": [
    {
     "name": "stdout",
     "output_type": "stream",
     "text": [
      "1/1 [==============================] - 0s 19ms/step\n",
      "1/1 [==============================] - 0s 19ms/step\n"
     ]
    },
    {
     "data": {
      "text/plain": [
       "array([0], dtype=int64)"
      ]
     },
     "execution_count": 19,
     "metadata": {},
     "output_type": "execute_result"
    }
   ],
   "source": [
    "sample_data = np.array([[14.23, 1.71, 2.43, 15.6, 127.0, 2.80, 3.06, 0.28, 2.29, 5.64, 1.04, 3.92, 1065.0]])\n",
    "model.predict(sample_data)\n",
    "np.argmax(model.predict(sample_data), axis=1)"
   ]
  },
  {
   "cell_type": "code",
   "execution_count": null,
   "id": "a7fd0f29",
   "metadata": {},
   "outputs": [],
   "source": []
  }
 ],
 "metadata": {
  "kernelspec": {
   "display_name": "Python 3 (ipykernel)",
   "language": "python",
   "name": "python3"
  },
  "language_info": {
   "codemirror_mode": {
    "name": "ipython",
    "version": 3
   },
   "file_extension": ".py",
   "mimetype": "text/x-python",
   "name": "python",
   "nbconvert_exporter": "python",
   "pygments_lexer": "ipython3",
   "version": "3.10.9"
  },
  "nteract": {
   "version": "0.28.0"
  }
 },
 "nbformat": 4,
 "nbformat_minor": 5
}
