{
 "cells": [
  {
   "cell_type": "markdown",
   "id": "979e7f8d",
   "metadata": {},
   "source": [
    "## 타겟 데이터\n",
    "- 와인의 종류 0, 1, 2의 세가지 값\n",
    "\n",
    "## 특징 데이터\n",
    "\n",
    "- 알콜(Alcohol)\n",
    "- 말산(Malic acid)\n",
    "- 회분(Ash)\n",
    "- 회분의 알칼리도(Alcalinity of ash)\n",
    "- 마그네슘(Magnesium)\n",
    "- 총 폴리페놀(Total phenols)\n",
    "- 플라보노이드 폴리페놀(Flavanoids)\n",
    "- 비 플라보노이드 폴리페놀(Nonflavanoid phenols)\n",
    "- 프로안토시아닌(Proanthocyanins)\n",
    "- 색상의 강도(Color intensity)\n",
    "- 색상(Hue)\n",
    "- 희석 와인의 OD280/OD315 비율 (OD280/OD315 of diluted wines)\n",
    "- 프롤린(Proline)"
   ]
  },
  {
   "cell_type": "code",
   "execution_count": null,
   "id": "66c036f3",
   "metadata": {
    "execution": {
     "iopub.execute_input": "2023-03-27T02:11:19.483Z",
     "iopub.status.busy": "2023-03-27T02:11:19.470Z",
     "iopub.status.idle": "2023-03-27T02:11:24.384Z",
     "shell.execute_reply": "2023-03-27T02:11:24.298Z"
    }
   },
   "outputs": [],
   "source": [
    "import tensorflow as tf\n",
    "from tensorflow.keras import datasets, models, layers, utils, losses, optimizers, metrics, initializers, activations\n",
    "from sklearn import datasets, model_selection\n",
    "import pandas as pd\n",
    "import numpy as np\n",
    "from matplotlib import pyplot as plt\n",
    "import seaborn as sns\n",
    "from sklearn import preprocessing\n",
    "wine_data = datasets.load_wine()"
   ]
  },
  {
   "cell_type": "code",
   "execution_count": null,
   "id": "c7b4c16d",
   "metadata": {
    "execution": {
     "iopub.execute_input": "2023-03-27T02:11:24.412Z",
     "iopub.status.busy": "2023-03-27T02:11:24.400Z",
     "iopub.status.idle": "2023-03-27T02:11:24.430Z",
     "shell.execute_reply": "2023-03-27T02:11:24.312Z"
    }
   },
   "outputs": [],
   "source": [
    "target = wine_data['target']"
   ]
  },
  {
   "cell_type": "code",
   "execution_count": null,
   "id": "d6973ad9",
   "metadata": {
    "execution": {
     "iopub.execute_input": "2023-03-27T02:11:24.457Z",
     "iopub.status.busy": "2023-03-27T02:11:24.446Z",
     "iopub.status.idle": "2023-03-27T02:11:24.467Z",
     "shell.execute_reply": "2023-03-27T02:11:24.337Z"
    }
   },
   "outputs": [],
   "source": [
    "data = wine_data['data']"
   ]
  },
  {
   "cell_type": "code",
   "execution_count": null,
   "id": "2ee43049",
   "metadata": {
    "execution": {
     "iopub.execute_input": "2023-03-27T02:11:24.496Z",
     "iopub.status.busy": "2023-03-27T02:11:24.484Z",
     "iopub.status.idle": "2023-03-27T02:11:24.514Z",
     "shell.execute_reply": "2023-03-27T02:11:24.350Z"
    },
    "scrolled": false
   },
   "outputs": [],
   "source": [
    "pd.DataFrame(data)"
   ]
  },
  {
   "cell_type": "code",
   "execution_count": null,
   "id": "96420735",
   "metadata": {
    "execution": {
     "iopub.execute_input": "2023-03-27T02:11:24.549Z",
     "iopub.status.busy": "2023-03-27T02:11:24.536Z",
     "iopub.status.idle": "2023-03-27T02:11:24.568Z",
     "shell.execute_reply": "2023-03-27T02:11:24.362Z"
    }
   },
   "outputs": [],
   "source": [
    "target"
   ]
  },
  {
   "cell_type": "code",
   "execution_count": null,
   "id": "37a5a8ee",
   "metadata": {
    "execution": {
     "iopub.execute_input": "2023-03-27T02:11:25.858Z",
     "iopub.status.busy": "2023-03-27T02:11:25.845Z",
     "iopub.status.idle": "2023-03-27T02:11:25.874Z",
     "shell.execute_reply": "2023-03-27T02:11:25.887Z"
    }
   },
   "outputs": [],
   "source": [
    "x_train, x_test, y_train, y_test = model_selection.train_test_split(data, target, test_size=0.2, random_state=42)"
   ]
  },
  {
   "cell_type": "code",
   "execution_count": null,
   "id": "3566df65-ba54-42b5-add6-2b5d9b1b3dab",
   "metadata": {
    "execution": {
     "iopub.execute_input": "2023-03-27T02:11:28.497Z",
     "iopub.status.busy": "2023-03-27T02:11:28.483Z",
     "iopub.status.idle": "2023-03-27T02:11:28.518Z",
     "shell.execute_reply": "2023-03-27T02:11:28.529Z"
    },
    "jupyter": {
     "outputs_hidden": false,
     "source_hidden": false
    },
    "nteract": {
     "transient": {
      "deleting": false
     }
    }
   },
   "outputs": [],
   "source": [
    "sc = preprocessing.StandardScaler()\n",
    "sc.fit(x_train)\n",
    "\n",
    "x_train = sc.transform(x_train)\n",
    "x_test = sc.transform(x_test)"
   ]
  },
  {
   "cell_type": "code",
   "execution_count": null,
   "id": "c00063ed",
   "metadata": {
    "execution": {
     "iopub.execute_input": "2023-03-27T02:11:28.849Z",
     "iopub.status.busy": "2023-03-27T02:11:28.825Z",
     "iopub.status.idle": "2023-03-27T02:11:28.871Z",
     "shell.execute_reply": "2023-03-27T02:11:28.882Z"
    }
   },
   "outputs": [],
   "source": [
    "print(x_train.shape)\n",
    "print(x_test.shape)"
   ]
  },
  {
   "cell_type": "code",
   "execution_count": null,
   "id": "802844ad",
   "metadata": {
    "execution": {
     "iopub.execute_input": "2023-03-27T02:11:29.365Z",
     "iopub.status.busy": "2023-03-27T02:11:29.351Z",
     "iopub.status.idle": "2023-03-27T02:11:29.388Z",
     "shell.execute_reply": "2023-03-27T02:11:29.400Z"
    }
   },
   "outputs": [],
   "source": [
    "print(y_train.shape)\n",
    "print(y_test.shape)"
   ]
  },
  {
   "cell_type": "code",
   "execution_count": null,
   "id": "0618c2a3",
   "metadata": {
    "execution": {
     "iopub.execute_input": "2023-03-27T02:11:30.222Z",
     "iopub.status.busy": "2023-03-27T02:11:30.211Z",
     "iopub.status.idle": "2023-03-27T02:11:30.241Z",
     "shell.execute_reply": "2023-03-27T02:11:30.255Z"
    }
   },
   "outputs": [],
   "source": [
    "y_train = utils.to_categorical(y_train)\n",
    "y_test = utils.to_categorical(y_test)"
   ]
  },
  {
   "cell_type": "code",
   "execution_count": null,
   "id": "f9f19cbe",
   "metadata": {
    "execution": {
     "iopub.execute_input": "2023-03-27T02:11:30.767Z",
     "iopub.status.busy": "2023-03-27T02:11:30.751Z",
     "iopub.status.idle": "2023-03-27T02:11:30.791Z",
     "shell.execute_reply": "2023-03-27T02:11:30.802Z"
    }
   },
   "outputs": [],
   "source": [
    "print(y_train.shape)\n",
    "print(y_test.shape)"
   ]
  },
  {
   "cell_type": "code",
   "execution_count": null,
   "id": "59bb9efa",
   "metadata": {},
   "outputs": [],
   "source": [
    "x_train.shape[1]"
   ]
  },
  {
   "cell_type": "code",
   "execution_count": null,
   "id": "f9a6218f",
   "metadata": {
    "execution": {
     "iopub.execute_input": "2023-03-27T02:11:32.455Z",
     "iopub.status.busy": "2023-03-27T02:11:32.438Z",
     "iopub.status.idle": "2023-03-27T02:11:32.530Z",
     "shell.execute_reply": "2023-03-27T02:11:32.543Z"
    }
   },
   "outputs": [],
   "source": [
    "\n",
    "model = models.Sequential()\n",
    "elu = activations.elu\n",
    "softmax = activations.softmax\n",
    "\n",
    "model.add(layers.Dense(input_dim=x_train.shape[1], units=512, activation=None, kernel_initializer=initializers.he_uniform()))\n",
    "model.add(layers.Activation(elu))\n",
    "\n",
    "model.add(layers.Dense(units=512, activation=None, kernel_initializer=initializers.he_uniform())) \n",
    "model.add(layers.Activation(elu))\n",
    "\n",
    "model.add(layers.Dense(units=512, activation=None, kernel_initializer=initializers.he_uniform())) \n",
    "model.add(layers.Activation(elu)) \n",
    "\n",
    "model.add(layers.Dense(units=512, activation=None, kernel_initializer=initializers.he_uniform())) \n",
    "model.add(layers.Activation(elu)) \n",
    "\n",
    "model.add(layers.Dense(units=512, activation=None, kernel_initializer=initializers.he_uniform())) \n",
    "model.add(layers.Activation(elu)) \n",
    "\n",
    "# model.add(layers.Dense(units=512, activation=None, kernel_initializer=initializers.he_uniform())) \n",
    "# model.add(layers.Activation('elu'))\n",
    "\n",
    "# model.add(layers.Dense(units=256, activation=None, kernel_initializer=initializers.he_uniform())) \n",
    "# model.add(layers.Activation('elu')) \n",
    "model.add(layers.Dropout(rate=0.4))\n",
    "\n",
    "model.add(layers.Dense(units=3, activation=softmax)) # Apply softmax function on model's output"
   ]
  },
  {
   "cell_type": "code",
   "execution_count": null,
   "id": "786b15a4",
   "metadata": {
    "execution": {
     "iopub.execute_input": "2023-03-27T02:11:33.518Z",
     "iopub.status.busy": "2023-03-27T02:11:33.504Z",
     "iopub.status.idle": "2023-03-27T02:11:33.534Z",
     "shell.execute_reply": "2023-03-27T02:11:33.544Z"
    }
   },
   "outputs": [],
   "source": [
    "model.compile(optimizer=optimizers.Adam(0.01), \n",
    "              loss=losses.categorical_crossentropy, # See other available losses @ https://keras.io/losses/\n",
    "              metrics=[metrics.Accuracy(), metrics.Recall(), metrics.Precision()]) # TF 2.X 에서 Precision / Recall / F1-Score 적용하기 @ https://j.mp/3cf3lbi"
   ]
  },
  {
   "cell_type": "code",
   "execution_count": null,
   "id": "bd447145",
   "metadata": {
    "execution": {
     "iopub.execute_input": "2023-03-27T02:11:34.648Z",
     "iopub.status.busy": "2023-03-27T02:11:34.630Z",
     "iopub.status.idle": "2023-03-27T02:11:39.163Z",
     "shell.execute_reply": "2023-03-27T02:11:39.229Z"
    }
   },
   "outputs": [],
   "source": [
    "history = model.fit(x_train, y_train, epochs=30, validation_split=0.2)"
   ]
  },
  {
   "cell_type": "code",
   "execution_count": null,
   "id": "8aed0c38",
   "metadata": {
    "execution": {
     "iopub.execute_input": "2023-03-27T02:11:39.194Z",
     "iopub.status.busy": "2023-03-27T02:11:39.181Z",
     "iopub.status.idle": "2023-03-27T02:11:39.263Z",
     "shell.execute_reply": "2023-03-27T02:11:39.242Z"
    }
   },
   "outputs": [],
   "source": [
    "result = model.evaluate(x_test, y_test, batch_size=10, verbose=1)"
   ]
  },
  {
   "cell_type": "code",
   "execution_count": null,
   "id": "4a9e24b3",
   "metadata": {
    "execution": {
     "iopub.execute_input": "2023-03-27T02:11:40.060Z",
     "iopub.status.busy": "2023-03-27T02:11:40.048Z",
     "iopub.status.idle": "2023-03-27T02:11:40.081Z",
     "shell.execute_reply": "2023-03-27T02:11:40.092Z"
    }
   },
   "outputs": [],
   "source": [
    "history.history.keys()"
   ]
  },
  {
   "cell_type": "code",
   "execution_count": null,
   "id": "353730f9",
   "metadata": {
    "execution": {
     "iopub.execute_input": "2023-03-27T02:11:40.914Z",
     "iopub.status.busy": "2023-03-27T02:11:40.900Z",
     "iopub.status.idle": "2023-03-27T02:11:41.299Z",
     "shell.execute_reply": "2023-03-27T02:11:41.318Z"
    },
    "scrolled": false
   },
   "outputs": [],
   "source": [
    "val_acc = history.history['val_accuracy']\n",
    "acc = history.history['accuracy']\n",
    "\n",
    "val_recall = history.history['val_recall']\n",
    "recall = history.history['recall']\n",
    "\n",
    "val_precision = history.history['val_precision']\n",
    "precision = history.history['precision']\n",
    "\n",
    "x_len = np.arange(len(acc))\n",
    "plt.plot(x_len, acc, marker='.', c='blue', label=\"Train-set Acc.\")\n",
    "plt.plot(x_len, val_acc, marker='.', c='red', label=\"Validation-set Acc.\")\n",
    "\n",
    "x_len = np.arange(len(recall))\n",
    "plt.plot(x_len, recall, marker='.', c='green', label=\"Train-set Recall.\")\n",
    "plt.plot(x_len, val_recall, marker='.', c='purple', label=\"Validation-set Recall.\")\n",
    "\n",
    "x_len = np.arange(len(precision))\n",
    "plt.plot(x_len, precision, marker='.', c='yellow', label=\"Train-set Precision.\")\n",
    "plt.plot(x_len, val_precision, marker='.', c='cyan', label=\"Validation-set Precision.\")\n",
    "\n",
    "plt.legend(loc='lower right')\n",
    "plt.grid()\n",
    "plt.xlabel('epoch')\n",
    "plt.ylabel('Accuracy')\n",
    "plt.show()"
   ]
  },
  {
   "cell_type": "code",
   "execution_count": null,
   "id": "14b9db39",
   "metadata": {
    "execution": {
     "iopub.execute_input": "2023-03-27T02:11:44.064Z",
     "iopub.status.busy": "2023-03-27T02:11:44.050Z",
     "iopub.status.idle": "2023-03-27T02:11:44.158Z",
     "shell.execute_reply": "2023-03-27T02:11:44.175Z"
    }
   },
   "outputs": [],
   "source": [
    "model.predict(x_test)\n",
    "np.argmax(model.predict(x_test), axis=1)"
   ]
  },
  {
   "cell_type": "code",
   "execution_count": null,
   "id": "75914459",
   "metadata": {
    "execution": {
     "iopub.execute_input": "2023-03-27T02:11:46.147Z",
     "iopub.status.busy": "2023-03-27T02:11:46.133Z",
     "iopub.status.idle": "2023-03-27T02:11:46.170Z",
     "shell.execute_reply": "2023-03-27T02:11:46.201Z"
    }
   },
   "outputs": [],
   "source": [
    "sample_data = np.array([[14.23, 1.71, 2.43, 15.6, 127.0, 2.80, 3.06, 0.28, 2.29, 5.64, 1.04, 3.92, 1065.0]])\n",
    "model.predict(sample_data)\n",
    "np.argmax(model.predict(sample_data), axis=1)"
   ]
  },
  {
   "cell_type": "code",
   "execution_count": null,
   "id": "a7fd0f29",
   "metadata": {},
   "outputs": [],
   "source": []
  }
 ],
 "metadata": {
  "kernelspec": {
   "display_name": "Python 3 (ipykernel)",
   "language": "python",
   "name": "python3"
  },
  "language_info": {
   "codemirror_mode": {
    "name": "ipython",
    "version": 3
   },
   "file_extension": ".py",
   "mimetype": "text/x-python",
   "name": "python",
   "nbconvert_exporter": "python",
   "pygments_lexer": "ipython3",
   "version": "3.8.8"
  },
  "nteract": {
   "version": "0.28.0"
  }
 },
 "nbformat": 4,
 "nbformat_minor": 5
}
