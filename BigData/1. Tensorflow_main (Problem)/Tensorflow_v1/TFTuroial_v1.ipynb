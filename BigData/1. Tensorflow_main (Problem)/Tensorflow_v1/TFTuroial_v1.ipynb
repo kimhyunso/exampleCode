{
 "cells": [
  {
   "cell_type": "code",
   "execution_count": 1,
   "id": "f2ef4c77",
   "metadata": {},
   "outputs": [
    {
     "name": "stdout",
     "output_type": "stream",
     "text": [
      "WARNING:tensorflow:From C:\\Users\\TECH2_07\\anaconda3\\lib\\site-packages\\tensorflow\\python\\compat\\v2_compat.py:96: disable_resource_variables (from tensorflow.python.ops.variable_scope) is deprecated and will be removed in a future version.\n",
      "Instructions for updating:\n",
      "non-resource variables are not supported in the long term\n"
     ]
    }
   ],
   "source": [
    "import warnings\n",
    "import numpy as np\n",
    "import pandas as pd\n",
    "import tensorflow.compat.v1 as tf\n",
    "tf.disable_v2_behavior()\n",
    "from sklearn import datasets\n",
    "warnings.filterwarnings('ignore')\n",
    "from matplotlib import pyplot as plt"
   ]
  },
  {
   "cell_type": "code",
   "execution_count": 2,
   "id": "a4f9e987",
   "metadata": {},
   "outputs": [],
   "source": [
    "def running(*args):\n",
    "    with tf.Session() as sess:\n",
    "        return sess.run(args)"
   ]
  },
  {
   "cell_type": "code",
   "execution_count": 3,
   "id": "80a553a7",
   "metadata": {},
   "outputs": [
    {
     "data": {
      "text/plain": [
       "<tf.Tensor 'var:0' shape=() dtype=int32>"
      ]
     },
     "execution_count": 3,
     "metadata": {},
     "output_type": "execute_result"
    }
   ],
   "source": [
    "var = tf.add(3, 5, name='var')\n",
    "var"
   ]
  },
  {
   "cell_type": "code",
   "execution_count": 4,
   "id": "42e10c51",
   "metadata": {},
   "outputs": [
    {
     "data": {
      "text/plain": [
       "(8,)"
      ]
     },
     "execution_count": 4,
     "metadata": {},
     "output_type": "execute_result"
    }
   ],
   "source": [
    "running(var)"
   ]
  },
  {
   "cell_type": "code",
   "execution_count": 5,
   "id": "ebf82b5f",
   "metadata": {},
   "outputs": [],
   "source": [
    "var = tf.add(np.array(np.arange(10)), np.array(np.arange(10)))"
   ]
  },
  {
   "cell_type": "code",
   "execution_count": 6,
   "id": "0832dccb",
   "metadata": {},
   "outputs": [
    {
     "data": {
      "text/plain": [
       "(array([ 0,  2,  4,  6,  8, 10, 12, 14, 16, 18]),)"
      ]
     },
     "execution_count": 6,
     "metadata": {},
     "output_type": "execute_result"
    }
   ],
   "source": [
    "running(var)"
   ]
  },
  {
   "cell_type": "code",
   "execution_count": 7,
   "id": "41f77b76",
   "metadata": {},
   "outputs": [
    {
     "data": {
      "text/plain": [
       "(7776, 10)"
      ]
     },
     "execution_count": 7,
     "metadata": {},
     "output_type": "execute_result"
    }
   ],
   "source": [
    "x = 2\n",
    "y = 3\n",
    "op1 = tf.add(x, y, name='add')\n",
    "op2 = tf.multiply(x, y, 'multiple')\n",
    "useless = tf.multiply(x, op1)\n",
    "op3 = tf.pow(op2, op1, name='pow')\n",
    "\n",
    "running(op3, useless)"
   ]
  },
  {
   "cell_type": "code",
   "execution_count": 8,
   "id": "437c1b4a",
   "metadata": {},
   "outputs": [
    {
     "data": {
      "text/html": [
       "<div>\n",
       "<style scoped>\n",
       "    .dataframe tbody tr th:only-of-type {\n",
       "        vertical-align: middle;\n",
       "    }\n",
       "\n",
       "    .dataframe tbody tr th {\n",
       "        vertical-align: top;\n",
       "    }\n",
       "\n",
       "    .dataframe thead th {\n",
       "        text-align: right;\n",
       "    }\n",
       "</style>\n",
       "<table border=\"1\" class=\"dataframe\">\n",
       "  <thead>\n",
       "    <tr style=\"text-align: right;\">\n",
       "      <th></th>\n",
       "      <th>0</th>\n",
       "      <th>1</th>\n",
       "    </tr>\n",
       "  </thead>\n",
       "  <tbody>\n",
       "    <tr>\n",
       "      <th>0</th>\n",
       "      <td>4.98</td>\n",
       "      <td>24.0</td>\n",
       "    </tr>\n",
       "    <tr>\n",
       "      <th>1</th>\n",
       "      <td>9.14</td>\n",
       "      <td>21.6</td>\n",
       "    </tr>\n",
       "    <tr>\n",
       "      <th>2</th>\n",
       "      <td>4.03</td>\n",
       "      <td>34.7</td>\n",
       "    </tr>\n",
       "    <tr>\n",
       "      <th>3</th>\n",
       "      <td>2.94</td>\n",
       "      <td>33.4</td>\n",
       "    </tr>\n",
       "    <tr>\n",
       "      <th>4</th>\n",
       "      <td>5.33</td>\n",
       "      <td>36.2</td>\n",
       "    </tr>\n",
       "  </tbody>\n",
       "</table>\n",
       "</div>"
      ],
      "text/plain": [
       "      0     1\n",
       "0  4.98  24.0\n",
       "1  9.14  21.6\n",
       "2  4.03  34.7\n",
       "3  2.94  33.4\n",
       "4  5.33  36.2"
      ]
     },
     "execution_count": 8,
     "metadata": {},
     "output_type": "execute_result"
    }
   ],
   "source": [
    "x_data = datasets.load_boston().data[:, 12]\n",
    "y_data = datasets.load_boston().target\n",
    "boston_df = pd.DataFrame([x_data, y_data]).transpose()\n",
    "boston_df.head()"
   ]
  },
  {
   "cell_type": "code",
   "execution_count": 9,
   "id": "a923aac7",
   "metadata": {},
   "outputs": [],
   "source": [
    "w = tf.Variable(tf.random_normal([1]))\n",
    "b = tf.Variable(tf.random_normal([1]))\n",
    "y_predicted = w * x_data + b"
   ]
  },
  {
   "cell_type": "code",
   "execution_count": 10,
   "id": "3fa98e05",
   "metadata": {},
   "outputs": [],
   "source": [
    "loss = tf.reduce_mean(tf.square(y_predicted - y_data))\n",
    "# running_rate\n",
    "optimizer = tf.train.GradientDescentOptimizer(0.001)\n",
    "train = optimizer.minimize(loss)"
   ]
  },
  {
   "cell_type": "code",
   "execution_count": 11,
   "id": "8ea32647",
   "metadata": {},
   "outputs": [
    {
     "name": "stdout",
     "output_type": "stream",
     "text": [
      "Step 0 : w [1.0134796] b [0.84327805]\n",
      "loss 313.3062744140625\n",
      "\n",
      "Step 1000 : w [0.30115533] b [13.713358]\n",
      "loss 143.2473602294922\n",
      "\n",
      "Step 2000 : w [-0.17644823] b [21.668482]\n",
      "loss 78.53192138671875\n",
      "\n",
      "Step 3000 : w [-0.4717463] b [26.587067]\n",
      "loss 53.792545318603516\n",
      "\n",
      "Step 4000 : w [-0.6543224] b [29.628115]\n",
      "loss 44.335426330566406\n",
      "\n",
      "Step 5000 : w [-0.76720655] b [31.50835]\n",
      "loss 40.72020721435547\n",
      "\n",
      "Step 6000 : w [-0.8369995] b [32.670845]\n",
      "loss 39.338226318359375\n",
      "\n",
      "Step 7000 : w [-0.88015187] b [33.389606]\n",
      "loss 38.80992126464844\n",
      "\n",
      "Step 8000 : w [-0.9068324] b [33.834007]\n",
      "loss 38.60795593261719\n",
      "\n",
      "Step 9000 : w [-0.9233285] b [34.10877]\n",
      "loss 38.53074645996094\n",
      "\n"
     ]
    }
   ],
   "source": [
    "# running(tf.random_poisson(np.arange(10), [10]))\n",
    "with tf.Session() as sess:\n",
    "    # tf.Variables 초기화\n",
    "    sess.run(tf.global_variables_initializer())\n",
    "    for step in range(10**4):\n",
    "        # 실제로 Gradient Descent가 실행되는 코드\n",
    "        sess.run(train)\n",
    "        if step % 1000 == 0:\n",
    "            print(f'Step {step} : w {sess.run(w)} b {sess.run(b)}')\n",
    "            print(f'loss {sess.run(loss)}')        \n",
    "            print()\n",
    "    w_out, b_out = sess.run([w, b])"
   ]
  },
  {
   "cell_type": "code",
   "execution_count": 12,
   "id": "d10afe1f",
   "metadata": {},
   "outputs": [
    {
     "data": {
      "image/png": "[encoded data removed]",
      "text/plain": [
       "<Figure size 720x720 with 1 Axes>"
      ]
     },
     "metadata": {
      "needs_background": "light"
     },
     "output_type": "display_data"
    }
   ],
   "source": [
    "plt.figure(figsize=(10, 10))\n",
    "plt.plot(x_data, y_data, 'bo', label='Real data')\n",
    "plt.plot(x_data, x_data * w_out + b_out, 'ro', label='Prediction')\n",
    "plt.legend()\n",
    "plt.show()"
   ]
  },
  {
   "cell_type": "code",
   "execution_count": 13,
   "id": "2fbe5c45",
   "metadata": {},
   "outputs": [],
   "source": [
    "# 506행, 1열\n",
    "_x_data = tf.reshape(x_data, [len(x_data), 1])\n",
    "with tf.Session() as sess:\n",
    "    w = tf.Variable(tf.random_normal([_x_data.shape[1], 5], dtype=tf.float64))\n",
    "    w_out = tf.Variable(tf.random_normal([w.shape[1], 1], dtype=tf.float64))\n",
    "    # matmul : matrix multiply\n",
    "    hidden = tf.nn.sigmoid(tf.matmul(_x_data, w))\n",
    "    output = tf.matmul(hidden, w_out)\n"
   ]
  },
  {
   "cell_type": "code",
   "execution_count": 14,
   "id": "58cf759b",
   "metadata": {},
   "outputs": [],
   "source": [
    "# mean squared error\n",
    "loss = tf.reduce_mean(tf.square(output - y_data))\n",
    "# running_rate\n",
    "optimizer = tf.train.GradientDescentOptimizer(0.001)\n",
    "train = optimizer.minimize(loss)"
   ]
  },
  {
   "cell_type": "code",
   "execution_count": 15,
   "id": "6a733c57",
   "metadata": {},
   "outputs": [
    {
     "name": "stdout",
     "output_type": "stream",
     "text": [
      "Step 0 || loss : 564.4822175525425\n",
      "Step 5000 || loss : 84.4408646974685\n",
      "Step 10000 || loss : 84.43313487226159\n",
      "Step 15000 || loss : 84.4296119948177\n",
      "Step 20000 || loss : 84.42757149319236\n",
      "Step 25000 || loss : 84.42623206236486\n",
      "Step 30000 || loss : 84.42528184685627\n",
      "Step 35000 || loss : 84.4245709902753\n",
      "Step 40000 || loss : 84.42401822466722\n",
      "Step 45000 || loss : 84.42357553395013\n"
     ]
    }
   ],
   "source": [
    "with tf.Session() as sess:\n",
    "    # tf.Variables 초기화\n",
    "    sess.run(tf.global_variables_initializer())\n",
    "    for step in range(50000):\n",
    "        # 실제로 Gradient Descent가 실행되는 코드\n",
    "        sess.run(train)\n",
    "        if step % 5000 == 0:\n",
    "            print(f'Step {step} || loss : {sess.run(loss)}')\n",
    "    output = sess.run(output)"
   ]
  },
  {
   "cell_type": "code",
   "execution_count": 16,
   "id": "fba02d6a",
   "metadata": {},
   "outputs": [
    {
     "data": {
      "image/png": "[encoded data removed]",
      "text/plain": [
       "<Figure size 720x720 with 1 Axes>"
      ]
     },
     "metadata": {
      "needs_background": "light"
     },
     "output_type": "display_data"
    }
   ],
   "source": [
    "plt.figure(figsize=(10, 10))\n",
    "plt.plot(x_data, y_data, 'bo', label='Real data')\n",
    "plt.plot(x_data, output, 'ro', label='Prediction')\n",
    "plt.legend()\n",
    "plt.show()"
   ]
  },
  {
   "cell_type": "code",
   "execution_count": 20,
   "id": "e55cbb54",
   "metadata": {},
   "outputs": [],
   "source": [
    "_x_data = tf.reshape(x_data, [len(x_data), 1])\n",
    "_y_data = tf.reshape(y_data, [len(y_data), 1])"
   ]
  },
  {
   "cell_type": "code",
   "execution_count": 21,
   "id": "5acfc3b8",
   "metadata": {},
   "outputs": [],
   "source": [
    "W1 = tf.Variable(tf.random_normal([1, 5], dtype=tf.float64)) # [ # of x's columns, # of nodes in 1st hidden layer ]\n",
    "W2 = tf.Variable(tf.random_normal([5, 10], dtype=tf.float64)) # [ # of previous W's columns, # of nodes in 2nd hidden layer ]\n",
    "W_out = tf.Variable(tf.random_normal([10, 1], dtype=tf.float64)) # [ # of previous W's columns, # of y's columns ]"
   ]
  },
  {
   "cell_type": "code",
   "execution_count": 22,
   "id": "d4a8217a",
   "metadata": {},
   "outputs": [],
   "source": [
    "hidden1 = tf.nn.elu(tf.matmul(_x_data, W1))\n",
    "hidden2 = tf.nn.elu(tf.matmul(hidden1, W2))\n",
    "output = tf.matmul(hidden2, W_out)"
   ]
  },
  {
   "cell_type": "code",
   "execution_count": 27,
   "id": "a2777331",
   "metadata": {},
   "outputs": [
    {
     "ename": "ValueError",
     "evalue": "No gradients provided for any variable, check your graph for ops that do not support gradients, between variables [\"<tf.Variable 'Variable:0' shape=(1,) dtype=float32_ref>\", \"<tf.Variable 'Variable_1:0' shape=(1,) dtype=float32_ref>\", \"<tf.Variable 'Variable_2:0' shape=(1, 5) dtype=float64_ref>\", \"<tf.Variable 'Variable_3:0' shape=(5, 1) dtype=float64_ref>\", \"<tf.Variable 'Variable_4:0' shape=(1, 5) dtype=float64_ref>\", \"<tf.Variable 'Variable_5:0' shape=(5, 10) dtype=float64_ref>\", \"<tf.Variable 'Variable_6:0' shape=(10, 1) dtype=float64_ref>\", \"<tf.Variable 'Variable_7:0' shape=(1, 5) dtype=float64_ref>\", \"<tf.Variable 'Variable_8:0' shape=(5, 10) dtype=float64_ref>\", \"<tf.Variable 'Variable_9:0' shape=(10, 1) dtype=float64_ref>\"] and loss Tensor(\"Mean_4:0\", shape=(), dtype=float64).",
     "output_type": "error",
     "traceback": [
      "\u001b[1;31m---------------------------------------------------------------------------\u001b[0m",
      "\u001b[1;31mValueError\u001b[0m                                Traceback (most recent call last)",
      "\u001b[1;32m<ipython-input-27-c51edcfd2df1>\u001b[0m in \u001b[0;36m<module>\u001b[1;34m\u001b[0m\n\u001b[0;32m      3\u001b[0m \u001b[1;31m# running_rate\u001b[0m\u001b[1;33m\u001b[0m\u001b[1;33m\u001b[0m\u001b[1;33m\u001b[0m\u001b[0m\n\u001b[0;32m      4\u001b[0m \u001b[0moptimizer\u001b[0m \u001b[1;33m=\u001b[0m \u001b[0mtf\u001b[0m\u001b[1;33m.\u001b[0m\u001b[0mtrain\u001b[0m\u001b[1;33m.\u001b[0m\u001b[0mAdamOptimizer\u001b[0m\u001b[1;33m(\u001b[0m\u001b[1;36m0.001\u001b[0m\u001b[1;33m)\u001b[0m\u001b[1;33m\u001b[0m\u001b[1;33m\u001b[0m\u001b[0m\n\u001b[1;32m----> 5\u001b[1;33m \u001b[0mtrain\u001b[0m \u001b[1;33m=\u001b[0m \u001b[0moptimizer\u001b[0m\u001b[1;33m.\u001b[0m\u001b[0mminimize\u001b[0m\u001b[1;33m(\u001b[0m\u001b[0mloss\u001b[0m\u001b[1;33m)\u001b[0m\u001b[1;33m\u001b[0m\u001b[1;33m\u001b[0m\u001b[0m\n\u001b[0m",
      "\u001b[1;32m~\\anaconda3\\lib\\site-packages\\tensorflow\\python\\training\\optimizer.py\u001b[0m in \u001b[0;36mminimize\u001b[1;34m(self, loss, global_step, var_list, gate_gradients, aggregation_method, colocate_gradients_with_ops, name, grad_loss)\u001b[0m\n\u001b[0;32m    413\u001b[0m     \u001b[0mvars_with_grad\u001b[0m \u001b[1;33m=\u001b[0m \u001b[1;33m[\u001b[0m\u001b[0mv\u001b[0m \u001b[1;32mfor\u001b[0m \u001b[0mg\u001b[0m\u001b[1;33m,\u001b[0m \u001b[0mv\u001b[0m \u001b[1;32min\u001b[0m \u001b[0mgrads_and_vars\u001b[0m \u001b[1;32mif\u001b[0m \u001b[0mg\u001b[0m \u001b[1;32mis\u001b[0m \u001b[1;32mnot\u001b[0m \u001b[1;32mNone\u001b[0m\u001b[1;33m]\u001b[0m\u001b[1;33m\u001b[0m\u001b[1;33m\u001b[0m\u001b[0m\n\u001b[0;32m    414\u001b[0m     \u001b[1;32mif\u001b[0m \u001b[1;32mnot\u001b[0m \u001b[0mvars_with_grad\u001b[0m\u001b[1;33m:\u001b[0m\u001b[1;33m\u001b[0m\u001b[1;33m\u001b[0m\u001b[0m\n\u001b[1;32m--> 415\u001b[1;33m       raise ValueError(\n\u001b[0m\u001b[0;32m    416\u001b[0m           \u001b[1;34m\"No gradients provided for any variable, check your graph for ops\"\u001b[0m\u001b[1;33m\u001b[0m\u001b[1;33m\u001b[0m\u001b[0m\n\u001b[0;32m    417\u001b[0m           \u001b[1;34m\" that do not support gradients, between variables %s and loss %s.\"\u001b[0m \u001b[1;33m%\u001b[0m\u001b[1;33m\u001b[0m\u001b[1;33m\u001b[0m\u001b[0m\n",
      "\u001b[1;31mValueError\u001b[0m: No gradients provided for any variable, check your graph for ops that do not support gradients, between variables [\"<tf.Variable 'Variable:0' shape=(1,) dtype=float32_ref>\", \"<tf.Variable 'Variable_1:0' shape=(1,) dtype=float32_ref>\", \"<tf.Variable 'Variable_2:0' shape=(1, 5) dtype=float64_ref>\", \"<tf.Variable 'Variable_3:0' shape=(5, 1) dtype=float64_ref>\", \"<tf.Variable 'Variable_4:0' shape=(1, 5) dtype=float64_ref>\", \"<tf.Variable 'Variable_5:0' shape=(5, 10) dtype=float64_ref>\", \"<tf.Variable 'Variable_6:0' shape=(10, 1) dtype=float64_ref>\", \"<tf.Variable 'Variable_7:0' shape=(1, 5) dtype=float64_ref>\", \"<tf.Variable 'Variable_8:0' shape=(5, 10) dtype=float64_ref>\", \"<tf.Variable 'Variable_9:0' shape=(10, 1) dtype=float64_ref>\"] and loss Tensor(\"Mean_4:0\", shape=(), dtype=float64)."
     ]
    }
   ],
   "source": [
    "loss = tf.losses.mean_squared_error(output, _y_data) # tf.reduce_mean(tf.square(output - _y_data))\n",
    "optimizer = tf.train.AdamOptimizer(0.001)\n",
    "train = optimizer.minimize(loss)"
   ]
  },
  {
   "cell_type": "code",
   "execution_count": 24,
   "id": "9b99030d",
   "metadata": {},
   "outputs": [
    {
     "name": "stdout",
     "output_type": "stream",
     "text": [
      "Step 0 || loss : 68322.15202421536\n",
      "Step 5000 || loss : 90.09091618213117\n",
      "Step 10000 || loss : 84.42826491676063\n",
      "Step 15000 || loss : 84.42136741508365\n",
      "Step 20000 || loss : 84.41979055341302\n",
      "Step 25000 || loss : 84.41960272474925\n",
      "Step 30000 || loss : 84.42239378841097\n",
      "Step 35000 || loss : 84.41956185270719\n",
      "Step 40000 || loss : 84.41956062680258\n",
      "Step 45000 || loss : 84.41955966234569\n"
     ]
    }
   ],
   "source": [
    "with tf.Session() as sess:\n",
    "    sess.run(tf.global_variables_initializer()) \n",
    "\n",
    "    for step in range(50000):\n",
    "        sess.run(train)\n",
    "        if step % 5000 == 0:\n",
    "            print('Step {} || Loss : {}'.format(step, sess.run(loss)))\n",
    "\n",
    "    output = sess.run(output) "
   ]
  },
  {
   "cell_type": "code",
   "execution_count": 25,
   "id": "ba8b8993",
   "metadata": {},
   "outputs": [
    {
     "data": {
      "image/png": "[encoded data removed]",
      "text/plain": [
       "<Figure size 720x720 with 1 Axes>"
      ]
     },
     "metadata": {
      "needs_background": "light"
     },
     "output_type": "display_data"
    }
   ],
   "source": [
    "plt.figure(figsize=(10, 10))\n",
    "plt.plot(x_data, y_data, 'bo', label='Real data')\n",
    "plt.plot(x_data, output, 'ro', label='Prediction')\n",
    "plt.legend()\n",
    "plt.show()"
   ]
  },
  {
   "cell_type": "code",
   "execution_count": null,
   "id": "0f7ab1e5",
   "metadata": {},
   "outputs": [],
   "source": []
  }
 ],
 "metadata": {
  "kernelspec": {
   "display_name": "Python 3",
   "language": "python",
   "name": "python3"
  },
  "language_info": {
   "codemirror_mode": {
    "name": "ipython",
    "version": 3
   },
   "file_extension": ".py",
   "mimetype": "text/x-python",
   "name": "python",
   "nbconvert_exporter": "python",
   "pygments_lexer": "ipython3",
   "version": "3.8.8"
  }
 },
 "nbformat": 4,
 "nbformat_minor": 5
}
