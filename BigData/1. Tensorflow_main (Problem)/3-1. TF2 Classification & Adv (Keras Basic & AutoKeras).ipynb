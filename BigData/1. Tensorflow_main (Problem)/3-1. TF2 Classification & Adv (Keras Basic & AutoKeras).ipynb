{
 "cells": [
  {
   "cell_type": "markdown",
   "metadata": {},
   "source": [
    "#### Tensorflow.keras 공식 문서 (Official API Docs) @ https://www.tensorflow.org/api_docs/python/tf/keras\n"
   ]
  },
  {
   "cell_type": "code",
   "execution_count": 1,
   "metadata": {},
   "outputs": [],
   "source": [
    "import tensorflow as tf\n",
    "from tensorflow.keras import datasets, models, layers, utils, losses # tf.keras 에 필요한 함수들이 모여있습니다.\n",
    "import numpy as np\n",
    "import pandas as pd\n",
    "import matplotlib.pyplot as plt"
   ]
  },
  {
   "cell_type": "code",
   "execution_count": 2,
   "metadata": {},
   "outputs": [],
   "source": [
    "import os\n",
    "os.environ['TF_CPP_MIN_LOG_LEVEL'] = '2' # https://stackoverflow.com/questions/35911252/disable-tensorflow-debugging-information"
   ]
  },
  {
   "cell_type": "markdown",
   "metadata": {},
   "source": [
    "<br> \n",
    "\n",
    "#### 1. Prepare train & test data (MNIST)"
   ]
  },
  {
   "cell_type": "markdown",
   "metadata": {},
   "source": [
    "#### Train & Test split"
   ]
  },
  {
   "cell_type": "code",
   "execution_count": 3,
   "metadata": {},
   "outputs": [],
   "source": [
    "(train_x, train_y), (test_x, test_y) = datasets.mnist.load_data()"
   ]
  },
  {
   "cell_type": "code",
   "execution_count": 4,
   "metadata": {},
   "outputs": [
    {
     "name": "stdout",
     "output_type": "stream",
     "text": [
      "(60000, 28, 28)\n",
      "(10000, 28, 28)\n"
     ]
    }
   ],
   "source": [
    "print(train_x.shape) # # of training data == 60000, each data = 28px * 28px\n",
    "print(test_x.shape) # # of test data == 10000"
   ]
  },
  {
   "cell_type": "code",
   "execution_count": 5,
   "metadata": {},
   "outputs": [
    {
     "name": "stdout",
     "output_type": "stream",
     "text": [
      "(60000,)\n",
      "(10000,)\n"
     ]
    }
   ],
   "source": [
    "print(train_y.shape)\n",
    "print(test_y.shape)"
   ]
  },
  {
   "cell_type": "code",
   "execution_count": 7,
   "metadata": {},
   "outputs": [
    {
     "data": {
      "image/png": "[encoded data removed]",
      "text/plain": [
       "<Figure size 640x480 with 1 Axes>"
      ]
     },
     "metadata": {},
     "output_type": "display_data"
    }
   ],
   "source": [
    "plt.imshow(train_x[0], cmap='gray_r') # 60000장의 train data 중 첫번째 data\n",
    "plt.show()"
   ]
  },
  {
   "cell_type": "markdown",
   "metadata": {},
   "source": [
    "#### Normalization"
   ]
  },
  {
   "cell_type": "code",
   "execution_count": 12,
   "metadata": {},
   "outputs": [
    {
     "data": {
      "text/plain": [
       "784"
      ]
     },
     "execution_count": 12,
     "metadata": {},
     "output_type": "execute_result"
    }
   ],
   "source": [
    "28*28"
   ]
  },
  {
   "cell_type": "code",
   "execution_count": 9,
   "metadata": {},
   "outputs": [
    {
     "name": "stdout",
     "output_type": "stream",
     "text": [
      "0\n",
      "255\n"
     ]
    }
   ],
   "source": [
    "# 각 이미지(28px * 28px)는 0~255 사이의 숫자로 이루어져 있습니다.\n",
    "print(train_x.min())\n",
    "print(train_x.max()) "
   ]
  },
  {
   "cell_type": "code",
   "execution_count": 13,
   "metadata": {},
   "outputs": [],
   "source": [
    "# 각 이미지를 [28행 x 28열]에서 [1행 x 784열]로 펼쳐줍니다. \n",
    "# 각 이미지 내의 pixel 값을 [0~255]에서 [0~1]로 바꿔줍니다.\n",
    "\n",
    "# train_data = train_x.reshape(60000, 784) / 255.0\n",
    "# test_data = test_x.reshape(10000, 784) / 255.0\n",
    "train_x = train_x.reshape(60000, -1) / 255.0\n",
    "test_x = test_x.reshape(10000, -1) / 255.0"
   ]
  },
  {
   "cell_type": "code",
   "execution_count": 16,
   "metadata": {},
   "outputs": [
    {
     "name": "stdout",
     "output_type": "stream",
     "text": [
      "(60000, 784)\n",
      "(10000, 784)\n"
     ]
    }
   ],
   "source": [
    "print(train_x.shape)\n",
    "print(test_x.shape)"
   ]
  },
  {
   "cell_type": "markdown",
   "metadata": {},
   "source": [
    "#### One-hot encoding"
   ]
  },
  {
   "cell_type": "code",
   "execution_count": 19,
   "metadata": {},
   "outputs": [
    {
     "name": "stdout",
     "output_type": "stream",
     "text": [
      "(60000,)\n",
      "(10000,)\n"
     ]
    }
   ],
   "source": [
    "print(train_y.shape)\n",
    "print(test_y.shape)"
   ]
  },
  {
   "cell_type": "code",
   "execution_count": 18,
   "metadata": {},
   "outputs": [
    {
     "data": {
      "text/plain": [
       "array([5, 0, 4, ..., 5, 6, 8], dtype=uint8)"
      ]
     },
     "execution_count": 18,
     "metadata": {},
     "output_type": "execute_result"
    }
   ],
   "source": [
    "# 각 이미지에 대한 label은 integer value로 이루어져 있습니다.\n",
    "train_y"
   ]
  },
  {
   "cell_type": "code",
   "execution_count": 20,
   "metadata": {},
   "outputs": [],
   "source": [
    "# 각 label을 integer value에서 one-hot vector로 변경해줍니다. (Tensorflow 2.x 활용)\n",
    "\n",
    "train_y = utils.to_categorical(train_y) # 0~9 -> one-hot vector\n",
    "test_y = utils.to_categorical(test_y) # 0~9 -> one-hot vector"
   ]
  },
  {
   "cell_type": "code",
   "execution_count": 23,
   "metadata": {},
   "outputs": [
    {
     "name": "stdout",
     "output_type": "stream",
     "text": [
      "(60000, 10)\n",
      "(10000, 10)\n"
     ]
    }
   ],
   "source": [
    "print(train_y.shape)\n",
    "print(test_y.shape)"
   ]
  },
  {
   "cell_type": "code",
   "execution_count": 29,
   "metadata": {},
   "outputs": [
    {
     "data": {
      "text/html": [
       "<div>\n",
       "<style scoped>\n",
       "    .dataframe tbody tr th:only-of-type {\n",
       "        vertical-align: middle;\n",
       "    }\n",
       "\n",
       "    .dataframe tbody tr th {\n",
       "        vertical-align: top;\n",
       "    }\n",
       "\n",
       "    .dataframe thead th {\n",
       "        text-align: right;\n",
       "    }\n",
       "</style>\n",
       "<table border=\"1\" class=\"dataframe\">\n",
       "  <thead>\n",
       "    <tr style=\"text-align: right;\">\n",
       "      <th></th>\n",
       "      <th>0</th>\n",
       "      <th>1</th>\n",
       "      <th>2</th>\n",
       "      <th>3</th>\n",
       "      <th>4</th>\n",
       "      <th>5</th>\n",
       "      <th>6</th>\n",
       "      <th>7</th>\n",
       "      <th>8</th>\n",
       "      <th>9</th>\n",
       "    </tr>\n",
       "  </thead>\n",
       "  <tbody>\n",
       "    <tr>\n",
       "      <th>0</th>\n",
       "      <td>0.0</td>\n",
       "      <td>0.0</td>\n",
       "      <td>0.0</td>\n",
       "      <td>0.0</td>\n",
       "      <td>0.0</td>\n",
       "      <td>1.0</td>\n",
       "      <td>0.0</td>\n",
       "      <td>0.0</td>\n",
       "      <td>0.0</td>\n",
       "      <td>0.0</td>\n",
       "    </tr>\n",
       "    <tr>\n",
       "      <th>1</th>\n",
       "      <td>1.0</td>\n",
       "      <td>0.0</td>\n",
       "      <td>0.0</td>\n",
       "      <td>0.0</td>\n",
       "      <td>0.0</td>\n",
       "      <td>0.0</td>\n",
       "      <td>0.0</td>\n",
       "      <td>0.0</td>\n",
       "      <td>0.0</td>\n",
       "      <td>0.0</td>\n",
       "    </tr>\n",
       "    <tr>\n",
       "      <th>2</th>\n",
       "      <td>0.0</td>\n",
       "      <td>0.0</td>\n",
       "      <td>0.0</td>\n",
       "      <td>0.0</td>\n",
       "      <td>1.0</td>\n",
       "      <td>0.0</td>\n",
       "      <td>0.0</td>\n",
       "      <td>0.0</td>\n",
       "      <td>0.0</td>\n",
       "      <td>0.0</td>\n",
       "    </tr>\n",
       "  </tbody>\n",
       "</table>\n",
       "</div>"
      ],
      "text/plain": [
       "     0    1    2    3    4    5    6    7    8    9\n",
       "0  0.0  0.0  0.0  0.0  0.0  1.0  0.0  0.0  0.0  0.0\n",
       "1  1.0  0.0  0.0  0.0  0.0  0.0  0.0  0.0  0.0  0.0\n",
       "2  0.0  0.0  0.0  0.0  1.0  0.0  0.0  0.0  0.0  0.0"
      ]
     },
     "execution_count": 29,
     "metadata": {},
     "output_type": "execute_result"
    }
   ],
   "source": [
    "# 기존의 integer label들이 아래와 같은 one-hot vector들로 변경된 것을 확인할 수 있습니다.\n",
    "pd.DataFrame(train_y).head(3)"
   ]
  },
  {
   "cell_type": "markdown",
   "metadata": {},
   "source": [
    "<br> \n",
    "\n",
    "#### 2. Build the model & Set the criterion "
   ]
  },
  {
   "cell_type": "markdown",
   "metadata": {},
   "source": [
    "Tensorflow.keras\n",
    "\n",
    "- Sequential : 순차적으로 레이어를 쌓아올린다.\n",
    "- Functional : 각 레이어를 함수처럼 다뤄 쌓아간다."
   ]
  },
  {
   "cell_type": "code",
   "execution_count": 30,
   "metadata": {},
   "outputs": [],
   "source": [
    "model = models.Sequential() # Build up the \"Sequence\" of layers (Linear stack of layers)"
   ]
  },
  {
   "cell_type": "markdown",
   "metadata": {},
   "source": [
    "### Dense Layer == Fully-connected Layer == Feed-forward network"
   ]
  },
  {
   "cell_type": "code",
   "execution_count": 32,
   "metadata": {},
   "outputs": [],
   "source": [
    "# input_dim : 열의 수, units : 퍼셉트론 수, activation : activation-function, kernel_initializer : 세타초기화\n",
    "# he_uniform : 균등분포, he_normal : 정규분포\n",
    "model.add(layers.Dense(input_dim=train_x.shape[1], units=512, activation='relu', kernel_initializer='he_uniform')) # Dense-layer (relu & he)\n",
    "model.add(layers.Dropout(0.2)) # Dropout-layer\n",
    "# model.add(layers.Dense(units=256, activation='relu'))\n",
    "# model.add(layers.Dropout(0.2))\n",
    "model.add(layers.Dense(units=10, activation='softmax')) # (Output) Dense-layer with softmax function, 0~9 -> 10"
   ]
  },
  {
   "cell_type": "code",
   "execution_count": 39,
   "metadata": {},
   "outputs": [],
   "source": [
    "# \"Compile\" the model description (Configures the model for training)\n",
    "# tf.losses.mean_squared_error & tf.losses.softmax_cross_entropy\n",
    "# tf.keras.losses.mean_squared_error & tf.keras.categorical_crossentropy\n",
    "\n",
    "\n",
    "model.compile(optimizer='adam', \n",
    "              loss=losses.categorical_crossentropy, # See other available losses @ https://keras.io/losses/\n",
    "              metrics=['accuracy']) # TF 2.X 에서 Precision / Recall / F1-Score 적용하기 @ https://j.mp/3cf3lbi"
   ]
  },
  {
   "cell_type": "code",
   "execution_count": 40,
   "metadata": {},
   "outputs": [],
   "source": [
    "# # Regression\n",
    "# model.add(layers.Dense(units=1, activation=None))\n",
    "# model.compile(optimizer='adam',\n",
    "#               loss=losses.mean_squared_error,\n",
    "#               metrics=['mean_squared_error']) \n",
    "\n",
    "\n",
    "# # sparse_categorical_crossentropy : 정답label을 one-hot 인코딩을 적용하지 않았을 때\n",
    "# # Multi-class classification\n",
    "# model.add(layers.Dense(units=10, activation='softmax'))\n",
    "# model.compile(optimizer='adam',\n",
    "#               loss=losses.categorical_crossentropy,        # <- Label이 One-hot 형태일 경우\n",
    "#               loss=losses.sparse_categorical_crossentropy, # <- Label이 One-hot 형태가 아닐 경우\n",
    "#               metrics=['accuracy']) \n",
    "\n",
    "# # Binary Classification 1 (Softmax를 적용하는 경우, recommended)\n",
    "# model.add(layers.Dense(units=2, activation='softmax'))\n",
    "# model.compile(optimizer='adam',\n",
    "#               loss=losses.categorical_crossentropy,\n",
    "#               metrics=['accuracy']) \n",
    "\n",
    "\n",
    "# # Binary Classification 2 (Sigmoid를 적용하는 경우)\n",
    "# # 선형결합 결과에 대해 sigmoid function의 output을 계산해주면, binary_crossentropy가 이를 음성 & 양성 확률로 변환하여 처리해줍니다.\n",
    "# model.add(layers.Dense(units=1, activation='sigmoid')) \n",
    "# model.compile(optimizer='adam',\n",
    "#               loss=losses.binary_crossentropy, \n",
    "#               metrics=['accuracy']) "
   ]
  },
  {
   "cell_type": "markdown",
   "metadata": {},
   "source": [
    "<br> \n",
    "\n",
    "#### 3. Train the model"
   ]
  },
  {
   "cell_type": "code",
   "execution_count": 41,
   "metadata": {},
   "outputs": [
    {
     "name": "stdout",
     "output_type": "stream",
     "text": [
      "Epoch 1/10\n",
      "480/480 [==============================] - 4s 6ms/step - loss: 0.0357 - accuracy: 0.9894 - val_loss: 0.1080 - val_accuracy: 0.9752\n",
      "Epoch 2/10\n",
      "480/480 [==============================] - 3s 6ms/step - loss: 0.0303 - accuracy: 0.9905 - val_loss: 0.1002 - val_accuracy: 0.9761\n",
      "Epoch 3/10\n",
      "480/480 [==============================] - 3s 6ms/step - loss: 0.0275 - accuracy: 0.9911 - val_loss: 0.0991 - val_accuracy: 0.9766\n",
      "Epoch 4/10\n",
      "480/480 [==============================] - 3s 6ms/step - loss: 0.0274 - accuracy: 0.9914 - val_loss: 0.1079 - val_accuracy: 0.9759\n",
      "Epoch 5/10\n",
      "480/480 [==============================] - 3s 6ms/step - loss: 0.0261 - accuracy: 0.9925 - val_loss: 0.1016 - val_accuracy: 0.9766\n",
      "Epoch 6/10\n",
      "480/480 [==============================] - 3s 6ms/step - loss: 0.0222 - accuracy: 0.9925 - val_loss: 0.1000 - val_accuracy: 0.9768\n",
      "Epoch 7/10\n",
      "480/480 [==============================] - 3s 6ms/step - loss: 0.0220 - accuracy: 0.9934 - val_loss: 0.1073 - val_accuracy: 0.9762\n",
      "Epoch 8/10\n",
      "480/480 [==============================] - 3s 6ms/step - loss: 0.0229 - accuracy: 0.9927 - val_loss: 0.1016 - val_accuracy: 0.9775\n",
      "Epoch 9/10\n",
      "480/480 [==============================] - 3s 6ms/step - loss: 0.0190 - accuracy: 0.9937 - val_loss: 0.1010 - val_accuracy: 0.9770\n",
      "Epoch 10/10\n",
      "480/480 [==============================] - 3s 6ms/step - loss: 0.0173 - accuracy: 0.9946 - val_loss: 0.1086 - val_accuracy: 0.9762\n"
     ]
    },
    {
     "data": {
      "text/plain": [
       "<keras.callbacks.History at 0x1959b911720>"
      ]
     },
     "execution_count": 41,
     "metadata": {},
     "output_type": "execute_result"
    }
   ],
   "source": [
    "# Fit the model on training data\n",
    "model.fit(train_x, train_y, batch_size=100, epochs=10, validation_split=0.2) # default batch_size = 32"
   ]
  },
  {
   "cell_type": "markdown",
   "metadata": {},
   "source": [
    "<br> \n",
    "\n",
    "#### 4. Test the model"
   ]
  },
  {
   "cell_type": "code",
   "execution_count": null,
   "metadata": {},
   "outputs": [],
   "source": [
    "# Evaluate the model on test data\n",
    "result = model.evaluate(test_data, test_label, batch_size=100)\n"
   ]
  },
  {
   "cell_type": "code",
   "execution_count": null,
   "metadata": {},
   "outputs": [],
   "source": [
    "print('loss (cross-entropy) :', result[0])\n",
    "print('test accuracy :', result[1])"
   ]
  },
  {
   "cell_type": "markdown",
   "metadata": {},
   "source": [
    "<br>\n",
    "\n",
    "### (Appendix 1) tf.keras.layers.Flatten() 활용법"
   ]
  },
  {
   "cell_type": "code",
   "execution_count": null,
   "metadata": {},
   "outputs": [],
   "source": [
    "(train_data, train_label), (test_data, test_label) = datasets.mnist.load_data()\n",
    "\n",
    "# 아래 코드에서 reshape 적용을 생략하고, 대신 Flatten 레이어를 활용해 펼쳐낼 수 있습니다.\n",
    "# train_data = train_data.reshape(60000, 784) / 255.0\n",
    "# test_data = test_data.reshape(10000, 784) / 255.0\n",
    "\n",
    "train_data = train_data / 255.0\n",
    "test_data = test_data / 255.0\n",
    "\n",
    "train_label = utils.to_categorical(train_label)\n",
    "test_label = utils.to_categorical(test_label)\n",
    "\n",
    "\n",
    "model = models.Sequential() \n",
    "\n",
    "model.add(layers.Flatten()) # takes our 28x28 and makes it 1x784\n",
    "# X : (60000, 28, 28) => (60000, 784)\n",
    "\n",
    "# model.add(layers.Dense(input_dim=28*28, units=512, activation='relu', kernel_initializer='he_uniform')) \n",
    "model.add(layers.Dense(units=512, activation=tf.nn.relu, kernel_initializer='he_uniform')) # tf.nn 활용이 가능합니다.\n",
    "model.add(layers.Dropout(0.2))\n",
    "model.add(layers.Dense(units=10, activation=tf.nn.softmax)) # tf.nn 활용이 가능합니다.\n",
    "\n",
    "model.compile(optimizer='adam', \n",
    "              loss=losses.categorical_crossentropy, \n",
    "              metrics=['accuracy'])\n",
    "\n",
    "model.fit(train_data, train_label, batch_size=100, epochs=10) \n",
    "\n",
    "result = model.evaluate(test_data, test_label, batch_size=100)\n",
    "print('loss (cross-entropy) :', result[0])\n",
    "print('test accuracy :', result[1])"
   ]
  },
  {
   "cell_type": "markdown",
   "metadata": {},
   "source": [
    "<br>\n",
    "\n",
    "### (Appendix 2) AutoKeras 활용법 (https://autokeras.com/)"
   ]
  },
  {
   "cell_type": "markdown",
   "metadata": {},
   "source": [
    "**\\* <span style=\"color:blue;\">AutoKeras보다 더 유용한 도구인 Keras-Tuner를 곧 학습할 예정입니다.</span>**\n",
    "\n",
    "\\* PyTorch 및 AutoKeras 설치 & AutoKeras fitting 과정에 시간이 무척 많이 소요됩니다.\n",
    "<br>\\* 개발환경이 영향을 받을 수 있으니 아래 코드는 **<span style=\"color:red;\">Google Colab 에서 실행</span>**하시는 것을 적극 권장합니다. (혹은 Conda 가상환경 활용)\n",
    "<br>\\* 금일 실습을 마치고 추후 복습하실 때 살펴보세요.\n",
    "<br><br>\n",
    "\n",
    "1) 먼저 OS에 맞는 pytorch를 설치해주어야 합니다. (available pip whl files @ https://goo.gl/uYVaPa)\n",
    "\n",
    ">conda install pytorch torchvision torchaudio cpuonly -c pytorch\n",
    "\n",
    "2) 그 다음 아래 명령어로 AutoKeras를 설치해줍니다.\n",
    "\n",
    "> pip install autokeras"
   ]
  },
  {
   "cell_type": "code",
   "execution_count": null,
   "metadata": {},
   "outputs": [],
   "source": [
    "from keras import datasets, models, layers, utils\n",
    "(train_data, train_label), (test_data, test_label) = datasets.mnist.load_data()"
   ]
  },
  {
   "cell_type": "code",
   "execution_count": null,
   "metadata": {},
   "outputs": [],
   "source": [
    "import autokeras as ak\n",
    "\n",
    "model = ak.ImageClassifier() # It searches CNN architectures for the best configuration for the image dataset.\n",
    "model.fit(train_data, train_label, time_limit=3600) # time_limit: The time limit for the search in seconds.\n",
    "\n",
    "accuracy = model.evaluate(test_data, test_label)\n",
    "result = model.predict(test_data)\n",
    "\n",
    "print(accuracy)\n",
    "print(result)"
   ]
  },
  {
   "cell_type": "markdown",
   "metadata": {},
   "source": [
    "<br>\n",
    "\n",
    "#### Appendix \n",
    "- Automated Machine Learning with Auto-Keras @ http://j.mp/2xeG2c2\n",
    "- Keras vs PyTorch @ https://goo.gl/ar5VPB"
   ]
  },
  {
   "cell_type": "code",
   "execution_count": null,
   "metadata": {},
   "outputs": [],
   "source": []
  }
 ],
 "metadata": {
  "kernel_info": {
   "name": "python3"
  },
  "kernelspec": {
   "display_name": "Python 3 (ipykernel)",
   "language": "python",
   "name": "python3"
  },
  "language_info": {
   "codemirror_mode": {
    "name": "ipython",
    "version": 3
   },
   "file_extension": ".py",
   "mimetype": "text/x-python",
   "name": "python",
   "nbconvert_exporter": "python",
   "pygments_lexer": "ipython3",
   "version": "3.10.9"
  },
  "nteract": {
   "version": "0.15.0"
  }
 },
 "nbformat": 4,
 "nbformat_minor": 2
}
