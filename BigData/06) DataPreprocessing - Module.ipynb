{
 "cells": [
  {
   "cell_type": "markdown",
   "id": "6b232332",
   "metadata": {},
   "source": [
    "# 데이터 인코딩\n",
    "- 머신러닝을 위한 데표적 인코딩 방식\n",
    "\n",
    "1. 레이블 인코딩(Label Encoding)\n",
    "2. 원-핫 인코딩 (One Hot Encoding)"
   ]
  },
  {
   "cell_type": "code",
   "execution_count": 20,
   "id": "bac1092f",
   "metadata": {},
   "outputs": [],
   "source": [
    "# Label Encoder 적용 -> 명목척도화\n",
    "from sklearn.preprocessing import LabelEncoder\n",
    "items = ['TV', '냉장고', '선풍기', '전자레인지', '컴퓨터', '선풍기', '믹서', '믹서']\n",
    "\n",
    "# Label Encoder의 객체화\n",
    "encoder = LabelEncoder()\n",
    "# fit()\n",
    "encoder.fit(items) # y값 없음 -> 비지도학습 :: 지도학습 아님.\n",
    "# transform() 적용\n",
    "labels = encoder.transform(items)\n",
    "\n",
    "# print(f'인코딩 값 : {labels} ==> type : {type(labels)}')\n",
    "\n",
    "# print(f'인코딩 클래스 : {encoder.classes_}')\n",
    "labels = encoder.fit_transform(items)\n"
   ]
  },
  {
   "cell_type": "code",
   "execution_count": 19,
   "id": "727fc644",
   "metadata": {},
   "outputs": [
    {
     "name": "stdout",
     "output_type": "stream",
     "text": [
      "디코딩 원본 값 : ['TV' '냉장고' '선풍기' '전자레인지' '컴퓨터' '선풍기' '믹서' '믹서']\n"
     ]
    }
   ],
   "source": [
    "print(f'디코딩 원본 값 : {encoder.inverse_transform(labels)}')"
   ]
  },
  {
   "cell_type": "markdown",
   "id": "2d2d5cd4",
   "metadata": {},
   "source": [
    "- 레이블 인코딩은 간단하게 문자열 값을 숫자형 카테고리 값으로 변환한다. \n",
    "- 하지만 레이블 인코딩이 일괄적인 숫자 값으로 변환이 되면서 몇몇 ML알고리즘에는 이를 적용할 경우 예측 성능이 떨어지는 경우가 발생할 수 있다.\n",
    "- 이는 숫자 값의 경우 크고 작음에 대한 특성이 작용하기 때문이다. \n",
    "- 즉, 냉장고가 1, 믹서가 2로 변환되면, 1보다 2가 더 큰 값이므로 특정 ML알고리즘에서 가중치가 더 부여되거나 더 중요하게 인식할 가능성이 발생한다.\n",
    "- 하지만 냉장고와 믹서의 숫자 변환 값은 단순코드이지 숫자 값에 따른 순서나 중요도로 인식돼서는 안된다.\n",
    "- 이러한 특성 때문에 **레이블 인코딩은 선형회귀와 같은 ML 알고리즘에는 적용하지 않아야 한다.**\n",
    "- 트리계열의 ML 알고리즘은 숫자의 이러한 특성을 반영하지 않으므로 레이블 인코딩도 별 문제가 없다."
   ]
  },
  {
   "cell_type": "markdown",
   "id": "b45a5d26",
   "metadata": {},
   "source": [
    "# 원-핫 (One-Hot) 인코딩"
   ]
  },
  {
   "cell_type": "code",
   "execution_count": 21,
   "id": "b47ced29",
   "metadata": {},
   "outputs": [],
   "source": [
    "# 1. 문자 -> 레이블 인코딩\n",
    "# 2. 레이블 인코딩 -> 원-핫 인코딩\n",
    "\n",
    "from sklearn.preprocessing import LabelEncoder\n",
    "from sklearn.preprocessing import OneHotEncoder\n",
    "import numpy as np\n",
    "import pandas as pd\n",
    "\n",
    "items = ['TV', '냉장고', '선풍기', '전자레인지', '컴퓨터', '선풍기', '믹서', '믹서']"
   ]
  },
  {
   "cell_type": "code",
   "execution_count": 39,
   "id": "ec2561c1",
   "metadata": {},
   "outputs": [
    {
     "name": "stdout",
     "output_type": "stream",
     "text": [
      "원-핫 인코딩 인코딩 데이터 : \n",
      " [[1. 0. 0. 0. 0. 0.]\n",
      " [0. 1. 0. 0. 0. 0.]\n",
      " [0. 0. 0. 1. 0. 0.]\n",
      " [0. 0. 0. 0. 1. 0.]\n",
      " [0. 0. 0. 0. 0. 1.]\n",
      " [0. 0. 0. 1. 0. 0.]\n",
      " [0. 0. 1. 0. 0. 0.]\n",
      " [0. 0. 1. 0. 0. 0.]]\n"
     ]
    }
   ],
   "source": [
    "# 1. 문자 -> 레이블 인코딩\n",
    "encoder = LabelEncoder()\n",
    "labels = encoder.fit_transform(items)\n",
    "# 1차원의 labels -> 2차원의 행렬로 변환\n",
    "labels_2d = labels.reshape(-1, 1)\n",
    "\n",
    "# 원-핫 인코딩 적용\n",
    "oh_encoder = OneHotEncoder()\n",
    "oh_labels_2d = oh_encoder.fit_transform(labels_2d) # sparse matrix - 회소행렬 :: text-mining\n",
    "\n",
    "print(f'원-핫 인코딩 인코딩 데이터 : \\n {oh_labels_2d.toarray()}')\n"
   ]
  },
  {
   "cell_type": "code",
   "execution_count": 45,
   "id": "85539b40",
   "metadata": {},
   "outputs": [
    {
     "data": {
      "text/html": [
       "<div>\n",
       "<style scoped>\n",
       "    .dataframe tbody tr th:only-of-type {\n",
       "        vertical-align: middle;\n",
       "    }\n",
       "\n",
       "    .dataframe tbody tr th {\n",
       "        vertical-align: top;\n",
       "    }\n",
       "\n",
       "    .dataframe thead th {\n",
       "        text-align: right;\n",
       "    }\n",
       "</style>\n",
       "<table border=\"1\" class=\"dataframe\">\n",
       "  <thead>\n",
       "    <tr style=\"text-align: right;\">\n",
       "      <th></th>\n",
       "      <th>item_TV</th>\n",
       "      <th>item_냉장고</th>\n",
       "      <th>item_믹서</th>\n",
       "      <th>item_선풍기</th>\n",
       "      <th>item_전자레인지</th>\n",
       "      <th>item_컴퓨터</th>\n",
       "    </tr>\n",
       "  </thead>\n",
       "  <tbody>\n",
       "    <tr>\n",
       "      <th>0</th>\n",
       "      <td>1</td>\n",
       "      <td>0</td>\n",
       "      <td>0</td>\n",
       "      <td>0</td>\n",
       "      <td>0</td>\n",
       "      <td>0</td>\n",
       "    </tr>\n",
       "    <tr>\n",
       "      <th>1</th>\n",
       "      <td>0</td>\n",
       "      <td>1</td>\n",
       "      <td>0</td>\n",
       "      <td>0</td>\n",
       "      <td>0</td>\n",
       "      <td>0</td>\n",
       "    </tr>\n",
       "    <tr>\n",
       "      <th>2</th>\n",
       "      <td>0</td>\n",
       "      <td>0</td>\n",
       "      <td>0</td>\n",
       "      <td>0</td>\n",
       "      <td>1</td>\n",
       "      <td>0</td>\n",
       "    </tr>\n",
       "    <tr>\n",
       "      <th>3</th>\n",
       "      <td>0</td>\n",
       "      <td>0</td>\n",
       "      <td>0</td>\n",
       "      <td>0</td>\n",
       "      <td>0</td>\n",
       "      <td>1</td>\n",
       "    </tr>\n",
       "    <tr>\n",
       "      <th>4</th>\n",
       "      <td>0</td>\n",
       "      <td>0</td>\n",
       "      <td>0</td>\n",
       "      <td>1</td>\n",
       "      <td>0</td>\n",
       "      <td>0</td>\n",
       "    </tr>\n",
       "    <tr>\n",
       "      <th>5</th>\n",
       "      <td>0</td>\n",
       "      <td>0</td>\n",
       "      <td>0</td>\n",
       "      <td>1</td>\n",
       "      <td>0</td>\n",
       "      <td>0</td>\n",
       "    </tr>\n",
       "    <tr>\n",
       "      <th>6</th>\n",
       "      <td>0</td>\n",
       "      <td>0</td>\n",
       "      <td>1</td>\n",
       "      <td>0</td>\n",
       "      <td>0</td>\n",
       "      <td>0</td>\n",
       "    </tr>\n",
       "    <tr>\n",
       "      <th>7</th>\n",
       "      <td>0</td>\n",
       "      <td>0</td>\n",
       "      <td>1</td>\n",
       "      <td>0</td>\n",
       "      <td>0</td>\n",
       "      <td>0</td>\n",
       "    </tr>\n",
       "  </tbody>\n",
       "</table>\n",
       "</div>"
      ],
      "text/plain": [
       "   item_TV  item_냉장고  item_믹서  item_선풍기  item_전자레인지  item_컴퓨터\n",
       "0        1         0        0         0           0         0\n",
       "1        0         1        0         0           0         0\n",
       "2        0         0        0         0           1         0\n",
       "3        0         0        0         0           0         1\n",
       "4        0         0        0         1           0         0\n",
       "5        0         0        0         1           0         0\n",
       "6        0         0        1         0           0         0\n",
       "7        0         0        1         0           0         0"
      ]
     },
     "execution_count": 45,
     "metadata": {},
     "output_type": "execute_result"
    }
   ],
   "source": [
    "import pandas as pd\n",
    "df = pd.DataFrame({'item':['TV','냉장고','전자레인지','컴퓨터','선풍기','선풍기','믹서','믹서']})\n",
    "pd.get_dummies(df) # 독립변수의 문자들을 원핫인코딩으로 적용한다.\n"
   ]
  },
  {
   "cell_type": "markdown",
   "id": "141d1e0c",
   "metadata": {},
   "source": [
    "# 피쳐 스케일링(Feature Scaling)과 정규화(Normalization)"
   ]
  },
  {
   "cell_type": "markdown",
   "id": "754d37f8",
   "metadata": {},
   "source": [
    "서로 다른 변수의 값 범위를 일정한 수준으로 맞추는 작업을 피처 스케일링(feature scaling)이라고 한다. 대표적인 방법으로 \n",
    "1. 표준화(Standardization)\n",
    "2. 정규화(Normalization)가 있다.\n",
    "\n",
    "표준화는 데이터의 피처(x) 각각의 평균이 0 분산이 1인 가우시안 정규 분포를 가진 값으로 변환하는 것을 의미한다. (z-score 표준화를 통해 변환될 피처 x의 새로운 i번째 데이터를 xi_new라고 한다면 이 값은 원래 값에서 피처 x의 평균을 뺀 값을 피처 x의 평균을 뺀 값을 피처 x의 표준편차로 나눈 값으로 계산할 수 있다.\n",
    "\n",
    "일반적으로 정규화는 서로 다른 피처의 크기를 통일하기 위해 크기를 변환해주는 개념입니다. 예를 들어 피처 A는 거리를 나타내는 변수로서 값이 0 ~ 100KM로 주어지고 피처 B는 금액을 나타내는 속성으로 값이 0 ~ 100,000,000,000원으로 주어진다면 이 변수를 모두 동일한 크기 단위로 비교하기 위해 값을 모두 최소 0 ~ 최대 1의 값으로 변환하는 것이다. 즉, 개별 데이터의 크기를 모두 똑같은 단위로 변경하는 것이다.\n",
    "\n",
    "새로운 데이터 xi_new는 원래 값에서 피처 x의 최솟값을 뺀 값을 피처 x의 최댓값과 최솟값의 차이로 나눈 값으로 변환할 수 있다.\n",
    "\n",
    "그런데 사이킷런의 전처리에서 제공하는 Normalizer 모듈과 일반적인 정규화는 약간의 차이가 있다.(물론 큰 개념은 똑같다). 사이킷런의 Normalizer 모듈은 선형대수에서의 정규화 개념이 적용됐으며, 개별 벡터의 크기를 맞추기 위해 변환하는 것을 의미한다. 즉, 개별 벡터를 모든 피처 벡터의 크기로 나눠준다. 세 개의 피처 x,y,z가 있다고 하면 새로운 데이터 xi_new는 원래 값에서 세 개의 피처의 i번째 피처 값에 해당하는 크기를 합한 값으로 나눠준다.\n",
    "\n",
    "혼선을 방지하기 위해 일반적인 의미의 표준화와 정규화를 피처 스케일링으로 통칭하고 선형대수 개념의 정규화를 벡터 정규화로 지칭하겠다. 먼저 사이킷런에서 제공하는 대표적인 피처 스케일링 클래스인 StandardScaler와 MinMaxScaler를 알아보자.\n",
    "\n",
    "## StandardScaler\n",
    "StandardScaler는 앞에서 설명한 표준화를 쉽게 지원하기 위한 클래스이다. 즉, 개별 피쳐를 평균이 0이고, 분산이 1인 값으로 변환해준다. 이렇게 가우시안 정규 분포를 가질 수 있도록 데이터를 변환하는 것은 몇몇 알고리즘에서 매우 중요하다. 특히 사이킷런에서 구현한 RBF 커널을 이용하는 서포트 벡터 머신(Support Vector Machine)이나 선형회귀(Linear Regression), 로지스틱 회귀(Logistic Regression)는 데이터가 가우시안 분포를 가지고 있다고 가정하고 구현됐기 때문에 사전에 표준화를 적용하는 것은 예측 성능 향상에 중요한 요소가 될 수 있다.\n",
    "StandartdScaler가 어떻게 데이터 값을 변환하는지 데이터 세트로 확인해보자."
   ]
  },
  {
   "cell_type": "code",
   "execution_count": 54,
   "id": "275a920c",
   "metadata": {},
   "outputs": [
    {
     "name": "stdout",
     "output_type": "stream",
     "text": [
      "features들의 평균\n",
      "sepal length (cm)    5.843333\n",
      "sepal width (cm)     3.057333\n",
      "petal length (cm)    3.758000\n",
      "petal width (cm)     1.199333\n",
      "dtype: float64\n",
      "\n",
      " features들의 분산\n",
      "sepal length (cm)    0.685694\n",
      "sepal width (cm)     0.189979\n",
      "petal length (cm)    3.116278\n",
      "petal width (cm)     0.581006\n",
      "dtype: float64\n"
     ]
    }
   ],
   "source": [
    "from sklearn.datasets import load_iris\n",
    "import pandas as pd\n",
    "\n",
    "iris = load_iris()\n",
    "x_data = iris.data\n",
    "iris_df = pd.DataFrame(x_data, columns=iris.feature_names)\n",
    "\n",
    "print('features들의 평균')\n",
    "print(iris_df.mean())\n",
    "print('\\n features들의 분산')\n",
    "print(iris_df.var())\n",
    "\n"
   ]
  },
  {
   "cell_type": "code",
   "execution_count": 59,
   "id": "74f346ae",
   "metadata": {},
   "outputs": [
    {
     "name": "stdout",
     "output_type": "stream",
     "text": [
      "features들의 평균\n",
      "sepal length (cm)   -1.690315e-15\n",
      "sepal width (cm)    -1.842970e-15\n",
      "petal length (cm)   -1.698641e-15\n",
      "petal width (cm)    -1.409243e-15\n",
      "dtype: float64\n",
      "\n",
      " features들의 분산\n",
      "sepal length (cm)    1.006711\n",
      "sepal width (cm)     1.006711\n",
      "petal length (cm)    1.006711\n",
      "petal width (cm)     1.006711\n",
      "dtype: float64\n"
     ]
    }
   ],
   "source": [
    "from sklearn.preprocessing import StandardScaler # Z-scoring의 공식\n",
    "# 객체 생성\n",
    "scaler = StandardScaler()\n",
    "# fit_transform으로 데이터 변환\n",
    "iris_scaled = scaler.fit_transform(iris_df)\n",
    "iris_df_scaled = pd.DataFrame(iris_scaled, columns=iris.feature_names)\n",
    "\n",
    "print('features들의 평균')\n",
    "print(iris_df_scaled.mean())\n",
    "print('\\n features들의 분산')\n",
    "print(iris_df_scaled.var())"
   ]
  },
  {
   "cell_type": "markdown",
   "id": "22010cbb",
   "metadata": {},
   "source": [
    "# MinMaxScaler\n",
    "데이터의 값을 0과 1사이의 값으로 변환해준다."
   ]
  },
  {
   "cell_type": "code",
   "execution_count": 61,
   "id": "f7904d53",
   "metadata": {},
   "outputs": [
    {
     "data": {
      "text/html": [
       "<div>\n",
       "<style scoped>\n",
       "    .dataframe tbody tr th:only-of-type {\n",
       "        vertical-align: middle;\n",
       "    }\n",
       "\n",
       "    .dataframe tbody tr th {\n",
       "        vertical-align: top;\n",
       "    }\n",
       "\n",
       "    .dataframe thead th {\n",
       "        text-align: right;\n",
       "    }\n",
       "</style>\n",
       "<table border=\"1\" class=\"dataframe\">\n",
       "  <thead>\n",
       "    <tr style=\"text-align: right;\">\n",
       "      <th></th>\n",
       "      <th>sepal length (cm)</th>\n",
       "      <th>sepal width (cm)</th>\n",
       "      <th>petal length (cm)</th>\n",
       "      <th>petal width (cm)</th>\n",
       "    </tr>\n",
       "  </thead>\n",
       "  <tbody>\n",
       "    <tr>\n",
       "      <th>0</th>\n",
       "      <td>0.222222</td>\n",
       "      <td>0.625000</td>\n",
       "      <td>0.067797</td>\n",
       "      <td>0.041667</td>\n",
       "    </tr>\n",
       "    <tr>\n",
       "      <th>1</th>\n",
       "      <td>0.166667</td>\n",
       "      <td>0.416667</td>\n",
       "      <td>0.067797</td>\n",
       "      <td>0.041667</td>\n",
       "    </tr>\n",
       "    <tr>\n",
       "      <th>2</th>\n",
       "      <td>0.111111</td>\n",
       "      <td>0.500000</td>\n",
       "      <td>0.050847</td>\n",
       "      <td>0.041667</td>\n",
       "    </tr>\n",
       "    <tr>\n",
       "      <th>3</th>\n",
       "      <td>0.083333</td>\n",
       "      <td>0.458333</td>\n",
       "      <td>0.084746</td>\n",
       "      <td>0.041667</td>\n",
       "    </tr>\n",
       "    <tr>\n",
       "      <th>4</th>\n",
       "      <td>0.194444</td>\n",
       "      <td>0.666667</td>\n",
       "      <td>0.067797</td>\n",
       "      <td>0.041667</td>\n",
       "    </tr>\n",
       "    <tr>\n",
       "      <th>...</th>\n",
       "      <td>...</td>\n",
       "      <td>...</td>\n",
       "      <td>...</td>\n",
       "      <td>...</td>\n",
       "    </tr>\n",
       "    <tr>\n",
       "      <th>145</th>\n",
       "      <td>0.666667</td>\n",
       "      <td>0.416667</td>\n",
       "      <td>0.711864</td>\n",
       "      <td>0.916667</td>\n",
       "    </tr>\n",
       "    <tr>\n",
       "      <th>146</th>\n",
       "      <td>0.555556</td>\n",
       "      <td>0.208333</td>\n",
       "      <td>0.677966</td>\n",
       "      <td>0.750000</td>\n",
       "    </tr>\n",
       "    <tr>\n",
       "      <th>147</th>\n",
       "      <td>0.611111</td>\n",
       "      <td>0.416667</td>\n",
       "      <td>0.711864</td>\n",
       "      <td>0.791667</td>\n",
       "    </tr>\n",
       "    <tr>\n",
       "      <th>148</th>\n",
       "      <td>0.527778</td>\n",
       "      <td>0.583333</td>\n",
       "      <td>0.745763</td>\n",
       "      <td>0.916667</td>\n",
       "    </tr>\n",
       "    <tr>\n",
       "      <th>149</th>\n",
       "      <td>0.444444</td>\n",
       "      <td>0.416667</td>\n",
       "      <td>0.694915</td>\n",
       "      <td>0.708333</td>\n",
       "    </tr>\n",
       "  </tbody>\n",
       "</table>\n",
       "<p>150 rows × 4 columns</p>\n",
       "</div>"
      ],
      "text/plain": [
       "     sepal length (cm)  sepal width (cm)  petal length (cm)  petal width (cm)\n",
       "0             0.222222          0.625000           0.067797          0.041667\n",
       "1             0.166667          0.416667           0.067797          0.041667\n",
       "2             0.111111          0.500000           0.050847          0.041667\n",
       "3             0.083333          0.458333           0.084746          0.041667\n",
       "4             0.194444          0.666667           0.067797          0.041667\n",
       "..                 ...               ...                ...               ...\n",
       "145           0.666667          0.416667           0.711864          0.916667\n",
       "146           0.555556          0.208333           0.677966          0.750000\n",
       "147           0.611111          0.416667           0.711864          0.791667\n",
       "148           0.527778          0.583333           0.745763          0.916667\n",
       "149           0.444444          0.416667           0.694915          0.708333\n",
       "\n",
       "[150 rows x 4 columns]"
      ]
     },
     "execution_count": 61,
     "metadata": {},
     "output_type": "execute_result"
    }
   ],
   "source": [
    "from sklearn.preprocessing import MinMaxScaler # 0-1로 변환\n",
    "\n",
    "# 객체생성\n",
    "mm_scaler = MinMaxScaler()\n",
    "\n",
    "# 데이터 셋 변환\n",
    "iris_scaled_mm = mm_scaler.fit_transform(iris_df)\n",
    "\n",
    "# df을 재생성\n",
    "iris_df_mm = pd.DataFrame(iris_scaled_mm, columns=iris.feature_names)\n"
   ]
  },
  {
   "cell_type": "code",
   "execution_count": 63,
   "id": "17f7bb2e",
   "metadata": {},
   "outputs": [
    {
     "name": "stdout",
     "output_type": "stream",
     "text": [
      "ftrs의 최소값\n",
      "sepal length (cm)   -1.870024\n",
      "sepal width (cm)    -2.433947\n",
      "petal length (cm)   -1.567576\n",
      "petal width (cm)    -1.447076\n",
      "dtype: float64\n",
      "ftrs의 최대값\n",
      "sepal length (cm)    2.492019\n",
      "sepal width (cm)     3.090775\n",
      "petal length (cm)    1.785832\n",
      "petal width (cm)     1.712096\n",
      "dtype: float64\n"
     ]
    }
   ],
   "source": [
    "# 최대최소값 확인\n",
    "print('ftrs의 최소값')\n",
    "print(iris_df_scaled.min())\n",
    "print('ftrs의 최대값')\n",
    "print(iris_df_scaled.max())"
   ]
  },
  {
   "cell_type": "code",
   "execution_count": 28,
   "id": "1c3ce064",
   "metadata": {
    "scrolled": true
   },
   "outputs": [
    {
     "name": "stdout",
     "output_type": "stream",
     "text": [
      "인코딩 완료 : \n",
      " [[1. 0. 0. 0. 0. 0. 0.]\n",
      " [0. 1. 0. 0. 0. 0. 0.]\n",
      " [0. 0. 0. 1. 0. 0. 0.]\n",
      " [0. 0. 0. 0. 0. 1. 0.]\n",
      " [0. 0. 0. 0. 0. 0. 1.]\n",
      " [0. 0. 1. 0. 0. 0. 0.]\n",
      " [0. 0. 0. 0. 0. 1. 0.]\n",
      " [0. 0. 0. 0. 1. 0. 0.]\n",
      " [0. 0. 0. 0. 1. 0. 0.]]\n"
     ]
    },
    {
     "ename": "NameError",
     "evalue": "name 'one_hot_result' is not defined",
     "output_type": "error",
     "traceback": [
      "\u001b[1;31m---------------------------------------------------------------------------\u001b[0m",
      "\u001b[1;31mNameError\u001b[0m                                 Traceback (most recent call last)",
      "\u001b[1;32m~\\AppData\\Local\\Temp\\ipykernel_7768\\3975191498.py\u001b[0m in \u001b[0;36m<module>\u001b[1;34m\u001b[0m\n\u001b[0;32m     23\u001b[0m \u001b[1;33m\u001b[0m\u001b[0m\n\u001b[0;32m     24\u001b[0m \u001b[0mprint\u001b[0m\u001b[1;33m(\u001b[0m\u001b[1;34mf'인코딩 완료 : \\n {result.toarray()}'\u001b[0m\u001b[1;33m)\u001b[0m\u001b[1;33m\u001b[0m\u001b[1;33m\u001b[0m\u001b[0m\n\u001b[1;32m---> 25\u001b[1;33m \u001b[0mprint\u001b[0m\u001b[1;33m(\u001b[0m\u001b[1;34mf'인코딩 완료 : \\n {one_hot_result}'\u001b[0m\u001b[1;33m)\u001b[0m\u001b[1;33m\u001b[0m\u001b[1;33m\u001b[0m\u001b[0m\n\u001b[0m",
      "\u001b[1;31mNameError\u001b[0m: name 'one_hot_result' is not defined"
     ]
    }
   ],
   "source": [
    "from sklearn.preprocessing import OneHotEncoder\n",
    "from sklearn.preprocessing import LabelEncoder\n",
    "\n",
    "# 테스트용 데이터\n",
    "items = ['TV', '냉장고', '라디오', '자전거', '컴퓨터', '노트북', '자전거', '믹서기', '믹서기']\n",
    "\n",
    "\n",
    "# 객체화 insternce\n",
    "encoder = LabelEncoder()\n",
    "eh_encoder = OneHotEncoder()\n",
    "\n",
    "\n",
    "# Labelencoder\n",
    "label_result = encoder.fit_transform(items)\n",
    "\n",
    "# 1차원 ==> 2차원 변환\n",
    "label_2d = label_result.reshape(-1, 1)\n",
    "\n",
    "# One-Hot 인코딩 작업\n",
    "result = eh_encoder.fit_transform(label_2d)\n",
    "\n",
    "# print(f'인코딩 완료 : {result.toarray()}')\n",
    "\n",
    "print(f'인코딩 완료 : \\n {result.toarray()}')\n",
    "print(f'인코딩 완료 : \\n {result}')"
   ]
  },
  {
   "cell_type": "code",
   "execution_count": null,
   "id": "dc81c88b",
   "metadata": {},
   "outputs": [],
   "source": []
  },
  {
   "cell_type": "code",
   "execution_count": null,
   "id": "754e79cf",
   "metadata": {},
   "outputs": [],
   "source": []
  }
 ],
 "metadata": {
  "kernelspec": {
   "display_name": "Python 3 (ipykernel)",
   "language": "python",
   "name": "python3"
  },
  "language_info": {
   "codemirror_mode": {
    "name": "ipython",
    "version": 3
   },
   "file_extension": ".py",
   "mimetype": "text/x-python",
   "name": "python",
   "nbconvert_exporter": "python",
   "pygments_lexer": "ipython3",
   "version": "3.7.16"
  }
 },
 "nbformat": 4,
 "nbformat_minor": 5
}
