{
 "cells": [
  {
   "cell_type": "code",
   "execution_count": 1,
   "metadata": {
    "colab": {},
    "colab_type": "code",
    "id": "zKbTYjWpx03n"
   },
   "outputs": [],
   "source": [
    "import warnings\n",
    "warnings.filterwarnings(\"ignore\")\n",
    "\n",
    "import pandas as pd\n",
    "import numpy as np\n",
    "import matplotlib.pyplot as plt\n",
    "import seaborn as sns\n",
    "from sklearn.preprocessing import LabelEncoder, OneHotEncoder, StandardScaler, MinMaxScaler\n",
    "from sklearn.compose import ColumnTransformer\n",
    "from sklearn.pipeline import Pipeline\n",
    "from sklearn.metrics import accuracy_score, f1_score, roc_auc_score, roc_curve, auc, mean_squared_error, classification_report\n",
    "from sklearn import  model_selection\n",
    "from sklearn import ensemble\n",
    "from sklearn import svm\n",
    "from sklearn.model_selection import GridSearchCV\n",
    "from skopt import BayesSearchCV\n",
    "from vecstack import stacking, StackingTransformer\n",
    "from xgboost import XGBClassifier\n",
    "from IPython.display import Image\n",
    "from sklearn.tree import DecisionTreeClassifier\n",
    "from skopt import BayesSearchCV\n",
    "from skopt.space import Categorical, Integer\n",
    "from sklearn.linear_model import LogisticRegression"
   ]
  },
  {
   "cell_type": "markdown",
   "metadata": {},
   "source": [
    "<br>\n",
    "\n",
    "## 1. Preparing dataset (2번부터 실습 진행)"
   ]
  },
  {
   "cell_type": "code",
   "execution_count": 2,
   "metadata": {
    "scrolled": false
   },
   "outputs": [],
   "source": [
    "titan_df = pd.read_csv('./titanic.csv', encoding='utf-8', engine='python')"
   ]
  },
  {
   "cell_type": "markdown",
   "metadata": {},
   "source": [
    "## Data info\n",
    "\n",
    "- **PassengerId** : Unique ID of passenger 승객번호\n",
    "- **Survived** : 0 = No, 1 = Yes 생존여부\n",
    "- **pclass** : Ticket class (1 = 1st, 2 = 2nd, 3 = 3rd) 객실 클래스\n",
    "- **sibsp** : # of siblings & spouses aboard the Titanic 동행자\n",
    "- **parch** : # of parents / children aboard the Titanic 부모자녀여부\n",
    "- **ticket** : Ticket number 티켓\n",
    "- **cabin** : Cabin number 객실번호\n",
    "- **embarked** : Port of Embarkation (C = Cherbourg, Q = Queenstown, S = Southampton) 어디서 탓는지"
   ]
  },
  {
   "cell_type": "code",
   "execution_count": 3,
   "metadata": {},
   "outputs": [
    {
     "data": {
      "text/html": [
       "<div>\n",
       "<style scoped>\n",
       "    .dataframe tbody tr th:only-of-type {\n",
       "        vertical-align: middle;\n",
       "    }\n",
       "\n",
       "    .dataframe tbody tr th {\n",
       "        vertical-align: top;\n",
       "    }\n",
       "\n",
       "    .dataframe thead th {\n",
       "        text-align: right;\n",
       "    }\n",
       "</style>\n",
       "<table border=\"1\" class=\"dataframe\">\n",
       "  <thead>\n",
       "    <tr style=\"text-align: right;\">\n",
       "      <th></th>\n",
       "      <th>PassengerId</th>\n",
       "      <th>Survived</th>\n",
       "      <th>Pclass</th>\n",
       "      <th>Age</th>\n",
       "      <th>SibSp</th>\n",
       "      <th>Parch</th>\n",
       "      <th>Fare</th>\n",
       "    </tr>\n",
       "  </thead>\n",
       "  <tbody>\n",
       "    <tr>\n",
       "      <th>count</th>\n",
       "      <td>891.000000</td>\n",
       "      <td>891.000000</td>\n",
       "      <td>891.000000</td>\n",
       "      <td>714.000000</td>\n",
       "      <td>891.000000</td>\n",
       "      <td>891.000000</td>\n",
       "      <td>891.000000</td>\n",
       "    </tr>\n",
       "    <tr>\n",
       "      <th>mean</th>\n",
       "      <td>446.000000</td>\n",
       "      <td>0.383838</td>\n",
       "      <td>2.308642</td>\n",
       "      <td>29.699118</td>\n",
       "      <td>0.523008</td>\n",
       "      <td>0.381594</td>\n",
       "      <td>32.204208</td>\n",
       "    </tr>\n",
       "    <tr>\n",
       "      <th>std</th>\n",
       "      <td>257.353842</td>\n",
       "      <td>0.486592</td>\n",
       "      <td>0.836071</td>\n",
       "      <td>14.526497</td>\n",
       "      <td>1.102743</td>\n",
       "      <td>0.806057</td>\n",
       "      <td>49.693429</td>\n",
       "    </tr>\n",
       "    <tr>\n",
       "      <th>min</th>\n",
       "      <td>1.000000</td>\n",
       "      <td>0.000000</td>\n",
       "      <td>1.000000</td>\n",
       "      <td>0.420000</td>\n",
       "      <td>0.000000</td>\n",
       "      <td>0.000000</td>\n",
       "      <td>0.000000</td>\n",
       "    </tr>\n",
       "    <tr>\n",
       "      <th>25%</th>\n",
       "      <td>223.500000</td>\n",
       "      <td>0.000000</td>\n",
       "      <td>2.000000</td>\n",
       "      <td>20.125000</td>\n",
       "      <td>0.000000</td>\n",
       "      <td>0.000000</td>\n",
       "      <td>7.910400</td>\n",
       "    </tr>\n",
       "    <tr>\n",
       "      <th>50%</th>\n",
       "      <td>446.000000</td>\n",
       "      <td>0.000000</td>\n",
       "      <td>3.000000</td>\n",
       "      <td>28.000000</td>\n",
       "      <td>0.000000</td>\n",
       "      <td>0.000000</td>\n",
       "      <td>14.454200</td>\n",
       "    </tr>\n",
       "    <tr>\n",
       "      <th>75%</th>\n",
       "      <td>668.500000</td>\n",
       "      <td>1.000000</td>\n",
       "      <td>3.000000</td>\n",
       "      <td>38.000000</td>\n",
       "      <td>1.000000</td>\n",
       "      <td>0.000000</td>\n",
       "      <td>31.000000</td>\n",
       "    </tr>\n",
       "    <tr>\n",
       "      <th>max</th>\n",
       "      <td>891.000000</td>\n",
       "      <td>1.000000</td>\n",
       "      <td>3.000000</td>\n",
       "      <td>80.000000</td>\n",
       "      <td>8.000000</td>\n",
       "      <td>6.000000</td>\n",
       "      <td>512.329200</td>\n",
       "    </tr>\n",
       "  </tbody>\n",
       "</table>\n",
       "</div>"
      ],
      "text/plain": [
       "       PassengerId    Survived      Pclass         Age       SibSp  \\\n",
       "count   891.000000  891.000000  891.000000  714.000000  891.000000   \n",
       "mean    446.000000    0.383838    2.308642   29.699118    0.523008   \n",
       "std     257.353842    0.486592    0.836071   14.526497    1.102743   \n",
       "min       1.000000    0.000000    1.000000    0.420000    0.000000   \n",
       "25%     223.500000    0.000000    2.000000   20.125000    0.000000   \n",
       "50%     446.000000    0.000000    3.000000   28.000000    0.000000   \n",
       "75%     668.500000    1.000000    3.000000   38.000000    1.000000   \n",
       "max     891.000000    1.000000    3.000000   80.000000    8.000000   \n",
       "\n",
       "            Parch        Fare  \n",
       "count  891.000000  891.000000  \n",
       "mean     0.381594   32.204208  \n",
       "std      0.806057   49.693429  \n",
       "min      0.000000    0.000000  \n",
       "25%      0.000000    7.910400  \n",
       "50%      0.000000   14.454200  \n",
       "75%      0.000000   31.000000  \n",
       "max      6.000000  512.329200  "
      ]
     },
     "execution_count": 3,
     "metadata": {},
     "output_type": "execute_result"
    }
   ],
   "source": [
    "titan_df.describe()"
   ]
  },
  {
   "cell_type": "code",
   "execution_count": 4,
   "metadata": {},
   "outputs": [],
   "source": [
    "# Age에 랜덤하게 백분위수 25%~75%까지의 값을 랜덤하게 대치하기 위한 함수\n",
    "def replace_age(age_quantile_25, age_quantile_75):\n",
    "    return np.random.randint(age_percentiles_25, age_percentiles_75)"
   ]
  },
  {
   "cell_type": "code",
   "execution_count": 5,
   "metadata": {},
   "outputs": [],
   "source": [
    "# Age의 백분위수 25%\n",
    "age_percentiles_25 = titan_df.Age.quantile(.25)\n",
    "# Age의 백분위수 75%\n",
    "age_percentiles_75 = titan_df.Age.quantile(.75)\n",
    "\n",
    "# Age에 랜덤하게 백분위수 25%~75%까지의 값을 랜덤하게 대치\n",
    "titan_df.Age = titan_df.Age.apply(lambda x : replace_age(age_percentiles_25, age_percentiles_75) if pd.isna(x) else x)"
   ]
  },
  {
   "cell_type": "code",
   "execution_count": 6,
   "metadata": {},
   "outputs": [],
   "source": [
    "# Embarked에 2개의 결측치 제거\n",
    "titan_df.dropna(subset=['Embarked'], inplace=True)"
   ]
  },
  {
   "cell_type": "code",
   "execution_count": 7,
   "metadata": {},
   "outputs": [],
   "source": [
    "# 필요없는 컬럼 제거\n",
    "titan_df.drop(columns=['Cabin', 'Ticket', 'Name', 'PassengerId'], inplace=True)\n",
    "\n",
    "# target(Survived) column만 나눠놓은 것\n",
    "target_df = titan_df['Survived']\n",
    "# Survived column을 지우고 실제로 train_split 할 데이터\n",
    "data_df = titan_df.drop(columns=['Survived'])\n"
   ]
  },
  {
   "cell_type": "code",
   "execution_count": 8,
   "metadata": {},
   "outputs": [],
   "source": [
    "# 7:3의 비율, seed는 0으로 데이터를 train과 test로 나누는 과정\n",
    "x_train, x_test, y_train, y_test = model_selection.train_test_split(data_df, target_df,\n",
    "                                                                    stratify=target_df,\n",
    "                                                                    test_size=0.3,\n",
    "                                                                    random_state=42)"
   ]
  },
  {
   "cell_type": "code",
   "execution_count": 9,
   "metadata": {},
   "outputs": [],
   "source": [
    "# 연속형 데이터\n",
    "numeric_features = ['SibSp', 'Parch', 'Age', 'Fare']\n",
    "# 연속형 데이터 encoder\n",
    "numeric_transformer = StandardScaler()\n",
    "# 범주형 데이터\n",
    "categorical_features = ['Sex', 'Pclass', 'Embarked']\n",
    "# 범주형 데이터 encoder\n",
    "categorical_transformer = OneHotEncoder(categories='auto', handle_unknown='ignore') \n",
    "\n",
    "preprocessor = ColumnTransformer(\n",
    "    transformers=[\n",
    "        ('num', numeric_transformer, numeric_features),\n",
    "        ('cat', categorical_transformer, categorical_features)],\n",
    ")"
   ]
  },
  {
   "cell_type": "code",
   "execution_count": 10,
   "metadata": {},
   "outputs": [],
   "source": [
    "preprocessor_pipe = Pipeline(steps=[('preprocessor', preprocessor)])"
   ]
  },
  {
   "cell_type": "code",
   "execution_count": 11,
   "metadata": {},
   "outputs": [
    {
     "data": {
      "text/plain": [
       "Pipeline(steps=[('preprocessor',\n",
       "                 ColumnTransformer(transformers=[('num', StandardScaler(),\n",
       "                                                  ['SibSp', 'Parch', 'Age',\n",
       "                                                   'Fare']),\n",
       "                                                 ('cat',\n",
       "                                                  OneHotEncoder(handle_unknown='ignore'),\n",
       "                                                  ['Sex', 'Pclass',\n",
       "                                                   'Embarked'])]))])"
      ]
     },
     "execution_count": 11,
     "metadata": {},
     "output_type": "execute_result"
    }
   ],
   "source": [
    "# x_train데이터 학습시키는 과정\n",
    "preprocessor_pipe.fit(x_train)"
   ]
  },
  {
   "cell_type": "code",
   "execution_count": 12,
   "metadata": {},
   "outputs": [],
   "source": [
    "# x_train의 학습을 토대로 One-HotEncoding(), StandardScaler() 적용\n",
    "x_train_transformed = preprocessor_pipe.transform(x_train)\n",
    "x_test_transformed = preprocessor_pipe.transform(x_test)"
   ]
  },
  {
   "cell_type": "code",
   "execution_count": null,
   "metadata": {},
   "outputs": [],
   "source": []
  },
  {
   "cell_type": "code",
   "execution_count": null,
   "metadata": {},
   "outputs": [],
   "source": []
  },
  {
   "cell_type": "code",
   "execution_count": 13,
   "metadata": {
    "colab": {
     "base_uri": "https://localhost:8080/",
     "height": 127
    },
    "colab_type": "code",
    "executionInfo": {
     "elapsed": 13775,
     "status": "ok",
     "timestamp": 1546723556658,
     "user": {
      "displayName": "Daeyeon Jo",
      "photoUrl": "https://lh4.googleusercontent.com/-9t4wvx9MYls/AAAAAAAAAAI/AAAAAAAAAC0/SPqWlKvQQMk/s64/photo.jpg",
      "userId": "05542487530960824006"
     },
     "user_tz": -540
    },
    "id": "EqR4honW16jn",
    "outputId": "35909889-315d-4a5f-815d-ce1535201ae0"
   },
   "outputs": [],
   "source": [
    "# Stack하기 위한 모델들\n",
    "estimators = [ \n",
    "    ('ExtraTrees', ensemble.ExtraTreesClassifier(random_state = 0, n_jobs = -1, n_estimators = 100, max_depth = 3)),\n",
    "    ('RandomForest', ensemble.RandomForestClassifier(random_state = 0, n_jobs = -1, n_estimators = 100, max_depth = 3)),\n",
    "    ('XGB', XGBClassifier(seed = 0, n_jobs = -1, learning_rate = 0.1, n_estimators = 100, max_depth = 3, eval_metric='mlogloss')),\n",
    "    ('DecisionTree', DecisionTreeClassifier()),\n",
    "    ('Logistic', LogisticRegression()),\n",
    "    ('SVC', svm.SVC(C=1, gamma=0.1, kernel='rbf')),\n",
    "]"
   ]
  },
  {
   "cell_type": "code",
   "execution_count": 14,
   "metadata": {},
   "outputs": [],
   "source": [
    "stack = StackingTransformer(estimators, \n",
    "                            regression = False, \n",
    "                            metric = accuracy_score, \n",
    "                            n_folds = 4, stratified = True, shuffle = True, \n",
    "                            random_state = 0, verbose = 2) "
   ]
  },
  {
   "cell_type": "code",
   "execution_count": 15,
   "metadata": {},
   "outputs": [
    {
     "name": "stdout",
     "output_type": "stream",
     "text": [
      "task:         [classification]\n",
      "n_classes:    [2]\n",
      "metric:       [accuracy_score]\n",
      "variant:      [A]\n",
      "n_estimators: [6]\n",
      "\n",
      "estimator  0: [ExtraTrees: ExtraTreesClassifier]\n",
      "    fold  0:  [0.78205128]\n",
      "    fold  1:  [0.80769231]\n",
      "    fold  2:  [0.81935484]\n",
      "    fold  3:  [0.78709677]\n",
      "    ----\n",
      "    MEAN:     [0.79904880] + [0.01515596]\n",
      "\n",
      "estimator  1: [RandomForest: RandomForestClassifier]\n",
      "    fold  0:  [0.78205128]\n",
      "    fold  1:  [0.82051282]\n",
      "    fold  2:  [0.81935484]\n",
      "    fold  3:  [0.80000000]\n",
      "    ----\n",
      "    MEAN:     [0.80547974] + [0.01579107]\n",
      "\n",
      "estimator  2: [XGB: XGBClassifier]\n",
      "    fold  0:  [0.84615385]\n",
      "    fold  1:  [0.85897436]\n",
      "    fold  2:  [0.80000000]\n",
      "    fold  3:  [0.78064516]\n",
      "    ----\n",
      "    MEAN:     [0.82144334] + [0.03218499]\n",
      "\n",
      "estimator  3: [DecisionTree: DecisionTreeClassifier]\n",
      "    fold  0:  [0.78205128]\n",
      "    fold  1:  [0.82692308]\n",
      "    fold  2:  [0.73548387]\n",
      "    fold  3:  [0.72258065]\n",
      "    ----\n",
      "    MEAN:     [0.76675972] + [0.04118079]\n",
      "\n",
      "estimator  4: [Logistic: LogisticRegression]\n",
      "    fold  0:  [0.77564103]\n",
      "    fold  1:  [0.79487179]\n",
      "    fold  2:  [0.78064516]\n",
      "    fold  3:  [0.81290323]\n",
      "    ----\n",
      "    MEAN:     [0.79101530] + [0.01447292]\n",
      "\n",
      "estimator  5: [SVC: SVC]\n",
      "    fold  0:  [0.82692308]\n",
      "    fold  1:  [0.84615385]\n",
      "    fold  2:  [0.80000000]\n",
      "    fold  3:  [0.81290323]\n",
      "    ----\n",
      "    MEAN:     [0.82149504] + [0.01712729]\n",
      "\n",
      "Train set was detected.\n",
      "Transforming...\n",
      "\n",
      "estimator  0: [ExtraTrees: ExtraTreesClassifier]\n",
      "    model from fold  0: done\n",
      "    model from fold  1: done\n",
      "    model from fold  2: done\n",
      "    model from fold  3: done\n",
      "    ----\n",
      "    DONE\n",
      "\n",
      "estimator  1: [RandomForest: RandomForestClassifier]\n",
      "    model from fold  0: done\n",
      "    model from fold  1: done\n",
      "    model from fold  2: done\n",
      "    model from fold  3: done\n",
      "    ----\n",
      "    DONE\n",
      "\n",
      "estimator  2: [XGB: XGBClassifier]\n",
      "    model from fold  0: done\n",
      "    model from fold  1: done\n",
      "    model from fold  2: done\n",
      "    model from fold  3: done\n",
      "    ----\n",
      "    DONE\n",
      "\n",
      "estimator  3: [DecisionTree: DecisionTreeClassifier]\n",
      "    model from fold  0: done\n",
      "    model from fold  1: done\n",
      "    model from fold  2: done\n",
      "    model from fold  3: done\n",
      "    ----\n",
      "    DONE\n",
      "\n",
      "estimator  4: [Logistic: LogisticRegression]\n",
      "    model from fold  0: done\n",
      "    model from fold  1: done\n",
      "    model from fold  2: done\n",
      "    model from fold  3: done\n",
      "    ----\n",
      "    DONE\n",
      "\n",
      "estimator  5: [SVC: SVC]\n",
      "    model from fold  0: done\n",
      "    model from fold  1: done\n",
      "    model from fold  2: done\n",
      "    model from fold  3: done\n",
      "    ----\n",
      "    DONE\n",
      "\n",
      "Transforming...\n",
      "\n",
      "estimator  0: [ExtraTrees: ExtraTreesClassifier]\n",
      "    model from fold  0: done\n",
      "    model from fold  1: done\n",
      "    model from fold  2: done\n",
      "    model from fold  3: done\n",
      "    ----\n",
      "    DONE\n",
      "\n",
      "estimator  1: [RandomForest: RandomForestClassifier]\n",
      "    model from fold  0: done\n",
      "    model from fold  1: done\n",
      "    model from fold  2: done\n",
      "    model from fold  3: done\n",
      "    ----\n",
      "    DONE\n",
      "\n",
      "estimator  2: [XGB: XGBClassifier]\n",
      "    model from fold  0: done\n",
      "    model from fold  1: done\n",
      "    model from fold  2: done\n",
      "    model from fold  3: done\n",
      "    ----\n",
      "    DONE\n",
      "\n",
      "estimator  3: [DecisionTree: DecisionTreeClassifier]\n",
      "    model from fold  0: done\n",
      "    model from fold  1: done\n",
      "    model from fold  2: done\n",
      "    model from fold  3: done\n",
      "    ----\n",
      "    DONE\n",
      "\n",
      "estimator  4: [Logistic: LogisticRegression]\n",
      "    model from fold  0: done\n",
      "    model from fold  1: done\n",
      "    model from fold  2: done\n",
      "    model from fold  3: done\n",
      "    ----\n",
      "    DONE\n",
      "\n",
      "estimator  5: [SVC: SVC]\n",
      "    model from fold  0: done\n",
      "    model from fold  1: done\n",
      "    model from fold  2: done\n",
      "    model from fold  3: done\n",
      "    ----\n",
      "    DONE\n",
      "\n"
     ]
    }
   ],
   "source": [
    "# fit을 통해 분류함\n",
    "stack = stack.fit(x_train_transformed, y_train)\n",
    "\n",
    "# transform을 통해 학습시킴\n",
    "S_train = stack.transform(x_train_transformed)\n",
    "# transform을 통해 학습시킴\n",
    "S_test = stack.transform(x_test_transformed)\n"
   ]
  },
  {
   "cell_type": "code",
   "execution_count": 16,
   "metadata": {},
   "outputs": [],
   "source": [
    "# XGBClassification의 hyper-parameter\n",
    "params = {\n",
    "    'learning_rate' : [1, 0.1, 0.01, 0.001],\n",
    "    'n_estimators' : [100, 1000],\n",
    "    'max_depth' : [3, 4, 5],\n",
    "    'eval_metric' : ['mlogloss'],\n",
    "    'n_jobs' : [-1],\n",
    "    'seed' : [0],\n",
    "}"
   ]
  },
  {
   "cell_type": "code",
   "execution_count": 17,
   "metadata": {},
   "outputs": [
    {
     "name": "stdout",
     "output_type": "stream",
     "text": [
      "Fitting 5 folds for each of 24 candidates, totalling 120 fits\n"
     ]
    },
    {
     "data": {
      "text/plain": [
       "{'eval_metric': 'mlogloss',\n",
       " 'learning_rate': 0.01,\n",
       " 'max_depth': 3,\n",
       " 'n_estimators': 100,\n",
       " 'n_jobs': -1,\n",
       " 'seed': 0}"
      ]
     },
     "execution_count": 17,
     "metadata": {},
     "output_type": "execute_result"
    }
   ],
   "source": [
    "# GridSearch를 통해 HPO 찾기\n",
    "grid = GridSearchCV(\n",
    "    XGBClassifier(),\n",
    "    params,\n",
    "    refit=True, verbose=1\n",
    ")\n",
    "y_pred = grid.fit(S_train, y_train)\n",
    "y_pred.best_params_"
   ]
  },
  {
   "cell_type": "code",
   "execution_count": 18,
   "metadata": {},
   "outputs": [
    {
     "data": {
      "text/plain": [
       "OrderedDict([('eval_metric', 'mlogloss'),\n",
       "             ('learning_rate', 0.01),\n",
       "             ('max_depth', 3),\n",
       "             ('n_estimators', 344),\n",
       "             ('n_jobs', -1),\n",
       "             ('seed', 0)])"
      ]
     },
     "execution_count": 18,
     "metadata": {},
     "output_type": "execute_result"
    }
   ],
   "source": [
    "# BayesSearch를 통해 HPO 찾기\n",
    "opt = BayesSearchCV(\n",
    "    XGBClassifier(),\n",
    "    params, \n",
    "    n_iter=32,\n",
    "    random_state=0)\n",
    "\n",
    "y_pred = opt.fit(S_train, y_train)\n",
    "y_pred.best_params_"
   ]
  },
  {
   "cell_type": "code",
   "execution_count": 19,
   "metadata": {},
   "outputs": [],
   "source": [
    "# HPO 적용\n",
    "model = XGBClassifier(**y_pred.best_params_) \n",
    "# 투표를 통해 얻은 S_train과 y_train을 다시 학습시킴\n",
    "model = model.fit(S_train, y_train)"
   ]
  },
  {
   "cell_type": "code",
   "execution_count": 20,
   "metadata": {},
   "outputs": [
    {
     "data": {
      "image/png": "[encoded data removed]",
      "text/plain": [
       "<Figure size 648x648 with 1 Axes>"
      ]
     },
     "metadata": {
      "needs_background": "light"
     },
     "output_type": "display_data"
    }
   ],
   "source": [
    "fpr, tpr, _ = roc_curve(y_true=y_test, y_score=model.predict_proba(S_test)[:,1])\n",
    "roc_auc = auc(fpr, tpr) # AUC 면적의 값 (수치)\n",
    "plt.figure(figsize=(9, 9))\n",
    "plt.plot(fpr, tpr, color='darkorange', lw=2, label='ROC curve (area = %0.2f)' % roc_auc)\n",
    "plt.plot([0, 1], [0, 1], color='navy', lw=2, linestyle='--')\n",
    "plt.xlim([0.0, 1.0])\n",
    "plt.ylim([0.0, 1.05])\n",
    "plt.xlabel('False Positive Rate')\n",
    "plt.ylabel('True Positive Rate')\n",
    "plt.legend(loc=\"lower right\")\n",
    "plt.title(\"ROC curve\")\n",
    "plt.show()"
   ]
  },
  {
   "cell_type": "code",
   "execution_count": 21,
   "metadata": {},
   "outputs": [
    {
     "name": "stdout",
     "output_type": "stream",
     "text": [
      "              precision    recall  f1-score   support\n",
      "\n",
      "           0       0.84      0.85      0.85       165\n",
      "           1       0.76      0.74      0.75       102\n",
      "\n",
      "    accuracy                           0.81       267\n",
      "   macro avg       0.80      0.79      0.80       267\n",
      "weighted avg       0.81      0.81      0.81       267\n",
      "\n"
     ]
    }
   ],
   "source": [
    "predictions = model.predict(S_test)\n",
    "print(classification_report(y_test, predictions)) # Precision, Recall, F1-score 등을 확인할 수 있습니다."
   ]
  },
  {
   "cell_type": "code",
   "execution_count": 22,
   "metadata": {},
   "outputs": [],
   "source": [
    "new_x_train = x_train \n",
    "new_x_test = x_test\n",
    "\n",
    "new_x_train['Family'] = new_x_train.SibSp + new_x_train.Parch\n",
    "new_x_test['Family'] = new_x_test.SibSp + new_x_test.Parch"
   ]
  },
  {
   "cell_type": "code",
   "execution_count": 23,
   "metadata": {},
   "outputs": [],
   "source": [
    "new_x_train.drop(columns=['SibSp', 'Parch'], inplace=True)\n",
    "new_x_test.drop(columns=['SibSp', 'Parch'], inplace=True)"
   ]
  },
  {
   "cell_type": "code",
   "execution_count": 24,
   "metadata": {},
   "outputs": [],
   "source": [
    "# 연속형 데이터\n",
    "new_numeric_features = ['Family', 'Age']\n",
    "# 연속형 데이터 encoder\n",
    "numeric_transformer = StandardScaler()\n",
    "# 범주형 데이터\n",
    "categorical_features = ['Sex', 'Pclass', 'Embarked']\n",
    "# 범주형 데이터 encoder\n",
    "categorical_transformer = OneHotEncoder(categories='auto', handle_unknown='ignore') \n",
    "\n",
    "new_preprocessor = ColumnTransformer(\n",
    "    transformers=[\n",
    "        ('num', numeric_transformer, new_numeric_features),\n",
    "        ('cat', categorical_transformer, categorical_features)],\n",
    ")"
   ]
  },
  {
   "cell_type": "code",
   "execution_count": 25,
   "metadata": {},
   "outputs": [],
   "source": [
    "new_preprocessor_pipe = Pipeline(steps=[('preprocessor', new_preprocessor)])"
   ]
  },
  {
   "cell_type": "code",
   "execution_count": 26,
   "metadata": {},
   "outputs": [
    {
     "data": {
      "text/plain": [
       "Pipeline(steps=[('preprocessor',\n",
       "                 ColumnTransformer(transformers=[('num', StandardScaler(),\n",
       "                                                  ['Family', 'Age']),\n",
       "                                                 ('cat',\n",
       "                                                  OneHotEncoder(handle_unknown='ignore'),\n",
       "                                                  ['Sex', 'Pclass',\n",
       "                                                   'Embarked'])]))])"
      ]
     },
     "execution_count": 26,
     "metadata": {},
     "output_type": "execute_result"
    }
   ],
   "source": [
    "# x_train데이터 학습시키는 과정\n",
    "new_preprocessor_pipe.fit(new_x_train)"
   ]
  },
  {
   "cell_type": "code",
   "execution_count": 27,
   "metadata": {},
   "outputs": [],
   "source": [
    "# x_train의 학습을 토대로 One-HotEncoding(), StandardScaler() 적용\n",
    "new_x_train_transformed = new_preprocessor_pipe.transform(new_x_train)\n",
    "new_x_test_transformed = new_preprocessor_pipe.transform(new_x_test)"
   ]
  },
  {
   "cell_type": "code",
   "execution_count": 28,
   "metadata": {},
   "outputs": [],
   "source": [
    "x_train_encoding_new = pd.DataFrame(new_x_train_transformed , columns=['Family', 'Age', 'Female', 'Male', 'Pclass_1', 'Pclass_2', 'Pclass_3', 'Embarked_C', 'Embarked_Q', 'Embarked_S'])\n",
    "x_test_encoding_new =  pd.DataFrame(new_x_test_transformed , columns=['Family', 'Age', 'Female', 'Male', 'Pclass_1', 'Pclass_2', 'Pclass_3', 'Embarked_C', 'Embarked_Q', 'Embarked_S'])"
   ]
  },
  {
   "cell_type": "code",
   "execution_count": 29,
   "metadata": {},
   "outputs": [],
   "source": [
    "model = XGBClassifier(**y_pred.best_params_) \n",
    "model = model.fit(S_train, y_train)"
   ]
  },
  {
   "cell_type": "code",
   "execution_count": 30,
   "metadata": {},
   "outputs": [
    {
     "data": {
      "image/png": "[encoded data removed]",
      "text/plain": [
       "<Figure size 648x648 with 1 Axes>"
      ]
     },
     "metadata": {
      "needs_background": "light"
     },
     "output_type": "display_data"
    }
   ],
   "source": [
    "fpr, tpr, _ = roc_curve(y_true=y_test, y_score=model.predict_proba(S_test)[:,1]) # real y & predicted y (based on \"Sepal width\")\n",
    "roc_auc = auc(fpr, tpr) # AUC 면적의 값 (수치)\n",
    "plt.figure(figsize=(9, 9))\n",
    "plt.plot(fpr, tpr, color='darkorange', lw=2, label='ROC curve (area = %0.2f)' % roc_auc)\n",
    "plt.plot([0, 1], [0, 1], color='navy', lw=2, linestyle='--')\n",
    "plt.xlim([0.0, 1.0])\n",
    "plt.ylim([0.0, 1.05])\n",
    "plt.xlabel('False Positive Rate')\n",
    "plt.ylabel('True Positive Rate')\n",
    "plt.legend(loc=\"lower right\")\n",
    "plt.title(\"ROC curve\")\n",
    "plt.show()"
   ]
  },
  {
   "cell_type": "code",
   "execution_count": 31,
   "metadata": {},
   "outputs": [
    {
     "name": "stdout",
     "output_type": "stream",
     "text": [
      "              precision    recall  f1-score   support\n",
      "\n",
      "           0       0.84      0.85      0.85       165\n",
      "           1       0.76      0.74      0.75       102\n",
      "\n",
      "    accuracy                           0.81       267\n",
      "   macro avg       0.80      0.79      0.80       267\n",
      "weighted avg       0.81      0.81      0.81       267\n",
      "\n"
     ]
    }
   ],
   "source": [
    "predictions = model.predict(S_test)\n",
    "print(classification_report(y_test, predictions)) # Precision, Recall, F1-score 등을 확인할 수 있습니다."
   ]
  },
  {
   "cell_type": "markdown",
   "metadata": {},
   "source": [
    "<br>\n",
    "\n",
    "## 2. Feature engineering & Feature selection"
   ]
  },
  {
   "cell_type": "markdown",
   "metadata": {},
   "source": [
    "#### 시도해볼 수 있는 전략들\n",
    "\n",
    "- 불필요한 열이나 예측에 방해가 되는 열은 아예 지우기 (ex. PassengerId)\n",
    "- 결측치 채우기 \n",
    "- Text로 되어있는 Category(Factor)는 숫자로 바꿔주기 (ex. Male/Female -> 0/1)\n",
    "- 실수 범위를 구간 범위로 바꿔주기 \n",
    "- 필요한 경우 기존 열을 바탕으로 새로운 열을 계산해 추가하기"
   ]
  },
  {
   "cell_type": "markdown",
   "metadata": {},
   "source": [
    "ex. 보험사에서 다루는 고객데이터셋 중 나이열에 있는 결측치를 다루려 할 때\n",
    "\n",
    "- 랜덤 값으로 채우기\n",
    "- 대표 값으로 채우기(mean평균, median중위값, mode최빈값)\n",
    "- 위아래 데이터의 평균값으로 채우기\n",
    "- 행들을 그룹으로 묶은 후 해당 그룹의 대표값으로 채우기\n",
    "- 머신러닝 예측모델을 만들어 해당 열의 결측치를 채우기\n",
    "- 특정 기준 이상의 결측치가 있을 시 해당 열 삭제"
   ]
  },
  {
   "cell_type": "code",
   "execution_count": null,
   "metadata": {
    "scrolled": true
   },
   "outputs": [],
   "source": [
    "x_data.info()"
   ]
  },
  {
   "cell_type": "code",
   "execution_count": null,
   "metadata": {
    "colab": {},
    "colab_type": "code",
    "id": "WHC33_Bm0PTv"
   },
   "outputs": [],
   "source": [
    "# # 기본적인 결측치 채우는 방법\n",
    "# mean_age = x_data['Age'].median(skipna=True)\n",
    "# x_data['Age'] = x_data['Age'].fillna(mean_age) # or .fillna(int/float/str 값)"
   ]
  },
  {
   "cell_type": "code",
   "execution_count": null,
   "metadata": {},
   "outputs": [],
   "source": []
  },
  {
   "cell_type": "code",
   "execution_count": 77,
   "metadata": {},
   "outputs": [
    {
     "name": "stdout",
     "output_type": "stream",
     "text": [
      "Fitting 5 folds for each of 50 candidates, totalling 250 fits\n",
      "The best parameter : {'C': 1, 'gamma': 0.1, 'kernel': 'rbf'}\n"
     ]
    }
   ],
   "source": [
    "param_grid = {'C' : [0.1, 1, 10, 100, 1000], \n",
    "             'gamma' : [1, 0.1, 0.01, 0.001, 0.0001],\n",
    "             'kernel' : ['rbf', 'poly']\n",
    "}\n",
    "\n",
    "grid = GridSearchCV(svm.SVC(), param_grid, refit=True, verbose=1)\n",
    "grid.fit(x_train_transformed, y_train)\n",
    "print(f'The best parameter : {grid.best_params_}')"
   ]
  },
  {
   "cell_type": "code",
   "execution_count": 78,
   "metadata": {},
   "outputs": [
    {
     "name": "stdout",
     "output_type": "stream",
     "text": [
      "              precision    recall  f1-score   support\n",
      "\n",
      "           0       0.83      0.88      0.85       165\n",
      "           1       0.78      0.71      0.74       102\n",
      "\n",
      "    accuracy                           0.81       267\n",
      "   macro avg       0.81      0.79      0.80       267\n",
      "weighted avg       0.81      0.81      0.81       267\n",
      "\n"
     ]
    }
   ],
   "source": [
    "grid_predict = grid.predict(x_test_transformed)\n",
    "print(classification_report(y_test, grid_predict))"
   ]
  },
  {
   "cell_type": "code",
   "execution_count": 85,
   "metadata": {},
   "outputs": [
    {
     "ename": "AttributeError",
     "evalue": "'numpy.ndarray' object has no attribute 'roc_curve'",
     "output_type": "error",
     "traceback": [
      "\u001b[1;31m---------------------------------------------------------------------------\u001b[0m",
      "\u001b[1;31mAttributeError\u001b[0m                            Traceback (most recent call last)",
      "Cell \u001b[1;32mIn[85], line 1\u001b[0m\n\u001b[1;32m----> 1\u001b[0m fpr, tpr, _ \u001b[38;5;241m=\u001b[39m roc_curve(y_true\u001b[38;5;241m=\u001b[39my_test, y_score\u001b[38;5;241m=\u001b[39m\u001b[43mgrid_predict\u001b[49m\u001b[38;5;241;43m.\u001b[39;49m\u001b[43mroc_curve\u001b[49m) \u001b[38;5;66;03m# real y & predicted y (based on \"Sepal width\")\u001b[39;00m\n\u001b[0;32m      2\u001b[0m roc_auc \u001b[38;5;241m=\u001b[39m auc(fpr, tpr) \u001b[38;5;66;03m# AUC 면적의 값 (수치)\u001b[39;00m\n\u001b[0;32m      3\u001b[0m plt\u001b[38;5;241m.\u001b[39mfigure(figsize\u001b[38;5;241m=\u001b[39m(\u001b[38;5;241m9\u001b[39m, \u001b[38;5;241m9\u001b[39m))\n",
      "\u001b[1;31mAttributeError\u001b[0m: 'numpy.ndarray' object has no attribute 'roc_curve'"
     ]
    }
   ],
   "source": [
    "fpr, tpr, _ = roc_curve(y_true=y_test, y_score=grid_predict.) # real y & predicted y (based on \"Sepal width\")\n",
    "roc_auc = auc(fpr, tpr) # AUC 면적의 값 (수치)\n",
    "plt.figure(figsize=(9, 9))\n",
    "plt.plot(fpr, tpr, color='darkorange', lw=2, label='ROC curve (area = %0.2f)' % roc_auc)\n",
    "plt.plot([0, 1], [0, 1], color='navy', lw=2, linestyle='--')\n",
    "plt.xlim([0.0, 1.0])\n",
    "plt.ylim([0.0, 1.05])\n",
    "plt.xlabel('False Positive Rate')\n",
    "plt.ylabel('True Positive Rate')\n",
    "plt.legend(loc=\"lower right\")\n",
    "plt.title(\"ROC curve\")\n",
    "plt.show()"
   ]
  },
  {
   "cell_type": "markdown",
   "metadata": {},
   "source": [
    "<br>\n",
    "\n",
    "## 2. Train - Test split (비율을 7:3 으로 유지해주시고, seed는 0을 적용해주세요)"
   ]
  },
  {
   "cell_type": "code",
   "execution_count": null,
   "metadata": {},
   "outputs": [],
   "source": []
  },
  {
   "cell_type": "code",
   "execution_count": null,
   "metadata": {},
   "outputs": [],
   "source": []
  },
  {
   "cell_type": "code",
   "execution_count": null,
   "metadata": {},
   "outputs": [],
   "source": []
  },
  {
   "cell_type": "markdown",
   "metadata": {},
   "source": [
    "<br>\n",
    "\n",
    "## 3. Create model instance variable (동시에 여러 모델을 다른 이름으로 만들 수 있습니다.)"
   ]
  },
  {
   "cell_type": "code",
   "execution_count": null,
   "metadata": {},
   "outputs": [],
   "source": []
  },
  {
   "cell_type": "code",
   "execution_count": null,
   "metadata": {},
   "outputs": [],
   "source": []
  },
  {
   "cell_type": "code",
   "execution_count": null,
   "metadata": {},
   "outputs": [],
   "source": []
  },
  {
   "cell_type": "markdown",
   "metadata": {},
   "source": [
    "<br>\n",
    "\n",
    "## 4. Train the model"
   ]
  },
  {
   "cell_type": "code",
   "execution_count": null,
   "metadata": {},
   "outputs": [],
   "source": []
  },
  {
   "cell_type": "code",
   "execution_count": null,
   "metadata": {},
   "outputs": [],
   "source": []
  },
  {
   "cell_type": "code",
   "execution_count": null,
   "metadata": {},
   "outputs": [],
   "source": []
  },
  {
   "cell_type": "markdown",
   "metadata": {},
   "source": [
    "<br>\n",
    "\n",
    "## 5. Predict on test data & Check the result with metrics (모델 간 비교가 가능합니다.)"
   ]
  },
  {
   "cell_type": "code",
   "execution_count": null,
   "metadata": {},
   "outputs": [],
   "source": []
  },
  {
   "cell_type": "code",
   "execution_count": null,
   "metadata": {},
   "outputs": [],
   "source": []
  },
  {
   "cell_type": "code",
   "execution_count": null,
   "metadata": {},
   "outputs": [],
   "source": []
  }
 ],
 "metadata": {
  "accelerator": "GPU",
  "colab": {
   "name": "Titanic with XGBoost.ipynb",
   "provenance": [],
   "version": "0.3.2"
  },
  "kernelspec": {
   "display_name": "Python 3",
   "language": "python",
   "name": "python3"
  },
  "language_info": {
   "codemirror_mode": {
    "name": "ipython",
    "version": 3
   },
   "file_extension": ".py",
   "mimetype": "text/x-python",
   "name": "python",
   "nbconvert_exporter": "python",
   "pygments_lexer": "ipython3",
   "version": "3.8.8"
  }
 },
 "nbformat": 4,
 "nbformat_minor": 1
}
