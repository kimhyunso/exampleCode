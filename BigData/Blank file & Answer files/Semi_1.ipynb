{
 "cells": [
  {
   "cell_type": "markdown",
   "id": "5f69e4b9",
   "metadata": {},
   "source": [
    "# 1. Preparing dataset"
   ]
  },
  {
   "cell_type": "markdown",
   "id": "9ea555bb",
   "metadata": {},
   "source": [
    "- 변수 정보\n",
    "    - Passengerld: 승객번호\n",
    "    - Survived: 생존여부 (0: 사망, 1: 생존) \n",
    "    - Pclass: 배의 클래스(1>2>3) \n",
    "    - Name: 승객이름\n",
    "    - Sex: 성별\n",
    "    - Age: 승객 나이 \n",
    "    - SibSp: 형제, 자매, 배우자의 수 \n",
    "    - Parch: 부모, 자녀 수 \n",
    "    - Ticket: 티켓번호 \n",
    "    - Fare: 요금 \n",
    "    - Cabin: 객실번호 \n",
    "    - Embarked: 출발지 (C: 셰르부르, S: 사우샘프턴, Q: 퀸즈타운)"
   ]
  },
  {
   "cell_type": "code",
   "execution_count": 1,
   "id": "8503eb56",
   "metadata": {},
   "outputs": [],
   "source": [
    "import warnings\n",
    "warnings.filterwarnings(\"ignore\")\n",
    "\n",
    "import pandas as pd\n",
    "import numpy as np\n",
    "import matplotlib.pyplot as plt\n",
    "import seaborn as sns\n",
    "from sklearn.preprocessing import LabelEncoder, OneHotEncoder, StandardScaler, MinMaxScaler\n",
    "from sklearn.compose import ColumnTransformer\n",
    "from sklearn.pipeline import Pipeline\n",
    "from sklearn.metrics import accuracy_score, f1_score, roc_auc_score, roc_curve, auc, mean_squared_error, classification_report\n",
    "from sklearn import  model_selection\n",
    "from sklearn import ensemble\n",
    "from sklearn import svm\n",
    "from sklearn.model_selection import GridSearchCV\n",
    "from skopt import BayesSearchCV\n",
    "from vecstack import stacking, StackingTransformer\n",
    "from xgboost import XGBClassifier\n",
    "from IPython.display import Image\n",
    "from sklearn.tree import DecisionTreeClassifier\n",
    "from skopt import BayesSearchCV\n",
    "from skopt.space import Categorical, Integer\n",
    "from sklearn.linear_model import LogisticRegression\n",
    "\n",
    "plt.rcParams['font.family'] = 'Nanum Gothic'"
   ]
  },
  {
   "cell_type": "code",
   "execution_count": null,
   "id": "a4972647",
   "metadata": {},
   "outputs": [],
   "source": [
    "Image('/data/workspace_files/titanic_img.png')"
   ]
  },
  {
   "cell_type": "code",
   "execution_count": null,
   "id": "517190ca",
   "metadata": {},
   "outputs": [],
   "source": [
    "# titanic dataframe 생성\n",
    "titan_df = pd.read_csv('/data/workspace_files/titanic.csv',)"
   ]
  },
  {
   "cell_type": "code",
   "execution_count": null,
   "id": "febef2a2",
   "metadata": {},
   "outputs": [],
   "source": [
    "# data 확인 \n",
    "titan_df.head(5)"
   ]
  },
  {
   "cell_type": "code",
   "execution_count": null,
   "id": "18f8ba0c",
   "metadata": {},
   "outputs": [],
   "source": [
    "# titan dataframe infomation\n",
    "titan_df.info()"
   ]
  },
  {
   "cell_type": "markdown",
   "id": "9f4d77be",
   "metadata": {},
   "source": [
    "- 변수 분류\n",
    "    - Categorical(범주형): Survived, Sex, and Embarked. Ordinal: Pclass.\n",
    "    - Continous(연속형): Age, Fare\n",
    "    - Discrete(이산형): SibSp, Parch\n",
    "> 7개의 변수는 integer or floats / 5개의 변수는 strings (object)."
   ]
  },
  {
   "cell_type": "code",
   "execution_count": null,
   "id": "6245eb5c",
   "metadata": {},
   "outputs": [],
   "source": [
    "# numerical 변수 기술통계\n",
    "titan_df.describe()"
   ]
  },
  {
   "cell_type": "markdown",
   "id": "0667af96",
   "metadata": {},
   "source": [
    "- train data의 표본 샘플은 타이나닉호에 탑승한 실제 승객 수(2,224명)의 40%인 891명이다. \n",
    "- 표본 샘플의 생존율은 약 38%이다. \n",
    "- 대부분의 승객(75% 이상)은 부모나 자녀와 함께 탑승하지 않았다. \n",
    "- 지불 요금은 상당히 다양하게 나타나며, 512달러 만큼 높은 요금을 지불하는 경우는 거의 없었다.(1% 미만) \n",
    "- 65-80세 범위에 속하는 노인은 거의 없다. (1% 미만)"
   ]
  },
  {
   "cell_type": "code",
   "execution_count": null,
   "id": "65311144",
   "metadata": {},
   "outputs": [],
   "source": [
    "# Categorical 변수 기술통계 \n",
    "titan_df.describe(include=['O'])"
   ]
  },
  {
   "cell_type": "markdown",
   "id": "c560dad3",
   "metadata": {},
   "source": [
    "- 이름은 중복값이 존재하지 않는 고유값이다. (freq = 1)\n",
    "- 승객 중 65%는 남성이었다. (577/891)\n",
    "- 객실번호에 중복값이 다수인 것으로 보아, 여러명의 승객이 객실을 공유한 것으로 파악된다. (Cabin)\n",
    "- 대부분의 승객이 사우샘프턴에서 탑승했다. (Embarked=S)\n",
    "- 티겟번호 또한 중복 비율이 높다.(23%) (210/891)"
   ]
  },
  {
   "cell_type": "code",
   "execution_count": null,
   "id": "c72761bf",
   "metadata": {},
   "outputs": [],
   "source": [
    "# 결측치 확인 \n",
    "titan_df.isna().sum()"
   ]
  },
  {
   "cell_type": "markdown",
   "id": "524b62e5",
   "metadata": {},
   "source": [
    "- Age: 177개의 결측치 존재 \n",
    "- Cabin: 687개의 결측치 존재 \n",
    "- Embarked: 2개의 결측치 존재 \n",
    "\n",
    "#### Cabin > Age > Embarked 순으로 결측치 존재"
   ]
  },
  {
   "cell_type": "code",
   "execution_count": null,
   "id": "354301f8",
   "metadata": {},
   "outputs": [],
   "source": [
    "Image('/data/workspace_files/titanic_structure.png')"
   ]
  },
  {
   "cell_type": "markdown",
   "id": "25e75c53",
   "metadata": {},
   "source": [
    "### PassengerId, Cabin, Name, Ticket 열 제거 \n",
    "1. Cabin: 위 사진에서 A-P 번호는 각 객실번호(Cabin)의 앞자리에 붙은 객실 구분 번호를 뜻함. 하지만 각 객실번호가 어떤 Pclass에 속하는 지 파악 불가하며 여러명의 승객이 같은 객실을 공유했다는 점에서 이것이 생존여부에 미친 영향을 확인하기 어렵다고 판단 \n",
    "  \n",
    "2. Name: Mr, Miss와 같은 호칭을 통해서 승객들의 성별, 연령대를 파악할 수 있으나 이러한 정보는 이미 Age, Sex 컬럼에서 제시하고 있으므로 삭제\n",
    "    \n",
    "3. Ticket: 중복된 값이 다수 존재함에 따라 Ticket 번호가 생존여부에 미친 영향을 파악하기 어려울 것이라 판단 후 삭제 \n",
    "  \n",
    "> 따라서 해당 컬럼들을 제외하고 Pclass, Sex, Age, SibSp, Parch, Fare, Embarked 변수와 우리가 예측하고자 하는 값인 Survived 변수 간에 어떠한 관계가 있는 지 시각화 후 모델링"
   ]
  },
  {
   "cell_type": "markdown",
   "id": "92e21de1",
   "metadata": {},
   "source": [
    "# 2. Feature engineering & Feature selection\n",
    "\n",
    "- #### 시각화를 통해 각 독립변수가 종속변수(생존여부) 간의 관계 파악 "
   ]
  },
  {
   "cell_type": "markdown",
   "id": "1462d507",
   "metadata": {},
   "source": [
    "#### 시도해볼 수 있는 전략들\n",
    "\n",
    "- 불필요한 열이나 예측에 방해가 되는 열은 아예 지우기 (ex. PassengerId)\n",
    "- 결측치 채우기 \n",
    "- Text로 되어있는 Category(Factor)는 숫자로 바꿔주기 (ex. Male/Female -> 0/1)\n",
    "- 실수 범위를 구간 범위로 바꿔주기 \n",
    "- 필요한 경우 기존 열을 바탕으로 새로운 열을 계산해 추가하기"
   ]
  },
  {
   "cell_type": "markdown",
   "id": "1586ebe9",
   "metadata": {},
   "source": [
    "ex. 보험사에서 다루는 고객데이터셋 중 나이열에 있는 결측치를 다루려 할 때\n",
    "- 랜덤 값으로 채우기\n",
    "- 대표 값으로 채우기 (mean평균, median중위값, mode최빈값)\n",
    "- 위아래 데이터의 평균값으로 채우기\n",
    "- 행들을 그룹으로 묶은 후 해당 그룹의 대표값으로 채우기\n",
    "- 머신러닝 예측모델을 만들어 해당 열의 결측치를 채우기\n",
    "- 특정 기준 이상의 결측치가 있을 시 해당 열 삭제"
   ]
  },
  {
   "cell_type": "code",
   "execution_count": null,
   "id": "065d2127",
   "metadata": {},
   "outputs": [],
   "source": [
    "# 데이터 탐색을 위한 원본 데이터 70:30 비율로 split\n",
    "train_df, test_df = model_selection.train_test_split(titan_df, test_size=0.3, random_state=0)"
   ]
  },
  {
   "cell_type": "markdown",
   "id": "89742e84",
   "metadata": {},
   "source": [
    "### Pclass"
   ]
  },
  {
   "cell_type": "code",
   "execution_count": null,
   "id": "950cab44",
   "metadata": {},
   "outputs": [],
   "source": [
    "# 배의 클래스(1>2>3)\n",
    "train_df.Pclass.value_counts()"
   ]
  },
  {
   "cell_type": "code",
   "execution_count": null,
   "id": "2441d23c",
   "metadata": {},
   "outputs": [],
   "source": [
    "sns.violinplot( x=train_df['Survived'], y=train_df['Pclass'])\n",
    "plt.show()"
   ]
  },
  {
   "cell_type": "code",
   "execution_count": null,
   "id": "efe2e383",
   "metadata": {},
   "outputs": [],
   "source": [
    "sns.barplot(x=train_df.Pclass, y=train_df.Survived)\n",
    "plt.show()"
   ]
  },
  {
   "cell_type": "code",
   "execution_count": null,
   "id": "4fbbd903",
   "metadata": {},
   "outputs": [],
   "source": [
    "sns.barplot(x='Pclass', y='Survived', hue='Sex', data=train_df)\n",
    "plt.show()"
   ]
  },
  {
   "cell_type": "markdown",
   "id": "c56ba074",
   "metadata": {},
   "source": [
    "### Age"
   ]
  },
  {
   "cell_type": "code",
   "execution_count": null,
   "id": "be607eef",
   "metadata": {},
   "outputs": [],
   "source": [
    "# 승객 연령 분포 (20-40대 사이가 가장 많음)\n",
    "train_df.plot(kind=\"hist\", y=\"Age\", bins=50)\n",
    "plt.show()"
   ]
  },
  {
   "cell_type": "code",
   "execution_count": null,
   "id": "4ec16cac",
   "metadata": {},
   "outputs": [],
   "source": [
    "# Age컬럼의 기술 통계\n",
    "train_df.Age.describe()"
   ]
  },
  {
   "cell_type": "code",
   "execution_count": null,
   "id": "38e45661",
   "metadata": {},
   "outputs": [],
   "source": [
    "# 생존여부 별 승객 연령 분포 확인\n",
    "\n",
    "age_histo = sns.FacetGrid(train_df, col='Survived')\n",
    "age_histo.map(plt.hist, 'Age', bins=20)\n",
    "plt.show()"
   ]
  },
  {
   "cell_type": "code",
   "execution_count": null,
   "id": "7a428fcf",
   "metadata": {},
   "outputs": [],
   "source": [
    "# Pclass 및 생존여부 별 연령대 분포 파악 \n",
    "age_histo = sns.FacetGrid(train_df, row='Pclass',col='Survived')\n",
    "age_histo.map(plt.hist, 'Age', bins=20)\n",
    "plt.show()"
   ]
  },
  {
   "cell_type": "markdown",
   "id": "c881994c",
   "metadata": {},
   "source": [
    "### Sex"
   ]
  },
  {
   "cell_type": "code",
   "execution_count": null,
   "id": "072470e6",
   "metadata": {},
   "outputs": [],
   "source": [
    "# 성별에 따른 생존률\n",
    "plt.figure(figsize=(8,6))\n",
    "sns.barplot(train_df.Sex, train_df.Survived)\n",
    "plt.show()"
   ]
  },
  {
   "cell_type": "code",
   "execution_count": null,
   "id": "9aaa92c4",
   "metadata": {},
   "outputs": [],
   "source": [
    "plt.figure(figsize=(8,6))\n",
    "plt.plot(aspect='auto')\n",
    "plt.pie(titan_df['Sex'].value_counts(sort=False), labels=train_df['Sex'].value_counts(sort=False).index, autopct='%1.1f%%')\n",
    "plt.title('Gender ratio')\n",
    "plt.show()"
   ]
  },
  {
   "cell_type": "markdown",
   "id": "31452a41",
   "metadata": {},
   "source": [
    "### Fare"
   ]
  },
  {
   "cell_type": "code",
   "execution_count": null,
   "id": "098a02d1",
   "metadata": {},
   "outputs": [],
   "source": [
    "# fare\n",
    "train_df.plot(kind=\"hist\", y=\"Fare\", bins=50)\n",
    "plt.show()"
   ]
  },
  {
   "cell_type": "markdown",
   "id": "d63394f9",
   "metadata": {},
   "source": [
    "### SibSp & Parch"
   ]
  },
  {
   "cell_type": "code",
   "execution_count": null,
   "id": "0b2a0d73",
   "metadata": {},
   "outputs": [],
   "source": [
    "sns.barplot(train_df.SibSp, train_df.Survived)\n",
    "plt.show()"
   ]
  },
  {
   "cell_type": "code",
   "execution_count": null,
   "id": "6a51a340",
   "metadata": {},
   "outputs": [],
   "source": [
    "sns.barplot(train_df.Parch, train_df.Survived)\n",
    "plt.show()"
   ]
  },
  {
   "cell_type": "code",
   "execution_count": null,
   "id": "f0dd3587",
   "metadata": {},
   "outputs": [],
   "source": [
    "# 형제, 자매, 배우자의 수 + 부모, 자녀의 수를 합쳐 파생컬럼 생성 \n",
    "titan_test = titan_df\n",
    "titan_test['family'] = titan_test.SibSp + titan_df.Parch"
   ]
  },
  {
   "cell_type": "code",
   "execution_count": null,
   "id": "3ad34d2f",
   "metadata": {},
   "outputs": [],
   "source": [
    "sns.barplot(titan_test.family, titan_test.Survived)\n",
    "plt.show()"
   ]
  },
  {
   "cell_type": "markdown",
   "id": "9367391c",
   "metadata": {},
   "source": [
    "### Embarked"
   ]
  },
  {
   "cell_type": "code",
   "execution_count": null,
   "id": "1cf99989",
   "metadata": {},
   "outputs": [],
   "source": [
    "# 어디서 탔는 지에 따라 생존률이 달라질까? \n",
    "embarked_df = pd.DataFrame(round(titan_df.groupby(['Embarked'])['Survived'].value_counts(normalize=True), 2))\n",
    "embarked_df"
   ]
  },
  {
   "cell_type": "code",
   "execution_count": null,
   "id": "3db50c3e",
   "metadata": {},
   "outputs": [],
   "source": [
    "# 승선지에 따라서 Pclass별로 여성 및 남성의 생존율이 다르게 나타날까? \n",
    "grid = sns.FacetGrid(train_df, row='Embarked', size=2.2, aspect=1.6)\n",
    "grid.map(sns.pointplot, 'Pclass', 'Survived', 'Sex')\n",
    "grid.add_legend()"
   ]
  },
  {
   "cell_type": "markdown",
   "id": "0960c44b",
   "metadata": {},
   "source": [
    "### 변수 간 상관관계 분석"
   ]
  },
  {
   "cell_type": "markdown",
   "id": "951698a7",
   "metadata": {},
   "source": [
    "1. 종속변수와 독립변수 간 상관관계 분석 \n",
    "- 범주형-범주형: Survived-Pclass, Embarked -> Phi Correlation (각 범주 변수를 0과 1로 바꾼 다음, 이 둘 간의 Pearson 상관계수로 계산)\n",
    "- 범주형-연속형: Survived-Age, SibSp, Parch -> Point biserial Correlation (이분변수를 0과 1로 코딩한 다음 Peason 상관계수를 계산)"
   ]
  },
  {
   "cell_type": "markdown",
   "id": "d27a620b",
   "metadata": {},
   "source": [
    "2. 독립변수 간 상관관계 분석\n",
    "- 범주형: Pclass, Embarked\n",
    "- 연속형: Age, SibSp, Parch \n",
    "-> 범주형, 연속형 변수 섞여있으므로 Point biserial Correlation "
   ]
  },
  {
   "cell_type": "markdown",
   "id": "2e63d44e",
   "metadata": {},
   "source": [
    "<br>\n",
    "\n",
    "# 2. Train - Test split (비율을 7:3 으로 유지해주시고, seed는 0을 적용해주세요)"
   ]
  },
  {
   "cell_type": "code",
   "execution_count": null,
   "id": "e61fb4b4",
   "metadata": {},
   "outputs": [],
   "source": [
    "# Age에 랜덤하게 백분위수 25%~75%까지의 값을 랜덤하게 대치하기 위한 함수\n",
    "def replace_age(age_quantile_25, age_quantile_75):\n",
    "    return np.random.randint(age_percentiles_25, age_percentiles_75)"
   ]
  },
  {
   "cell_type": "code",
   "execution_count": null,
   "id": "627c8bf1",
   "metadata": {},
   "outputs": [],
   "source": [
    "# Age의 백분위수 25%\n",
    "age_percentiles_25 = titan_df.Age.quantile(.25)\n",
    "# Age의 백분위수 75%\n",
    "age_percentiles_75 = titan_df.Age.quantile(.75)\n",
    "\n",
    "# Age에 랜덤하게 백분위수 25%~75%까지의 값을 랜덤하게 대치\n",
    "titan_df.Age = titan_df.Age.apply(lambda x : replace_age(age_percentiles_25, age_percentiles_75) if pd.isna(x) else x)"
   ]
  },
  {
   "cell_type": "code",
   "execution_count": null,
   "id": "0ca527a5",
   "metadata": {},
   "outputs": [],
   "source": [
    "# Embarked에 2개의 결측치 제거\n",
    "titan_df.dropna(subset=['Embarked'], inplace=True)"
   ]
  },
  {
   "cell_type": "code",
   "execution_count": null,
   "id": "128a9235",
   "metadata": {},
   "outputs": [],
   "source": [
    "# 필요없는 컬럼 제거\n",
    "titan_df.drop(columns=['Cabin', 'Ticket', 'Name', 'PassengerId'], inplace=True)\n",
    "\n",
    "# target(Survived) column만 나눠놓은 것\n",
    "target_df = titan_df['Survived']\n",
    "# Survived column을 지우고 실제로 train_split 할 데이터\n",
    "data_df = titan_df.drop(columns=['Survived'])\n"
   ]
  },
  {
   "cell_type": "code",
   "execution_count": null,
   "id": "d8a334e8",
   "metadata": {},
   "outputs": [],
   "source": [
    "titan_df.isna().sum()"
   ]
  },
  {
   "cell_type": "code",
   "execution_count": null,
   "id": "6b0eedbb",
   "metadata": {},
   "outputs": [],
   "source": [
    "# 7:3의 비율, seed는 0으로 데이터를 train과 test로 나누는 과정\n",
    "x_train, x_test, y_train, y_test = model_selection.train_test_split(data_df, target_df,\n",
    "                                                                    stratify=target_df,\n",
    "                                                                    test_size=0.3,\n",
    "                                                                    random_state=42)"
   ]
  },
  {
   "cell_type": "code",
   "execution_count": null,
   "id": "2f48775c",
   "metadata": {},
   "outputs": [],
   "source": [
    "# 연속형 데이터\n",
    "numeric_features = ['SibSp', 'Parch', 'Age', 'Fare']\n",
    "# 연속형 데이터 encoder\n",
    "numeric_transformer = StandardScaler()\n",
    "# 범주형 데이터\n",
    "categorical_features = ['Sex', 'Pclass', 'Embarked']\n",
    "# 범주형 데이터 encoder\n",
    "categorical_transformer = OneHotEncoder(categories='auto', handle_unknown='ignore') \n",
    "\n",
    "preprocessor = ColumnTransformer(\n",
    "    transformers=[\n",
    "        ('num', numeric_transformer, numeric_features),\n",
    "        ('cat', categorical_transformer, categorical_features)],\n",
    ")"
   ]
  },
  {
   "cell_type": "code",
   "execution_count": null,
   "id": "440ed3d1",
   "metadata": {},
   "outputs": [],
   "source": [
    "preprocessor_pipe = Pipeline(steps=[('preprocessor', preprocessor)])"
   ]
  },
  {
   "cell_type": "code",
   "execution_count": null,
   "id": "92240aa8",
   "metadata": {},
   "outputs": [],
   "source": [
    "# x_train데이터 학습시키는 과정\n",
    "preprocessor_pipe.fit(x_train)"
   ]
  },
  {
   "cell_type": "code",
   "execution_count": null,
   "id": "ba387e42",
   "metadata": {},
   "outputs": [],
   "source": [
    "# x_train의 학습을 토대로 One-HotEncoding(), StandardScaler() 적용\n",
    "x_train_transformed = preprocessor_pipe.transform(x_train)\n",
    "x_test_transformed = preprocessor_pipe.transform(x_test)"
   ]
  },
  {
   "cell_type": "code",
   "execution_count": null,
   "id": "9df6197c",
   "metadata": {},
   "outputs": [],
   "source": [
    "# 컬럼명 변경\n",
    "x_train_encoding_df = pd.DataFrame(x_train_transformed, columns=['SibSp', 'Parch', 'Age', 'Fare', 'Female', 'Male', 'Pclass_1', 'Pclass_2', 'Pclass_3', 'Embarked_C', 'Embarked_Q', 'Embarked_S'])\n",
    "x_test_encoding_df =  pd.DataFrame(x_test_transformed, columns=['SibSp', 'Parch', 'Age', 'Fare', 'Female', 'Male', 'Pclass_1', 'Pclass_2', 'Pclass_3', 'Embarked_C', 'Embarked_Q', 'Embarked_S'])\n"
   ]
  },
  {
   "cell_type": "markdown",
   "id": "a635b161",
   "metadata": {},
   "source": [
    "<br>\n",
    "\n",
    "# 3. Train the model\n"
   ]
  },
  {
   "cell_type": "markdown",
   "id": "1b18305d",
   "metadata": {},
   "source": [
    "## Logistic Regression"
   ]
  },
  {
   "cell_type": "markdown",
   "id": "4f2337da",
   "metadata": {},
   "source": [
    "## Support Vector Machine\n",
    "HPO(Hyper-parameter optimization) : GridSearch 사용\n"
   ]
  },
  {
   "cell_type": "markdown",
   "id": "8190eb7c",
   "metadata": {},
   "source": [
    "## Stacking에 들어간 모델들\n",
    "1. ExtraTrees\n",
    "2. RandomForest\n",
    "3. XGB\n",
    "4. DecisionTree\n",
    "5. LogisticReression\n",
    "6. SupportVectorMachine"
   ]
  },
  {
   "cell_type": "markdown",
   "id": "d8d0ec85",
   "metadata": {},
   "source": [
    "## XG Boost - Gradient Boosting"
   ]
  },
  {
   "cell_type": "markdown",
   "id": "e5272c94",
   "metadata": {},
   "source": [
    "### 1. Gradient Boosting regression\n",
    "\n",
    "#### 파생컬럼(Family 미포함)\n",
    "- accuracy: \n",
    "- \n",
    "#### 파생컬럼(Family 포함)\n"
   ]
  },
  {
   "cell_type": "markdown",
   "id": "8f6ded6c",
   "metadata": {},
   "source": [
    "### 2. Gradient Boosting classification"
   ]
  },
  {
   "cell_type": "markdown",
   "id": "b2ac470f",
   "metadata": {},
   "source": [
    "# 4. 향후 과제 "
   ]
  },
  {
   "cell_type": "code",
   "execution_count": null,
   "id": "87a34ee5",
   "metadata": {},
   "outputs": [],
   "source": []
  },
  {
   "cell_type": "code",
   "execution_count": null,
   "id": "e670a341",
   "metadata": {},
   "outputs": [],
   "source": []
  }
 ],
 "metadata": {
  "kernelspec": {
   "display_name": "Python 3",
   "language": "python",
   "name": "python3"
  },
  "language_info": {
   "codemirror_mode": {
    "name": "ipython",
    "version": 3
   },
   "file_extension": ".py",
   "mimetype": "text/x-python",
   "name": "python",
   "nbconvert_exporter": "python",
   "pygments_lexer": "ipython3",
   "version": "3.8.8"
  }
 },
 "nbformat": 4,
 "nbformat_minor": 5
}
