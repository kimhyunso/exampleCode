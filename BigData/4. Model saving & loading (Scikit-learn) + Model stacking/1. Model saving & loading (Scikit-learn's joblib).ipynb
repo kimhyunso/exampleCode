{
 "cells": [
  {
   "cell_type": "markdown",
   "metadata": {},
   "source": [
    "#### 1. Scikit-learn modeling (5-steps)"
   ]
  },
  {
   "cell_type": "code",
   "execution_count": 5,
   "metadata": {
    "scrolled": true
   },
   "outputs": [
    {
     "name": "stdout",
     "output_type": "stream",
     "text": [
      "0.9777777777777777\n"
     ]
    }
   ],
   "source": [
    "from sklearn import datasets, model_selection, metrics, svm\n",
    "\n",
    "iris = datasets.load_iris()\n",
    "train_x, test_x, train_y, test_y = model_selection.train_test_split(iris.data, iris.target, test_size=0.3, random_state=0)\n",
    "\n",
    "model = svm.SVC(C=1.0, gamma='auto')\n",
    "model.fit(train_x, train_y)\n",
    "\n",
    "predicted_y = model.predict(test_x)\n",
    "print(metrics.accuracy_score(predicted_y, test_y))"
   ]
  },
  {
   "cell_type": "markdown",
   "metadata": {},
   "source": [
    "#### 2. Saving the trained model "
   ]
  },
  {
   "cell_type": "code",
   "execution_count": 8,
   "metadata": {},
   "outputs": [
    {
     "data": {
      "text/plain": [
       "{'one': 1, 'two': 2}"
      ]
     },
     "execution_count": 8,
     "metadata": {},
     "output_type": "execute_result"
    }
   ],
   "source": [
    "import os, pickle \n",
    "\n",
    "raw_pos_tagged = {\n",
    "    'one' : 1,\n",
    "    'two' : 2,\n",
    "}\n",
    "\n",
    "# 파이썬 변수를 pickle 파일로 저장하는 방법 \n",
    "with open('raw_pos_tagged.pkl', 'wb') as f:\n",
    "    pickle.dump(raw_pos_tagged, f) \n",
    "\n",
    "# pickle 파일로부터 파이썬 변수를 불러오는 방법 \n",
    "with open('raw_pos_tagged.pkl','rb') as f:\n",
    "    data = pickle.load(f)\n",
    "    \n",
    "# -> \"ran out of input\" 문제 발생 시 아래 코드로 대신 실행\n",
    "data = [] \n",
    "if os.path.getsize('raw_pos_tagged.pkl') > 0:      \n",
    "    with open('raw_pos_tagged.pkl', \"rb\") as f:\n",
    "        unpickler = pickle.Unpickler(f)\n",
    "        data = unpickler.load()\n",
    "data"
   ]
  },
  {
   "cell_type": "code",
   "execution_count": 6,
   "metadata": {
    "scrolled": true
   },
   "outputs": [
    {
     "data": {
      "text/plain": [
       "['model_iris_svm_v1.pkl']"
      ]
     },
     "execution_count": 6,
     "metadata": {},
     "output_type": "execute_result"
    }
   ],
   "source": [
    "import joblib\n",
    "\n",
    "joblib.dump(model, 'model_iris_svm_v1.pkl', compress=True)"
   ]
  },
  {
   "cell_type": "markdown",
   "metadata": {},
   "source": [
    "#### 3. Loading the trained model "
   ]
  },
  {
   "cell_type": "code",
   "execution_count": 3,
   "metadata": {},
   "outputs": [
    {
     "name": "stdout",
     "output_type": "stream",
     "text": [
      "0.9777777777777777\n"
     ]
    }
   ],
   "source": [
    "import joblib\n",
    "\n",
    "model_loaded = joblib.load('model_iris_svm_v1.pkl')\n",
    "\n",
    "print(metrics.accuracy_score(model_loaded.predict(test_x), test_y))"
   ]
  },
  {
   "cell_type": "code",
   "execution_count": null,
   "metadata": {},
   "outputs": [],
   "source": []
  }
 ],
 "metadata": {
  "kernelspec": {
   "display_name": "Python 3",
   "language": "python",
   "name": "python3"
  },
  "language_info": {
   "codemirror_mode": {
    "name": "ipython",
    "version": 3
   },
   "file_extension": ".py",
   "mimetype": "text/x-python",
   "name": "python",
   "nbconvert_exporter": "python",
   "pygments_lexer": "ipython3",
   "version": "3.8.8"
  }
 },
 "nbformat": 4,
 "nbformat_minor": 2
}
