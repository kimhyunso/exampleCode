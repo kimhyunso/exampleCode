{
 "cells": [
  {
   "cell_type": "markdown",
   "id": "b1309282",
   "metadata": {},
   "source": [
    "## 넘파이:ML 주요 알고리즘 -선형대수와 통계에 기반\n",
    "* Numpy는  Numerical Python을 의미하며 파이썬에서 선형대수 기반의 프로그램을 쉽게 만들 수 있도록 지원하는 대표 패키지\n",
    "* 루프를 사용치 않고 대량 데이터의 배열 연산이 가능\n",
    "* C/C++과 같은 저수준 언어 기반의 호환 API제공"
   ]
  },
  {
   "cell_type": "code",
   "execution_count": 4,
   "id": "6b35ee7d",
   "metadata": {},
   "outputs": [],
   "source": [
    "# 라이브러리 호출\n",
    "import numpy as np"
   ]
  },
  {
   "cell_type": "code",
   "execution_count": 7,
   "id": "37159206",
   "metadata": {},
   "outputs": [
    {
     "name": "stdout",
     "output_type": "stream",
     "text": [
      "array_l1 type :  <class 'numpy.ndarray'>\n",
      "array_l1 shape :  (3,)\n"
     ]
    }
   ],
   "source": [
    "l1 = [1, 2, 3]\n",
    "# array 생성\n",
    "array_l1 = np.array(l1)\n",
    "\n",
    "# type과 shape을 확인한다.\n",
    "print('array_l1 type : ', type(array_l1))\n",
    "print('array_l1 shape : ', array_l1.shape) # property - shape, ndim"
   ]
  },
  {
   "cell_type": "code",
   "execution_count": 12,
   "id": "121789d0",
   "metadata": {},
   "outputs": [
    {
     "name": "stdout",
     "output_type": "stream",
     "text": [
      "array_l2 type :  <class 'numpy.ndarray'>\n",
      "array_l2 shape :  (2, 3)\n"
     ]
    }
   ],
   "source": [
    "# 차원 복습 - 2차원 생성\n",
    "l2 = [[11, 22, 33],\n",
    "     [44, 55, 66]] # 할당(Assignment), 선언(Declare)\n",
    "array_l2 = np.array(l2)\n",
    "\n",
    "print('array_l2 type : ', type(array_l2))\n",
    "print('array_l2 shape : ', array_l2.shape) # property - shape, ndim"
   ]
  },
  {
   "cell_type": "code",
   "execution_count": 14,
   "id": "e473e14e",
   "metadata": {},
   "outputs": [
    {
     "name": "stdout",
     "output_type": "stream",
     "text": [
      "array_l3 type :  <class 'numpy.ndarray'>\n",
      "array_l3 shape :  (1, 2, 3)\n"
     ]
    }
   ],
   "source": [
    "# 차원 복습 - 3차원 생성\n",
    "l3 = [[[11, 22, 33 ], [1, 2, 3]]]\n",
    "\n",
    "array_l3 = np.array(l3)\n",
    "\n",
    "print('array_l3 type : ', type(array_l3))\n",
    "print('array_l3 shape : ', array_l3.shape) # property - shape, ndim\n"
   ]
  },
  {
   "cell_type": "markdown",
   "id": "25e3abb4",
   "metadata": {},
   "source": [
    "# ndarray를 편리하게 생성"
   ]
  },
  {
   "cell_type": "markdown",
   "id": "e5fd8f23",
   "metadata": {},
   "source": [
    "## arange 활용"
   ]
  },
  {
   "cell_type": "code",
   "execution_count": 17,
   "id": "36f85da1",
   "metadata": {},
   "outputs": [
    {
     "data": {
      "text/plain": [
       "array([3, 4, 5, 6, 7, 8, 9])"
      ]
     },
     "execution_count": 17,
     "metadata": {},
     "output_type": "execute_result"
    }
   ],
   "source": [
    "sq_array = np.arange(10) # n-1까지 n개 생성\n",
    "sq_array\n",
    "# start 파라미터, stop 파라미터 활용\n",
    "sq_array2 = np.arange(3, 10)\n",
    "sq_array2"
   ]
  },
  {
   "cell_type": "code",
   "execution_count": 19,
   "id": "6239a7aa",
   "metadata": {},
   "outputs": [
    {
     "name": "stdout",
     "output_type": "stream",
     "text": [
      "int32 (10,)\n"
     ]
    },
    {
     "data": {
      "text/plain": [
       "array([0, 1, 2, 3, 4, 5, 6, 7, 8, 9])"
      ]
     },
     "execution_count": 19,
     "metadata": {},
     "output_type": "execute_result"
    }
   ],
   "source": [
    "print(sq_array.dtype, sq_array.shape)\n",
    "sq_array"
   ]
  },
  {
   "cell_type": "markdown",
   "id": "c8607bbc",
   "metadata": {},
   "source": [
    "## zeros 활용"
   ]
  },
  {
   "cell_type": "code",
   "execution_count": 22,
   "id": "d6dd1eb8",
   "metadata": {},
   "outputs": [
    {
     "name": "stdout",
     "output_type": "stream",
     "text": [
      "int32 (3, 2)\n"
     ]
    },
    {
     "data": {
      "text/plain": [
       "array([[0, 0],\n",
       "       [0, 0],\n",
       "       [0, 0]])"
      ]
     },
     "execution_count": 22,
     "metadata": {},
     "output_type": "execute_result"
    }
   ],
   "source": [
    "zero_array = np.zeros((3, 2), dtype='int32')\n",
    "print(zero_array.dtype, zero_array.shape)\n",
    "zero_array"
   ]
  },
  {
   "cell_type": "markdown",
   "id": "41cfdbf7",
   "metadata": {},
   "source": [
    "## ones 활용"
   ]
  },
  {
   "cell_type": "code",
   "execution_count": 24,
   "id": "8b93f624",
   "metadata": {},
   "outputs": [
    {
     "name": "stdout",
     "output_type": "stream",
     "text": [
      "int32 (1, 3, 2)\n"
     ]
    },
    {
     "data": {
      "text/plain": [
       "array([[[1, 1],\n",
       "        [1, 1],\n",
       "        [1, 1]]])"
      ]
     },
     "execution_count": 24,
     "metadata": {},
     "output_type": "execute_result"
    }
   ],
   "source": [
    "ones_array = np.ones((1, 3, 2), dtype='int32')\n",
    "print(ones_array.dtype, ones_array.shape)\n",
    "ones_array"
   ]
  },
  {
   "cell_type": "markdown",
   "id": "9aa33dbc",
   "metadata": {},
   "source": [
    "# reshape을 활용한 차원호환"
   ]
  },
  {
   "cell_type": "code",
   "execution_count": 38,
   "id": "2c46f2b3",
   "metadata": {},
   "outputs": [],
   "source": [
    "# 1차원\n",
    "sqr_array = np.arange(1, 11)\n",
    "# 2차원\n",
    "sqr_array.reshape(2, 5)\n",
    "sqr_array.reshape(-1, 1)\n",
    "sqr_array.reshape(5, -1)\n",
    "# 3차원\n",
    "sqr_array3 = np.arange(1, 9)\n",
    "sqr_array3\n",
    "sqr_array3d = sqr_array3.reshape(2,2,2)"
   ]
  },
  {
   "cell_type": "code",
   "execution_count": 42,
   "id": "209935e3",
   "metadata": {},
   "outputs": [],
   "source": [
    "# sqr_array3d -> sql_array1d\n",
    "sqr_array1d = sqr_array3d.reshape(-1)\n",
    "# sqr_array3d -> sql_array2d\n",
    "sqr_array2d = sqr_array3d.reshape(2, 4)"
   ]
  },
  {
   "cell_type": "code",
   "execution_count": null,
   "id": "27595df4",
   "metadata": {},
   "outputs": [],
   "source": [
    "# end of file"
   ]
  }
 ],
 "metadata": {
  "kernelspec": {
   "display_name": "Python 3 (ipykernel)",
   "language": "python",
   "name": "python3"
  },
  "language_info": {
   "codemirror_mode": {
    "name": "ipython",
    "version": 3
   },
   "file_extension": ".py",
   "mimetype": "text/x-python",
   "name": "python",
   "nbconvert_exporter": "python",
   "pygments_lexer": "ipython3",
   "version": "3.9.13"
  }
 },
 "nbformat": 4,
 "nbformat_minor": 5
}
