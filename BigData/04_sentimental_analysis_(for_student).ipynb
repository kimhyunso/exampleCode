{
 "cells": [
  {
   "cell_type": "markdown",
   "metadata": {
    "id": "B9Zrj8DMusOn"
   },
   "source": [
    "## 1) Library & Data Import"
   ]
  },
  {
   "cell_type": "code",
   "execution_count": 1,
   "metadata": {
    "id": "yzvddH4TuuwD"
   },
   "outputs": [],
   "source": [
    "%matplotlib inline\n",
    "\n",
    "import pandas as pd\n",
    "import numpy as np\n",
    "import matplotlib.pyplot as plt\n",
    "import seaborn as sns\n",
    "\n",
    "import warnings\n",
    "warnings.filterwarnings(\"ignore\")"
   ]
  },
  {
   "cell_type": "code",
   "execution_count": 2,
   "metadata": {
    "id": "Q_0x25QSuxrp"
   },
   "outputs": [],
   "source": [
    "df = pd.read_csv(\"https://raw.githubusercontent.com/yoonkt200/FastCampusDataset/master/tripadviser_review.csv\")"
   ]
  },
  {
   "cell_type": "code",
   "execution_count": 3,
   "metadata": {
    "colab": {
     "base_uri": "https://localhost:8080/",
     "height": 204
    },
    "id": "90IQykX7vZ3t",
    "outputId": "ca92b9bf-3abb-4e2e-821c-bb8a5c28b00b"
   },
   "outputs": [
    {
     "data": {
      "text/html": [
       "<div>\n",
       "<style scoped>\n",
       "    .dataframe tbody tr th:only-of-type {\n",
       "        vertical-align: middle;\n",
       "    }\n",
       "\n",
       "    .dataframe tbody tr th {\n",
       "        vertical-align: top;\n",
       "    }\n",
       "\n",
       "    .dataframe thead th {\n",
       "        text-align: right;\n",
       "    }\n",
       "</style>\n",
       "<table border=\"1\" class=\"dataframe\">\n",
       "  <thead>\n",
       "    <tr style=\"text-align: right;\">\n",
       "      <th></th>\n",
       "      <th>rating</th>\n",
       "      <th>text</th>\n",
       "    </tr>\n",
       "  </thead>\n",
       "  <tbody>\n",
       "    <tr>\n",
       "      <th>0</th>\n",
       "      <td>4</td>\n",
       "      <td>여행에 집중할수 있게 편안한 휴식을 제공하는 호텔이었습니다. 위치선정 또한 적당한 ...</td>\n",
       "    </tr>\n",
       "    <tr>\n",
       "      <th>1</th>\n",
       "      <td>4</td>\n",
       "      <td>2일 이상 연박시 침대, 이불, 베게등 침구류 교체 및 어메니티 보강이 필요해 보입...</td>\n",
       "    </tr>\n",
       "    <tr>\n",
       "      <th>2</th>\n",
       "      <td>4</td>\n",
       "      <td>지인에소개로온 호텔  깨끗하고 좋은거같아요 처음에는 없는게 많아 많이  당황했는데 ...</td>\n",
       "    </tr>\n",
       "    <tr>\n",
       "      <th>3</th>\n",
       "      <td>5</td>\n",
       "      <td>방에 딱 들어서자마자 눈이 휘둥그레질정도로 이렇게 넓은 호텔 처음 와본 것 같아요!...</td>\n",
       "    </tr>\n",
       "    <tr>\n",
       "      <th>4</th>\n",
       "      <td>5</td>\n",
       "      <td>저녁에 맥주한잔 하는게 좋아서 렌트 안하고 뚜벅이 하기로 했는데 호텔 바로 앞에 버...</td>\n",
       "    </tr>\n",
       "  </tbody>\n",
       "</table>\n",
       "</div>"
      ],
      "text/plain": [
       "   rating                                               text\n",
       "0       4  여행에 집중할수 있게 편안한 휴식을 제공하는 호텔이었습니다. 위치선정 또한 적당한 ...\n",
       "1       4  2일 이상 연박시 침대, 이불, 베게등 침구류 교체 및 어메니티 보강이 필요해 보입...\n",
       "2       4  지인에소개로온 호텔  깨끗하고 좋은거같아요 처음에는 없는게 많아 많이  당황했는데 ...\n",
       "3       5  방에 딱 들어서자마자 눈이 휘둥그레질정도로 이렇게 넓은 호텔 처음 와본 것 같아요!...\n",
       "4       5  저녁에 맥주한잔 하는게 좋아서 렌트 안하고 뚜벅이 하기로 했는데 호텔 바로 앞에 버..."
      ]
     },
     "execution_count": 3,
     "metadata": {},
     "output_type": "execute_result"
    }
   ],
   "source": [
    "df.head()"
   ]
  },
  {
   "cell_type": "markdown",
   "metadata": {
    "id": "F8mjnHsgvioB"
   },
   "source": [
    "#### Feature Description\n",
    "- rating : 이용자 리뷰의 평가 점수\n",
    "- text : 이용자 리뷰 평가 내용"
   ]
  },
  {
   "cell_type": "markdown",
   "metadata": {
    "id": "i3P4CXUNvqtO"
   },
   "source": [
    "-----"
   ]
  },
  {
   "cell_type": "markdown",
   "metadata": {
    "id": "EmWaX52Rvuol"
   },
   "source": [
    "## 2) 데이터셋 살펴보기"
   ]
  },
  {
   "cell_type": "markdown",
   "metadata": {
    "id": "Fjj86LoLv3Wl"
   },
   "source": [
    "### 2-1) 기본 정보 탐색"
   ]
  },
  {
   "cell_type": "markdown",
   "metadata": {
    "id": "BZdMSr7Hyv3C"
   },
   "source": [
    "##### 데이터셋 기본 정보 탐색"
   ]
  },
  {
   "cell_type": "code",
   "execution_count": 4,
   "metadata": {
    "colab": {
     "base_uri": "https://localhost:8080/"
    },
    "executionInfo": {
     "elapsed": 11,
     "status": "ok",
     "timestamp": 1631012559673,
     "user": {
      "displayName": "버물리",
      "photoUrl": "https://lh3.googleusercontent.com/a-/AOh14GjgbxaibZdpXcYXkRpN6pP-emIEzMQGGxk60Z1z=s64",
      "userId": "16343119817703036426"
     },
     "user_tz": -540
    },
    "id": "yTRz57Qpvgl4",
    "outputId": "9e68f0b2-9205-471d-fabb-fc45848a826d"
   },
   "outputs": [
    {
     "data": {
      "text/plain": [
       "(1001, 2)"
      ]
     },
     "execution_count": 4,
     "metadata": {},
     "output_type": "execute_result"
    }
   ],
   "source": [
    "df.shape"
   ]
  },
  {
   "cell_type": "code",
   "execution_count": 5,
   "metadata": {
    "colab": {
     "base_uri": "https://localhost:8080/"
    },
    "executionInfo": {
     "elapsed": 1057,
     "status": "ok",
     "timestamp": 1631012569748,
     "user": {
      "displayName": "버물리",
      "photoUrl": "https://lh3.googleusercontent.com/a-/AOh14GjgbxaibZdpXcYXkRpN6pP-emIEzMQGGxk60Z1z=s64",
      "userId": "16343119817703036426"
     },
     "user_tz": -540
    },
    "id": "lJq9dP3qvlMg",
    "outputId": "a5f3752c-aa07-4271-a132-9591ff344fb0"
   },
   "outputs": [
    {
     "name": "stdout",
     "output_type": "stream",
     "text": [
      "<class 'pandas.core.frame.DataFrame'>\n",
      "RangeIndex: 1001 entries, 0 to 1000\n",
      "Data columns (total 2 columns):\n",
      " #   Column  Non-Null Count  Dtype \n",
      "---  ------  --------------  ----- \n",
      " 0   rating  1001 non-null   int64 \n",
      " 1   text    1001 non-null   object\n",
      "dtypes: int64(1), object(1)\n",
      "memory usage: 15.8+ KB\n"
     ]
    }
   ],
   "source": [
    "df.info()"
   ]
  },
  {
   "cell_type": "code",
   "execution_count": 6,
   "metadata": {
    "colab": {
     "base_uri": "https://localhost:8080/"
    },
    "executionInfo": {
     "elapsed": 313,
     "status": "ok",
     "timestamp": 1631012576325,
     "user": {
      "displayName": "버물리",
      "photoUrl": "https://lh3.googleusercontent.com/a-/AOh14GjgbxaibZdpXcYXkRpN6pP-emIEzMQGGxk60Z1z=s64",
      "userId": "16343119817703036426"
     },
     "user_tz": -540
    },
    "id": "K7SiIjlDwFGG",
    "outputId": "b5829252-e63a-4db6-d4fb-b56e73dbe33a"
   },
   "outputs": [
    {
     "data": {
      "text/plain": [
       "rating    0\n",
       "text      0\n",
       "dtype: int64"
      ]
     },
     "execution_count": 6,
     "metadata": {},
     "output_type": "execute_result"
    }
   ],
   "source": [
    "df.isnull().sum()"
   ]
  },
  {
   "cell_type": "code",
   "execution_count": 7,
   "metadata": {
    "colab": {
     "base_uri": "https://localhost:8080/",
     "height": 35
    },
    "executionInfo": {
     "elapsed": 292,
     "status": "ok",
     "timestamp": 1631012632719,
     "user": {
      "displayName": "버물리",
      "photoUrl": "https://lh3.googleusercontent.com/a-/AOh14GjgbxaibZdpXcYXkRpN6pP-emIEzMQGGxk60Z1z=s64",
      "userId": "16343119817703036426"
     },
     "user_tz": -540
    },
    "id": "c51l1Bld6c15",
    "outputId": "74bf2d37-d17d-40a4-9f6f-03dfcbbb3e45"
   },
   "outputs": [
    {
     "data": {
      "text/plain": [
       "'여행에 집중할수 있게 편안한 휴식을 제공하는 호텔이었습니다. 위치선정 또한 적당한 편이었고 청소나 청결상태도 좋았습니다.'"
      ]
     },
     "execution_count": 7,
     "metadata": {},
     "output_type": "execute_result"
    }
   ],
   "source": [
    "df['text'][0]"
   ]
  },
  {
   "cell_type": "code",
   "execution_count": 8,
   "metadata": {
    "colab": {
     "base_uri": "https://localhost:8080/",
     "height": 53
    },
    "executionInfo": {
     "elapsed": 311,
     "status": "ok",
     "timestamp": 1631012697969,
     "user": {
      "displayName": "버물리",
      "photoUrl": "https://lh3.googleusercontent.com/a-/AOh14GjgbxaibZdpXcYXkRpN6pP-emIEzMQGGxk60Z1z=s64",
      "userId": "16343119817703036426"
     },
     "user_tz": -540
    },
    "id": "Q4-faysr7qC-",
    "outputId": "95934912-c61f-4b71-c8e2-1f7018cfef85"
   },
   "outputs": [
    {
     "data": {
      "text/plain": [
       "'올 봄에 벚꽃기간에 방문, 협재를 바라보는 바다뷰가 좋고 대로변이라 렌트해서 가기도 좋음. 조식은 이용안했는데 근처 옹포밥집까지 아침 산책겸 걸어가서 하고옴. 루프탑 수영장과 바가 있었는데 내가 갔을때는 밤에 비바람이 너무 불어서 이용못하고옴 ㅠㅠ  단점으로는 모 유명 여행블로거 리뷰처럼 화장실 물떄가... 그거빼곤 다 만족'"
      ]
     },
     "execution_count": 8,
     "metadata": {},
     "output_type": "execute_result"
    }
   ],
   "source": [
    "df['text'][100]"
   ]
  },
  {
   "cell_type": "code",
   "execution_count": 9,
   "metadata": {
    "colab": {
     "base_uri": "https://localhost:8080/"
    },
    "executionInfo": {
     "elapsed": 318,
     "status": "ok",
     "timestamp": 1631012684480,
     "user": {
      "displayName": "버물리",
      "photoUrl": "https://lh3.googleusercontent.com/a-/AOh14GjgbxaibZdpXcYXkRpN6pP-emIEzMQGGxk60Z1z=s64",
      "userId": "16343119817703036426"
     },
     "user_tz": -540
    },
    "id": "JjX8EUde6f-g",
    "outputId": "15a915e1-324c-4fb8-8c70-1255f656988d"
   },
   "outputs": [
    {
     "data": {
      "text/plain": [
       "223576"
      ]
     },
     "execution_count": 9,
     "metadata": {},
     "output_type": "execute_result"
    }
   ],
   "source": [
    "len(df['text'].values.sum())"
   ]
  },
  {
   "cell_type": "markdown",
   "metadata": {
    "id": "7Ob0pe0oxI6Y"
   },
   "source": [
    "-----"
   ]
  },
  {
   "cell_type": "markdown",
   "metadata": {
    "id": "vtLhtuYwxI86"
   },
   "source": [
    "## 3) 한국어 텍스트 데이터 전처리"
   ]
  },
  {
   "cell_type": "markdown",
   "metadata": {
    "id": "ZAFsj3ppxI_J"
   },
   "source": [
    "### 3-0) konlpy 설치"
   ]
  },
  {
   "cell_type": "code",
   "execution_count": 10,
   "metadata": {
    "colab": {
     "base_uri": "https://localhost:8080/"
    },
    "executionInfo": {
     "elapsed": 46426,
     "status": "ok",
     "timestamp": 1631012773329,
     "user": {
      "displayName": "버물리",
      "photoUrl": "https://lh3.googleusercontent.com/a-/AOh14GjgbxaibZdpXcYXkRpN6pP-emIEzMQGGxk60Z1z=s64",
      "userId": "16343119817703036426"
     },
     "user_tz": -540
    },
    "id": "__acxhPiw8X2",
    "outputId": "daff5d06-496b-4bed-8c19-4be593b01e89"
   },
   "outputs": [],
   "source": [
    "# konlpy 0.5.2의 JVM 버그로 인해, 0.5.1 버전으로 install\n",
    "# !pip install konlpy==0.6.0 jpype1 Jpype1-py3\n"
   ]
  },
  {
   "cell_type": "markdown",
   "metadata": {
    "id": "yzf3UKBOAgQn"
   },
   "source": [
    "### 3-1) 정규표현식 적용"
   ]
  },
  {
   "cell_type": "code",
   "execution_count": 11,
   "metadata": {
    "id": "hE60OR0mxP0S"
   },
   "outputs": [],
   "source": [
    "import re\n",
    "\n",
    "def apply_regular_expression(text):\n",
    "  hangul = re.compile('[^ ㄱ-ㅣ가-힣]')\n",
    "  result = hangul.sub('', text)\n",
    "  return result"
   ]
  },
  {
   "cell_type": "code",
   "execution_count": 12,
   "metadata": {
    "colab": {
     "base_uri": "https://localhost:8080/",
     "height": 35
    },
    "executionInfo": {
     "elapsed": 323,
     "status": "ok",
     "timestamp": 1631018473871,
     "user": {
      "displayName": "버물리",
      "photoUrl": "https://lh3.googleusercontent.com/a-/AOh14GjgbxaibZdpXcYXkRpN6pP-emIEzMQGGxk60Z1z=s64",
      "userId": "16343119817703036426"
     },
     "user_tz": -540
    },
    "id": "zBgiHxOW3KhY",
    "outputId": "c802560e-636b-420a-dbc2-e9fb013326e3"
   },
   "outputs": [
    {
     "data": {
      "text/plain": [
       "'여행에 집중할수 있게 편안한 휴식을 제공하는 호텔이었습니다 위치선정 또한 적당한 편이었고 청소나 청결상태도 좋았습니다'"
      ]
     },
     "execution_count": 12,
     "metadata": {},
     "output_type": "execute_result"
    }
   ],
   "source": [
    "apply_regular_expression(df['text'][0])"
   ]
  },
  {
   "cell_type": "code",
   "execution_count": 13,
   "metadata": {
    "colab": {
     "base_uri": "https://localhost:8080/",
     "height": 35
    },
    "executionInfo": {
     "elapsed": 3,
     "status": "ok",
     "timestamp": 1631018474259,
     "user": {
      "displayName": "버물리",
      "photoUrl": "https://lh3.googleusercontent.com/a-/AOh14GjgbxaibZdpXcYXkRpN6pP-emIEzMQGGxk60Z1z=s64",
      "userId": "16343119817703036426"
     },
     "user_tz": -540
    },
    "id": "0PDt-ePu9Pd9",
    "outputId": "359b1c34-63b9-4b3b-bcc0-6c2fd8df6ac6"
   },
   "outputs": [
    {
     "data": {
      "text/plain": [
       "'여행에 집중할수 있게 편안한 휴식을 제공하는 호텔이었습니다. 위치선정 또한 적당한 편이었고 청소나 청결상태도 좋았습니다.'"
      ]
     },
     "execution_count": 13,
     "metadata": {},
     "output_type": "execute_result"
    }
   ],
   "source": [
    "df['text'][0]"
   ]
  },
  {
   "cell_type": "markdown",
   "metadata": {
    "id": "pghj3X8ZBaD5"
   },
   "source": [
    "-----"
   ]
  },
  {
   "cell_type": "markdown",
   "metadata": {
    "id": "4eAD9Zhs3ZjB"
   },
   "source": [
    "### 3-2) 한국어 형태소분석 - 명사 단위"
   ]
  },
  {
   "cell_type": "markdown",
   "metadata": {
    "id": "huXcIK1D7eGI"
   },
   "source": [
    "##### 명사 형태소 추출"
   ]
  },
  {
   "cell_type": "code",
   "execution_count": 14,
   "metadata": {
    "colab": {
     "base_uri": "https://localhost:8080/"
    },
    "executionInfo": {
     "elapsed": 266,
     "status": "ok",
     "timestamp": 1631018475448,
     "user": {
      "displayName": "버물리",
      "photoUrl": "https://lh3.googleusercontent.com/a-/AOh14GjgbxaibZdpXcYXkRpN6pP-emIEzMQGGxk60Z1z=s64",
      "userId": "16343119817703036426"
     },
     "user_tz": -540
    },
    "id": "ePWpmhzL7f0A",
    "outputId": "257c7090-f798-46ed-8ab3-b5d9c1b8e811",
    "scrolled": true
   },
   "outputs": [
    {
     "data": {
      "text/plain": [
       "['여행', '집중', '휴식', '제공', '호텔', '위치', '선정', '또한', '청소', '청결', '상태']"
      ]
     },
     "execution_count": 14,
     "metadata": {},
     "output_type": "execute_result"
    }
   ],
   "source": [
    "from konlpy.tag import Okt\n",
    "from collections import Counter\n",
    "\n",
    "\n",
    "# noun = 명사\n",
    "# tolist()는 배열(array)로 선언된 변수를 list형식으로 바꿔주는 함수.\n",
    "## 반대로 list를 array로 만드려면 np.array()를 사용.\n",
    "nouns_tagger = Okt()\n",
    "nouns = nouns_tagger.nouns(apply_regular_expression(df['text'][0]))\n",
    "nouns"
   ]
  },
  {
   "cell_type": "code",
   "execution_count": 15,
   "metadata": {
    "id": "XMdNZNRZAvmh"
   },
   "outputs": [],
   "source": [
    "nouns = nouns_tagger.nouns(apply_regular_expression(\"\".join(df['text'].tolist())))"
   ]
  },
  {
   "cell_type": "code",
   "execution_count": 16,
   "metadata": {
    "colab": {
     "base_uri": "https://localhost:8080/"
    },
    "executionInfo": {
     "elapsed": 8,
     "status": "ok",
     "timestamp": 1631018487679,
     "user": {
      "displayName": "버물리",
      "photoUrl": "https://lh3.googleusercontent.com/a-/AOh14GjgbxaibZdpXcYXkRpN6pP-emIEzMQGGxk60Z1z=s64",
      "userId": "16343119817703036426"
     },
     "user_tz": -540
    },
    "id": "w4KTE9U5AvrJ",
    "outputId": "f4cad533-eab6-43cb-b215-0f5098f820c7"
   },
   "outputs": [
    {
     "data": {
      "text/plain": [
       "[('호텔', 803),\n",
       " ('수', 498),\n",
       " ('것', 436),\n",
       " ('방', 330),\n",
       " ('위치', 328),\n",
       " ('우리', 327),\n",
       " ('곳', 320),\n",
       " ('공항', 307),\n",
       " ('직원', 267),\n",
       " ('매우', 264)]"
      ]
     },
     "execution_count": 16,
     "metadata": {},
     "output_type": "execute_result"
    }
   ],
   "source": [
    "counter = Counter(nouns)\n",
    "counter.most_common(10)"
   ]
  },
  {
   "cell_type": "code",
   "execution_count": null,
   "metadata": {
    "id": "Y5yywiItAvuK"
   },
   "outputs": [],
   "source": []
  },
  {
   "cell_type": "markdown",
   "metadata": {
    "id": "wpr7mEG5A2At"
   },
   "source": [
    "##### 한글자 명사 제거"
   ]
  },
  {
   "cell_type": "code",
   "execution_count": 17,
   "metadata": {
    "colab": {
     "base_uri": "https://localhost:8080/"
    },
    "executionInfo": {
     "elapsed": 5,
     "status": "ok",
     "timestamp": 1631018487680,
     "user": {
      "displayName": "버물리",
      "photoUrl": "https://lh3.googleusercontent.com/a-/AOh14GjgbxaibZdpXcYXkRpN6pP-emIEzMQGGxk60Z1z=s64",
      "userId": "16343119817703036426"
     },
     "user_tz": -540
    },
    "id": "fDZfri14Avw1",
    "outputId": "c514ebe0-675a-4399-ed78-295489a970d0"
   },
   "outputs": [
    {
     "data": {
      "text/plain": [
       "[('호텔', 803),\n",
       " ('위치', 328),\n",
       " ('우리', 327),\n",
       " ('공항', 307),\n",
       " ('직원', 267),\n",
       " ('매우', 264),\n",
       " ('가격', 245),\n",
       " ('객실', 244),\n",
       " ('시설', 215),\n",
       " ('제주', 192)]"
      ]
     },
     "execution_count": 17,
     "metadata": {},
     "output_type": "execute_result"
    }
   ],
   "source": [
    "available_counter = Counter({x : counter[x] for x in counter if len(x) > 1})\n",
    "available_counter.most_common(10)"
   ]
  },
  {
   "cell_type": "markdown",
   "metadata": {
    "id": "QI0yqJ7PxS1q"
   },
   "source": [
    "-----"
   ]
  },
  {
   "cell_type": "markdown",
   "metadata": {
    "id": "Jbr6rURvBPJ6"
   },
   "source": [
    "### 3-3) 불용어 사전"
   ]
  },
  {
   "cell_type": "code",
   "execution_count": 18,
   "metadata": {
    "id": "7ZCmuyS8BUU9"
   },
   "outputs": [],
   "source": [
    "stopwords = pd.read_csv(\"https://raw.githubusercontent.com/yoonkt200/FastCampusDataset/master/korean_stopwords.txt\").values.tolist()"
   ]
  },
  {
   "cell_type": "code",
   "execution_count": 19,
   "metadata": {
    "colab": {
     "base_uri": "https://localhost:8080/"
    },
    "executionInfo": {
     "elapsed": 3,
     "status": "ok",
     "timestamp": 1631013706497,
     "user": {
      "displayName": "버물리",
      "photoUrl": "https://lh3.googleusercontent.com/a-/AOh14GjgbxaibZdpXcYXkRpN6pP-emIEzMQGGxk60Z1z=s64",
      "userId": "16343119817703036426"
     },
     "user_tz": -540
    },
    "id": "IJTLaAlwBUYE",
    "outputId": "db7500fe-f3da-4bcb-d13f-780209877ba2"
   },
   "outputs": [
    {
     "data": {
      "text/plain": [
       "[['휴'],\n",
       " ['아이구'],\n",
       " ['아이쿠'],\n",
       " ['아이고'],\n",
       " ['어'],\n",
       " ['나'],\n",
       " ['우리'],\n",
       " ['저희'],\n",
       " ['따라'],\n",
       " ['의해']]"
      ]
     },
     "execution_count": 19,
     "metadata": {},
     "output_type": "execute_result"
    }
   ],
   "source": [
    "stopwords[:10]"
   ]
  },
  {
   "cell_type": "code",
   "execution_count": 20,
   "metadata": {
    "id": "i4JC-i7bR2QW"
   },
   "outputs": [],
   "source": [
    "jeju_list = ['제주', '제주도', '호텔', '리뷰', '숙소', '여행', '트립']\n",
    "\n",
    "for word in jeju_list:\n",
    "  stopwords.append(word)"
   ]
  },
  {
   "cell_type": "markdown",
   "metadata": {
    "id": "qb9hCD7GBWOJ"
   },
   "source": [
    "-----"
   ]
  },
  {
   "cell_type": "markdown",
   "metadata": {
    "id": "6-XoxM4KBWRB"
   },
   "source": [
    "### 3-4) Word Count"
   ]
  },
  {
   "cell_type": "markdown",
   "metadata": {
    "id": "0hNlz_-kCq3v"
   },
   "source": [
    "##### BoW 벡터 생성"
   ]
  },
  {
   "cell_type": "markdown",
   "metadata": {
    "id": "bI5XQKOBUBJG"
   },
   "source": [
    "\n",
    "###### Bow의 의미\n",
    "\n",
    "\n",
    "Bag of Words란 단어들의 순서는 전혀 고려하지 않고, 단어들의 출현 빈도(frequency)에만 집중하는 텍스트 데이터의 수치화 표현 방법이다.Bag of Words를 직역하면 단어들의 가방이라는 의미이다. 단어들이 들어있는 가방을 상상해보자. 갖고있는 어떤 텍스트 문서에 있는 단어들을 가방에다가 전부 넣는다. 그러고나서 이 가방을 흔들어 단어들을 섞는다. 만약, 해당 문서 내에서 특정 단어가 N번 등장했다면, 이 가방에는 그 특정 단어가 N개 있게 된다. 또한 가방을 흔들어서 단어를 섞었기 떄문에 더 이상 단어의 순서는 중요하지 않는다.\n",
    "\n",
    "\n",
    "---\n",
    "**Bow 만드는 과정**\n",
    "\n",
    "```\n",
    "과정 1.   우선, 각 단어의 고유한 인덱스(Index)를 부여한다.\n",
    "과정 2.   각 인덱스의 위치에 단어 토큰의 등장 횟수를 기록한 벡터(Vector)를 만든다.\n",
    "```"
   ]
  },
  {
   "cell_type": "code",
   "execution_count": 23,
   "metadata": {
    "id": "ae-mZ9HOCcX1"
   },
   "outputs": [],
   "source": [
    "from sklearn.feature_extraction.text import CountVectorizer\n",
    "\n",
    "def text_cleaning(text):\n",
    "  hangul = re.compile('[^ ㄱ-ㅣ가-힣]')\n",
    "  result = hangul.sub('', text)\n",
    "  tagger = Okt()\n",
    "  nouns = nouns_tagger.nouns(result)\n",
    "  nouns = [x for x in nouns if len(x) > 1]\n",
    "  nouns = [x for x in nouns if x not in stopwords]\n",
    "  return nouns"
   ]
  },
  {
   "cell_type": "code",
   "execution_count": 31,
   "metadata": {
    "id": "I7WlEPkKCca9"
   },
   "outputs": [],
   "source": [
    "vect = CountVectorizer(tokenizer = lambda x : text_cleaning(x))\n",
    "bow_vect = vect.fit_transform(df['text'].tolist())\n",
    "word_list = vect.get_feature_names_out()\n",
    "count_list = bow_vect.toarray().sum(axis=0)"
   ]
  },
  {
   "cell_type": "code",
   "execution_count": 32,
   "metadata": {
    "colab": {
     "base_uri": "https://localhost:8080/"
    },
    "executionInfo": {
     "elapsed": 265,
     "status": "ok",
     "timestamp": 1631018872238,
     "user": {
      "displayName": "버물리",
      "photoUrl": "https://lh3.googleusercontent.com/a-/AOh14GjgbxaibZdpXcYXkRpN6pP-emIEzMQGGxk60Z1z=s64",
      "userId": "16343119817703036426"
     },
     "user_tz": -540
    },
    "id": "6-FIjghaCcdb",
    "outputId": "29c6cb95-2336-4458-f54f-5e5f8a47d13f"
   },
   "outputs": [
    {
     "data": {
      "text/plain": [
       "array(['가가', '가게', '가격', ..., '희망', '히터', '힐링'], dtype=object)"
      ]
     },
     "execution_count": 32,
     "metadata": {},
     "output_type": "execute_result"
    }
   ],
   "source": [
    "word_list"
   ]
  },
  {
   "cell_type": "code",
   "execution_count": 33,
   "metadata": {
    "colab": {
     "base_uri": "https://localhost:8080/"
    },
    "executionInfo": {
     "elapsed": 259,
     "status": "ok",
     "timestamp": 1631018899719,
     "user": {
      "displayName": "버물리",
      "photoUrl": "https://lh3.googleusercontent.com/a-/AOh14GjgbxaibZdpXcYXkRpN6pP-emIEzMQGGxk60Z1z=s64",
      "userId": "16343119817703036426"
     },
     "user_tz": -540
    },
    "id": "3od1nB2ECcf_",
    "outputId": "a559578b-778d-41b2-9d2a-4f037b28c607"
   },
   "outputs": [
    {
     "data": {
      "text/plain": [
       "array([  4,   8, 245, ...,   1,   7,  14], dtype=int64)"
      ]
     },
     "execution_count": 33,
     "metadata": {},
     "output_type": "execute_result"
    }
   ],
   "source": [
    "# 첫번째 단어는 4번 등장, 두번째 단어는 8번 등장......\n",
    "count_list"
   ]
  },
  {
   "cell_type": "code",
   "execution_count": 34,
   "metadata": {
    "colab": {
     "base_uri": "https://localhost:8080/"
    },
    "executionInfo": {
     "elapsed": 267,
     "status": "ok",
     "timestamp": 1631018931519,
     "user": {
      "displayName": "버물리",
      "photoUrl": "https://lh3.googleusercontent.com/a-/AOh14GjgbxaibZdpXcYXkRpN6pP-emIEzMQGGxk60Z1z=s64",
      "userId": "16343119817703036426"
     },
     "user_tz": -540
    },
    "id": "H-jKjWBVCyAZ",
    "outputId": "82f560d0-8c1b-4676-b56a-2228e32d385c"
   },
   "outputs": [
    {
     "data": {
      "text/plain": [
       "(1001, 3599)"
      ]
     },
     "execution_count": 34,
     "metadata": {},
     "output_type": "execute_result"
    }
   ],
   "source": [
    "bow_vect.shape"
   ]
  },
  {
   "cell_type": "code",
   "execution_count": 35,
   "metadata": {
    "colab": {
     "base_uri": "https://localhost:8080/"
    },
    "executionInfo": {
     "elapsed": 4,
     "status": "ok",
     "timestamp": 1631018980445,
     "user": {
      "displayName": "버물리",
      "photoUrl": "https://lh3.googleusercontent.com/a-/AOh14GjgbxaibZdpXcYXkRpN6pP-emIEzMQGGxk60Z1z=s64",
      "userId": "16343119817703036426"
     },
     "user_tz": -540
    },
    "id": "YHf8jMXgCyDN",
    "outputId": "22d02386-5535-47dd-d67e-9f9909656bb5"
   },
   "outputs": [
    {
     "name": "stdout",
     "output_type": "stream",
     "text": [
      "{'가가': 4, '가게': 8, '가격': 245, '가격표': 1, '가구': 8, '가급': 1, '가기': 20, '가까이': 20, '가끔': 5, '가능': 10, '가\n"
     ]
    }
   ],
   "source": [
    "word_count_dict = dict(zip(word_list, count_list))\n",
    "print(str(word_count_dict)[:100])"
   ]
  },
  {
   "cell_type": "markdown",
   "metadata": {
    "id": "tv8-qE6MC79d"
   },
   "source": [
    "-----"
   ]
  },
  {
   "cell_type": "markdown",
   "metadata": {
    "id": "WMwtBHzKC85L"
   },
   "source": [
    "### 3-5) TF-IDF 적용"
   ]
  },
  {
   "cell_type": "markdown",
   "metadata": {
    "id": "d6kLDjZYDHs7"
   },
   "source": [
    "##### TF-IDF 변환"
   ]
  },
  {
   "cell_type": "code",
   "execution_count": 36,
   "metadata": {
    "id": "eE5AR1IzDCAD"
   },
   "outputs": [],
   "source": [
    "from sklearn.feature_extraction.text import TfidfTransformer\n",
    "\n",
    "tfidf_vectorizer = TfidfTransformer()\n",
    "tf_idf_vect = tfidf_vectorizer.fit_transform(bow_vect)"
   ]
  },
  {
   "cell_type": "code",
   "execution_count": 37,
   "metadata": {
    "colab": {
     "base_uri": "https://localhost:8080/"
    },
    "executionInfo": {
     "elapsed": 4,
     "status": "ok",
     "timestamp": 1631019093362,
     "user": {
      "displayName": "버물리",
      "photoUrl": "https://lh3.googleusercontent.com/a-/AOh14GjgbxaibZdpXcYXkRpN6pP-emIEzMQGGxk60Z1z=s64",
      "userId": "16343119817703036426"
     },
     "user_tz": -540
    },
    "id": "bCq6b-3TDCC-",
    "outputId": "d5ff773a-e01e-4b17-f4a4-914710a4ff85"
   },
   "outputs": [
    {
     "name": "stdout",
     "output_type": "stream",
     "text": [
      "  (0, 3588)\t0.35673213299026796\n",
      "  (0, 2927)\t0.2582351368959594\n",
      "  (0, 2925)\t0.320251680858207\n",
      "  (0, 2866)\t0.48843555212083145\n",
      "  (0, 2696)\t0.23004450213863206\n",
      "  (0, 2311)\t0.15421663035331626\n",
      "  (0, 1584)\t0.48843555212083145\n",
      "  (0, 1527)\t0.2928089229786031\n",
      "  (0, 790)\t0.2528176728459411\n"
     ]
    }
   ],
   "source": [
    "print(tf_idf_vect[0])"
   ]
  },
  {
   "cell_type": "markdown",
   "metadata": {
    "id": "LAXZrfU8DRPx"
   },
   "source": [
    "##### 벡터 : 단어 맵핑"
   ]
  },
  {
   "cell_type": "code",
   "execution_count": 38,
   "metadata": {
    "colab": {
     "base_uri": "https://localhost:8080/"
    },
    "executionInfo": {
     "elapsed": 250,
     "status": "ok",
     "timestamp": 1631019172517,
     "user": {
      "displayName": "버물리",
      "photoUrl": "https://lh3.googleusercontent.com/a-/AOh14GjgbxaibZdpXcYXkRpN6pP-emIEzMQGGxk60Z1z=s64",
      "userId": "16343119817703036426"
     },
     "user_tz": -540
    },
    "id": "jpOhHaKqDCFm",
    "outputId": "3490e248-1d80-44d6-a14d-3db1c7548d1e"
   },
   "outputs": [
    {
     "name": "stdout",
     "output_type": "stream",
     "text": [
      "{2866: '집중', 3588: '휴식', 2696: '제공', 2311: '위치', 1584: '선정', 790: '또한', 2927: '청소', 2925: '청결', 1527\n"
     ]
    }
   ],
   "source": [
    "invert_index_vectorizer = {v : k for k, v in vect.vocabulary_.items()}\n",
    "print(str(invert_index_vectorizer)[:100])"
   ]
  },
  {
   "cell_type": "markdown",
   "metadata": {
    "id": "nvwPAdU2DA_v"
   },
   "source": [
    "-----"
   ]
  },
  {
   "cell_type": "markdown",
   "metadata": {
    "id": "3Nb-h1fM7nLc"
   },
   "source": [
    "## 4) Logistic Regression 분류"
   ]
  },
  {
   "cell_type": "markdown",
   "metadata": {
    "id": "87E9Sz5g4YFE"
   },
   "source": [
    "### 4-1) 데이터셋 생성"
   ]
  },
  {
   "cell_type": "markdown",
   "metadata": {
    "id": "dcVGBXHVDeIu"
   },
   "source": [
    "##### Rating 데이터 이진으로 변환"
   ]
  },
  {
   "cell_type": "code",
   "execution_count": 39,
   "metadata": {
    "colab": {
     "base_uri": "https://localhost:8080/",
     "height": 204
    },
    "executionInfo": {
     "elapsed": 4,
     "status": "ok",
     "timestamp": 1631019240332,
     "user": {
      "displayName": "버물리",
      "photoUrl": "https://lh3.googleusercontent.com/a-/AOh14GjgbxaibZdpXcYXkRpN6pP-emIEzMQGGxk60Z1z=s64",
      "userId": "16343119817703036426"
     },
     "user_tz": -540
    },
    "id": "PS27E0CT4h-7",
    "outputId": "c3383cab-fd39-4217-a381-c1eb3d11435f"
   },
   "outputs": [
    {
     "data": {
      "text/html": [
       "<div>\n",
       "<style scoped>\n",
       "    .dataframe tbody tr th:only-of-type {\n",
       "        vertical-align: middle;\n",
       "    }\n",
       "\n",
       "    .dataframe tbody tr th {\n",
       "        vertical-align: top;\n",
       "    }\n",
       "\n",
       "    .dataframe thead th {\n",
       "        text-align: right;\n",
       "    }\n",
       "</style>\n",
       "<table border=\"1\" class=\"dataframe\">\n",
       "  <thead>\n",
       "    <tr style=\"text-align: right;\">\n",
       "      <th></th>\n",
       "      <th>rating</th>\n",
       "      <th>text</th>\n",
       "    </tr>\n",
       "  </thead>\n",
       "  <tbody>\n",
       "    <tr>\n",
       "      <th>0</th>\n",
       "      <td>4</td>\n",
       "      <td>여행에 집중할수 있게 편안한 휴식을 제공하는 호텔이었습니다. 위치선정 또한 적당한 ...</td>\n",
       "    </tr>\n",
       "    <tr>\n",
       "      <th>1</th>\n",
       "      <td>4</td>\n",
       "      <td>2일 이상 연박시 침대, 이불, 베게등 침구류 교체 및 어메니티 보강이 필요해 보입...</td>\n",
       "    </tr>\n",
       "    <tr>\n",
       "      <th>2</th>\n",
       "      <td>4</td>\n",
       "      <td>지인에소개로온 호텔  깨끗하고 좋은거같아요 처음에는 없는게 많아 많이  당황했는데 ...</td>\n",
       "    </tr>\n",
       "    <tr>\n",
       "      <th>3</th>\n",
       "      <td>5</td>\n",
       "      <td>방에 딱 들어서자마자 눈이 휘둥그레질정도로 이렇게 넓은 호텔 처음 와본 것 같아요!...</td>\n",
       "    </tr>\n",
       "    <tr>\n",
       "      <th>4</th>\n",
       "      <td>5</td>\n",
       "      <td>저녁에 맥주한잔 하는게 좋아서 렌트 안하고 뚜벅이 하기로 했는데 호텔 바로 앞에 버...</td>\n",
       "    </tr>\n",
       "  </tbody>\n",
       "</table>\n",
       "</div>"
      ],
      "text/plain": [
       "   rating                                               text\n",
       "0       4  여행에 집중할수 있게 편안한 휴식을 제공하는 호텔이었습니다. 위치선정 또한 적당한 ...\n",
       "1       4  2일 이상 연박시 침대, 이불, 베게등 침구류 교체 및 어메니티 보강이 필요해 보입...\n",
       "2       4  지인에소개로온 호텔  깨끗하고 좋은거같아요 처음에는 없는게 많아 많이  당황했는데 ...\n",
       "3       5  방에 딱 들어서자마자 눈이 휘둥그레질정도로 이렇게 넓은 호텔 처음 와본 것 같아요!...\n",
       "4       5  저녁에 맥주한잔 하는게 좋아서 렌트 안하고 뚜벅이 하기로 했는데 호텔 바로 앞에 버..."
      ]
     },
     "execution_count": 39,
     "metadata": {},
     "output_type": "execute_result"
    }
   ],
   "source": [
    "df.head()"
   ]
  },
  {
   "cell_type": "code",
   "execution_count": 45,
   "metadata": {
    "colab": {
     "base_uri": "https://localhost:8080/",
     "height": 284
    },
    "executionInfo": {
     "elapsed": 763,
     "status": "ok",
     "timestamp": 1631019298963,
     "user": {
      "displayName": "버물리",
      "photoUrl": "https://lh3.googleusercontent.com/a-/AOh14GjgbxaibZdpXcYXkRpN6pP-emIEzMQGGxk60Z1z=s64",
      "userId": "16343119817703036426"
     },
     "user_tz": -540
    },
    "id": "lXvHnoTY96zZ",
    "outputId": "b8f5218c-13ce-4b96-c165-7591e4bb6c4e"
   },
   "outputs": [
    {
     "data": {
      "image/png": "[encoded data removed]",
      "text/plain": [
       "<Figure size 640x480 with 1 Axes>"
      ]
     },
     "metadata": {},
     "output_type": "display_data"
    }
   ],
   "source": [
    "df.rating.hist()\n",
    "plt.show()"
   ]
  },
  {
   "cell_type": "code",
   "execution_count": 46,
   "metadata": {
    "colab": {
     "base_uri": "https://localhost:8080/",
     "height": 204
    },
    "executionInfo": {
     "elapsed": 260,
     "status": "ok",
     "timestamp": 1631019316561,
     "user": {
      "displayName": "버물리",
      "photoUrl": "https://lh3.googleusercontent.com/a-/AOh14GjgbxaibZdpXcYXkRpN6pP-emIEzMQGGxk60Z1z=s64",
      "userId": "16343119817703036426"
     },
     "user_tz": -540
    },
    "id": "lhjSTR4HDlXS",
    "outputId": "29737e3d-0b41-4892-fcf0-a7648d69a170"
   },
   "outputs": [
    {
     "data": {
      "text/html": [
       "<div>\n",
       "<style scoped>\n",
       "    .dataframe tbody tr th:only-of-type {\n",
       "        vertical-align: middle;\n",
       "    }\n",
       "\n",
       "    .dataframe tbody tr th {\n",
       "        vertical-align: top;\n",
       "    }\n",
       "\n",
       "    .dataframe thead th {\n",
       "        text-align: right;\n",
       "    }\n",
       "</style>\n",
       "<table border=\"1\" class=\"dataframe\">\n",
       "  <thead>\n",
       "    <tr style=\"text-align: right;\">\n",
       "      <th></th>\n",
       "      <th>rating</th>\n",
       "      <th>text</th>\n",
       "      <th>y</th>\n",
       "    </tr>\n",
       "  </thead>\n",
       "  <tbody>\n",
       "    <tr>\n",
       "      <th>950</th>\n",
       "      <td>5</td>\n",
       "      <td>26 / 2 / 18에 하룻밤을 머물렀다. 장소를 돌보는 부부는 친절하고 도움이되었...</td>\n",
       "      <td>1</td>\n",
       "    </tr>\n",
       "    <tr>\n",
       "      <th>911</th>\n",
       "      <td>5</td>\n",
       "      <td>공항에서 가깝고 청결상태도 좋은 호텔입니다. 약간 골목에 위치해 있어 처음 갈 때 ...</td>\n",
       "      <td>1</td>\n",
       "    </tr>\n",
       "    <tr>\n",
       "      <th>961</th>\n",
       "      <td>4</td>\n",
       "      <td>이에 관련된 것을 생각하지 않습니다 호텔 이름을 제외한 초콜릿. 큰 객실, 단정하고...</td>\n",
       "      <td>1</td>\n",
       "    </tr>\n",
       "    <tr>\n",
       "      <th>187</th>\n",
       "      <td>5</td>\n",
       "      <td>멋진 제주 섬을 발견하기 위해 5박을 거기에서 보냈다. 이 게스트 하우스는 도시의 ...</td>\n",
       "      <td>1</td>\n",
       "    </tr>\n",
       "    <tr>\n",
       "      <th>449</th>\n",
       "      <td>5</td>\n",
       "      <td>안녕하세요. 내가 마지막으로 2015 frien 을 봄. 8pm 에 도착 하다. 이...</td>\n",
       "      <td>1</td>\n",
       "    </tr>\n",
       "  </tbody>\n",
       "</table>\n",
       "</div>"
      ],
      "text/plain": [
       "     rating                                               text  y\n",
       "950       5  26 / 2 / 18에 하룻밤을 머물렀다. 장소를 돌보는 부부는 친절하고 도움이되었...  1\n",
       "911       5  공항에서 가깝고 청결상태도 좋은 호텔입니다. 약간 골목에 위치해 있어 처음 갈 때 ...  1\n",
       "961       4  이에 관련된 것을 생각하지 않습니다 호텔 이름을 제외한 초콜릿. 큰 객실, 단정하고...  1\n",
       "187       5  멋진 제주 섬을 발견하기 위해 5박을 거기에서 보냈다. 이 게스트 하우스는 도시의 ...  1\n",
       "449       5  안녕하세요. 내가 마지막으로 2015 frien 을 봄. 8pm 에 도착 하다. 이...  1"
      ]
     },
     "execution_count": 46,
     "metadata": {},
     "output_type": "execute_result"
    }
   ],
   "source": [
    "df.sample(10).head()"
   ]
  },
  {
   "cell_type": "code",
   "execution_count": 47,
   "metadata": {
    "id": "fADwGYKLDlaU"
   },
   "outputs": [],
   "source": [
    "'''\n",
    "이진 분류 부분\n",
    "rating이 4, 5점에 해당되면 긍정적.\n",
    "rating이 1, 2, 3점에 해당되면 부정적.\n",
    "\n",
    "이를 새로운 칼럼을 만들어서 긍정적이면 1, 그 외에는 0으로 분류\n",
    "'''\n",
    "def rating_to_label(rating):\n",
    "  if rating > 3:\n",
    "    return 1\n",
    "  else:\n",
    "    return 0\n",
    "df['y'] = df['rating'].apply(lambda x : rating_to_label(x))"
   ]
  },
  {
   "cell_type": "code",
   "execution_count": 48,
   "metadata": {
    "colab": {
     "base_uri": "https://localhost:8080/",
     "height": 204
    },
    "executionInfo": {
     "elapsed": 258,
     "status": "ok",
     "timestamp": 1631019449969,
     "user": {
      "displayName": "버물리",
      "photoUrl": "https://lh3.googleusercontent.com/a-/AOh14GjgbxaibZdpXcYXkRpN6pP-emIEzMQGGxk60Z1z=s64",
      "userId": "16343119817703036426"
     },
     "user_tz": -540
    },
    "id": "FZi8MUaxDp2U",
    "outputId": "9a15a2e0-426a-49f0-b36f-4c7827755f6c"
   },
   "outputs": [
    {
     "data": {
      "text/html": [
       "<div>\n",
       "<style scoped>\n",
       "    .dataframe tbody tr th:only-of-type {\n",
       "        vertical-align: middle;\n",
       "    }\n",
       "\n",
       "    .dataframe tbody tr th {\n",
       "        vertical-align: top;\n",
       "    }\n",
       "\n",
       "    .dataframe thead th {\n",
       "        text-align: right;\n",
       "    }\n",
       "</style>\n",
       "<table border=\"1\" class=\"dataframe\">\n",
       "  <thead>\n",
       "    <tr style=\"text-align: right;\">\n",
       "      <th></th>\n",
       "      <th>rating</th>\n",
       "      <th>text</th>\n",
       "      <th>y</th>\n",
       "    </tr>\n",
       "  </thead>\n",
       "  <tbody>\n",
       "    <tr>\n",
       "      <th>0</th>\n",
       "      <td>4</td>\n",
       "      <td>여행에 집중할수 있게 편안한 휴식을 제공하는 호텔이었습니다. 위치선정 또한 적당한 ...</td>\n",
       "      <td>1</td>\n",
       "    </tr>\n",
       "    <tr>\n",
       "      <th>1</th>\n",
       "      <td>4</td>\n",
       "      <td>2일 이상 연박시 침대, 이불, 베게등 침구류 교체 및 어메니티 보강이 필요해 보입...</td>\n",
       "      <td>1</td>\n",
       "    </tr>\n",
       "    <tr>\n",
       "      <th>2</th>\n",
       "      <td>4</td>\n",
       "      <td>지인에소개로온 호텔  깨끗하고 좋은거같아요 처음에는 없는게 많아 많이  당황했는데 ...</td>\n",
       "      <td>1</td>\n",
       "    </tr>\n",
       "    <tr>\n",
       "      <th>3</th>\n",
       "      <td>5</td>\n",
       "      <td>방에 딱 들어서자마자 눈이 휘둥그레질정도로 이렇게 넓은 호텔 처음 와본 것 같아요!...</td>\n",
       "      <td>1</td>\n",
       "    </tr>\n",
       "    <tr>\n",
       "      <th>4</th>\n",
       "      <td>5</td>\n",
       "      <td>저녁에 맥주한잔 하는게 좋아서 렌트 안하고 뚜벅이 하기로 했는데 호텔 바로 앞에 버...</td>\n",
       "      <td>1</td>\n",
       "    </tr>\n",
       "  </tbody>\n",
       "</table>\n",
       "</div>"
      ],
      "text/plain": [
       "   rating                                               text  y\n",
       "0       4  여행에 집중할수 있게 편안한 휴식을 제공하는 호텔이었습니다. 위치선정 또한 적당한 ...  1\n",
       "1       4  2일 이상 연박시 침대, 이불, 베게등 침구류 교체 및 어메니티 보강이 필요해 보입...  1\n",
       "2       4  지인에소개로온 호텔  깨끗하고 좋은거같아요 처음에는 없는게 많아 많이  당황했는데 ...  1\n",
       "3       5  방에 딱 들어서자마자 눈이 휘둥그레질정도로 이렇게 넓은 호텔 처음 와본 것 같아요!...  1\n",
       "4       5  저녁에 맥주한잔 하는게 좋아서 렌트 안하고 뚜벅이 하기로 했는데 호텔 바로 앞에 버...  1"
      ]
     },
     "execution_count": 48,
     "metadata": {},
     "output_type": "execute_result"
    }
   ],
   "source": [
    "df.head()"
   ]
  },
  {
   "cell_type": "code",
   "execution_count": 49,
   "metadata": {
    "colab": {
     "base_uri": "https://localhost:8080/"
    },
    "executionInfo": {
     "elapsed": 333,
     "status": "ok",
     "timestamp": 1631019465822,
     "user": {
      "displayName": "버물리",
      "photoUrl": "https://lh3.googleusercontent.com/a-/AOh14GjgbxaibZdpXcYXkRpN6pP-emIEzMQGGxk60Z1z=s64",
      "userId": "16343119817703036426"
     },
     "user_tz": -540
    },
    "id": "Pjb-Tb0CVeKI",
    "outputId": "466fede0-2426-4208-d16a-d895335325f6"
   },
   "outputs": [
    {
     "data": {
      "text/plain": [
       "1    726\n",
       "0    275\n",
       "Name: y, dtype: int64"
      ]
     },
     "execution_count": 49,
     "metadata": {},
     "output_type": "execute_result"
    }
   ],
   "source": [
    "df.y.value_counts()"
   ]
  },
  {
   "cell_type": "markdown",
   "metadata": {
    "id": "ocEMVqzM-MdE"
   },
   "source": [
    "-----"
   ]
  },
  {
   "cell_type": "markdown",
   "metadata": {
    "id": "dK64F8GZ-N8s"
   },
   "source": []
  },
  {
   "cell_type": "markdown",
   "metadata": {
    "id": "Pe7BOBrW-OAw"
   },
   "source": [
    "### 4-2) 데이터셋 분리"
   ]
  },
  {
   "cell_type": "code",
   "execution_count": 50,
   "metadata": {
    "id": "-Wxv-F3P-NEU"
   },
   "outputs": [],
   "source": [
    "from sklearn.model_selection import train_test_split\n",
    "\n",
    "y = df['y']\n",
    "x_train, x_test, y_train, y_test = train_test_split(tf_idf_vect, y, test_size = 0.3)"
   ]
  },
  {
   "cell_type": "code",
   "execution_count": 51,
   "metadata": {
    "colab": {
     "base_uri": "https://localhost:8080/"
    },
    "executionInfo": {
     "elapsed": 261,
     "status": "ok",
     "timestamp": 1631019565833,
     "user": {
      "displayName": "버물리",
      "photoUrl": "https://lh3.googleusercontent.com/a-/AOh14GjgbxaibZdpXcYXkRpN6pP-emIEzMQGGxk60Z1z=s64",
      "userId": "16343119817703036426"
     },
     "user_tz": -540
    },
    "id": "rsDAFsCY-Unv",
    "outputId": "4465fbe4-710a-48b3-9d4d-4e0cbd5b1c70"
   },
   "outputs": [
    {
     "name": "stdout",
     "output_type": "stream",
     "text": [
      "(700, 3599)\n",
      "(301, 3599)\n"
     ]
    }
   ],
   "source": [
    "print(x_train.shape)\n",
    "print(x_test.shape)"
   ]
  },
  {
   "cell_type": "markdown",
   "metadata": {
    "id": "pMkSIg7JD7rj"
   },
   "source": [
    "-----"
   ]
  },
  {
   "cell_type": "markdown",
   "metadata": {
    "id": "lHGviAneD7vN"
   },
   "source": [
    "### 4-3) 모델 학습"
   ]
  },
  {
   "cell_type": "markdown",
   "metadata": {
    "id": "kbez8JYXD7x-"
   },
   "source": [
    "##### Logistic Regression 학습"
   ]
  },
  {
   "cell_type": "code",
   "execution_count": 52,
   "metadata": {
    "id": "rx7Ojv4TEBq3"
   },
   "outputs": [],
   "source": [
    "from sklearn.linear_model import LogisticRegression\n",
    "from sklearn.metrics import accuracy_score, precision_score, recall_score, f1_score\n",
    "\n",
    "lr = LogisticRegression(random_state = 0)\n",
    "lr.fit(x_train, y_train)\n",
    "\n",
    "y_pred = lr.predict(x_test)"
   ]
  },
  {
   "cell_type": "markdown",
   "metadata": {
    "id": "eYOegz_7EKg8"
   },
   "source": [
    "##### 분류 결과 평가"
   ]
  },
  {
   "cell_type": "code",
   "execution_count": 53,
   "metadata": {
    "colab": {
     "base_uri": "https://localhost:8080/"
    },
    "executionInfo": {
     "elapsed": 392,
     "status": "ok",
     "timestamp": 1631019684972,
     "user": {
      "displayName": "버물리",
      "photoUrl": "https://lh3.googleusercontent.com/a-/AOh14GjgbxaibZdpXcYXkRpN6pP-emIEzMQGGxk60Z1z=s64",
      "userId": "16343119817703036426"
     },
     "user_tz": -540
    },
    "id": "lyLhjDwFEB8h",
    "outputId": "72ff64b6-920b-4bbb-be88-3ad5485f483d"
   },
   "outputs": [
    {
     "data": {
      "text/plain": [
       "0.7441860465116279"
      ]
     },
     "execution_count": 53,
     "metadata": {},
     "output_type": "execute_result"
    }
   ],
   "source": [
    "accuracy_score(y_test, y_pred)"
   ]
  },
  {
   "cell_type": "code",
   "execution_count": 54,
   "metadata": {
    "colab": {
     "base_uri": "https://localhost:8080/"
    },
    "executionInfo": {
     "elapsed": 7,
     "status": "ok",
     "timestamp": 1631019684972,
     "user": {
      "displayName": "버물리",
      "photoUrl": "https://lh3.googleusercontent.com/a-/AOh14GjgbxaibZdpXcYXkRpN6pP-emIEzMQGGxk60Z1z=s64",
      "userId": "16343119817703036426"
     },
     "user_tz": -540
    },
    "id": "6gd3tmYXEJ32",
    "outputId": "74ebab50-b70e-449a-87b3-a7cb6451e756"
   },
   "outputs": [
    {
     "data": {
      "text/plain": [
       "0.7380952380952381"
      ]
     },
     "execution_count": 54,
     "metadata": {},
     "output_type": "execute_result"
    }
   ],
   "source": [
    "precision_score(y_test, y_pred)"
   ]
  },
  {
   "cell_type": "code",
   "execution_count": 55,
   "metadata": {
    "colab": {
     "base_uri": "https://localhost:8080/"
    },
    "executionInfo": {
     "elapsed": 5,
     "status": "ok",
     "timestamp": 1631019684973,
     "user": {
      "displayName": "버물리",
      "photoUrl": "https://lh3.googleusercontent.com/a-/AOh14GjgbxaibZdpXcYXkRpN6pP-emIEzMQGGxk60Z1z=s64",
      "userId": "16343119817703036426"
     },
     "user_tz": -540
    },
    "id": "VRyCY1HkWSwC",
    "outputId": "d4a414b3-c2f9-4933-81ab-b00d4adf1b73"
   },
   "outputs": [
    {
     "data": {
      "text/plain": [
       "1.0"
      ]
     },
     "execution_count": 55,
     "metadata": {},
     "output_type": "execute_result"
    }
   ],
   "source": [
    "recall_score(y_test, y_pred)"
   ]
  },
  {
   "cell_type": "code",
   "execution_count": 56,
   "metadata": {
    "colab": {
     "base_uri": "https://localhost:8080/"
    },
    "executionInfo": {
     "elapsed": 403,
     "status": "ok",
     "timestamp": 1631019685372,
     "user": {
      "displayName": "버물리",
      "photoUrl": "https://lh3.googleusercontent.com/a-/AOh14GjgbxaibZdpXcYXkRpN6pP-emIEzMQGGxk60Z1z=s64",
      "userId": "16343119817703036426"
     },
     "user_tz": -540
    },
    "id": "gkf4bDWPWSyh",
    "outputId": "8deac49e-332b-47a1-e217-4aade8f18c46"
   },
   "outputs": [
    {
     "data": {
      "text/plain": [
       "0.8493150684931507"
      ]
     },
     "execution_count": 56,
     "metadata": {},
     "output_type": "execute_result"
    }
   ],
   "source": [
    "f1_score(y_test, y_pred)"
   ]
  },
  {
   "cell_type": "code",
   "execution_count": 57,
   "metadata": {
    "colab": {
     "base_uri": "https://localhost:8080/"
    },
    "executionInfo": {
     "elapsed": 344,
     "status": "ok",
     "timestamp": 1631019889960,
     "user": {
      "displayName": "버물리",
      "photoUrl": "https://lh3.googleusercontent.com/a-/AOh14GjgbxaibZdpXcYXkRpN6pP-emIEzMQGGxk60Z1z=s64",
      "userId": "16343119817703036426"
     },
     "user_tz": -540
    },
    "id": "HdG0b2QFWYoz",
    "outputId": "4bdcdf76-f2b8-496c-818d-e849e8948b02"
   },
   "outputs": [
    {
     "name": "stdout",
     "output_type": "stream",
     "text": [
      "[[  7  77]\n",
      " [  0 217]]\n"
     ]
    }
   ],
   "source": [
    "# y=1과 y=0의 샘플링의 크기가 다르기 때문에 편향된 예측을 함.\n",
    "# y=1의 크기는 700개, y=0의 크기는 301개임.\n",
    "# 여기서 y=1로만 찍어도 예측율이 0.7이 됨.\n",
    "# 따라서 샘플링의 크기를 같게 재조정을 할 필요가 있음.\n",
    "from sklearn.metrics import confusion_matrix\n",
    "\n",
    "confmat = confusion_matrix(y_test, y_pred)\n",
    "print(confmat)"
   ]
  },
  {
   "cell_type": "markdown",
   "metadata": {
    "id": "UHt-LenyEOnp"
   },
   "source": [
    "-----"
   ]
  },
  {
   "cell_type": "markdown",
   "metadata": {
    "id": "N70AyTZDEOuz"
   },
   "source": [
    "### 4-4) 샘플링 재조정"
   ]
  },
  {
   "cell_type": "markdown",
   "metadata": {
    "id": "3u1UonfVEWnR"
   },
   "source": [
    "##### 1:1 Sampling"
   ]
  },
  {
   "cell_type": "code",
   "execution_count": 58,
   "metadata": {
    "id": "3BYUcp08ER7-"
   },
   "outputs": [],
   "source": [
    "positive_sample_idx = df[df['y']==1].sample(275, random_state=33).index.tolist()\n",
    "negative_sample_idx = df[df['y']==0].sample(275, random_state=33).index.tolist()"
   ]
  },
  {
   "cell_type": "code",
   "execution_count": 59,
   "metadata": {
    "id": "HUTZegD7EVkc"
   },
   "outputs": [],
   "source": [
    "random_idx = positive_sample_idx + negative_sample_idx\n",
    "x = tf_idf_vect[random_idx]\n",
    "y = df['y'][random_idx]\n",
    "x_train, x_test, y_train, y_test = train_test_split(x, y, test_size = 0.3)"
   ]
  },
  {
   "cell_type": "code",
   "execution_count": 60,
   "metadata": {
    "colab": {
     "base_uri": "https://localhost:8080/"
    },
    "executionInfo": {
     "elapsed": 312,
     "status": "ok",
     "timestamp": 1631020109381,
     "user": {
      "displayName": "버물리",
      "photoUrl": "https://lh3.googleusercontent.com/a-/AOh14GjgbxaibZdpXcYXkRpN6pP-emIEzMQGGxk60Z1z=s64",
      "userId": "16343119817703036426"
     },
     "user_tz": -540
    },
    "id": "YHvy8WzGEaBy",
    "outputId": "2847c2c7-bfd9-41ad-f806-66160f9fe37f"
   },
   "outputs": [
    {
     "name": "stdout",
     "output_type": "stream",
     "text": [
      "(385, 3599)\n"
     ]
    }
   ],
   "source": [
    "print(x_train.shape)"
   ]
  },
  {
   "cell_type": "code",
   "execution_count": 61,
   "metadata": {
    "id": "gNifdmG2YB-5"
   },
   "outputs": [
    {
     "name": "stdout",
     "output_type": "stream",
     "text": [
      "(165, 3599)\n"
     ]
    }
   ],
   "source": [
    "print(x_test.shape)"
   ]
  },
  {
   "cell_type": "markdown",
   "metadata": {
    "id": "TDPgGZJeEfSd"
   },
   "source": [
    "##### 모델 재학습"
   ]
  },
  {
   "cell_type": "code",
   "execution_count": 62,
   "metadata": {
    "id": "uFO_UsnCEbGB"
   },
   "outputs": [],
   "source": [
    "lr = LogisticRegression(random_state = 0)\n",
    "lr.fit(x_train, y_train)\n",
    "\n",
    "y_pred = lr.predict(x_test)"
   ]
  },
  {
   "cell_type": "markdown",
   "metadata": {
    "id": "y3PqFXYAEjzQ"
   },
   "source": [
    "##### 분류 결과 평가"
   ]
  },
  {
   "cell_type": "code",
   "execution_count": 63,
   "metadata": {
    "colab": {
     "base_uri": "https://localhost:8080/"
    },
    "executionInfo": {
     "elapsed": 336,
     "status": "ok",
     "timestamp": 1631020241993,
     "user": {
      "displayName": "버물리",
      "photoUrl": "https://lh3.googleusercontent.com/a-/AOh14GjgbxaibZdpXcYXkRpN6pP-emIEzMQGGxk60Z1z=s64",
      "userId": "16343119817703036426"
     },
     "user_tz": -540
    },
    "id": "mbTnBiJ2YV7s",
    "outputId": "d003444e-32b6-46b9-e1fe-b3cef76a94f1"
   },
   "outputs": [
    {
     "name": "stdout",
     "output_type": "stream",
     "text": [
      "0.7151515151515152\n",
      "0.803030303030303\n",
      "0.6091954022988506\n",
      "0.6928104575163399\n"
     ]
    }
   ],
   "source": [
    "print(accuracy_score(y_test, y_pred))\n",
    "print(precision_score(y_test, y_pred))\n",
    "print(recall_score(y_test, y_pred))\n",
    "print(f1_score(y_test, y_pred))"
   ]
  },
  {
   "cell_type": "code",
   "execution_count": 64,
   "metadata": {
    "colab": {
     "base_uri": "https://localhost:8080/"
    },
    "executionInfo": {
     "elapsed": 309,
     "status": "ok",
     "timestamp": 1631020205015,
     "user": {
      "displayName": "버물리",
      "photoUrl": "https://lh3.googleusercontent.com/a-/AOh14GjgbxaibZdpXcYXkRpN6pP-emIEzMQGGxk60Z1z=s64",
      "userId": "16343119817703036426"
     },
     "user_tz": -540
    },
    "id": "QKiAhKirEeOQ",
    "outputId": "c6d019e5-d25d-4859-a58d-4f9e26e8f6e1"
   },
   "outputs": [
    {
     "name": "stdout",
     "output_type": "stream",
     "text": [
      "[[65 13]\n",
      " [34 53]]\n"
     ]
    }
   ],
   "source": [
    "confmat = confusion_matrix(y_test, y_pred)\n",
    "print(confmat)"
   ]
  },
  {
   "cell_type": "markdown",
   "metadata": {
    "id": "GeQGRMLaFFLk"
   },
   "source": [
    "-----"
   ]
  },
  {
   "cell_type": "markdown",
   "metadata": {
    "id": "3Ob_KEwxFGvr"
   },
   "source": [
    "## 5) 긍정/부정 키워드 분석"
   ]
  },
  {
   "cell_type": "markdown",
   "metadata": {
    "id": "HVYQEDe0FNG0"
   },
   "source": [
    "##### Logistic Regression 모델의 coef 분석"
   ]
  },
  {
   "cell_type": "code",
   "execution_count": 71,
   "metadata": {
    "colab": {
     "base_uri": "https://localhost:8080/",
     "height": 503
    },
    "executionInfo": {
     "elapsed": 7955,
     "status": "ok",
     "timestamp": 1631020443958,
     "user": {
      "displayName": "버물리",
      "photoUrl": "https://lh3.googleusercontent.com/a-/AOh14GjgbxaibZdpXcYXkRpN6pP-emIEzMQGGxk60Z1z=s64",
      "userId": "16343119817703036426"
     },
     "user_tz": -540
    },
    "id": "D5rVvWCQElIa",
    "outputId": "e43497eb-4b40-47f7-8193-2e4710af5731"
   },
   "outputs": [
    {
     "data": {
      "image/png": "[encoded data removed]",
      "text/plain": [
       "<Figure size 1000x800 with 1 Axes>"
      ]
     },
     "metadata": {},
     "output_type": "display_data"
    }
   ],
   "source": [
    "plt.rcParams['figure.figsize'] = [10, 8]\n",
    "plt.bar(range(len(lr.coef_[0])), lr.coef_[0])\n",
    "plt.show()"
   ]
  },
  {
   "cell_type": "markdown",
   "metadata": {
    "id": "MvLq3hSpFUO7"
   },
   "source": [
    "##### 긍정/부정 키워드 출력"
   ]
  },
  {
   "cell_type": "code",
   "execution_count": 66,
   "metadata": {
    "colab": {
     "base_uri": "https://localhost:8080/"
    },
    "executionInfo": {
     "elapsed": 382,
     "status": "ok",
     "timestamp": 1631020578031,
     "user": {
      "displayName": "버물리",
      "photoUrl": "https://lh3.googleusercontent.com/a-/AOh14GjgbxaibZdpXcYXkRpN6pP-emIEzMQGGxk60Z1z=s64",
      "userId": "16343119817703036426"
     },
     "user_tz": -540
    },
    "id": "me2xwEybFTnD",
    "outputId": "f7a2f826-08a5-4891-865e-f27627a9019c"
   },
   "outputs": [
    {
     "name": "stdout",
     "output_type": "stream",
     "text": [
      "[(1.1379990053157751, 2977), (1.0164465974550647, 2400), (0.9405458540487459, 1247), (0.8745107493249263, 2779), (0.8672669340774827, 385)]\n",
      "[(-0.6984795448679344, 1463), (-0.7057605180805001, 2966), (-0.7287306614688313, 567), (-0.9308911337606388, 1293), (-1.2524412105866294, 515)]\n"
     ]
    }
   ],
   "source": [
    "'''\n",
    "코드 설명\n",
    "# 위에거는 가장 긍정적인 5개의 리뷰에 대한 정보를 나타냄.\n",
    "# 아래거는 가장 부정적인 5개의 리뷰에 대한 정보를 나타냄.\n",
    "# 왼쪽 숫자가 커질수록 긍정적, 작아질수록 부정적.\n",
    "# (1.2523469722092242, 2977)에서 2977번째 인덱스는 1.252 정도로 가장 긍정적이라는 의미.\n",
    "# (-1.0217428474064871, 1293)에서 1293번째 인덱스는 -1.022정도로 가장 부정적이라는 의미.\n",
    "\n",
    "함수 설명\n",
    "enumerate() = 반복문 사용 시 몇번째 반복문인지 인덱스 번호와 해당 원소를 튜플형태로 반환\n",
    "'''\n",
    "print(sorted(((value, index) for index, value in enumerate(lr.coef_[0])), reverse=True)[:5])\n",
    "print(sorted(((value, index) for index, value in enumerate(lr.coef_[0])), reverse=True)[-5:])"
   ]
  },
  {
   "cell_type": "code",
   "execution_count": 67,
   "metadata": {
    "id": "yGxlW37CFbd7"
   },
   "outputs": [
    {
     "data": {
      "text/plain": [
       "[(1.1379990053157751, 2977),\n",
       " (1.0164465974550647, 2400),\n",
       " (0.9405458540487459, 1247),\n",
       " (0.8745107493249263, 2779),\n",
       " (0.8672669340774827, 385),\n",
       " (0.8001085587143182, 2957),\n",
       " (0.789403923209261, 956),\n",
       " (0.7187105784685, 3447),\n",
       " (0.6789785618013464, 115),\n",
       " (0.6689937719076731, 578),\n",
       " (0.6441271016385622, 1159),\n",
       " (0.6156731678061048, 826),\n",
       " (0.6029100531407857, 2311),\n",
       " (0.5916405309366287, 131),\n",
       " (0.570186297892694, 154),\n",
       " (0.5659279284279982, 2730),\n",
       " (0.5619795861666357, 2834),\n",
       " (0.557488177932383, 3425),\n",
       " (0.5332474515743573, 2385),\n",
       " (0.5197551349859675, 1491),\n",
       " (0.512026597072865, 3152),\n",
       " (0.5043286134227889, 1671),\n",
       " (0.4990956412482624, 1853),\n",
       " (0.4962386119083836, 246),\n",
       " (0.49233469234977734, 19),\n",
       " (0.49093767802068294, 2455),\n",
       " (0.481781070414992, 660),\n",
       " (0.4781932313529975, 2780),\n",
       " (0.4740058152501762, 1384),\n",
       " (0.4566514976522708, 2722),\n",
       " (0.45282237116296903, 2188),\n",
       " (0.43942814434913197, 680),\n",
       " (0.43894738031106806, 2781),\n",
       " (0.419297060376016, 2225),\n",
       " (0.41795249388133704, 692),\n",
       " (0.4179281785007703, 2070),\n",
       " (0.41770525703076766, 1700),\n",
       " (0.4116931442068892, 1217),\n",
       " (0.40727448532046956, 2988),\n",
       " (0.4003957416069433, 1809),\n",
       " (0.39529061827123335, 1695),\n",
       " (0.393799259892541, 2595),\n",
       " (0.38820883019040364, 1779),\n",
       " (0.38599966608586345, 3598),\n",
       " (0.38461111281340765, 26),\n",
       " (0.37548808316280097, 416),\n",
       " (0.3754306123633128, 3017),\n",
       " (0.361138744548952, 1028),\n",
       " (0.3520822552097592, 1981),\n",
       " (0.35035537453827276, 2167),\n",
       " (0.34531497783771703, 3320),\n",
       " (0.3452850761489971, 2836),\n",
       " (0.3445226141441554, 2606),\n",
       " (0.34346023762342454, 3503),\n",
       " (0.34267257044933347, 3428),\n",
       " (0.3386518273621404, 2685),\n",
       " (0.3379883597149419, 2108),\n",
       " (0.33372786016555694, 2599),\n",
       " (0.3319774531092909, 3414),\n",
       " (0.3247190272364799, 2211),\n",
       " (0.313693008935052, 281),\n",
       " (0.31354926145018336, 1482),\n",
       " (0.3053785510606698, 981),\n",
       " (0.3042368538876755, 0),\n",
       " (0.30422852334241446, 3453),\n",
       " (0.30337696322953367, 625),\n",
       " (0.3023619100909866, 1120),\n",
       " (0.30205122440265303, 278),\n",
       " (0.3000659895202244, 153),\n",
       " (0.29858861286180716, 2106),\n",
       " (0.2984231051683504, 979),\n",
       " (0.2949017675482238, 2771),\n",
       " (0.2934916081720359, 1),\n",
       " (0.2932502862288354, 2674),\n",
       " (0.2898241281138647, 2),\n",
       " (0.2864257376831963, 3576),\n",
       " (0.284538449655041, 2462),\n",
       " (0.28258439183449463, 790),\n",
       " (0.28079914608775175, 1025),\n",
       " (0.2781651111598832, 1918),\n",
       " (0.2766047984832463, 2680),\n",
       " (0.27475187230704984, 136),\n",
       " (0.2742145189506623, 2726),\n",
       " (0.2735204596542913, 1440),\n",
       " (0.27087897090540836, 2075),\n",
       " (0.2645687498586145, 1885),\n",
       " (0.2631410858502236, 1553),\n",
       " (0.2626353721198142, 3238),\n",
       " (0.2614018365087526, 1205),\n",
       " (0.2606069453909685, 2691),\n",
       " (0.2602473370072459, 73),\n",
       " (0.25901338741478647, 1078),\n",
       " (0.2572592856204975, 1453),\n",
       " (0.25704350385114705, 1442),\n",
       " (0.25683867818905654, 937),\n",
       " (0.25506292181722673, 2351),\n",
       " (0.2536024460618078, 1383),\n",
       " (0.252606542235181, 2520),\n",
       " (0.2521072368062047, 918),\n",
       " (0.2514880231136056, 71),\n",
       " (0.25050819696012544, 2080),\n",
       " (0.2429533717352166, 1922),\n",
       " (0.24239730253263667, 100),\n",
       " (0.24053765655077963, 718),\n",
       " (0.24008819640977896, 3034),\n",
       " (0.24000662152730237, 3454),\n",
       " (0.23899636555843418, 3384),\n",
       " (0.23780467988900042, 1053),\n",
       " (0.23768005086986843, 2849),\n",
       " (0.2373716383749765, 1566),\n",
       " (0.2356079466794579, 961),\n",
       " (0.2339869750957595, 2186),\n",
       " (0.23393830574202829, 769),\n",
       " (0.2330539553730959, 3060),\n",
       " (0.23302789524228806, 588),\n",
       " (0.23118677474854857, 2927),\n",
       " (0.23090840173650518, 544),\n",
       " (0.23055626447478628, 2371),\n",
       " (0.23012411416768538, 395),\n",
       " (0.23009554319159603, 2705),\n",
       " (0.22887284045414388, 244),\n",
       " (0.22720931244372328, 2573),\n",
       " (0.22612113088745478, 3299),\n",
       " (0.22612113088745478, 172),\n",
       " (0.22517443875218449, 1523),\n",
       " (0.22469741883157074, 235),\n",
       " (0.22469209683728159, 1539),\n",
       " (0.22459409180489057, 3270),\n",
       " (0.22374648274983436, 3443),\n",
       " (0.22321440046264684, 2304),\n",
       " (0.22290241210094897, 300),\n",
       " (0.2210824728635476, 3164),\n",
       " (0.2210824728635476, 683),\n",
       " (0.22019897707725627, 3593),\n",
       " (0.21992688051220105, 1801),\n",
       " (0.2193429153601492, 582),\n",
       " (0.2188286107016703, 1455),\n",
       " (0.2180806910542389, 669),\n",
       " (0.218050019523302, 1307),\n",
       " (0.2169421972499901, 960),\n",
       " (0.21554544398505632, 1926),\n",
       " (0.21505162830917157, 51),\n",
       " (0.2149647536965438, 457),\n",
       " (0.2132503420529567, 1961),\n",
       " (0.21205403943611686, 3486),\n",
       " (0.20913216200479529, 801),\n",
       " (0.20901937122843955, 2525),\n",
       " (0.20848855796105428, 924),\n",
       " (0.20788637908844199, 2748),\n",
       " (0.20768648065840709, 910),\n",
       " (0.20747116468882792, 1165),\n",
       " (0.20709154620445447, 1554),\n",
       " (0.2059559283689393, 1085),\n",
       " (0.20560470149211144, 1033),\n",
       " (0.2055429189455235, 2082),\n",
       " (0.20490749619961243, 1483),\n",
       " (0.20333626871244373, 2016),\n",
       " (0.20321596690137309, 375),\n",
       " (0.20270698997946188, 326),\n",
       " (0.20269923393338213, 3274),\n",
       " (0.20260348703038106, 684),\n",
       " (0.20258106089834704, 1505),\n",
       " (0.2025361770877914, 40),\n",
       " (0.2019562420212555, 1929),\n",
       " (0.2018152889103948, 340),\n",
       " (0.2017501564670395, 3067),\n",
       " (0.2013757628970274, 110),\n",
       " (0.20095302434230147, 2797),\n",
       " (0.2004399405838916, 1010),\n",
       " (0.20013978045892086, 658),\n",
       " (0.19972386043648624, 1428),\n",
       " (0.19960906580254414, 38),\n",
       " (0.19885223585001946, 2064),\n",
       " (0.1982148278930305, 1432),\n",
       " (0.1975511244795447, 393),\n",
       " (0.19674421627398722, 2678),\n",
       " (0.19622537620681993, 2532),\n",
       " (0.19620628016235012, 2742),\n",
       " (0.19431898988520188, 1826),\n",
       " (0.1942701446153321, 3508),\n",
       " (0.19422765168746245, 3552),\n",
       " (0.19352719743242197, 3549),\n",
       " (0.19320002777420373, 1278),\n",
       " (0.19315458509377267, 883),\n",
       " (0.1929879122360121, 135),\n",
       " (0.19226757570506173, 2566),\n",
       " (0.1921763790477707, 1374),\n",
       " (0.1919466891437569, 2258),\n",
       " (0.19039518424457647, 3015),\n",
       " (0.19007090178172864, 440),\n",
       " (0.18953289033097442, 646),\n",
       " (0.18856231305906296, 1199),\n",
       " (0.18786501621467921, 3150),\n",
       " (0.18691472187367394, 935),\n",
       " (0.18671719432362513, 2146),\n",
       " (0.1867044578613205, 1618),\n",
       " (0.18635009579036418, 3026),\n",
       " (0.18575294459415503, 3057),\n",
       " (0.18571846058040417, 1966),\n",
       " (0.1854876272746261, 453),\n",
       " (0.18462270696126937, 1447),\n",
       " (0.18365376244201323, 1194),\n",
       " (0.18255947511775555, 3271),\n",
       " (0.18255947511775555, 2607),\n",
       " (0.18255947511775555, 2465),\n",
       " (0.18255947511775555, 2398),\n",
       " (0.18255947511775555, 571),\n",
       " (0.18212718419420368, 3013),\n",
       " (0.1819642933379319, 3088),\n",
       " (0.18175848487466273, 3408),\n",
       " (0.18161452969363737, 3410),\n",
       " (0.18131340064185067, 3359),\n",
       " (0.18120103226341278, 2445),\n",
       " (0.18097102847008176, 2350),\n",
       " (0.18094757872596162, 382),\n",
       " (0.17990916922302536, 1953),\n",
       " (0.17886953910373654, 454),\n",
       " (0.17711554679403446, 2546),\n",
       " (0.17704994965249082, 3438),\n",
       " (0.17683460083708094, 2216),\n",
       " (0.17682474001610773, 817),\n",
       " (0.17645280023468132, 47),\n",
       " (0.17619842730833393, 3208),\n",
       " (0.1760961761556448, 2284),\n",
       " (0.17548246752429875, 3395),\n",
       " (0.17528927052205728, 2003),\n",
       " (0.1752426291686938, 665),\n",
       " (0.1740617609477916, 3370),\n",
       " (0.1740617609477916, 663),\n",
       " (0.17366327073606902, 2581),\n",
       " (0.17255426974086258, 2170),\n",
       " (0.17228937212288356, 3037),\n",
       " (0.1720543552605146, 2018),\n",
       " (0.17200800613515724, 1359),\n",
       " (0.17176084722946316, 1075),\n",
       " (0.17168672373498226, 106),\n",
       " (0.1714742212667933, 697),\n",
       " (0.17146371520102904, 2956),\n",
       " (0.17131891893691273, 3356),\n",
       " (0.1700087317134329, 1212),\n",
       " (0.16953678402277517, 3353),\n",
       " (0.16894621435897217, 1441),\n",
       " (0.16843374978702239, 590),\n",
       " (0.16799351703356977, 3551),\n",
       " (0.1670779787811572, 2438),\n",
       " (0.16675715398061022, 2787),\n",
       " (0.16544064056680133, 1348),\n",
       " (0.16535898141889305, 1263),\n",
       " (0.16520835510127782, 1593),\n",
       " (0.16498567267475045, 1750),\n",
       " (0.1648871189867422, 74),\n",
       " (0.16480068841477408, 2246),\n",
       " (0.1647470211950228, 3162),\n",
       " (0.1647470211950228, 3029),\n",
       " (0.16326902156833892, 1910),\n",
       " (0.1628593058402436, 2411),\n",
       " (0.1627450334555894, 3347),\n",
       " (0.16168896614538192, 757),\n",
       " (0.16128991080456595, 83),\n",
       " (0.16027861297869, 1161),\n",
       " (0.16010602034336746, 1101),\n",
       " (0.15995019569810753, 1939),\n",
       " (0.15934915070876662, 3061),\n",
       " (0.15812463674536675, 1891),\n",
       " (0.15786326482967875, 423),\n",
       " (0.15778836088438175, 179),\n",
       " (0.1577618939623117, 1326),\n",
       " (0.15744351481132435, 237),\n",
       " (0.1573423647619219, 93),\n",
       " (0.15590588746074666, 1864),\n",
       " (0.15549992455710634, 3134),\n",
       " (0.1551881786785681, 1843),\n",
       " (0.15478801114039847, 2869),\n",
       " (0.15476772925164606, 3432),\n",
       " (0.15443364928121947, 2038),\n",
       " (0.15380098236386247, 2148),\n",
       " (0.1533579408336082, 3435),\n",
       " (0.15203508964265214, 843),\n",
       " (0.15096950768231215, 1668),\n",
       " (0.15096950768231215, 1091),\n",
       " (0.1494909848372309, 2153),\n",
       " (0.14834021644561818, 1967),\n",
       " (0.14825536120870356, 1709),\n",
       " (0.14730489229654772, 2168),\n",
       " (0.1465115052295819, 311),\n",
       " (0.14584041092183533, 3426),\n",
       " (0.1457885695144137, 3058),\n",
       " (0.14558403845707138, 1614),\n",
       " (0.14539599004129158, 3309),\n",
       " (0.1449234778665661, 896),\n",
       " (0.14489711260895596, 2618),\n",
       " (0.1448123466337797, 2844),\n",
       " (0.1439547163596802, 2886),\n",
       " (0.1439547163596802, 835),\n",
       " (0.14374548601881063, 1060),\n",
       " (0.1434007992806007, 210),\n",
       " (0.14321286884159815, 709),\n",
       " (0.14311979835747005, 2824),\n",
       " (0.14286782188191843, 1551),\n",
       " (0.1424065118784537, 1621),\n",
       " (0.14109183190035213, 2967),\n",
       " (0.14083674082959952, 1321),\n",
       " (0.14015726600633446, 43),\n",
       " (0.14005803837862565, 2969),\n",
       " (0.14005803837862565, 767),\n",
       " (0.13994074298175901, 2523),\n",
       " (0.13993311862261065, 3262),\n",
       " (0.13993311862261065, 2036),\n",
       " (0.13971123505090607, 2497),\n",
       " (0.1392653525202101, 2897),\n",
       " (0.1388529102717165, 1150),\n",
       " (0.1388529102717165, 1084),\n",
       " (0.1383669640995615, 3434),\n",
       " (0.13833609874274422, 1274),\n",
       " (0.1382797543933998, 1616),\n",
       " (0.1382797543933998, 818),\n",
       " (0.138130997557857, 3537),\n",
       " (0.13764636552810494, 2220),\n",
       " (0.13759743683083683, 290),\n",
       " (0.13722585627467632, 3033),\n",
       " (0.13707781148999545, 2484),\n",
       " (0.136829865465853, 406),\n",
       " (0.13646905038497026, 3082),\n",
       " (0.1355224509683867, 1721),\n",
       " (0.13513461478946562, 751),\n",
       " (0.13475656005519634, 6),\n",
       " (0.13439390166811702, 1796),\n",
       " (0.13433163982986773, 1838),\n",
       " (0.13432987763354923, 12),\n",
       " (0.13416931484670422, 3427),\n",
       " (0.13416931484670422, 390),\n",
       " (0.13362828949524122, 2417),\n",
       " (0.13347218883714373, 1506),\n",
       " (0.1331080749495716, 2429),\n",
       " (0.13284583256916133, 2983),\n",
       " (0.1328012819888375, 2360),\n",
       " (0.13260111605740302, 3297),\n",
       " (0.132557754683318, 922),\n",
       " (0.13252293769027976, 618),\n",
       " (0.13186039764674018, 2206),\n",
       " (0.131826615966365, 1697),\n",
       " (0.1317562749909043, 2605),\n",
       " (0.13168417486595235, 606),\n",
       " (0.13156362741324604, 2544),\n",
       " (0.13156362741324604, 792),\n",
       " (0.13106314512984196, 192),\n",
       " (0.13105145769333743, 133),\n",
       " (0.13098754123380157, 3250),\n",
       " (0.13077580478804054, 1127),\n",
       " (0.13046301196489377, 271),\n",
       " (0.13026830993752378, 2899),\n",
       " (0.13026830993752378, 415),\n",
       " (0.13018034531074824, 519),\n",
       " (0.1299874281381873, 365),\n",
       " (0.12940538998247497, 720),\n",
       " (0.1293012523650858, 909),\n",
       " (0.1289477209062862, 758),\n",
       " (0.12808415382776955, 88),\n",
       " (0.12780161825574418, 872),\n",
       " (0.1276256590160886, 3191),\n",
       " (0.12702023526297826, 671),\n",
       " (0.12688293625361957, 1746),\n",
       " (0.1267825517030602, 2421),\n",
       " (0.1267825517030602, 2166),\n",
       " (0.1267274703275417, 1768),\n",
       " (0.1264995865593947, 217),\n",
       " (0.12631136290798012, 1912),\n",
       " (0.12631122609731868, 1092),\n",
       " (0.12631122609731868, 122),\n",
       " (0.12551286572202452, 2165),\n",
       " (0.12551286572202452, 498),\n",
       " (0.12551286572202452, 432),\n",
       " (0.1253633035347881, 2436),\n",
       " (0.12502916550978702, 795),\n",
       " (0.1247312653581914, 2171),\n",
       " (0.1247312653581914, 703),\n",
       " (0.1247312653581914, 379),\n",
       " (0.12470654504355312, 1349),\n",
       " (0.12395597729881855, 3206),\n",
       " (0.12395597729881855, 2067),\n",
       " (0.12395597729881855, 1282),\n",
       " (0.12395597729881855, 1170),\n",
       " (0.12395597729881855, 199),\n",
       " (0.12294918324111925, 1743),\n",
       " (0.12293570228095735, 1775),\n",
       " (0.12286616090804882, 2753),\n",
       " (0.12285890999764697, 2457),\n",
       " (0.12210422667920144, 2822),\n",
       " (0.12195065875529429, 24),\n",
       " (0.12180805413443721, 1703),\n",
       " (0.12158246606144832, 3585),\n",
       " (0.12128249783036853, 2271),\n",
       " (0.12045500969624348, 1889),\n",
       " (0.12045500969624348, 634),\n",
       " (0.12024715794117746, 3430),\n",
       " (0.12024715794117746, 2948),\n",
       " (0.12024715794117746, 857),\n",
       " (0.12024715794117746, 346),\n",
       " (0.12024715794117746, 265),\n",
       " (0.12010566749149808, 2998),\n",
       " (0.11997449684135535, 1825),\n",
       " (0.11997449684135535, 366),\n",
       " (0.1199091109541158, 337),\n",
       " (0.1199091109541158, 272),\n",
       " (0.11988360168461439, 2953),\n",
       " (0.11970767164086618, 765),\n",
       " (0.11956290580841201, 3103),\n",
       " (0.11956290580841201, 1742),\n",
       " (0.11956290580841201, 58),\n",
       " (0.11931705329872405, 3201),\n",
       " (0.11921442820819393, 3283),\n",
       " (0.11916282555746828, 2709),\n",
       " (0.11911863703484886, 3168),\n",
       " (0.11911863703484886, 2632),\n",
       " (0.11895514265920908, 267),\n",
       " (0.11895045620859926, 3078),\n",
       " (0.11895045620859926, 2164),\n",
       " (0.11881592360062518, 3255),\n",
       " (0.1184939676330154, 2823),\n",
       " (0.1184939676330154, 2501),\n",
       " (0.11826257778789155, 1917),\n",
       " (0.11767666448730688, 3102),\n",
       " (0.11767666448730688, 1541),\n",
       " (0.11757944749469268, 648),\n",
       " (0.11661967917384886, 1991),\n",
       " (0.11657750671639318, 2162),\n",
       " (0.11629804076730739, 3570),\n",
       " (0.11595608053370293, 1798),\n",
       " (0.11573979120652717, 2832),\n",
       " (0.11560640306386925, 234),\n",
       " (0.11560108518399032, 2047),\n",
       " (0.11530417355900538, 1277),\n",
       " (0.11512866932693124, 3130),\n",
       " (0.1148731963362759, 825),\n",
       " (0.11447396187239448, 2062),\n",
       " (0.11436809573608105, 748),\n",
       " (0.11401856467994237, 1000),\n",
       " (0.11388031280537945, 1570),\n",
       " (0.11383463971232129, 400),\n",
       " (0.11370722131421956, 726),\n",
       " (0.11369591328392495, 1030),\n",
       " (0.113286736574958, 121),\n",
       " (0.11327579701550741, 3035),\n",
       " (0.11327579701550741, 1896),\n",
       " (0.11327579701550741, 1184),\n",
       " (0.1132337281682959, 2928),\n",
       " (0.11321615161582013, 2250),\n",
       " (0.11321615161582013, 730),\n",
       " (0.11317201598798549, 479),\n",
       " (0.11270659362476813, 2089),\n",
       " (0.11237170928762491, 3003),\n",
       " (0.11228613066577404, 2676),\n",
       " (0.11227218062408008, 396),\n",
       " (0.11205014026479883, 3325),\n",
       " (0.11158520933751864, 1752),\n",
       " (0.11158520933751864, 518),\n",
       " (0.11155034212751838, 3423),\n",
       " (0.11155034212751838, 1945),\n",
       " (0.11155034212751838, 1095),\n",
       " (0.1115128901133872, 2773),\n",
       " (0.11144412740909491, 2533),\n",
       " (0.11142105994725575, 1241),\n",
       " (0.11036238919031474, 2688),\n",
       " (0.11036238919031474, 1636),\n",
       " (0.11036238919031474, 1337),\n",
       " (0.11036238919031474, 1324),\n",
       " (0.11036238919031474, 707),\n",
       " (0.11018491328309776, 2426),\n",
       " (0.10963769602618408, 2191),\n",
       " (0.10941430535083516, 2766),\n",
       " (0.10941430535083516, 822),\n",
       " (0.10929529552896791, 2308),\n",
       " (0.10929529552896791, 1642),\n",
       " (0.10920276406460844, 2169),\n",
       " (0.10907644280929903, 2719),\n",
       " (0.10907644280929903, 2459),\n",
       " (0.10892872466834382, 1504),\n",
       " (0.10890169998349442, 3315),\n",
       " (0.10890169998349442, 875),\n",
       " (0.10884715751113233, 3011),\n",
       " (0.10884715751113233, 946),\n",
       " (0.10884715751113233, 693),\n",
       " (0.10876256438870029, 2001),\n",
       " (0.10876256438870029, 1866),\n",
       " (0.10848464667410916, 2696),\n",
       " (0.10843424251051176, 2221),\n",
       " (0.10805376894143343, 662),\n",
       " (0.10776728541835139, 3558),\n",
       " (0.10776728541835139, 3419),\n",
       " (0.10776728541835139, 2608),\n",
       " (0.10776728541835139, 2598),\n",
       " (0.1077316498785058, 2761),\n",
       " (0.10772069474759702, 2878),\n",
       " (0.10722822519416667, 341),\n",
       " (0.10708288948013657, 1821),\n",
       " (0.10691139487971306, 674),\n",
       " (0.10688313788554646, 1350),\n",
       " (0.10657324644754367, 2029),\n",
       " (0.10634452339565045, 3105),\n",
       " (0.10622808522427031, 1799),\n",
       " (0.10571963841355368, 1899),\n",
       " (0.1055914612834747, 2456),\n",
       " (0.1055914612834747, 493),\n",
       " (0.1055914612834747, 146),\n",
       " (0.10557391781264618, 3445),\n",
       " (0.10557189051425632, 3413),\n",
       " (0.10557189051425632, 1793),\n",
       " (0.10557189051425632, 439),\n",
       " (0.10546733890388044, 1130),\n",
       " (0.10470764004647533, 484),\n",
       " (0.10467899157058193, 724),\n",
       " (0.10439690370390343, 286),\n",
       " (0.10416167691125613, 2863),\n",
       " (0.10416167691125613, 894),\n",
       " (0.10403648944682144, 3120),\n",
       " (0.10385143695591241, 1670),\n",
       " (0.10349029567336816, 3344),\n",
       " (0.10349029567336816, 2173),\n",
       " (0.10349029567336816, 1138),\n",
       " (0.10349029567336816, 461),\n",
       " (0.10349029567336816, 34),\n",
       " (0.10340687061208079, 2534),\n",
       " (0.10300645516469248, 1974),\n",
       " (0.10294798144446467, 1546),\n",
       " (0.10294798144446467, 1335),\n",
       " (0.10289805957437477, 3140),\n",
       " (0.10280856284918966, 3418),\n",
       " (0.10280856284918966, 1677),\n",
       " (0.10280856284918966, 462),\n",
       " (0.10265173828702957, 1325),\n",
       " (0.10265173828702957, 1107),\n",
       " (0.10194686871546359, 2303),\n",
       " (0.10194055620022736, 2913),\n",
       " (0.10189556438280244, 2051),\n",
       " (0.10189556438280244, 1725),\n",
       " (0.10189556438280244, 1684),\n",
       " (0.10189556438280244, 95),\n",
       " (0.10165487607247858, 451),\n",
       " (0.10163585466527927, 2939),\n",
       " (0.10150116973029126, 2500),\n",
       " (0.10104433789979231, 2622),\n",
       " (0.10084613411764141, 123),\n",
       " (0.10081775736861295, 2961),\n",
       " (0.10064316091097056, 3063),\n",
       " (0.10064316091097056, 2728),\n",
       " (0.10064316091097056, 2205),\n",
       " (0.10064316091097056, 2015),\n",
       " (0.10064316091097056, 1958),\n",
       " (0.10064316091097056, 1900),\n",
       " (0.10064316091097056, 789),\n",
       " (0.10029833927065147, 2446),\n",
       " (0.10029833927065147, 468),\n",
       " (0.10028447887858355, 1444),\n",
       " (0.10028447887858355, 715),\n",
       " (0.10023858388475095, 1439),\n",
       " (0.09993923061017104, 3567),\n",
       " (0.09972195948729755, 1744),\n",
       " (0.09964033246592231, 2703),\n",
       " (0.09964033246592231, 11),\n",
       " (0.09956293608176846, 407),\n",
       " (0.09934646977996514, 2515),\n",
       " (0.09900056068542197, 1106),\n",
       " (0.09896384172692678, 2490),\n",
       " (0.09885421656637998, 1067),\n",
       " (0.09839250621327865, 773),\n",
       " (0.0982896607240798, 263),\n",
       " (0.09773577553853448, 1181),\n",
       " (0.09767569205837527, 2759),\n",
       " (0.09767569205837527, 1249),\n",
       " (0.09758119341592332, 1426),\n",
       " (0.09749432556916056, 1603),\n",
       " (0.09743940326359159, 939),\n",
       " (0.09721903613500311, 1381),\n",
       " (0.09721903613500311, 274),\n",
       " (0.09707003948091161, 1361),\n",
       " (0.09707003948091161, 383),\n",
       " (0.09666503843420896, 3179),\n",
       " (0.09666503843420896, 2648),\n",
       " (0.09666503843420896, 230),\n",
       " (0.09660095569975617, 4),\n",
       " (0.09637508377927774, 2107),\n",
       " (0.09634970331746767, 3286),\n",
       " (0.09617056076621262, 3504),\n",
       " (0.09617056076621262, 942),\n",
       " (0.09613759251171619, 3461),\n",
       " (0.09613759251171619, 1488),\n",
       " (0.09606203963530319, 1549),\n",
       " (0.09599393672098466, 1643),\n",
       " (0.09599393672098466, 1014),\n",
       " (0.09554896317119019, 1172),\n",
       " (0.09528686007838763, 3072),\n",
       " (0.09508496959131807, 1292),\n",
       " (0.09498852359981406, 559),\n",
       " (0.09475280115372729, 3076),\n",
       " (0.09411907989016995, 3339),\n",
       " (0.09404389759334916, 1923),\n",
       " (0.09396899121675886, 845),\n",
       " (0.09362697661957019, 3381),\n",
       " (0.09362697661957019, 2287),\n",
       " (0.09362697661957019, 1836),\n",
       " (0.09362697661957019, 1769),\n",
       " (0.09311279698565623, 1118),\n",
       " (0.09247130754266922, 967),\n",
       " (0.092430025041157, 3284),\n",
       " (0.092430025041157, 2821),\n",
       " (0.092430025041157, 1143),\n",
       " (0.092430025041157, 963),\n",
       " (0.092430025041157, 208),\n",
       " (0.09238058664595511, 1969),\n",
       " (0.09161615804400257, 3111),\n",
       " (0.09161615804400257, 245),\n",
       " (0.09126206006494379, 492),\n",
       " (0.0912339119864021, 721),\n",
       " (0.09112607075295963, 3048),\n",
       " (0.09112607075295963, 1994),\n",
       " (0.09112607075295963, 1204),\n",
       " (0.09073610061995813, 3014),\n",
       " (0.09073610061995813, 444),\n",
       " (0.0906522635664351, 1848),\n",
       " (0.09060051613170639, 569),\n",
       " (0.09038667744329662, 629),\n",
       " (0.09018504539151184, 3588),\n",
       " (0.09018370341223968, 2033),\n",
       " (0.08993316659951492, 2919),\n",
       " (0.08993316659951492, 1007),\n",
       " (0.08993316659951492, 421),\n",
       " (0.08981462806295278, 3529),\n",
       " (0.08981462806295278, 3213),\n",
       " (0.08981462806295278, 2127),\n",
       " (0.08981462806295278, 1525),\n",
       " (0.08981462806295278, 1126),\n",
       " (0.08950026700698878, 2399),\n",
       " (0.08950026700698878, 353),\n",
       " (0.08924420011800732, 2645),\n",
       " (0.08886556754282851, 3259),\n",
       " (0.08886556754282851, 1302),\n",
       " (0.08886556754282851, 293),\n",
       " (0.0885802062343467, 1306),\n",
       " (0.08855482548439747, 2677),\n",
       " (0.08842163831456769, 1770),\n",
       " (0.08842163831456769, 431),\n",
       " (0.08723684287618905, 1452),\n",
       " (0.08723684287618905, 863),\n",
       " (0.08719018217786764, 107),\n",
       " (0.08690368113261245, 592),\n",
       " (0.08672959643759819, 1394),\n",
       " (0.08643485941887494, 1503),\n",
       " (0.08613450002742928, 1301),\n",
       " (0.08588232511391583, 2918),\n",
       " (0.08588232511391583, 2293),\n",
       " (0.08588232511391583, 1544),\n",
       " (0.08582844413984572, 3303),\n",
       " (0.08582844413984572, 1008),\n",
       " (0.08582844413984572, 805),\n",
       " (0.08552495182582989, 2642),\n",
       " (0.08532840445421258, 1955),\n",
       " (0.08532840445421258, 355),\n",
       " (0.08516301729422762, 1157),\n",
       " (0.08496425908307928, 1861),\n",
       " (0.08476839201138758, 1597),\n",
       " (0.08476839201138758, 141),\n",
       " (0.08448556766710448, 2994),\n",
       " (0.08448556766710448, 2993),\n",
       " (0.08448556766710448, 2917),\n",
       " (0.08448556766710448, 1711),\n",
       " (0.08448556766710448, 1304),\n",
       " (0.08444156548502482, 1485),\n",
       " (0.0842783070469069, 2078),\n",
       " (0.08420808268399455, 2740),\n",
       " (0.08420808268399455, 2736),\n",
       " (0.08420808268399455, 1943),\n",
       " (0.08420808268399455, 1847),\n",
       " (0.08420808268399455, 1180),\n",
       " (0.08420808268399455, 829),\n",
       " (0.08410946602607175, 3431),\n",
       " (0.08410946602607175, 2482),\n",
       " (0.08401373735744454, 10),\n",
       " (0.08387265446899042, 2529),\n",
       " (0.08387265446899042, 548),\n",
       " (0.08374208019099276, 3016),\n",
       " (0.08355222149209922, 1405),\n",
       " (0.08354605853627912, 839),\n",
       " (0.08339052371100329, 1298),\n",
       " (0.083284220861324, 1002),\n",
       " (0.08285404601370558, 2352),\n",
       " (0.08285404601370558, 2061),\n",
       " (0.08285404601370558, 1526),\n",
       " (0.08285404601370558, 21),\n",
       " (0.08259431381351019, 2920),\n",
       " (0.0823735105975114, 2735),\n",
       " (0.08217517827023843, 3181),\n",
       " (0.08217517827023843, 2217),\n",
       " (0.08188359137970547, 3516),\n",
       " (0.08173918203465944, 2629),\n",
       " (0.08138040273532779, 2901),\n",
       " (0.08118803055397732, 3369),\n",
       " (0.08100617188409846, 1832),\n",
       " (0.08100617188409846, 903),\n",
       " (0.08100617188409846, 888),\n",
       " (0.0807471015262454, 696),\n",
       " (0.08053422693473793, 2584),\n",
       " (0.08035089845438456, 1239),\n",
       " (0.0801698812038654, 3180),\n",
       " (0.07943804974364811, 189),\n",
       " (0.07938377457811335, 3175),\n",
       " (0.07938377457811335, 619),\n",
       " (0.07910214898858771, 2811),\n",
       " (0.07906231837268338, 2435),\n",
       " (0.07900784768364037, 3404),\n",
       " (0.07899137524956246, 3114),\n",
       " (0.07899137524956246, 759),\n",
       " (0.078810199577476, 495),\n",
       " (0.07867118238096095, 1594),\n",
       " (0.07846481108032885, 2708),\n",
       " (0.07841088645255276, 3547),\n",
       " (0.07839118833004356, 3109),\n",
       " (0.07839118833004356, 1125),\n",
       " (0.07839118833004356, 711),\n",
       " (0.07839118833004356, 445),\n",
       " (0.07839118833004356, 25),\n",
       " (0.07766976975350869, 2764),\n",
       " (0.07763342103368698, 3223),\n",
       " (0.07763342103368698, 556),\n",
       " (0.0775847152686749, 2260),\n",
       " (0.0775847152686749, 1894),\n",
       " (0.07751227019590652, 2052),\n",
       " (0.07751227019590652, 954),\n",
       " (0.07751227019590652, 812),\n",
       " (0.07736887824621573, 103),\n",
       " (0.07720700469269466, 3107),\n",
       " (0.07714977070469897, 68),\n",
       " (0.07713270385192739, 1812),\n",
       " (0.07680807891683707, 3272),\n",
       " (0.0765697255363093, 1617),\n",
       " (0.07603084313634387, 986),\n",
       " (0.07571989140901474, 1959),\n",
       " (0.07571989140901474, 181),\n",
       " (0.07539174725671224, 2096),\n",
       " (0.07539174725671224, 1080),\n",
       " (0.07539174725671224, 892),\n",
       " (0.07539174725671224, 116),\n",
       " (0.07522528622805072, 2088),\n",
       " (0.07495984258949939, 2666),\n",
       " (0.0749457246386198, 209),\n",
       " (0.07489600485308982, 1492),\n",
       " (0.07489088189886596, 2760),\n",
       " (0.07462686869333994, 2374),\n",
       " (0.07425104097067976, 3539),\n",
       " (0.07425104097067976, 1259),\n",
       " (0.07425104097067976, 388),\n",
       " (0.07398677838917252, 3555),\n",
       " (0.07398677838917252, 1396),\n",
       " (0.07343010746014034, 1758),\n",
       " (0.07315724228188919, 3210),\n",
       " (0.07311889225352043, 860),\n",
       " (0.07276244301292764, 1451),\n",
       " (0.07276244301292764, 1131),\n",
       " (0.07233408782321758, 1538),\n",
       " (0.07178024305371782, 3248),\n",
       " (0.07178024305371782, 1619),\n",
       " (0.07178024305371782, 1257),\n",
       " (0.07178024305371782, 876),\n",
       " (0.07155989917873502, 3455),\n",
       " (0.07155989917873502, 1392),\n",
       " (0.07155989917873502, 704),\n",
       " (0.07146556832056468, 3121),\n",
       " (0.07146556832056468, 2852),\n",
       " (0.07115586095174808, 2026),\n",
       " (0.07086179980438394, 3518),\n",
       " (0.07049466156792795, 1473),\n",
       " (0.0704580204422172, 814),\n",
       " (0.07020599350795391, 3364),\n",
       " (0.07020599350795391, 3119),\n",
       " (0.07020599350795391, 3075),\n",
       " (0.07020599350795391, 859),\n",
       " (0.07020599350795391, 450),\n",
       " (0.06959002453355097, 3062),\n",
       " (0.06939701247687148, 1835),\n",
       " (0.06939701247687148, 516),\n",
       " (0.06938451695345814, 2975),\n",
       " (0.06935131820487621, 2951),\n",
       " (0.06935131820487621, 2224),\n",
       " (0.06935131820487621, 1026),\n",
       " (0.06935131820487621, 57),\n",
       " (0.06916252821679143, 1153),\n",
       " (0.06914473594767188, 577),\n",
       " (0.06851910982413353, 3149),\n",
       " (0.06851910982413353, 2846),\n",
       " (0.06851910982413353, 2624),\n",
       " (0.06851910982413353, 2461),\n",
       " (0.06851910982413353, 2359),\n",
       " (0.06851910982413353, 2279),\n",
       " (0.06851910982413353, 1069),\n",
       " (0.06851910982413353, 364),\n",
       " (0.06837649847019299, 2212),\n",
       " (0.06815045178949501, 1962),\n",
       " (0.0679416374825629, 3594),\n",
       " (0.06789065341393016, 717),\n",
       " (0.0676705559895073, 120),\n",
       " (0.06753930530811303, 2585),\n",
       " (0.06731874734041852, 3089),\n",
       " (0.06731874734041852, 1625),\n",
       " (0.06720628934364584, 1960),\n",
       " (0.06697843129539444, 735),\n",
       " (0.06693796369247412, 714),\n",
       " (0.06636986419610882, 1985),\n",
       " (0.06549794042386185, 2650),\n",
       " (0.06549794042386185, 989),\n",
       " (0.06548835699310344, 2634),\n",
       " (0.06545481348513592, 1417),\n",
       " (0.06538158723547037, 1420),\n",
       " (0.06529454637661966, 360),\n",
       " (0.06473176208767815, 2683),\n",
       " (0.06468664855896823, 623),\n",
       " (0.06466936274314194, 3379),\n",
       " (0.0639338872771465, 1884),\n",
       " (0.06383419727646629, 806),\n",
       " (0.06346278405785898, 52),\n",
       " (0.06292458173025126, 2239),\n",
       " (0.06292458173025126, 1734),\n",
       " (0.06290404151568871, 3202),\n",
       " (0.06273150477645871, 3362),\n",
       " (0.06272044071019198, 2619),\n",
       " (0.06269019938967595, 94),\n",
       " (0.0622822961514033, 1846),\n",
       " (0.06204242969115754, 1090),\n",
       " (0.06193792372033109, 543),\n",
       " (0.06128247333906071, 1996),\n",
       " (0.06102240580155981, 2415),\n",
       " (0.06096721976662099, 2699),\n",
       " (0.06048044699193014, 472),\n",
       " (0.06043700072771185, 2489),\n",
       " (0.06021644121111753, 574),\n",
       " (0.059920226646544957, 2257),\n",
       " (0.05940796180031259, 2992),\n",
       " (0.05940796180031259, 2288),\n",
       " (0.05940796180031259, 999),\n",
       " (0.05938916328333315, 2193),\n",
       " (0.05938916328333315, 42),\n",
       " (0.059192331722764197, 44),\n",
       " (0.058832432723449145, 705),\n",
       " (0.05850599842558881, 1952),\n",
       " (0.05808817663933953, 1162),\n",
       " (0.05692952657411507, 3442),\n",
       " (0.056686347201519056, 3326),\n",
       " (0.056686347201519056, 3227),\n",
       " (0.056686347201519056, 2305),\n",
       " (0.056686347201519056, 2156),\n",
       " (0.05662457072644913, 1653),\n",
       " (0.05647882558800301, 2638),\n",
       " (0.05607441087213772, 2793),\n",
       " (0.05602908057447564, 2145),\n",
       " (0.05579260466875932, 3510),\n",
       " (0.05579260466875932, 3055),\n",
       " (0.05579260466875932, 2737),\n",
       " (0.05579260466875932, 2292),\n",
       " (0.05579260466875932, 1475),\n",
       " (0.05568995783320918, 332),\n",
       " (0.055417870734866814, 570),\n",
       " (0.05493506280142688, 3269),\n",
       " (0.05493506280142688, 1260),\n",
       " (0.054627423194391185, 838),\n",
       " (0.0545341350509752, 2136),\n",
       " (0.0545341350509752, 700),\n",
       " (0.0545341350509752, 565),\n",
       " (0.054483191813091185, 2443),\n",
       " (0.05429208670104346, 1386),\n",
       " (0.05429208670104346, 676),\n",
       " (0.053773735890610255, 1857),\n",
       " (0.05370189157174499, 2345),\n",
       " (0.053223788416990866, 469),\n",
       " (0.05265789644625376, 1407),\n",
       " (0.05265789644625376, 586),\n",
       " (0.05243495397708128, 3279),\n",
       " (0.05200749308833407, 749),\n",
       " (0.051938029054283553, 304),\n",
       " (0.05190072806137108, 988),\n",
       " (0.051470133960392614, 2472),\n",
       " (0.051470133960392614, 2128),\n",
       " (0.051470133960392614, 1602),\n",
       " (0.051470133960392614, 494),\n",
       " (0.05067836321421738, 3235),\n",
       " (0.05067836321421738, 3049),\n",
       " (0.05067836321421738, 2154),\n",
       " (0.05067836321421738, 1978),\n",
       " (0.05067836321421738, 546),\n",
       " (0.05043378556729381, 3511),\n",
       " (0.05039074455105129, 2767),\n",
       " (0.050364054461551566, 734),\n",
       " (0.04967729172553389, 3515),\n",
       " (0.04929619058991111, 1988),\n",
       " (0.04924050903836015, 1715),\n",
       " (0.0490785273997202, 3440),\n",
       " (0.0487838488433852, 1678),\n",
       " (0.04863832029614436, 551),\n",
       " (0.04848647783643694, 699),\n",
       " (0.04783099871467675, 3287),\n",
       " (0.04783099871467675, 1470),\n",
       " (0.04727072807649233, 269),\n",
       " (0.04690912341398093, 2093),\n",
       " (0.046825342554024006, 3166),\n",
       " (0.046564591714805155, 2972),\n",
       " (0.04581076145165938, 991),\n",
       " (0.04581076145165938, 547),\n",
       " (0.045747006383782256, 333),\n",
       " (0.04424374368956869, 2476),\n",
       " (0.0426884246156236, 3341),\n",
       " (0.04202452892292689, 3212),\n",
       " (0.041646616499175976, 1427),\n",
       " (0.04109359125237619, 2161),\n",
       " (0.0403735507631227, 3336),\n",
       " (0.0403735507631227, 2656),\n",
       " (0.0403735507631227, 2570),\n",
       " (0.0403735507631227, 2522),\n",
       " (0.0403735507631227, 2121),\n",
       " (0.0403735507631227, 2045),\n",
       " (0.0403735507631227, 2010),\n",
       " (0.0403735507631227, 1726),\n",
       " (0.0403735507631227, 1655),\n",
       " (0.0403735507631227, 1509),\n",
       " (0.0403735507631227, 1507),\n",
       " (0.0403735507631227, 732),\n",
       " (0.0403735507631227, 524),\n",
       " (0.0403735507631227, 422),\n",
       " (0.0403735507631227, 196),\n",
       " (0.0403735507631227, 171),\n",
       " (0.0403735507631227, 99),\n",
       " (0.040346289628193, 2557),\n",
       " (0.03978248209590426, 1901),\n",
       " (0.03913191262668262, 1016),\n",
       " (0.038837498377016264, 3561),\n",
       " (0.038105162285827394, 1017),\n",
       " (0.038105162285827394, 1012),\n",
       " (0.03806315713728038, 2792),\n",
       " (0.03649571504801482, 139),\n",
       " (0.03643361434989269, 84),\n",
       " (0.036256962870921915, 477),\n",
       " (0.03556934945634116, 612),\n",
       " (0.03524733078396398, 2612),\n",
       " (0.03524733078396398, 2028),\n",
       " (0.03524733078396398, 1829),\n",
       " (0.03484409055918241, 640),\n",
       " (0.03461334890585927, 3462),\n",
       " (0.03461334890585927, 3345),\n",
       " (0.03461334890585927, 2553),\n",
       " (0.03461334890585927, 1920),\n",
       " (0.03461334890585927, 833),\n",
       " (0.03461334890585927, 412),\n",
       " (0.03461334890585927, 296),\n",
       " (0.034227326570719495, 1208),\n",
       " (0.033099248885234064, 2491),\n",
       " (0.03296681533583071, 466),\n",
       " (0.03288642469086977, 2407),\n",
       " (0.032434582868068086, 2180),\n",
       " (0.031857929151728075, 1736),\n",
       " (0.02956924360166562, 376),\n",
       " (0.02934402286432607, 2554),\n",
       " (0.029204315013003558, 3365),\n",
       " (0.029191621431779138, 2831),\n",
       " (0.028867743194521935, 855),\n",
       " (0.02883772859481348, 575),\n",
       " (0.02860466267337229, 1600),\n",
       " (0.027999733028836755, 1762),\n",
       " (0.02696696000420211, 1371),\n",
       " (0.026889646661987864, 321),\n",
       " (0.026848854438361075, 3487),\n",
       " (0.026848854438361075, 761),\n",
       " (0.025884309246790478, 1148),\n",
       " (0.025560424915188694, 1103),\n",
       " (0.025280037965845787, 1129),\n",
       " (0.024891830188086626, 2200),\n",
       " (0.024717483192730174, 736),\n",
       " (0.024474794289391946, 1797),\n",
       " (0.02438161250608516, 2858),\n",
       " (0.02430837483942531, 97),\n",
       " (0.02411008568346284, 201),\n",
       " (0.022723583369055736, 3001),\n",
       " (0.022362970285982515, 1235),\n",
       " (0.021774882375126925, 2909),\n",
       " (0.021174077008150476, 2132),\n",
       " (0.021100369875404302, 2372),\n",
       " (0.020364278982924585, 1805),\n",
       " (0.02019403097067397, 2419),\n",
       " (0.020086127345392737, 344),\n",
       " (0.019243384347205517, 2369),\n",
       " (0.019023316350445595, 1219),\n",
       " (0.017408922297177637, 3361),\n",
       " (0.01712429167302227, 1871),\n",
       " (0.016518483757705787, 1676),\n",
       " (0.016509792306013328, 3141),\n",
       " (0.01613388867423313, 3519),\n",
       " (0.01609733648596572, 2551),\n",
       " (0.015274193088461016, 2840),\n",
       " (0.015249924744102526, 3512),\n",
       " (0.014537812684437195, 2556),\n",
       " (0.013627112835828688, 1964),\n",
       " (0.013195673740419796, 901),\n",
       " (0.012313613069181781, 975),\n",
       " (0.012123068504583216, 2366),\n",
       " (0.011665904635966978, 3002),\n",
       " ...]"
      ]
     },
     "execution_count": 67,
     "metadata": {},
     "output_type": "execute_result"
    }
   ],
   "source": [
    "# 위에거는 상위 n개의 긍정적인 인덱스, 아래거는 상위 n개의 부정적인 인덱스\n",
    "coef_pos_index = sorted(((value, index) for index, value in enumerate(lr.coef_[0])), reverse=True)\n",
    "coef_neg_index = sorted(((value, index) for index, value in enumerate(lr.coef_[0])), reverse=False)\n",
    "coef_pos_index"
   ]
  },
  {
   "cell_type": "code",
   "execution_count": 68,
   "metadata": {
    "id": "bQuDlc-GFbwJ"
   },
   "outputs": [],
   "source": [
    "invert_index_vectorizer = {v: k for k, v in vect.vocabulary_.items()}"
   ]
  },
  {
   "cell_type": "code",
   "execution_count": 69,
   "metadata": {
    "colab": {
     "base_uri": "https://localhost:8080/"
    },
    "executionInfo": {
     "elapsed": 17,
     "status": "ok",
     "timestamp": 1631020644491,
     "user": {
      "displayName": "버물리",
      "photoUrl": "https://lh3.googleusercontent.com/a-/AOh14GjgbxaibZdpXcYXkRpN6pP-emIEzMQGGxk60Z1z=s64",
      "userId": "16343119817703036426"
     },
     "user_tz": -540
    },
    "id": "eHkWYQM0FdNU",
    "outputId": "559b32cb-0152-4b58-b294-10cef2218434"
   },
   "outputs": [
    {
     "name": "stdout",
     "output_type": "stream",
     "text": [
      "추천 1.1379990053157751\n",
      "이용 1.0164465974550647\n",
      "버스 0.9405458540487459\n",
      "주차 0.8745107493249263\n",
      "근처 0.8672669340774827\n",
      "최고 0.8001085587143182\n",
      "맛집 0.789403923209261\n",
      "해변 0.7187105784685\n",
      "거리 0.6789785618013464\n",
      "다음 0.6689937719076731\n",
      "바로 0.6441271016385622\n",
      "레스토랑 0.6156731678061048\n",
      "위치 0.6029100531407857\n",
      "걱정 0.5916405309366287\n",
      "게스트하우스 0.570186297892694\n"
     ]
    }
   ],
   "source": [
    "# 51번 라인에 나온 인덱스 2997번, 385번을 단어로 바꾸는 과정.\n",
    "for coef in coef_pos_index[:15]:\n",
    "    print(invert_index_vectorizer[coef[1]], coef[0])"
   ]
  },
  {
   "cell_type": "code",
   "execution_count": 70,
   "metadata": {
    "colab": {
     "base_uri": "https://localhost:8080/"
    },
    "executionInfo": {
     "elapsed": 8,
     "status": "ok",
     "timestamp": 1631020644492,
     "user": {
      "displayName": "버물리",
      "photoUrl": "https://lh3.googleusercontent.com/a-/AOh14GjgbxaibZdpXcYXkRpN6pP-emIEzMQGGxk60Z1z=s64",
      "userId": "16343119817703036426"
     },
     "user_tz": -540
    },
    "id": "O0gRzUtXFeLX",
    "outputId": "0a4e658c-433a-4c9d-f286-edc4e3f986cd"
   },
   "outputs": [
    {
     "name": "stdout",
     "output_type": "stream",
     "text": [
      "냄새 -1.2524412105866294\n",
      "별로 -0.9308911337606388\n",
      "다른 -0.7287306614688313\n",
      "최악 -0.7057605180805001\n",
      "사람 -0.6984795448679344\n",
      "노후 -0.6546522451320259\n",
      "그냥 -0.6034071546472016\n",
      "계속 -0.5833038313582207\n",
      "수건 -0.5706545831742696\n",
      "아무 -0.5550056957677587\n",
      "주위 -0.5537656966978138\n",
      "취소 -0.5469846887343114\n",
      "비교 -0.5283693891791524\n",
      "모기 -0.5209165518532551\n",
      "대부분 -0.5158215649476727\n"
     ]
    }
   ],
   "source": [
    "for coef in coef_neg_index[:15]:\n",
    "    print(invert_index_vectorizer[coef[1]], coef[0])"
   ]
  },
  {
   "cell_type": "code",
   "execution_count": null,
   "metadata": {
    "id": "fF8BtpB_FfkB"
   },
   "outputs": [],
   "source": []
  }
 ],
 "metadata": {
  "colab": {
   "collapsed_sections": [],
   "name": "04_sentimental_analysis_(for_student).ipynb",
   "provenance": [],
   "toc_visible": true
  },
  "kernelspec": {
   "display_name": "Python 3 (ipykernel)",
   "language": "python",
   "name": "python3"
  },
  "language_info": {
   "codemirror_mode": {
    "name": "ipython",
    "version": 3
   },
   "file_extension": ".py",
   "mimetype": "text/x-python",
   "name": "python",
   "nbconvert_exporter": "python",
   "pygments_lexer": "ipython3",
   "version": "3.10.9"
  }
 },
 "nbformat": 4,
 "nbformat_minor": 1
}
