{
 "cells": [
  {
   "cell_type": "code",
   "execution_count": 15,
   "id": "77c9725b",
   "metadata": {},
   "outputs": [],
   "source": [
    "# 필수 라이브러리 호출\n",
    "import pandas as pd\n",
    "import numpy as np\n",
    "\n",
    "from sklearn.model_selection import train_test_split\n",
    "from sklearn.model_selection import cross_val_score\n",
    "from sklearn.preprocessing import LabelEncoder\n",
    "from sklearn.tree import DecisionTreeClassifier\n",
    "from sklearn.metrics import accuracy_score"
   ]
  },
  {
   "cell_type": "code",
   "execution_count": 6,
   "id": "5dcade26",
   "metadata": {},
   "outputs": [],
   "source": [
    "# 데이터 정의\n",
    "st_default_org = pd.read_csv('../CSV/st_default/st_default.csv')\n",
    "st_default_df = st_default_org.iloc[:, 1:]"
   ]
  },
  {
   "cell_type": "code",
   "execution_count": 7,
   "id": "141849e6",
   "metadata": {},
   "outputs": [
    {
     "name": "stdout",
     "output_type": "stream",
     "text": [
      "<class 'pandas.core.frame.DataFrame'>\n",
      "RangeIndex: 10000 entries, 0 to 9999\n",
      "Data columns (total 4 columns):\n",
      " #   Column   Non-Null Count  Dtype  \n",
      "---  ------   --------------  -----  \n",
      " 0   default  10000 non-null  object \n",
      " 1   student  10000 non-null  object \n",
      " 2   balance  10000 non-null  float64\n",
      " 3   income   10000 non-null  float64\n",
      "dtypes: float64(2), object(2)\n",
      "memory usage: 312.6+ KB\n"
     ]
    }
   ],
   "source": [
    "# train_test_split 하기 전에 문자형 데이터들 변경 - 1)레이블 vs 2) one-hot\n",
    "# 그런데 y_label의 경우 default를 예측하는 값이므로 이 값은 label\n",
    "# 나머지 student는 get_dummies()\n",
    "\n",
    "# X_data = st_default_df1.drop('default', axis=1)\n",
    "# y_target = st_default_df1['default']\n",
    "\n",
    "x_data = st_default_df.iloc[:, 1:]\n",
    "y_label = st_default_df['default']\n",
    "\n",
    "# EDA를 통한 데이터 확인\n",
    "st_default_df.info()"
   ]
  },
  {
   "cell_type": "code",
   "execution_count": 10,
   "id": "04e54e02",
   "metadata": {},
   "outputs": [
    {
     "data": {
      "text/html": [
       "<div>\n",
       "<style scoped>\n",
       "    .dataframe tbody tr th:only-of-type {\n",
       "        vertical-align: middle;\n",
       "    }\n",
       "\n",
       "    .dataframe tbody tr th {\n",
       "        vertical-align: top;\n",
       "    }\n",
       "\n",
       "    .dataframe thead th {\n",
       "        text-align: right;\n",
       "    }\n",
       "</style>\n",
       "<table border=\"1\" class=\"dataframe\">\n",
       "  <thead>\n",
       "    <tr style=\"text-align: right;\">\n",
       "      <th></th>\n",
       "      <th>balance</th>\n",
       "      <th>income</th>\n",
       "    </tr>\n",
       "  </thead>\n",
       "  <tbody>\n",
       "    <tr>\n",
       "      <th>count</th>\n",
       "      <td>10000.000000</td>\n",
       "      <td>10000.000000</td>\n",
       "    </tr>\n",
       "    <tr>\n",
       "      <th>mean</th>\n",
       "      <td>835.374886</td>\n",
       "      <td>33516.981876</td>\n",
       "    </tr>\n",
       "    <tr>\n",
       "      <th>std</th>\n",
       "      <td>483.714985</td>\n",
       "      <td>13336.639563</td>\n",
       "    </tr>\n",
       "    <tr>\n",
       "      <th>min</th>\n",
       "      <td>0.000000</td>\n",
       "      <td>771.967729</td>\n",
       "    </tr>\n",
       "    <tr>\n",
       "      <th>25%</th>\n",
       "      <td>481.731105</td>\n",
       "      <td>21340.462905</td>\n",
       "    </tr>\n",
       "    <tr>\n",
       "      <th>50%</th>\n",
       "      <td>823.636973</td>\n",
       "      <td>34552.644800</td>\n",
       "    </tr>\n",
       "    <tr>\n",
       "      <th>75%</th>\n",
       "      <td>1166.308387</td>\n",
       "      <td>43807.729275</td>\n",
       "    </tr>\n",
       "    <tr>\n",
       "      <th>max</th>\n",
       "      <td>2654.322576</td>\n",
       "      <td>73554.233500</td>\n",
       "    </tr>\n",
       "  </tbody>\n",
       "</table>\n",
       "</div>"
      ],
      "text/plain": [
       "            balance        income\n",
       "count  10000.000000  10000.000000\n",
       "mean     835.374886  33516.981876\n",
       "std      483.714985  13336.639563\n",
       "min        0.000000    771.967729\n",
       "25%      481.731105  21340.462905\n",
       "50%      823.636973  34552.644800\n",
       "75%     1166.308387  43807.729275\n",
       "max     2654.322576  73554.233500"
      ]
     },
     "execution_count": 10,
     "metadata": {},
     "output_type": "execute_result"
    }
   ],
   "source": [
    "x_data.describe()"
   ]
  },
  {
   "cell_type": "code",
   "execution_count": 11,
   "id": "ddca1ab9",
   "metadata": {},
   "outputs": [
    {
     "name": "stdout",
     "output_type": "stream",
     "text": [
      "X_data의 크기: 10000\n",
      "y_target의 크기: 10000\n"
     ]
    }
   ],
   "source": [
    "# 크기 확인 \n",
    "# print('X_data의 크기:', X_data.shape[0])\n",
    "# print('y_target의 크기:', y_target.shape[0])\n",
    "\n",
    "print('X_data의 크기:', x_data.shape[0])\n",
    "print('y_target의 크기:', y_label.shape[0])"
   ]
  },
  {
   "cell_type": "code",
   "execution_count": 14,
   "id": "2f10afdc",
   "metadata": {},
   "outputs": [
    {
     "data": {
      "text/html": [
       "<div>\n",
       "<style scoped>\n",
       "    .dataframe tbody tr th:only-of-type {\n",
       "        vertical-align: middle;\n",
       "    }\n",
       "\n",
       "    .dataframe tbody tr th {\n",
       "        vertical-align: top;\n",
       "    }\n",
       "\n",
       "    .dataframe thead th {\n",
       "        text-align: right;\n",
       "    }\n",
       "</style>\n",
       "<table border=\"1\" class=\"dataframe\">\n",
       "  <thead>\n",
       "    <tr style=\"text-align: right;\">\n",
       "      <th></th>\n",
       "      <th>balance</th>\n",
       "      <th>income</th>\n",
       "      <th>student_No</th>\n",
       "      <th>student_Yes</th>\n",
       "    </tr>\n",
       "  </thead>\n",
       "  <tbody>\n",
       "    <tr>\n",
       "      <th>0</th>\n",
       "      <td>729.526495</td>\n",
       "      <td>44361.62507</td>\n",
       "      <td>1</td>\n",
       "      <td>0</td>\n",
       "    </tr>\n",
       "    <tr>\n",
       "      <th>1</th>\n",
       "      <td>817.180407</td>\n",
       "      <td>12106.13470</td>\n",
       "      <td>0</td>\n",
       "      <td>1</td>\n",
       "    </tr>\n",
       "    <tr>\n",
       "      <th>2</th>\n",
       "      <td>1073.549164</td>\n",
       "      <td>31767.13895</td>\n",
       "      <td>1</td>\n",
       "      <td>0</td>\n",
       "    </tr>\n",
       "    <tr>\n",
       "      <th>3</th>\n",
       "      <td>529.250605</td>\n",
       "      <td>35704.49394</td>\n",
       "      <td>1</td>\n",
       "      <td>0</td>\n",
       "    </tr>\n",
       "    <tr>\n",
       "      <th>4</th>\n",
       "      <td>785.655883</td>\n",
       "      <td>38463.49588</td>\n",
       "      <td>1</td>\n",
       "      <td>0</td>\n",
       "    </tr>\n",
       "    <tr>\n",
       "      <th>...</th>\n",
       "      <td>...</td>\n",
       "      <td>...</td>\n",
       "      <td>...</td>\n",
       "      <td>...</td>\n",
       "    </tr>\n",
       "    <tr>\n",
       "      <th>9995</th>\n",
       "      <td>711.555020</td>\n",
       "      <td>52992.37891</td>\n",
       "      <td>1</td>\n",
       "      <td>0</td>\n",
       "    </tr>\n",
       "    <tr>\n",
       "      <th>9996</th>\n",
       "      <td>757.962918</td>\n",
       "      <td>19660.72177</td>\n",
       "      <td>1</td>\n",
       "      <td>0</td>\n",
       "    </tr>\n",
       "    <tr>\n",
       "      <th>9997</th>\n",
       "      <td>845.411989</td>\n",
       "      <td>58636.15698</td>\n",
       "      <td>1</td>\n",
       "      <td>0</td>\n",
       "    </tr>\n",
       "    <tr>\n",
       "      <th>9998</th>\n",
       "      <td>1569.009053</td>\n",
       "      <td>36669.11236</td>\n",
       "      <td>1</td>\n",
       "      <td>0</td>\n",
       "    </tr>\n",
       "    <tr>\n",
       "      <th>9999</th>\n",
       "      <td>200.922183</td>\n",
       "      <td>16862.95232</td>\n",
       "      <td>0</td>\n",
       "      <td>1</td>\n",
       "    </tr>\n",
       "  </tbody>\n",
       "</table>\n",
       "<p>10000 rows × 4 columns</p>\n",
       "</div>"
      ],
      "text/plain": [
       "          balance       income  student_No  student_Yes\n",
       "0      729.526495  44361.62507           1            0\n",
       "1      817.180407  12106.13470           0            1\n",
       "2     1073.549164  31767.13895           1            0\n",
       "3      529.250605  35704.49394           1            0\n",
       "4      785.655883  38463.49588           1            0\n",
       "...           ...          ...         ...          ...\n",
       "9995   711.555020  52992.37891           1            0\n",
       "9996   757.962918  19660.72177           1            0\n",
       "9997   845.411989  58636.15698           1            0\n",
       "9998  1569.009053  36669.11236           1            0\n",
       "9999   200.922183  16862.95232           0            1\n",
       "\n",
       "[10000 rows x 4 columns]"
      ]
     },
     "execution_count": 14,
     "metadata": {},
     "output_type": "execute_result"
    }
   ],
   "source": [
    "# X_data_df = pd.get_dummies(X_data)\n",
    "\n",
    "# 문자들을 숫자로 변환한다. - 1) 그냥 문자(학생) 컬럼 없애면 ? O.K. vs\n",
    "#                             2) 문자 -> one-hot // Label Encoding\n",
    "\n",
    "x_data_df = pd.get_dummies(x_data) # one-hot :: 문자 -> 레이블 -> 원핫 :: ndarray\n",
    "x_data_df"
   ]
  },
  {
   "cell_type": "code",
   "execution_count": 19,
   "id": "49a8e74d",
   "metadata": {},
   "outputs": [
    {
     "data": {
      "text/plain": [
       "0    9667\n",
       "1     333\n",
       "dtype: int64"
      ]
     },
     "execution_count": 19,
     "metadata": {},
     "output_type": "execute_result"
    }
   ],
   "source": [
    "# y_값에 label encoding\n",
    "\n",
    "# from sklearn.preprocessing import LabelEncoder\n",
    "\n",
    "# le_encode = LabelEncoder()\n",
    "# y_target_scaled = le_encode.fit_transform(y_target)\n",
    "\n",
    "encode = LabelEncoder()\n",
    "y_label_scaled = encode.fit_transform(y_label)\n",
    "\n",
    "\n",
    "# imbalanced data\n",
    "# pd.Series(y_target_scaled).value_counts()\n",
    "\n",
    "# y_target값을 확인 = imbalanced_data :: 쏠림 데이터\n",
    "pd.Series(y_label_scaled).value_counts()\n",
    "\n",
    "# 333/10000 # 3.33% 부도낸 사람\n"
   ]
  },
  {
   "cell_type": "code",
   "execution_count": 29,
   "id": "20e09a6a",
   "metadata": {},
   "outputs": [],
   "source": [
    "# 데이터 분할 - train_test_split\n",
    "# X_train, X_test, y_train, y_test = train_test_split(X_data_df, y_target_scaled, stratify=y_target_scaled)\n",
    "x_train, x_test, y_train, y_test = train_test_split(x_data_df, y_label_scaled, stratify=y_label_scaled)\n"
   ]
  },
  {
   "cell_type": "code",
   "execution_count": 32,
   "id": "abf47c0f",
   "metadata": {},
   "outputs": [],
   "source": [
    "# 의사결정나무 적용\n",
    "dt_clf = DecisionTreeClassifier()\n",
    "dt_clf.fit(x_train, y_train)\n",
    "\n",
    "y_pred = dt_clf.predict(x_test)"
   ]
  },
  {
   "cell_type": "code",
   "execution_count": 33,
   "id": "a940ad9e",
   "metadata": {},
   "outputs": [
    {
     "name": "stdout",
     "output_type": "stream",
     "text": [
      "정확도는 :0.9532\n"
     ]
    }
   ],
   "source": [
    "# 평가지표\n",
    "\n",
    "print(f'정확도는 :{accuracy_score(y_pred,y_test)}') "
   ]
  },
  {
   "cell_type": "markdown",
   "id": "e4aac6f2",
   "metadata": {},
   "source": [
    "#### 배우신 분들을 위한 내용"
   ]
  },
  {
   "cell_type": "code",
   "execution_count": 40,
   "id": "4dbfd246",
   "metadata": {},
   "outputs": [
    {
     "name": "stdout",
     "output_type": "stream",
     "text": [
      "교차 검증별 정확도:[0.9587 0.9507 0.96   0.944  0.964  0.9533 0.9573 0.9533 0.948  0.9493]\n",
      "평균 검증별 정확도:0.9539\n"
     ]
    }
   ],
   "source": [
    "# 1. 교차검증을 수행\n",
    "from sklearn.model_selection import cross_val_score\n",
    "\n",
    "# scores = cross_val_score(dt_clf, x_data_df, y_label_scaled, scoring='accuracy', cv=10)\n",
    "scores = cross_val_score(dt_clf, x_train, y_train, scoring='accuracy', cv=10)\n",
    "\n",
    "print(f'교차 검증별 정확도:{np.round(scores, 4)}')\n",
    "print(f'평균 검증별 정확도:{np.round(np.mean(scores), 4)}')"
   ]
  },
  {
   "cell_type": "code",
   "execution_count": null,
   "id": "df91f1dd",
   "metadata": {},
   "outputs": [],
   "source": [
    "# 2. 하이퍼파라미터 튜닝을 수행\n",
    "from sklearn.model_selection import GridSearchCV\n",
    "\n",
    "parameters = {'max_depth':[3,4,5,6,7,10],\n",
    "              'min_samples_split':[2,3,5,10],}\n",
    "grid_dtree = GridSearchCV(dt_clf, param_grid=parameters, cv=10, refit=True)\n",
    "grid_dtree.fit(X_train,y_train)"
   ]
  },
  {
   "cell_type": "code",
   "execution_count": null,
   "id": "d19033e8",
   "metadata": {},
   "outputs": [],
   "source": [
    "estimator = grid_dtree.best_estimator_\n",
    "\n",
    "# pred_gird = grid_dtree.best_estimator_.predict(X_test)\n",
    "pred_grid = estimator.predict(X_test)\n",
    "print(f'test datasets accuracy:{accuracy_score(y_test,pred_grid)}')\n",
    "grid_dtree"
   ]
  },
  {
   "cell_type": "code",
   "execution_count": null,
   "id": "1a99c68e",
   "metadata": {},
   "outputs": [],
   "source": [
    "# 1. 왜 데이터의 해당하는 정확도 값이 높게 나왔을까요?\n",
    "## 데이터의 편향이 높아서?\n",
    "# 2. 데이터는 어떠한 특징을 지니고 있나요?\n",
    "## \n",
    "# 3. 데이터에는 어떠한 문제점이 있나요?\n",
    "## 학습을 할 때, 데이터의 편향 때문에 정확한 결과값이 나오지 않음\n",
    "# 4. 그렇다면 이러한 문제점을 해결하기 위한 방안은 무엇이 있을까요?\n",
    "# [1] oversampling vs undersampling\n",
    "# [2] Data augementation - 이미지 분석\n",
    "# [3] get more data\n",
    "# [4] change our metrics - precision / recall / f1-score / roc_auc\n"
   ]
  },
  {
   "cell_type": "code",
   "execution_count": null,
   "id": "f92f8e97",
   "metadata": {},
   "outputs": [],
   "source": [
    "# end of file"
   ]
  }
 ],
 "metadata": {
  "kernelspec": {
   "display_name": "Python 3 (ipykernel)",
   "language": "python",
   "name": "python3"
  },
  "language_info": {
   "codemirror_mode": {
    "name": "ipython",
    "version": 3
   },
   "file_extension": ".py",
   "mimetype": "text/x-python",
   "name": "python",
   "nbconvert_exporter": "python",
   "pygments_lexer": "ipython3",
   "version": "3.7.16"
  }
 },
 "nbformat": 4,
 "nbformat_minor": 5
}
