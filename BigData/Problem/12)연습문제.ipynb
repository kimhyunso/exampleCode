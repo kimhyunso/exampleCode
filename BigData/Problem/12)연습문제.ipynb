{
 "cells": [
  {
   "cell_type": "code",
   "execution_count": 4,
   "id": "64f136e9",
   "metadata": {},
   "outputs": [
    {
     "data": {
      "text/plain": [
       "0.9536"
      ]
     },
     "execution_count": 4,
     "metadata": {},
     "output_type": "execute_result"
    }
   ],
   "source": [
    "import pandas as pd\n",
    "import numpy as np\n",
    "from sklearn.tree import DecisionTreeClassifier\n",
    "from sklearn.model_selection import train_test_split\n",
    "from sklearn.metrics import accuracy_score as acc_sc\n",
    "from sklearn.preprocessing import LabelEncoder\n",
    "\n",
    "\n",
    "\n",
    "default_df = pd.read_csv('./st_default.csv')\n",
    "encoding = LabelEncoder()\n",
    "default_df['student'] = encoding.fit_transform(default_df['student'])\n",
    "default_df['default'] = encoding.fit_transform(default_df['default'])\n",
    "\n",
    "dtc = DecisionTreeClassifier()\n",
    "\n",
    "default_df = default_df.iloc[:, 1:]\n",
    "\n",
    "x_data = default_df.drop('default', axis=1)\n",
    "y_label = default_df['default']\n",
    "\n",
    "x_train, x_test, y_train, y_test = train_test_split(x_data, y_label, stratify=y_label)\n",
    "\n",
    "\n",
    "dtc.fit(x_train, y_train)\n",
    "y_predict = dtc.predict(x_test)\n",
    "\n",
    "acc_sc(y_predict, y_test)\n",
    "# y_label.value_counts()"
   ]
  },
  {
   "cell_type": "code",
   "execution_count": null,
   "id": "7ea4c202",
   "metadata": {},
   "outputs": [],
   "source": [
    "\n"
   ]
  }
 ],
 "metadata": {
  "kernelspec": {
   "display_name": "Python 3 (ipykernel)",
   "language": "python",
   "name": "python3"
  },
  "language_info": {
   "codemirror_mode": {
    "name": "ipython",
    "version": 3
   },
   "file_extension": ".py",
   "mimetype": "text/x-python",
   "name": "python",
   "nbconvert_exporter": "python",
   "pygments_lexer": "ipython3",
   "version": "3.7.16"
  }
 },
 "nbformat": 4,
 "nbformat_minor": 5
}
