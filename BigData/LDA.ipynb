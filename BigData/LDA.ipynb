{
 "cells": [
  {
   "cell_type": "code",
   "execution_count": 14,
   "id": "3ed20c95",
   "metadata": {},
   "outputs": [],
   "source": [
    "import pandas as pd\n",
    "import numpy as np\n",
    "from soynlp.tokenizer import MaxScoreTokenizer\n",
    "from soynlp.noun import LRNounExtractor_v2\n",
    "from soynlp.utils import DoublespaceLineCorpus\n",
    "from konlpy.tag import Okt\n",
    "\n",
    "# LDA_df = pd.read_csv('./archive/abcnews-date-text.csv', engine='python', encoding='utf-8')\n",
    "# LDA_df\n",
    "chim_comment_df = pd.read_csv('../../coper-project/데이터/침착맨_commets.csv', engine='python', encoding='utf-8')\n",
    "# chim_comment_df\n",
    "okt = Okt()\n"
   ]
  },
  {
   "cell_type": "code",
   "execution_count": 19,
   "id": "a63f13af",
   "metadata": {},
   "outputs": [],
   "source": [
    "import re\n",
    "\n",
    "def drop_text(text):\n",
    "     return re.sub('ㅋ', '', text)\n",
    "\n",
    "chim_comment_df.comment = chim_comment_df.comment.apply(drop_text)"
   ]
  },
  {
   "cell_type": "code",
   "execution_count": null,
   "id": "71d4362b",
   "metadata": {
    "scrolled": true
   },
   "outputs": [],
   "source": [
    "chim_comment_df.comment.apply(okt.pos)"
   ]
  },
  {
   "cell_type": "code",
   "execution_count": null,
   "id": "338dd876",
   "metadata": {},
   "outputs": [],
   "source": []
  },
  {
   "cell_type": "code",
   "execution_count": 163,
   "id": "42b7a60b",
   "metadata": {
    "scrolled": false
   },
   "outputs": [
    {
     "name": "stdout",
     "output_type": "stream",
     "text": [
      "[Noun Extractor] use default predictors\n",
      "[Noun Extractor] num features: pos=3929, neg=2321, common=107\n",
      "[Noun Extractor] counting eojeols\n",
      "[EojeolCounter] n eojeol = 186689 from 323502 sents. mem=7.289 Gb                    \n",
      "[Noun Extractor] complete eojeol counter -> lr graph\n",
      "[Noun Extractor] has been trained. #eojeols=207334, mem=7.097 Gb\n",
      "[Noun Extractor] batch prediction was completed for 26669 words\n",
      "[Noun Extractor] checked compounds. discovered 1260 compounds\n",
      "[Noun Extractor] postprocessing detaching_features : 2774 -> 2643\n",
      "[Noun Extractor] postprocessing ignore_features : 2643 -> 2625\n",
      "[Noun Extractor] postprocessing ignore_NJ : 2625 -> 2625\n",
      "[Noun Extractor] 2625 nouns (1260 compounds) with min frequency=1\n",
      "[Noun Extractor] flushing was done. mem=7.263 Gb                    \n",
      "[Noun Extractor] 11.59 % eojeols are covered\n"
     ]
    }
   ],
   "source": [
    "corpus = DoublespaceLineCorpus(chim_comment_df.comment)\n",
    "noun_extractor = LRNounExtractor_v2(verbose=True)\n",
    "nouns = noun_extractor.train_extract(chim_comment_df.comment)"
   ]
  },
  {
   "cell_type": "code",
   "execution_count": 165,
   "id": "fb876c9a",
   "metadata": {},
   "outputs": [
    {
     "data": {
      "text/plain": [
       "0                                              [침소리와궤소리의만남]\n",
       "1                                               [이날따라침방장왜케]\n",
       "2         [오늘, 영상을요약하자면안드, 로이드는전기양의꿈을, 꾸는가입니다아아필립, 딕선생선생...\n",
       "3                                           [궤도, 님기계가분명합니다]\n",
       "4                                        [월드컵, 특강, 너무, 좋은데]\n",
       "                                ...                        \n",
       "323497                                 [아재게임피지컬ㅁㅊㄷ, ㅁㅊ, 답답]\n",
       "323498                                    [초반부설명하는거웰케, 웃겨요]\n",
       "323499                                                 [침하]\n",
       "323500                                           [캬갓겜을이제서야]\n",
       "323501                                                 [침하]\n",
       "Name: comment, Length: 323502, dtype: object"
      ]
     },
     "execution_count": 165,
     "metadata": {},
     "output_type": "execute_result"
    }
   ],
   "source": [
    "scores = {word:nounscore.score for word, nounscore in nouns.items()}\n",
    "maxscore_tokenizer = MaxScoreTokenizer(scores=scores)\n",
    "corpus.corpus_fname.apply(lambda x : maxscore_tokenizer.tokenize(x) if len(x) > 1 else '')"
   ]
  },
  {
   "cell_type": "code",
   "execution_count": null,
   "id": "0b5ce2e9",
   "metadata": {},
   "outputs": [],
   "source": []
  }
 ],
 "metadata": {
  "kernelspec": {
   "display_name": "Python 3 (ipykernel)",
   "language": "python",
   "name": "python3"
  },
  "language_info": {
   "codemirror_mode": {
    "name": "ipython",
    "version": 3
   },
   "file_extension": ".py",
   "mimetype": "text/x-python",
   "name": "python",
   "nbconvert_exporter": "python",
   "pygments_lexer": "ipython3",
   "version": "3.10.9"
  }
 },
 "nbformat": 4,
 "nbformat_minor": 5
}
