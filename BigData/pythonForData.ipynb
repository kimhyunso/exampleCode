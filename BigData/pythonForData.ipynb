{
 "cells": [
  {
   "cell_type": "code",
   "execution_count": 2,
   "id": "9fe09113",
   "metadata": {},
   "outputs": [],
   "source": [
    "import numpy as np\n",
    "import pandas as pd"
   ]
  },
  {
   "cell_type": "code",
   "execution_count": null,
   "id": "e36a0d54",
   "metadata": {},
   "outputs": [],
   "source": [
    "%%timeit\n",
    "x = 5\n",
    "y = 7\n",
    "if x > 5:\n",
    "    x += 1\n",
    "    y = 8\n"
   ]
  },
  {
   "cell_type": "code",
   "execution_count": null,
   "id": "b5694799",
   "metadata": {},
   "outputs": [],
   "source": [
    "%matplotlib"
   ]
  },
  {
   "cell_type": "code",
   "execution_count": null,
   "id": "d5c64387",
   "metadata": {},
   "outputs": [],
   "source": [
    "# getattr('a a b s' ,'split')\n",
    "# hasattr('abd ', 'sum')"
   ]
  },
  {
   "cell_type": "code",
   "execution_count": null,
   "id": "4ee8ced2",
   "metadata": {},
   "outputs": [],
   "source": [
    "iter('test')\n",
    "\n",
    "def isiterable(obj):\n",
    "    try:\n",
    "        iter(obj)\n",
    "        return True\n",
    "    except:\n",
    "        return False\n",
    "\n",
    "x = 123\n",
    "\n",
    "if not isinstance(x, list) and isiterable(x):\n",
    "    x = list(x)\n",
    "\n",
    "\n"
   ]
  },
  {
   "cell_type": "code",
   "execution_count": null,
   "id": "cd848734",
   "metadata": {},
   "outputs": [],
   "source": [
    "a = [1, 2, 3]\n",
    "\n",
    "b = list(a)\n",
    "\n",
    "c = a\n",
    "\n",
    "\n",
    "a is b\n",
    "# a == b"
   ]
  },
  {
   "cell_type": "code",
   "execution_count": null,
   "id": "f17260b5",
   "metadata": {},
   "outputs": [],
   "source": [
    "test = 'a\\n\\a\\b'\n",
    "test_r = r'a\\n\\a\\b'\n",
    "\n",
    "\n",
    "test\n",
    "\n",
    "test_r"
   ]
  },
  {
   "cell_type": "code",
   "execution_count": null,
   "id": "70fbafa8",
   "metadata": {},
   "outputs": [],
   "source": [
    "template = '{0:.2f} {1:s} test {2:d}'\n",
    "template.format(4.556, 'Argentine Persos', 1)"
   ]
  },
  {
   "cell_type": "code",
   "execution_count": null,
   "id": "0ab76f6e",
   "metadata": {},
   "outputs": [],
   "source": [
    "val = 'espanol'\n",
    "b = val.encode('utf-8')\n",
    "\n",
    "# b.decode('utf-8')\n",
    "\n"
   ]
  },
  {
   "cell_type": "code",
   "execution_count": null,
   "id": "de5a4a6f",
   "metadata": {},
   "outputs": [],
   "source": [
    "# import pandas as pd\n",
    "\n",
    "# video_df = pd.read_csv('../../coper-project/data/침착맨_videos.csv', encoding='utf-8' , engine='python')\n",
    "\n",
    "my_name = 'my name is tester'\n",
    "tup_name = tuple(my_name)\n",
    "\n",
    "\n",
    "t = [[1, 2, 3]]\n",
    "\n",
    "\n",
    "tuple_test = tuple(t) * 4\n",
    "\n",
    "\n",
    "# tuple_test[0] is tuple_test[1]\n",
    "\n",
    "# tuple_test[0] is tuple_test[2]\n",
    "\n",
    "# tuple_test[0] is tuple_test[3]\n",
    "\n",
    "tuple_test[0].append(4)\n",
    "\n",
    "tuple_test"
   ]
  },
  {
   "cell_type": "code",
   "execution_count": null,
   "id": "c9864f90",
   "metadata": {},
   "outputs": [],
   "source": [
    "key = 1, 2, 3, 4\n",
    "value = 'a', 'b', 'c', 'd'\n",
    "\n",
    "{k : v for k, v in zip(key, value)}\n",
    "\n",
    "\n",
    "\n",
    "value = 1, 2, [3, 4]\n",
    "key = 'a', 'b', 'c', 'd'\n",
    "\n",
    "test = {k : v for k, v in zip(key, value)}\n"
   ]
  },
  {
   "cell_type": "code",
   "execution_count": null,
   "id": "425f41d5",
   "metadata": {},
   "outputs": [],
   "source": [
    "pitchars = [('Nolan', 'Pyan'), ('Roger', 'Clemens'), ('Schilling', 'Curt')]\n",
    "\n",
    "first_name, list_name = zip(*pitchars)\n"
   ]
  },
  {
   "cell_type": "code",
   "execution_count": null,
   "id": "3802c42a",
   "metadata": {
    "scrolled": false
   },
   "outputs": [],
   "source": [
    "from collections import defaultdict\n",
    "\n",
    "words = ['apple', 'bat', 'bar', 'atom', 'book']\n",
    "\n",
    "by_letter = defaultdict(list)\n",
    "\n",
    "for word in words:\n",
    "    by_letter[word[0]].append(word)\n",
    "by_letter"
   ]
  },
  {
   "cell_type": "code",
   "execution_count": null,
   "id": "3a513fa5",
   "metadata": {},
   "outputs": [],
   "source": [
    "tuples = [(1, 2, 3), (4, 5, 6), (7, 8, 9)]\n",
    "\n",
    "a = [x for tup in tuples for x in tup]\n",
    "\n",
    "dicts = [{'1' : 1, '2' : 2, '3' : 3}, {'5' : 6, '고양이' : '야옹'}, {'강아지' : '멍멍'}]\n",
    "\n",
    "\n",
    "test = {k : v for value in dicts for k, v in value.items()}\n",
    "\n",
    "\n",
    "\n",
    "numbers = [['1', '2', '4'], ['5', '6', '8'], ['3', '9', '0', '4']]\n",
    "\n",
    "\n",
    "x = [x for number in numbers for x in number]\n",
    "\n",
    "x"
   ]
  },
  {
   "cell_type": "code",
   "execution_count": null,
   "id": "245450cf",
   "metadata": {},
   "outputs": [],
   "source": [
    "tup = (1, 2, 3, 5, 6, 7, 8)\n",
    "*x, y, z = tup\n",
    "# result x : [1, 2, 3, 4, 5, 6], y : 7, z : 8\n",
    "print(f'x : {x}, y : {y}, z : {z}')"
   ]
  },
  {
   "cell_type": "code",
   "execution_count": null,
   "id": "9305e1cb",
   "metadata": {},
   "outputs": [],
   "source": [
    "import re\n",
    "def remove_punctuation(value):\n",
    "    return re.sub('[!?#@^0-9]', '', value)\n",
    "\n",
    "ops = [str.strip, str.title, remove_punctuation]\n",
    "\n",
    "\n",
    "def clean_text(strings, ops):\n",
    "    result = []\n",
    "    for value in strings:\n",
    "        for function in ops:\n",
    "            value = function(value)\n",
    "        result.append(value)\n",
    "    return result\n",
    "\n",
    "\n",
    "text = ['qweasda', 'ewqewqe#!', 'ewqeqe0ldasd', '3eee2adas89', '4#!@adasdasd']\n",
    "clean_text(text, ops)"
   ]
  },
  {
   "cell_type": "code",
   "execution_count": 5,
   "id": "022a5c6f",
   "metadata": {},
   "outputs": [
    {
     "data": {
      "text/plain": [
       "7"
      ]
     },
     "execution_count": 5,
     "metadata": {},
     "output_type": "execute_result"
    }
   ],
   "source": [
    "def add_numbers(x, y):\n",
    "    return x + y\n",
    "\n",
    "# add_five = lambda y : add_numbers(5, y)\n",
    "\n",
    "# for i in range(1, 6):\n",
    "#     number = add_five(i)\n",
    "#     print(number)\n",
    "    \n",
    "from functools import partial\n",
    "add_five = partial(add_numbers, 5)\n",
    "\n",
    "# for i in range(1, 6):\n",
    "#     number = add_five(i)\n",
    "#     print(number)\n",
    "\n",
    "add_five(2)"
   ]
  },
  {
   "cell_type": "code",
   "execution_count": null,
   "id": "b0e6b84a",
   "metadata": {},
   "outputs": [],
   "source": [
    "some_dict = {'a' : 1, 'b' : 2, 'c' : 23}\n",
    "\n",
    "dict_iterator = iter(some_dict)\n",
    "\n",
    "list(dict_iterator)\n",
    "\n",
    "def squares(n=10):\n",
    "    print('Generating squares from 1 to {0}.'.format(n ** 2))\n",
    "    for i in range(1, n+1):\n",
    "        yield i ** 2\n",
    "        \n",
    "gen = squares()\n",
    "\n",
    "    \n",
    "my_list = [i for i in gen]\n",
    "my_list"
   ]
  },
  {
   "cell_type": "code",
   "execution_count": null,
   "id": "99f8704e",
   "metadata": {},
   "outputs": [],
   "source": [
    "gen = (i ** 2 for i in range(5))\n",
    "\n",
    "for i in gen:\n",
    "    print(i)"
   ]
  },
  {
   "cell_type": "code",
   "execution_count": null,
   "id": "85802d35",
   "metadata": {},
   "outputs": [],
   "source": [
    "new_gen = (i ** 2 for i in range(10))\n",
    "\n",
    "sum(x ** 2 for i in range(10))"
   ]
  },
  {
   "cell_type": "code",
   "execution_count": null,
   "id": "a686a720",
   "metadata": {},
   "outputs": [],
   "source": [
    "import itertools\n",
    "\n",
    "first_text = lambda x : x[0]\n",
    "\n",
    "names = ['Alan', 'Adam', 'Wes', 'Will', 'Albert', 'Steven']\n",
    "\n",
    "# for text, names in itertools.groupby(names, first_text):\n",
    "#     print(text, list(names))\n",
    "\n",
    "# 6가지\n",
    "numbers = [1, 2, 3, 4]\n",
    "\n",
    "# 3가지\n",
    "numbers = [1, 2, 3]\n",
    "for text, numbers in itertools.combinations(numbers, 2):\n",
    "    print(text, numbers)"
   ]
  },
  {
   "cell_type": "code",
   "execution_count": 81,
   "id": "fdc01a2e",
   "metadata": {
    "scrolled": true
   },
   "outputs": [
    {
     "name": "stdout",
     "output_type": "stream",
     "text": [
      "30\n",
      "50\n"
     ]
    },
    {
     "ename": "AttributeError",
     "evalue": "'function' object has no attribute 'test'",
     "output_type": "error",
     "traceback": [
      "\u001b[1;31m---------------------------------------------------------------------------\u001b[0m",
      "\u001b[1;31mAttributeError\u001b[0m                            Traceback (most recent call last)",
      "Cell \u001b[1;32mIn[81], line 17\u001b[0m\n\u001b[0;32m     14\u001b[0m \u001b[38;5;28mprint\u001b[39m(mul3(\u001b[38;5;241m10\u001b[39m))\n\u001b[0;32m     15\u001b[0m \u001b[38;5;28mprint\u001b[39m(mul5(\u001b[38;5;241m10\u001b[39m))\n\u001b[1;32m---> 17\u001b[0m b \u001b[38;5;241m=\u001b[39m \u001b[43mmul\u001b[49m\u001b[38;5;241;43m.\u001b[39;49m\u001b[43mtest\u001b[49m(\u001b[38;5;241m10\u001b[39m)\n",
      "\u001b[1;31mAttributeError\u001b[0m: 'function' object has no attribute 'test'"
     ]
    }
   ],
   "source": [
    "def mul(m):\n",
    "    def test(self, a):\n",
    "        return a * 2\n",
    "    \n",
    "    def wrapper(n):\n",
    "        return m * n\n",
    "    return wrapper\n",
    "\n",
    "   \n",
    "        \n",
    "mul3 = mul(3)\n",
    "mul5 = mul(5)\n",
    "\n",
    "print(mul3(10))\n",
    "print(mul5(10))"
   ]
  },
  {
   "cell_type": "code",
   "execution_count": 58,
   "id": "95856ed5",
   "metadata": {},
   "outputs": [
    {
     "data": {
      "text/plain": [
       "[2, 4, 6]"
      ]
     },
     "execution_count": 58,
     "metadata": {},
     "output_type": "execute_result"
    }
   ],
   "source": [
    "def test(m):\n",
    "    def a(n:iter):\n",
    "        lists = [i for i in n if i%2==0]\n",
    "        return lists\n",
    "    return a\n",
    "\n",
    "\n",
    "test1 = test(2)\n",
    "test2 = test(3)\n",
    "\n",
    "test1([1, 2, 3, 4, 5, 6, 7])\n",
    "test2([2, 3, 4, 5, 6, 7])\n",
    "\n",
    "\n"
   ]
  },
  {
   "cell_type": "code",
   "execution_count": 65,
   "id": "c6e67863",
   "metadata": {},
   "outputs": [
    {
     "name": "stdout",
     "output_type": "stream",
     "text": [
      "CPU times: total: 15.6 ms\n",
      "Wall time: 13 ms\n"
     ]
    }
   ],
   "source": [
    "import numpy as np\n",
    "\n",
    "my_arr = np.arange(1000000)\n",
    "\n",
    "%time for _ in range(10): my_arr = my_arr * 2"
   ]
  },
  {
   "cell_type": "code",
   "execution_count": 64,
   "id": "b5998302",
   "metadata": {},
   "outputs": [
    {
     "name": "stdout",
     "output_type": "stream",
     "text": [
      "CPU times: total: 14.2 s\n",
      "Wall time: 14.2 s\n"
     ]
    }
   ],
   "source": [
    "my_list = list(range(1000000))\n",
    "\n",
    "%time for _ in range(10) : my_list = my_list * 2"
   ]
  },
  {
   "cell_type": "code",
   "execution_count": 67,
   "id": "26f7ba55",
   "metadata": {},
   "outputs": [
    {
     "data": {
      "text/plain": [
       "array([[-0.47264584, -1.50921392, -2.51945264],\n",
       "       [ 0.94167666, -1.19038988,  0.68814999]])"
      ]
     },
     "execution_count": 67,
     "metadata": {},
     "output_type": "execute_result"
    }
   ],
   "source": [
    "data = np.random.randn(2, 3)\n",
    "data * 10\n",
    "\n",
    "data + data"
   ]
  },
  {
   "cell_type": "code",
   "execution_count": 70,
   "id": "7ee4a97e",
   "metadata": {},
   "outputs": [
    {
     "data": {
      "text/plain": [
       "array([   4128860,    6029375,    3801155,    5570652,    6619251,\n",
       "          7536754, 4294901760, 4294967295], dtype=uint32)"
      ]
     },
     "execution_count": 70,
     "metadata": {},
     "output_type": "execute_result"
    }
   ],
   "source": [
    "empty_unit32 = np.empty(8, dtype='u4')\n",
    "\n",
    "# empty_unit32\n",
    "\n"
   ]
  },
  {
   "cell_type": "code",
   "execution_count": 71,
   "id": "2d7af6d6",
   "metadata": {},
   "outputs": [
    {
     "data": {
      "text/plain": [
       "'2.10.0'"
      ]
     },
     "execution_count": 71,
     "metadata": {},
     "output_type": "execute_result"
    }
   ],
   "source": [
    "import tensorflow\n",
    "\n",
    "tensorflow.__version__"
   ]
  },
  {
   "cell_type": "markdown",
   "id": "de67b1a6",
   "metadata": {},
   "source": [
    "## 브로드캐스팅"
   ]
  },
  {
   "cell_type": "code",
   "execution_count": 1,
   "id": "cae8ac53",
   "metadata": {},
   "outputs": [
    {
     "data": {
      "text/plain": [
       "array([ 0,  1,  2,  3,  4, 12, 12, 12,  8,  9])"
      ]
     },
     "execution_count": 1,
     "metadata": {},
     "output_type": "execute_result"
    }
   ],
   "source": [
    "import numpy as np\n",
    "arr = np.arange(10)\n",
    "arr[5:8] = 12\n",
    "arr"
   ]
  },
  {
   "cell_type": "code",
   "execution_count": 17,
   "id": "4259d1c4",
   "metadata": {},
   "outputs": [
    {
     "data": {
      "text/plain": [
       "array([    0,     1,     2,     3,     4,    12, 12345,    12,     8,\n",
       "           9])"
      ]
     },
     "execution_count": 17,
     "metadata": {},
     "output_type": "execute_result"
    }
   ],
   "source": [
    "# 뷰 : 원본배열에 그대로 반영\n",
    "arr_slice = arr[5:8]\n",
    "arr_slice[1] = 12345\n",
    "arr"
   ]
  },
  {
   "cell_type": "code",
   "execution_count": 39,
   "id": "5f8f7619",
   "metadata": {},
   "outputs": [],
   "source": [
    "arr = [[_ for _ in range(1, 4)], [_ for _ in range(4, 7)], [_ for _ in range(7, 10)]]\n"
   ]
  },
  {
   "cell_type": "code",
   "execution_count": 55,
   "id": "b27d4df2",
   "metadata": {},
   "outputs": [
    {
     "data": {
      "text/plain": [
       "array([[1],\n",
       "       [4]])"
      ]
     },
     "execution_count": 55,
     "metadata": {},
     "output_type": "execute_result"
    }
   ],
   "source": [
    "arr = np.array([[1, 2, 3], [4, 5, 6], [7, 8, 9]])\n",
    "\n",
    "\n",
    "'''\n",
    "    0  1  2\n",
    "0 [[1, 2, 3]\n",
    "1 [4, 5, 6]\n",
    "2 [7, 8, 9]]\n",
    "\n",
    "[n : m-1, n : m-1]\n",
    "'''\n",
    "\n",
    "arr[:1, :2]\n",
    "arr[:2, :1]\n",
    "\n"
   ]
  },
  {
   "cell_type": "code",
   "execution_count": 124,
   "id": "f0b17f05",
   "metadata": {},
   "outputs": [
    {
     "data": {
      "text/plain": [
       "array([[-0.69715769,  0.54772226,  0.7922781 ,  0.83140311],\n",
       "       [ 0.70170807, -0.11929893, -0.13396727, -0.40545753],\n",
       "       [ 1.33511197, -0.15734128,  0.6806282 ,  1.38417413]])"
      ]
     },
     "execution_count": 124,
     "metadata": {},
     "output_type": "execute_result"
    }
   ],
   "source": [
    "names = np.array(['Bob', 'Joe', 'Minho', 'Juyoung', 'TeaYoung', 'Bob', 'Bob', 'Minho'])\n",
    "\n",
    "random_data = np.random.randn(len(names), 4)\n",
    "random_data\n",
    "\n",
    "# names를 벡터화시켜 Bob에 맞는 데이터들을 가져온다.\n",
    "random_data[names == 'Bob']\n"
   ]
  },
  {
   "cell_type": "code",
   "execution_count": 139,
   "id": "807642ae",
   "metadata": {
    "scrolled": true
   },
   "outputs": [
    {
     "data": {
      "text/plain": [
       "array([2.1, 1.2, 2.3, 1.4, 2.5])"
      ]
     },
     "execution_count": 139,
     "metadata": {},
     "output_type": "execute_result"
    }
   ],
   "source": [
    "poins = np.arange(-5, 5, 0.01)\n",
    "\n",
    "xarr = np.array(np.arange(1.1, 1.6, 0.1))\n",
    "yarr = np.array(np.arange(2.1, 2.6, 0.1))\n",
    "\n",
    "cond = [False, True, False, True, False]\n",
    "cond\n",
    "\n",
    "result = [(x if c else y) for x, y, c in zip(xarr, yarr, cond)]\n",
    "\n",
    "# 2.1, 1.1, \n",
    "np.where(cond, xarr, yarr)\n",
    "# result"
   ]
  },
  {
   "cell_type": "code",
   "execution_count": 2,
   "id": "271b47be",
   "metadata": {},
   "outputs": [
    {
     "name": "stdout",
     "output_type": "stream",
     "text": [
      "[[ 0  1  2  3]\n",
      " [ 4  5  6  7]\n",
      " [ 8  9 10 11]\n",
      " [12 13 14 15]\n",
      " [16 17 18 19]\n",
      " [20 21 22 23]\n",
      " [24 25 26 27]\n",
      " [28 29 30 31]]\n",
      "-------------------------------\n",
      "[ 4 23 29 10]\n",
      "-------------------------------\n",
      "[[ 4  7  5  6]\n",
      " [20 23 21 22]\n",
      " [28 31 29 30]\n",
      " [ 8 11  9 10]]\n"
     ]
    }
   ],
   "source": [
    "import numpy as np\n",
    "arr = np.arange(32).reshape(8, 4)\n",
    "print(arr)\n",
    "print('-------------------------------')\n",
    "# (1, 0), (5, 3), (7, 1), (2, 2)\n",
    "print(arr[[1, 5, 7, 2], [0, 3, 1, 2]])\n",
    "print('-------------------------------')\n",
    "print(arr[[1, 5, 7, 2]][:, [0, 3, 1, 2]])"
   ]
  },
  {
   "cell_type": "code",
   "execution_count": 4,
   "id": "74bb03bc",
   "metadata": {},
   "outputs": [
    {
     "name": "stdout",
     "output_type": "stream",
     "text": [
      "[[ 0  1  2  3  4]\n",
      " [ 5  6  7  8  9]\n",
      " [10 11 12 13 14]]\n",
      "------------------\n",
      "[[ 0  5 10]\n",
      " [ 1  6 11]\n",
      " [ 2  7 12]\n",
      " [ 3  8 13]\n",
      " [ 4  9 14]]\n"
     ]
    }
   ],
   "source": [
    "arr = np.arange(15).reshape(-1, 5)\n",
    "print(arr)\n",
    "print('------------------')\n",
    "print(arr.T)"
   ]
  },
  {
   "cell_type": "code",
   "execution_count": 3,
   "id": "c0f04da4",
   "metadata": {},
   "outputs": [
    {
     "data": {
      "text/plain": [
       "array([[ 27.9,  64.7],\n",
       "       [ 67.5, 184. ]])"
      ]
     },
     "execution_count": 3,
     "metadata": {},
     "output_type": "execute_result"
    }
   ],
   "source": [
    "import pandas as pd\n",
    "x = np.array([[1., 2.1, 3.], [4.1, 5.1, 6.]])\n",
    "y = np.array([[6., 23.], [-1, 7.], [8, 9]])\n",
    "# 행렬곱 = 벡터 내적곱\n",
    "np.dot(x, y)\n"
   ]
  },
  {
   "cell_type": "code",
   "execution_count": 4,
   "id": "f6bd59de",
   "metadata": {},
   "outputs": [
    {
     "data": {
      "text/plain": [
       "a    4\n",
       "b    7\n",
       "d    3\n",
       "dtype: int64"
      ]
     },
     "execution_count": 4,
     "metadata": {},
     "output_type": "execute_result"
    }
   ],
   "source": [
    "obj = pd.Series([4, 7, -5, 3], index=['a', 'b', 'c', 'd'])\n",
    "obj[obj > 0]"
   ]
  },
  {
   "cell_type": "code",
   "execution_count": 5,
   "id": "3fd8065e",
   "metadata": {},
   "outputs": [
    {
     "data": {
      "text/plain": [
       "a      54.598150\n",
       "b    1096.633158\n",
       "c       0.006738\n",
       "d      20.085537\n",
       "dtype: float64"
      ]
     },
     "execution_count": 5,
     "metadata": {},
     "output_type": "execute_result"
    }
   ],
   "source": [
    "np.exp(obj)"
   ]
  },
  {
   "cell_type": "code",
   "execution_count": 22,
   "id": "5bf96931",
   "metadata": {},
   "outputs": [
    {
     "data": {
      "text/html": [
       "<div>\n",
       "<style scoped>\n",
       "    .dataframe tbody tr th:only-of-type {\n",
       "        vertical-align: middle;\n",
       "    }\n",
       "\n",
       "    .dataframe tbody tr th {\n",
       "        vertical-align: top;\n",
       "    }\n",
       "\n",
       "    .dataframe thead th {\n",
       "        text-align: right;\n",
       "    }\n",
       "</style>\n",
       "<table border=\"1\" class=\"dataframe\">\n",
       "  <thead>\n",
       "    <tr style=\"text-align: right;\">\n",
       "      <th></th>\n",
       "      <th>Nevada</th>\n",
       "      <th>Ohio</th>\n",
       "    </tr>\n",
       "  </thead>\n",
       "  <tbody>\n",
       "    <tr>\n",
       "      <th>2000</th>\n",
       "      <td>0</td>\n",
       "      <td>1</td>\n",
       "    </tr>\n",
       "    <tr>\n",
       "      <th>2001</th>\n",
       "      <td>2</td>\n",
       "      <td>3</td>\n",
       "    </tr>\n",
       "    <tr>\n",
       "      <th>2002</th>\n",
       "      <td>4</td>\n",
       "      <td>5</td>\n",
       "    </tr>\n",
       "    <tr>\n",
       "      <th>2003</th>\n",
       "      <td>6</td>\n",
       "      <td>7</td>\n",
       "    </tr>\n",
       "    <tr>\n",
       "      <th>2004</th>\n",
       "      <td>8</td>\n",
       "      <td>9</td>\n",
       "    </tr>\n",
       "  </tbody>\n",
       "</table>\n",
       "</div>"
      ],
      "text/plain": [
       "      Nevada  Ohio\n",
       "2000       0     1\n",
       "2001       2     3\n",
       "2002       4     5\n",
       "2003       6     7\n",
       "2004       8     9"
      ]
     },
     "execution_count": 22,
     "metadata": {},
     "output_type": "execute_result"
    }
   ],
   "source": [
    "df = pd.DataFrame(np.arange(10).reshape(-1, 2), index=np.arange(2000, 2005), columns=['Nevada', 'Ohio'])\n",
    "\n",
    "df"
   ]
  },
  {
   "cell_type": "code",
   "execution_count": 35,
   "id": "68baeef6",
   "metadata": {},
   "outputs": [
    {
     "name": "stdout",
     "output_type": "stream",
     "text": [
      "          one  two  three  four\n",
      "Ohio        0    1      2     3\n",
      "Colorabo    4    5      6     7\n",
      "Utah        8    9     10    11\n",
      "New York   12   13     14    15\n"
     ]
    },
    {
     "data": {
      "text/html": [
       "<div>\n",
       "<style scoped>\n",
       "    .dataframe tbody tr th:only-of-type {\n",
       "        vertical-align: middle;\n",
       "    }\n",
       "\n",
       "    .dataframe tbody tr th {\n",
       "        vertical-align: top;\n",
       "    }\n",
       "\n",
       "    .dataframe thead th {\n",
       "        text-align: right;\n",
       "    }\n",
       "</style>\n",
       "<table border=\"1\" class=\"dataframe\">\n",
       "  <thead>\n",
       "    <tr style=\"text-align: right;\">\n",
       "      <th></th>\n",
       "      <th>two</th>\n",
       "      <th>three</th>\n",
       "    </tr>\n",
       "  </thead>\n",
       "  <tbody>\n",
       "    <tr>\n",
       "      <th>Colorabo</th>\n",
       "      <td>5</td>\n",
       "      <td>6</td>\n",
       "    </tr>\n",
       "  </tbody>\n",
       "</table>\n",
       "</div>"
      ],
      "text/plain": [
       "          two  three\n",
       "Colorabo    5      6"
      ]
     },
     "execution_count": 35,
     "metadata": {},
     "output_type": "execute_result"
    }
   ],
   "source": [
    "data = pd.DataFrame(np.arange(16).reshape(-1, 4), index=['Ohio', 'Colorabo', 'Utah', 'New York'], columns=['one', 'two', 'three', 'four'])\n",
    "print(data)\n",
    "# data.loc['Colorabo', ['two', 'three']]\n",
    "# data.iloc[1:2, 1:3]\n",
    "data.iloc[1:2, [1, 2]]"
   ]
  },
  {
   "cell_type": "code",
   "execution_count": 40,
   "id": "668b4a48",
   "metadata": {},
   "outputs": [
    {
     "data": {
      "text/plain": [
       "array([[ 0,  1,  2,  3,  4],\n",
       "       [10, 11, 12, 13, 14],\n",
       "       [20, 21, 22, 23, 24]])"
      ]
     },
     "execution_count": 40,
     "metadata": {},
     "output_type": "execute_result"
    }
   ],
   "source": [
    "# data.loc[:'Utah', 'one':'three']\n",
    "\n",
    "arr = np.arange(30).reshape(-1, 5)\n",
    "arr[::2, ::-1]"
   ]
  },
  {
   "cell_type": "code",
   "execution_count": 48,
   "id": "b1e93aea",
   "metadata": {},
   "outputs": [
    {
     "data": {
      "text/plain": [
       "46972"
      ]
     },
     "execution_count": 48,
     "metadata": {},
     "output_type": "execute_result"
    }
   ],
   "source": [
    "index_list = []\n",
    "for i in range(65, 65+11):\n",
    "    index_list.append(chr(i))\n",
    "\n",
    "columns_list = []\n",
    "\n",
    "df = pd.DataFrame(np.arange(1.1, 9.9, 0.2).reshape(-1, 4), index=index_list)\n",
    "df\n",
    "\n",
    "# 44032, 45208, 45796, 46972\n",
    "test = ord('라')\n",
    "\n"
   ]
  },
  {
   "cell_type": "code",
   "execution_count": null,
   "id": "cf6eed76",
   "metadata": {},
   "outputs": [],
   "source": []
  }
 ],
 "metadata": {
  "kernelspec": {
   "display_name": "Python 3",
   "language": "python",
   "name": "python3"
  },
  "language_info": {
   "codemirror_mode": {
    "name": "ipython",
    "version": 3
   },
   "file_extension": ".py",
   "mimetype": "text/x-python",
   "name": "python",
   "nbconvert_exporter": "python",
   "pygments_lexer": "ipython3",
   "version": "3.8.8"
  }
 },
 "nbformat": 4,
 "nbformat_minor": 5
}
