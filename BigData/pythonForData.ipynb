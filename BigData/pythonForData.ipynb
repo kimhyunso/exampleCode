{
 "cells": [
  {
   "cell_type": "code",
   "execution_count": null,
   "id": "e36a0d54",
   "metadata": {},
   "outputs": [],
   "source": [
    "%%timeit\n",
    "x = 5\n",
    "y = 7\n",
    "if x > 5:\n",
    "    x += 1\n",
    "    y = 8"
   ]
  },
  {
   "cell_type": "code",
   "execution_count": null,
   "id": "b5694799",
   "metadata": {},
   "outputs": [],
   "source": [
    "%matplotlib"
   ]
  },
  {
   "cell_type": "code",
   "execution_count": null,
   "id": "d5c64387",
   "metadata": {},
   "outputs": [],
   "source": [
    "# getattr('a a b s' ,'split')\n",
    "# hasattr('abd ', 'sum')"
   ]
  },
  {
   "cell_type": "code",
   "execution_count": null,
   "id": "4ee8ced2",
   "metadata": {},
   "outputs": [],
   "source": [
    "iter('test')\n",
    "\n",
    "def isiterable(obj):\n",
    "    try:\n",
    "        iter(obj)\n",
    "        return True\n",
    "    except:\n",
    "        return False\n",
    "\n",
    "x = 123\n",
    "\n",
    "if not isinstance(x, list) and isiterable(x):\n",
    "    x = list(x)\n",
    "\n",
    "\n"
   ]
  },
  {
   "cell_type": "code",
   "execution_count": null,
   "id": "cd848734",
   "metadata": {},
   "outputs": [],
   "source": [
    "a = [1, 2, 3]\n",
    "\n",
    "b = list(a)\n",
    "\n",
    "c = a\n",
    "\n",
    "\n",
    "a is b\n",
    "# a == b"
   ]
  },
  {
   "cell_type": "code",
   "execution_count": null,
   "id": "f17260b5",
   "metadata": {},
   "outputs": [],
   "source": [
    "test = 'a\\n\\a\\b'\n",
    "test_r = r'a\\n\\a\\b'\n",
    "\n",
    "\n",
    "test\n",
    "\n",
    "test_r"
   ]
  },
  {
   "cell_type": "code",
   "execution_count": null,
   "id": "70fbafa8",
   "metadata": {},
   "outputs": [],
   "source": [
    "template = '{0:.2f} {1:s} test {2:d}'\n",
    "template.format(4.556, 'Argentine Persos', 1)"
   ]
  },
  {
   "cell_type": "code",
   "execution_count": null,
   "id": "0ab76f6e",
   "metadata": {},
   "outputs": [],
   "source": [
    "val = 'espanol'\n",
    "b = val.encode('utf-8')\n",
    "\n",
    "# b.decode('utf-8')\n",
    "\n"
   ]
  },
  {
   "cell_type": "code",
   "execution_count": null,
   "id": "de5a4a6f",
   "metadata": {},
   "outputs": [],
   "source": [
    "# import pandas as pd\n",
    "\n",
    "# video_df = pd.read_csv('../../coper-project/data/침착맨_videos.csv', encoding='utf-8' , engine='python')\n",
    "\n",
    "my_name = 'my name is tester'\n",
    "tup_name = tuple(my_name)\n",
    "\n",
    "\n",
    "t = [[1, 2, 3]]\n",
    "\n",
    "\n",
    "tuple_test = tuple(t) * 4\n",
    "\n",
    "\n",
    "# tuple_test[0] is tuple_test[1]\n",
    "\n",
    "# tuple_test[0] is tuple_test[2]\n",
    "\n",
    "# tuple_test[0] is tuple_test[3]\n",
    "\n",
    "tuple_test[0].append(4)\n",
    "\n",
    "tuple_test"
   ]
  },
  {
   "cell_type": "code",
   "execution_count": null,
   "id": "c9864f90",
   "metadata": {},
   "outputs": [],
   "source": [
    "key = 1, 2, 3, 4\n",
    "value = 'a', 'b', 'c', 'd'\n",
    "\n",
    "{k : v for k, v in zip(key, value)}\n",
    "\n",
    "\n",
    "\n",
    "value = 1, 2, [3, 4]\n",
    "key = 'a', 'b', 'c', 'd'\n",
    "\n",
    "test = {k : v for k, v in zip(key, value)}\n"
   ]
  },
  {
   "cell_type": "code",
   "execution_count": null,
   "id": "425f41d5",
   "metadata": {},
   "outputs": [],
   "source": [
    "pitchars = [('Nolan', 'Pyan'), ('Roger', 'Clemens'), ('Schilling', 'Curt')]\n",
    "\n",
    "first_name, list_name = zip(*pitchars)\n"
   ]
  },
  {
   "cell_type": "code",
   "execution_count": null,
   "id": "3802c42a",
   "metadata": {
    "scrolled": false
   },
   "outputs": [],
   "source": [
    "from collections import defaultdict\n",
    "\n",
    "words = ['apple', 'bat', 'bar', 'atom', 'book']\n",
    "\n",
    "by_letter = defaultdict(list)\n",
    "\n",
    "for word in words:\n",
    "    by_letter[word[0]].append(word)\n",
    "by_letter"
   ]
  },
  {
   "cell_type": "code",
   "execution_count": null,
   "id": "3a513fa5",
   "metadata": {},
   "outputs": [],
   "source": [
    "tuples = [(1, 2, 3), (4, 5, 6), (7, 8, 9)]\n",
    "\n",
    "a = [x for tup in tuples for x in tup]\n",
    "\n",
    "dicts = [{'1' : 1, '2' : 2, '3' : 3}, {'5' : 6, '고양이' : '야옹'}, {'강아지' : '멍멍'}]\n",
    "\n",
    "\n",
    "test = {k : v for value in dicts for k, v in value.items()}\n",
    "\n",
    "\n",
    "\n",
    "numbers = [['1', '2', '4'], ['5', '6', '8'], ['3', '9', '0', '4']]\n",
    "\n",
    "\n",
    "x = [x for number in numbers for x in number]\n",
    "\n",
    "x"
   ]
  },
  {
   "cell_type": "code",
   "execution_count": null,
   "id": "245450cf",
   "metadata": {},
   "outputs": [],
   "source": [
    "tup = (1, 2, 3, 5, 6, 7, 8)\n",
    "*x, y, z = tup\n",
    "# result x : [1, 2, 3, 4, 5, 6], y : 7, z : 8\n",
    "print(f'x : {x}, y : {y}, z : {z}')"
   ]
  },
  {
   "cell_type": "code",
   "execution_count": null,
   "id": "9305e1cb",
   "metadata": {},
   "outputs": [],
   "source": [
    "import re\n",
    "def remove_punctuation(value):\n",
    "    return re.sub('[!?#@^0-9]', '', value)\n",
    "\n",
    "ops = [str.strip, str.title, remove_punctuation]\n",
    "\n",
    "\n",
    "def clean_text(strings, ops):\n",
    "    result = []\n",
    "    for value in strings:\n",
    "        for function in ops:\n",
    "            value = function(value)\n",
    "        result.append(value)\n",
    "    return result\n",
    "\n",
    "\n",
    "text = ['qweasda', 'ewqewqe#!', 'ewqeqe0ldasd', '3eee2adas89', '4#!@adasdasd']\n",
    "clean_text(text, ops)"
   ]
  },
  {
   "cell_type": "code",
   "execution_count": 5,
   "id": "022a5c6f",
   "metadata": {},
   "outputs": [
    {
     "data": {
      "text/plain": [
       "7"
      ]
     },
     "execution_count": 5,
     "metadata": {},
     "output_type": "execute_result"
    }
   ],
   "source": [
    "def add_numbers(x, y):\n",
    "    return x + y\n",
    "\n",
    "# add_five = lambda y : add_numbers(5, y)\n",
    "\n",
    "# for i in range(1, 6):\n",
    "#     number = add_five(i)\n",
    "#     print(number)\n",
    "    \n",
    "from functools import partial\n",
    "add_five = partial(add_numbers, 5)\n",
    "\n",
    "# for i in range(1, 6):\n",
    "#     number = add_five(i)\n",
    "#     print(number)\n",
    "\n",
    "add_five(2)"
   ]
  },
  {
   "cell_type": "code",
   "execution_count": null,
   "id": "b0e6b84a",
   "metadata": {},
   "outputs": [],
   "source": [
    "some_dict = {'a' : 1, 'b' : 2, 'c' : 23}\n",
    "\n",
    "dict_iterator = iter(some_dict)\n",
    "\n",
    "list(dict_iterator)\n",
    "\n",
    "def squares(n=10):\n",
    "    print('Generating squares from 1 to {0}.'.format(n ** 2))\n",
    "    for i in range(1, n+1):\n",
    "        yield i ** 2\n",
    "        \n",
    "gen = squares()\n",
    "\n",
    "    \n",
    "my_list = [i for i in gen]\n",
    "my_list"
   ]
  },
  {
   "cell_type": "code",
   "execution_count": null,
   "id": "99f8704e",
   "metadata": {},
   "outputs": [],
   "source": [
    "gen = (i ** 2 for i in range(5))\n",
    "\n",
    "for i in gen:\n",
    "    print(i)"
   ]
  },
  {
   "cell_type": "code",
   "execution_count": null,
   "id": "85802d35",
   "metadata": {},
   "outputs": [],
   "source": [
    "new_gen = (i ** 2 for i in range(10))\n",
    "\n",
    "sum(x ** 2 for i in range(10))"
   ]
  },
  {
   "cell_type": "code",
   "execution_count": null,
   "id": "a686a720",
   "metadata": {},
   "outputs": [],
   "source": [
    "import itertools\n",
    "\n",
    "first_text = lambda x : x[0]\n",
    "\n",
    "names = ['Alan', 'Adam', 'Wes', 'Will', 'Albert', 'Steven']\n",
    "\n",
    "# for text, names in itertools.groupby(names, first_text):\n",
    "#     print(text, list(names))\n",
    "\n",
    "# 6가지\n",
    "numbers = [1, 2, 3, 4]\n",
    "\n",
    "# 3가지\n",
    "numbers = [1, 2, 3]\n",
    "for text, numbers in itertools.combinations(numbers, 2):\n",
    "    print(text, numbers)"
   ]
  },
  {
   "cell_type": "code",
   "execution_count": 81,
   "id": "fdc01a2e",
   "metadata": {
    "scrolled": true
   },
   "outputs": [
    {
     "name": "stdout",
     "output_type": "stream",
     "text": [
      "30\n",
      "50\n"
     ]
    },
    {
     "ename": "AttributeError",
     "evalue": "'function' object has no attribute 'test'",
     "output_type": "error",
     "traceback": [
      "\u001b[1;31m---------------------------------------------------------------------------\u001b[0m",
      "\u001b[1;31mAttributeError\u001b[0m                            Traceback (most recent call last)",
      "Cell \u001b[1;32mIn[81], line 17\u001b[0m\n\u001b[0;32m     14\u001b[0m \u001b[38;5;28mprint\u001b[39m(mul3(\u001b[38;5;241m10\u001b[39m))\n\u001b[0;32m     15\u001b[0m \u001b[38;5;28mprint\u001b[39m(mul5(\u001b[38;5;241m10\u001b[39m))\n\u001b[1;32m---> 17\u001b[0m b \u001b[38;5;241m=\u001b[39m \u001b[43mmul\u001b[49m\u001b[38;5;241;43m.\u001b[39;49m\u001b[43mtest\u001b[49m(\u001b[38;5;241m10\u001b[39m)\n",
      "\u001b[1;31mAttributeError\u001b[0m: 'function' object has no attribute 'test'"
     ]
    }
   ],
   "source": [
    "def mul(m):\n",
    "    def test(self, a):\n",
    "        return a * 2\n",
    "    \n",
    "    def wrapper(n):\n",
    "        return m * n\n",
    "    return wrapper\n",
    "\n",
    "   \n",
    "        \n",
    "mul3 = mul(3)\n",
    "mul5 = mul(5)\n",
    "\n",
    "print(mul3(10))\n",
    "print(mul5(10))"
   ]
  },
  {
   "cell_type": "code",
   "execution_count": 58,
   "id": "95856ed5",
   "metadata": {},
   "outputs": [
    {
     "data": {
      "text/plain": [
       "[2, 4, 6]"
      ]
     },
     "execution_count": 58,
     "metadata": {},
     "output_type": "execute_result"
    }
   ],
   "source": [
    "def test(m):\n",
    "    def a(n:iter):\n",
    "        lists = [i for i in n if i%2==0]\n",
    "        return lists\n",
    "    return a\n",
    "\n",
    "\n",
    "test1 = test(2)\n",
    "test2 = test(3)\n",
    "\n",
    "test1([1, 2, 3, 4, 5, 6, 7])\n",
    "test2([2, 3, 4, 5, 6, 7])\n",
    "\n",
    "\n"
   ]
  },
  {
   "cell_type": "code",
   "execution_count": 65,
   "id": "c6e67863",
   "metadata": {},
   "outputs": [
    {
     "name": "stdout",
     "output_type": "stream",
     "text": [
      "CPU times: total: 15.6 ms\n",
      "Wall time: 13 ms\n"
     ]
    }
   ],
   "source": [
    "import numpy as np\n",
    "\n",
    "my_arr = np.arange(1000000)\n",
    "\n",
    "%time for _ in range(10): my_arr = my_arr * 2"
   ]
  },
  {
   "cell_type": "code",
   "execution_count": 64,
   "id": "b5998302",
   "metadata": {},
   "outputs": [
    {
     "name": "stdout",
     "output_type": "stream",
     "text": [
      "CPU times: total: 14.2 s\n",
      "Wall time: 14.2 s\n"
     ]
    }
   ],
   "source": [
    "my_list = list(range(1000000))\n",
    "\n",
    "%time for _ in range(10) : my_list = my_list * 2"
   ]
  },
  {
   "cell_type": "code",
   "execution_count": 67,
   "id": "26f7ba55",
   "metadata": {},
   "outputs": [
    {
     "data": {
      "text/plain": [
       "array([[-0.47264584, -1.50921392, -2.51945264],\n",
       "       [ 0.94167666, -1.19038988,  0.68814999]])"
      ]
     },
     "execution_count": 67,
     "metadata": {},
     "output_type": "execute_result"
    }
   ],
   "source": [
    "data = np.random.randn(2, 3)\n",
    "data * 10\n",
    "\n",
    "data + data"
   ]
  },
  {
   "cell_type": "code",
   "execution_count": 70,
   "id": "7ee4a97e",
   "metadata": {},
   "outputs": [
    {
     "data": {
      "text/plain": [
       "array([   4128860,    6029375,    3801155,    5570652,    6619251,\n",
       "          7536754, 4294901760, 4294967295], dtype=uint32)"
      ]
     },
     "execution_count": 70,
     "metadata": {},
     "output_type": "execute_result"
    }
   ],
   "source": [
    "empty_unit32 = np.empty(8, dtype='u4')\n",
    "\n",
    "# empty_unit32\n",
    "\n"
   ]
  },
  {
   "cell_type": "code",
   "execution_count": 71,
   "id": "2d7af6d6",
   "metadata": {},
   "outputs": [
    {
     "data": {
      "text/plain": [
       "'2.10.0'"
      ]
     },
     "execution_count": 71,
     "metadata": {},
     "output_type": "execute_result"
    }
   ],
   "source": [
    "import tensorflow\n",
    "\n",
    "tensorflow.__version__"
   ]
  },
  {
   "cell_type": "markdown",
   "id": "de67b1a6",
   "metadata": {},
   "source": [
    "## 브로드캐스팅"
   ]
  },
  {
   "cell_type": "code",
   "execution_count": 16,
   "id": "cae8ac53",
   "metadata": {},
   "outputs": [
    {
     "data": {
      "text/plain": [
       "array([ 0,  1,  2,  3,  4, 12, 12, 12,  8,  9])"
      ]
     },
     "execution_count": 16,
     "metadata": {},
     "output_type": "execute_result"
    }
   ],
   "source": [
    "import numpy as np\n",
    "arr = np.arange(10)\n",
    "arr[5:8] = 12\n",
    "arr"
   ]
  },
  {
   "cell_type": "code",
   "execution_count": 17,
   "id": "4259d1c4",
   "metadata": {},
   "outputs": [
    {
     "data": {
      "text/plain": [
       "array([    0,     1,     2,     3,     4,    12, 12345,    12,     8,\n",
       "           9])"
      ]
     },
     "execution_count": 17,
     "metadata": {},
     "output_type": "execute_result"
    }
   ],
   "source": [
    "# 뷰 : 원본배열에 그대로 반영\n",
    "arr_slice = arr[5:8]\n",
    "arr_slice[1] = 12345\n",
    "arr"
   ]
  },
  {
   "cell_type": "code",
   "execution_count": null,
   "id": "5f8f7619",
   "metadata": {},
   "outputs": [],
   "source": []
  }
 ],
 "metadata": {
  "kernelspec": {
   "display_name": "Python 3 (ipykernel)",
   "language": "python",
   "name": "python3"
  },
  "language_info": {
   "codemirror_mode": {
    "name": "ipython",
    "version": 3
   },
   "file_extension": ".py",
   "mimetype": "text/x-python",
   "name": "python",
   "nbconvert_exporter": "python",
   "pygments_lexer": "ipython3",
   "version": "3.10.9"
  }
 },
 "nbformat": 4,
 "nbformat_minor": 5
}
