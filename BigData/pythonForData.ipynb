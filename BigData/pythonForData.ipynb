{
 "cells": [
  {
   "cell_type": "code",
   "execution_count": 4,
   "id": "e36a0d54",
   "metadata": {},
   "outputs": [
    {
     "name": "stdout",
     "output_type": "stream",
     "text": [
      "55.8 ns ± 0.486 ns per loop (mean ± std. dev. of 7 runs, 10,000,000 loops each)\n"
     ]
    }
   ],
   "source": [
    "%%timeit\n",
    "x = 5\n",
    "y = 7\n",
    "if x > 5:\n",
    "    x += 1\n",
    "    y = 8"
   ]
  },
  {
   "cell_type": "code",
   "execution_count": 9,
   "id": "b5694799",
   "metadata": {},
   "outputs": [
    {
     "name": "stdout",
     "output_type": "stream",
     "text": [
      "Using matplotlib backend: QtAgg\n"
     ]
    }
   ],
   "source": [
    "%matplotlib"
   ]
  },
  {
   "cell_type": "code",
   "execution_count": 17,
   "id": "d5c64387",
   "metadata": {},
   "outputs": [
    {
     "data": {
      "text/plain": [
       "False"
      ]
     },
     "execution_count": 17,
     "metadata": {},
     "output_type": "execute_result"
    }
   ],
   "source": [
    "# getattr('a a b s' ,'split')\n",
    "# hasattr('abd ', 'sum')"
   ]
  },
  {
   "cell_type": "code",
   "execution_count": 22,
   "id": "4ee8ced2",
   "metadata": {},
   "outputs": [
    {
     "data": {
      "text/plain": [
       "123"
      ]
     },
     "execution_count": 22,
     "metadata": {},
     "output_type": "execute_result"
    }
   ],
   "source": [
    "iter('test')\n",
    "\n",
    "def isiterable(obj):\n",
    "    try:\n",
    "        iter(obj)\n",
    "        return True\n",
    "    except:\n",
    "        return False\n",
    "\n",
    "x = 123\n",
    "\n",
    "if not isinstance(x, list) and isiterable(x):\n",
    "    x = list(x)\n",
    "\n",
    "\n"
   ]
  },
  {
   "cell_type": "code",
   "execution_count": 26,
   "id": "cd848734",
   "metadata": {},
   "outputs": [
    {
     "data": {
      "text/plain": [
       "False"
      ]
     },
     "execution_count": 26,
     "metadata": {},
     "output_type": "execute_result"
    }
   ],
   "source": [
    "a = [1, 2, 3]\n",
    "\n",
    "b = list(a)\n",
    "\n",
    "c = a\n",
    "\n",
    "\n",
    "a is b\n",
    "# a == b"
   ]
  },
  {
   "cell_type": "code",
   "execution_count": 28,
   "id": "f17260b5",
   "metadata": {},
   "outputs": [
    {
     "data": {
      "text/plain": [
       "'a\\\\n\\\\a\\\\b'"
      ]
     },
     "execution_count": 28,
     "metadata": {},
     "output_type": "execute_result"
    }
   ],
   "source": [
    "test = 'a\\n\\a\\b'\n",
    "test_r = r'a\\n\\a\\b'\n",
    "\n",
    "\n",
    "test\n",
    "\n",
    "test_r"
   ]
  },
  {
   "cell_type": "code",
   "execution_count": 29,
   "id": "70fbafa8",
   "metadata": {},
   "outputs": [
    {
     "data": {
      "text/plain": [
       "'4.56 Argentine Persos test 1'"
      ]
     },
     "execution_count": 29,
     "metadata": {},
     "output_type": "execute_result"
    }
   ],
   "source": [
    "template = '{0:.2f} {1:s} test {2:d}'\n",
    "template.format(4.556, 'Argentine Persos', 1)"
   ]
  },
  {
   "cell_type": "code",
   "execution_count": 36,
   "id": "0ab76f6e",
   "metadata": {},
   "outputs": [
    {
     "data": {
      "text/plain": [
       "b'espanol'"
      ]
     },
     "execution_count": 36,
     "metadata": {},
     "output_type": "execute_result"
    }
   ],
   "source": [
    "val = 'espanol'\n",
    "b = val.encode('utf-8')\n",
    "\n",
    "# b.decode('utf-8')\n",
    "\n"
   ]
  },
  {
   "cell_type": "code",
   "execution_count": 59,
   "id": "de5a4a6f",
   "metadata": {},
   "outputs": [
    {
     "data": {
      "text/plain": [
       "([1, 2, 3, 4], [1, 2, 3, 4], [1, 2, 3, 4], [1, 2, 3, 4])"
      ]
     },
     "execution_count": 59,
     "metadata": {},
     "output_type": "execute_result"
    }
   ],
   "source": [
    "# import pandas as pd\n",
    "\n",
    "# video_df = pd.read_csv('../../coper-project/data/침착맨_videos.csv', encoding='utf-8' , engine='python')\n",
    "\n",
    "my_name = 'my name is tester'\n",
    "tup_name = tuple(my_name)\n",
    "\n",
    "\n",
    "t = [[1, 2, 3]]\n",
    "\n",
    "\n",
    "tuple_test = tuple(t) * 4\n",
    "\n",
    "\n",
    "# tuple_test[0] is tuple_test[1]\n",
    "\n",
    "# tuple_test[0] is tuple_test[2]\n",
    "\n",
    "# tuple_test[0] is tuple_test[3]\n",
    "\n",
    "tuple_test[0].append(4)\n",
    "\n",
    "tuple_test"
   ]
  },
  {
   "cell_type": "code",
   "execution_count": 87,
   "id": "c9864f90",
   "metadata": {},
   "outputs": [
    {
     "data": {
      "text/plain": [
       "{'a': 1, 'b': 2, 'c': [3, 4, 5]}"
      ]
     },
     "execution_count": 87,
     "metadata": {},
     "output_type": "execute_result"
    }
   ],
   "source": [
    "key = 1, 2, 3, 4\n",
    "value = 'a', 'b', 'c', 'd'\n",
    "\n",
    "{k : v for k, v in zip(key, value)}\n",
    "\n",
    "\n",
    "\n",
    "value = 1, 2, [3, 4]\n",
    "key = 'a', 'b', 'c', 'd'\n",
    "\n",
    "test = {k : v for k, v in zip(key, value)}\n"
   ]
  },
  {
   "cell_type": "code",
   "execution_count": null,
   "id": "425f41d5",
   "metadata": {},
   "outputs": [],
   "source": [
    "pitchars = [('Nolan', 'Pyan'), ('Roger', 'Clemens'), ('Schilling', 'Curt')]\n",
    "\n",
    "first_name, list_name = zip(*pitchars)\n"
   ]
  },
  {
   "cell_type": "code",
   "execution_count": 195,
   "id": "3802c42a",
   "metadata": {
    "scrolled": false
   },
   "outputs": [
    {
     "data": {
      "text/plain": [
       "defaultdict(list, {'a': ['apple', 'atom'], 'b': ['bat', 'bar', 'book']})"
      ]
     },
     "execution_count": 195,
     "metadata": {},
     "output_type": "execute_result"
    }
   ],
   "source": [
    "from collections import defaultdict\n",
    "\n",
    "words = ['apple', 'bat', 'bar', 'atom', 'book']\n",
    "\n",
    "by_letter = defaultdict(list)\n",
    "\n",
    "for word in words:\n",
    "    by_letter[word[0]].append(word)\n",
    "by_letter"
   ]
  },
  {
   "cell_type": "code",
   "execution_count": 231,
   "id": "3a513fa5",
   "metadata": {},
   "outputs": [
    {
     "data": {
      "text/plain": [
       "['1', '2', '4', '5', '6', '8', '3', '9', '0', '4']"
      ]
     },
     "execution_count": 231,
     "metadata": {},
     "output_type": "execute_result"
    }
   ],
   "source": [
    "tuples = [(1, 2, 3), (4, 5, 6), (7, 8, 9)]\n",
    "\n",
    "a = [x for tup in tuples for x in tup]\n",
    "\n",
    "dicts = [{'1' : 1, '2' : 2, '3' : 3}, {'5' : 6, '고양이' : '야옹'}, {'강아지' : '멍멍'}]\n",
    "\n",
    "\n",
    "test = {k : v for value in dicts for k, v in value.items()}\n",
    "\n",
    "\n",
    "\n",
    "numbers = [['1', '2', '4'], ['5', '6', '8'], ['3', '9', '0', '4']]\n",
    "\n",
    "\n",
    "x = [x for number in numbers for x in number]\n",
    "\n",
    "x"
   ]
  },
  {
   "cell_type": "code",
   "execution_count": 264,
   "id": "245450cf",
   "metadata": {},
   "outputs": [
    {
     "name": "stdout",
     "output_type": "stream",
     "text": [
      "x : [1, 2, 3, 5, 6], y : 7, z : 8\n"
     ]
    }
   ],
   "source": [
    "tup = (1, 2, 3, 5, 6, 7, 8)\n",
    "*x, y, z = tup\n",
    "# result x : [1, 2, 3, 4, 5, 6], y : 7, z : 8\n",
    "print(f'x : {x}, y : {y}, z : {z}')"
   ]
  },
  {
   "cell_type": "code",
   "execution_count": 277,
   "id": "9305e1cb",
   "metadata": {},
   "outputs": [
    {
     "data": {
      "text/plain": [
       "['Qweasda', 'Ewqewqe', 'EwqeqeLdasd', 'EeeAdas', 'Adasdasd']"
      ]
     },
     "execution_count": 277,
     "metadata": {},
     "output_type": "execute_result"
    }
   ],
   "source": [
    "import re\n",
    "def remove_punctuation(value):\n",
    "    return re.sub('[!?#@^0-9]', '', value)\n",
    "\n",
    "ops = [str.strip, str.title, remove_punctuation]\n",
    "\n",
    "\n",
    "def clean_text(strings, ops):\n",
    "    result = []\n",
    "    for value in strings:\n",
    "        for function in ops:\n",
    "            value = function(value)\n",
    "        result.append(value)\n",
    "    return result\n",
    "\n",
    "\n",
    "text = ['qweasda', 'ewqewqe#!', 'ewqeqe0ldasd', '3eee2adas89', '4#!@adasdasd']\n",
    "clean_text(text, ops)"
   ]
  },
  {
   "cell_type": "code",
   "execution_count": 296,
   "id": "022a5c6f",
   "metadata": {},
   "outputs": [
    {
     "name": "stdout",
     "output_type": "stream",
     "text": [
      "6\n",
      "7\n",
      "8\n",
      "9\n",
      "10\n"
     ]
    }
   ],
   "source": [
    "# def add_numbers(x, y):\n",
    "#     return x + y\n",
    "\n",
    "# add_five = lambda y : add_numbers(5, y)\n",
    "\n",
    "# for i in range(1, 6):\n",
    "#     number = add_five(i)\n",
    "#     print(number)\n",
    "    \n",
    "from functools import partial\n",
    "add_five = partial(add_numbers, 5)\n",
    "\n",
    "for i in range(1, 6):\n",
    "    number = add_five(i)\n",
    "    print(number)"
   ]
  },
  {
   "cell_type": "code",
   "execution_count": 303,
   "id": "b0e6b84a",
   "metadata": {},
   "outputs": [
    {
     "name": "stdout",
     "output_type": "stream",
     "text": [
      "Generating squares from 1 to 100.\n"
     ]
    },
    {
     "data": {
      "text/plain": [
       "[1, 4, 9, 16, 25, 36, 49, 64, 81, 100]"
      ]
     },
     "execution_count": 303,
     "metadata": {},
     "output_type": "execute_result"
    }
   ],
   "source": [
    "some_dict = {'a' : 1, 'b' : 2, 'c' : 23}\n",
    "\n",
    "dict_iterator = iter(some_dict)\n",
    "\n",
    "list(dict_iterator)\n",
    "\n",
    "def squares(n=10):\n",
    "    print('Generating squares from 1 to {0}.'.format(n ** 2))\n",
    "    for i in range(1, n+1):\n",
    "        yield i ** 2\n",
    "        \n",
    "gen = squares()\n",
    "\n",
    "    \n",
    "my_list = [i for i in gen]\n",
    "my_list"
   ]
  },
  {
   "cell_type": "code",
   "execution_count": 307,
   "id": "85802d35",
   "metadata": {},
   "outputs": [
    {
     "data": {
      "text/plain": [
       "100000"
      ]
     },
     "execution_count": 307,
     "metadata": {},
     "output_type": "execute_result"
    }
   ],
   "source": [
    "new_gen = (i ** 2 for i in range(10))\n",
    "\n",
    "sum(x ** 2 for i in range(10))"
   ]
  },
  {
   "cell_type": "code",
   "execution_count": 319,
   "id": "a686a720",
   "metadata": {},
   "outputs": [
    {
     "name": "stdout",
     "output_type": "stream",
     "text": [
      "1 2\n",
      "1 3\n",
      "2 3\n"
     ]
    }
   ],
   "source": [
    "import itertools\n",
    "\n",
    "first_text = lambda x : x[0]\n",
    "\n",
    "names = ['Alan', 'Adam', 'Wes', 'Will', 'Albert', 'Steven']\n",
    "\n",
    "# for text, names in itertools.groupby(names, first_text):\n",
    "#     print(text, list(names))\n",
    "\n",
    "\n",
    "\n",
    "# 6가지\n",
    "numbers = [1, 2, 3, 4]\n",
    "\n",
    "# 3가지\n",
    "numbers = [1, 2, 3]\n",
    "for text, numbers in itertools.combinations(numbers, 2):\n",
    "    print(text, numbers)\n",
    "    "
   ]
  },
  {
   "cell_type": "code",
   "execution_count": null,
   "id": "fdc01a2e",
   "metadata": {},
   "outputs": [],
   "source": []
  }
 ],
 "metadata": {
  "kernelspec": {
   "display_name": "Python 3 (ipykernel)",
   "language": "python",
   "name": "python3"
  },
  "language_info": {
   "codemirror_mode": {
    "name": "ipython",
    "version": 3
   },
   "file_extension": ".py",
   "mimetype": "text/x-python",
   "name": "python",
   "nbconvert_exporter": "python",
   "pygments_lexer": "ipython3",
   "version": "3.10.9"
  }
 },
 "nbformat": 4,
 "nbformat_minor": 5
}
