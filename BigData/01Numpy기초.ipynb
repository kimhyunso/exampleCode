{
 "cells": [
  {
   "cell_type": "code",
   "execution_count": 1,
   "id": "5c70b34c",
   "metadata": {},
   "outputs": [],
   "source": [
    "import numpy as np # alias (별칭)"
   ]
  },
  {
   "cell_type": "markdown",
   "id": "87d6e172",
   "metadata": {},
   "source": [
    "# 차원의 사례"
   ]
  },
  {
   "cell_type": "code",
   "execution_count": 37,
   "id": "53cbf852",
   "metadata": {},
   "outputs": [],
   "source": [
    "a = [1, 2, 3]\n",
    "b = np.array(a)"
   ]
  },
  {
   "cell_type": "code",
   "execution_count": 38,
   "id": "18730308",
   "metadata": {},
   "outputs": [
    {
     "name": "stdout",
     "output_type": "stream",
     "text": [
      "<class 'list'>\n",
      "<class 'numpy.ndarray'>\n"
     ]
    }
   ],
   "source": [
    "# a는 일반 list 이다.\n",
    "# b는 ndarray 이다.\n",
    "\n",
    "print(type(a))\n",
    "print(type(b))"
   ]
  },
  {
   "cell_type": "code",
   "execution_count": 17,
   "id": "ea4b358b",
   "metadata": {
    "scrolled": true
   },
   "outputs": [
    {
     "name": "stdout",
     "output_type": "stream",
     "text": [
      "array1 type: <class 'numpy.ndarray'>\n",
      "[1 2 3]\n",
      "array1의 형태 :  (3,)\n"
     ]
    }
   ],
   "source": [
    "array1 = b.copy()\n",
    "array2 = np.array([4, 5, 6])\n",
    "print('array1 type:', type(array1))\n",
    "print(array1) # (1, 3) 한 요소를 추출하는데 필요한 최소 첨자수가 한 개이므로...\n",
    "print('array1의 형태 : ', array1.shape)\n",
    "# print(array2)"
   ]
  },
  {
   "cell_type": "code",
   "execution_count": 42,
   "id": "7d4ec732",
   "metadata": {
    "scrolled": true
   },
   "outputs": [
    {
     "name": "stdout",
     "output_type": "stream",
     "text": [
      "array2d type: <class 'numpy.ndarray'>\n",
      "array2d의 형태 :  (2, 3)\n"
     ]
    }
   ],
   "source": [
    "# 2차원 자료 생성해보기\n",
    "array2d = np.array([[1, 2, 3], [11, 22, 33]]) # (2 ,3)\n",
    "print('array2d type:', type(array2))\n",
    "print('array2d의 형태 : ', array2d.shape)"
   ]
  },
  {
   "cell_type": "code",
   "execution_count": 44,
   "id": "2f85ff46",
   "metadata": {},
   "outputs": [
    {
     "name": "stdout",
     "output_type": "stream",
     "text": [
      "array2d의 형태 :  (2, 3)\n"
     ]
    }
   ],
   "source": [
    "array3d = [[[1, 2]]]\n",
    "print('array2d의 형태 : ', array2d.shape)"
   ]
  },
  {
   "cell_type": "code",
   "execution_count": 27,
   "id": "b654f736",
   "metadata": {},
   "outputs": [
    {
     "name": "stdout",
     "output_type": "stream",
     "text": [
      "array3d type :  <class 'numpy.ndarray'>\n",
      "array3d의 형태 :  (1, 2, 3)\n",
      "array3d는 3차원\n"
     ]
    }
   ],
   "source": [
    "# 3차원의 자료 생성해보기\n",
    "array3d = np.array([[[1, 2, 3], [11, 22, 33]]]) # (1, 2, 3) -> (1, 1, 3)\n",
    "\n",
    "print('array3d type : ', type(array3d))\n",
    "print('array3d의 형태 : ', array3d.shape)\n",
    "print(f'array3d는 {array3d.ndim}차원')"
   ]
  },
  {
   "cell_type": "code",
   "execution_count": 33,
   "id": "936dda00",
   "metadata": {
    "scrolled": true
   },
   "outputs": [
    {
     "name": "stdout",
     "output_type": "stream",
     "text": [
      "array3d의 형태 :  (1, 1, 3)\n",
      "array3d는 3차원\n",
      "array3d의 형태 :  (2, 1, 3)\n",
      "array3d는 3차원\n"
     ]
    }
   ],
   "source": [
    "# 3차원의 자료 생성해보기\n",
    "array3d = np.array([[[11, 22, 33]]]) # (1, 1, 3) / (2, 1, 3) / \n",
    "\n",
    "print('array3d의 형태 : ', array3d.shape)\n",
    "print(f'array3d는 {array3d.ndim}차원')\n",
    "\n",
    "array3d = np.array([[[11, 22, 33]], [[1, 2, 3]]]) # (1, 1, 3) / (2, 1, 3) / \n",
    "\n",
    "print('array3d의 형태 : ', array3d.shape)\n",
    "print(f'array3d는 {array3d.ndim}차원')\n"
   ]
  },
  {
   "cell_type": "code",
   "execution_count": 14,
   "id": "cf33871f",
   "metadata": {},
   "outputs": [
    {
     "data": {
      "text/plain": [
       "[1, 2, 3, 4, 5, 6]"
      ]
     },
     "execution_count": 14,
     "metadata": {},
     "output_type": "execute_result"
    }
   ],
   "source": [
    "x = [1, 2, 3]\n",
    "y = [4, 5, 6]\n",
    "x + y"
   ]
  },
  {
   "cell_type": "code",
   "execution_count": 16,
   "id": "aea4b583",
   "metadata": {},
   "outputs": [
    {
     "data": {
      "text/plain": [
       "[5, 7, 9]"
      ]
     },
     "execution_count": 16,
     "metadata": {},
     "output_type": "execute_result"
    }
   ],
   "source": [
    "array_x = np.array(x)\n",
    "array_y = np.array(y)\n",
    "list(array_x + array_y)"
   ]
  },
  {
   "cell_type": "code",
   "execution_count": 60,
   "id": "32d76b73",
   "metadata": {
    "scrolled": true
   },
   "outputs": [
    {
     "name": "stdout",
     "output_type": "stream",
     "text": [
      "array_test의 형태 :  (2,)\n",
      "array_test는 1차원\n"
     ]
    },
    {
     "name": "stderr",
     "output_type": "stream",
     "text": [
      "C:\\Users\\TECH2_07\\AppData\\Local\\Temp\\ipykernel_6220\\1502945812.py:3: VisibleDeprecationWarning: Creating an ndarray from ragged nested sequences (which is a list-or-tuple of lists-or-tuples-or ndarrays with different lengths or shapes) is deprecated. If you meant to do this, you must specify 'dtype=object' when creating the ndarray.\n",
      "  array_test = np.array([[1, 2, 3], [11, 22, 33, 44]])\n"
     ]
    }
   ],
   "source": [
    "# 또 다른 용례\n",
    "# 결측값 = 빈 값\n",
    "array_test = np.array([[1, 2, 3], [11, 22, 33, 44]])\n",
    "print('array_test의 형태 : ', array_test.shape)\n",
    "print(f'array_test는 {array_test.ndim}차원')\n"
   ]
  },
  {
   "cell_type": "markdown",
   "id": "a34e11da",
   "metadata": {},
   "source": [
    "# ndarray 편리하게 생성 - arange, zeros, ones"
   ]
  },
  {
   "cell_type": "code",
   "execution_count": 83,
   "id": "5fcb64c7",
   "metadata": {},
   "outputs": [
    {
     "name": "stdout",
     "output_type": "stream",
     "text": [
      "[ 1  2  3  4  5  6  7  8  9 10]\n",
      "int32 (10,)\n"
     ]
    }
   ],
   "source": [
    "# arange\n",
    "# np.arange(start=1, stop=11)\n",
    "seq_array = np.arange(1, 11)\n",
    "print(seq_array)\n",
    "print(seq_array.dtype, seq_array.shape)"
   ]
  },
  {
   "cell_type": "code",
   "execution_count": 90,
   "id": "80ea9575",
   "metadata": {
    "scrolled": true
   },
   "outputs": [
    {
     "name": "stdout",
     "output_type": "stream",
     "text": [
      "[[0 0 0 0]\n",
      " [0 0 0 0]]\n",
      "int32 (2, 4)\n"
     ]
    }
   ],
   "source": [
    "# zeros로 0으로 된 행렬을 생성\n",
    "zero_array = np.zeros((2, 4), dtype='int32')\n",
    "print(zero_array)\n",
    "print(zero_array.dtype, zero_array.shape)"
   ]
  },
  {
   "cell_type": "code",
   "execution_count": 4,
   "id": "275be475",
   "metadata": {},
   "outputs": [
    {
     "data": {
      "text/plain": [
       "array([[ 1,  2,  3,  4,  5],\n",
       "       [ 6,  7,  8,  9, 10]])"
      ]
     },
     "execution_count": 4,
     "metadata": {},
     "output_type": "execute_result"
    }
   ],
   "source": [
    "import numpy as np\n",
    "array1ds = np.arange(1, 11)\n",
    "# [1, 2, 3, 4, ..., 10]\n",
    "array1ds.reshape(2, 5)\n"
   ]
  },
  {
   "cell_type": "code",
   "execution_count": 92,
   "id": "34b600af",
   "metadata": {
    "scrolled": true
   },
   "outputs": [
    {
     "data": {
      "text/plain": [
       "array([[1, 1],\n",
       "       [1, 1],\n",
       "       [1, 1]], dtype=int64)"
      ]
     },
     "execution_count": 92,
     "metadata": {},
     "output_type": "execute_result"
    }
   ],
   "source": [
    "# ones로 1으로 된 행렬을 생성\n",
    "ones_array = np.ones((3, 2), dtype='int32')\n",
    "print(ones_array)\n",
    "print(ones_array.dtype, ones_array.shape)\n"
   ]
  },
  {
   "cell_type": "markdown",
   "id": "39c0eaa8",
   "metadata": {},
   "source": [
    "> CPU라는 것... python, R은 그냥 내 컴퓨터의 사양 최대치...."
   ]
  },
  {
   "cell_type": "markdown",
   "id": "e25d28af",
   "metadata": {},
   "source": [
    "# reshape의 용례"
   ]
  },
  {
   "cell_type": "code",
   "execution_count": 81,
   "id": "def0b5a4",
   "metadata": {},
   "outputs": [
    {
     "data": {
      "text/plain": [
       "array([[ 1,  2,  3,  4,  5],\n",
       "       [ 6,  7,  8,  9, 10]])"
      ]
     },
     "execution_count": 81,
     "metadata": {},
     "output_type": "execute_result"
    }
   ],
   "source": [
    "seq_array.reshape(2, 5)"
   ]
  },
  {
   "cell_type": "code",
   "execution_count": null,
   "id": "fe042a48",
   "metadata": {},
   "outputs": [],
   "source": [
    "%autosave 50"
   ]
  },
  {
   "cell_type": "markdown",
   "id": "c32c23a5",
   "metadata": {},
   "source": [
    "# numpy의 dtype"
   ]
  },
  {
   "cell_type": "code",
   "execution_count": 101,
   "id": "2357a7be",
   "metadata": {},
   "outputs": [
    {
     "name": "stdout",
     "output_type": "stream",
     "text": [
      "[1.  2.  5.5] float64\n"
     ]
    }
   ],
   "source": [
    "# Numpy의 데이터 타입은 다 같은 타입으로 구성된다.\n",
    "l2 = [1, 2, 'test']\n",
    "\n",
    "# ap.array를 활용하여 ndarray로 변환\n",
    "array2 = np.array(l2)\n",
    "\n",
    "l3 = [1, 2, 5.5]\n",
    "array3 = np.array(l3)\n",
    "print(array3, array3.dtype)\n"
   ]
  },
  {
   "cell_type": "markdown",
   "id": "f3777c47",
   "metadata": {},
   "source": [
    "# dtype의 상호 변환"
   ]
  },
  {
   "cell_type": "code",
   "execution_count": 5,
   "id": "51e50a8c",
   "metadata": {},
   "outputs": [
    {
     "name": "stdout",
     "output_type": "stream",
     "text": [
      "[1. 3. 5.] float64\n",
      "[1 3 5] int32\n"
     ]
    },
    {
     "data": {
      "text/plain": [
       "array([1., 3., 5.])"
      ]
     },
     "execution_count": 5,
     "metadata": {},
     "output_type": "execute_result"
    }
   ],
   "source": [
    "# dtype의 상호 변환 - astype\n",
    "array_int = np.array([1, 3, 5])\n",
    "array_float = array_int.astype('float64')\n",
    "print(array_float, array_float.dtype)\n",
    "\n",
    "# array_float => array_int2\n",
    "array_int2 = array_float.astype('int32')\n",
    "print(array_int2, array_int2.dtype)\n",
    "\n",
    "# 자료에 따른 버림현상\n",
    "array_float2 = np.array([1.1, 2.2, 3.3, 4.9])\n",
    "array = array_float2.astype('int32')\n"
   ]
  },
  {
   "cell_type": "code",
   "execution_count": 9,
   "id": "0d126da3",
   "metadata": {},
   "outputs": [
    {
     "name": "stdout",
     "output_type": "stream",
     "text": [
      "array_float : [1. 3. 5.], dtype ==> float64\n"
     ]
    }
   ],
   "source": [
    "array_int = np.array([1, 3, 5])\n",
    "# int => float으로 형변환\n",
    "array_float = array_int.astype('float64')\n",
    "# [1., 3. 5.], dtype ==> float64\n",
    "print(f'array_float : {array_float}, dtype ==> {array_float.dtype}')"
   ]
  },
  {
   "cell_type": "code",
   "execution_count": null,
   "id": "4ad79d82",
   "metadata": {},
   "outputs": [],
   "source": []
  }
 ],
 "metadata": {
  "kernelspec": {
   "display_name": "Python 3 (ipykernel)",
   "language": "python",
   "name": "python3"
  },
  "language_info": {
   "codemirror_mode": {
    "name": "ipython",
    "version": 3
   },
   "file_extension": ".py",
   "mimetype": "text/x-python",
   "name": "python",
   "nbconvert_exporter": "python",
   "pygments_lexer": "ipython3",
   "version": "3.7.16"
  }
 },
 "nbformat": 4,
 "nbformat_minor": 5
}
