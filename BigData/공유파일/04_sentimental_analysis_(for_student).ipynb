{
 "cells": [
  {
   "cell_type": "markdown",
   "metadata": {
    "id": "B9Zrj8DMusOn"
   },
   "source": [
    "## 1) Library & Data Import"
   ]
  },
  {
   "cell_type": "code",
   "execution_count": 1,
   "metadata": {
    "id": "yzvddH4TuuwD"
   },
   "outputs": [],
   "source": [
    "%matplotlib inline\n",
    "\n",
    "import pandas as pd\n",
    "import numpy as np\n",
    "import matplotlib.pyplot as plt\n",
    "import seaborn as sns\n",
    "\n",
    "import warnings\n",
    "warnings.filterwarnings(\"ignore\")"
   ]
  },
  {
   "cell_type": "code",
   "execution_count": 2,
   "metadata": {
    "id": "Q_0x25QSuxrp"
   },
   "outputs": [],
   "source": [
    "df = pd.read_csv(\"https://raw.githubusercontent.com/yoonkt200/FastCampusDataset/master/tripadviser_review.csv\")"
   ]
  },
  {
   "cell_type": "code",
   "execution_count": 3,
   "metadata": {
    "colab": {
     "base_uri": "https://localhost:8080/",
     "height": 204
    },
    "id": "90IQykX7vZ3t",
    "outputId": "ca92b9bf-3abb-4e2e-821c-bb8a5c28b00b"
   },
   "outputs": [
    {
     "data": {
      "text/html": [
       "<div>\n",
       "<style scoped>\n",
       "    .dataframe tbody tr th:only-of-type {\n",
       "        vertical-align: middle;\n",
       "    }\n",
       "\n",
       "    .dataframe tbody tr th {\n",
       "        vertical-align: top;\n",
       "    }\n",
       "\n",
       "    .dataframe thead th {\n",
       "        text-align: right;\n",
       "    }\n",
       "</style>\n",
       "<table border=\"1\" class=\"dataframe\">\n",
       "  <thead>\n",
       "    <tr style=\"text-align: right;\">\n",
       "      <th></th>\n",
       "      <th>rating</th>\n",
       "      <th>text</th>\n",
       "    </tr>\n",
       "  </thead>\n",
       "  <tbody>\n",
       "    <tr>\n",
       "      <th>0</th>\n",
       "      <td>4</td>\n",
       "      <td>여행에 집중할수 있게 편안한 휴식을 제공하는 호텔이었습니다. 위치선정 또한 적당한 ...</td>\n",
       "    </tr>\n",
       "    <tr>\n",
       "      <th>1</th>\n",
       "      <td>4</td>\n",
       "      <td>2일 이상 연박시 침대, 이불, 베게등 침구류 교체 및 어메니티 보강이 필요해 보입...</td>\n",
       "    </tr>\n",
       "    <tr>\n",
       "      <th>2</th>\n",
       "      <td>4</td>\n",
       "      <td>지인에소개로온 호텔  깨끗하고 좋은거같아요 처음에는 없는게 많아 많이  당황했는데 ...</td>\n",
       "    </tr>\n",
       "    <tr>\n",
       "      <th>3</th>\n",
       "      <td>5</td>\n",
       "      <td>방에 딱 들어서자마자 눈이 휘둥그레질정도로 이렇게 넓은 호텔 처음 와본 것 같아요!...</td>\n",
       "    </tr>\n",
       "    <tr>\n",
       "      <th>4</th>\n",
       "      <td>5</td>\n",
       "      <td>저녁에 맥주한잔 하는게 좋아서 렌트 안하고 뚜벅이 하기로 했는데 호텔 바로 앞에 버...</td>\n",
       "    </tr>\n",
       "  </tbody>\n",
       "</table>\n",
       "</div>"
      ],
      "text/plain": [
       "   rating                                               text\n",
       "0       4  여행에 집중할수 있게 편안한 휴식을 제공하는 호텔이었습니다. 위치선정 또한 적당한 ...\n",
       "1       4  2일 이상 연박시 침대, 이불, 베게등 침구류 교체 및 어메니티 보강이 필요해 보입...\n",
       "2       4  지인에소개로온 호텔  깨끗하고 좋은거같아요 처음에는 없는게 많아 많이  당황했는데 ...\n",
       "3       5  방에 딱 들어서자마자 눈이 휘둥그레질정도로 이렇게 넓은 호텔 처음 와본 것 같아요!...\n",
       "4       5  저녁에 맥주한잔 하는게 좋아서 렌트 안하고 뚜벅이 하기로 했는데 호텔 바로 앞에 버..."
      ]
     },
     "execution_count": 3,
     "metadata": {},
     "output_type": "execute_result"
    }
   ],
   "source": [
    "df.head()"
   ]
  },
  {
   "cell_type": "markdown",
   "metadata": {
    "id": "F8mjnHsgvioB"
   },
   "source": [
    "#### Feature Description\n",
    "- rating : 이용자 리뷰의 평가 점수\n",
    "- text : 이용자 리뷰 평가 내용"
   ]
  },
  {
   "cell_type": "markdown",
   "metadata": {
    "id": "i3P4CXUNvqtO"
   },
   "source": [
    "-----"
   ]
  },
  {
   "cell_type": "markdown",
   "metadata": {
    "id": "EmWaX52Rvuol"
   },
   "source": [
    "## 2) 데이터셋 살펴보기"
   ]
  },
  {
   "cell_type": "markdown",
   "metadata": {
    "id": "Fjj86LoLv3Wl"
   },
   "source": [
    "### 2-1) 기본 정보 탐색"
   ]
  },
  {
   "cell_type": "markdown",
   "metadata": {
    "id": "BZdMSr7Hyv3C"
   },
   "source": [
    "##### 데이터셋 기본 정보 탐색"
   ]
  },
  {
   "cell_type": "code",
   "execution_count": 4,
   "metadata": {
    "colab": {
     "base_uri": "https://localhost:8080/"
    },
    "executionInfo": {
     "elapsed": 11,
     "status": "ok",
     "timestamp": 1631012559673,
     "user": {
      "displayName": "버물리",
      "photoUrl": "https://lh3.googleusercontent.com/a-/AOh14GjgbxaibZdpXcYXkRpN6pP-emIEzMQGGxk60Z1z=s64",
      "userId": "16343119817703036426"
     },
     "user_tz": -540
    },
    "id": "yTRz57Qpvgl4",
    "outputId": "9e68f0b2-9205-471d-fabb-fc45848a826d"
   },
   "outputs": [
    {
     "data": {
      "text/plain": [
       "(1001, 2)"
      ]
     },
     "execution_count": 4,
     "metadata": {},
     "output_type": "execute_result"
    }
   ],
   "source": [
    "df.shape"
   ]
  },
  {
   "cell_type": "code",
   "execution_count": 5,
   "metadata": {
    "colab": {
     "base_uri": "https://localhost:8080/"
    },
    "executionInfo": {
     "elapsed": 1057,
     "status": "ok",
     "timestamp": 1631012569748,
     "user": {
      "displayName": "버물리",
      "photoUrl": "https://lh3.googleusercontent.com/a-/AOh14GjgbxaibZdpXcYXkRpN6pP-emIEzMQGGxk60Z1z=s64",
      "userId": "16343119817703036426"
     },
     "user_tz": -540
    },
    "id": "lJq9dP3qvlMg",
    "outputId": "a5f3752c-aa07-4271-a132-9591ff344fb0"
   },
   "outputs": [
    {
     "name": "stdout",
     "output_type": "stream",
     "text": [
      "<class 'pandas.core.frame.DataFrame'>\n",
      "RangeIndex: 1001 entries, 0 to 1000\n",
      "Data columns (total 2 columns):\n",
      " #   Column  Non-Null Count  Dtype \n",
      "---  ------  --------------  ----- \n",
      " 0   rating  1001 non-null   int64 \n",
      " 1   text    1001 non-null   object\n",
      "dtypes: int64(1), object(1)\n",
      "memory usage: 15.8+ KB\n"
     ]
    }
   ],
   "source": [
    "df.info()"
   ]
  },
  {
   "cell_type": "code",
   "execution_count": 6,
   "metadata": {
    "colab": {
     "base_uri": "https://localhost:8080/"
    },
    "executionInfo": {
     "elapsed": 313,
     "status": "ok",
     "timestamp": 1631012576325,
     "user": {
      "displayName": "버물리",
      "photoUrl": "https://lh3.googleusercontent.com/a-/AOh14GjgbxaibZdpXcYXkRpN6pP-emIEzMQGGxk60Z1z=s64",
      "userId": "16343119817703036426"
     },
     "user_tz": -540
    },
    "id": "K7SiIjlDwFGG",
    "outputId": "b5829252-e63a-4db6-d4fb-b56e73dbe33a"
   },
   "outputs": [
    {
     "data": {
      "text/plain": [
       "rating    0\n",
       "text      0\n",
       "dtype: int64"
      ]
     },
     "execution_count": 6,
     "metadata": {},
     "output_type": "execute_result"
    }
   ],
   "source": [
    "df.isnull().sum()"
   ]
  },
  {
   "cell_type": "code",
   "execution_count": 7,
   "metadata": {
    "colab": {
     "base_uri": "https://localhost:8080/",
     "height": 35
    },
    "executionInfo": {
     "elapsed": 292,
     "status": "ok",
     "timestamp": 1631012632719,
     "user": {
      "displayName": "버물리",
      "photoUrl": "https://lh3.googleusercontent.com/a-/AOh14GjgbxaibZdpXcYXkRpN6pP-emIEzMQGGxk60Z1z=s64",
      "userId": "16343119817703036426"
     },
     "user_tz": -540
    },
    "id": "c51l1Bld6c15",
    "outputId": "74bf2d37-d17d-40a4-9f6f-03dfcbbb3e45"
   },
   "outputs": [
    {
     "data": {
      "text/plain": [
       "'여행에 집중할수 있게 편안한 휴식을 제공하는 호텔이었습니다. 위치선정 또한 적당한 편이었고 청소나 청결상태도 좋았습니다.'"
      ]
     },
     "execution_count": 7,
     "metadata": {},
     "output_type": "execute_result"
    }
   ],
   "source": [
    "df['text'][0]"
   ]
  },
  {
   "cell_type": "code",
   "execution_count": 8,
   "metadata": {
    "colab": {
     "base_uri": "https://localhost:8080/",
     "height": 53
    },
    "executionInfo": {
     "elapsed": 311,
     "status": "ok",
     "timestamp": 1631012697969,
     "user": {
      "displayName": "버물리",
      "photoUrl": "https://lh3.googleusercontent.com/a-/AOh14GjgbxaibZdpXcYXkRpN6pP-emIEzMQGGxk60Z1z=s64",
      "userId": "16343119817703036426"
     },
     "user_tz": -540
    },
    "id": "Q4-faysr7qC-",
    "outputId": "95934912-c61f-4b71-c8e2-1f7018cfef85"
   },
   "outputs": [
    {
     "data": {
      "text/plain": [
       "'올 봄에 벚꽃기간에 방문, 협재를 바라보는 바다뷰가 좋고 대로변이라 렌트해서 가기도 좋음. 조식은 이용안했는데 근처 옹포밥집까지 아침 산책겸 걸어가서 하고옴. 루프탑 수영장과 바가 있었는데 내가 갔을때는 밤에 비바람이 너무 불어서 이용못하고옴 ㅠㅠ  단점으로는 모 유명 여행블로거 리뷰처럼 화장실 물떄가... 그거빼곤 다 만족'"
      ]
     },
     "execution_count": 8,
     "metadata": {},
     "output_type": "execute_result"
    }
   ],
   "source": [
    "df['text'][100]"
   ]
  },
  {
   "cell_type": "code",
   "execution_count": 9,
   "metadata": {
    "colab": {
     "base_uri": "https://localhost:8080/"
    },
    "executionInfo": {
     "elapsed": 318,
     "status": "ok",
     "timestamp": 1631012684480,
     "user": {
      "displayName": "버물리",
      "photoUrl": "https://lh3.googleusercontent.com/a-/AOh14GjgbxaibZdpXcYXkRpN6pP-emIEzMQGGxk60Z1z=s64",
      "userId": "16343119817703036426"
     },
     "user_tz": -540
    },
    "id": "JjX8EUde6f-g",
    "outputId": "15a915e1-324c-4fb8-8c70-1255f656988d"
   },
   "outputs": [
    {
     "data": {
      "text/plain": [
       "223576"
      ]
     },
     "execution_count": 9,
     "metadata": {},
     "output_type": "execute_result"
    }
   ],
   "source": [
    "len(df['text'].values.sum())"
   ]
  },
  {
   "cell_type": "markdown",
   "metadata": {
    "id": "7Ob0pe0oxI6Y"
   },
   "source": [
    "-----"
   ]
  },
  {
   "cell_type": "markdown",
   "metadata": {
    "id": "vtLhtuYwxI86"
   },
   "source": [
    "## 3) 한국어 텍스트 데이터 전처리"
   ]
  },
  {
   "cell_type": "markdown",
   "metadata": {
    "id": "ZAFsj3ppxI_J"
   },
   "source": [
    "### 3-0) konlpy 설치"
   ]
  },
  {
   "cell_type": "code",
   "execution_count": 10,
   "metadata": {
    "colab": {
     "base_uri": "https://localhost:8080/"
    },
    "executionInfo": {
     "elapsed": 46426,
     "status": "ok",
     "timestamp": 1631012773329,
     "user": {
      "displayName": "버물리",
      "photoUrl": "https://lh3.googleusercontent.com/a-/AOh14GjgbxaibZdpXcYXkRpN6pP-emIEzMQGGxk60Z1z=s64",
      "userId": "16343119817703036426"
     },
     "user_tz": -540
    },
    "id": "__acxhPiw8X2",
    "outputId": "daff5d06-496b-4bed-8c19-4be593b01e89"
   },
   "outputs": [],
   "source": [
    "# konlpy 0.5.2의 JVM 버그로 인해, 0.5.1 버전으로 install\n",
    "# !pip install konlpy==0.6.0 jpype1 Jpype1-py3\n"
   ]
  },
  {
   "cell_type": "markdown",
   "metadata": {
    "id": "yzf3UKBOAgQn"
   },
   "source": [
    "### 3-1) 정규표현식 적용"
   ]
  },
  {
   "cell_type": "code",
   "execution_count": 11,
   "metadata": {
    "id": "hE60OR0mxP0S"
   },
   "outputs": [],
   "source": [
    "import re\n",
    "\n",
    "def apply_regular_expression(text):\n",
    "  hangul = re.compile('[^ ㄱ-ㅣ가-힣]')\n",
    "  result = hangul.sub('', text)\n",
    "  return result"
   ]
  },
  {
   "cell_type": "code",
   "execution_count": 12,
   "metadata": {
    "colab": {
     "base_uri": "https://localhost:8080/",
     "height": 35
    },
    "executionInfo": {
     "elapsed": 323,
     "status": "ok",
     "timestamp": 1631018473871,
     "user": {
      "displayName": "버물리",
      "photoUrl": "https://lh3.googleusercontent.com/a-/AOh14GjgbxaibZdpXcYXkRpN6pP-emIEzMQGGxk60Z1z=s64",
      "userId": "16343119817703036426"
     },
     "user_tz": -540
    },
    "id": "zBgiHxOW3KhY",
    "outputId": "c802560e-636b-420a-dbc2-e9fb013326e3"
   },
   "outputs": [
    {
     "data": {
      "text/plain": [
       "'여행에 집중할수 있게 편안한 휴식을 제공하는 호텔이었습니다 위치선정 또한 적당한 편이었고 청소나 청결상태도 좋았습니다'"
      ]
     },
     "execution_count": 12,
     "metadata": {},
     "output_type": "execute_result"
    }
   ],
   "source": [
    "apply_regular_expression(df['text'][0])"
   ]
  },
  {
   "cell_type": "code",
   "execution_count": 13,
   "metadata": {
    "colab": {
     "base_uri": "https://localhost:8080/",
     "height": 35
    },
    "executionInfo": {
     "elapsed": 3,
     "status": "ok",
     "timestamp": 1631018474259,
     "user": {
      "displayName": "버물리",
      "photoUrl": "https://lh3.googleusercontent.com/a-/AOh14GjgbxaibZdpXcYXkRpN6pP-emIEzMQGGxk60Z1z=s64",
      "userId": "16343119817703036426"
     },
     "user_tz": -540
    },
    "id": "0PDt-ePu9Pd9",
    "outputId": "359b1c34-63b9-4b3b-bcc0-6c2fd8df6ac6"
   },
   "outputs": [
    {
     "data": {
      "text/plain": [
       "'여행에 집중할수 있게 편안한 휴식을 제공하는 호텔이었습니다. 위치선정 또한 적당한 편이었고 청소나 청결상태도 좋았습니다.'"
      ]
     },
     "execution_count": 13,
     "metadata": {},
     "output_type": "execute_result"
    }
   ],
   "source": [
    "df['text'][0]"
   ]
  },
  {
   "cell_type": "markdown",
   "metadata": {
    "id": "pghj3X8ZBaD5"
   },
   "source": [
    "-----"
   ]
  },
  {
   "cell_type": "markdown",
   "metadata": {
    "id": "4eAD9Zhs3ZjB"
   },
   "source": [
    "### 3-2) 한국어 형태소분석 - 명사 단위"
   ]
  },
  {
   "cell_type": "markdown",
   "metadata": {
    "id": "huXcIK1D7eGI"
   },
   "source": [
    "##### 명사 형태소 추출"
   ]
  },
  {
   "cell_type": "code",
   "execution_count": 14,
   "metadata": {
    "colab": {
     "base_uri": "https://localhost:8080/"
    },
    "executionInfo": {
     "elapsed": 266,
     "status": "ok",
     "timestamp": 1631018475448,
     "user": {
      "displayName": "버물리",
      "photoUrl": "https://lh3.googleusercontent.com/a-/AOh14GjgbxaibZdpXcYXkRpN6pP-emIEzMQGGxk60Z1z=s64",
      "userId": "16343119817703036426"
     },
     "user_tz": -540
    },
    "id": "ePWpmhzL7f0A",
    "outputId": "257c7090-f798-46ed-8ab3-b5d9c1b8e811",
    "scrolled": true
   },
   "outputs": [
    {
     "ename": "SystemError",
     "evalue": "java.nio.file.InvalidPathException: Illegal char <*> at index 76: C:\\Users\\TECH2_07\\AppData\\Roaming\\Python\\Python37\\site-packages\\konlpy\\java\\*",
     "output_type": "error",
     "traceback": [
      "\u001b[1;31m---------------------------------------------------------------------------\u001b[0m",
      "\u001b[1;31mSystemError\u001b[0m                               Traceback (most recent call last)",
      "\u001b[1;32m~\\AppData\\Local\\Temp\\ipykernel_1816\\2440651154.py\u001b[0m in \u001b[0;36m<module>\u001b[1;34m\u001b[0m\n\u001b[0;32m      6\u001b[0m \u001b[1;31m# tolist()는 배열(array)로 선언된 변수를 list형식으로 바꿔주는 함수.\u001b[0m\u001b[1;33m\u001b[0m\u001b[1;33m\u001b[0m\u001b[1;33m\u001b[0m\u001b[0m\n\u001b[0;32m      7\u001b[0m \u001b[1;31m## 반대로 list를 array로 만드려면 np.array()를 사용.\u001b[0m\u001b[1;33m\u001b[0m\u001b[1;33m\u001b[0m\u001b[1;33m\u001b[0m\u001b[0m\n\u001b[1;32m----> 8\u001b[1;33m \u001b[0mnouns_tagger\u001b[0m \u001b[1;33m=\u001b[0m \u001b[0mOkt\u001b[0m\u001b[1;33m(\u001b[0m\u001b[1;33m)\u001b[0m\u001b[1;33m\u001b[0m\u001b[1;33m\u001b[0m\u001b[0m\n\u001b[0m\u001b[0;32m      9\u001b[0m \u001b[0mnouns\u001b[0m \u001b[1;33m=\u001b[0m \u001b[0mnouns_tagger\u001b[0m\u001b[1;33m.\u001b[0m\u001b[0mnouns\u001b[0m\u001b[1;33m(\u001b[0m\u001b[0mapply_regular_expression\u001b[0m\u001b[1;33m(\u001b[0m\u001b[0mdf\u001b[0m\u001b[1;33m[\u001b[0m\u001b[1;34m'text'\u001b[0m\u001b[1;33m]\u001b[0m\u001b[1;33m[\u001b[0m\u001b[1;36m0\u001b[0m\u001b[1;33m]\u001b[0m\u001b[1;33m)\u001b[0m\u001b[1;33m)\u001b[0m\u001b[1;33m\u001b[0m\u001b[1;33m\u001b[0m\u001b[0m\n\u001b[0;32m     10\u001b[0m \u001b[0mnouns\u001b[0m\u001b[1;33m\u001b[0m\u001b[1;33m\u001b[0m\u001b[0m\n",
      "\u001b[1;32m~\\AppData\\Roaming\\Python\\Python37\\site-packages\\konlpy\\tag\\_okt.py\u001b[0m in \u001b[0;36m__init__\u001b[1;34m(self, jvmpath, max_heap_size)\u001b[0m\n\u001b[0;32m     85\u001b[0m     \u001b[1;32mdef\u001b[0m \u001b[0m__init__\u001b[0m\u001b[1;33m(\u001b[0m\u001b[0mself\u001b[0m\u001b[1;33m,\u001b[0m \u001b[0mjvmpath\u001b[0m\u001b[1;33m=\u001b[0m\u001b[1;32mNone\u001b[0m\u001b[1;33m,\u001b[0m \u001b[0mmax_heap_size\u001b[0m\u001b[1;33m=\u001b[0m\u001b[1;36m1024\u001b[0m\u001b[1;33m)\u001b[0m\u001b[1;33m:\u001b[0m\u001b[1;33m\u001b[0m\u001b[1;33m\u001b[0m\u001b[0m\n\u001b[0;32m     86\u001b[0m         \u001b[1;32mif\u001b[0m \u001b[1;32mnot\u001b[0m \u001b[0mjpype\u001b[0m\u001b[1;33m.\u001b[0m\u001b[0misJVMStarted\u001b[0m\u001b[1;33m(\u001b[0m\u001b[1;33m)\u001b[0m\u001b[1;33m:\u001b[0m\u001b[1;33m\u001b[0m\u001b[1;33m\u001b[0m\u001b[0m\n\u001b[1;32m---> 87\u001b[1;33m             \u001b[0mjvm\u001b[0m\u001b[1;33m.\u001b[0m\u001b[0minit_jvm\u001b[0m\u001b[1;33m(\u001b[0m\u001b[0mjvmpath\u001b[0m\u001b[1;33m,\u001b[0m \u001b[0mmax_heap_size\u001b[0m\u001b[1;33m)\u001b[0m\u001b[1;33m\u001b[0m\u001b[1;33m\u001b[0m\u001b[0m\n\u001b[0m\u001b[0;32m     88\u001b[0m \u001b[1;33m\u001b[0m\u001b[0m\n\u001b[0;32m     89\u001b[0m         \u001b[0moktJavaPackage\u001b[0m \u001b[1;33m=\u001b[0m \u001b[0mjpype\u001b[0m\u001b[1;33m.\u001b[0m\u001b[0mJPackage\u001b[0m\u001b[1;33m(\u001b[0m\u001b[1;34m'kr.lucypark.okt'\u001b[0m\u001b[1;33m)\u001b[0m\u001b[1;33m\u001b[0m\u001b[1;33m\u001b[0m\u001b[0m\n",
      "\u001b[1;32m~\\AppData\\Roaming\\Python\\Python37\\site-packages\\konlpy\\jvm.py\u001b[0m in \u001b[0;36minit_jvm\u001b[1;34m(jvmpath, max_heap_size)\u001b[0m\n\u001b[0;32m     64\u001b[0m         jpype.startJVM(jvmpath, '-Djava.class.path=%s' % classpath,\n\u001b[0;32m     65\u001b[0m                                 \u001b[1;34m'-Dfile.encoding=UTF8'\u001b[0m\u001b[1;33m,\u001b[0m\u001b[1;33m\u001b[0m\u001b[1;33m\u001b[0m\u001b[0m\n\u001b[1;32m---> 66\u001b[1;33m                                 '-ea', '-Xmx{}m'.format(max_heap_size))\n\u001b[0m\u001b[0;32m     67\u001b[0m     \u001b[1;32melse\u001b[0m\u001b[1;33m:\u001b[0m\u001b[1;33m\u001b[0m\u001b[1;33m\u001b[0m\u001b[0m\n\u001b[0;32m     68\u001b[0m         \u001b[1;32mraise\u001b[0m \u001b[0mValueError\u001b[0m\u001b[1;33m(\u001b[0m\u001b[1;34m\"Please specify the JVM path.\"\u001b[0m\u001b[1;33m)\u001b[0m\u001b[1;33m\u001b[0m\u001b[1;33m\u001b[0m\u001b[0m\n",
      "\u001b[1;32m~\\AppData\\Roaming\\Python\\Python37\\site-packages\\jpype\\_core.py\u001b[0m in \u001b[0;36mstartJVM\u001b[1;34m(*args, **kwargs)\u001b[0m\n\u001b[0;32m    223\u001b[0m         \u001b[1;31m# Start the JVM\u001b[0m\u001b[1;33m\u001b[0m\u001b[1;33m\u001b[0m\u001b[1;33m\u001b[0m\u001b[0m\n\u001b[0;32m    224\u001b[0m         _jpype.startup(jvmpath, tuple(args),\n\u001b[1;32m--> 225\u001b[1;33m                        ignoreUnrecognized, convertStrings, interrupt)\n\u001b[0m\u001b[0;32m    226\u001b[0m         \u001b[1;31m# Collect required resources for operation\u001b[0m\u001b[1;33m\u001b[0m\u001b[1;33m\u001b[0m\u001b[1;33m\u001b[0m\u001b[0m\n\u001b[0;32m    227\u001b[0m         \u001b[0minitializeResources\u001b[0m\u001b[1;33m(\u001b[0m\u001b[1;33m)\u001b[0m\u001b[1;33m\u001b[0m\u001b[1;33m\u001b[0m\u001b[0m\n",
      "\u001b[1;31mSystemError\u001b[0m: java.nio.file.InvalidPathException: Illegal char <*> at index 76: C:\\Users\\TECH2_07\\AppData\\Roaming\\Python\\Python37\\site-packages\\konlpy\\java\\*"
     ]
    }
   ],
   "source": [
    "from konlpy.tag import Okt\n",
    "from collections import Counter\n",
    "\n",
    "\n",
    "# noun = 명사\n",
    "# tolist()는 배열(array)로 선언된 변수를 list형식으로 바꿔주는 함수.\n",
    "## 반대로 list를 array로 만드려면 np.array()를 사용.\n",
    "nouns_tagger = Okt()\n",
    "nouns = nouns_tagger.nouns(apply_regular_expression(df['text'][0]))\n",
    "nouns"
   ]
  },
  {
   "cell_type": "code",
   "execution_count": null,
   "metadata": {
    "id": "XMdNZNRZAvmh"
   },
   "outputs": [],
   "source": [
    "nouns = nouns_tagger.nouns(apply_regular_expression(\"\".join(df['text'].tolist())))"
   ]
  },
  {
   "cell_type": "code",
   "execution_count": 15,
   "metadata": {
    "colab": {
     "base_uri": "https://localhost:8080/"
    },
    "executionInfo": {
     "elapsed": 8,
     "status": "ok",
     "timestamp": 1631018487679,
     "user": {
      "displayName": "버물리",
      "photoUrl": "https://lh3.googleusercontent.com/a-/AOh14GjgbxaibZdpXcYXkRpN6pP-emIEzMQGGxk60Z1z=s64",
      "userId": "16343119817703036426"
     },
     "user_tz": -540
    },
    "id": "w4KTE9U5AvrJ",
    "outputId": "f4cad533-eab6-43cb-b215-0f5098f820c7"
   },
   "outputs": [
    {
     "ename": "NameError",
     "evalue": "name 'nouns' is not defined",
     "output_type": "error",
     "traceback": [
      "\u001b[1;31m---------------------------------------------------------------------------\u001b[0m",
      "\u001b[1;31mNameError\u001b[0m                                 Traceback (most recent call last)",
      "\u001b[1;32m~\\AppData\\Local\\Temp\\ipykernel_1816\\3155257583.py\u001b[0m in \u001b[0;36m<module>\u001b[1;34m\u001b[0m\n\u001b[1;32m----> 1\u001b[1;33m \u001b[0mcounter\u001b[0m \u001b[1;33m=\u001b[0m \u001b[0mCounter\u001b[0m\u001b[1;33m(\u001b[0m\u001b[0mnouns\u001b[0m\u001b[1;33m)\u001b[0m\u001b[1;33m\u001b[0m\u001b[1;33m\u001b[0m\u001b[0m\n\u001b[0m\u001b[0;32m      2\u001b[0m \u001b[0mcounter\u001b[0m\u001b[1;33m.\u001b[0m\u001b[0mmost_common\u001b[0m\u001b[1;33m(\u001b[0m\u001b[1;36m10\u001b[0m\u001b[1;33m)\u001b[0m\u001b[1;33m\u001b[0m\u001b[1;33m\u001b[0m\u001b[0m\n",
      "\u001b[1;31mNameError\u001b[0m: name 'nouns' is not defined"
     ]
    }
   ],
   "source": [
    "counter = Counter(nouns)\n",
    "counter.most_common(10)"
   ]
  },
  {
   "cell_type": "code",
   "execution_count": null,
   "metadata": {
    "id": "Y5yywiItAvuK"
   },
   "outputs": [],
   "source": []
  },
  {
   "cell_type": "markdown",
   "metadata": {
    "id": "wpr7mEG5A2At"
   },
   "source": [
    "##### 한글자 명사 제거"
   ]
  },
  {
   "cell_type": "code",
   "execution_count": 17,
   "metadata": {
    "colab": {
     "base_uri": "https://localhost:8080/"
    },
    "executionInfo": {
     "elapsed": 5,
     "status": "ok",
     "timestamp": 1631018487680,
     "user": {
      "displayName": "버물리",
      "photoUrl": "https://lh3.googleusercontent.com/a-/AOh14GjgbxaibZdpXcYXkRpN6pP-emIEzMQGGxk60Z1z=s64",
      "userId": "16343119817703036426"
     },
     "user_tz": -540
    },
    "id": "fDZfri14Avw1",
    "outputId": "c514ebe0-675a-4399-ed78-295489a970d0"
   },
   "outputs": [
    {
     "data": {
      "text/plain": [
       "[('호텔', 803),\n",
       " ('위치', 328),\n",
       " ('우리', 327),\n",
       " ('공항', 307),\n",
       " ('직원', 267),\n",
       " ('매우', 264),\n",
       " ('가격', 245),\n",
       " ('객실', 244),\n",
       " ('시설', 215),\n",
       " ('제주', 192)]"
      ]
     },
     "execution_count": 17,
     "metadata": {},
     "output_type": "execute_result"
    }
   ],
   "source": [
    "available_counter = Counter({x : counter[x] for x in counter if len(x) > 1})\n",
    "available_counter.most_common(10)"
   ]
  },
  {
   "cell_type": "markdown",
   "metadata": {
    "id": "QI0yqJ7PxS1q"
   },
   "source": [
    "-----"
   ]
  },
  {
   "cell_type": "markdown",
   "metadata": {
    "id": "Jbr6rURvBPJ6"
   },
   "source": [
    "### 3-3) 불용어 사전"
   ]
  },
  {
   "cell_type": "code",
   "execution_count": 18,
   "metadata": {
    "id": "7ZCmuyS8BUU9"
   },
   "outputs": [],
   "source": [
    "stopwords = pd.read_csv(\"https://raw.githubusercontent.com/yoonkt200/FastCampusDataset/master/korean_stopwords.txt\").values.tolist()"
   ]
  },
  {
   "cell_type": "code",
   "execution_count": 19,
   "metadata": {
    "colab": {
     "base_uri": "https://localhost:8080/"
    },
    "executionInfo": {
     "elapsed": 3,
     "status": "ok",
     "timestamp": 1631013706497,
     "user": {
      "displayName": "버물리",
      "photoUrl": "https://lh3.googleusercontent.com/a-/AOh14GjgbxaibZdpXcYXkRpN6pP-emIEzMQGGxk60Z1z=s64",
      "userId": "16343119817703036426"
     },
     "user_tz": -540
    },
    "id": "IJTLaAlwBUYE",
    "outputId": "db7500fe-f3da-4bcb-d13f-780209877ba2"
   },
   "outputs": [
    {
     "data": {
      "text/plain": [
       "[['휴'],\n",
       " ['아이구'],\n",
       " ['아이쿠'],\n",
       " ['아이고'],\n",
       " ['어'],\n",
       " ['나'],\n",
       " ['우리'],\n",
       " ['저희'],\n",
       " ['따라'],\n",
       " ['의해']]"
      ]
     },
     "execution_count": 19,
     "metadata": {},
     "output_type": "execute_result"
    }
   ],
   "source": [
    "stopwords[:10]"
   ]
  },
  {
   "cell_type": "code",
   "execution_count": 20,
   "metadata": {
    "id": "i4JC-i7bR2QW"
   },
   "outputs": [],
   "source": [
    "jeju_list = ['제주', '제주도', '호텔', '리뷰', '숙소', '여행', '트립']\n",
    "\n",
    "for word in jeju_list:\n",
    "  stopwords.append(word)"
   ]
  },
  {
   "cell_type": "markdown",
   "metadata": {
    "id": "qb9hCD7GBWOJ"
   },
   "source": [
    "-----"
   ]
  },
  {
   "cell_type": "markdown",
   "metadata": {
    "id": "6-XoxM4KBWRB"
   },
   "source": [
    "### 3-4) Word Count"
   ]
  },
  {
   "cell_type": "markdown",
   "metadata": {
    "id": "0hNlz_-kCq3v"
   },
   "source": [
    "##### BoW 벡터 생성"
   ]
  },
  {
   "cell_type": "markdown",
   "metadata": {
    "id": "bI5XQKOBUBJG"
   },
   "source": [
    "\n",
    "###### Bow의 의미\n",
    "\n",
    "\n",
    "Bag of Words란 단어들의 순서는 전혀 고려하지 않고, 단어들의 출현 빈도(frequency)에만 집중하는 텍스트 데이터의 수치화 표현 방법이다.Bag of Words를 직역하면 단어들의 가방이라는 의미이다. 단어들이 들어있는 가방을 상상해보자. 갖고있는 어떤 텍스트 문서에 있는 단어들을 가방에다가 전부 넣는다. 그러고나서 이 가방을 흔들어 단어들을 섞는다. 만약, 해당 문서 내에서 특정 단어가 N번 등장했다면, 이 가방에는 그 특정 단어가 N개 있게 된다. 또한 가방을 흔들어서 단어를 섞었기 떄문에 더 이상 단어의 순서는 중요하지 않는다.\n",
    "\n",
    "\n",
    "---\n",
    "**Bow 만드는 과정**\n",
    "\n",
    "```\n",
    "과정 1.   우선, 각 단어의 고유한 인덱스(Index)를 부여한다.\n",
    "과정 2.   각 인덱스의 위치에 단어 토큰의 등장 횟수를 기록한 벡터(Vector)를 만든다.\n",
    "```"
   ]
  },
  {
   "cell_type": "code",
   "execution_count": 23,
   "metadata": {
    "id": "ae-mZ9HOCcX1"
   },
   "outputs": [],
   "source": [
    "from sklearn.feature_extraction.text import CountVectorizer\n",
    "\n",
    "def text_cleaning(text):\n",
    "  hangul = re.compile('[^ ㄱ-ㅣ가-힣]')\n",
    "  result = hangul.sub('', text)\n",
    "  tagger = Okt()\n",
    "  nouns = nouns_tagger.nouns(result)\n",
    "  nouns = [x for x in nouns if len(x) > 1]\n",
    "  nouns = [x for x in nouns if x not in stopwords]\n",
    "  return nouns"
   ]
  },
  {
   "cell_type": "code",
   "execution_count": 31,
   "metadata": {
    "id": "I7WlEPkKCca9"
   },
   "outputs": [],
   "source": [
    "vect = CountVectorizer(tokenizer = lambda x : text_cleaning(x))\n",
    "bow_vect = vect.fit_transform(df['text'].tolist())\n",
    "word_list = vect.get_feature_names_out()\n",
    "count_list = bow_vect.toarray().sum(axis=0)"
   ]
  },
  {
   "cell_type": "code",
   "execution_count": 32,
   "metadata": {
    "colab": {
     "base_uri": "https://localhost:8080/"
    },
    "executionInfo": {
     "elapsed": 265,
     "status": "ok",
     "timestamp": 1631018872238,
     "user": {
      "displayName": "버물리",
      "photoUrl": "https://lh3.googleusercontent.com/a-/AOh14GjgbxaibZdpXcYXkRpN6pP-emIEzMQGGxk60Z1z=s64",
      "userId": "16343119817703036426"
     },
     "user_tz": -540
    },
    "id": "6-FIjghaCcdb",
    "outputId": "29c6cb95-2336-4458-f54f-5e5f8a47d13f"
   },
   "outputs": [
    {
     "data": {
      "text/plain": [
       "array(['가가', '가게', '가격', ..., '희망', '히터', '힐링'], dtype=object)"
      ]
     },
     "execution_count": 32,
     "metadata": {},
     "output_type": "execute_result"
    }
   ],
   "source": [
    "word_list"
   ]
  },
  {
   "cell_type": "code",
   "execution_count": 33,
   "metadata": {
    "colab": {
     "base_uri": "https://localhost:8080/"
    },
    "executionInfo": {
     "elapsed": 259,
     "status": "ok",
     "timestamp": 1631018899719,
     "user": {
      "displayName": "버물리",
      "photoUrl": "https://lh3.googleusercontent.com/a-/AOh14GjgbxaibZdpXcYXkRpN6pP-emIEzMQGGxk60Z1z=s64",
      "userId": "16343119817703036426"
     },
     "user_tz": -540
    },
    "id": "3od1nB2ECcf_",
    "outputId": "a559578b-778d-41b2-9d2a-4f037b28c607"
   },
   "outputs": [
    {
     "data": {
      "text/plain": [
       "array([  4,   8, 245, ...,   1,   7,  14], dtype=int64)"
      ]
     },
     "execution_count": 33,
     "metadata": {},
     "output_type": "execute_result"
    }
   ],
   "source": [
    "# 첫번째 단어는 4번 등장, 두번째 단어는 8번 등장......\n",
    "count_list"
   ]
  },
  {
   "cell_type": "code",
   "execution_count": 34,
   "metadata": {
    "colab": {
     "base_uri": "https://localhost:8080/"
    },
    "executionInfo": {
     "elapsed": 267,
     "status": "ok",
     "timestamp": 1631018931519,
     "user": {
      "displayName": "버물리",
      "photoUrl": "https://lh3.googleusercontent.com/a-/AOh14GjgbxaibZdpXcYXkRpN6pP-emIEzMQGGxk60Z1z=s64",
      "userId": "16343119817703036426"
     },
     "user_tz": -540
    },
    "id": "H-jKjWBVCyAZ",
    "outputId": "82f560d0-8c1b-4676-b56a-2228e32d385c"
   },
   "outputs": [
    {
     "data": {
      "text/plain": [
       "(1001, 3599)"
      ]
     },
     "execution_count": 34,
     "metadata": {},
     "output_type": "execute_result"
    }
   ],
   "source": [
    "bow_vect.shape"
   ]
  },
  {
   "cell_type": "code",
   "execution_count": 35,
   "metadata": {
    "colab": {
     "base_uri": "https://localhost:8080/"
    },
    "executionInfo": {
     "elapsed": 4,
     "status": "ok",
     "timestamp": 1631018980445,
     "user": {
      "displayName": "버물리",
      "photoUrl": "https://lh3.googleusercontent.com/a-/AOh14GjgbxaibZdpXcYXkRpN6pP-emIEzMQGGxk60Z1z=s64",
      "userId": "16343119817703036426"
     },
     "user_tz": -540
    },
    "id": "YHf8jMXgCyDN",
    "outputId": "22d02386-5535-47dd-d67e-9f9909656bb5"
   },
   "outputs": [
    {
     "name": "stdout",
     "output_type": "stream",
     "text": [
      "{'가가': 4, '가게': 8, '가격': 245, '가격표': 1, '가구': 8, '가급': 1, '가기': 20, '가까이': 20, '가끔': 5, '가능': 10, '가\n"
     ]
    }
   ],
   "source": [
    "word_count_dict = dict(zip(word_list, count_list))\n",
    "print(str(word_count_dict)[:100])"
   ]
  },
  {
   "cell_type": "markdown",
   "metadata": {
    "id": "tv8-qE6MC79d"
   },
   "source": [
    "-----"
   ]
  },
  {
   "cell_type": "markdown",
   "metadata": {
    "id": "WMwtBHzKC85L"
   },
   "source": [
    "### 3-5) TF-IDF 적용"
   ]
  },
  {
   "cell_type": "markdown",
   "metadata": {
    "id": "d6kLDjZYDHs7"
   },
   "source": [
    "##### TF-IDF 변환"
   ]
  },
  {
   "cell_type": "code",
   "execution_count": 36,
   "metadata": {
    "id": "eE5AR1IzDCAD"
   },
   "outputs": [],
   "source": [
    "from sklearn.feature_extraction.text import TfidfTransformer\n",
    "\n",
    "tfidf_vectorizer = TfidfTransformer()\n",
    "tf_idf_vect = tfidf_vectorizer.fit_transform(bow_vect)"
   ]
  },
  {
   "cell_type": "code",
   "execution_count": 37,
   "metadata": {
    "colab": {
     "base_uri": "https://localhost:8080/"
    },
    "executionInfo": {
     "elapsed": 4,
     "status": "ok",
     "timestamp": 1631019093362,
     "user": {
      "displayName": "버물리",
      "photoUrl": "https://lh3.googleusercontent.com/a-/AOh14GjgbxaibZdpXcYXkRpN6pP-emIEzMQGGxk60Z1z=s64",
      "userId": "16343119817703036426"
     },
     "user_tz": -540
    },
    "id": "bCq6b-3TDCC-",
    "outputId": "d5ff773a-e01e-4b17-f4a4-914710a4ff85"
   },
   "outputs": [
    {
     "name": "stdout",
     "output_type": "stream",
     "text": [
      "  (0, 3588)\t0.35673213299026796\n",
      "  (0, 2927)\t0.2582351368959594\n",
      "  (0, 2925)\t0.320251680858207\n",
      "  (0, 2866)\t0.48843555212083145\n",
      "  (0, 2696)\t0.23004450213863206\n",
      "  (0, 2311)\t0.15421663035331626\n",
      "  (0, 1584)\t0.48843555212083145\n",
      "  (0, 1527)\t0.2928089229786031\n",
      "  (0, 790)\t0.2528176728459411\n"
     ]
    }
   ],
   "source": [
    "print(tf_idf_vect[0])"
   ]
  },
  {
   "cell_type": "markdown",
   "metadata": {
    "id": "LAXZrfU8DRPx"
   },
   "source": [
    "##### 벡터 : 단어 맵핑"
   ]
  },
  {
   "cell_type": "code",
   "execution_count": 38,
   "metadata": {
    "colab": {
     "base_uri": "https://localhost:8080/"
    },
    "executionInfo": {
     "elapsed": 250,
     "status": "ok",
     "timestamp": 1631019172517,
     "user": {
      "displayName": "버물리",
      "photoUrl": "https://lh3.googleusercontent.com/a-/AOh14GjgbxaibZdpXcYXkRpN6pP-emIEzMQGGxk60Z1z=s64",
      "userId": "16343119817703036426"
     },
     "user_tz": -540
    },
    "id": "jpOhHaKqDCFm",
    "outputId": "3490e248-1d80-44d6-a14d-3db1c7548d1e"
   },
   "outputs": [
    {
     "name": "stdout",
     "output_type": "stream",
     "text": [
      "{2866: '집중', 3588: '휴식', 2696: '제공', 2311: '위치', 1584: '선정', 790: '또한', 2927: '청소', 2925: '청결', 1527\n"
     ]
    }
   ],
   "source": [
    "invert_index_vectorizer = {v : k for k, v in vect.vocabulary_.items()}\n",
    "print(str(invert_index_vectorizer)[:100])"
   ]
  },
  {
   "cell_type": "markdown",
   "metadata": {
    "id": "nvwPAdU2DA_v"
   },
   "source": [
    "-----"
   ]
  },
  {
   "cell_type": "markdown",
   "metadata": {
    "id": "3Nb-h1fM7nLc"
   },
   "source": [
    "## 4) Logistic Regression 분류"
   ]
  },
  {
   "cell_type": "markdown",
   "metadata": {
    "id": "87E9Sz5g4YFE"
   },
   "source": [
    "### 4-1) 데이터셋 생성"
   ]
  },
  {
   "cell_type": "markdown",
   "metadata": {
    "id": "dcVGBXHVDeIu"
   },
   "source": [
    "##### Rating 데이터 이진으로 변환"
   ]
  },
  {
   "cell_type": "code",
   "execution_count": 39,
   "metadata": {
    "colab": {
     "base_uri": "https://localhost:8080/",
     "height": 204
    },
    "executionInfo": {
     "elapsed": 4,
     "status": "ok",
     "timestamp": 1631019240332,
     "user": {
      "displayName": "버물리",
      "photoUrl": "https://lh3.googleusercontent.com/a-/AOh14GjgbxaibZdpXcYXkRpN6pP-emIEzMQGGxk60Z1z=s64",
      "userId": "16343119817703036426"
     },
     "user_tz": -540
    },
    "id": "PS27E0CT4h-7",
    "outputId": "c3383cab-fd39-4217-a381-c1eb3d11435f"
   },
   "outputs": [
    {
     "data": {
      "text/html": [
       "<div>\n",
       "<style scoped>\n",
       "    .dataframe tbody tr th:only-of-type {\n",
       "        vertical-align: middle;\n",
       "    }\n",
       "\n",
       "    .dataframe tbody tr th {\n",
       "        vertical-align: top;\n",
       "    }\n",
       "\n",
       "    .dataframe thead th {\n",
       "        text-align: right;\n",
       "    }\n",
       "</style>\n",
       "<table border=\"1\" class=\"dataframe\">\n",
       "  <thead>\n",
       "    <tr style=\"text-align: right;\">\n",
       "      <th></th>\n",
       "      <th>rating</th>\n",
       "      <th>text</th>\n",
       "    </tr>\n",
       "  </thead>\n",
       "  <tbody>\n",
       "    <tr>\n",
       "      <th>0</th>\n",
       "      <td>4</td>\n",
       "      <td>여행에 집중할수 있게 편안한 휴식을 제공하는 호텔이었습니다. 위치선정 또한 적당한 ...</td>\n",
       "    </tr>\n",
       "    <tr>\n",
       "      <th>1</th>\n",
       "      <td>4</td>\n",
       "      <td>2일 이상 연박시 침대, 이불, 베게등 침구류 교체 및 어메니티 보강이 필요해 보입...</td>\n",
       "    </tr>\n",
       "    <tr>\n",
       "      <th>2</th>\n",
       "      <td>4</td>\n",
       "      <td>지인에소개로온 호텔  깨끗하고 좋은거같아요 처음에는 없는게 많아 많이  당황했는데 ...</td>\n",
       "    </tr>\n",
       "    <tr>\n",
       "      <th>3</th>\n",
       "      <td>5</td>\n",
       "      <td>방에 딱 들어서자마자 눈이 휘둥그레질정도로 이렇게 넓은 호텔 처음 와본 것 같아요!...</td>\n",
       "    </tr>\n",
       "    <tr>\n",
       "      <th>4</th>\n",
       "      <td>5</td>\n",
       "      <td>저녁에 맥주한잔 하는게 좋아서 렌트 안하고 뚜벅이 하기로 했는데 호텔 바로 앞에 버...</td>\n",
       "    </tr>\n",
       "  </tbody>\n",
       "</table>\n",
       "</div>"
      ],
      "text/plain": [
       "   rating                                               text\n",
       "0       4  여행에 집중할수 있게 편안한 휴식을 제공하는 호텔이었습니다. 위치선정 또한 적당한 ...\n",
       "1       4  2일 이상 연박시 침대, 이불, 베게등 침구류 교체 및 어메니티 보강이 필요해 보입...\n",
       "2       4  지인에소개로온 호텔  깨끗하고 좋은거같아요 처음에는 없는게 많아 많이  당황했는데 ...\n",
       "3       5  방에 딱 들어서자마자 눈이 휘둥그레질정도로 이렇게 넓은 호텔 처음 와본 것 같아요!...\n",
       "4       5  저녁에 맥주한잔 하는게 좋아서 렌트 안하고 뚜벅이 하기로 했는데 호텔 바로 앞에 버..."
      ]
     },
     "execution_count": 39,
     "metadata": {},
     "output_type": "execute_result"
    }
   ],
   "source": [
    "df.head()"
   ]
  },
  {
   "cell_type": "code",
   "execution_count": 45,
   "metadata": {
    "colab": {
     "base_uri": "https://localhost:8080/",
     "height": 284
    },
    "executionInfo": {
     "elapsed": 763,
     "status": "ok",
     "timestamp": 1631019298963,
     "user": {
      "displayName": "버물리",
      "photoUrl": "https://lh3.googleusercontent.com/a-/AOh14GjgbxaibZdpXcYXkRpN6pP-emIEzMQGGxk60Z1z=s64",
      "userId": "16343119817703036426"
     },
     "user_tz": -540
    },
    "id": "lXvHnoTY96zZ",
    "outputId": "b8f5218c-13ce-4b96-c165-7591e4bb6c4e"
   },
   "outputs": [
    {
     "data": {
      "image/png": "[encoded data removed]",
      "text/plain": [
       "<Figure size 640x480 with 1 Axes>"
      ]
     },
     "metadata": {},
     "output_type": "display_data"
    }
   ],
   "source": [
    "df.rating.hist()\n",
    "plt.show()"
   ]
  },
  {
   "cell_type": "code",
   "execution_count": 46,
   "metadata": {
    "colab": {
     "base_uri": "https://localhost:8080/",
     "height": 204
    },
    "executionInfo": {
     "elapsed": 260,
     "status": "ok",
     "timestamp": 1631019316561,
     "user": {
      "displayName": "버물리",
      "photoUrl": "https://lh3.googleusercontent.com/a-/AOh14GjgbxaibZdpXcYXkRpN6pP-emIEzMQGGxk60Z1z=s64",
      "userId": "16343119817703036426"
     },
     "user_tz": -540
    },
    "id": "lhjSTR4HDlXS",
    "outputId": "29737e3d-0b41-4892-fcf0-a7648d69a170"
   },
   "outputs": [
    {
     "data": {
      "text/html": [
       "<div>\n",
       "<style scoped>\n",
       "    .dataframe tbody tr th:only-of-type {\n",
       "        vertical-align: middle;\n",
       "    }\n",
       "\n",
       "    .dataframe tbody tr th {\n",
       "        vertical-align: top;\n",
       "    }\n",
       "\n",
       "    .dataframe thead th {\n",
       "        text-align: right;\n",
       "    }\n",
       "</style>\n",
       "<table border=\"1\" class=\"dataframe\">\n",
       "  <thead>\n",
       "    <tr style=\"text-align: right;\">\n",
       "      <th></th>\n",
       "      <th>rating</th>\n",
       "      <th>text</th>\n",
       "      <th>y</th>\n",
       "    </tr>\n",
       "  </thead>\n",
       "  <tbody>\n",
       "    <tr>\n",
       "      <th>950</th>\n",
       "      <td>5</td>\n",
       "      <td>26 / 2 / 18에 하룻밤을 머물렀다. 장소를 돌보는 부부는 친절하고 도움이되었...</td>\n",
       "      <td>1</td>\n",
       "    </tr>\n",
       "    <tr>\n",
       "      <th>911</th>\n",
       "      <td>5</td>\n",
       "      <td>공항에서 가깝고 청결상태도 좋은 호텔입니다. 약간 골목에 위치해 있어 처음 갈 때 ...</td>\n",
       "      <td>1</td>\n",
       "    </tr>\n",
       "    <tr>\n",
       "      <th>961</th>\n",
       "      <td>4</td>\n",
       "      <td>이에 관련된 것을 생각하지 않습니다 호텔 이름을 제외한 초콜릿. 큰 객실, 단정하고...</td>\n",
       "      <td>1</td>\n",
       "    </tr>\n",
       "    <tr>\n",
       "      <th>187</th>\n",
       "      <td>5</td>\n",
       "      <td>멋진 제주 섬을 발견하기 위해 5박을 거기에서 보냈다. 이 게스트 하우스는 도시의 ...</td>\n",
       "      <td>1</td>\n",
       "    </tr>\n",
       "    <tr>\n",
       "      <th>449</th>\n",
       "      <td>5</td>\n",
       "      <td>안녕하세요. 내가 마지막으로 2015 frien 을 봄. 8pm 에 도착 하다. 이...</td>\n",
       "      <td>1</td>\n",
       "    </tr>\n",
       "  </tbody>\n",
       "</table>\n",
       "</div>"
      ],
      "text/plain": [
       "     rating                                               text  y\n",
       "950       5  26 / 2 / 18에 하룻밤을 머물렀다. 장소를 돌보는 부부는 친절하고 도움이되었...  1\n",
       "911       5  공항에서 가깝고 청결상태도 좋은 호텔입니다. 약간 골목에 위치해 있어 처음 갈 때 ...  1\n",
       "961       4  이에 관련된 것을 생각하지 않습니다 호텔 이름을 제외한 초콜릿. 큰 객실, 단정하고...  1\n",
       "187       5  멋진 제주 섬을 발견하기 위해 5박을 거기에서 보냈다. 이 게스트 하우스는 도시의 ...  1\n",
       "449       5  안녕하세요. 내가 마지막으로 2015 frien 을 봄. 8pm 에 도착 하다. 이...  1"
      ]
     },
     "execution_count": 46,
     "metadata": {},
     "output_type": "execute_result"
    }
   ],
   "source": [
    "df.sample(10).head()"
   ]
  },
  {
   "cell_type": "code",
   "execution_count": 29,
   "metadata": {
    "id": "fADwGYKLDlaU"
   },
   "outputs": [],
   "source": [
    "'''\n",
    "이진 분류 부분\n",
    "rating이 4, 5점에 해당되면 긍정적.\n",
    "rating이 1, 2, 3점에 해당되면 부정적.\n",
    "\n",
    "이를 새로운 칼럼을 만들어서 긍정적이면 1, 그 외에는 0으로 분류\n",
    "'''\n",
    "def rating_to_label(rating):\n",
    "  if rating > 3:\n",
    "    return 1\n",
    "  else:\n",
    "    return 0\n",
    "df['y'] = df['rating'].apply(lambda x : rating_to_label(x))"
   ]
  },
  {
   "cell_type": "code",
   "execution_count": 30,
   "metadata": {
    "colab": {
     "base_uri": "https://localhost:8080/",
     "height": 204
    },
    "executionInfo": {
     "elapsed": 258,
     "status": "ok",
     "timestamp": 1631019449969,
     "user": {
      "displayName": "버물리",
      "photoUrl": "https://lh3.googleusercontent.com/a-/AOh14GjgbxaibZdpXcYXkRpN6pP-emIEzMQGGxk60Z1z=s64",
      "userId": "16343119817703036426"
     },
     "user_tz": -540
    },
    "id": "FZi8MUaxDp2U",
    "outputId": "9a15a2e0-426a-49f0-b36f-4c7827755f6c"
   },
   "outputs": [
    {
     "data": {
      "text/html": [
       "<div>\n",
       "<style scoped>\n",
       "    .dataframe tbody tr th:only-of-type {\n",
       "        vertical-align: middle;\n",
       "    }\n",
       "\n",
       "    .dataframe tbody tr th {\n",
       "        vertical-align: top;\n",
       "    }\n",
       "\n",
       "    .dataframe thead th {\n",
       "        text-align: right;\n",
       "    }\n",
       "</style>\n",
       "<table border=\"1\" class=\"dataframe\">\n",
       "  <thead>\n",
       "    <tr style=\"text-align: right;\">\n",
       "      <th></th>\n",
       "      <th>rating</th>\n",
       "      <th>text</th>\n",
       "      <th>y</th>\n",
       "    </tr>\n",
       "  </thead>\n",
       "  <tbody>\n",
       "    <tr>\n",
       "      <th>0</th>\n",
       "      <td>4</td>\n",
       "      <td>여행에 집중할수 있게 편안한 휴식을 제공하는 호텔이었습니다. 위치선정 또한 적당한 ...</td>\n",
       "      <td>1</td>\n",
       "    </tr>\n",
       "    <tr>\n",
       "      <th>1</th>\n",
       "      <td>4</td>\n",
       "      <td>2일 이상 연박시 침대, 이불, 베게등 침구류 교체 및 어메니티 보강이 필요해 보입...</td>\n",
       "      <td>1</td>\n",
       "    </tr>\n",
       "    <tr>\n",
       "      <th>2</th>\n",
       "      <td>4</td>\n",
       "      <td>지인에소개로온 호텔  깨끗하고 좋은거같아요 처음에는 없는게 많아 많이  당황했는데 ...</td>\n",
       "      <td>1</td>\n",
       "    </tr>\n",
       "    <tr>\n",
       "      <th>3</th>\n",
       "      <td>5</td>\n",
       "      <td>방에 딱 들어서자마자 눈이 휘둥그레질정도로 이렇게 넓은 호텔 처음 와본 것 같아요!...</td>\n",
       "      <td>1</td>\n",
       "    </tr>\n",
       "    <tr>\n",
       "      <th>4</th>\n",
       "      <td>5</td>\n",
       "      <td>저녁에 맥주한잔 하는게 좋아서 렌트 안하고 뚜벅이 하기로 했는데 호텔 바로 앞에 버...</td>\n",
       "      <td>1</td>\n",
       "    </tr>\n",
       "  </tbody>\n",
       "</table>\n",
       "</div>"
      ],
      "text/plain": [
       "   rating                                               text  y\n",
       "0       4  여행에 집중할수 있게 편안한 휴식을 제공하는 호텔이었습니다. 위치선정 또한 적당한 ...  1\n",
       "1       4  2일 이상 연박시 침대, 이불, 베게등 침구류 교체 및 어메니티 보강이 필요해 보입...  1\n",
       "2       4  지인에소개로온 호텔  깨끗하고 좋은거같아요 처음에는 없는게 많아 많이  당황했는데 ...  1\n",
       "3       5  방에 딱 들어서자마자 눈이 휘둥그레질정도로 이렇게 넓은 호텔 처음 와본 것 같아요!...  1\n",
       "4       5  저녁에 맥주한잔 하는게 좋아서 렌트 안하고 뚜벅이 하기로 했는데 호텔 바로 앞에 버...  1"
      ]
     },
     "execution_count": 30,
     "metadata": {},
     "output_type": "execute_result"
    }
   ],
   "source": [
    "df.head()"
   ]
  },
  {
   "cell_type": "code",
   "execution_count": 31,
   "metadata": {
    "colab": {
     "base_uri": "https://localhost:8080/"
    },
    "executionInfo": {
     "elapsed": 333,
     "status": "ok",
     "timestamp": 1631019465822,
     "user": {
      "displayName": "버물리",
      "photoUrl": "https://lh3.googleusercontent.com/a-/AOh14GjgbxaibZdpXcYXkRpN6pP-emIEzMQGGxk60Z1z=s64",
      "userId": "16343119817703036426"
     },
     "user_tz": -540
    },
    "id": "Pjb-Tb0CVeKI",
    "outputId": "466fede0-2426-4208-d16a-d895335325f6"
   },
   "outputs": [
    {
     "data": {
      "text/plain": [
       "1    726\n",
       "0    275\n",
       "Name: y, dtype: int64"
      ]
     },
     "execution_count": 31,
     "metadata": {},
     "output_type": "execute_result"
    }
   ],
   "source": [
    "df.y.value_counts()"
   ]
  },
  {
   "cell_type": "markdown",
   "metadata": {
    "id": "ocEMVqzM-MdE"
   },
   "source": [
    "-----"
   ]
  },
  {
   "cell_type": "markdown",
   "metadata": {
    "id": "dK64F8GZ-N8s"
   },
   "source": []
  },
  {
   "cell_type": "markdown",
   "metadata": {
    "id": "Pe7BOBrW-OAw"
   },
   "source": [
    "### 4-2) 데이터셋 분리"
   ]
  },
  {
   "cell_type": "code",
   "execution_count": 32,
   "metadata": {
    "id": "-Wxv-F3P-NEU"
   },
   "outputs": [],
   "source": [
    "from sklearn.model_selection import train_test_split\n",
    "\n",
    "y = df['y']\n",
    "x_train, x_test, y_train, y_test = train_test_split(tf_idf_vect, y, test_size = 0.3)"
   ]
  },
  {
   "cell_type": "code",
   "execution_count": 33,
   "metadata": {
    "colab": {
     "base_uri": "https://localhost:8080/"
    },
    "executionInfo": {
     "elapsed": 261,
     "status": "ok",
     "timestamp": 1631019565833,
     "user": {
      "displayName": "버물리",
      "photoUrl": "https://lh3.googleusercontent.com/a-/AOh14GjgbxaibZdpXcYXkRpN6pP-emIEzMQGGxk60Z1z=s64",
      "userId": "16343119817703036426"
     },
     "user_tz": -540
    },
    "id": "rsDAFsCY-Unv",
    "outputId": "4465fbe4-710a-48b3-9d4d-4e0cbd5b1c70"
   },
   "outputs": [
    {
     "name": "stdout",
     "output_type": "stream",
     "text": [
      "(700, 3599)\n",
      "(301, 3599)\n"
     ]
    }
   ],
   "source": [
    "print(x_train.shape)\n",
    "print(x_test.shape)"
   ]
  },
  {
   "cell_type": "markdown",
   "metadata": {
    "id": "pMkSIg7JD7rj"
   },
   "source": [
    "-----"
   ]
  },
  {
   "cell_type": "markdown",
   "metadata": {
    "id": "lHGviAneD7vN"
   },
   "source": [
    "### 4-3) 모델 학습"
   ]
  },
  {
   "cell_type": "markdown",
   "metadata": {
    "id": "kbez8JYXD7x-"
   },
   "source": [
    "##### Logistic Regression 학습"
   ]
  },
  {
   "cell_type": "code",
   "execution_count": 34,
   "metadata": {
    "id": "rx7Ojv4TEBq3"
   },
   "outputs": [],
   "source": [
    "from sklearn.linear_model import LogisticRegression\n",
    "from sklearn.metrics import accuracy_score, precision_score, recall_score, f1_score\n",
    "\n",
    "lr = LogisticRegression(random_state = 0)\n",
    "lr.fit(x_train, y_train)\n",
    "\n",
    "y_pred = lr.predict(x_test)"
   ]
  },
  {
   "cell_type": "markdown",
   "metadata": {
    "id": "eYOegz_7EKg8"
   },
   "source": [
    "##### 분류 결과 평가"
   ]
  },
  {
   "cell_type": "code",
   "execution_count": 35,
   "metadata": {
    "colab": {
     "base_uri": "https://localhost:8080/"
    },
    "executionInfo": {
     "elapsed": 392,
     "status": "ok",
     "timestamp": 1631019684972,
     "user": {
      "displayName": "버물리",
      "photoUrl": "https://lh3.googleusercontent.com/a-/AOh14GjgbxaibZdpXcYXkRpN6pP-emIEzMQGGxk60Z1z=s64",
      "userId": "16343119817703036426"
     },
     "user_tz": -540
    },
    "id": "lyLhjDwFEB8h",
    "outputId": "72ff64b6-920b-4bbb-be88-3ad5485f483d"
   },
   "outputs": [
    {
     "data": {
      "text/plain": [
       "0.7109634551495017"
      ]
     },
     "execution_count": 35,
     "metadata": {},
     "output_type": "execute_result"
    }
   ],
   "source": [
    "accuracy_score(y_test, y_pred)"
   ]
  },
  {
   "cell_type": "code",
   "execution_count": 36,
   "metadata": {
    "colab": {
     "base_uri": "https://localhost:8080/"
    },
    "executionInfo": {
     "elapsed": 7,
     "status": "ok",
     "timestamp": 1631019684972,
     "user": {
      "displayName": "버물리",
      "photoUrl": "https://lh3.googleusercontent.com/a-/AOh14GjgbxaibZdpXcYXkRpN6pP-emIEzMQGGxk60Z1z=s64",
      "userId": "16343119817703036426"
     },
     "user_tz": -540
    },
    "id": "6gd3tmYXEJ32",
    "outputId": "74ebab50-b70e-449a-87b3-a7cb6451e756"
   },
   "outputs": [
    {
     "data": {
      "text/plain": [
       "0.706081081081081"
      ]
     },
     "execution_count": 36,
     "metadata": {},
     "output_type": "execute_result"
    }
   ],
   "source": [
    "precision_score(y_test, y_pred)"
   ]
  },
  {
   "cell_type": "code",
   "execution_count": 37,
   "metadata": {
    "colab": {
     "base_uri": "https://localhost:8080/"
    },
    "executionInfo": {
     "elapsed": 5,
     "status": "ok",
     "timestamp": 1631019684973,
     "user": {
      "displayName": "버물리",
      "photoUrl": "https://lh3.googleusercontent.com/a-/AOh14GjgbxaibZdpXcYXkRpN6pP-emIEzMQGGxk60Z1z=s64",
      "userId": "16343119817703036426"
     },
     "user_tz": -540
    },
    "id": "VRyCY1HkWSwC",
    "outputId": "d4a414b3-c2f9-4933-81ab-b00d4adf1b73"
   },
   "outputs": [
    {
     "data": {
      "text/plain": [
       "1.0"
      ]
     },
     "execution_count": 37,
     "metadata": {},
     "output_type": "execute_result"
    }
   ],
   "source": [
    "recall_score(y_test, y_pred)"
   ]
  },
  {
   "cell_type": "code",
   "execution_count": 38,
   "metadata": {
    "colab": {
     "base_uri": "https://localhost:8080/"
    },
    "executionInfo": {
     "elapsed": 403,
     "status": "ok",
     "timestamp": 1631019685372,
     "user": {
      "displayName": "버물리",
      "photoUrl": "https://lh3.googleusercontent.com/a-/AOh14GjgbxaibZdpXcYXkRpN6pP-emIEzMQGGxk60Z1z=s64",
      "userId": "16343119817703036426"
     },
     "user_tz": -540
    },
    "id": "gkf4bDWPWSyh",
    "outputId": "8deac49e-332b-47a1-e217-4aade8f18c46"
   },
   "outputs": [
    {
     "data": {
      "text/plain": [
       "0.8277227722772277"
      ]
     },
     "execution_count": 38,
     "metadata": {},
     "output_type": "execute_result"
    }
   ],
   "source": [
    "f1_score(y_test, y_pred)"
   ]
  },
  {
   "cell_type": "code",
   "execution_count": 39,
   "metadata": {
    "colab": {
     "base_uri": "https://localhost:8080/"
    },
    "executionInfo": {
     "elapsed": 344,
     "status": "ok",
     "timestamp": 1631019889960,
     "user": {
      "displayName": "버물리",
      "photoUrl": "https://lh3.googleusercontent.com/a-/AOh14GjgbxaibZdpXcYXkRpN6pP-emIEzMQGGxk60Z1z=s64",
      "userId": "16343119817703036426"
     },
     "user_tz": -540
    },
    "id": "HdG0b2QFWYoz",
    "outputId": "4bdcdf76-f2b8-496c-818d-e849e8948b02"
   },
   "outputs": [
    {
     "name": "stdout",
     "output_type": "stream",
     "text": [
      "[[  5  87]\n",
      " [  0 209]]\n"
     ]
    }
   ],
   "source": [
    "# y=1과 y=0의 샘플링의 크기가 다르기 때문에 편향된 예측을 함.\n",
    "# y=1의 크기는 700개, y=0의 크기는 301개임.\n",
    "# 여기서 y=1로만 찍어도 예측율이 0.7이 됨.\n",
    "# 따라서 샘플링의 크기를 같게 재조정을 할 필요가 있음.\n",
    "from sklearn.metrics import confusion_matrix\n",
    "\n",
    "confmat = confusion_matrix(y_test, y_pred)\n",
    "print(confmat)"
   ]
  },
  {
   "cell_type": "markdown",
   "metadata": {
    "id": "UHt-LenyEOnp"
   },
   "source": [
    "-----"
   ]
  },
  {
   "cell_type": "markdown",
   "metadata": {
    "id": "N70AyTZDEOuz"
   },
   "source": [
    "### 4-4) 샘플링 재조정"
   ]
  },
  {
   "cell_type": "markdown",
   "metadata": {
    "id": "3u1UonfVEWnR"
   },
   "source": [
    "##### 1:1 Sampling"
   ]
  },
  {
   "cell_type": "code",
   "execution_count": 40,
   "metadata": {
    "id": "3BYUcp08ER7-"
   },
   "outputs": [],
   "source": [
    "positive_sample_idx = df[df['y']==1].sample(275, random_state=33).index.tolist()\n",
    "negative_sample_idx = df[df['y']==0].sample(275, random_state=33).index.tolist()"
   ]
  },
  {
   "cell_type": "code",
   "execution_count": 41,
   "metadata": {
    "id": "HUTZegD7EVkc"
   },
   "outputs": [],
   "source": [
    "random_idx = positive_sample_idx + negative_sample_idx\n",
    "x = tf_idf_vect[random_idx]\n",
    "y = df['y'][random_idx]\n",
    "x_train, x_test, y_train, y_test = train_test_split(x, y, test_size = 0.3)"
   ]
  },
  {
   "cell_type": "code",
   "execution_count": 42,
   "metadata": {
    "colab": {
     "base_uri": "https://localhost:8080/"
    },
    "executionInfo": {
     "elapsed": 312,
     "status": "ok",
     "timestamp": 1631020109381,
     "user": {
      "displayName": "버물리",
      "photoUrl": "https://lh3.googleusercontent.com/a-/AOh14GjgbxaibZdpXcYXkRpN6pP-emIEzMQGGxk60Z1z=s64",
      "userId": "16343119817703036426"
     },
     "user_tz": -540
    },
    "id": "YHvy8WzGEaBy",
    "outputId": "2847c2c7-bfd9-41ad-f806-66160f9fe37f"
   },
   "outputs": [
    {
     "name": "stdout",
     "output_type": "stream",
     "text": [
      "(385, 3599)\n"
     ]
    }
   ],
   "source": [
    "print(x_train.shape)"
   ]
  },
  {
   "cell_type": "code",
   "execution_count": 43,
   "metadata": {
    "id": "gNifdmG2YB-5"
   },
   "outputs": [
    {
     "name": "stdout",
     "output_type": "stream",
     "text": [
      "(165, 3599)\n"
     ]
    }
   ],
   "source": [
    "print(x_test.shape)"
   ]
  },
  {
   "cell_type": "markdown",
   "metadata": {
    "id": "TDPgGZJeEfSd"
   },
   "source": [
    "##### 모델 재학습"
   ]
  },
  {
   "cell_type": "code",
   "execution_count": 44,
   "metadata": {
    "id": "uFO_UsnCEbGB"
   },
   "outputs": [],
   "source": [
    "lr = LogisticRegression(random_state = 0)\n",
    "lr.fit(x_train, y_train)\n",
    "\n",
    "y_pred = lr.predict(x_test)"
   ]
  },
  {
   "cell_type": "markdown",
   "metadata": {
    "id": "y3PqFXYAEjzQ"
   },
   "source": [
    "##### 분류 결과 평가"
   ]
  },
  {
   "cell_type": "code",
   "execution_count": 45,
   "metadata": {
    "colab": {
     "base_uri": "https://localhost:8080/"
    },
    "executionInfo": {
     "elapsed": 336,
     "status": "ok",
     "timestamp": 1631020241993,
     "user": {
      "displayName": "버물리",
      "photoUrl": "https://lh3.googleusercontent.com/a-/AOh14GjgbxaibZdpXcYXkRpN6pP-emIEzMQGGxk60Z1z=s64",
      "userId": "16343119817703036426"
     },
     "user_tz": -540
    },
    "id": "mbTnBiJ2YV7s",
    "outputId": "d003444e-32b6-46b9-e1fe-b3cef76a94f1"
   },
   "outputs": [
    {
     "name": "stdout",
     "output_type": "stream",
     "text": [
      "0.7090909090909091\n",
      "0.6883116883116883\n",
      "0.6883116883116883\n",
      "0.6883116883116883\n"
     ]
    }
   ],
   "source": [
    "print(accuracy_score(y_test, y_pred))\n",
    "print(precision_score(y_test, y_pred))\n",
    "print(recall_score(y_test, y_pred))\n",
    "print(f1_score(y_test, y_pred))"
   ]
  },
  {
   "cell_type": "code",
   "execution_count": 46,
   "metadata": {
    "colab": {
     "base_uri": "https://localhost:8080/"
    },
    "executionInfo": {
     "elapsed": 309,
     "status": "ok",
     "timestamp": 1631020205015,
     "user": {
      "displayName": "버물리",
      "photoUrl": "https://lh3.googleusercontent.com/a-/AOh14GjgbxaibZdpXcYXkRpN6pP-emIEzMQGGxk60Z1z=s64",
      "userId": "16343119817703036426"
     },
     "user_tz": -540
    },
    "id": "QKiAhKirEeOQ",
    "outputId": "c6d019e5-d25d-4859-a58d-4f9e26e8f6e1"
   },
   "outputs": [
    {
     "name": "stdout",
     "output_type": "stream",
     "text": [
      "[[64 24]\n",
      " [24 53]]\n"
     ]
    }
   ],
   "source": [
    "confmat = confusion_matrix(y_test, y_pred)\n",
    "print(confmat)"
   ]
  },
  {
   "cell_type": "markdown",
   "metadata": {
    "id": "GeQGRMLaFFLk"
   },
   "source": [
    "-----"
   ]
  },
  {
   "cell_type": "markdown",
   "metadata": {
    "id": "3Ob_KEwxFGvr"
   },
   "source": [
    "## 5) 긍정/부정 키워드 분석"
   ]
  },
  {
   "cell_type": "markdown",
   "metadata": {
    "id": "HVYQEDe0FNG0"
   },
   "source": [
    "##### Logistic Regression 모델의 coef 분석"
   ]
  },
  {
   "cell_type": "code",
   "execution_count": 47,
   "metadata": {
    "colab": {
     "base_uri": "https://localhost:8080/",
     "height": 503
    },
    "executionInfo": {
     "elapsed": 7955,
     "status": "ok",
     "timestamp": 1631020443958,
     "user": {
      "displayName": "버물리",
      "photoUrl": "https://lh3.googleusercontent.com/a-/AOh14GjgbxaibZdpXcYXkRpN6pP-emIEzMQGGxk60Z1z=s64",
      "userId": "16343119817703036426"
     },
     "user_tz": -540
    },
    "id": "D5rVvWCQElIa",
    "outputId": "e43497eb-4b40-47f7-8193-2e4710af5731"
   },
   "outputs": [
    {
     "data": {
      "image/png": "[encoded data removed]",
      "text/plain": [
       "<Figure size 1000x800 with 1 Axes>"
      ]
     },
     "metadata": {},
     "output_type": "display_data"
    }
   ],
   "source": [
    "plt.rcParams['figure.figsize'] = [10, 8]\n",
    "plt.bar(range(len(lr.coef_[0])), lr.coef_[0])\n",
    "plt.show()"
   ]
  },
  {
   "cell_type": "markdown",
   "metadata": {
    "id": "MvLq3hSpFUO7"
   },
   "source": [
    "##### 긍정/부정 키워드 출력"
   ]
  },
  {
   "cell_type": "code",
   "execution_count": 48,
   "metadata": {
    "colab": {
     "base_uri": "https://localhost:8080/"
    },
    "executionInfo": {
     "elapsed": 382,
     "status": "ok",
     "timestamp": 1631020578031,
     "user": {
      "displayName": "버물리",
      "photoUrl": "https://lh3.googleusercontent.com/a-/AOh14GjgbxaibZdpXcYXkRpN6pP-emIEzMQGGxk60Z1z=s64",
      "userId": "16343119817703036426"
     },
     "user_tz": -540
    },
    "id": "me2xwEybFTnD",
    "outputId": "f7a2f826-08a5-4891-865e-f27627a9019c"
   },
   "outputs": [
    {
     "name": "stdout",
     "output_type": "stream",
     "text": [
      "[(1.0050872928662538, 115), (1.001632294317843, 2977), (0.978036033988598, 2400), (0.9383210519466145, 2957), (0.8262472536538512, 1247)]\n",
      "[(-0.8177853081182115, 2966), (-0.8211983432967477, 1463), (-0.8766614387771018, 1293), (-0.8960279271946049, 567), (-1.3853503047132543, 515)]\n"
     ]
    }
   ],
   "source": [
    "'''\n",
    "코드 설명\n",
    "# 위에거는 가장 긍정적인 5개의 리뷰에 대한 정보를 나타냄.\n",
    "# 아래거는 가장 부정적인 5개의 리뷰에 대한 정보를 나타냄.\n",
    "# 왼쪽 숫자가 커질수록 긍정적, 작아질수록 부정적.\n",
    "# (1.2523469722092242, 2977)에서 2977번째 인덱스는 1.252 정도로 가장 긍정적이라는 의미.\n",
    "# (-1.0217428474064871, 1293)에서 1293번째 인덱스는 -1.022정도로 가장 부정적이라는 의미.\n",
    "\n",
    "함수 설명\n",
    "enumerate() = 반복문 사용 시 몇번째 반복문인지 인덱스 번호와 해당 원소를 튜플형태로 반환\n",
    "'''\n",
    "print(sorted(((value, index) for index, value in enumerate(lr.coef_[0])), reverse=True)[:5])\n",
    "print(sorted(((value, index) for index, value in enumerate(lr.coef_[0])), reverse=True)[-5:])"
   ]
  },
  {
   "cell_type": "code",
   "execution_count": 49,
   "metadata": {
    "id": "yGxlW37CFbd7"
   },
   "outputs": [
    {
     "data": {
      "text/plain": [
       "[(1.0050872928662538, 115),\n",
       " (1.001632294317843, 2977),\n",
       " (0.978036033988598, 2400),\n",
       " (0.9383210519466145, 2957),\n",
       " (0.8262472536538512, 1247),\n",
       " (0.7993237569378631, 26),\n",
       " (0.7897605341204815, 1384),\n",
       " (0.762393330067025, 956),\n",
       " (0.7565787185836198, 2779),\n",
       " (0.7208361701463416, 131),\n",
       " (0.6310217628437421, 1809),\n",
       " (0.6271033971755179, 1217),\n",
       " (0.6183853644640519, 246),\n",
       " (0.6084189272700093, 385),\n",
       " (0.5965753215954677, 1805),\n",
       " (0.5896366527408174, 1853),\n",
       " (0.5690450536188493, 2455),\n",
       " (0.5606633273229104, 2988),\n",
       " (0.5455018099623767, 106),\n",
       " (0.5361159747526584, 1700),\n",
       " (0.5305426095539519, 578),\n",
       " (0.5189139471369806, 2771),\n",
       " (0.4929789467273374, 981),\n",
       " (0.49115677084534054, 826),\n",
       " (0.4851352852840558, 3060),\n",
       " (0.48154608774834384, 1159),\n",
       " (0.48002130732528253, 680),\n",
       " (0.47698676213671815, 2680),\n",
       " (0.46212173014905816, 3453),\n",
       " (0.4525827972001986, 2082),\n",
       " (0.44732067783148266, 136),\n",
       " (0.4442049333122624, 154),\n",
       " (0.4366185658713124, 300),\n",
       " (0.4276781902120451, 2595),\n",
       " (0.4186485555731041, 2311),\n",
       " (0.41453294075446423, 1025),\n",
       " (0.4048267822127615, 2188),\n",
       " (0.40059170522483767, 2834),\n",
       " (0.3976491657729113, 692),\n",
       " (0.39756590830764277, 2385),\n",
       " (0.392560307063458, 3320),\n",
       " (0.3856124019113935, 1491),\n",
       " (0.38442938216391126, 588),\n",
       " (0.3838734852952206, 269),\n",
       " (0.38124162726698446, 3152),\n",
       " (0.37526396091166714, 3414),\n",
       " (0.36545976076559133, 790),\n",
       " (0.3630356960691865, 1779),\n",
       " (0.35765107481189434, 2167),\n",
       " (0.35504829011459216, 2722),\n",
       " (0.3547981173868953, 3201),\n",
       " (0.35348962132497164, 3016),\n",
       " (0.35332856301394067, 910),\n",
       " (0.3474958792810841, 43),\n",
       " (0.33930120671383773, 2225),\n",
       " (0.33922762832764924, 2),\n",
       " (0.33467421077146514, 1922),\n",
       " (0.3336743642330396, 3593),\n",
       " (0.3290925202260083, 3425),\n",
       " (0.32694382211812745, 19),\n",
       " (0.3257229337846105, 627),\n",
       " (0.32367634206322843, 2927),\n",
       " (0.32247943442807836, 341),\n",
       " (0.3214283676031176, 1917),\n",
       " (0.31667675991849076, 1981),\n",
       " (0.3137198982111909, 1028),\n",
       " (0.3136647399009119, 2351),\n",
       " (0.30644621286434964, 2211),\n",
       " (0.30561564432360794, 3164),\n",
       " (0.30561564432360794, 683),\n",
       " (0.3031178289699003, 3503),\n",
       " (0.3002591269925679, 3428),\n",
       " (0.2973292854297642, 3516),\n",
       " (0.29679756776480587, 979),\n",
       " (0.29340388529031153, 2940),\n",
       " (0.29224803963427076, 3067),\n",
       " (0.2921143762743304, 110),\n",
       " (0.2908146736127638, 1307),\n",
       " (0.288359723399917, 189),\n",
       " (0.2866418368489235, 2730),\n",
       " (0.28631678387324194, 1885),\n",
       " (0.2862670235083236, 0),\n",
       " (0.2853531453777159, 1482),\n",
       " (0.28382775751524497, 1),\n",
       " (0.28358280707474715, 3408),\n",
       " (0.28132570620660946, 2674),\n",
       " (0.2795803583817852, 3088),\n",
       " (0.27895005776318244, 1935),\n",
       " (0.27510587720672913, 3013),\n",
       " (0.2749790287520963, 2678),\n",
       " (0.2740277645038181, 1194),\n",
       " (0.272349365414149, 2849),\n",
       " (0.27186704775711845, 1505),\n",
       " (0.26955558988644124, 3270),\n",
       " (0.2695039262624279, 1566),\n",
       " (0.26873864020744853, 1263),\n",
       " (0.26864106838766705, 3029),\n",
       " (0.26845357377367945, 353),\n",
       " (0.26843102879908787, 3551),\n",
       " (0.26816823448356747, 2780),\n",
       " (0.26571607192401847, 3238),\n",
       " (0.26468588189573306, 2551),\n",
       " (0.25967849507223106, 883),\n",
       " (0.25903178464916915, 2606),\n",
       " (0.25826962546738025, 2573),\n",
       " (0.25781711468424573, 726),\n",
       " (0.25574925103715873, 252),\n",
       " (0.2542327171312916, 1225),\n",
       " (0.25247068604546635, 723),\n",
       " (0.252455831340469, 2599),\n",
       " (0.2507062241755909, 2623),\n",
       " (0.2500467404905552, 2186),\n",
       " (0.24910663841670191, 3208),\n",
       " (0.24778280594764496, 1695),\n",
       " (0.24772979542065038, 2075),\n",
       " (0.247295795861475, 135),\n",
       " (0.2468595264415949, 3508),\n",
       " (0.24476593561347856, 714),\n",
       " (0.24397974366335892, 393),\n",
       " (0.241233401748021, 47),\n",
       " (0.2405251541139566, 3588),\n",
       " (0.24023857950953473, 237),\n",
       " (0.240055249175986, 1552),\n",
       " (0.2380227213035144, 960),\n",
       " (0.23723669857947058, 2108),\n",
       " (0.23642641670181297, 1801),\n",
       " (0.23441803475639125, 278),\n",
       " (0.2333351671124766, 2038),\n",
       " (0.23308108435013855, 3547),\n",
       " (0.23220551727423056, 2532),\n",
       " (0.231112995502231, 918),\n",
       " (0.22889188796333787, 3272),\n",
       " (0.22860479311345355, 2998),\n",
       " (0.22799076437234397, 939),\n",
       " (0.22764475659029715, 1864),\n",
       " (0.22702523052849183, 88),\n",
       " (0.22560188328623917, 1455),\n",
       " (0.22555145151153905, 121),\n",
       " (0.22546085662133397, 1053),\n",
       " (0.22484796426759993, 1553),\n",
       " (0.22481193798754615, 3347),\n",
       " (0.22477844350915538, 2664),\n",
       " (0.22455030870191248, 2438),\n",
       " (0.22416650510011304, 1165),\n",
       " (0.22332281394818906, 1440),\n",
       " (0.223296539939563, 3353),\n",
       " (0.2226979078409113, 1816),\n",
       " (0.22121460945782462, 2677),\n",
       " (0.22113361157614478, 2965),\n",
       " (0.2207400232555002, 4),\n",
       " (0.22055001911784547, 1383),\n",
       " (0.22046664608012315, 3014),\n",
       " (0.22045748921958072, 2753),\n",
       " (0.21954674258574575, 3299),\n",
       " (0.21954674258574575, 172),\n",
       " (0.21945457287920742, 2436),\n",
       " (0.21938925109893898, 1199),\n",
       " (0.21866439017129072, 3555),\n",
       " (0.21813728316601247, 1453),\n",
       " (0.21793688252897947, 1728),\n",
       " (0.21783579300310008, 961),\n",
       " (0.21777674786060372, 3026),\n",
       " (0.2165798432710763, 2070),\n",
       " (0.2160677995275073, 100),\n",
       " (0.21180348218163628, 1483),\n",
       " (0.21175259325581264, 660),\n",
       " (0.21114602914973307, 3102),\n",
       " (0.21114602914973307, 1541),\n",
       " (0.21091832506800254, 1010),\n",
       " (0.21083052269488073, 544),\n",
       " (0.2101718085986232, 2683),\n",
       " (0.20913556598254177, 3447),\n",
       " (0.20906625714534374, 2836),\n",
       " (0.20681441351282023, 1033),\n",
       " (0.20650847610346665, 1762),\n",
       " (0.20630067921071343, 1301),\n",
       " (0.20500760707673293, 3454),\n",
       " (0.20490477273301744, 1106),\n",
       " (0.20401057676074003, 1799),\n",
       " (0.20368351233033588, 235),\n",
       " (0.20341200209564242, 717),\n",
       " (0.20243010532703246, 2016),\n",
       " (0.1997233837533256, 457),\n",
       " (0.19876153557146137, 40),\n",
       " (0.198565618945087, 2748),\n",
       " (0.1975287747757726, 769),\n",
       " (0.19720420030371866, 1439),\n",
       " (0.19639481417611035, 3168),\n",
       " (0.19639481417611035, 2632),\n",
       " (0.1962546357632612, 340),\n",
       " (0.1959464168460161, 773),\n",
       " (0.19561882811800488, 801),\n",
       " (0.19454843332655125, 1249),\n",
       " (0.19442893927781568, 1386),\n",
       " (0.19399903469400462, 1447),\n",
       " (0.19246592929664516, 3057),\n",
       " (0.19199939866528923, 375),\n",
       " (0.1912761160777406, 1926),\n",
       " (0.19095340202541888, 3549),\n",
       " (0.19070150082495635, 3339),\n",
       " (0.19022471294779403, 2146),\n",
       " (0.19012770112807872, 2804),\n",
       " (0.18989585846351892, 1929),\n",
       " (0.18975361845056601, 3443),\n",
       " (0.18900196867401137, 147),\n",
       " (0.18831583188378748, 903),\n",
       " (0.18740920704946884, 2742),\n",
       " (0.1871271516105441, 2080),\n",
       " (0.18693883115582785, 244),\n",
       " (0.18674576922779873, 1078),\n",
       " (0.18656756930285004, 3384),\n",
       " (0.18539447372514833, 1618),\n",
       " (0.18453630030496024, 1452),\n",
       " (0.18381181263848423, 71),\n",
       " (0.1825394624767558, 971),\n",
       " (0.18166549003506466, 2426),\n",
       " (0.18136176329382983, 3220),\n",
       " (0.1770198529879953, 1918),\n",
       " (0.17664160144080532, 1554),\n",
       " (0.1764979417677321, 24),\n",
       " (0.1761221432625766, 1961),\n",
       " (0.1760833025923602, 3271),\n",
       " (0.1760833025923602, 2607),\n",
       " (0.1760833025923602, 2465),\n",
       " (0.1760833025923602, 2398),\n",
       " (0.1760833025923602, 571),\n",
       " (0.17565182938712262, 1374),\n",
       " (0.17447565061355116, 2851),\n",
       " (0.1739651587093809, 2759),\n",
       " (0.17351853033501827, 2257),\n",
       " (0.17268790423874805, 210),\n",
       " (0.17220004071447984, 888),\n",
       " (0.1714782955085308, 582),\n",
       " (0.17137295681327464, 2445),\n",
       " (0.17115260638815638, 1428),\n",
       " (0.17087880543785228, 3349),\n",
       " (0.17087880543785228, 2118),\n",
       " (0.1708414999623016, 2304),\n",
       " (0.1706273109513277, 1351),\n",
       " (0.16978296467522247, 1523),\n",
       " (0.16945879548736847, 748),\n",
       " (0.16875607428098205, 2797),\n",
       " (0.16835982432927352, 1326),\n",
       " (0.16709988468118653, 669),\n",
       " (0.1667234953066578, 3598),\n",
       " (0.16648335163326297, 423),\n",
       " (0.16625089978726848, 2003),\n",
       " (0.1659872328835935, 489),\n",
       " (0.16541584391427952, 2360),\n",
       " (0.16536539676543582, 2726),\n",
       " (0.16529402580270158, 2975),\n",
       " (0.16434133234772472, 440),\n",
       " (0.16331381915206528, 838),\n",
       " (0.16276839811700788, 3476),\n",
       " (0.16276839811700788, 1112),\n",
       " (0.16238891543000897, 543),\n",
       " (0.1618604684011136, 2013),\n",
       " (0.1608664941803507, 93),\n",
       " (0.16059296936566045, 2767),\n",
       " (0.1603204292634855, 817),\n",
       " (0.16024711874496592, 640),\n",
       " (0.16009758179303543, 466),\n",
       " (0.15928305181015395, 3395),\n",
       " (0.15924660245525135, 382),\n",
       " (0.1591695227525284, 2546),\n",
       " (0.158640866106587, 1602),\n",
       " (0.15831859917672458, 454),\n",
       " (0.15771230002617184, 2371),\n",
       " (0.15712258211200747, 259),\n",
       " (0.15711024896047313, 3058),\n",
       " (0.15694102686647973, 1148),\n",
       " (0.15691009080987525, 1348),\n",
       " (0.15689983663426427, 3189),\n",
       " (0.1564175488105042, 765),\n",
       " (0.15495196480508017, 3370),\n",
       " (0.15495196480508017, 663),\n",
       " (0.1546343468248866, 2212),\n",
       " (0.15432248895635586, 2691),\n",
       " (0.15387318348051357, 3125),\n",
       " (0.15366663126457414, 2161),\n",
       " (0.15357542573957506, 2793),\n",
       " (0.1535036493107001, 1709),\n",
       " (0.15316713149021274, 83),\n",
       " (0.1531553585609446, 2787),\n",
       " (0.15203034049181496, 589),\n",
       " (0.15192349554435755, 3162),\n",
       " (0.15190247562811082, 176),\n",
       " (0.1518039997798719, 1891),\n",
       " (0.15176910906903887, 388),\n",
       " (0.15164849773346725, 2170),\n",
       " (0.15094243162939794, 2271),\n",
       " (0.15087528942664585, 757),\n",
       " (0.14992681157454113, 2475),\n",
       " (0.14989441628394992, 2781),\n",
       " (0.14986890975586273, 1750),\n",
       " (0.14986591258053764, 991),\n",
       " (0.14981094286062976, 1503),\n",
       " (0.14981094286062976, 74),\n",
       " (0.1492774499037742, 3432),\n",
       " (0.14899290865254244, 2811),\n",
       " (0.14884978692865852, 3199),\n",
       " (0.14828300756924878, 290),\n",
       " (0.14712224612209976, 1350),\n",
       " (0.1470822981140796, 3061),\n",
       " (0.14706635770131732, 2895),\n",
       " (0.14706635770131732, 2425),\n",
       " (0.1468447780996884, 2864),\n",
       " (0.14676501135756548, 3037),\n",
       " (0.1464784514836899, 1671),\n",
       " (0.14633664951941877, 2018),\n",
       " (0.1459379235947099, 1060),\n",
       " (0.1453657948240953, 2897),\n",
       " (0.1452550805472608, 68),\n",
       " (0.1450710624283074, 843),\n",
       " (0.14441255150468593, 2497),\n",
       " (0.14438832564735923, 665),\n",
       " (0.14409550898606135, 1319),\n",
       " (0.14409550898606135, 987),\n",
       " (0.1438130027275436, 2012),\n",
       " (0.1434754923448522, 477),\n",
       " (0.1433678330496292, 3366),\n",
       " (0.14328707419786174, 2298),\n",
       " (0.1431281249063155, 2411),\n",
       " (0.14265183583695976, 1668),\n",
       " (0.14265183583695976, 1091),\n",
       " (0.14259027446504102, 1838),\n",
       " (0.14218326769360656, 2150),\n",
       " (0.14201998013069012, 453),\n",
       " (0.14158494588592183, 2246),\n",
       " (0.14099637082412603, 1161),\n",
       " (0.140940675468573, 922),\n",
       " (0.140816356977752, 2709),\n",
       " (0.14067646251560922, 1796),\n",
       " (0.14067130900257405, 1598),\n",
       " (0.14006784031662198, 1586),\n",
       " (0.13997662635549613, 3002),\n",
       " (0.13964020582500128, 2153),\n",
       " (0.13947502888159122, 1253),\n",
       " (0.13947502888159122, 30),\n",
       " (0.13864917685417041, 1150),\n",
       " (0.13864917685417041, 1084),\n",
       " (0.1385003840803917, 2792),\n",
       " (0.13789785093650966, 3552),\n",
       " (0.13731240777254747, 1557),\n",
       " (0.13718132328490223, 1239),\n",
       " (0.13664999050204726, 3426),\n",
       " (0.13603584448440958, 1321),\n",
       " (0.1354264545302463, 271),\n",
       " (0.13513802273345416, 349),\n",
       " (0.13513802273345416, 81),\n",
       " (0.13508203630945873, 1432),\n",
       " (0.1350271741199625, 852),\n",
       " (0.1342094464602205, 2042),\n",
       " (0.13409295125766935, 3581),\n",
       " (0.13409295125766935, 2488),\n",
       " (0.13409295125766935, 2094),\n",
       " (0.13370925971329373, 1614),\n",
       " (0.13328444864642638, 281),\n",
       " (0.13306114487730872, 284),\n",
       " (0.13274049660032144, 1283),\n",
       " (0.13274049660032144, 774),\n",
       " (0.1326910010388538, 283),\n",
       " (0.13241994644879768, 1746),\n",
       " (0.1324175607353385, 1912),\n",
       " (0.13191797608389313, 1901),\n",
       " (0.13179451903567121, 2967),\n",
       " (0.13109542523393455, 2074),\n",
       " (0.1309212942614395, 2666),\n",
       " (0.13085917104051892, 133),\n",
       " (0.1303290716864684, 2484),\n",
       " (0.13031867802057504, 2822),\n",
       " (0.12986321285868968, 3356),\n",
       " (0.12964470687114305, 916),\n",
       " (0.12937947187540133, 2869),\n",
       " (0.12911934581739762, 1740),\n",
       " (0.12897230899971848, 2220),\n",
       " (0.1289502818894297, 3082),\n",
       " (0.1287287384143838, 3567),\n",
       " (0.12860642059749736, 2824),\n",
       " (0.1266971909144339, 282),\n",
       " (0.1261608529531476, 2899),\n",
       " (0.1261608529531476, 415),\n",
       " (0.1254886226985825, 606),\n",
       " (0.12497993002688605, 1857),\n",
       " (0.12439063414686899, 3089),\n",
       " (0.12345673236494946, 574),\n",
       " (0.12281654991155734, 1886),\n",
       " (0.1226423549431638, 2206),\n",
       " (0.12186477368509901, 1739),\n",
       " (0.12141482030364364, 2171),\n",
       " (0.12141482030364364, 703),\n",
       " (0.12141482030364364, 379),\n",
       " (0.12095570383929197, 263),\n",
       " (0.12059900344642441, 192),\n",
       " (0.12054136826000238, 519),\n",
       " (0.12052256798829095, 2832),\n",
       " (0.12018836139371841, 1678),\n",
       " (0.12003925362454565, 1775),\n",
       " (0.120027624587993, 2315),\n",
       " (0.120027624587993, 425),\n",
       " (0.11995696994199195, 3332),\n",
       " (0.11995696994199195, 1443),\n",
       " (0.11925735633829639, 3512),\n",
       " (0.1190725037810934, 1743),\n",
       " (0.11892025629147766, 1073),\n",
       " (0.11866788108690617, 2886),\n",
       " (0.11866788108690617, 835),\n",
       " (0.11832281681335959, 12),\n",
       " (0.11829352563642889, 2165),\n",
       " (0.11829352563642889, 498),\n",
       " (0.11829352563642889, 432),\n",
       " (0.11796831890011597, 1621),\n",
       " (0.11765895327252687, 3191),\n",
       " (0.11750841683250055, 1075),\n",
       " (0.11744725253299419, 1758),\n",
       " (0.11743282660886183, 2335),\n",
       " (0.11743282660886183, 1051),\n",
       " (0.11737761114179605, 610),\n",
       " (0.11736670800494456, 3160),\n",
       " (0.1170887915052536, 3404),\n",
       " (0.11704757725150347, 3577),\n",
       " (0.11697983546473358, 3103),\n",
       " (0.11697983546473358, 1742),\n",
       " (0.11697983546473358, 58),\n",
       " (0.11606149425893715, 3108),\n",
       " (0.11602246046112288, 1550),\n",
       " (0.11597377726839465, 2490),\n",
       " (0.11567908669059267, 2848),\n",
       " (0.11521673938902079, 2284),\n",
       " (0.11516499263363697, 1843),\n",
       " (0.11459312703803097, 814),\n",
       " (0.11449599302476779, 3274),\n",
       " (0.11428480118545431, 576),\n",
       " (0.11417353012376098, 2544),\n",
       " (0.11417353012376098, 792),\n",
       " (0.11376324425299203, 2613),\n",
       " (0.11376324425299203, 1406),\n",
       " (0.11376324425299203, 970),\n",
       " (0.11350949653248076, 1120),\n",
       " (0.11330365973227462, 3130),\n",
       " (0.11310492342556255, 609),\n",
       " (0.1130398868296204, 3513),\n",
       " (0.1130398868296204, 3143),\n",
       " (0.1130398868296204, 401),\n",
       " (0.11295219161184619, 751),\n",
       " (0.11280094164311959, 2766),\n",
       " (0.11280094164311959, 822),\n",
       " (0.11197706927866061, 2594),\n",
       " (0.11174633772228094, 872),\n",
       " (0.11167484780425997, 2421),\n",
       " (0.11167484780425997, 2166),\n",
       " (0.11146406234994374, 337),\n",
       " (0.11146406234994374, 272),\n",
       " (0.11142012129888859, 2878),\n",
       " (0.11104828344514543, 1889),\n",
       " (0.11104828344514543, 634),\n",
       " (0.11055519674418281, 3198),\n",
       " (0.11055519674418281, 2962),\n",
       " (0.11055519674418281, 995),\n",
       " (0.11035855875587755, 3078),\n",
       " (0.11035855875587755, 2164),\n",
       " (0.10995628925389034, 2429),\n",
       " (0.10995628925389034, 376),\n",
       " (0.10981900382175892, 3015),\n",
       " (0.1093217146484671, 3430),\n",
       " (0.1093217146484671, 2948),\n",
       " (0.1093217146484671, 857),\n",
       " (0.1093217146484671, 346),\n",
       " (0.1093217146484671, 265),\n",
       " (0.1089635007167401, 2443),\n",
       " (0.10857812898125845, 2901),\n",
       " (0.10851208080364391, 2204),\n",
       " (0.10851208080364391, 2110),\n",
       " (0.1084569628866142, 3427),\n",
       " (0.1084569628866142, 390),\n",
       " (0.10833959806745147, 3250),\n",
       " (0.10832811959230201, 3558),\n",
       " (0.10832811959230201, 3419),\n",
       " (0.10832811959230201, 2608),\n",
       " (0.10832811959230201, 2598),\n",
       " (0.10798674757203545, 1349),\n",
       " (0.10796502292951801, 825),\n",
       " (0.10737911869592305, 2462),\n",
       " (0.10706552548198796, 1991),\n",
       " (0.10703185622329729, 1297),\n",
       " (0.10695961193049724, 1768),\n",
       " (0.10670021975094342, 671),\n",
       " (0.10646321926262906, 1278),\n",
       " (0.10645190734290465, 3003),\n",
       " (0.10628105615630043, 3150),\n",
       " (0.10596424331529411, 590),\n",
       " (0.10580508514596981, 2587),\n",
       " (0.10580508514596981, 2077),\n",
       " (0.10547508975071201, 2773),\n",
       " (0.10523625987567949, 2491),\n",
       " (0.10521984666992187, 2622),\n",
       " (0.10520145255001287, 2336),\n",
       " (0.10520145255001287, 479),\n",
       " (0.10495609732243294, 761),\n",
       " (0.10477101572883862, 2844),\n",
       " (0.10474916590118963, 1826),\n",
       " (0.10472606247081508, 912),\n",
       " (0.104703135135406, 468),\n",
       " (0.1045231783427728, 3107),\n",
       " (0.10434365157019018, 3207),\n",
       " (0.10434365157019018, 2138),\n",
       " (0.10415806168982786, 2956),\n",
       " (0.10384739031680112, 1676),\n",
       " (0.10376534928343545, 1752),\n",
       " (0.10376534928343545, 518),\n",
       " (0.10365434579657024, 937),\n",
       " (0.10347369936493717, 3344),\n",
       " (0.10347369936493717, 2173),\n",
       " (0.10347369936493717, 1138),\n",
       " (0.10347369936493717, 461),\n",
       " (0.10347369936493717, 34),\n",
       " (0.10316783586659975, 438),\n",
       " (0.10301978559139698, 772),\n",
       " (0.10295246537514471, 1163),\n",
       " (0.10283982997736495, 2062),\n",
       " (0.10283640816123697, 1989),\n",
       " (0.10271982442227359, 1241),\n",
       " (0.1026561417804162, 446),\n",
       " (0.10233072451594113, 2719),\n",
       " (0.10233072451594113, 2459),\n",
       " (0.10199213063198259, 2250),\n",
       " (0.10199213063198259, 730),\n",
       " (0.10186213559744449, 2688),\n",
       " (0.10186213559744449, 1636),\n",
       " (0.10186213559744449, 1337),\n",
       " (0.10186213559744449, 1324),\n",
       " (0.10186213559744449, 707),\n",
       " (0.10139676782996547, 1215),\n",
       " (0.10134556951663928, 2907),\n",
       " (0.10134298937689684, 377),\n",
       " (0.10123588875623508, 2001),\n",
       " (0.10123588875623508, 1866),\n",
       " (0.10094632592303245, 735),\n",
       " (0.10070526650969926, 2953),\n",
       " (0.10033604935052753, 3423),\n",
       " (0.10033604935052753, 1945),\n",
       " (0.10033604935052753, 1095),\n",
       " (0.10028079019510716, 1549),\n",
       " (0.099758739009474, 625),\n",
       " (0.09931875263507177, 777),\n",
       " (0.0992145568212651, 1603),\n",
       " (0.09915383304588521, 3011),\n",
       " (0.09915383304588521, 946),\n",
       " (0.09915383304588521, 693),\n",
       " (0.09913338641673779, 1974),\n",
       " (0.09909292188993177, 2676),\n",
       " (0.09906580673745446, 623),\n",
       " (0.09834727442636843, 1721),\n",
       " (0.09830946502356877, 2939),\n",
       " (0.0982781814667572, 2456),\n",
       " (0.0982781814667572, 493),\n",
       " (0.0982781814667572, 146),\n",
       " (0.09778418001722049, 1770),\n",
       " (0.09778418001722049, 431),\n",
       " (0.09768429035320453, 2221),\n",
       " (0.09749808563551775, 407),\n",
       " (0.09732964398886618, 662),\n",
       " (0.09729656335647711, 2761),\n",
       " (0.0972671057178043, 2515),\n",
       " (0.09709030487168535, 2051),\n",
       " (0.09709030487168535, 1725),\n",
       " (0.09709030487168535, 1684),\n",
       " (0.09709030487168535, 95),\n",
       " (0.0970810495510972, 1000),\n",
       " (0.09702930276194871, 2457),\n",
       " (0.09695799459147987, 1352),\n",
       " (0.09688840511280089, 601),\n",
       " (0.09687034252281791, 629),\n",
       " (0.09658127142158346, 1546),\n",
       " (0.09658127142158346, 1335),\n",
       " (0.09628897353218026, 3017),\n",
       " (0.09615872894554944, 1955),\n",
       " (0.09615872894554944, 355),\n",
       " (0.09613901017759688, 2863),\n",
       " (0.09613901017759688, 894),\n",
       " (0.09565146736879308, 3064),\n",
       " (0.09554794902334565, 1107),\n",
       " (0.09530312166961125, 286),\n",
       " (0.09528417446536067, 3315),\n",
       " (0.09528417446536067, 875),\n",
       " (0.09473129266998918, 1411),\n",
       " (0.09449545038370272, 2141),\n",
       " (0.09449545038370272, 451),\n",
       " (0.09445949661018288, 570),\n",
       " (0.09429108465160975, 3035),\n",
       " (0.09429108465160975, 1896),\n",
       " (0.09429108465160975, 1184),\n",
       " (0.09359458818982634, 653),\n",
       " (0.09356357580527205, 1381),\n",
       " (0.09356357580527205, 274),\n",
       " (0.09352538477843346, 2685),\n",
       " (0.09347931147783288, 3063),\n",
       " (0.09347931147783288, 2728),\n",
       " (0.09347931147783288, 2205),\n",
       " (0.09347931147783288, 2015),\n",
       " (0.09347931147783288, 1958),\n",
       " (0.09347931147783288, 1900),\n",
       " (0.09347931147783288, 789),\n",
       " (0.0931525186463996, 3594),\n",
       " (0.09313582083404559, 2180),\n",
       " (0.09298063853927814, 2169),\n",
       " (0.09298063853927814, 1884),\n",
       " (0.09298063853927814, 646),\n",
       " (0.09218053948401135, 492),\n",
       " (0.09202015441981772, 845),\n",
       " (0.09163528482353077, 3504),\n",
       " (0.09163528482353077, 942),\n",
       " (0.09161143760078758, 2408),\n",
       " (0.09160910528066597, 1330),\n",
       " (0.09160910528066597, 1291),\n",
       " (0.091577710118127, 1798),\n",
       " (0.09152908347608546, 73),\n",
       " (0.0914800202321416, 406),\n",
       " (0.09107148650394742, 1426),\n",
       " (0.09078736785619944, 1643),\n",
       " (0.09078736785619944, 1014),\n",
       " (0.09075604950298023, 3212),\n",
       " (0.09075604950298023, 2584),\n",
       " (0.09057420710842118, 3140),\n",
       " (0.09054622578897556, 1952),\n",
       " (0.0904739069562977, 484),\n",
       " (0.09029146631243858, 1442),\n",
       " (0.09028010890359717, 410),\n",
       " (0.0899603660293436, 696),\n",
       " (0.08993063187769097, 1371),\n",
       " (0.08991184226488984, 720),\n",
       " (0.0898989158234947, 2760),\n",
       " (0.08980011266490845, 1130),\n",
       " (0.08961173228574792, 1118),\n",
       " (0.08954702155754941, 1027),\n",
       " (0.08942109930228366, 3120),\n",
       " (0.08940881375321845, 3010),\n",
       " (0.08922132343606849, 893),\n",
       " (0.08922132343606849, 482),\n",
       " (0.08899333882810502, 674),\n",
       " (0.08892872486815226, 3286),\n",
       " (0.0888688536788982, 3179),\n",
       " (0.0888688536788982, 2648),\n",
       " (0.0888688536788982, 230),\n",
       " (0.08859352850649131, 1181),\n",
       " (0.08856903854068103, 3033),\n",
       " (0.08829884386550092, 1394),\n",
       " (0.08822717514070644, 2638),\n",
       " (0.08822717514070644, 559),\n",
       " (0.08812682069346159, 1760),\n",
       " (0.08779412454643162, 3413),\n",
       " (0.08779412454643162, 1793),\n",
       " (0.08779412454643162, 439),\n",
       " (0.08762766418731284, 2331),\n",
       " (0.08724891693099543, 1504),\n",
       " (0.08708213067120969, 1744),\n",
       " (0.08692278743492496, 1812),\n",
       " (0.08692278743492496, 1474),\n",
       " (0.08675251643768346, 967),\n",
       " (0.08674617895554118, 3461),\n",
       " (0.08674617895554118, 1488),\n",
       " (0.08660549513606329, 3410),\n",
       " (0.0864137366503771, 3034),\n",
       " (0.08636205388149643, 1248),\n",
       " (0.08636205388149643, 800),\n",
       " (0.08624341019582474, 1292),\n",
       " (0.0857757147448603, 1821),\n",
       " (0.08568647840663732, 569),\n",
       " (0.08551123654489645, 2642),\n",
       " (0.08536854632200967, 2556),\n",
       " (0.08535431171281363, 2393),\n",
       " (0.08523452834761841, 2137),\n",
       " (0.08512195717919646, 3381),\n",
       " (0.08512195717919646, 2287),\n",
       " (0.08512195717919646, 1836),\n",
       " (0.08512195717919646, 1769),\n",
       " (0.08496649221007789, 3284),\n",
       " (0.08496649221007789, 2821),\n",
       " (0.08496649221007789, 1143),\n",
       " (0.08496649221007789, 963),\n",
       " (0.08496649221007789, 208),\n",
       " (0.08435791653266143, 1444),\n",
       " (0.08435791653266143, 715),\n",
       " (0.08404192167428219, 2419),\n",
       " (0.08404192167428219, 1085),\n",
       " (0.08403302896520186, 3048),\n",
       " (0.08403302896520186, 1994),\n",
       " (0.08403302896520186, 1204),\n",
       " (0.08387575597346209, 721),\n",
       " (0.08321924912115473, 2200),\n",
       " (0.08286141051134953, 2703),\n",
       " (0.08286141051134953, 11),\n",
       " (0.08283082589652778, 3442),\n",
       " (0.0826497879418059, 697),\n",
       " (0.08234683539291232, 3418),\n",
       " (0.08234683539291232, 1677),\n",
       " (0.08234683539291232, 462),\n",
       " (0.08187234375717954, 444),\n",
       " (0.08084755121743344, 2749),\n",
       " (0.08084755121743344, 2473),\n",
       " (0.08084755121743344, 1409),\n",
       " (0.08084755121743344, 1124),\n",
       " (0.08047683446873333, 3114),\n",
       " (0.08047683446873333, 759),\n",
       " (0.08043324709017535, 1594),\n",
       " (0.08037832459244416, 2096),\n",
       " (0.08037832459244416, 1080),\n",
       " (0.08037832459244416, 892),\n",
       " (0.08037832459244416, 116),\n",
       " (0.08037062990975959, 1811),\n",
       " (0.08033937890256682, 3001),\n",
       " (0.08019264873477006, 863),\n",
       " (0.08001600245932518, 1969),\n",
       " (0.07950816188116877, 920),\n",
       " (0.07949859028624677, 3303),\n",
       " (0.07949859028624677, 1008),\n",
       " (0.07949859028624677, 805),\n",
       " (0.07940994733416834, 3529),\n",
       " (0.07940994733416834, 3213),\n",
       " (0.07940994733416834, 2127),\n",
       " (0.07940994733416834, 1525),\n",
       " (0.07940994733416834, 1126),\n",
       " (0.07931163213450744, 51),\n",
       " (0.07866252746595885, 3365),\n",
       " (0.07844991831713213, 1316),\n",
       " (0.07841430265175582, 592),\n",
       " (0.07814753393615875, 103),\n",
       " (0.07802953325138329, 416),\n",
       " (0.07776941894895999, 2710),\n",
       " (0.07776941894895999, 1213),\n",
       " (0.07678573984668116, 2162),\n",
       " (0.07654355447769735, 3267),\n",
       " (0.07625543024153142, 1848),\n",
       " (0.07600448647096657, 3251),\n",
       " (0.07600448647096657, 1252),\n",
       " (0.07600448647096657, 1117),\n",
       " (0.07596174777217878, 2735),\n",
       " (0.0759141040511773, 3539),\n",
       " (0.07590199988993596, 2435),\n",
       " (0.07586226737469895, 2026),\n",
       " (0.07585500501786156, 2839),\n",
       " (0.07585500501786156, 1054),\n",
       " (0.07585500501786156, 1011),\n",
       " (0.07576939838098568, 2449),\n",
       " (0.07571621240467132, 2352),\n",
       " (0.07571621240467132, 2061),\n",
       " (0.07571621240467132, 1526),\n",
       " (0.07571621240467132, 21),\n",
       " (0.07553942261472965, 760),\n",
       " (0.07552030231536468, 107),\n",
       " (0.07535813633271642, 2961),\n",
       " (0.07510658772707586, 3460),\n",
       " (0.0750669813271561, 264),\n",
       " (0.0750319609519931, 2806),\n",
       " (0.0750319609519931, 1832),\n",
       " (0.0750157033706906, 855),\n",
       " (0.07494829840533572, 1597),\n",
       " (0.07494829840533572, 141),\n",
       " (0.07432544457944906, 2035),\n",
       " (0.07431404285634581, 2629),\n",
       " (0.07407221679005156, 1959),\n",
       " (0.07407221679005156, 181),\n",
       " (0.07404220863116896, 3283),\n",
       " (0.07363174254301683, 2033),\n",
       " (0.07341243064808584, 782),\n",
       " (0.07339994312889148, 2228),\n",
       " (0.07276063482047698, 996),\n",
       " (0.07271287016329993, 2396),\n",
       " (0.07269641316282587, 611),\n",
       " (0.07265807378631949, 1962),\n",
       " (0.0726511181695522, 2892),\n",
       " (0.07253737358522303, 2951),\n",
       " (0.07253737358522303, 2224),\n",
       " (0.07253737358522303, 1026),\n",
       " (0.07253737358522303, 57),\n",
       " (0.0720623490695817, 1850),\n",
       " (0.0720623490695817, 1097),\n",
       " (0.0720623490695817, 807),\n",
       " (0.07186283700505848, 2260),\n",
       " (0.07186283700505848, 1894),\n",
       " (0.07186283700505848, 320),\n",
       " (0.07178270811228286, 3369),\n",
       " (0.07173417340524121, 1565),\n",
       " (0.07173417340524121, 1513),\n",
       " (0.0715157795986131, 325),\n",
       " (0.07106456754474745, 2910),\n",
       " (0.07091488883997892, 771),\n",
       " (0.07050363435952127, 2918),\n",
       " (0.07050363435952127, 2293),\n",
       " (0.07050363435952127, 1544),\n",
       " (0.07047013044005504, 209),\n",
       " (0.07029975069726573, 2027),\n",
       " (0.07008242634797045, 2764),\n",
       " (0.06991046832160255, 3121),\n",
       " (0.06991046832160255, 2852),\n",
       " (0.0697673471566509, 1420),\n",
       " (0.06966529647121318, 1339),\n",
       " (0.06944535917368061, 2618),\n",
       " (0.06932969556199117, 2236),\n",
       " (0.06862818461344981, 1487),\n",
       " (0.06860088902667619, 3399),\n",
       " (0.06858525154183603, 3021),\n",
       " (0.06855259369027003, 1617),\n",
       " (0.06852687428871512, 3041),\n",
       " (0.06852687428871512, 2564),\n",
       " (0.06852687428871512, 2259),\n",
       " (0.06852687428871512, 2059),\n",
       " (0.06852687428871512, 2014),\n",
       " (0.06852687428871512, 1579),\n",
       " (0.06852687428871512, 842),\n",
       " (0.06852687428871512, 815),\n",
       " (0.06852687428871512, 526),\n",
       " (0.06851877346374978, 2971),\n",
       " (0.06846186030229726, 1417),\n",
       " (0.06844375241228151, 1492),\n",
       " (0.0684375614496038, 1359),\n",
       " (0.0681354932776542, 734),\n",
       " (0.06801352504527562, 1620),\n",
       " (0.06801352504527562, 497),\n",
       " (0.06749368446839672, 3248),\n",
       " (0.06749368446839672, 3141),\n",
       " (0.06749368446839672, 1619),\n",
       " (0.06749368446839672, 1257),\n",
       " (0.06749368446839672, 876),\n",
       " (0.0673962076708048, 1451),\n",
       " (0.0673962076708048, 1131),\n",
       " (0.06660475127376629, 2374),\n",
       " (0.0661025432217869, 1538),\n",
       " (0.0661025432217869, 1129),\n",
       " (0.0658802320251507, 3149),\n",
       " (0.0658802320251507, 2846),\n",
       " (0.0658802320251507, 2624),\n",
       " (0.0658802320251507, 2461),\n",
       " (0.0658802320251507, 2359),\n",
       " (0.0658802320251507, 2279),\n",
       " (0.0658802320251507, 1069),\n",
       " (0.0658802320251507, 364),\n",
       " (0.0656980740098736, 3537),\n",
       " (0.0656980740098736, 758),\n",
       " (0.06562474693101007, 1465),\n",
       " (0.06557023761000852, 94),\n",
       " (0.06518497361008614, 2831),\n",
       " (0.06518497361008614, 2705),\n",
       " (0.06515672117441451, 333),\n",
       " (0.06514083868333541, 2566),\n",
       " (0.06514083868333541, 1977),\n",
       " (0.06467669096117956, 308),\n",
       " (0.06430321029874868, 3455),\n",
       " (0.06430321029874868, 1392),\n",
       " (0.06430321029874868, 704),\n",
       " (0.06373183682879763, 3223),\n",
       " (0.06373183682879763, 1235),\n",
       " (0.06373183682879763, 556),\n",
       " (0.0636160586441025, 2520),\n",
       " (0.06339162327275452, 109),\n",
       " (0.06329861948783963, 2581),\n",
       " (0.06329861948783963, 1625),\n",
       " (0.06269513587493368, 2132),\n",
       " (0.06217875032778425, 3379),\n",
       " (0.06217875032778425, 1774),\n",
       " (0.061944942416519946, 2168),\n",
       " (0.061944942416519946, 964),\n",
       " (0.060690333587691284, 2585),\n",
       " (0.060690333587691284, 2216),\n",
       " (0.060680430816181054, 2487),\n",
       " (0.060421894976876535, 2064),\n",
       " (0.06040554049021273, 262),\n",
       " (0.06014058556302575, 2239),\n",
       " (0.06014058556302575, 1734),\n",
       " (0.060034682901309, 1703),\n",
       " (0.05999511931945076, 702),\n",
       " (0.058523788625751735, 3305),\n",
       " (0.058523788625751735, 2880),\n",
       " (0.058523788625751735, 2859),\n",
       " (0.058523788625751735, 1627),\n",
       " (0.058523788625751735, 1024),\n",
       " (0.058523788625751735, 657),\n",
       " (0.05780903919260223, 38),\n",
       " (0.057696714738087, 1551),\n",
       " (0.05738862762156932, 2913),\n",
       " (0.05712682251188837, 2085),\n",
       " (0.056761585977149115, 2193),\n",
       " (0.056761585977149115, 42),\n",
       " (0.05658529467216619, 360),\n",
       " (0.055851025571405546, 1162),\n",
       " (0.0557279139842156, 3435),\n",
       " (0.05551494650919391, 3326),\n",
       " (0.05551494650919391, 3227),\n",
       " (0.05551494650919391, 2305),\n",
       " (0.05551494650919391, 2156),\n",
       " (0.05534196256971373, 1818),\n",
       " (0.05533330909656811, 791),\n",
       " (0.05479278021882255, 1835),\n",
       " (0.05479278021882255, 516),\n",
       " (0.05456474220440866, 322),\n",
       " (0.05413249574773827, 2789),\n",
       " (0.053511313514094, 684),\n",
       " (0.053488160578255166, 749),\n",
       " (0.05347383496588538, 487),\n",
       " (0.05317016244433858, 3361),\n",
       " (0.05317016244433858, 676),\n",
       " (0.05311293632450429, 2136),\n",
       " (0.05311293632450429, 700),\n",
       " (0.05311293632450429, 565),\n",
       " (0.052902642270607335, 165),\n",
       " (0.052902642270607335, 45),\n",
       " (0.052688195944026434, 3254),\n",
       " (0.05250454995445885, 1260),\n",
       " (0.051882674641717724, 3510),\n",
       " (0.051882674641717724, 3055),\n",
       " (0.051882674641717724, 2737),\n",
       " (0.051882674641717724, 2292),\n",
       " (0.051882674641717724, 1475),\n",
       " (0.051714247146104064, 2650),\n",
       " (0.051714247146104064, 989),\n",
       " (0.05154971765778061, 1697),\n",
       " (0.051474692967329184, 3570),\n",
       " (0.05135140662532771, 3279),\n",
       " (0.05012878530294309, 3229),\n",
       " (0.05012878530294309, 2472),\n",
       " (0.05012878530294309, 494),\n",
       " (0.05012878530294309, 161),\n",
       " (0.04976833371930885, 2088),\n",
       " (0.04952999317021141, 3362),\n",
       " (0.04952999317021141, 1476),\n",
       " (0.04952999317021141, 1168),\n",
       " (0.0491229182165737, 2711),\n",
       " (0.04896764588888303, 1407),\n",
       " (0.04896764588888303, 586),\n",
       " (0.04879265434654938, 1923),\n",
       " (0.048608953013353356, 3342),\n",
       " (0.04846836882796933, 7),\n",
       " (0.04835702080943579, 3235),\n",
       " (0.04835702080943579, 3049),\n",
       " (0.04835702080943579, 2154),\n",
       " (0.04835702080943579, 1978),\n",
       " (0.04835702080943579, 546),\n",
       " (0.046899400074132645, 3511),\n",
       " (0.046822205886520016, 2479),\n",
       " (0.04645146009749292, 705),\n",
       " (0.046224823275082726, 1485),\n",
       " (0.04590530291732772, 2415),\n",
       " (0.045640080963246996, 3287),\n",
       " (0.045640080963246996, 1953),\n",
       " (0.04546782290363789, 2744),\n",
       " (0.04528878897958527, 3544),\n",
       " (0.04528878897958527, 3157),\n",
       " (0.04528878897958527, 2343),\n",
       " (0.04528878897958527, 2229),\n",
       " (0.04528878897958527, 2181),\n",
       " (0.04528878897958527, 2102),\n",
       " (0.04528878897958527, 1767),\n",
       " (0.04528878897958527, 1681),\n",
       " (0.04528878897958527, 1279),\n",
       " (0.04528878897958527, 1152),\n",
       " (0.04528878897958527, 1056),\n",
       " (0.04528878897958527, 933),\n",
       " (0.04528878897958527, 781),\n",
       " (0.04528878897958527, 597),\n",
       " (0.04528878897958527, 564),\n",
       " (0.04508522655527157, 3337),\n",
       " (0.0449801830146718, 3336),\n",
       " (0.0449801830146718, 2656),\n",
       " (0.0449801830146718, 2570),\n",
       " (0.0449801830146718, 2522),\n",
       " (0.0449801830146718, 2121),\n",
       " (0.0449801830146718, 2045),\n",
       " (0.0449801830146718, 2010),\n",
       " (0.0449801830146718, 1726),\n",
       " (0.0449801830146718, 1655),\n",
       " (0.0449801830146718, 1509),\n",
       " (0.0449801830146718, 1507),\n",
       " (0.0449801830146718, 732),\n",
       " (0.0449801830146718, 524),\n",
       " (0.0449801830146718, 422),\n",
       " (0.0449801830146718, 196),\n",
       " (0.0449801830146718, 171),\n",
       " (0.0449801830146718, 99),\n",
       " (0.044610661718034246, 3051),\n",
       " (0.044610661718034246, 2743),\n",
       " (0.044610661718034246, 2535),\n",
       " (0.044610661718034246, 1784),\n",
       " (0.044610661718034246, 1780),\n",
       " (0.044610661718034246, 1511),\n",
       " (0.044610661718034246, 1245),\n",
       " (0.044610661718034246, 520),\n",
       " (0.04399333608663806, 321),\n",
       " (0.04375164588965391, 1600),\n",
       " (0.04371238146445336, 547),\n",
       " (0.043040343747314476, 3027),\n",
       " (0.04274423777885743, 745),\n",
       " (0.042452970844116, 1017),\n",
       " (0.042452970844116, 1012),\n",
       " (0.04224136734448661, 1749),\n",
       " (0.04221714156868428, 2476),\n",
       " (0.042104211106359556, 2401),\n",
       " (0.042104211106359556, 1294),\n",
       " (0.04206206708463661, 648),\n",
       " (0.0419963653940079, 59),\n",
       " (0.04119134084116832, 153),\n",
       " ...]"
      ]
     },
     "execution_count": 49,
     "metadata": {},
     "output_type": "execute_result"
    }
   ],
   "source": [
    "# 위에거는 상위 n개의 긍정적인 인덱스, 아래거는 상위 n개의 부정적인 인덱스\n",
    "coef_pos_index = sorted(((value, index) for index, value in enumerate(lr.coef_[0])), reverse=True)\n",
    "coef_neg_index = sorted(((value, index) for index, value in enumerate(lr.coef_[0])), reverse=False)\n",
    "coef_pos_index"
   ]
  },
  {
   "cell_type": "code",
   "execution_count": 50,
   "metadata": {
    "id": "bQuDlc-GFbwJ"
   },
   "outputs": [],
   "source": [
    "invert_index_vectorizer = {v: k for k, v in vect.vocabulary_.items()}"
   ]
  },
  {
   "cell_type": "code",
   "execution_count": 51,
   "metadata": {
    "colab": {
     "base_uri": "https://localhost:8080/"
    },
    "executionInfo": {
     "elapsed": 17,
     "status": "ok",
     "timestamp": 1631020644491,
     "user": {
      "displayName": "버물리",
      "photoUrl": "https://lh3.googleusercontent.com/a-/AOh14GjgbxaibZdpXcYXkRpN6pP-emIEzMQGGxk60Z1z=s64",
      "userId": "16343119817703036426"
     },
     "user_tz": -540
    },
    "id": "eHkWYQM0FdNU",
    "outputId": "559b32cb-0152-4b58-b294-10cef2218434"
   },
   "outputs": [
    {
     "name": "stdout",
     "output_type": "stream",
     "text": [
      "거리 1.0050872928662538\n",
      "추천 1.001632294317843\n",
      "이용 0.978036033988598\n",
      "최고 0.9383210519466145\n",
      "버스 0.8262472536538512\n",
      "가성 0.7993237569378631\n",
      "분위기 0.7897605341204815\n",
      "맛집 0.762393330067025\n",
      "주차 0.7565787185836198\n",
      "걱정 0.7208361701463416\n",
      "시설 0.6310217628437421\n",
      "방문 0.6271033971755179\n",
      "공간 0.6183853644640519\n",
      "근처 0.6084189272700093\n",
      "시내 0.5965753215954677\n"
     ]
    }
   ],
   "source": [
    "# 51번 라인에 나온 인덱스 2997번, 385번을 단어로 바꾸는 과정.\n",
    "for coef in coef_pos_index[:15]:\n",
    "    print(invert_index_vectorizer[coef[1]], coef[0])"
   ]
  },
  {
   "cell_type": "code",
   "execution_count": 52,
   "metadata": {
    "colab": {
     "base_uri": "https://localhost:8080/"
    },
    "executionInfo": {
     "elapsed": 8,
     "status": "ok",
     "timestamp": 1631020644492,
     "user": {
      "displayName": "버물리",
      "photoUrl": "https://lh3.googleusercontent.com/a-/AOh14GjgbxaibZdpXcYXkRpN6pP-emIEzMQGGxk60Z1z=s64",
      "userId": "16343119817703036426"
     },
     "user_tz": -540
    },
    "id": "O0gRzUtXFeLX",
    "outputId": "0a4e658c-433a-4c9d-f286-edc4e3f986cd"
   },
   "outputs": [
    {
     "name": "stdout",
     "output_type": "stream",
     "text": [
      "냄새 -1.3853503047132543\n",
      "다른 -0.8960279271946049\n",
      "별로 -0.8766614387771018\n",
      "사람 -0.8211983432967477\n",
      "최악 -0.8177853081182115\n",
      "에어컨 -0.6991791710864806\n",
      "제공 -0.5459917898442792\n",
      "대해 -0.5242749773350048\n",
      "보이 -0.5184115879169581\n",
      "모기 -0.5050672341762737\n",
      "모텔 -0.5024531045560248\n",
      "그냥 -0.5021858054472499\n",
      "방음 -0.4908393282023604\n",
      "전혀 -0.4865199119525782\n",
      "확인 -0.4842511121719878\n"
     ]
    }
   ],
   "source": [
    "for coef in coef_neg_index[:15]:\n",
    "    print(invert_index_vectorizer[coef[1]], coef[0])"
   ]
  },
  {
   "cell_type": "code",
   "execution_count": null,
   "metadata": {
    "id": "fF8BtpB_FfkB"
   },
   "outputs": [],
   "source": []
  },
  {
   "cell_type": "code",
   "execution_count": null,
   "metadata": {},
   "outputs": [],
   "source": []
  },
  {
   "cell_type": "code",
   "execution_count": null,
   "metadata": {},
   "outputs": [],
   "source": []
  }
 ],
 "metadata": {
  "colab": {
   "collapsed_sections": [],
   "name": "04_sentimental_analysis_(for_student).ipynb",
   "provenance": [],
   "toc_visible": true
  },
  "kernelspec": {
   "display_name": "Python 3 (ipykernel)",
   "language": "python",
   "name": "python3"
  },
  "language_info": {
   "codemirror_mode": {
    "name": "ipython",
    "version": 3
   },
   "file_extension": ".py",
   "mimetype": "text/x-python",
   "name": "python",
   "nbconvert_exporter": "python",
   "pygments_lexer": "ipython3",
   "version": "3.7.16"
  }
 },
 "nbformat": 4,
 "nbformat_minor": 1
}
