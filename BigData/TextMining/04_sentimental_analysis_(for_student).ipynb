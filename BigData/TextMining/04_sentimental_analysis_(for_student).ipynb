{
 "cells": [
  {
   "cell_type": "markdown",
   "metadata": {
    "id": "B9Zrj8DMusOn"
   },
   "source": [
    "## 1) Library & Data Import"
   ]
  },
  {
   "cell_type": "code",
   "execution_count": 1,
   "metadata": {
    "executionInfo": {
     "elapsed": 1906,
     "status": "ok",
     "timestamp": 1676603664145,
     "user": {
      "displayName": "버물리",
      "userId": "16343119817703036426"
     },
     "user_tz": -540
    },
    "id": "yzvddH4TuuwD"
   },
   "outputs": [],
   "source": [
    "%matplotlib inline\n",
    "\n",
    "import pandas as pd\n",
    "import numpy as np\n",
    "import matplotlib.pyplot as plt\n",
    "import seaborn as sns\n",
    "\n",
    "import warnings\n",
    "warnings.filterwarnings(\"ignore\")"
   ]
  },
  {
   "cell_type": "code",
   "execution_count": 2,
   "metadata": {
    "executionInfo": {
     "elapsed": 418,
     "status": "ok",
     "timestamp": 1676603664559,
     "user": {
      "displayName": "버물리",
      "userId": "16343119817703036426"
     },
     "user_tz": -540
    },
    "id": "Q_0x25QSuxrp"
   },
   "outputs": [],
   "source": [
    "df = pd.read_csv(\"https://raw.githubusercontent.com/yoonkt200/FastCampusDataset/master/tripadviser_review.csv\")"
   ]
  },
  {
   "cell_type": "code",
   "execution_count": 3,
   "metadata": {
    "colab": {
     "base_uri": "https://localhost:8080/",
     "height": 206
    },
    "executionInfo": {
     "elapsed": 29,
     "status": "ok",
     "timestamp": 1676603664559,
     "user": {
      "displayName": "버물리",
      "userId": "16343119817703036426"
     },
     "user_tz": -540
    },
    "id": "90IQykX7vZ3t",
    "outputId": "0c59eabf-15b8-49e1-fd85-a4483782a7d5"
   },
   "outputs": [
    {
     "data": {
      "text/html": [
       "\n",
       "  <div id=\"df-882b8609-1e96-4a98-92a3-78677c1d5ecf\">\n",
       "    <div class=\"colab-df-container\">\n",
       "      <div>\n",
       "<style scoped>\n",
       "    .dataframe tbody tr th:only-of-type {\n",
       "        vertical-align: middle;\n",
       "    }\n",
       "\n",
       "    .dataframe tbody tr th {\n",
       "        vertical-align: top;\n",
       "    }\n",
       "\n",
       "    .dataframe thead th {\n",
       "        text-align: right;\n",
       "    }\n",
       "</style>\n",
       "<table border=\"1\" class=\"dataframe\">\n",
       "  <thead>\n",
       "    <tr style=\"text-align: right;\">\n",
       "      <th></th>\n",
       "      <th>rating</th>\n",
       "      <th>text</th>\n",
       "    </tr>\n",
       "  </thead>\n",
       "  <tbody>\n",
       "    <tr>\n",
       "      <th>0</th>\n",
       "      <td>4</td>\n",
       "      <td>여행에 집중할수 있게 편안한 휴식을 제공하는 호텔이었습니다. 위치선정 또한 적당한 ...</td>\n",
       "    </tr>\n",
       "    <tr>\n",
       "      <th>1</th>\n",
       "      <td>4</td>\n",
       "      <td>2일 이상 연박시 침대, 이불, 베게등 침구류 교체 및 어메니티 보강이 필요해 보입...</td>\n",
       "    </tr>\n",
       "    <tr>\n",
       "      <th>2</th>\n",
       "      <td>4</td>\n",
       "      <td>지인에소개로온 호텔  깨끗하고 좋은거같아요 처음에는 없는게 많아 많이  당황했는데 ...</td>\n",
       "    </tr>\n",
       "    <tr>\n",
       "      <th>3</th>\n",
       "      <td>5</td>\n",
       "      <td>방에 딱 들어서자마자 눈이 휘둥그레질정도로 이렇게 넓은 호텔 처음 와본 것 같아요!...</td>\n",
       "    </tr>\n",
       "    <tr>\n",
       "      <th>4</th>\n",
       "      <td>5</td>\n",
       "      <td>저녁에 맥주한잔 하는게 좋아서 렌트 안하고 뚜벅이 하기로 했는데 호텔 바로 앞에 버...</td>\n",
       "    </tr>\n",
       "  </tbody>\n",
       "</table>\n",
       "</div>\n",
       "      <button class=\"colab-df-convert\" onclick=\"convertToInteractive('df-882b8609-1e96-4a98-92a3-78677c1d5ecf')\"\n",
       "              title=\"Convert this dataframe to an interactive table.\"\n",
       "              style=\"display:none;\">\n",
       "        \n",
       "  <svg xmlns=\"http://www.w3.org/2000/svg\" height=\"24px\"viewBox=\"0 0 24 24\"\n",
       "       width=\"24px\">\n",
       "    <path d=\"M0 0h24v24H0V0z\" fill=\"none\"/>\n",
       "    <path d=\"M18.56 5.44l.94 2.06.94-2.06 2.06-.94-2.06-.94-.94-2.06-.94 2.06-2.06.94zm-11 1L8.5 8.5l.94-2.06 2.06-.94-2.06-.94L8.5 2.5l-.94 2.06-2.06.94zm10 10l.94 2.06.94-2.06 2.06-.94-2.06-.94-.94-2.06-.94 2.06-2.06.94z\"/><path d=\"M17.41 7.96l-1.37-1.37c-.4-.4-.92-.59-1.43-.59-.52 0-1.04.2-1.43.59L10.3 9.45l-7.72 7.72c-.78.78-.78 2.05 0 2.83L4 21.41c.39.39.9.59 1.41.59.51 0 1.02-.2 1.41-.59l7.78-7.78 2.81-2.81c.8-.78.8-2.07 0-2.86zM5.41 20L4 18.59l7.72-7.72 1.47 1.35L5.41 20z\"/>\n",
       "  </svg>\n",
       "      </button>\n",
       "      \n",
       "  <style>\n",
       "    .colab-df-container {\n",
       "      display:flex;\n",
       "      flex-wrap:wrap;\n",
       "      gap: 12px;\n",
       "    }\n",
       "\n",
       "    .colab-df-convert {\n",
       "      background-color: #E8F0FE;\n",
       "      border: none;\n",
       "      border-radius: 50%;\n",
       "      cursor: pointer;\n",
       "      display: none;\n",
       "      fill: #1967D2;\n",
       "      height: 32px;\n",
       "      padding: 0 0 0 0;\n",
       "      width: 32px;\n",
       "    }\n",
       "\n",
       "    .colab-df-convert:hover {\n",
       "      background-color: #E2EBFA;\n",
       "      box-shadow: 0px 1px 2px rgba(60, 64, 67, 0.3), 0px 1px 3px 1px rgba(60, 64, 67, 0.15);\n",
       "      fill: #174EA6;\n",
       "    }\n",
       "\n",
       "    [theme=dark] .colab-df-convert {\n",
       "      background-color: #3B4455;\n",
       "      fill: #D2E3FC;\n",
       "    }\n",
       "\n",
       "    [theme=dark] .colab-df-convert:hover {\n",
       "      background-color: #434B5C;\n",
       "      box-shadow: 0px 1px 3px 1px rgba(0, 0, 0, 0.15);\n",
       "      filter: drop-shadow(0px 1px 2px rgba(0, 0, 0, 0.3));\n",
       "      fill: #FFFFFF;\n",
       "    }\n",
       "  </style>\n",
       "\n",
       "      <script>\n",
       "        const buttonEl =\n",
       "          document.querySelector('#df-882b8609-1e96-4a98-92a3-78677c1d5ecf button.colab-df-convert');\n",
       "        buttonEl.style.display =\n",
       "          google.colab.kernel.accessAllowed ? 'block' : 'none';\n",
       "\n",
       "        async function convertToInteractive(key) {\n",
       "          const element = document.querySelector('#df-882b8609-1e96-4a98-92a3-78677c1d5ecf');\n",
       "          const dataTable =\n",
       "            await google.colab.kernel.invokeFunction('convertToInteractive',\n",
       "                                                     [key], {});\n",
       "          if (!dataTable) return;\n",
       "\n",
       "          const docLinkHtml = 'Like what you see? Visit the ' +\n",
       "            '<a target=\"_blank\" href=https://colab.research.google.com/notebooks/data_table.ipynb>data table notebook</a>'\n",
       "            + ' to learn more about interactive tables.';\n",
       "          element.innerHTML = '';\n",
       "          dataTable['output_type'] = 'display_data';\n",
       "          await google.colab.output.renderOutput(dataTable, element);\n",
       "          const docLink = document.createElement('div');\n",
       "          docLink.innerHTML = docLinkHtml;\n",
       "          element.appendChild(docLink);\n",
       "        }\n",
       "      </script>\n",
       "    </div>\n",
       "  </div>\n",
       "  "
      ],
      "text/plain": [
       "   rating                                               text\n",
       "0       4  여행에 집중할수 있게 편안한 휴식을 제공하는 호텔이었습니다. 위치선정 또한 적당한 ...\n",
       "1       4  2일 이상 연박시 침대, 이불, 베게등 침구류 교체 및 어메니티 보강이 필요해 보입...\n",
       "2       4  지인에소개로온 호텔  깨끗하고 좋은거같아요 처음에는 없는게 많아 많이  당황했는데 ...\n",
       "3       5  방에 딱 들어서자마자 눈이 휘둥그레질정도로 이렇게 넓은 호텔 처음 와본 것 같아요!...\n",
       "4       5  저녁에 맥주한잔 하는게 좋아서 렌트 안하고 뚜벅이 하기로 했는데 호텔 바로 앞에 버..."
      ]
     },
     "execution_count": 3,
     "metadata": {},
     "output_type": "execute_result"
    }
   ],
   "source": [
    "df.head()"
   ]
  },
  {
   "cell_type": "markdown",
   "metadata": {
    "id": "F8mjnHsgvioB"
   },
   "source": [
    "#### Feature Description\n",
    "- rating : 이용자 리뷰의 평가 점수\n",
    "- text : 이용자 리뷰 평가 내용"
   ]
  },
  {
   "cell_type": "markdown",
   "metadata": {
    "id": "i3P4CXUNvqtO"
   },
   "source": [
    "-----"
   ]
  },
  {
   "cell_type": "markdown",
   "metadata": {
    "id": "EmWaX52Rvuol"
   },
   "source": [
    "## 2) 데이터셋 살펴보기"
   ]
  },
  {
   "cell_type": "markdown",
   "metadata": {
    "id": "Fjj86LoLv3Wl"
   },
   "source": [
    "### 2-1) 기본 정보 탐색"
   ]
  },
  {
   "cell_type": "markdown",
   "metadata": {
    "id": "BZdMSr7Hyv3C"
   },
   "source": [
    "##### 데이터셋 기본 정보 탐색"
   ]
  },
  {
   "cell_type": "code",
   "execution_count": 4,
   "metadata": {
    "colab": {
     "base_uri": "https://localhost:8080/"
    },
    "executionInfo": {
     "elapsed": 27,
     "status": "ok",
     "timestamp": 1676603664560,
     "user": {
      "displayName": "버물리",
      "userId": "16343119817703036426"
     },
     "user_tz": -540
    },
    "id": "yTRz57Qpvgl4",
    "outputId": "40485030-8215-4b52-ddc2-fed4326dbc10"
   },
   "outputs": [
    {
     "data": {
      "text/plain": [
       "(1001, 2)"
      ]
     },
     "execution_count": 4,
     "metadata": {},
     "output_type": "execute_result"
    }
   ],
   "source": [
    "df.shape"
   ]
  },
  {
   "cell_type": "code",
   "execution_count": 5,
   "metadata": {
    "colab": {
     "base_uri": "https://localhost:8080/"
    },
    "executionInfo": {
     "elapsed": 24,
     "status": "ok",
     "timestamp": 1676603664560,
     "user": {
      "displayName": "버물리",
      "userId": "16343119817703036426"
     },
     "user_tz": -540
    },
    "id": "lJq9dP3qvlMg",
    "outputId": "cf6ad885-fde3-4216-8afc-2d5d1cf664f9"
   },
   "outputs": [
    {
     "name": "stdout",
     "output_type": "stream",
     "text": [
      "<class 'pandas.core.frame.DataFrame'>\n",
      "RangeIndex: 1001 entries, 0 to 1000\n",
      "Data columns (total 2 columns):\n",
      " #   Column  Non-Null Count  Dtype \n",
      "---  ------  --------------  ----- \n",
      " 0   rating  1001 non-null   int64 \n",
      " 1   text    1001 non-null   object\n",
      "dtypes: int64(1), object(1)\n",
      "memory usage: 15.8+ KB\n"
     ]
    }
   ],
   "source": [
    "df.info()"
   ]
  },
  {
   "cell_type": "code",
   "execution_count": 6,
   "metadata": {
    "colab": {
     "base_uri": "https://localhost:8080/"
    },
    "executionInfo": {
     "elapsed": 22,
     "status": "ok",
     "timestamp": 1676603664561,
     "user": {
      "displayName": "버물리",
      "userId": "16343119817703036426"
     },
     "user_tz": -540
    },
    "id": "K7SiIjlDwFGG",
    "outputId": "5577f919-cebf-4378-a164-c833ecbd6e07"
   },
   "outputs": [
    {
     "data": {
      "text/plain": [
       "rating    0\n",
       "text      0\n",
       "dtype: int64"
      ]
     },
     "execution_count": 6,
     "metadata": {},
     "output_type": "execute_result"
    }
   ],
   "source": [
    "df.isnull().sum()"
   ]
  },
  {
   "cell_type": "code",
   "execution_count": 7,
   "metadata": {
    "colab": {
     "base_uri": "https://localhost:8080/",
     "height": 35
    },
    "executionInfo": {
     "elapsed": 20,
     "status": "ok",
     "timestamp": 1676603664562,
     "user": {
      "displayName": "버물리",
      "userId": "16343119817703036426"
     },
     "user_tz": -540
    },
    "id": "c51l1Bld6c15",
    "outputId": "42ed5ffe-9e3c-44ca-da19-84fe984823b6"
   },
   "outputs": [
    {
     "data": {
      "application/vnd.google.colaboratory.intrinsic+json": {
       "type": "string"
      },
      "text/plain": [
       "'여행에 집중할수 있게 편안한 휴식을 제공하는 호텔이었습니다. 위치선정 또한 적당한 편이었고 청소나 청결상태도 좋았습니다.'"
      ]
     },
     "execution_count": 7,
     "metadata": {},
     "output_type": "execute_result"
    }
   ],
   "source": [
    "df['text'][0]"
   ]
  },
  {
   "cell_type": "code",
   "execution_count": 8,
   "metadata": {
    "colab": {
     "base_uri": "https://localhost:8080/",
     "height": 54
    },
    "executionInfo": {
     "elapsed": 19,
     "status": "ok",
     "timestamp": 1676603664562,
     "user": {
      "displayName": "버물리",
      "userId": "16343119817703036426"
     },
     "user_tz": -540
    },
    "id": "Q4-faysr7qC-",
    "outputId": "366dbea5-3a07-4299-f472-20862a31f45e"
   },
   "outputs": [
    {
     "data": {
      "application/vnd.google.colaboratory.intrinsic+json": {
       "type": "string"
      },
      "text/plain": [
       "'올 봄에 벚꽃기간에 방문, 협재를 바라보는 바다뷰가 좋고 대로변이라 렌트해서 가기도 좋음. 조식은 이용안했는데 근처 옹포밥집까지 아침 산책겸 걸어가서 하고옴. 루프탑 수영장과 바가 있었는데 내가 갔을때는 밤에 비바람이 너무 불어서 이용못하고옴 ㅠㅠ  단점으로는 모 유명 여행블로거 리뷰처럼 화장실 물떄가... 그거빼곤 다 만족'"
      ]
     },
     "execution_count": 8,
     "metadata": {},
     "output_type": "execute_result"
    }
   ],
   "source": [
    "df['text'][100]"
   ]
  },
  {
   "cell_type": "code",
   "execution_count": 9,
   "metadata": {
    "colab": {
     "base_uri": "https://localhost:8080/"
    },
    "executionInfo": {
     "elapsed": 19,
     "status": "ok",
     "timestamp": 1676603664563,
     "user": {
      "displayName": "버물리",
      "userId": "16343119817703036426"
     },
     "user_tz": -540
    },
    "id": "JjX8EUde6f-g",
    "outputId": "433a139d-9efc-433c-b52d-9b3ffef85516"
   },
   "outputs": [
    {
     "data": {
      "text/plain": [
       "223576"
      ]
     },
     "execution_count": 9,
     "metadata": {},
     "output_type": "execute_result"
    }
   ],
   "source": [
    "len(df['text'].values.sum())"
   ]
  },
  {
   "cell_type": "markdown",
   "metadata": {
    "id": "7Ob0pe0oxI6Y"
   },
   "source": [
    "-----"
   ]
  },
  {
   "cell_type": "markdown",
   "metadata": {
    "id": "vtLhtuYwxI86"
   },
   "source": [
    "## 3) 한국어 텍스트 데이터 전처리"
   ]
  },
  {
   "cell_type": "markdown",
   "metadata": {
    "id": "ZAFsj3ppxI_J"
   },
   "source": [
    "### 3-0) konlpy 설치"
   ]
  },
  {
   "cell_type": "code",
   "execution_count": 10,
   "metadata": {
    "colab": {
     "base_uri": "https://localhost:8080/",
     "height": 35
    },
    "executionInfo": {
     "elapsed": 16,
     "status": "ok",
     "timestamp": 1676603664563,
     "user": {
      "displayName": "버물리",
      "userId": "16343119817703036426"
     },
     "user_tz": -540
    },
    "id": "j8yHvOxKTH3A",
    "outputId": "dd938b7f-f7ce-4b64-8d06-357d573a52ae"
   },
   "outputs": [
    {
     "data": {
      "application/vnd.google.colaboratory.intrinsic+json": {
       "type": "string"
      },
      "text/plain": [
       "'3.8.10 (default, Nov 14 2022, 12:59:47) \\n[GCC 9.4.0]'"
      ]
     },
     "execution_count": 10,
     "metadata": {},
     "output_type": "execute_result"
    }
   ],
   "source": [
    "import sys\n",
    "\n",
    "sys.version"
   ]
  },
  {
   "cell_type": "code",
   "execution_count": 11,
   "metadata": {
    "colab": {
     "base_uri": "https://localhost:8080/"
    },
    "executionInfo": {
     "elapsed": 82003,
     "status": "ok",
     "timestamp": 1676603746551,
     "user": {
      "displayName": "버물리",
      "userId": "16343119817703036426"
     },
     "user_tz": -540
    },
    "id": "__acxhPiw8X2",
    "outputId": "90b8727f-b083-4753-df89-6dce2d899313"
   },
   "outputs": [
    {
     "name": "stdout",
     "output_type": "stream",
     "text": [
      "Looking in indexes: https://pypi.org/simple, https://us-python.pkg.dev/colab-wheels/public/simple/\n",
      "Collecting konlpy==0.5.2\n",
      "  Downloading konlpy-0.5.2-py2.py3-none-any.whl (19.4 MB)\n",
      "\u001b[2K     \u001b[90m━━━━━━━━━━━━━━━━━━━━━━━━━━━━━━━━━━━━━━━━\u001b[0m \u001b[32m19.4/19.4 MB\u001b[0m \u001b[31m16.4 MB/s\u001b[0m eta \u001b[36m0:00:00\u001b[0m\n",
      "\u001b[?25hCollecting jpype1\n",
      "  Downloading JPype1-1.4.1-cp38-cp38-manylinux_2_12_x86_64.manylinux2010_x86_64.whl (465 kB)\n",
      "\u001b[2K     \u001b[90m━━━━━━━━━━━━━━━━━━━━━━━━━━━━━━━━━━━━━━\u001b[0m \u001b[32m465.6/465.6 KB\u001b[0m \u001b[31m14.1 MB/s\u001b[0m eta \u001b[36m0:00:00\u001b[0m\n",
      "\u001b[?25hCollecting Jpype1-py3\n",
      "  Downloading JPype1-py3-0.5.5.4.tar.gz (88 kB)\n",
      "\u001b[2K     \u001b[90m━━━━━━━━━━━━━━━━━━━━━━━━━━━━━━━━━━━━━━━━\u001b[0m \u001b[32m88.4/88.4 KB\u001b[0m \u001b[31m7.8 MB/s\u001b[0m eta \u001b[36m0:00:00\u001b[0m\n",
      "\u001b[?25h  Preparing metadata (setup.py) ... \u001b[?25l\u001b[?25hdone\n",
      "Requirement already satisfied: numpy>=1.6 in /usr/local/lib/python3.8/dist-packages (from konlpy==0.5.2) (1.21.6)\n",
      "Collecting beautifulsoup4==4.6.0\n",
      "  Downloading beautifulsoup4-4.6.0-py3-none-any.whl (86 kB)\n",
      "\u001b[2K     \u001b[90m━━━━━━━━━━━━━━━━━━━━━━━━━━━━━━━━━━━━━━━━\u001b[0m \u001b[32m86.8/86.8 KB\u001b[0m \u001b[31m1.9 MB/s\u001b[0m eta \u001b[36m0:00:00\u001b[0m\n",
      "\u001b[?25hCollecting colorama\n",
      "  Downloading colorama-0.4.6-py2.py3-none-any.whl (25 kB)\n",
      "Requirement already satisfied: tweepy>=3.7.0 in /usr/local/lib/python3.8/dist-packages (from konlpy==0.5.2) (3.10.0)\n",
      "Requirement already satisfied: lxml>=4.1.0 in /usr/local/lib/python3.8/dist-packages (from konlpy==0.5.2) (4.9.2)\n",
      "Requirement already satisfied: packaging in /usr/local/lib/python3.8/dist-packages (from jpype1) (23.0)\n",
      "Requirement already satisfied: requests-oauthlib>=0.7.0 in /usr/local/lib/python3.8/dist-packages (from tweepy>=3.7.0->konlpy==0.5.2) (1.3.1)\n",
      "Requirement already satisfied: requests[socks]>=2.11.1 in /usr/local/lib/python3.8/dist-packages (from tweepy>=3.7.0->konlpy==0.5.2) (2.25.1)\n",
      "Requirement already satisfied: six>=1.10.0 in /usr/local/lib/python3.8/dist-packages (from tweepy>=3.7.0->konlpy==0.5.2) (1.15.0)\n",
      "Requirement already satisfied: oauthlib>=3.0.0 in /usr/local/lib/python3.8/dist-packages (from requests-oauthlib>=0.7.0->tweepy>=3.7.0->konlpy==0.5.2) (3.2.2)\n",
      "Requirement already satisfied: idna<3,>=2.5 in /usr/local/lib/python3.8/dist-packages (from requests[socks]>=2.11.1->tweepy>=3.7.0->konlpy==0.5.2) (2.10)\n",
      "Requirement already satisfied: chardet<5,>=3.0.2 in /usr/local/lib/python3.8/dist-packages (from requests[socks]>=2.11.1->tweepy>=3.7.0->konlpy==0.5.2) (4.0.0)\n",
      "Requirement already satisfied: certifi>=2017.4.17 in /usr/local/lib/python3.8/dist-packages (from requests[socks]>=2.11.1->tweepy>=3.7.0->konlpy==0.5.2) (2022.12.7)\n",
      "Requirement already satisfied: urllib3<1.27,>=1.21.1 in /usr/local/lib/python3.8/dist-packages (from requests[socks]>=2.11.1->tweepy>=3.7.0->konlpy==0.5.2) (1.24.3)\n",
      "Requirement already satisfied: PySocks!=1.5.7,>=1.5.6 in /usr/local/lib/python3.8/dist-packages (from requests[socks]>=2.11.1->tweepy>=3.7.0->konlpy==0.5.2) (1.7.1)\n",
      "Building wheels for collected packages: Jpype1-py3\n",
      "  Building wheel for Jpype1-py3 (setup.py) ... \u001b[?25l\u001b[?25hdone\n",
      "  Created wheel for Jpype1-py3: filename=JPype1_py3-0.5.5.4-cp38-cp38-linux_x86_64.whl size=3470361 sha256=ee925a259b329c2bafa720b0204ad5426ed1f8ad3aa48b18f1b74eb740e19438\n",
      "  Stored in directory: /root/.cache/pip/wheels/e2/62/cb/64ba4955005a2d19364d9162893985494be2cbfe6130dcbba4\n",
      "Successfully built Jpype1-py3\n",
      "Installing collected packages: Jpype1-py3, beautifulsoup4, jpype1, colorama, konlpy\n",
      "  Attempting uninstall: beautifulsoup4\n",
      "    Found existing installation: beautifulsoup4 4.6.3\n",
      "    Uninstalling beautifulsoup4-4.6.3:\n",
      "      Successfully uninstalled beautifulsoup4-4.6.3\n",
      "Successfully installed Jpype1-py3-0.5.5.4 beautifulsoup4-4.6.0 colorama-0.4.6 jpype1-1.4.1 konlpy-0.5.2\n"
     ]
    }
   ],
   "source": [
    "# konlpy 0.5.2의 JVM 버그로 인해, 0.5.1 버전으로 install > JVM 버그 고쳐졌나봄. 0.5.2 사용 권장.\n",
    "# 원래 코드 : !pip install konlpy==0.5.1 jpype1 Jpype1-py3\n",
    "\n",
    "!pip install konlpy==0.5.2 jpype1 Jpype1-py3"
   ]
  },
  {
   "cell_type": "markdown",
   "metadata": {
    "id": "yzf3UKBOAgQn"
   },
   "source": [
    "### 3-1) 정규표현식 적용"
   ]
  },
  {
   "cell_type": "code",
   "execution_count": 12,
   "metadata": {
    "executionInfo": {
     "elapsed": 21,
     "status": "ok",
     "timestamp": 1676603746552,
     "user": {
      "displayName": "버물리",
      "userId": "16343119817703036426"
     },
     "user_tz": -540
    },
    "id": "hE60OR0mxP0S"
   },
   "outputs": [],
   "source": [
    "import re\n",
    "\n",
    "def apply_regular_expression(text):\n",
    "  hangul = re.compile('[^ ㄱ-ㅣ가-힣]')\n",
    "  result = hangul.sub('', text)\n",
    "  return result"
   ]
  },
  {
   "cell_type": "code",
   "execution_count": 13,
   "metadata": {
    "colab": {
     "base_uri": "https://localhost:8080/",
     "height": 35
    },
    "executionInfo": {
     "elapsed": 20,
     "status": "ok",
     "timestamp": 1676603746552,
     "user": {
      "displayName": "버물리",
      "userId": "16343119817703036426"
     },
     "user_tz": -540
    },
    "id": "zBgiHxOW3KhY",
    "outputId": "61b54851-f39e-4849-b569-f4c6014778d4"
   },
   "outputs": [
    {
     "data": {
      "application/vnd.google.colaboratory.intrinsic+json": {
       "type": "string"
      },
      "text/plain": [
       "'여행에 집중할수 있게 편안한 휴식을 제공하는 호텔이었습니다 위치선정 또한 적당한 편이었고 청소나 청결상태도 좋았습니다'"
      ]
     },
     "execution_count": 13,
     "metadata": {},
     "output_type": "execute_result"
    }
   ],
   "source": [
    "apply_regular_expression(df['text'][0])"
   ]
  },
  {
   "cell_type": "code",
   "execution_count": 14,
   "metadata": {
    "colab": {
     "base_uri": "https://localhost:8080/"
    },
    "executionInfo": {
     "elapsed": 20,
     "status": "ok",
     "timestamp": 1676603746553,
     "user": {
      "displayName": "버물리",
      "userId": "16343119817703036426"
     },
     "user_tz": -540
    },
    "id": "XQUrdWz4diJF",
    "outputId": "351f787f-7255-4439-8851-f3b9e7e184bb"
   },
   "outputs": [
    {
     "data": {
      "text/plain": [
       "str"
      ]
     },
     "execution_count": 14,
     "metadata": {},
     "output_type": "execute_result"
    }
   ],
   "source": [
    "type(apply_regular_expression(df['text'][0]))"
   ]
  },
  {
   "cell_type": "code",
   "execution_count": 15,
   "metadata": {
    "colab": {
     "base_uri": "https://localhost:8080/",
     "height": 35
    },
    "executionInfo": {
     "elapsed": 15,
     "status": "ok",
     "timestamp": 1676603746553,
     "user": {
      "displayName": "버물리",
      "userId": "16343119817703036426"
     },
     "user_tz": -540
    },
    "id": "0PDt-ePu9Pd9",
    "outputId": "2cfdd5be-a8b4-4f31-b5ab-ad885e2b5b96"
   },
   "outputs": [
    {
     "data": {
      "application/vnd.google.colaboratory.intrinsic+json": {
       "type": "string"
      },
      "text/plain": [
       "'여행에 집중할수 있게 편안한 휴식을 제공하는 호텔이었습니다. 위치선정 또한 적당한 편이었고 청소나 청결상태도 좋았습니다.'"
      ]
     },
     "execution_count": 15,
     "metadata": {},
     "output_type": "execute_result"
    }
   ],
   "source": [
    "df['text'][0]"
   ]
  },
  {
   "cell_type": "code",
   "execution_count": 16,
   "metadata": {
    "colab": {
     "base_uri": "https://localhost:8080/"
    },
    "executionInfo": {
     "elapsed": 15,
     "status": "ok",
     "timestamp": 1676603746554,
     "user": {
      "displayName": "버물리",
      "userId": "16343119817703036426"
     },
     "user_tz": -540
    },
    "id": "Y4Lhdth-dZPj",
    "outputId": "833fe476-9147-4b80-c4c7-723bab4cbb54"
   },
   "outputs": [
    {
     "data": {
      "text/plain": [
       "str"
      ]
     },
     "execution_count": 16,
     "metadata": {},
     "output_type": "execute_result"
    }
   ],
   "source": [
    "type(df['text'][0])"
   ]
  },
  {
   "cell_type": "markdown",
   "metadata": {
    "id": "pghj3X8ZBaD5"
   },
   "source": [
    "-----"
   ]
  },
  {
   "cell_type": "markdown",
   "metadata": {
    "id": "4eAD9Zhs3ZjB"
   },
   "source": [
    "### 3-2) 한국어 형태소분석 - 명사 단위"
   ]
  },
  {
   "cell_type": "markdown",
   "metadata": {
    "id": "huXcIK1D7eGI"
   },
   "source": [
    "##### 명사 형태소 추출"
   ]
  },
  {
   "cell_type": "code",
   "execution_count": 17,
   "metadata": {
    "colab": {
     "base_uri": "https://localhost:8080/",
     "height": 35
    },
    "executionInfo": {
     "elapsed": 13,
     "status": "ok",
     "timestamp": 1676603746554,
     "user": {
      "displayName": "버물리",
      "userId": "16343119817703036426"
     },
     "user_tz": -540
    },
    "id": "vkXr-t8jSU-x",
    "outputId": "52d8fb26-03d9-488c-af81-695fc4480fc4"
   },
   "outputs": [
    {
     "data": {
      "application/vnd.google.colaboratory.intrinsic+json": {
       "type": "string"
      },
      "text/plain": [
       "'3.8.10 (default, Nov 14 2022, 12:59:47) \\n[GCC 9.4.0]'"
      ]
     },
     "execution_count": 17,
     "metadata": {},
     "output_type": "execute_result"
    }
   ],
   "source": [
    "import sys\n",
    "\n",
    "sys.version"
   ]
  },
  {
   "cell_type": "code",
   "execution_count": 18,
   "metadata": {
    "colab": {
     "base_uri": "https://localhost:8080/"
    },
    "executionInfo": {
     "elapsed": 9418,
     "status": "ok",
     "timestamp": 1676603755960,
     "user": {
      "displayName": "버물리",
      "userId": "16343119817703036426"
     },
     "user_tz": -540
    },
    "id": "ePWpmhzL7f0A",
    "outputId": "933014e3-c854-47c8-a10c-3274d450b6f3"
   },
   "outputs": [
    {
     "data": {
      "text/plain": [
       "['여행', '집중', '휴식', '제공', '호텔', '위치', '선정', '또한', '청소', '청결', '상태']"
      ]
     },
     "execution_count": 18,
     "metadata": {},
     "output_type": "execute_result"
    }
   ],
   "source": [
    "from konlpy.tag import Okt\n",
    "from collections import Counter\n",
    "\n",
    "# noun = 명사\n",
    "# tolist()는 배열(array)로 선언된 변수를 list형식으로 바꿔주는 함수.\n",
    "## 반대로 list를 array로 만드려면 np.array()를 사용.\n",
    "nouns_tagger = Okt()\n",
    "nouns = nouns_tagger.nouns(apply_regular_expression(df['text'][0]))\n",
    "nouns"
   ]
  },
  {
   "cell_type": "code",
   "execution_count": 19,
   "metadata": {
    "executionInfo": {
     "elapsed": 25447,
     "status": "ok",
     "timestamp": 1676603781403,
     "user": {
      "displayName": "버물리",
      "userId": "16343119817703036426"
     },
     "user_tz": -540
    },
    "id": "XMdNZNRZAvmh"
   },
   "outputs": [],
   "source": [
    "nouns = nouns_tagger.nouns(apply_regular_expression(\"\".join(df['text'].tolist())))"
   ]
  },
  {
   "cell_type": "code",
   "execution_count": 20,
   "metadata": {
    "colab": {
     "base_uri": "https://localhost:8080/"
    },
    "executionInfo": {
     "elapsed": 14,
     "status": "ok",
     "timestamp": 1676603781404,
     "user": {
      "displayName": "버물리",
      "userId": "16343119817703036426"
     },
     "user_tz": -540
    },
    "id": "tQZFclaId-Qx",
    "outputId": "8ca35164-5584-4aec-cd75-ed99fdd08442"
   },
   "outputs": [
    {
     "data": {
      "text/plain": [
       "list"
      ]
     },
     "execution_count": 20,
     "metadata": {},
     "output_type": "execute_result"
    }
   ],
   "source": [
    "type(nouns)"
   ]
  },
  {
   "cell_type": "code",
   "execution_count": 21,
   "metadata": {
    "colab": {
     "base_uri": "https://localhost:8080/"
    },
    "executionInfo": {
     "elapsed": 13,
     "status": "ok",
     "timestamp": 1676603781405,
     "user": {
      "displayName": "버물리",
      "userId": "16343119817703036426"
     },
     "user_tz": -540
    },
    "id": "w4KTE9U5AvrJ",
    "outputId": "383899e8-ee2c-4644-e392-705a665f5ca8"
   },
   "outputs": [
    {
     "data": {
      "text/plain": [
       "[('호텔', 803),\n",
       " ('수', 498),\n",
       " ('것', 436),\n",
       " ('방', 330),\n",
       " ('위치', 328),\n",
       " ('우리', 327),\n",
       " ('곳', 320),\n",
       " ('공항', 307),\n",
       " ('직원', 267),\n",
       " ('매우', 264)]"
      ]
     },
     "execution_count": 21,
     "metadata": {},
     "output_type": "execute_result"
    }
   ],
   "source": [
    "counter = Counter(nouns)\n",
    "counter.most_common(10)"
   ]
  },
  {
   "cell_type": "code",
   "execution_count": 22,
   "metadata": {
    "colab": {
     "base_uri": "https://localhost:8080/"
    },
    "executionInfo": {
     "elapsed": 10,
     "status": "ok",
     "timestamp": 1676603781405,
     "user": {
      "displayName": "버물리",
      "userId": "16343119817703036426"
     },
     "user_tz": -540
    },
    "id": "Y5yywiItAvuK",
    "outputId": "c53e4938-7fba-48f6-c4d3-5bad5eec6eff"
   },
   "outputs": [
    {
     "data": {
      "text/plain": [
       "tuple"
      ]
     },
     "execution_count": 22,
     "metadata": {},
     "output_type": "execute_result"
    }
   ],
   "source": [
    "type(counter.most_common(10)[0])"
   ]
  },
  {
   "cell_type": "markdown",
   "metadata": {
    "id": "wpr7mEG5A2At"
   },
   "source": [
    "##### 한글자 명사 제거"
   ]
  },
  {
   "cell_type": "code",
   "execution_count": 64,
   "metadata": {
    "colab": {
     "base_uri": "https://localhost:8080/"
    },
    "executionInfo": {
     "elapsed": 4,
     "status": "ok",
     "timestamp": 1676605133324,
     "user": {
      "displayName": "버물리",
      "userId": "16343119817703036426"
     },
     "user_tz": -540
    },
    "id": "fDZfri14Avw1",
    "outputId": "24b490fd-5c8a-4be6-f11a-066a6e1151ac"
   },
   "outputs": [
    {
     "data": {
      "text/plain": [
       "[('호텔', 803),\n",
       " ('위치', 328),\n",
       " ('우리', 327),\n",
       " ('공항', 307),\n",
       " ('직원', 267),\n",
       " ('매우', 264),\n",
       " ('가격', 245),\n",
       " ('객실', 244),\n",
       " ('시설', 215),\n",
       " ('제주', 192)]"
      ]
     },
     "execution_count": 64,
     "metadata": {},
     "output_type": "execute_result"
    }
   ],
   "source": [
    "available_counter = Counter({x : counter[x] for x in counter if len(x) > 1})\n",
    "available_counter.most_common(10)"
   ]
  },
  {
   "cell_type": "markdown",
   "metadata": {
    "id": "QI0yqJ7PxS1q"
   },
   "source": [
    "-----"
   ]
  },
  {
   "cell_type": "markdown",
   "metadata": {
    "id": "Jbr6rURvBPJ6"
   },
   "source": [
    "### 3-3) 불용어 사전"
   ]
  },
  {
   "cell_type": "code",
   "execution_count": 24,
   "metadata": {
    "executionInfo": {
     "elapsed": 312,
     "status": "ok",
     "timestamp": 1676603781712,
     "user": {
      "displayName": "버물리",
      "userId": "16343119817703036426"
     },
     "user_tz": -540
    },
    "id": "7ZCmuyS8BUU9"
   },
   "outputs": [],
   "source": [
    "stopwords = pd.read_csv(\"https://raw.githubusercontent.com/yoonkt200/FastCampusDataset/master/korean_stopwords.txt\").values.tolist()"
   ]
  },
  {
   "cell_type": "code",
   "execution_count": 25,
   "metadata": {
    "colab": {
     "base_uri": "https://localhost:8080/"
    },
    "executionInfo": {
     "elapsed": 5,
     "status": "ok",
     "timestamp": 1676603781712,
     "user": {
      "displayName": "버물리",
      "userId": "16343119817703036426"
     },
     "user_tz": -540
    },
    "id": "IJTLaAlwBUYE",
    "outputId": "333c14e6-0670-4423-9c58-59ec2d41962e"
   },
   "outputs": [
    {
     "data": {
      "text/plain": [
       "[['휴'],\n",
       " ['아이구'],\n",
       " ['아이쿠'],\n",
       " ['아이고'],\n",
       " ['어'],\n",
       " ['나'],\n",
       " ['우리'],\n",
       " ['저희'],\n",
       " ['따라'],\n",
       " ['의해']]"
      ]
     },
     "execution_count": 25,
     "metadata": {},
     "output_type": "execute_result"
    }
   ],
   "source": [
    "stopwords[:10]"
   ]
  },
  {
   "cell_type": "code",
   "execution_count": 26,
   "metadata": {
    "executionInfo": {
     "elapsed": 3,
     "status": "ok",
     "timestamp": 1676603781713,
     "user": {
      "displayName": "버물리",
      "userId": "16343119817703036426"
     },
     "user_tz": -540
    },
    "id": "i4JC-i7bR2QW"
   },
   "outputs": [],
   "source": [
    "jeju_list = ['제주', '제주도', '호텔', '리뷰', '숙소', '여행', '트립']\n",
    "\n",
    "for word in jeju_list:\n",
    "  stopwords.append(word)"
   ]
  },
  {
   "cell_type": "markdown",
   "metadata": {
    "id": "qb9hCD7GBWOJ"
   },
   "source": [
    "-----"
   ]
  },
  {
   "cell_type": "markdown",
   "metadata": {
    "id": "6-XoxM4KBWRB"
   },
   "source": [
    "### 3-4) Word Count"
   ]
  },
  {
   "cell_type": "markdown",
   "metadata": {
    "id": "0hNlz_-kCq3v"
   },
   "source": [
    "##### BoW 벡터 생성"
   ]
  },
  {
   "cell_type": "markdown",
   "metadata": {
    "id": "bI5XQKOBUBJG"
   },
   "source": [
    "\n",
    "###### Bow의 의미\n",
    "\n",
    "\n",
    "Bag of Words란 단어들의 **순서는 전혀 고려하지 않고**, **단어들의 출현 빈도(frequency)에만 집중**하는 텍스트 데이터의 수치화 표현 방법이다.Bag of Words를 직역하면 단어들의 가방이라는 의미이다. 단어들이 들어있는 가방을 상상해보자. 갖고있는 어떤 텍스트 문서에 있는 단어들을 가방에다가 전부 넣는다. 그러고나서 이 가방을 흔들어 단어들을 섞는다. 만약, 해당 문서 내에서 특정 단어가 N번 등장했다면, 이 가방에는 그 특정 단어가 N개 있게 된다. 또한 가방을 흔들어서 단어를 섞었기 떄문에 더 이상 단어의 순서는 중요하지 않는다.\n",
    "\n",
    "\n",
    "---\n",
    "**Bow 만드는 과정**\n",
    "\n",
    "```\n",
    "과정 1.   우선, 각 단어의 고유한 인덱스(Index)를 부여한다.\n",
    "과정 2.   각 인덱스의 위치에 단어 토큰의 등장 횟수를 기록한 벡터(Vector)를 만든다.\n",
    "```"
   ]
  },
  {
   "cell_type": "code",
   "execution_count": 27,
   "metadata": {
    "executionInfo": {
     "elapsed": 28524,
     "status": "ok",
     "timestamp": 1676603810234,
     "user": {
      "displayName": "버물리",
      "userId": "16343119817703036426"
     },
     "user_tz": -540
    },
    "id": "ae-mZ9HOCcX1"
   },
   "outputs": [],
   "source": [
    "# CountVectorizer : 정해진 메소드에 따라 단어에 값을 부여할 때 각 문장에서 해당 단어가 나타나는 횟수를 부여한다.\n",
    "# CountVectorizer : 즉, 문서 단어 행렬을 만든다.\n",
    "# 아래에서 지정한 메소드는 text_cleaning\n",
    "from sklearn.feature_extraction.text import CountVectorizer\n",
    "\n",
    "def text_cleaning(text):\n",
    "  hangul = re.compile('[^ ㄱ-ㅣ가-힣]')\n",
    "  result = hangul.sub('', text)\n",
    "  tagger = Okt()\n",
    "  nouns = nouns_tagger.nouns(result)\n",
    "  nouns = [x for x in nouns if len(x) > 1]\n",
    "  nouns = [x for x in nouns if x not in stopwords]\n",
    "  return nouns\n",
    "\n",
    "vect = CountVectorizer(tokenizer = lambda x : text_cleaning(x))     \n",
    "bow_vect = vect.fit_transform(df['text'].tolist())                  # corpus 리스트 내부 텍스트로 부터 각 단어의 빈도 수를 기록합니다.\n",
    "\n",
    "word_list = vect.get_feature_names()\n",
    "count_list = bow_vect.toarray().sum(axis=0)"
   ]
  },
  {
   "cell_type": "code",
   "execution_count": 28,
   "metadata": {
    "colab": {
     "base_uri": "https://localhost:8080/"
    },
    "executionInfo": {
     "elapsed": 47,
     "status": "ok",
     "timestamp": 1676603810235,
     "user": {
      "displayName": "버물리",
      "userId": "16343119817703036426"
     },
     "user_tz": -540
    },
    "id": "oFQLeDy04lSd",
    "outputId": "bdba9867-ba5b-4e64-b434-a1e37f33126f"
   },
   "outputs": [
    {
     "data": {
      "text/plain": [
       "['집중', '휴식', '제공', '위치', '선정', '또한', '청소', '청결', '상태']"
      ]
     },
     "execution_count": 28,
     "metadata": {},
     "output_type": "execute_result"
    }
   ],
   "source": [
    "text_cleaning(df['text'][0])"
   ]
  },
  {
   "cell_type": "code",
   "execution_count": 62,
   "metadata": {
    "colab": {
     "base_uri": "https://localhost:8080/"
    },
    "executionInfo": {
     "elapsed": 449,
     "status": "ok",
     "timestamp": 1676604341382,
     "user": {
      "displayName": "버물리",
      "userId": "16343119817703036426"
     },
     "user_tz": -540
    },
    "id": "ugS4rwOfZbMO",
    "outputId": "d29b8a99-1ab8-4d20-e181-9fd7e5b40090"
   },
   "outputs": [
    {
     "data": {
      "text/plain": [
       "CountVectorizer(tokenizer=<function <lambda> at 0x7fb8448bdb80>)"
      ]
     },
     "execution_count": 62,
     "metadata": {},
     "output_type": "execute_result"
    }
   ],
   "source": [
    "vect"
   ]
  },
  {
   "cell_type": "code",
   "execution_count": 29,
   "metadata": {
    "colab": {
     "base_uri": "https://localhost:8080/"
    },
    "executionInfo": {
     "elapsed": 46,
     "status": "ok",
     "timestamp": 1676603810235,
     "user": {
      "displayName": "버물리",
      "userId": "16343119817703036426"
     },
     "user_tz": -540
    },
    "id": "cpeCH7wNIv1n",
    "outputId": "d3d8ca08-a625-4bfd-a534-1d1bf0b2f207"
   },
   "outputs": [
    {
     "data": {
      "text/plain": [
       "array([[0, 0, 0, ..., 0, 0, 0],\n",
       "       [0, 0, 0, ..., 0, 0, 0],\n",
       "       [0, 0, 0, ..., 0, 0, 0],\n",
       "       ...,\n",
       "       [0, 0, 0, ..., 0, 0, 0],\n",
       "       [0, 0, 2, ..., 0, 0, 0],\n",
       "       [0, 0, 0, ..., 0, 0, 0]])"
      ]
     },
     "execution_count": 29,
     "metadata": {},
     "output_type": "execute_result"
    }
   ],
   "source": [
    "bow_vect.toarray()"
   ]
  },
  {
   "cell_type": "code",
   "execution_count": 30,
   "metadata": {
    "colab": {
     "base_uri": "https://localhost:8080/"
    },
    "executionInfo": {
     "elapsed": 43,
     "status": "ok",
     "timestamp": 1676603810235,
     "user": {
      "displayName": "버물리",
      "userId": "16343119817703036426"
     },
     "user_tz": -540
    },
    "id": "6-FIjghaCcdb",
    "outputId": "a088413f-2617-4fae-905c-00d669e9d75e"
   },
   "outputs": [
    {
     "data": {
      "text/plain": [
       "['가가',\n",
       " '가게',\n",
       " '가격',\n",
       " '가격표',\n",
       " '가구',\n",
       " '가급',\n",
       " '가기',\n",
       " '가까이',\n",
       " '가끔',\n",
       " '가능',\n",
       " '가도',\n",
       " '가동',\n",
       " '가두',\n",
       " '가득',\n",
       " '가든',\n",
       " '가라',\n",
       " '가량',\n",
       " '가려움',\n",
       " '가로',\n",
       " '가면']"
      ]
     },
     "execution_count": 30,
     "metadata": {},
     "output_type": "execute_result"
    }
   ],
   "source": [
    "word_list[:20]"
   ]
  },
  {
   "cell_type": "code",
   "execution_count": 31,
   "metadata": {
    "colab": {
     "base_uri": "https://localhost:8080/"
    },
    "executionInfo": {
     "elapsed": 40,
     "status": "ok",
     "timestamp": 1676603810235,
     "user": {
      "displayName": "버물리",
      "userId": "16343119817703036426"
     },
     "user_tz": -540
    },
    "id": "3od1nB2ECcf_",
    "outputId": "73fc139a-6ef8-4ee6-fb4d-0c3e4a959e13"
   },
   "outputs": [
    {
     "data": {
      "text/plain": [
       "array([  4,   8, 245, ...,   1,   7,  14])"
      ]
     },
     "execution_count": 31,
     "metadata": {},
     "output_type": "execute_result"
    }
   ],
   "source": [
    "# 첫번째 단어는 4번 등장, 두번째 단어는 8번 등장......\n",
    "count_list"
   ]
  },
  {
   "cell_type": "code",
   "execution_count": 32,
   "metadata": {
    "colab": {
     "base_uri": "https://localhost:8080/"
    },
    "executionInfo": {
     "elapsed": 38,
     "status": "ok",
     "timestamp": 1676603810236,
     "user": {
      "displayName": "버물리",
      "userId": "16343119817703036426"
     },
     "user_tz": -540
    },
    "id": "H-jKjWBVCyAZ",
    "outputId": "a2a88bea-e358-4f0b-fe0a-5591483c31b1"
   },
   "outputs": [
    {
     "data": {
      "text/plain": [
       "(1001, 3599)"
      ]
     },
     "execution_count": 32,
     "metadata": {},
     "output_type": "execute_result"
    }
   ],
   "source": [
    "bow_vect.shape"
   ]
  },
  {
   "cell_type": "code",
   "execution_count": 33,
   "metadata": {
    "colab": {
     "base_uri": "https://localhost:8080/"
    },
    "executionInfo": {
     "elapsed": 35,
     "status": "ok",
     "timestamp": 1676603810236,
     "user": {
      "displayName": "버물리",
      "userId": "16343119817703036426"
     },
     "user_tz": -540
    },
    "id": "YHf8jMXgCyDN",
    "outputId": "2285ced4-ee1e-483e-fea2-d44090dba324"
   },
   "outputs": [
    {
     "name": "stdout",
     "output_type": "stream",
     "text": [
      "{'가가': 4, '가게': 8, '가격': 245, '가격표': 1, '가구': 8, '가급': 1, '가기': 20, '가까이': 20, '가끔': 5, '가능': 10, '가\n"
     ]
    }
   ],
   "source": [
    "# word : count 쌍을 딕셔너리로 묶음\n",
    "# 단어 : 빈도수\n",
    "word_count_dict = dict(zip(word_list, count_list))\n",
    "print(str(word_count_dict)[:100])"
   ]
  },
  {
   "cell_type": "markdown",
   "metadata": {
    "id": "tv8-qE6MC79d"
   },
   "source": [
    "-----"
   ]
  },
  {
   "cell_type": "markdown",
   "metadata": {
    "id": "WMwtBHzKC85L"
   },
   "source": [
    "### 3-5) TF-IDF 적용"
   ]
  },
  {
   "cell_type": "markdown",
   "metadata": {
    "id": "iuIZCr8Mf6IL"
   },
   "source": [
    "쉬운 설명은 해당 링크 참조.\n",
    "\n",
    "https://m.blog.naver.com/myincizor/221644893910\n",
    "\n",
    "<br>\n",
    "\n",
    "TF-IDF(Term Frequency - Inverse Document Frequency)는 정보 검색과 텍스트 마이닝에서 이용하는 **가중치**로, 여러 문서로 이루어진 문서군이 있을 때 **어떤 단어가 특정 문서 내에서 얼마나 중요한 것인지를 나타내는 통계적 수치**이다. 문서의 핵심어를 추출하거나, 검색 엔진에서 검색 결과의 순위를 결정하거나, 문서들 사이의 비슷한 정도를 구하는 등의 용도로 사용할 수 있다.\n",
    "\n",
    "**TF(단어 빈도, term frequency)는 특정한 단어가 문서 내에 얼마나 자주 등장하는지를 나타내는 값**으로, 이 값이 높을수록 문서에서 중요하다고 생각할 수 있다. 하지만 단어 자체가 문서군 내에서 자주 사용되는 경우, 이것은 그 단어가 흔하게 등장한다는 것을 의미한다. 이것을 **DF(문서 빈도, document frequency)라고 하며, 이 값의 역수를 IDF**(역문서 빈도, inverse document frequency)라고 한다. **TF-IDF는 TF와 IDF를 곱한 값**이다.\n",
    "\n",
    "IDF 값은 문서군의 성격에 따라 결정된다. 예를 들어 '원자'라는 낱말은 일반적인 문서들 사이에서는 잘 나오지 않기 때문에 IDF 값이 높아지고 문서의 핵심어가 될 수 있지만, 원자에 대한 문서를 모아놓은 문서군의 경우 이 낱말은 상투어가 되어 각 문서들을 세분화하여 구분할 수 있는 다른 낱말들이 높은 가중치를 얻게 된다.\n",
    "\n",
    "<br>\n",
    "\n",
    "**[결론]**\n",
    "\n",
    "TF = 특정 단어가 한 문서 내에서 출현한 빈도\n",
    "\n",
    "IDF = 특정한 단어가 출현한 전체 문서의 개수"
   ]
  },
  {
   "cell_type": "markdown",
   "metadata": {
    "id": "fyfQiT3b3z-1"
   },
   "source": [
    "***TF***\n",
    "\n",
    "![image.png](data:image/png;base64,iVBORw0KGgoAAAANSUhEUgAAAFkAAAAzCAYAAAD8ZKSTAAAAAXNSR0IArs4c6QAAAARnQU1BAACxjwv8YQUAAAAJcEhZcwAADsMAAA7DAcdvqGQAAAOnSURBVHhe7ZuxTuNAEIb/XEeFEBQgJBRR0dFQENFENJSmDELUPAEolEcTP0JKClAiqkSioEIpQLF4AmhQuqSAFkrfzHodHJ9xwpEdTnfzSVbsdbKrfLOZnTWiEBJQnPLDvioOUckCqGQBVLIAKlkAlSyAShZAJQugkgVQyQKoZAFUsgAqWQCVLIBKFkAlC6CSBfiLJAfwCwUU+PAD2xbx9vaG4+NjPD4+2pavEfh2nIKPnxcXuKDDKfznp2+n3wg9eGGjT+fdWgjUwm50J3x9fQ2Pjo7Ch4cH2zId+g0vhNcIecjz83NzuOIvkNwPGx7CWmw1hRsB0Zieiaq7QMYIpQtKBakUMCQ4w167hvKmvU7w8vKCq6srbGxs2JY0Of3m0kOvDWwWF83VzMwM1tfXcXl5aa6njYDkAZq7JQTFor1OQpJKJ5QdyshwDJpZmJ2dxcrKim1JktfvGIIOTjAaWA7k7e3t1PJ+EqeSB81dWlyWaKYC7b0lFHabpMYS+HSvRF+WOCn9ttgxNzc3WF5eNjMtSW6/mXBA7GJH7w16NJZXRDI8CwsL5v7z87NtmSI2bbgjtZCNkFzwUnCePDw8DE9PT21Lirx+k5gx3vNv9LnEtSUez8UC6DxdBJ2P0wF6PbTpjk2NmayurtqzUXL7HULpaGkPaPTRqthBKL2Q9GE+lsCx5ACRi2wVk4nKIr/fmMCndOQ1UI8FE4NOkwKbvdC6wq3kQY90eDx5MohEeWMWrqenJ3uWILffGBuIagXvigOccSJP5WOG0gX9sHr2arq4Xfh41ngVlLN+mVZUJfNmVFbxopdFbr8xpoIYDUTg+wgoV3iVckL8KMUxQf8THEoeoNM0xSgWqZJIFw/RzzY/H29vb+Pu7s7Uy+/k9zuEZHk0Qjw5eSvdKVexyR9FB35ztB7hqmJubg5ra2u2ZYrYBdAB0a6Kh0DGdq5by25PQl883NnZCal+tS1Mdr+8W6MNhakQuFJgzBj8PjrMW22lEW+nk3BV8WEl80W+aVvdDWsflG5pWPBnvnyr1RpKnhQOJgeHX13gvITLhPNlrYrEov8hW1tbpozjtDEOflrHpDcv47i+vsbBwQHm5+dty3QRk2x2aSaB8lYa6FYnr6H29/dxf38/dstbr9c/nVPjx5wcTGfYGe0c82jR5McJdmn/GPrvDAJ8T07+z1DJAqhkAVSyACpZAJUsgEoWQCULoJIFUMkCqGQBVLIAKlkAlSyASnYO8Au4FMywRILFPgAAAABJRU5ErkJggg==)\n",
    "\n",
    "***IDF***\n",
    "\n",
    "![image.png](data:image/png;base64,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)\n",
    "\n",
    "IDF에서 분모에 1을 더하는 이유 : 분모가 0이 되는 것을 방지하기 위함."
   ]
  },
  {
   "cell_type": "markdown",
   "metadata": {
    "id": "d6kLDjZYDHs7"
   },
   "source": [
    "##### TF-IDF 변환"
   ]
  },
  {
   "cell_type": "code",
   "execution_count": 34,
   "metadata": {
    "executionInfo": {
     "elapsed": 32,
     "status": "ok",
     "timestamp": 1676603810236,
     "user": {
      "displayName": "버물리",
      "userId": "16343119817703036426"
     },
     "user_tz": -540
    },
    "id": "eE5AR1IzDCAD"
   },
   "outputs": [],
   "source": [
    "# TfidfTransformer : 위에서 CountVectorizer로 만든 문서 단어 행렬을 이용하여 Tf-idf값을 구한다.\n",
    "# TFidfVectorizer 메소드를 사용하면 CountVectorizer로 문서 단어 행렬을 만들지 않고 TF-IDF값을 구할 수 있음.\n",
    "# 사이킷런의 Tfidf 메소드는 분모 뿐만이 아니라 분자에도 1을 더하니 주의할 것.\n",
    "# tf_idf_vect는 뒤에 나올 train_test_split 시, 독립변수(x값)로 사용됨\n",
    "from sklearn.feature_extraction.text import TfidfTransformer\n",
    "\n",
    "tfidf_vectorizer = TfidfTransformer()\n",
    "tf_idf_vect = tfidf_vectorizer.fit_transform(bow_vect)"
   ]
  },
  {
   "cell_type": "code",
   "execution_count": 35,
   "metadata": {
    "colab": {
     "base_uri": "https://localhost:8080/"
    },
    "executionInfo": {
     "elapsed": 32,
     "status": "ok",
     "timestamp": 1676603810236,
     "user": {
      "displayName": "버물리",
      "userId": "16343119817703036426"
     },
     "user_tz": -540
    },
    "id": "sHseX1EWJ4O-",
    "outputId": "c50ef2c5-4f5a-4856-e947-76b845945379"
   },
   "outputs": [
    {
     "data": {
      "text/plain": [
       "array([[0.        , 0.        , 0.        , ..., 0.        , 0.        ,\n",
       "        0.        ],\n",
       "       [0.        , 0.        , 0.        , ..., 0.        , 0.        ,\n",
       "        0.        ],\n",
       "       [0.        , 0.        , 0.        , ..., 0.        , 0.        ,\n",
       "        0.        ],\n",
       "       ...,\n",
       "       [0.        , 0.        , 0.        , ..., 0.        , 0.        ,\n",
       "        0.        ],\n",
       "       [0.        , 0.        , 0.13061347, ..., 0.        , 0.        ,\n",
       "        0.        ],\n",
       "       [0.        , 0.        , 0.        , ..., 0.        , 0.        ,\n",
       "        0.        ]])"
      ]
     },
     "execution_count": 35,
     "metadata": {},
     "output_type": "execute_result"
    }
   ],
   "source": [
    "# 단어의 빈도수, 단어의 가중치에 따라 결정되는 값\n",
    "tf_idf_vect.toarray()"
   ]
  },
  {
   "cell_type": "code",
   "execution_count": 60,
   "metadata": {
    "colab": {
     "base_uri": "https://localhost:8080/"
    },
    "executionInfo": {
     "elapsed": 290,
     "status": "ok",
     "timestamp": 1676604329459,
     "user": {
      "displayName": "버물리",
      "userId": "16343119817703036426"
     },
     "user_tz": -540
    },
    "id": "bCq6b-3TDCC-",
    "outputId": "dd8db944-57e5-4317-d219-7a0fd8cc5c7e"
   },
   "outputs": [
    {
     "name": "stdout",
     "output_type": "stream",
     "text": [
      "  (0, 3564)\t0.29923271422762543\n",
      "  (0, 3022)\t0.1310296542620457\n",
      "  (0, 3021)\t0.196633079963758\n",
      "  (0, 3009)\t0.31704594477870507\n",
      "  (0, 2606)\t0.2509675649140284\n",
      "  (0, 2392)\t0.196633079963758\n",
      "  (0, 2388)\t0.23481237385879722\n",
      "  (0, 2299)\t0.31704594477870507\n",
      "  (0, 2234)\t0.20270241560043137\n",
      "  (0, 2013)\t0.2509675649140284\n",
      "  (0, 1296)\t0.31704594477870507\n",
      "  (0, 1277)\t0.27679069782330573\n",
      "  (0, 1188)\t0.31704594477870507\n",
      "  (0, 299)\t0.2561421072536703\n",
      "  (0, 185)\t0.18768840123025857\n",
      "  (0, 106)\t0.11935656167107694\n"
     ]
    }
   ],
   "source": [
    "print(tf_idf_vect[1])"
   ]
  },
  {
   "cell_type": "code",
   "execution_count": 37,
   "metadata": {
    "colab": {
     "base_uri": "https://localhost:8080/"
    },
    "executionInfo": {
     "elapsed": 28,
     "status": "ok",
     "timestamp": 1676603810237,
     "user": {
      "displayName": "버물리",
      "userId": "16343119817703036426"
     },
     "user_tz": -540
    },
    "id": "dcurD6Uh6aAy",
    "outputId": "1a393f14-6792-4de4-80c1-55e0993bf944"
   },
   "outputs": [
    {
     "name": "stdout",
     "output_type": "stream",
     "text": [
      "[[0 1 1 1]\n",
      " [1 0 1 1]] \n",
      "\n",
      "[1.40546511 1.40546511 1.         1.        ]\n"
     ]
    }
   ],
   "source": [
    "# 블로그 예제\n",
    "from sklearn.feature_extraction.text import TfidfTransformer\n",
    "from sklearn.feature_extraction.text import CountVectorizer\n",
    "\n",
    "doc1 = \"She likes python\"\n",
    "doc2 = \"She hates python\"\n",
    "\n",
    "count_vec = CountVectorizer()\n",
    "document_term_matrix = count_vec.fit_transform([doc1, doc2]).toarray()\n",
    "\n",
    "tfidf_trans = TfidfTransformer()\n",
    "tfidf_trans.fit_transform(document_term_matrix).toarray()\n",
    "print(document_term_matrix, '\\n')\n",
    "print(tfidf_trans.idf_)"
   ]
  },
  {
   "cell_type": "markdown",
   "metadata": {
    "id": "LAXZrfU8DRPx"
   },
   "source": [
    "##### 벡터 : 단어 맵핑"
   ]
  },
  {
   "cell_type": "code",
   "execution_count": 38,
   "metadata": {
    "colab": {
     "base_uri": "https://localhost:8080/"
    },
    "executionInfo": {
     "elapsed": 25,
     "status": "ok",
     "timestamp": 1676603810237,
     "user": {
      "displayName": "버물리",
      "userId": "16343119817703036426"
     },
     "user_tz": -540
    },
    "id": "P1ysILVYA_rJ",
    "outputId": "b86832ce-18d4-4dac-8555-6da9cc33a235"
   },
   "outputs": [
    {
     "data": {
      "text/plain": [
       "{'집중': 2866,\n",
       " '휴식': 3588,\n",
       " '제공': 2696,\n",
       " '위치': 2311,\n",
       " '선정': 1584,\n",
       " '또한': 790,\n",
       " '청소': 2927,\n",
       " '청결': 2925,\n",
       " '상태': 1527,\n",
       " '이상': 2392,\n",
       " '침대': 3022,\n",
       " '이불': 2388,\n",
       " '침구': 3021,\n",
       " '교체': 299,\n",
       " '어메니티': 2013,\n",
       " '보강': 1296,\n",
       " '베스트': 1277,\n",
       " '웨스턴': 2299,\n",
       " '회원': 3564,\n",
       " '경우': 185,\n",
       " '객실': 106,\n",
       " '층수': 3009,\n",
       " '요청': 2234,\n",
       " '적극': 2606,\n",
       " '반영': 1188,\n",
       " '지인': 2837,\n",
       " '소개': 1629,\n",
       " '처음': 2910,\n",
       " '당황': 611,\n",
       " '세면': 1607,\n",
       " '도구': 675,\n",
       " '잠옷': 2555,\n",
       " '필수': 3358,\n",
       " '그것': 361,\n",
       " '정도': 2673,\n",
       " '다음': 578,\n",
       " '여기': 2074,\n",
       " '박만': 1171,\n",
       " '저녁': 2595,\n",
       " '맥주': 981,\n",
       " '한잔': 3414,\n",
       " '렌트': 838,\n",
       " '뚜벅': 791,\n",
       " '바로': 1159,\n",
       " '버스': 1247,\n",
       " '정류': 2676,\n",
       " '도착': 697,\n",
       " '가방': 24,\n",
       " '일찍': 2487,\n",
       " '정비': 2685,\n",
       " '방이': 1225,\n",
       " '입실': 2500,\n",
       " '업그레이드': 2038,\n",
       " '직원': 2849,\n",
       " '정말': 2680,\n",
       " '바다': 1148,\n",
       " '전망': 2623,\n",
       " '전일': 2636,\n",
       " '함덕': 3425,\n",
       " '대명': 624,\n",
       " '콘도': 3091,\n",
       " '실내': 1861,\n",
       " '분위기': 1384,\n",
       " '손님': 1659,\n",
       " '가장': 40,\n",
       " '배치': 1241,\n",
       " '대해': 651,\n",
       " '대응': 634,\n",
       " '써비스': 1889,\n",
       " '조식': 2730,\n",
       " '부분': 1351,\n",
       " '신경': 1838,\n",
       " '아주': 1922,\n",
       " '특급': 3208,\n",
       " '트랜디': 3191,\n",
       " '고민': 210,\n",
       " '흔적': 3593,\n",
       " '여름': 2082,\n",
       " '수영장': 1700,\n",
       " '사용': 1483,\n",
       " '보고': 1297,\n",
       " '엄마': 2035,\n",
       " '가격': 2,\n",
       " '대비': 627,\n",
       " '주위': 2769,\n",
       " '마트': 924,\n",
       " '식당': 1826,\n",
       " '시장': 1816,\n",
       " '방문': 1217,\n",
       " '의사': 2361,\n",
       " '동안': 726,\n",
       " '정해진': 2695,\n",
       " '휘슬': 3580,\n",
       " '공항': 269,\n",
       " '생각': 1539,\n",
       " '시설': 1809,\n",
       " '모두': 1028,\n",
       " '친절': 3017,\n",
       " '모드': 1029,\n",
       " '마지막': 917,\n",
       " '마무리': 900,\n",
       " '테라스': 3156,\n",
       " '전경': 2612,\n",
       " '인근': 2427,\n",
       " '재래시장': 2583,\n",
       " '야시장': 1979,\n",
       " '이용도': 2402,\n",
       " '이용': 2400,\n",
       " '일차': 2488,\n",
       " '휘슬락': 3581,\n",
       " '체크': 2940,\n",
       " '주변': 2761,\n",
       " '여친': 2094,\n",
       " '추억': 2975,\n",
       " '가성': 26,\n",
       " '추천': 2977,\n",
       " '후회': 3575,\n",
       " '예전': 2145,\n",
       " '그랜드': 372,\n",
       " '저희': 2605,\n",
       " '아이': 1918,\n",
       " '돌잔치': 708,\n",
       " '다정': 581,\n",
       " '했었더랬': 3470,\n",
       " '전통': 2642,\n",
       " '메종': 1004,\n",
       " '글래드': 387,\n",
       " '서비스': 1563,\n",
       " '매우': 969,\n",
       " '합리': 3428,\n",
       " '대의': 635,\n",
       " '명절': 1018,\n",
       " '숙박': 1721,\n",
       " '아티': 1928,\n",
       " '백미': 1243,\n",
       " '커피': 3061,\n",
       " '베이커리': 1280,\n",
       " '가족': 43,\n",
       " '플러스': 3342,\n",
       " '지금': 2816,\n",
       " '우선': 2257,\n",
       " '접근성': 2664,\n",
       " '쇼핑': 1671,\n",
       " '만족도': 940,\n",
       " '최고': 2957,\n",
       " '무엇': 1078,\n",
       " '기억': 423,\n",
       " '우리': 2251,\n",
       " '찾기': 2902,\n",
       " '교통': 300,\n",
       " '이틀': 2418,\n",
       " '정원': 2691,\n",
       " '거기': 109,\n",
       " '겨울': 160,\n",
       " '친구': 3016,\n",
       " '놀러와': 541,\n",
       " '투숙': 3185,\n",
       " '야외': 1981,\n",
       " '방향': 1235,\n",
       " '야간': 1976,\n",
       " '조명': 2726,\n",
       " '순간': 1723,\n",
       " '대접': 638,\n",
       " '실명': 1868,\n",
       " '거론': 112,\n",
       " '프론트': 3337,\n",
       " '이름': 2378,\n",
       " '안나': 1938,\n",
       " '기분': 416,\n",
       " '모습': 1037,\n",
       " '첫날': 2921,\n",
       " '스타트': 1761,\n",
       " '다시': 576,\n",
       " '선물': 1578,\n",
       " '카운터': 3032,\n",
       " '안내': 1939,\n",
       " '디너': 777,\n",
       " '기회': 438,\n",
       " '미니바': 1121,\n",
       " '무료': 1067,\n",
       " '최근': 2959,\n",
       " '관광지': 281,\n",
       " '숙고': 1719,\n",
       " '강추': 88,\n",
       " '야경': 1977,\n",
       " '일부러': 2475,\n",
       " '일어나서': 2476,\n",
       " '동네': 714,\n",
       " '바퀴': 1168,\n",
       " '먹방': 990,\n",
       " '신라': 1843,\n",
       " '퀄리티': 3105,\n",
       " '모녀': 1024,\n",
       " '제주시': 2711,\n",
       " '위해': 2313,\n",
       " '선택': 1586,\n",
       " '오픈': 2180,\n",
       " '예약': 2143,\n",
       " '대로': 622,\n",
       " '거리': 115,\n",
       " '더군다나': 657,\n",
       " '셔틀버스': 1627,\n",
       " '운행': 2271,\n",
       " '데스크': 670,\n",
       " '차안': 2880,\n",
       " '분도': 1374,\n",
       " '인상': 2438,\n",
       " '트윈': 3201,\n",
       " '사이즈': 1489,\n",
       " '만족': 939,\n",
       " '스타': 1758,\n",
       " '가짓수': 45,\n",
       " '느낌': 558,\n",
       " '화장실': 3538,\n",
       " '내부': 505,\n",
       " '인테리어': 2455,\n",
       " '질적': 2859,\n",
       " '이건': 2368,\n",
       " '개인': 100,\n",
       " '취향': 3005,\n",
       " '구비': 321,\n",
       " '과일': 273,\n",
       " '나이프': 480,\n",
       " '포크': 3295,\n",
       " '부탁': 1364,\n",
       " '준비': 2786,\n",
       " '표방': 3305,\n",
       " '모텔': 1046,\n",
       " '결론': 165,\n",
       " '훌륭': 3577,\n",
       " '시간': 1799,\n",
       " '슈페리어킹룸': 1737,\n",
       " '하루': 3376,\n",
       " '후기': 3570,\n",
       " '지은지': 2836,\n",
       " '얼마': 2033,\n",
       " '건물': 136,\n",
       " '약간': 1985,\n",
       " '유럽': 2318,\n",
       " '스타일': 1760,\n",
       " '그림': 378,\n",
       " '조각': 2715,\n",
       " '복도': 1323,\n",
       " '전시': 2633,\n",
       " '전부': 2630,\n",
       " '카펫': 3039,\n",
       " '등급': 770,\n",
       " '다른': 567,\n",
       " '이서': 2394,\n",
       " '자기': 2512,\n",
       " '조금': 2722,\n",
       " '외투': 2218,\n",
       " '완전': 2206,\n",
       " '진짜': 2856,\n",
       " '셔틀': 1626,\n",
       " '미리': 1127,\n",
       " '시티': 1821,\n",
       " '오름': 2162,\n",
       " '다만': 570,\n",
       " '도로': 680,\n",
       " '가인': 39,\n",
       " '관계': 276,\n",
       " '차량': 2876,\n",
       " '소리': 1638,\n",
       " '다소': 574,\n",
       " '방도': 1215,\n",
       " '편의점': 3273,\n",
       " '칫솔': 3027,\n",
       " '동계': 709,\n",
       " '훈련': 3576,\n",
       " '라마': 795,\n",
       " '연인': 2116,\n",
       " '전체': 2641,\n",
       " '사진': 1493,\n",
       " '첨부': 2920,\n",
       " '엘리베이터': 2064,\n",
       " '실시간': 1873,\n",
       " '비행기': 1440,\n",
       " '택시': 3151,\n",
       " '미만': 1128,\n",
       " '이동': 2374,\n",
       " '가능': 9,\n",
       " '최상': 2961,\n",
       " '욕실': 2235,\n",
       " '슬리퍼': 1791,\n",
       " '위생': 2304,\n",
       " '염려': 2123,\n",
       " '설날': 1590,\n",
       " '떡국': 788,\n",
       " '려고': 840,\n",
       " '현장': 3495,\n",
       " '결재': 167,\n",
       " '황스': 3559,\n",
       " '려운': 841,\n",
       " '중국': 2789,\n",
       " '만두': 932,\n",
       " '종류': 2744,\n",
       " '별로': 1293,\n",
       " '구만': 316,\n",
       " '메뉴': 996,\n",
       " '답변': 603,\n",
       " '제일': 2709,\n",
       " '주차': 2779,\n",
       " '걱정': 131,\n",
       " '할아버지': 3423,\n",
       " '안심': 1945,\n",
       " '컨디션': 3067,\n",
       " '문어': 1095,\n",
       " '처리': 2909,\n",
       " '회사': 3561,\n",
       " '출장': 2988,\n",
       " '서울': 1567,\n",
       " '간혹': 64,\n",
       " '이벤트': 2386,\n",
       " '해주시': 3460,\n",
       " '부대': 1344,\n",
       " '항상': 3435,\n",
       " '롯데': 855,\n",
       " '비지니스': 1434,\n",
       " '여행객': 2097,\n",
       " '손색': 1664,\n",
       " '욕조': 2236,\n",
       " '겸비': 175,\n",
       " '사계절': 1459,\n",
       " '수풀': 1715,\n",
       " '중문': 2794,\n",
       " '표선등': 3306,\n",
       " '원거리': 2281,\n",
       " '여행지': 2101,\n",
       " '복귀': 1322,\n",
       " '시내': 1805,\n",
       " '유명': 2323,\n",
       " '일단': 2462,\n",
       " '주차장': 2781,\n",
       " '지하': 2844,\n",
       " '공간': 246,\n",
       " '응대': 2356,\n",
       " '문의사항': 1097,\n",
       " '신지': 1850,\n",
       " '감동': 71,\n",
       " '역시': 2106,\n",
       " '장도': 2566,\n",
       " '락타': 807,\n",
       " '샤워': 1550,\n",
       " '마련': 896,\n",
       " '코인': 3089,\n",
       " '세탁실': 1620,\n",
       " '오션': 2167,\n",
       " '멀리': 994,\n",
       " '남자친구': 497,\n",
       " '덕분': 665,\n",
       " '이번': 2385,\n",
       " '프런트': 3331,\n",
       " '배정': 1239,\n",
       " '이착륙': 2415,\n",
       " '클리닝': 3120,\n",
       " '근무': 382,\n",
       " '아주머니': 1923,\n",
       " '인사': 2436,\n",
       " '코로나': 3085,\n",
       " '사태': 1496,\n",
       " '노화': 535,\n",
       " '벽지': 1286,\n",
       " '주름': 2756,\n",
       " '지고': 2814,\n",
       " '타일': 3133,\n",
       " '가구': 4,\n",
       " '코너': 3082,\n",
       " '곳곳이': 243,\n",
       " '관광객': 279,\n",
       " '인지': 2449,\n",
       " '사람': 1463,\n",
       " '북적': 1369,\n",
       " '전반': 2627,\n",
       " '관리': 284,\n",
       " '편이': 3274,\n",
       " '피드백': 3346,\n",
       " '편입': 3276,\n",
       " '도시': 686,\n",
       " '관광': 278,\n",
       " '특화': 3214,\n",
       " '지역': 2834,\n",
       " '근처': 385,\n",
       " '카페': 3034,\n",
       " '가기': 6,\n",
       " '고유': 221,\n",
       " '특색': 3210,\n",
       " '스테이': 1768,\n",
       " '가도': 10,\n",
       " '스타벅스': 1759,\n",
       " '번화가': 1263,\n",
       " '아침': 1924,\n",
       " '커서': 3057,\n",
       " '방음': 1224,\n",
       " '먹거리': 988,\n",
       " '단점': 588,\n",
       " '라면': 797,\n",
       " '오심': 2170,\n",
       " '이중': 2411,\n",
       " '혼자': 3523,\n",
       " '겐찮은듯': 157,\n",
       " '다그': 563,\n",
       " '도일': 694,\n",
       " '께빵': 456,\n",
       " '중국인': 2793,\n",
       " '타고': 3127,\n",
       " '눈앞': 556,\n",
       " '가지': 44,\n",
       " '힐링': 3598,\n",
       " '피트니스': 3354,\n",
       " '패키지': 3254,\n",
       " '미닫이': 1122,\n",
       " '로비': 847,\n",
       " '비롯': 1421,\n",
       " '모든': 1030,\n",
       " '각종': 52,\n",
       " '물건': 1103,\n",
       " '아침식사': 1926,\n",
       " '밥맛': 1207,\n",
       " '피아노': 3349,\n",
       " '연주': 2118,\n",
       " '룸타입': 867,\n",
       " '패밀리': 3250,\n",
       " '거실': 121,\n",
       " '한실': 3412,\n",
       " '서부': 1562,\n",
       " '수산시장': 1690,\n",
       " '새벽': 1534,\n",
       " '경매': 182,\n",
       " '구경': 304,\n",
       " '추가': 2972,\n",
       " '어차피': 2022,\n",
       " '현재': 3496,\n",
       " '묵고': 1090,\n",
       " '인터넷': 2453,\n",
       " '지정': 2840,\n",
       " '안해': 1952,\n",
       " '프런터': 3330,\n",
       " '문의': 1096,\n",
       " '영화': 2135,\n",
       " '시스템': 1810,\n",
       " '티브이': 3219,\n",
       " '채널': 2903,\n",
       " '몇개': 1020,\n",
       " '콘센트': 3092,\n",
       " '플러그': 3341,\n",
       " '와이프': 2201,\n",
       " '충전': 2995,\n",
       " '결정': 168,\n",
       " '달라': 594,\n",
       " '경험': 190,\n",
       " '장점': 2579,\n",
       " '인생': 2439,\n",
       " '최악': 2966,\n",
       " '중심': 2797,\n",
       " '바닷가': 1153,\n",
       " '비교': 1413,\n",
       " '편임': 3275,\n",
       " '한번': 3408,\n",
       " '예정': 2146,\n",
       " '휴가': 3585,\n",
       " '스위트룸': 1750,\n",
       " '유리창': 2322,\n",
       " '위트': 2312,\n",
       " '캠핑': 3050,\n",
       " '테이블': 3160,\n",
       " '세트': 1621,\n",
       " '텐트': 3161,\n",
       " '에어컨': 2054,\n",
       " '작은방': 2543,\n",
       " '매트': 975,\n",
       " '자리': 2520,\n",
       " '탑동': 3142,\n",
       " '공원': 263,\n",
       " '프리': 3338,\n",
       " '마켓': 923,\n",
       " '공연': 259,\n",
       " '매일': 971,\n",
       " '식사': 1833,\n",
       " '관덕정': 282,\n",
       " '정문': 2682,\n",
       " '도보': 684,\n",
       " '소요': 1645,\n",
       " '해장국': 3458,\n",
       " '동문': 717,\n",
       " '서문시장': 1560,\n",
       " '목관': 1047,\n",
       " '맞은편': 960,\n",
       " '슬슬': 1792,\n",
       " '별관': 1291,\n",
       " '본관': 1330,\n",
       " '갈수': 68,\n",
       " '최신': 2965,\n",
       " '그린': 377,\n",
       " '환경': 3545,\n",
       " '때문': 787,\n",
       " '별도': 1292,\n",
       " '대중교통': 641,\n",
       " '구매': 317,\n",
       " '심플': 1882,\n",
       " '비품': 1438,\n",
       " '트윈침대': 3205,\n",
       " '스탠다드': 1763,\n",
       " '높이': 548,\n",
       " '한라산': 3404,\n",
       " '노곤': 525,\n",
       " '터미널': 3152,\n",
       " '온돌룸': 2189,\n",
       " '세면대': 1608,\n",
       " '물이': 1114,\n",
       " '치약': 3013,\n",
       " '것임': 150,\n",
       " '생수': 1545,\n",
       " '환승': 3550,\n",
       " '곧바로': 231,\n",
       " '동광양': 710,\n",
       " '정류장': 2677,\n",
       " '시청': 1818,\n",
       " '스텝': 1771,\n",
       " '협소하': 3502,\n",
       " '거품': 130,\n",
       " '타월': 3131,\n",
       " '화장': 3537,\n",
       " '대가': 612,\n",
       " '거울': 123,\n",
       " '쇼파': 1670,\n",
       " '조합': 2739,\n",
       " '금액': 395,\n",
       " '주차공간': 2780,\n",
       " '공터': 267,\n",
       " '태풍': 3150,\n",
       " '개층': 104,\n",
       " '오후': 2184,\n",
       " '한시': 3409,\n",
       " '사우나': 1485,\n",
       " '부모님': 1349,\n",
       " '할머니': 3422,\n",
       " '모시': 1038,\n",
       " '계획': 197,\n",
       " '일로': 2464,\n",
       " '빠듯해': 1445,\n",
       " '어디': 2004,\n",
       " '길가': 441,\n",
       " '골목길': 235,\n",
       " '이륙': 2377,\n",
       " '착륙': 2887,\n",
       " '보이': 1310,\n",
       " '그냥': 363,\n",
       " '일반': 2469,\n",
       " '대욕': 633,\n",
       " '헬스장': 3489,\n",
       " '가면': 19,\n",
       " '고려': 206,\n",
       " '렌터카': 837,\n",
       " '입구': 2496,\n",
       " '반대쪽': 1182,\n",
       " '한정': 3416,\n",
       " '단체': 591,\n",
       " '더블': 660,\n",
       " '제외': 2708,\n",
       " '여유': 2088,\n",
       " '반대편': 1183,\n",
       " '도심': 688,\n",
       " '불구': 1387,\n",
       " '소음': 1648,\n",
       " '거의': 125,\n",
       " '세명': 1609,\n",
       " '트리플': 3199,\n",
       " '전날': 2618,\n",
       " '남아': 495,\n",
       " '자체': 2534,\n",
       " '당일': 610,\n",
       " '정보': 2683,\n",
       " '햇반': 3468,\n",
       " '장조림': 2580,\n",
       " '전자': 2637,\n",
       " '레인지': 831,\n",
       " '가야': 33,\n",
       " '세미나': 1610,\n",
       " '한국인': 3400,\n",
       " '그대로': 369,\n",
       " '나름': 469,\n",
       " '제과점': 2697,\n",
       " '정거장': 2670,\n",
       " '모기': 1022,\n",
       " '만해': 944,\n",
       " '마리': 898,\n",
       " '가량': 16,\n",
       " '방안': 1222,\n",
       " '에프킬라': 2058,\n",
       " '비치': 1435,\n",
       " '계속': 195,\n",
       " '뿌리': 1456,\n",
       " '잡고': 2557,\n",
       " '찬장': 2891,\n",
       " '천장': 2915,\n",
       " '곳곳': 242,\n",
       " '측은': 3008,\n",
       " '벌레': 1265,\n",
       " '기본': 414,\n",
       " '요금': 2223,\n",
       " '건너편': 135,\n",
       " '번호': 1262,\n",
       " '샐러드': 1538,\n",
       " '음식': 2349,\n",
       " '구성': 326,\n",
       " '전복죽': 2629,\n",
       " '저번': 2601,\n",
       " '핸드폰': 3464,\n",
       " '충전기': 2996,\n",
       " '불편': 1400,\n",
       " '센터': 1622,\n",
       " '공사': 256,\n",
       " '숙면': 1720,\n",
       " '무난': 1061,\n",
       " '노력': 528,\n",
       " '지불': 2826,\n",
       " '비용': 1430,\n",
       " '로맨틱': 845,\n",
       " '독립': 702,\n",
       " '북유럽': 1368,\n",
       " '유리': 2321,\n",
       " '커튼': 3059,\n",
       " '바깥': 1145,\n",
       " '설치': 1595,\n",
       " '모던': 1025,\n",
       " '비데': 1418,\n",
       " '효율': 3569,\n",
       " '인치': 2451,\n",
       " '삼성': 1512,\n",
       " '만끽': 927,\n",
       " '편안함': 3270,\n",
       " '여정': 2091,\n",
       " '바닥': 1151,\n",
       " '목적': 1052,\n",
       " '커플': 3060,\n",
       " '끼리': 464,\n",
       " '직진': 2852,\n",
       " '운전': 2268,\n",
       " '공영': 261,\n",
       " '애기': 1962,\n",
       " '무선인터넷': 1074,\n",
       " '갑자기': 80,\n",
       " '서전': 1568,\n",
       " '항공': 3432,\n",
       " '다가': 562,\n",
       " '가급': 5,\n",
       " '결제': 169,\n",
       " '은방': 2342,\n",
       " '상황': 1533,\n",
       " '아시': 1914,\n",
       " '고트': 227,\n",
       " '지도': 2822,\n",
       " '세심': 1614,\n",
       " '공시': 257,\n",
       " '시작': 1815,\n",
       " '맥주잔': 982,\n",
       " '쿠폰': 3102,\n",
       " '일도': 2463,\n",
       " '크기': 3108,\n",
       " '룸서비스': 864,\n",
       " '정신': 2690,\n",
       " '평가': 3277,\n",
       " '편의': 3272,\n",
       " '요즘': 2233,\n",
       " '여러': 2078,\n",
       " '직언': 2848,\n",
       " '블룸': 1412,\n",
       " '변기': 1288,\n",
       " '물질': 1115,\n",
       " '얘기': 1997,\n",
       " '수건': 1675,\n",
       " '환불': 3548,\n",
       " '월일': 2293,\n",
       " '푸른': 3313,\n",
       " '파도': 3223,\n",
       " '철썩': 2918,\n",
       " '풍경': 3320,\n",
       " '생선회': 1544,\n",
       " '장소': 2573,\n",
       " '놀이': 543,\n",
       " '양도': 1989,\n",
       " '돼지': 735,\n",
       " '전골': 2613,\n",
       " '매운탕': 970,\n",
       " '형편': 3512,\n",
       " '브런치': 1406,\n",
       " '뒤쪽': 751,\n",
       " '맛집': 956,\n",
       " '쭈욱': 2869,\n",
       " '갑인': 79,\n",
       " '드타': 764,\n",
       " '방파제': 1233,\n",
       " '횟집': 3567,\n",
       " '타운': 3129,\n",
       " '해산물': 3448,\n",
       " '규모': 356,\n",
       " '가까이': 7,\n",
       " '어르신': 2008,\n",
       " '깨끗': 454,\n",
       " '대신': 629,\n",
       " '작고': 2538,\n",
       " '수영': 1697,\n",
       " '아쉬움': 1912,\n",
       " '인도': 2430,\n",
       " '소독약': 1634,\n",
       " '스비': 1745,\n",
       " '홀로': 3525,\n",
       " '등정후': 775,\n",
       " '부터': 1365,\n",
       " '혹시': 3520,\n",
       " '확인': 3543,\n",
       " '전화': 2645,\n",
       " '통해': 3180,\n",
       " '휘트니': 3582,\n",
       " '운동복': 2266,\n",
       " '수영모': 1698,\n",
       " '고오': 219,\n",
       " '바람': 1157,\n",
       " '대여': 631,\n",
       " '여직원': 2093,\n",
       " '무시': 1077,\n",
       " '말투': 951,\n",
       " '원래': 2284,\n",
       " '제로': 2700,\n",
       " '운영': 2267,\n",
       " '일반인': 2470,\n",
       " '입장': 2503,\n",
       " '선심': 1583,\n",
       " '필요': 3360,\n",
       " '기전': 430,\n",
       " '대뜸': 620,\n",
       " '화가': 3528,\n",
       " '고객': 200,\n",
       " '플레인': 3343,\n",
       " '시경': 1800,\n",
       " '아웃': 1917,\n",
       " '하야': 3382,\n",
       " '메리어트': 998,\n",
       " '여럿': 2081,\n",
       " '이어도': 2397,\n",
       " '수준': 1707,\n",
       " '이군': 2370,\n",
       " '실망': 1867,\n",
       " '종일': 2747,\n",
       " '리셉션': 880,\n",
       " '컨시어': 3070,\n",
       " '태도': 3147,\n",
       " '유료': 2319,\n",
       " '사고': 1460,\n",
       " '학생': 3393,\n",
       " '선생님': 1580,\n",
       " '어딘': 2005,\n",
       " '사항': 1498,\n",
       " '무슨': 1075,\n",
       " '거지': 128,\n",
       " '리빙룸': 879,\n",
       " '하나요': 3368,\n",
       " '트윈룸': 3202,\n",
       " '무려': 1065,\n",
       " '게재': 156,\n",
       " '실물': 1869,\n",
       " '차이': 2881,\n",
       " '실화': 1879,\n",
       " '파우더': 3231,\n",
       " '곰팡이': 240,\n",
       " '자국': 2511,\n",
       " '작동': 2539,\n",
       " '골드스타': 233,\n",
       " '냉장고': 517,\n",
       " '절대': 2649,\n",
       " '레스토랑': 826,\n",
       " '자꾸': 2513,\n",
       " '정색': 2687,\n",
       " '살짝': 1510,\n",
       " '서버': 1561,\n",
       " '데리': 669,\n",
       " '가신': 32,\n",
       " '나머지': 470,\n",
       " '물기': 1105,\n",
       " '직접': 2851,\n",
       " '체계': 2931,\n",
       " '엉망': 2048,\n",
       " '소규모': 1630,\n",
       " '시기': 1803,\n",
       " '마음': 910,\n",
       " '리트': 886,\n",
       " '라그': 794,\n",
       " '기대': 409,\n",
       " '실내수영장': 1862,\n",
       " '수온': 1701,\n",
       " '스위트': 1749,\n",
       " '비수': 1427,\n",
       " '상대': 1515,\n",
       " '노후': 536,\n",
       " '정가': 2669,\n",
       " '무리': 1072,\n",
       " '할인': 3424,\n",
       " '행사': 3473,\n",
       " '참고': 2893,\n",
       " '포함': 3298,\n",
       " '마일리지': 913,\n",
       " '대한항공': 650,\n",
       " '하룻밤': 3377,\n",
       " '확실': 3542,\n",
       " '연식': 2115,\n",
       " '고급': 201,\n",
       " '원가': 2280,\n",
       " '서우': 1566,\n",
       " '해수욕장': 3453,\n",
       " '한눈': 3402,\n",
       " '창문': 2900,\n",
       " '겨울철': 161,\n",
       " '온도': 2187,\n",
       " '리기': 870,\n",
       " '방기': 1214,\n",
       " '동시': 725,\n",
       " '방식': 1221,\n",
       " '대략': 621,\n",
       " '도정': 695,\n",
       " '부스': 1352,\n",
       " '옆방': 2137,\n",
       " '티비': 3220,\n",
       " '취침': 3001,\n",
       " '초등학생': 2946,\n",
       " '양호': 1996,\n",
       " '한식당': 3411,\n",
       " '차라리': 2875,\n",
       " '반드시': 1184,\n",
       " '크게': 3107,\n",
       " '씨유': 1896,\n",
       " '델문': 674,\n",
       " '카페나': 3035,\n",
       " '해수욕': 3452,\n",
       " '최적': 2969,\n",
       " '디럭스': 778,\n",
       " '발코니': 1203,\n",
       " '모로': 1034,\n",
       " '트윈룸입니': 3203,\n",
       " '선착순': 1585,\n",
       " '예술': 2142,\n",
       " '물놀이': 1106,\n",
       " '모래': 1031,\n",
       " '피크': 3352,\n",
       " '시즌': 1817,\n",
       " '날씨': 491,\n",
       " '선선': 1581,\n",
       " '근래': 381,\n",
       " '편리': 3269,\n",
       " '코르': 3086,\n",
       " '기지': 434,\n",
       " '사양': 1481,\n",
       " '주체': 2782,\n",
       " '교회': 302,\n",
       " '절반': 2653,\n",
       " '인수': 2440,\n",
       " '보임': 1314,\n",
       " '아트': 1927,\n",
       " '추정': 2976,\n",
       " '프로': 3333,\n",
       " '페셔': 3264,\n",
       " '인력': 2432,\n",
       " '매트리스': 976,\n",
       " '나무': 472,\n",
       " '허리': 3482,\n",
       " '안감': 1934,\n",
       " '해변': 3447,\n",
       " '워낙': 2275,\n",
       " '가시': 31,\n",
       " '주말': 2757,\n",
       " '한국': 3397,\n",
       " '벚꽃': 1270,\n",
       " '기간': 403,\n",
       " '협재': 3503,\n",
       " '옹포': 2197,\n",
       " '밥집': 1209,\n",
       " '산책': 1505,\n",
       " '루프': 860,\n",
       " '비바람': 1425,\n",
       " '불어': 1396,\n",
       " '블로거': 1410,\n",
       " '물떄': 1108,\n",
       " '그거': 360,\n",
       " '위주': 2308,\n",
       " '풀이': 3317,\n",
       " '온수': 2192,\n",
       " '미온수': 1133,\n",
       " '미온': 1132,\n",
       " '자쿠지': 2536,\n",
       " '잠깐': 2551,\n",
       " '인피니트': 2458,\n",
       " '환상': 3549,\n",
       " '하나': 3365,\n",
       " '스페': 1782,\n",
       " '치킨': 3015,\n",
       " '빠에야': 1446,\n",
       " '스파': 1779,\n",
       " '구조': 333,\n",
       " '스파룸': 1780,\n",
       " '자쿠': 2535,\n",
       " '이용권': 2401,\n",
       " '하니': 3371,\n",
       " '사이': 1487,\n",
       " '시트': 1820,\n",
       " '정리': 2678,\n",
       " '삼다수': 1511,\n",
       " '병과': 1294,\n",
       " '네스프레소': 520,\n",
       " '캡슐': 3051,\n",
       " '여자': 2089,\n",
       " '피로': 3347,\n",
       " '스페인': 1784,\n",
       " '영업': 2132,\n",
       " '종료': 2743,\n",
       " '버거': 1245,\n",
       " '오른쪽': 2161,\n",
       " '마담': 893,\n",
       " '나탈리': 482,\n",
       " '음악': 2351,\n",
       " '필터': 3362,\n",
       " '실외수영장': 1875,\n",
       " '검색': 147,\n",
       " '옥상': 2186,\n",
       " '결과': 164,\n",
       " '대형': 653,\n",
       " '만큼': 942,\n",
       " '번잡': 1260,\n",
       " '개수대': 98,\n",
       " '이전': 2407,\n",
       " '아무': 1909,\n",
       " '리지': 884,\n",
       " '제한': 2714,\n",
       " '경치': 189,\n",
       " '이웃': 2403,\n",
       " '일몰': 2467,\n",
       " '실제': 1877,\n",
       " '리조트': 883,\n",
       " '홍보': 3527,\n",
       " '상통': 1529,\n",
       " '화산': 3532,\n",
       " '바위': 1166,\n",
       " '정상': 2686,\n",
       " '기점': 431,\n",
       " '스템': 1770,\n",
       " '잠자리': 2556,\n",
       " '기타': 435,\n",
       " '부족함': 1359,\n",
       " '길이': 444,\n",
       " '다행': 582,\n",
       " '중국어': 2792,\n",
       " '영어': 2131,\n",
       " '도움': 692,\n",
       " '해결': 3438,\n",
       " '목적지': 1053,\n",
       " '해피': 3461,\n",
       " '음료': 2346,\n",
       " '사이다': 1488,\n",
       " '주스': 2764,\n",
       " '달걀': 592,\n",
       " '치즈': 3014,\n",
       " '히터': 3597,\n",
       " '투어': 3187,\n",
       " '호스텔': 3515,\n",
       " '질문': 2858,\n",
       " '상품': 1530,\n",
       " '과거': 270,\n",
       " '게스트하우스': 154,\n",
       " '자고': 2510,\n",
       " '오기': 2150,\n",
       " '일이': 2479,\n",
       " '발전': 1201,\n",
       " '예상': 2141,\n",
       " '토스터': 3165,\n",
       " '이후': 2424,\n",
       " '소등': 1635,\n",
       " '불키': 1399,\n",
       " '조용조': 2733,\n",
       " '방키': 1232,\n",
       " '고여': 218,\n",
       " '남자': 496,\n",
       " '안전': 1946,\n",
       " '차로': 2878,\n",
       " '이내': 2373,\n",
       " '뷔페': 1403,\n",
       " '여느': 2076,\n",
       " '롯데리아': 856,\n",
       " '방만': 1216,\n",
       " '고정': 224,\n",
       " '무궁화': 1060,\n",
       " '수기': 1676,\n",
       " '사이트': 1490,\n",
       " '홈페이지': 3526,\n",
       " '마치': 921,\n",
       " '무척': 1088,\n",
       " '전기차': 2617,\n",
       " '건너': 134,\n",
       " '급속': 402,\n",
       " '소가': 1628,\n",
       " '유치원': 2333,\n",
       " '주택가': 2784,\n",
       " ...}"
      ]
     },
     "execution_count": 38,
     "metadata": {},
     "output_type": "execute_result"
    }
   ],
   "source": [
    "vect.vocabulary_"
   ]
  },
  {
   "cell_type": "code",
   "execution_count": 39,
   "metadata": {
    "colab": {
     "base_uri": "https://localhost:8080/"
    },
    "executionInfo": {
     "elapsed": 21,
     "status": "ok",
     "timestamp": 1676603810237,
     "user": {
      "displayName": "버물리",
      "userId": "16343119817703036426"
     },
     "user_tz": -540
    },
    "id": "jpOhHaKqDCFm",
    "outputId": "3fffb3d4-d2f4-452a-f845-6d2dc84a9625"
   },
   "outputs": [
    {
     "name": "stdout",
     "output_type": "stream",
     "text": [
      "{2866: '집중', 3588: '휴식', 2696: '제공', 2311: '위치', 1584: '선정', 790: '또한', 2927: '청소', 2925: '청결', 1527\n"
     ]
    }
   ],
   "source": [
    "invert_index_vectorizer = {v : k for k, v in vect.vocabulary_.items()}  # vect.vocabulary_ : vect의 각 단어의 인덱스가 어떻게 부여되었는지를 보여줍니다.\n",
    "print(str(invert_index_vectorizer)[:100])"
   ]
  },
  {
   "cell_type": "markdown",
   "metadata": {
    "id": "nvwPAdU2DA_v"
   },
   "source": [
    "-----"
   ]
  },
  {
   "cell_type": "markdown",
   "metadata": {
    "id": "3Nb-h1fM7nLc"
   },
   "source": [
    "## 4) Logistic Regression 분류"
   ]
  },
  {
   "cell_type": "markdown",
   "metadata": {
    "id": "87E9Sz5g4YFE"
   },
   "source": [
    "### 4-1) 데이터셋 생성"
   ]
  },
  {
   "cell_type": "markdown",
   "metadata": {
    "id": "dcVGBXHVDeIu"
   },
   "source": [
    "##### Rating 데이터 이진으로 변환"
   ]
  },
  {
   "cell_type": "code",
   "execution_count": null,
   "metadata": {
    "colab": {
     "base_uri": "https://localhost:8080/",
     "height": 206
    },
    "executionInfo": {
     "elapsed": 19,
     "status": "ok",
     "timestamp": 1676465934111,
     "user": {
      "displayName": "버물리",
      "userId": "16343119817703036426"
     },
     "user_tz": -540
    },
    "id": "PS27E0CT4h-7",
    "outputId": "a385f907-a59e-4a0d-8337-38a6e1b10022"
   },
   "outputs": [
    {
     "data": {
      "text/html": [
       "\n",
       "  <div id=\"df-535adbf3-633f-45cf-b139-5ce7ca812739\">\n",
       "    <div class=\"colab-df-container\">\n",
       "      <div>\n",
       "<style scoped>\n",
       "    .dataframe tbody tr th:only-of-type {\n",
       "        vertical-align: middle;\n",
       "    }\n",
       "\n",
       "    .dataframe tbody tr th {\n",
       "        vertical-align: top;\n",
       "    }\n",
       "\n",
       "    .dataframe thead th {\n",
       "        text-align: right;\n",
       "    }\n",
       "</style>\n",
       "<table border=\"1\" class=\"dataframe\">\n",
       "  <thead>\n",
       "    <tr style=\"text-align: right;\">\n",
       "      <th></th>\n",
       "      <th>rating</th>\n",
       "      <th>text</th>\n",
       "    </tr>\n",
       "  </thead>\n",
       "  <tbody>\n",
       "    <tr>\n",
       "      <th>0</th>\n",
       "      <td>4</td>\n",
       "      <td>여행에 집중할수 있게 편안한 휴식을 제공하는 호텔이었습니다. 위치선정 또한 적당한 ...</td>\n",
       "    </tr>\n",
       "    <tr>\n",
       "      <th>1</th>\n",
       "      <td>4</td>\n",
       "      <td>2일 이상 연박시 침대, 이불, 베게등 침구류 교체 및 어메니티 보강이 필요해 보입...</td>\n",
       "    </tr>\n",
       "    <tr>\n",
       "      <th>2</th>\n",
       "      <td>4</td>\n",
       "      <td>지인에소개로온 호텔  깨끗하고 좋은거같아요 처음에는 없는게 많아 많이  당황했는데 ...</td>\n",
       "    </tr>\n",
       "    <tr>\n",
       "      <th>3</th>\n",
       "      <td>5</td>\n",
       "      <td>방에 딱 들어서자마자 눈이 휘둥그레질정도로 이렇게 넓은 호텔 처음 와본 것 같아요!...</td>\n",
       "    </tr>\n",
       "    <tr>\n",
       "      <th>4</th>\n",
       "      <td>5</td>\n",
       "      <td>저녁에 맥주한잔 하는게 좋아서 렌트 안하고 뚜벅이 하기로 했는데 호텔 바로 앞에 버...</td>\n",
       "    </tr>\n",
       "  </tbody>\n",
       "</table>\n",
       "</div>\n",
       "      <button class=\"colab-df-convert\" onclick=\"convertToInteractive('df-535adbf3-633f-45cf-b139-5ce7ca812739')\"\n",
       "              title=\"Convert this dataframe to an interactive table.\"\n",
       "              style=\"display:none;\">\n",
       "        \n",
       "  <svg xmlns=\"http://www.w3.org/2000/svg\" height=\"24px\"viewBox=\"0 0 24 24\"\n",
       "       width=\"24px\">\n",
       "    <path d=\"M0 0h24v24H0V0z\" fill=\"none\"/>\n",
       "    <path d=\"M18.56 5.44l.94 2.06.94-2.06 2.06-.94-2.06-.94-.94-2.06-.94 2.06-2.06.94zm-11 1L8.5 8.5l.94-2.06 2.06-.94-2.06-.94L8.5 2.5l-.94 2.06-2.06.94zm10 10l.94 2.06.94-2.06 2.06-.94-2.06-.94-.94-2.06-.94 2.06-2.06.94z\"/><path d=\"M17.41 7.96l-1.37-1.37c-.4-.4-.92-.59-1.43-.59-.52 0-1.04.2-1.43.59L10.3 9.45l-7.72 7.72c-.78.78-.78 2.05 0 2.83L4 21.41c.39.39.9.59 1.41.59.51 0 1.02-.2 1.41-.59l7.78-7.78 2.81-2.81c.8-.78.8-2.07 0-2.86zM5.41 20L4 18.59l7.72-7.72 1.47 1.35L5.41 20z\"/>\n",
       "  </svg>\n",
       "      </button>\n",
       "      \n",
       "  <style>\n",
       "    .colab-df-container {\n",
       "      display:flex;\n",
       "      flex-wrap:wrap;\n",
       "      gap: 12px;\n",
       "    }\n",
       "\n",
       "    .colab-df-convert {\n",
       "      background-color: #E8F0FE;\n",
       "      border: none;\n",
       "      border-radius: 50%;\n",
       "      cursor: pointer;\n",
       "      display: none;\n",
       "      fill: #1967D2;\n",
       "      height: 32px;\n",
       "      padding: 0 0 0 0;\n",
       "      width: 32px;\n",
       "    }\n",
       "\n",
       "    .colab-df-convert:hover {\n",
       "      background-color: #E2EBFA;\n",
       "      box-shadow: 0px 1px 2px rgba(60, 64, 67, 0.3), 0px 1px 3px 1px rgba(60, 64, 67, 0.15);\n",
       "      fill: #174EA6;\n",
       "    }\n",
       "\n",
       "    [theme=dark] .colab-df-convert {\n",
       "      background-color: #3B4455;\n",
       "      fill: #D2E3FC;\n",
       "    }\n",
       "\n",
       "    [theme=dark] .colab-df-convert:hover {\n",
       "      background-color: #434B5C;\n",
       "      box-shadow: 0px 1px 3px 1px rgba(0, 0, 0, 0.15);\n",
       "      filter: drop-shadow(0px 1px 2px rgba(0, 0, 0, 0.3));\n",
       "      fill: #FFFFFF;\n",
       "    }\n",
       "  </style>\n",
       "\n",
       "      <script>\n",
       "        const buttonEl =\n",
       "          document.querySelector('#df-535adbf3-633f-45cf-b139-5ce7ca812739 button.colab-df-convert');\n",
       "        buttonEl.style.display =\n",
       "          google.colab.kernel.accessAllowed ? 'block' : 'none';\n",
       "\n",
       "        async function convertToInteractive(key) {\n",
       "          const element = document.querySelector('#df-535adbf3-633f-45cf-b139-5ce7ca812739');\n",
       "          const dataTable =\n",
       "            await google.colab.kernel.invokeFunction('convertToInteractive',\n",
       "                                                     [key], {});\n",
       "          if (!dataTable) return;\n",
       "\n",
       "          const docLinkHtml = 'Like what you see? Visit the ' +\n",
       "            '<a target=\"_blank\" href=https://colab.research.google.com/notebooks/data_table.ipynb>data table notebook</a>'\n",
       "            + ' to learn more about interactive tables.';\n",
       "          element.innerHTML = '';\n",
       "          dataTable['output_type'] = 'display_data';\n",
       "          await google.colab.output.renderOutput(dataTable, element);\n",
       "          const docLink = document.createElement('div');\n",
       "          docLink.innerHTML = docLinkHtml;\n",
       "          element.appendChild(docLink);\n",
       "        }\n",
       "      </script>\n",
       "    </div>\n",
       "  </div>\n",
       "  "
      ],
      "text/plain": [
       "   rating                                               text\n",
       "0       4  여행에 집중할수 있게 편안한 휴식을 제공하는 호텔이었습니다. 위치선정 또한 적당한 ...\n",
       "1       4  2일 이상 연박시 침대, 이불, 베게등 침구류 교체 및 어메니티 보강이 필요해 보입...\n",
       "2       4  지인에소개로온 호텔  깨끗하고 좋은거같아요 처음에는 없는게 많아 많이  당황했는데 ...\n",
       "3       5  방에 딱 들어서자마자 눈이 휘둥그레질정도로 이렇게 넓은 호텔 처음 와본 것 같아요!...\n",
       "4       5  저녁에 맥주한잔 하는게 좋아서 렌트 안하고 뚜벅이 하기로 했는데 호텔 바로 앞에 버..."
      ]
     },
     "execution_count": 40,
     "metadata": {},
     "output_type": "execute_result"
    }
   ],
   "source": [
    "df.head()"
   ]
  },
  {
   "cell_type": "code",
   "execution_count": null,
   "metadata": {
    "colab": {
     "base_uri": "https://localhost:8080/",
     "height": 284
    },
    "executionInfo": {
     "elapsed": 1698,
     "status": "ok",
     "timestamp": 1676465935791,
     "user": {
      "displayName": "버물리",
      "userId": "16343119817703036426"
     },
     "user_tz": -540
    },
    "id": "lXvHnoTY96zZ",
    "outputId": "4061d6ba-5748-4819-bc44-86cc3ace18c3"
   },
   "outputs": [
    {
     "data": {
      "text/plain": [
       "<matplotlib.axes._subplots.AxesSubplot at 0x7f4236b54430>"
      ]
     },
     "execution_count": 41,
     "metadata": {},
     "output_type": "execute_result"
    },
    {
     "data": {
      "image/png": "[encoded data removed]",
      "text/plain": [
       "<Figure size 432x288 with 1 Axes>"
      ]
     },
     "metadata": {
      "needs_background": "light"
     },
     "output_type": "display_data"
    }
   ],
   "source": [
    "df.rating.hist()"
   ]
  },
  {
   "cell_type": "code",
   "execution_count": null,
   "metadata": {
    "colab": {
     "base_uri": "https://localhost:8080/",
     "height": 206
    },
    "executionInfo": {
     "elapsed": 16,
     "status": "ok",
     "timestamp": 1676465935792,
     "user": {
      "displayName": "버물리",
      "userId": "16343119817703036426"
     },
     "user_tz": -540
    },
    "id": "lhjSTR4HDlXS",
    "outputId": "c783d88e-614f-4f75-9d19-185dfaaa13cb"
   },
   "outputs": [
    {
     "data": {
      "text/html": [
       "\n",
       "  <div id=\"df-4c0f9b42-f481-4964-9743-738e0d91227f\">\n",
       "    <div class=\"colab-df-container\">\n",
       "      <div>\n",
       "<style scoped>\n",
       "    .dataframe tbody tr th:only-of-type {\n",
       "        vertical-align: middle;\n",
       "    }\n",
       "\n",
       "    .dataframe tbody tr th {\n",
       "        vertical-align: top;\n",
       "    }\n",
       "\n",
       "    .dataframe thead th {\n",
       "        text-align: right;\n",
       "    }\n",
       "</style>\n",
       "<table border=\"1\" class=\"dataframe\">\n",
       "  <thead>\n",
       "    <tr style=\"text-align: right;\">\n",
       "      <th></th>\n",
       "      <th>rating</th>\n",
       "      <th>text</th>\n",
       "    </tr>\n",
       "  </thead>\n",
       "  <tbody>\n",
       "    <tr>\n",
       "      <th>48</th>\n",
       "      <td>5</td>\n",
       "      <td>우선 호텔 위치가 공항에서 가깝고요   방도 업그레이드 해줬습니다. 별관에서 본관으...</td>\n",
       "    </tr>\n",
       "    <tr>\n",
       "      <th>269</th>\n",
       "      <td>4</td>\n",
       "      <td>최상의 위치, distric 쇼핑 근처 레스토랑, 버스 정류장. 공항에서 가깝고(1...</td>\n",
       "    </tr>\n",
       "    <tr>\n",
       "      <th>340</th>\n",
       "      <td>5</td>\n",
       "      <td>room : 깨끗하고 넓으며 2 인용으로 충분합니다. 그러나 두 침대가 더블 침대이...</td>\n",
       "    </tr>\n",
       "    <tr>\n",
       "      <th>647</th>\n",
       "      <td>3</td>\n",
       "      <td>호텔은 공항과 매우 가까우며 로비에 7 개의 11 개가있어 편리합니다. 그러나 서비...</td>\n",
       "    </tr>\n",
       "    <tr>\n",
       "      <th>149</th>\n",
       "      <td>5</td>\n",
       "      <td>깨끗하고 좋아요~ 추천하려면 하고 다음에도 또 올꺼고  옆에 진짜 맛있는 해장국집도...</td>\n",
       "    </tr>\n",
       "  </tbody>\n",
       "</table>\n",
       "</div>\n",
       "      <button class=\"colab-df-convert\" onclick=\"convertToInteractive('df-4c0f9b42-f481-4964-9743-738e0d91227f')\"\n",
       "              title=\"Convert this dataframe to an interactive table.\"\n",
       "              style=\"display:none;\">\n",
       "        \n",
       "  <svg xmlns=\"http://www.w3.org/2000/svg\" height=\"24px\"viewBox=\"0 0 24 24\"\n",
       "       width=\"24px\">\n",
       "    <path d=\"M0 0h24v24H0V0z\" fill=\"none\"/>\n",
       "    <path d=\"M18.56 5.44l.94 2.06.94-2.06 2.06-.94-2.06-.94-.94-2.06-.94 2.06-2.06.94zm-11 1L8.5 8.5l.94-2.06 2.06-.94-2.06-.94L8.5 2.5l-.94 2.06-2.06.94zm10 10l.94 2.06.94-2.06 2.06-.94-2.06-.94-.94-2.06-.94 2.06-2.06.94z\"/><path d=\"M17.41 7.96l-1.37-1.37c-.4-.4-.92-.59-1.43-.59-.52 0-1.04.2-1.43.59L10.3 9.45l-7.72 7.72c-.78.78-.78 2.05 0 2.83L4 21.41c.39.39.9.59 1.41.59.51 0 1.02-.2 1.41-.59l7.78-7.78 2.81-2.81c.8-.78.8-2.07 0-2.86zM5.41 20L4 18.59l7.72-7.72 1.47 1.35L5.41 20z\"/>\n",
       "  </svg>\n",
       "      </button>\n",
       "      \n",
       "  <style>\n",
       "    .colab-df-container {\n",
       "      display:flex;\n",
       "      flex-wrap:wrap;\n",
       "      gap: 12px;\n",
       "    }\n",
       "\n",
       "    .colab-df-convert {\n",
       "      background-color: #E8F0FE;\n",
       "      border: none;\n",
       "      border-radius: 50%;\n",
       "      cursor: pointer;\n",
       "      display: none;\n",
       "      fill: #1967D2;\n",
       "      height: 32px;\n",
       "      padding: 0 0 0 0;\n",
       "      width: 32px;\n",
       "    }\n",
       "\n",
       "    .colab-df-convert:hover {\n",
       "      background-color: #E2EBFA;\n",
       "      box-shadow: 0px 1px 2px rgba(60, 64, 67, 0.3), 0px 1px 3px 1px rgba(60, 64, 67, 0.15);\n",
       "      fill: #174EA6;\n",
       "    }\n",
       "\n",
       "    [theme=dark] .colab-df-convert {\n",
       "      background-color: #3B4455;\n",
       "      fill: #D2E3FC;\n",
       "    }\n",
       "\n",
       "    [theme=dark] .colab-df-convert:hover {\n",
       "      background-color: #434B5C;\n",
       "      box-shadow: 0px 1px 3px 1px rgba(0, 0, 0, 0.15);\n",
       "      filter: drop-shadow(0px 1px 2px rgba(0, 0, 0, 0.3));\n",
       "      fill: #FFFFFF;\n",
       "    }\n",
       "  </style>\n",
       "\n",
       "      <script>\n",
       "        const buttonEl =\n",
       "          document.querySelector('#df-4c0f9b42-f481-4964-9743-738e0d91227f button.colab-df-convert');\n",
       "        buttonEl.style.display =\n",
       "          google.colab.kernel.accessAllowed ? 'block' : 'none';\n",
       "\n",
       "        async function convertToInteractive(key) {\n",
       "          const element = document.querySelector('#df-4c0f9b42-f481-4964-9743-738e0d91227f');\n",
       "          const dataTable =\n",
       "            await google.colab.kernel.invokeFunction('convertToInteractive',\n",
       "                                                     [key], {});\n",
       "          if (!dataTable) return;\n",
       "\n",
       "          const docLinkHtml = 'Like what you see? Visit the ' +\n",
       "            '<a target=\"_blank\" href=https://colab.research.google.com/notebooks/data_table.ipynb>data table notebook</a>'\n",
       "            + ' to learn more about interactive tables.';\n",
       "          element.innerHTML = '';\n",
       "          dataTable['output_type'] = 'display_data';\n",
       "          await google.colab.output.renderOutput(dataTable, element);\n",
       "          const docLink = document.createElement('div');\n",
       "          docLink.innerHTML = docLinkHtml;\n",
       "          element.appendChild(docLink);\n",
       "        }\n",
       "      </script>\n",
       "    </div>\n",
       "  </div>\n",
       "  "
      ],
      "text/plain": [
       "     rating                                               text\n",
       "48        5  우선 호텔 위치가 공항에서 가깝고요   방도 업그레이드 해줬습니다. 별관에서 본관으...\n",
       "269       4  최상의 위치, distric 쇼핑 근처 레스토랑, 버스 정류장. 공항에서 가깝고(1...\n",
       "340       5  room : 깨끗하고 넓으며 2 인용으로 충분합니다. 그러나 두 침대가 더블 침대이...\n",
       "647       3  호텔은 공항과 매우 가까우며 로비에 7 개의 11 개가있어 편리합니다. 그러나 서비...\n",
       "149       5  깨끗하고 좋아요~ 추천하려면 하고 다음에도 또 올꺼고  옆에 진짜 맛있는 해장국집도..."
      ]
     },
     "execution_count": 42,
     "metadata": {},
     "output_type": "execute_result"
    }
   ],
   "source": [
    "df.sample(10).head()"
   ]
  },
  {
   "cell_type": "code",
   "execution_count": 40,
   "metadata": {
    "executionInfo": {
     "elapsed": 334,
     "status": "ok",
     "timestamp": 1676603811323,
     "user": {
      "displayName": "버물리",
      "userId": "16343119817703036426"
     },
     "user_tz": -540
    },
    "id": "fADwGYKLDlaU"
   },
   "outputs": [],
   "source": [
    "'''\n",
    "이진 분류 부분\n",
    "rating이 4, 5점에 해당되면 긍정적.\n",
    "rating이 1, 2, 3점에 해당되면 부정적.\n",
    "\n",
    "이를 새로운 칼럼을 만들어서 긍정적이면 1, 그 외에는 0으로 분류\n",
    "'''\n",
    "def rating_to_label(rating):\n",
    "  if rating > 3:\n",
    "    return 1\n",
    "  else:\n",
    "    return 0\n",
    "df['y'] = df['rating'].apply(lambda x : rating_to_label(x))"
   ]
  },
  {
   "cell_type": "code",
   "execution_count": null,
   "metadata": {
    "colab": {
     "base_uri": "https://localhost:8080/",
     "height": 206
    },
    "executionInfo": {
     "elapsed": 28,
     "status": "ok",
     "timestamp": 1676444075745,
     "user": {
      "displayName": "버물리",
      "userId": "16343119817703036426"
     },
     "user_tz": -540
    },
    "id": "FZi8MUaxDp2U",
    "outputId": "74482b54-32ee-48f3-f832-16ac2f019533"
   },
   "outputs": [
    {
     "data": {
      "text/html": [
       "\n",
       "  <div id=\"df-99975d9c-9dbe-483d-a742-6c5910fef1d9\">\n",
       "    <div class=\"colab-df-container\">\n",
       "      <div>\n",
       "<style scoped>\n",
       "    .dataframe tbody tr th:only-of-type {\n",
       "        vertical-align: middle;\n",
       "    }\n",
       "\n",
       "    .dataframe tbody tr th {\n",
       "        vertical-align: top;\n",
       "    }\n",
       "\n",
       "    .dataframe thead th {\n",
       "        text-align: right;\n",
       "    }\n",
       "</style>\n",
       "<table border=\"1\" class=\"dataframe\">\n",
       "  <thead>\n",
       "    <tr style=\"text-align: right;\">\n",
       "      <th></th>\n",
       "      <th>rating</th>\n",
       "      <th>text</th>\n",
       "      <th>y</th>\n",
       "    </tr>\n",
       "  </thead>\n",
       "  <tbody>\n",
       "    <tr>\n",
       "      <th>0</th>\n",
       "      <td>4</td>\n",
       "      <td>여행에 집중할수 있게 편안한 휴식을 제공하는 호텔이었습니다. 위치선정 또한 적당한 ...</td>\n",
       "      <td>1</td>\n",
       "    </tr>\n",
       "    <tr>\n",
       "      <th>1</th>\n",
       "      <td>4</td>\n",
       "      <td>2일 이상 연박시 침대, 이불, 베게등 침구류 교체 및 어메니티 보강이 필요해 보입...</td>\n",
       "      <td>1</td>\n",
       "    </tr>\n",
       "    <tr>\n",
       "      <th>2</th>\n",
       "      <td>4</td>\n",
       "      <td>지인에소개로온 호텔  깨끗하고 좋은거같아요 처음에는 없는게 많아 많이  당황했는데 ...</td>\n",
       "      <td>1</td>\n",
       "    </tr>\n",
       "    <tr>\n",
       "      <th>3</th>\n",
       "      <td>5</td>\n",
       "      <td>방에 딱 들어서자마자 눈이 휘둥그레질정도로 이렇게 넓은 호텔 처음 와본 것 같아요!...</td>\n",
       "      <td>1</td>\n",
       "    </tr>\n",
       "    <tr>\n",
       "      <th>4</th>\n",
       "      <td>5</td>\n",
       "      <td>저녁에 맥주한잔 하는게 좋아서 렌트 안하고 뚜벅이 하기로 했는데 호텔 바로 앞에 버...</td>\n",
       "      <td>1</td>\n",
       "    </tr>\n",
       "  </tbody>\n",
       "</table>\n",
       "</div>\n",
       "      <button class=\"colab-df-convert\" onclick=\"convertToInteractive('df-99975d9c-9dbe-483d-a742-6c5910fef1d9')\"\n",
       "              title=\"Convert this dataframe to an interactive table.\"\n",
       "              style=\"display:none;\">\n",
       "        \n",
       "  <svg xmlns=\"http://www.w3.org/2000/svg\" height=\"24px\"viewBox=\"0 0 24 24\"\n",
       "       width=\"24px\">\n",
       "    <path d=\"M0 0h24v24H0V0z\" fill=\"none\"/>\n",
       "    <path d=\"M18.56 5.44l.94 2.06.94-2.06 2.06-.94-2.06-.94-.94-2.06-.94 2.06-2.06.94zm-11 1L8.5 8.5l.94-2.06 2.06-.94-2.06-.94L8.5 2.5l-.94 2.06-2.06.94zm10 10l.94 2.06.94-2.06 2.06-.94-2.06-.94-.94-2.06-.94 2.06-2.06.94z\"/><path d=\"M17.41 7.96l-1.37-1.37c-.4-.4-.92-.59-1.43-.59-.52 0-1.04.2-1.43.59L10.3 9.45l-7.72 7.72c-.78.78-.78 2.05 0 2.83L4 21.41c.39.39.9.59 1.41.59.51 0 1.02-.2 1.41-.59l7.78-7.78 2.81-2.81c.8-.78.8-2.07 0-2.86zM5.41 20L4 18.59l7.72-7.72 1.47 1.35L5.41 20z\"/>\n",
       "  </svg>\n",
       "      </button>\n",
       "      \n",
       "  <style>\n",
       "    .colab-df-container {\n",
       "      display:flex;\n",
       "      flex-wrap:wrap;\n",
       "      gap: 12px;\n",
       "    }\n",
       "\n",
       "    .colab-df-convert {\n",
       "      background-color: #E8F0FE;\n",
       "      border: none;\n",
       "      border-radius: 50%;\n",
       "      cursor: pointer;\n",
       "      display: none;\n",
       "      fill: #1967D2;\n",
       "      height: 32px;\n",
       "      padding: 0 0 0 0;\n",
       "      width: 32px;\n",
       "    }\n",
       "\n",
       "    .colab-df-convert:hover {\n",
       "      background-color: #E2EBFA;\n",
       "      box-shadow: 0px 1px 2px rgba(60, 64, 67, 0.3), 0px 1px 3px 1px rgba(60, 64, 67, 0.15);\n",
       "      fill: #174EA6;\n",
       "    }\n",
       "\n",
       "    [theme=dark] .colab-df-convert {\n",
       "      background-color: #3B4455;\n",
       "      fill: #D2E3FC;\n",
       "    }\n",
       "\n",
       "    [theme=dark] .colab-df-convert:hover {\n",
       "      background-color: #434B5C;\n",
       "      box-shadow: 0px 1px 3px 1px rgba(0, 0, 0, 0.15);\n",
       "      filter: drop-shadow(0px 1px 2px rgba(0, 0, 0, 0.3));\n",
       "      fill: #FFFFFF;\n",
       "    }\n",
       "  </style>\n",
       "\n",
       "      <script>\n",
       "        const buttonEl =\n",
       "          document.querySelector('#df-99975d9c-9dbe-483d-a742-6c5910fef1d9 button.colab-df-convert');\n",
       "        buttonEl.style.display =\n",
       "          google.colab.kernel.accessAllowed ? 'block' : 'none';\n",
       "\n",
       "        async function convertToInteractive(key) {\n",
       "          const element = document.querySelector('#df-99975d9c-9dbe-483d-a742-6c5910fef1d9');\n",
       "          const dataTable =\n",
       "            await google.colab.kernel.invokeFunction('convertToInteractive',\n",
       "                                                     [key], {});\n",
       "          if (!dataTable) return;\n",
       "\n",
       "          const docLinkHtml = 'Like what you see? Visit the ' +\n",
       "            '<a target=\"_blank\" href=https://colab.research.google.com/notebooks/data_table.ipynb>data table notebook</a>'\n",
       "            + ' to learn more about interactive tables.';\n",
       "          element.innerHTML = '';\n",
       "          dataTable['output_type'] = 'display_data';\n",
       "          await google.colab.output.renderOutput(dataTable, element);\n",
       "          const docLink = document.createElement('div');\n",
       "          docLink.innerHTML = docLinkHtml;\n",
       "          element.appendChild(docLink);\n",
       "        }\n",
       "      </script>\n",
       "    </div>\n",
       "  </div>\n",
       "  "
      ],
      "text/plain": [
       "   rating                                               text  y\n",
       "0       4  여행에 집중할수 있게 편안한 휴식을 제공하는 호텔이었습니다. 위치선정 또한 적당한 ...  1\n",
       "1       4  2일 이상 연박시 침대, 이불, 베게등 침구류 교체 및 어메니티 보강이 필요해 보입...  1\n",
       "2       4  지인에소개로온 호텔  깨끗하고 좋은거같아요 처음에는 없는게 많아 많이  당황했는데 ...  1\n",
       "3       5  방에 딱 들어서자마자 눈이 휘둥그레질정도로 이렇게 넓은 호텔 처음 와본 것 같아요!...  1\n",
       "4       5  저녁에 맥주한잔 하는게 좋아서 렌트 안하고 뚜벅이 하기로 했는데 호텔 바로 앞에 버...  1"
      ]
     },
     "execution_count": 45,
     "metadata": {},
     "output_type": "execute_result"
    }
   ],
   "source": [
    "df.head()"
   ]
  },
  {
   "cell_type": "code",
   "execution_count": null,
   "metadata": {
    "colab": {
     "base_uri": "https://localhost:8080/"
    },
    "executionInfo": {
     "elapsed": 27,
     "status": "ok",
     "timestamp": 1676444075745,
     "user": {
      "displayName": "버물리",
      "userId": "16343119817703036426"
     },
     "user_tz": -540
    },
    "id": "Pjb-Tb0CVeKI",
    "outputId": "1634a02a-f132-451b-ac47-cf502d69a5ef"
   },
   "outputs": [
    {
     "data": {
      "text/plain": [
       "1    726\n",
       "0    275\n",
       "Name: y, dtype: int64"
      ]
     },
     "execution_count": 46,
     "metadata": {},
     "output_type": "execute_result"
    }
   ],
   "source": [
    "df.y.value_counts()"
   ]
  },
  {
   "cell_type": "markdown",
   "metadata": {
    "id": "ocEMVqzM-MdE"
   },
   "source": [
    "-----"
   ]
  },
  {
   "cell_type": "markdown",
   "metadata": {
    "id": "Pe7BOBrW-OAw"
   },
   "source": [
    "### 4-2) 데이터셋 분리"
   ]
  },
  {
   "cell_type": "code",
   "execution_count": 41,
   "metadata": {
    "executionInfo": {
     "elapsed": 9,
     "status": "ok",
     "timestamp": 1676603811323,
     "user": {
      "displayName": "버물리",
      "userId": "16343119817703036426"
     },
     "user_tz": -540
    },
    "id": "-Wxv-F3P-NEU"
   },
   "outputs": [],
   "source": [
    "from sklearn.model_selection import train_test_split\n",
    "\n",
    "y = df['y']\n",
    "x_train, x_test, y_train, y_test = train_test_split(tf_idf_vect, y, test_size = 0.2)"
   ]
  },
  {
   "cell_type": "code",
   "execution_count": null,
   "metadata": {
    "colab": {
     "base_uri": "https://localhost:8080/"
    },
    "executionInfo": {
     "elapsed": 3,
     "status": "ok",
     "timestamp": 1676465975027,
     "user": {
      "displayName": "버물리",
      "userId": "16343119817703036426"
     },
     "user_tz": -540
    },
    "id": "rsDAFsCY-Unv",
    "outputId": "7386adcc-25d1-4328-e82f-da32533a8f40"
   },
   "outputs": [
    {
     "name": "stdout",
     "output_type": "stream",
     "text": [
      "(700, 3599)\n",
      "(301, 3599)\n"
     ]
    }
   ],
   "source": [
    "print(x_train.shape)\n",
    "print(x_test.shape)"
   ]
  },
  {
   "cell_type": "code",
   "execution_count": 52,
   "metadata": {
    "colab": {
     "base_uri": "https://localhost:8080/"
    },
    "executionInfo": {
     "elapsed": 684,
     "status": "ok",
     "timestamp": 1676603966731,
     "user": {
      "displayName": "버물리",
      "userId": "16343119817703036426"
     },
     "user_tz": -540
    },
    "id": "3okiioDbX4li",
    "outputId": "77c9b440-6f92-4aae-d7d2-e054970df776"
   },
   "outputs": [
    {
     "data": {
      "text/plain": [
       "[0.0,\n",
       " 0.0,\n",
       " 0.07541634317820864,\n",
       " 0.0,\n",
       " 0.0,\n",
       " 0.0,\n",
       " 0.0,\n",
       " 0.0,\n",
       " 0.0,\n",
       " 0.0,\n",
       " 0.0,\n",
       " 0.0,\n",
       " 0.0,\n",
       " 0.0,\n",
       " 0.0,\n",
       " 0.0,\n",
       " 0.0,\n",
       " 0.0,\n",
       " 0.0,\n",
       " 0.0,\n",
       " 0.0,\n",
       " 0.0,\n",
       " 0.0,\n",
       " 0.0,\n",
       " 0.0,\n",
       " 0.0,\n",
       " 0.0,\n",
       " 0.0,\n",
       " 0.0,\n",
       " 0.0,\n",
       " 0.0,\n",
       " 0.0,\n",
       " 0.0,\n",
       " 0.0,\n",
       " 0.0,\n",
       " 0.0,\n",
       " 0.0,\n",
       " 0.0,\n",
       " 0.0,\n",
       " 0.0,\n",
       " 0.0,\n",
       " 0.0,\n",
       " 0.0,\n",
       " 0.0,\n",
       " 0.0,\n",
       " 0.0,\n",
       " 0.0,\n",
       " 0.0,\n",
       " 0.0,\n",
       " 0.0,\n",
       " 0.0,\n",
       " 0.0,\n",
       " 0.0,\n",
       " 0.0,\n",
       " 0.0,\n",
       " 0.0,\n",
       " 0.0,\n",
       " 0.0,\n",
       " 0.0,\n",
       " 0.0,\n",
       " 0.0,\n",
       " 0.0,\n",
       " 0.0,\n",
       " 0.0,\n",
       " 0.0,\n",
       " 0.0,\n",
       " 0.0,\n",
       " 0.0,\n",
       " 0.0,\n",
       " 0.0,\n",
       " 0.0,\n",
       " 0.0,\n",
       " 0.0,\n",
       " 0.0,\n",
       " 0.0,\n",
       " 0.0,\n",
       " 0.0,\n",
       " 0.0,\n",
       " 0.0,\n",
       " 0.0,\n",
       " 0.0,\n",
       " 0.0,\n",
       " 0.0,\n",
       " 0.0,\n",
       " 0.0,\n",
       " 0.0,\n",
       " 0.0,\n",
       " 0.0,\n",
       " 0.0,\n",
       " 0.0,\n",
       " 0.0,\n",
       " 0.0,\n",
       " 0.0,\n",
       " 0.0,\n",
       " 0.0,\n",
       " 0.0,\n",
       " 0.0,\n",
       " 0.1847227812262092,\n",
       " 0.0,\n",
       " 0.0,\n",
       " 0.0,\n",
       " 0.0,\n",
       " 0.0,\n",
       " 0.0,\n",
       " 0.0,\n",
       " 0.0,\n",
       " 0.07965540823035008,\n",
       " 0.0,\n",
       " 0.0,\n",
       " 0.0,\n",
       " 0.0,\n",
       " 0.0,\n",
       " 0.0,\n",
       " 0.0,\n",
       " 0.0,\n",
       " 0.0,\n",
       " 0.0,\n",
       " 0.0,\n",
       " 0.0,\n",
       " 0.0,\n",
       " 0.0,\n",
       " 0.0,\n",
       " 0.0,\n",
       " 0.0,\n",
       " 0.0,\n",
       " 0.0,\n",
       " 0.0,\n",
       " 0.0,\n",
       " 0.0,\n",
       " 0.0,\n",
       " 0.0,\n",
       " 0.0,\n",
       " 0.0,\n",
       " 0.0,\n",
       " 0.0,\n",
       " 0.0,\n",
       " 0.0,\n",
       " 0.0,\n",
       " 0.0,\n",
       " 0.0,\n",
       " 0.0,\n",
       " 0.0,\n",
       " 0.0,\n",
       " 0.0,\n",
       " 0.0,\n",
       " 0.0,\n",
       " 0.0,\n",
       " 0.0,\n",
       " 0.0,\n",
       " 0.0,\n",
       " 0.0,\n",
       " 0.0,\n",
       " 0.0,\n",
       " 0.0,\n",
       " 0.0,\n",
       " 0.0,\n",
       " 0.0,\n",
       " 0.0,\n",
       " 0.0,\n",
       " 0.0,\n",
       " 0.0,\n",
       " 0.0,\n",
       " 0.0,\n",
       " 0.0,\n",
       " 0.0,\n",
       " 0.0,\n",
       " 0.0,\n",
       " 0.0,\n",
       " 0.0,\n",
       " 0.0,\n",
       " 0.0,\n",
       " 0.0,\n",
       " 0.0,\n",
       " 0.0,\n",
       " 0.0,\n",
       " 0.0,\n",
       " 0.0,\n",
       " 0.0,\n",
       " 0.0,\n",
       " 0.0,\n",
       " 0.0,\n",
       " 0.0,\n",
       " 0.0,\n",
       " 0.0,\n",
       " 0.0,\n",
       " 0.12525826825757866,\n",
       " 0.0,\n",
       " 0.0,\n",
       " 0.0,\n",
       " 0.0,\n",
       " 0.0,\n",
       " 0.0,\n",
       " 0.0,\n",
       " 0.0,\n",
       " 0.0,\n",
       " 0.0,\n",
       " 0.0,\n",
       " 0.0,\n",
       " 0.0,\n",
       " 0.0,\n",
       " 0.0,\n",
       " 0.0,\n",
       " 0.0,\n",
       " 0.0,\n",
       " 0.0,\n",
       " 0.0,\n",
       " 0.0,\n",
       " 0.0,\n",
       " 0.0,\n",
       " 0.0,\n",
       " 0.0,\n",
       " 0.0,\n",
       " 0.0,\n",
       " 0.0,\n",
       " 0.0,\n",
       " 0.0,\n",
       " 0.0,\n",
       " 0.0,\n",
       " 0.0,\n",
       " 0.0,\n",
       " 0.0,\n",
       " 0.0,\n",
       " 0.0,\n",
       " 0.0,\n",
       " 0.0,\n",
       " 0.0,\n",
       " 0.0,\n",
       " 0.0,\n",
       " 0.0,\n",
       " 0.0,\n",
       " 0.0,\n",
       " 0.0,\n",
       " 0.0,\n",
       " 0.0,\n",
       " 0.0,\n",
       " 0.0,\n",
       " 0.0,\n",
       " 0.0,\n",
       " 0.0,\n",
       " 0.0,\n",
       " 0.0,\n",
       " 0.0,\n",
       " 0.0,\n",
       " 0.0,\n",
       " 0.0,\n",
       " 0.0,\n",
       " 0.0,\n",
       " 0.0,\n",
       " 0.0,\n",
       " 0.0,\n",
       " 0.0,\n",
       " 0.0,\n",
       " 0.0,\n",
       " 0.0,\n",
       " 0.0,\n",
       " 0.0,\n",
       " 0.0,\n",
       " 0.0,\n",
       " 0.0,\n",
       " 0.0,\n",
       " 0.0,\n",
       " 0.0,\n",
       " 0.0,\n",
       " 0.0,\n",
       " 0.0,\n",
       " 0.0,\n",
       " 0.0,\n",
       " 0.0,\n",
       " 0.0,\n",
       " 0.0,\n",
       " 0.0,\n",
       " 0.0,\n",
       " 0.0,\n",
       " 0.0,\n",
       " 0.0,\n",
       " 0.0,\n",
       " 0.0,\n",
       " 0.0,\n",
       " 0.0,\n",
       " 0.0,\n",
       " 0.0,\n",
       " 0.0,\n",
       " 0.0,\n",
       " 0.0,\n",
       " 0.0,\n",
       " 0.0,\n",
       " 0.0,\n",
       " 0.0,\n",
       " 0.0,\n",
       " 0.0,\n",
       " 0.0,\n",
       " 0.0,\n",
       " 0.0,\n",
       " 0.0,\n",
       " 0.0,\n",
       " 0.0,\n",
       " 0.0,\n",
       " 0.0,\n",
       " 0.0,\n",
       " 0.0,\n",
       " 0.0,\n",
       " 0.0,\n",
       " 0.0,\n",
       " 0.0,\n",
       " 0.0,\n",
       " 0.0,\n",
       " 0.0,\n",
       " 0.19969998862201743,\n",
       " 0.0,\n",
       " 0.0,\n",
       " 0.0,\n",
       " 0.0,\n",
       " 0.0,\n",
       " 0.0,\n",
       " 0.0,\n",
       " 0.0,\n",
       " 0.0,\n",
       " 0.0,\n",
       " 0.0,\n",
       " 0.0,\n",
       " 0.0,\n",
       " 0.0,\n",
       " 0.0,\n",
       " 0.0,\n",
       " 0.0,\n",
       " 0.0,\n",
       " 0.0,\n",
       " 0.0,\n",
       " 0.0,\n",
       " 0.0,\n",
       " 0.0,\n",
       " 0.0,\n",
       " 0.0,\n",
       " 0.0,\n",
       " 0.0,\n",
       " 0.0,\n",
       " 0.0,\n",
       " 0.0,\n",
       " 0.0,\n",
       " 0.0,\n",
       " 0.0,\n",
       " 0.0,\n",
       " 0.0,\n",
       " 0.0,\n",
       " 0.0,\n",
       " 0.0,\n",
       " 0.0,\n",
       " 0.0,\n",
       " 0.0,\n",
       " 0.0,\n",
       " 0.0,\n",
       " 0.0,\n",
       " 0.0,\n",
       " 0.0,\n",
       " 0.0,\n",
       " 0.0,\n",
       " 0.0,\n",
       " 0.0,\n",
       " 0.0,\n",
       " 0.0,\n",
       " 0.0,\n",
       " 0.0,\n",
       " 0.0,\n",
       " 0.0,\n",
       " 0.0,\n",
       " 0.0,\n",
       " 0.0,\n",
       " 0.0,\n",
       " 0.0,\n",
       " 0.0,\n",
       " 0.0,\n",
       " 0.0,\n",
       " 0.0,\n",
       " 0.0,\n",
       " 0.0,\n",
       " 0.0,\n",
       " 0.0,\n",
       " 0.0,\n",
       " 0.0,\n",
       " 0.0,\n",
       " 0.0,\n",
       " 0.0,\n",
       " 0.0,\n",
       " 0.0,\n",
       " 0.0,\n",
       " 0.0,\n",
       " 0.0,\n",
       " 0.0,\n",
       " 0.0,\n",
       " 0.0,\n",
       " 0.0,\n",
       " 0.0,\n",
       " 0.0,\n",
       " 0.0,\n",
       " 0.0,\n",
       " 0.0,\n",
       " 0.0,\n",
       " 0.0,\n",
       " 0.0,\n",
       " 0.0,\n",
       " 0.0,\n",
       " 0.0,\n",
       " 0.0,\n",
       " 0.0,\n",
       " 0.0,\n",
       " 0.0,\n",
       " 0.0,\n",
       " 0.0,\n",
       " 0.0,\n",
       " 0.0,\n",
       " 0.0,\n",
       " 0.0,\n",
       " 0.0,\n",
       " 0.0,\n",
       " 0.0,\n",
       " 0.0,\n",
       " 0.0,\n",
       " 0.0,\n",
       " 0.0,\n",
       " 0.0,\n",
       " 0.0,\n",
       " 0.0,\n",
       " 0.0,\n",
       " 0.0,\n",
       " 0.0,\n",
       " 0.0,\n",
       " 0.0,\n",
       " 0.0,\n",
       " 0.0,\n",
       " 0.0,\n",
       " 0.0,\n",
       " 0.0,\n",
       " 0.0,\n",
       " 0.0,\n",
       " 0.0,\n",
       " 0.0,\n",
       " 0.0,\n",
       " 0.0,\n",
       " 0.0,\n",
       " 0.0,\n",
       " 0.0,\n",
       " 0.0,\n",
       " 0.0,\n",
       " 0.0,\n",
       " 0.0,\n",
       " 0.0,\n",
       " 0.0,\n",
       " 0.0,\n",
       " 0.0,\n",
       " 0.0,\n",
       " 0.0,\n",
       " 0.0,\n",
       " 0.0,\n",
       " 0.0,\n",
       " 0.0,\n",
       " 0.0,\n",
       " 0.0,\n",
       " 0.0,\n",
       " 0.0,\n",
       " 0.0,\n",
       " 0.0,\n",
       " 0.0,\n",
       " 0.0,\n",
       " 0.0,\n",
       " 0.0,\n",
       " 0.0,\n",
       " 0.0,\n",
       " 0.0,\n",
       " 0.0,\n",
       " 0.0,\n",
       " 0.0,\n",
       " 0.0,\n",
       " 0.0,\n",
       " 0.0,\n",
       " 0.0,\n",
       " 0.0,\n",
       " 0.0,\n",
       " 0.0,\n",
       " 0.0,\n",
       " 0.0,\n",
       " 0.0,\n",
       " 0.0,\n",
       " 0.0,\n",
       " 0.0,\n",
       " 0.0,\n",
       " 0.0,\n",
       " 0.0,\n",
       " 0.0,\n",
       " 0.0,\n",
       " 0.0,\n",
       " 0.0,\n",
       " 0.0,\n",
       " 0.0,\n",
       " 0.0,\n",
       " 0.0,\n",
       " 0.0,\n",
       " 0.0,\n",
       " 0.0,\n",
       " 0.0,\n",
       " 0.0,\n",
       " 0.0,\n",
       " 0.0,\n",
       " 0.0,\n",
       " 0.0,\n",
       " 0.0,\n",
       " 0.0,\n",
       " 0.0,\n",
       " 0.0,\n",
       " 0.0,\n",
       " 0.0,\n",
       " 0.0,\n",
       " 0.0,\n",
       " 0.0,\n",
       " 0.0,\n",
       " 0.0,\n",
       " 0.0,\n",
       " 0.0,\n",
       " 0.0,\n",
       " 0.0,\n",
       " 0.0,\n",
       " 0.0,\n",
       " 0.0,\n",
       " 0.0,\n",
       " 0.0,\n",
       " 0.0,\n",
       " 0.0,\n",
       " 0.0,\n",
       " 0.0,\n",
       " 0.0,\n",
       " 0.0,\n",
       " 0.0,\n",
       " 0.0,\n",
       " 0.0,\n",
       " 0.0,\n",
       " 0.0,\n",
       " 0.0,\n",
       " 0.0,\n",
       " 0.0,\n",
       " 0.0,\n",
       " 0.0,\n",
       " 0.0,\n",
       " 0.0,\n",
       " 0.0,\n",
       " 0.0,\n",
       " 0.0,\n",
       " 0.0,\n",
       " 0.0,\n",
       " 0.0,\n",
       " 0.0,\n",
       " 0.0,\n",
       " 0.17937718452591406,\n",
       " 0.0,\n",
       " 0.0,\n",
       " 0.0,\n",
       " 0.0,\n",
       " 0.0,\n",
       " 0.0,\n",
       " 0.0,\n",
       " 0.0,\n",
       " 0.0,\n",
       " 0.0,\n",
       " 0.0,\n",
       " 0.0,\n",
       " 0.0,\n",
       " 0.0,\n",
       " 0.0,\n",
       " 0.0,\n",
       " 0.10652069393188111,\n",
       " 0.0,\n",
       " 0.0,\n",
       " 0.0,\n",
       " 0.0,\n",
       " 0.0,\n",
       " 0.0,\n",
       " 0.0,\n",
       " 0.0,\n",
       " 0.0,\n",
       " 0.0,\n",
       " 0.0,\n",
       " 0.0,\n",
       " 0.0,\n",
       " 0.0,\n",
       " 0.0,\n",
       " 0.0,\n",
       " 0.0,\n",
       " 0.0,\n",
       " 0.0,\n",
       " 0.0,\n",
       " 0.12303039119930431,\n",
       " 0.0,\n",
       " 0.0,\n",
       " 0.0,\n",
       " 0.0,\n",
       " 0.0,\n",
       " 0.0,\n",
       " 0.0,\n",
       " 0.0,\n",
       " 0.0,\n",
       " 0.0,\n",
       " 0.0,\n",
       " 0.0,\n",
       " 0.0,\n",
       " 0.0,\n",
       " 0.0,\n",
       " 0.0,\n",
       " 0.0,\n",
       " 0.0,\n",
       " 0.0,\n",
       " 0.0,\n",
       " 0.0,\n",
       " 0.0,\n",
       " 0.0,\n",
       " 0.0,\n",
       " 0.0,\n",
       " 0.0,\n",
       " 0.0,\n",
       " 0.0,\n",
       " 0.0,\n",
       " 0.0,\n",
       " 0.0,\n",
       " 0.0,\n",
       " 0.0,\n",
       " 0.0,\n",
       " 0.0,\n",
       " 0.0,\n",
       " 0.0,\n",
       " 0.0,\n",
       " 0.0,\n",
       " 0.0,\n",
       " 0.0,\n",
       " 0.0,\n",
       " 0.0,\n",
       " 0.0,\n",
       " 0.0,\n",
       " 0.0,\n",
       " 0.0,\n",
       " 0.0,\n",
       " 0.0,\n",
       " 0.0,\n",
       " 0.0,\n",
       " 0.0,\n",
       " 0.0,\n",
       " 0.0,\n",
       " 0.0,\n",
       " 0.0,\n",
       " 0.0,\n",
       " 0.0,\n",
       " 0.0,\n",
       " 0.0,\n",
       " 0.0,\n",
       " 0.0,\n",
       " 0.0,\n",
       " 0.0,\n",
       " 0.0,\n",
       " 0.0,\n",
       " 0.0,\n",
       " 0.0,\n",
       " 0.0,\n",
       " 0.0,\n",
       " 0.0,\n",
       " 0.0,\n",
       " 0.0,\n",
       " 0.17937718452591406,\n",
       " 0.0,\n",
       " 0.0,\n",
       " 0.0,\n",
       " 0.0,\n",
       " 0.0,\n",
       " 0.0,\n",
       " 0.0,\n",
       " 0.0,\n",
       " 0.0,\n",
       " 0.0,\n",
       " 0.0,\n",
       " 0.0,\n",
       " 0.0,\n",
       " 0.0,\n",
       " 0.0,\n",
       " 0.0,\n",
       " 0.0,\n",
       " 0.0,\n",
       " 0.0,\n",
       " 0.0,\n",
       " 0.0,\n",
       " 0.0,\n",
       " 0.0,\n",
       " 0.0,\n",
       " 0.0,\n",
       " 0.0,\n",
       " 0.0,\n",
       " 0.0,\n",
       " 0.0,\n",
       " 0.0,\n",
       " 0.0,\n",
       " 0.0,\n",
       " 0.0,\n",
       " 0.0,\n",
       " 0.0,\n",
       " 0.0,\n",
       " 0.0,\n",
       " 0.0,\n",
       " 0.0,\n",
       " 0.0,\n",
       " 0.0,\n",
       " 0.0,\n",
       " 0.0,\n",
       " 0.0,\n",
       " 0.0,\n",
       " 0.0,\n",
       " 0.0,\n",
       " 0.0,\n",
       " 0.0,\n",
       " 0.0,\n",
       " 0.0,\n",
       " 0.0,\n",
       " 0.0,\n",
       " 0.0,\n",
       " 0.0,\n",
       " 0.0,\n",
       " 0.0,\n",
       " 0.0,\n",
       " 0.0,\n",
       " 0.0,\n",
       " 0.0,\n",
       " 0.0,\n",
       " 0.0,\n",
       " 0.2393132069564147,\n",
       " 0.0,\n",
       " 0.0,\n",
       " 0.0,\n",
       " 0.0,\n",
       " 0.0,\n",
       " 0.0,\n",
       " 0.0,\n",
       " 0.0,\n",
       " 0.0,\n",
       " 0.0,\n",
       " 0.0,\n",
       " 0.0,\n",
       " 0.0,\n",
       " 0.0,\n",
       " 0.0,\n",
       " 0.0,\n",
       " 0.0,\n",
       " 0.0,\n",
       " 0.0,\n",
       " 0.0,\n",
       " 0.0,\n",
       " 0.0,\n",
       " 0.0,\n",
       " 0.0,\n",
       " 0.0,\n",
       " 0.0,\n",
       " 0.0,\n",
       " 0.0,\n",
       " 0.0,\n",
       " 0.0,\n",
       " 0.0,\n",
       " 0.0,\n",
       " 0.0,\n",
       " 0.0,\n",
       " 0.0,\n",
       " 0.0,\n",
       " 0.0,\n",
       " 0.0,\n",
       " 0.0,\n",
       " 0.0,\n",
       " 0.0,\n",
       " 0.0,\n",
       " 0.0,\n",
       " 0.0,\n",
       " 0.0,\n",
       " 0.0,\n",
       " 0.0,\n",
       " 0.0,\n",
       " 0.0,\n",
       " 0.0,\n",
       " 0.0,\n",
       " 0.0,\n",
       " 0.0,\n",
       " 0.0,\n",
       " 0.0,\n",
       " 0.0,\n",
       " 0.0,\n",
       " 0.0,\n",
       " 0.0,\n",
       " 0.0,\n",
       " 0.09839298255604764,\n",
       " 0.0,\n",
       " 0.0,\n",
       " 0.0,\n",
       " 0.0,\n",
       " 0.0,\n",
       " 0.0,\n",
       " 0.0,\n",
       " 0.0,\n",
       " 0.0,\n",
       " 0.0,\n",
       " 0.0,\n",
       " 0.0,\n",
       " 0.0,\n",
       " 0.0,\n",
       " 0.0,\n",
       " 0.0,\n",
       " 0.0,\n",
       " 0.0,\n",
       " 0.0,\n",
       " 0.0,\n",
       " 0.0,\n",
       " 0.0,\n",
       " 0.0,\n",
       " 0.0,\n",
       " 0.0,\n",
       " 0.0,\n",
       " 0.0,\n",
       " 0.0,\n",
       " 0.0,\n",
       " 0.1847227812262092,\n",
       " 0.0,\n",
       " 0.0,\n",
       " 0.0,\n",
       " 0.0,\n",
       " 0.0,\n",
       " 0.0,\n",
       " 0.0,\n",
       " 0.0,\n",
       " 0.0,\n",
       " 0.0,\n",
       " 0.0,\n",
       " 0.0,\n",
       " 0.0,\n",
       " 0.0,\n",
       " 0.0,\n",
       " 0.0,\n",
       " 0.0,\n",
       " 0.0,\n",
       " 0.0,\n",
       " 0.0,\n",
       " 0.14716630212408788,\n",
       " 0.0,\n",
       " 0.0,\n",
       " 0.0,\n",
       " 0.0,\n",
       " 0.0,\n",
       " 0.0,\n",
       " 0.0,\n",
       " 0.0,\n",
       " 0.0,\n",
       " 0.0,\n",
       " 0.0,\n",
       " 0.0,\n",
       " 0.0,\n",
       " 0.0,\n",
       " 0.0,\n",
       " 0.0,\n",
       " 0.0,\n",
       " 0.0,\n",
       " 0.0,\n",
       " 0.0,\n",
       " 0.0,\n",
       " 0.0,\n",
       " 0.0,\n",
       " 0.0,\n",
       " 0.0,\n",
       " 0.0,\n",
       " 0.0,\n",
       " 0.0,\n",
       " 0.0,\n",
       " 0.0,\n",
       " 0.0,\n",
       " 0.0,\n",
       " 0.0,\n",
       " 0.0,\n",
       " 0.0,\n",
       " 0.0,\n",
       " 0.0,\n",
       " 0.0,\n",
       " 0.0,\n",
       " 0.0,\n",
       " 0.0,\n",
       " 0.0,\n",
       " 0.0,\n",
       " 0.0,\n",
       " 0.0,\n",
       " 0.0,\n",
       " 0.0,\n",
       " 0.0,\n",
       " 0.0,\n",
       " 0.0,\n",
       " 0.0,\n",
       " 0.0,\n",
       " 0.0,\n",
       " 0.0,\n",
       " 0.0,\n",
       " 0.0,\n",
       " 0.0,\n",
       " 0.0,\n",
       " 0.0,\n",
       " 0.0,\n",
       " 0.0,\n",
       " 0.0,\n",
       " 0.0,\n",
       " 0.0,\n",
       " 0.0,\n",
       " 0.0,\n",
       " 0.0,\n",
       " 0.0,\n",
       " 0.0,\n",
       " 0.0,\n",
       " 0.0,\n",
       " 0.0,\n",
       " 0.0,\n",
       " 0.0,\n",
       " 0.0,\n",
       " 0.0,\n",
       " 0.0,\n",
       " 0.0,\n",
       " 0.0,\n",
       " 0.0,\n",
       " 0.0,\n",
       " 0.0,\n",
       " 0.0,\n",
       " 0.0,\n",
       " 0.0,\n",
       " 0.0,\n",
       " 0.0,\n",
       " 0.0,\n",
       " 0.0,\n",
       " 0.0,\n",
       " 0.0,\n",
       " 0.0,\n",
       " 0.0,\n",
       " 0.0,\n",
       " 0.0,\n",
       " 0.0,\n",
       " 0.0,\n",
       " 0.0,\n",
       " 0.0,\n",
       " 0.0,\n",
       " 0.0,\n",
       " 0.0,\n",
       " 0.0,\n",
       " 0.0,\n",
       " 0.0,\n",
       " 0.0,\n",
       " 0.0,\n",
       " 0.0,\n",
       " 0.0,\n",
       " 0.0,\n",
       " 0.0,\n",
       " 0.0,\n",
       " 0.0,\n",
       " 0.0,\n",
       " 0.0,\n",
       " 0.0,\n",
       " 0.0,\n",
       " 0.0,\n",
       " 0.0,\n",
       " 0.0,\n",
       " 0.0,\n",
       " 0.0,\n",
       " 0.0,\n",
       " 0.0,\n",
       " 0.0,\n",
       " 0.0,\n",
       " 0.0,\n",
       " 0.0,\n",
       " 0.0,\n",
       " 0.0,\n",
       " 0.0,\n",
       " 0.0,\n",
       " 0.0,\n",
       " 0.0,\n",
       " 0.0,\n",
       " 0.0,\n",
       " 0.0,\n",
       " 0.0,\n",
       " 0.0,\n",
       " 0.0,\n",
       " 0.0,\n",
       " 0.0,\n",
       " 0.0,\n",
       " 0.0,\n",
       " 0.0,\n",
       " 0.0,\n",
       " 0.0,\n",
       " 0.0,\n",
       " 0.0,\n",
       " 0.0,\n",
       " 0.0,\n",
       " 0.0,\n",
       " 0.0,\n",
       " 0.0,\n",
       " 0.0,\n",
       " 0.0,\n",
       " 0.0,\n",
       " 0.0,\n",
       " 0.0,\n",
       " 0.0,\n",
       " 0.0,\n",
       " ...]"
      ]
     },
     "execution_count": 52,
     "metadata": {},
     "output_type": "execute_result"
    }
   ],
   "source": [
    "x_train.toarray()[0].tolist()"
   ]
  },
  {
   "cell_type": "code",
   "execution_count": 54,
   "metadata": {
    "colab": {
     "base_uri": "https://localhost:8080/"
    },
    "executionInfo": {
     "elapsed": 304,
     "status": "ok",
     "timestamp": 1676603997793,
     "user": {
      "displayName": "버물리",
      "userId": "16343119817703036426"
     },
     "user_tz": -540
    },
    "id": "N6qDVLEhX52Q",
    "outputId": "790b9324-3f9f-4186-e3a4-9736550c6914"
   },
   "outputs": [
    {
     "data": {
      "text/plain": [
       "710    0\n",
       "745    0\n",
       "582    0\n",
       "133    1\n",
       "194    1\n",
       "      ..\n",
       "278    1\n",
       "333    1\n",
       "807    1\n",
       "598    1\n",
       "664    1\n",
       "Name: y, Length: 800, dtype: int64"
      ]
     },
     "execution_count": 54,
     "metadata": {},
     "output_type": "execute_result"
    }
   ],
   "source": [
    "y_train"
   ]
  },
  {
   "cell_type": "markdown",
   "metadata": {
    "id": "pMkSIg7JD7rj"
   },
   "source": [
    "-----"
   ]
  },
  {
   "cell_type": "markdown",
   "metadata": {
    "id": "lHGviAneD7vN"
   },
   "source": [
    "### 4-3) 모델 학습"
   ]
  },
  {
   "cell_type": "markdown",
   "metadata": {
    "id": "kbez8JYXD7x-"
   },
   "source": [
    "##### Logistic Regression 학습"
   ]
  },
  {
   "cell_type": "code",
   "execution_count": null,
   "metadata": {
    "id": "rx7Ojv4TEBq3"
   },
   "outputs": [],
   "source": [
    "from sklearn.linear_model import LogisticRegression\n",
    "from sklearn.metrics import accuracy_score, precision_score, recall_score, f1_score, confusion_matrix\n",
    "\n",
    "lr = LogisticRegression(random_state = 0)\n",
    "lr.fit(x_train, y_train)\n",
    "\n",
    "y_pred = lr.predict(x_test)"
   ]
  },
  {
   "cell_type": "markdown",
   "metadata": {
    "id": "eYOegz_7EKg8"
   },
   "source": [
    "##### 분류 결과 평가"
   ]
  },
  {
   "cell_type": "code",
   "execution_count": null,
   "metadata": {
    "colab": {
     "base_uri": "https://localhost:8080/"
    },
    "executionInfo": {
     "elapsed": 10,
     "status": "ok",
     "timestamp": 1676465976037,
     "user": {
      "displayName": "버물리",
      "userId": "16343119817703036426"
     },
     "user_tz": -540
    },
    "id": "oXrSaGhkUmON",
    "outputId": "b9032a55-5095-45af-e1fe-faa914e160a4"
   },
   "outputs": [
    {
     "data": {
      "text/plain": [
       "array([[  5,  73],\n",
       "       [  0, 223]])"
      ]
     },
     "execution_count": 48,
     "metadata": {},
     "output_type": "execute_result"
    }
   ],
   "source": [
    "confusion_matrix(y_test, y_pred)"
   ]
  },
  {
   "cell_type": "code",
   "execution_count": null,
   "metadata": {
    "colab": {
     "base_uri": "https://localhost:8080/"
    },
    "executionInfo": {
     "elapsed": 9,
     "status": "ok",
     "timestamp": 1676465976038,
     "user": {
      "displayName": "버물리",
      "userId": "16343119817703036426"
     },
     "user_tz": -540
    },
    "id": "lyLhjDwFEB8h",
    "outputId": "1c015936-43fb-44ba-a087-39cb11b2abc6"
   },
   "outputs": [
    {
     "data": {
      "text/plain": [
       "0.7574750830564784"
      ]
     },
     "execution_count": 49,
     "metadata": {},
     "output_type": "execute_result"
    }
   ],
   "source": [
    "accuracy_score(y_test, y_pred)"
   ]
  },
  {
   "cell_type": "code",
   "execution_count": null,
   "metadata": {
    "colab": {
     "base_uri": "https://localhost:8080/"
    },
    "executionInfo": {
     "elapsed": 7,
     "status": "ok",
     "timestamp": 1676465976038,
     "user": {
      "displayName": "버물리",
      "userId": "16343119817703036426"
     },
     "user_tz": -540
    },
    "id": "6gd3tmYXEJ32",
    "outputId": "252031ba-2d9c-49a1-fd7d-32a800f760dc"
   },
   "outputs": [
    {
     "data": {
      "text/plain": [
       "0.7533783783783784"
      ]
     },
     "execution_count": 50,
     "metadata": {},
     "output_type": "execute_result"
    }
   ],
   "source": [
    "precision_score(y_test, y_pred)"
   ]
  },
  {
   "cell_type": "code",
   "execution_count": null,
   "metadata": {
    "colab": {
     "base_uri": "https://localhost:8080/"
    },
    "executionInfo": {
     "elapsed": 6,
     "status": "ok",
     "timestamp": 1676465976038,
     "user": {
      "displayName": "버물리",
      "userId": "16343119817703036426"
     },
     "user_tz": -540
    },
    "id": "VRyCY1HkWSwC",
    "outputId": "57f43446-3a97-4bed-af1c-b3fc41cd6a19"
   },
   "outputs": [
    {
     "data": {
      "text/plain": [
       "1.0"
      ]
     },
     "execution_count": 51,
     "metadata": {},
     "output_type": "execute_result"
    }
   ],
   "source": [
    "recall_score(y_test, y_pred)"
   ]
  },
  {
   "cell_type": "code",
   "execution_count": null,
   "metadata": {
    "colab": {
     "base_uri": "https://localhost:8080/"
    },
    "executionInfo": {
     "elapsed": 4,
     "status": "ok",
     "timestamp": 1676465976038,
     "user": {
      "displayName": "버물리",
      "userId": "16343119817703036426"
     },
     "user_tz": -540
    },
    "id": "gkf4bDWPWSyh",
    "outputId": "aaf87dd7-b9e4-44af-8aa0-c4f85fd45463"
   },
   "outputs": [
    {
     "data": {
      "text/plain": [
       "0.8593448940269749"
      ]
     },
     "execution_count": 52,
     "metadata": {},
     "output_type": "execute_result"
    }
   ],
   "source": [
    "f1_score(y_test, y_pred)"
   ]
  },
  {
   "cell_type": "code",
   "execution_count": null,
   "metadata": {
    "colab": {
     "base_uri": "https://localhost:8080/"
    },
    "executionInfo": {
     "elapsed": 8,
     "status": "ok",
     "timestamp": 1676465976984,
     "user": {
      "displayName": "버물리",
      "userId": "16343119817703036426"
     },
     "user_tz": -540
    },
    "id": "HdG0b2QFWYoz",
    "outputId": "bbf93bed-2875-428b-ef5f-3f5edf09b8a5"
   },
   "outputs": [
    {
     "name": "stdout",
     "output_type": "stream",
     "text": [
      "[[  5  73]\n",
      " [  0 223]]\n"
     ]
    }
   ],
   "source": [
    "# y=1과 y=0의 샘플링의 크기가 다르기 때문에 편향된 예측을 함.\n",
    "# y=1의 크기는 700개, y=0의 크기는 301개임.\n",
    "# 여기서 y=1로만 찍어도 예측율이 0.7이 됨.\n",
    "# 따라서 샘플링의 크기를 같게 재조정을 할 필요가 있음.\n",
    "from sklearn.metrics import confusion_matrix\n",
    "\n",
    "confmat = confusion_matrix(y_test, y_pred)\n",
    "print(confmat)"
   ]
  },
  {
   "cell_type": "markdown",
   "metadata": {
    "id": "UHt-LenyEOnp"
   },
   "source": [
    "-----"
   ]
  },
  {
   "cell_type": "markdown",
   "metadata": {
    "id": "N70AyTZDEOuz"
   },
   "source": [
    "### 4-4) 샘플링 재조정"
   ]
  },
  {
   "cell_type": "markdown",
   "metadata": {
    "id": "3u1UonfVEWnR"
   },
   "source": [
    "##### 1:1 Sampling"
   ]
  },
  {
   "cell_type": "code",
   "execution_count": null,
   "metadata": {
    "id": "3BYUcp08ER7-"
   },
   "outputs": [],
   "source": [
    "positive_sample_idx = df[df['y']==1].sample(275, random_state=33).index.tolist()\n",
    "negative_sample_idx = df[df['y']==0].sample(275, random_state=33).index.tolist()\n",
    "random_idx = positive_sample_idx + negative_sample_idx"
   ]
  },
  {
   "cell_type": "code",
   "execution_count": null,
   "metadata": {
    "id": "HUTZegD7EVkc"
   },
   "outputs": [],
   "source": [
    "from sklearn.model_selection import train_test_split\n",
    "\n",
    "x_train, x_test, y_train, y_test = train_test_split(tf_idf_vect[random_idx], df['y'][random_idx], test_size = 0.3)"
   ]
  },
  {
   "cell_type": "code",
   "execution_count": null,
   "metadata": {
    "colab": {
     "base_uri": "https://localhost:8080/"
    },
    "executionInfo": {
     "elapsed": 7,
     "status": "ok",
     "timestamp": 1676465976984,
     "user": {
      "displayName": "버물리",
      "userId": "16343119817703036426"
     },
     "user_tz": -540
    },
    "id": "YHvy8WzGEaBy",
    "outputId": "9a6f1a29-49ef-4e90-928c-b31fe8a94a4f"
   },
   "outputs": [
    {
     "name": "stdout",
     "output_type": "stream",
     "text": [
      "(385, 3599)\n"
     ]
    }
   ],
   "source": [
    "print(x_train.shape)"
   ]
  },
  {
   "cell_type": "code",
   "execution_count": null,
   "metadata": {
    "colab": {
     "base_uri": "https://localhost:8080/"
    },
    "executionInfo": {
     "elapsed": 5,
     "status": "ok",
     "timestamp": 1676465976985,
     "user": {
      "displayName": "버물리",
      "userId": "16343119817703036426"
     },
     "user_tz": -540
    },
    "id": "gNifdmG2YB-5",
    "outputId": "03e6dc15-34f3-4226-a4a9-51b08f3ee0ae"
   },
   "outputs": [
    {
     "name": "stdout",
     "output_type": "stream",
     "text": [
      "(165, 3599)\n"
     ]
    }
   ],
   "source": [
    "print(x_test.shape)"
   ]
  },
  {
   "cell_type": "code",
   "execution_count": null,
   "metadata": {
    "colab": {
     "base_uri": "https://localhost:8080/"
    },
    "executionInfo": {
     "elapsed": 3,
     "status": "ok",
     "timestamp": 1676465977809,
     "user": {
      "displayName": "버물리",
      "userId": "16343119817703036426"
     },
     "user_tz": -540
    },
    "id": "lyeXSurwMC4O",
    "outputId": "50e83dd5-1179-4796-eac6-e0eb50ac02ad"
   },
   "outputs": [
    {
     "data": {
      "text/plain": [
       "0    193\n",
       "1    192\n",
       "Name: y, dtype: int64"
      ]
     },
     "execution_count": 58,
     "metadata": {},
     "output_type": "execute_result"
    }
   ],
   "source": [
    "y_train.value_counts()"
   ]
  },
  {
   "cell_type": "markdown",
   "metadata": {
    "id": "TDPgGZJeEfSd"
   },
   "source": [
    "##### 모델 재학습"
   ]
  },
  {
   "cell_type": "code",
   "execution_count": null,
   "metadata": {
    "id": "uFO_UsnCEbGB"
   },
   "outputs": [],
   "source": [
    "from sklearn.linear_model import LogisticRegression\n",
    "from sklearn.metrics import accuracy_score, precision_score, recall_score, f1_score, confusion_matrix\n",
    "\n",
    "lr = LogisticRegression(random_state = 0)\n",
    "lr.fit(x_train, y_train)\n",
    "\n",
    "y_pred = lr.predict(x_test)"
   ]
  },
  {
   "cell_type": "markdown",
   "metadata": {
    "id": "y3PqFXYAEjzQ"
   },
   "source": [
    "##### 분류 결과 평가"
   ]
  },
  {
   "cell_type": "code",
   "execution_count": null,
   "metadata": {
    "colab": {
     "base_uri": "https://localhost:8080/"
    },
    "executionInfo": {
     "elapsed": 6,
     "status": "ok",
     "timestamp": 1676465982123,
     "user": {
      "displayName": "버물리",
      "userId": "16343119817703036426"
     },
     "user_tz": -540
    },
    "id": "mbTnBiJ2YV7s",
    "outputId": "67be1961-f9eb-4127-ee60-692cba69f33d"
   },
   "outputs": [
    {
     "name": "stdout",
     "output_type": "stream",
     "text": [
      "0.7818181818181819\n",
      "0.7974683544303798\n",
      "0.7590361445783133\n",
      "0.7777777777777778\n"
     ]
    }
   ],
   "source": [
    "print(accuracy_score(y_test, y_pred))\n",
    "print(precision_score(y_test, y_pred))\n",
    "print(recall_score(y_test, y_pred))\n",
    "print(f1_score(y_test, y_pred))"
   ]
  },
  {
   "cell_type": "code",
   "execution_count": null,
   "metadata": {
    "colab": {
     "base_uri": "https://localhost:8080/"
    },
    "executionInfo": {
     "elapsed": 5,
     "status": "ok",
     "timestamp": 1676465982123,
     "user": {
      "displayName": "버물리",
      "userId": "16343119817703036426"
     },
     "user_tz": -540
    },
    "id": "QKiAhKirEeOQ",
    "outputId": "206a579b-e44c-4ee8-f32f-3a08dd467ad2"
   },
   "outputs": [
    {
     "name": "stdout",
     "output_type": "stream",
     "text": [
      "[[66 16]\n",
      " [20 63]]\n"
     ]
    }
   ],
   "source": [
    "confmat = confusion_matrix(y_test, y_pred)\n",
    "print(confmat)"
   ]
  },
  {
   "cell_type": "markdown",
   "metadata": {
    "id": "GeQGRMLaFFLk"
   },
   "source": [
    "-----"
   ]
  },
  {
   "cell_type": "markdown",
   "metadata": {
    "id": "3Ob_KEwxFGvr"
   },
   "source": [
    "## 5) 긍정/부정 키워드 분석"
   ]
  },
  {
   "cell_type": "markdown",
   "metadata": {
    "id": "HVYQEDe0FNG0"
   },
   "source": [
    "##### Logistic Regression 모델의 coef 분석"
   ]
  },
  {
   "cell_type": "code",
   "execution_count": null,
   "metadata": {
    "colab": {
     "base_uri": "https://localhost:8080/"
    },
    "executionInfo": {
     "elapsed": 414,
     "status": "ok",
     "timestamp": 1676466113151,
     "user": {
      "displayName": "버물리",
      "userId": "16343119817703036426"
     },
     "user_tz": -540
    },
    "id": "M42kgMU0KcXm",
    "outputId": "dd8028d4-5655-4abd-b6a1-d8b4edc3cc52"
   },
   "outputs": [
    {
     "data": {
      "text/plain": [
       "array([[0.29864987, 0.27249072, 0.43832964, ..., 0.        , 0.02101963,\n",
       "        0.38452289]])"
      ]
     },
     "execution_count": 68,
     "metadata": {},
     "output_type": "execute_result"
    }
   ],
   "source": [
    "# lr.coef_와 lr.coef_[0]의 차이는 lr.coef_는 괄호가 두 개, lr.coef_[0]은 괄호가 한 개\n",
    "# 이걸 데이터프레임화 시키면 lr.coef_은 row는 하나, column만 주구장창 나옴.\n",
    "# 반면에 lr.coef_[0]은 정상적으로 row가 3599개, column은 하나가 뜸.\n",
    "lr.coef_[0]"
   ]
  },
  {
   "cell_type": "code",
   "execution_count": null,
   "metadata": {
    "colab": {
     "base_uri": "https://localhost:8080/",
     "height": 483
    },
    "executionInfo": {
     "elapsed": 13627,
     "status": "ok",
     "timestamp": 1676466042748,
     "user": {
      "displayName": "버물리",
      "userId": "16343119817703036426"
     },
     "user_tz": -540
    },
    "id": "D5rVvWCQElIa",
    "outputId": "0513ea7d-d939-49eb-910e-4cbb449ca00b"
   },
   "outputs": [
    {
     "data": {
      "image/png": "[encoded data removed]",
      "text/plain": [
       "<Figure size 720x576 with 1 Axes>"
      ]
     },
     "metadata": {
      "needs_background": "light"
     },
     "output_type": "display_data"
    }
   ],
   "source": [
    "plt.rcParams['figure.figsize'] = [10, 8]\n",
    "plt.bar(range(len(lr.coef_[0])), lr.coef_[0])\n",
    "\n",
    "plt.show()"
   ]
  },
  {
   "cell_type": "code",
   "execution_count": null,
   "metadata": {
    "colab": {
     "base_uri": "https://localhost:8080/",
     "height": 206
    },
    "executionInfo": {
     "elapsed": 800,
     "status": "ok",
     "timestamp": 1676467023011,
     "user": {
      "displayName": "버물리",
      "userId": "16343119817703036426"
     },
     "user_tz": -540
    },
    "id": "m7ZhtcLVMYNF",
    "outputId": "a89fa06b-249c-471f-af22-2e4f2bfbd673"
   },
   "outputs": [
    {
     "data": {
      "text/html": [
       "\n",
       "  <div id=\"df-4f8b5ac5-8d67-4279-a3b6-bdecd1191d67\">\n",
       "    <div class=\"colab-df-container\">\n",
       "      <div>\n",
       "<style scoped>\n",
       "    .dataframe tbody tr th:only-of-type {\n",
       "        vertical-align: middle;\n",
       "    }\n",
       "\n",
       "    .dataframe tbody tr th {\n",
       "        vertical-align: top;\n",
       "    }\n",
       "\n",
       "    .dataframe thead th {\n",
       "        text-align: right;\n",
       "    }\n",
       "</style>\n",
       "<table border=\"1\" class=\"dataframe\">\n",
       "  <thead>\n",
       "    <tr style=\"text-align: right;\">\n",
       "      <th></th>\n",
       "      <th>coef</th>\n",
       "    </tr>\n",
       "  </thead>\n",
       "  <tbody>\n",
       "    <tr>\n",
       "      <th>0</th>\n",
       "      <td>0.298650</td>\n",
       "    </tr>\n",
       "    <tr>\n",
       "      <th>1</th>\n",
       "      <td>0.272491</td>\n",
       "    </tr>\n",
       "    <tr>\n",
       "      <th>2</th>\n",
       "      <td>0.438330</td>\n",
       "    </tr>\n",
       "    <tr>\n",
       "      <th>3</th>\n",
       "      <td>0.000000</td>\n",
       "    </tr>\n",
       "    <tr>\n",
       "      <th>4</th>\n",
       "      <td>0.004349</td>\n",
       "    </tr>\n",
       "  </tbody>\n",
       "</table>\n",
       "</div>\n",
       "      <button class=\"colab-df-convert\" onclick=\"convertToInteractive('df-4f8b5ac5-8d67-4279-a3b6-bdecd1191d67')\"\n",
       "              title=\"Convert this dataframe to an interactive table.\"\n",
       "              style=\"display:none;\">\n",
       "        \n",
       "  <svg xmlns=\"http://www.w3.org/2000/svg\" height=\"24px\"viewBox=\"0 0 24 24\"\n",
       "       width=\"24px\">\n",
       "    <path d=\"M0 0h24v24H0V0z\" fill=\"none\"/>\n",
       "    <path d=\"M18.56 5.44l.94 2.06.94-2.06 2.06-.94-2.06-.94-.94-2.06-.94 2.06-2.06.94zm-11 1L8.5 8.5l.94-2.06 2.06-.94-2.06-.94L8.5 2.5l-.94 2.06-2.06.94zm10 10l.94 2.06.94-2.06 2.06-.94-2.06-.94-.94-2.06-.94 2.06-2.06.94z\"/><path d=\"M17.41 7.96l-1.37-1.37c-.4-.4-.92-.59-1.43-.59-.52 0-1.04.2-1.43.59L10.3 9.45l-7.72 7.72c-.78.78-.78 2.05 0 2.83L4 21.41c.39.39.9.59 1.41.59.51 0 1.02-.2 1.41-.59l7.78-7.78 2.81-2.81c.8-.78.8-2.07 0-2.86zM5.41 20L4 18.59l7.72-7.72 1.47 1.35L5.41 20z\"/>\n",
       "  </svg>\n",
       "      </button>\n",
       "      \n",
       "  <style>\n",
       "    .colab-df-container {\n",
       "      display:flex;\n",
       "      flex-wrap:wrap;\n",
       "      gap: 12px;\n",
       "    }\n",
       "\n",
       "    .colab-df-convert {\n",
       "      background-color: #E8F0FE;\n",
       "      border: none;\n",
       "      border-radius: 50%;\n",
       "      cursor: pointer;\n",
       "      display: none;\n",
       "      fill: #1967D2;\n",
       "      height: 32px;\n",
       "      padding: 0 0 0 0;\n",
       "      width: 32px;\n",
       "    }\n",
       "\n",
       "    .colab-df-convert:hover {\n",
       "      background-color: #E2EBFA;\n",
       "      box-shadow: 0px 1px 2px rgba(60, 64, 67, 0.3), 0px 1px 3px 1px rgba(60, 64, 67, 0.15);\n",
       "      fill: #174EA6;\n",
       "    }\n",
       "\n",
       "    [theme=dark] .colab-df-convert {\n",
       "      background-color: #3B4455;\n",
       "      fill: #D2E3FC;\n",
       "    }\n",
       "\n",
       "    [theme=dark] .colab-df-convert:hover {\n",
       "      background-color: #434B5C;\n",
       "      box-shadow: 0px 1px 3px 1px rgba(0, 0, 0, 0.15);\n",
       "      filter: drop-shadow(0px 1px 2px rgba(0, 0, 0, 0.3));\n",
       "      fill: #FFFFFF;\n",
       "    }\n",
       "  </style>\n",
       "\n",
       "      <script>\n",
       "        const buttonEl =\n",
       "          document.querySelector('#df-4f8b5ac5-8d67-4279-a3b6-bdecd1191d67 button.colab-df-convert');\n",
       "        buttonEl.style.display =\n",
       "          google.colab.kernel.accessAllowed ? 'block' : 'none';\n",
       "\n",
       "        async function convertToInteractive(key) {\n",
       "          const element = document.querySelector('#df-4f8b5ac5-8d67-4279-a3b6-bdecd1191d67');\n",
       "          const dataTable =\n",
       "            await google.colab.kernel.invokeFunction('convertToInteractive',\n",
       "                                                     [key], {});\n",
       "          if (!dataTable) return;\n",
       "\n",
       "          const docLinkHtml = 'Like what you see? Visit the ' +\n",
       "            '<a target=\"_blank\" href=https://colab.research.google.com/notebooks/data_table.ipynb>data table notebook</a>'\n",
       "            + ' to learn more about interactive tables.';\n",
       "          element.innerHTML = '';\n",
       "          dataTable['output_type'] = 'display_data';\n",
       "          await google.colab.output.renderOutput(dataTable, element);\n",
       "          const docLink = document.createElement('div');\n",
       "          docLink.innerHTML = docLinkHtml;\n",
       "          element.appendChild(docLink);\n",
       "        }\n",
       "      </script>\n",
       "    </div>\n",
       "  </div>\n",
       "  "
      ],
      "text/plain": [
       "       coef\n",
       "0  0.298650\n",
       "1  0.272491\n",
       "2  0.438330\n",
       "3  0.000000\n",
       "4  0.004349"
      ]
     },
     "execution_count": 107,
     "metadata": {},
     "output_type": "execute_result"
    }
   ],
   "source": [
    "df_coef = pd.DataFrame(lr.coef_[0])\n",
    "df_coef.columns = ['coef']\n",
    "df_coef.head()"
   ]
  },
  {
   "cell_type": "code",
   "execution_count": null,
   "metadata": {
    "colab": {
     "base_uri": "https://localhost:8080/",
     "height": 54
    },
    "executionInfo": {
     "elapsed": 653,
     "status": "ok",
     "timestamp": 1676467014177,
     "user": {
      "displayName": "버물리",
      "userId": "16343119817703036426"
     },
     "user_tz": -540
    },
    "id": "QCNg0Bb5NP7Q",
    "outputId": "682f33f3-bc7c-4252-87fd-315d238d8398"
   },
   "outputs": [
    {
     "name": "stdout",
     "output_type": "stream",
     "text": [
      "부정적인 단어 10개 : Int64Index([1293, 515, 363, 1675, 2966, 558, 567, 3538, 1909, 1046], dtype='int64')\n"
     ]
    },
    {
     "data": {
      "application/vnd.google.colaboratory.intrinsic+json": {
       "type": "string"
      },
      "text/plain": [
       "'별로'"
      ]
     },
     "execution_count": 106,
     "metadata": {},
     "output_type": "execute_result"
    }
   ],
   "source": [
    "neg_index_10 = df_coef.sort_values(by='coef').head(10).index\n",
    "print(f'부정적인 단어 10개 : {neg_index_10}')\n",
    "invert_index_vectorizer[1293]"
   ]
  },
  {
   "cell_type": "markdown",
   "metadata": {
    "id": "MvLq3hSpFUO7"
   },
   "source": [
    "##### 긍정/부정 키워드 출력"
   ]
  },
  {
   "cell_type": "code",
   "execution_count": null,
   "metadata": {
    "colab": {
     "base_uri": "https://localhost:8080/"
    },
    "executionInfo": {
     "elapsed": 3,
     "status": "ok",
     "timestamp": 1676466156638,
     "user": {
      "displayName": "버물리",
      "userId": "16343119817703036426"
     },
     "user_tz": -540
    },
    "id": "SFChcZriKtWk",
    "outputId": "2c821ed5-b012-44bb-9c9c-54ca4cd78e9d"
   },
   "outputs": [
    {
     "data": {
      "text/plain": [
       "array([0.29864987, 0.27249072, 0.43832964, ..., 0.        , 0.02101963,\n",
       "       0.38452289])"
      ]
     },
     "execution_count": 73,
     "metadata": {},
     "output_type": "execute_result"
    }
   ],
   "source": [
    "lr.coef_[0]"
   ]
  },
  {
   "cell_type": "code",
   "execution_count": null,
   "metadata": {
    "colab": {
     "base_uri": "https://localhost:8080/"
    },
    "executionInfo": {
     "elapsed": 3,
     "status": "ok",
     "timestamp": 1676466467673,
     "user": {
      "displayName": "버물리",
      "userId": "16343119817703036426"
     },
     "user_tz": -540
    },
    "id": "me2xwEybFTnD",
    "outputId": "033eb05d-11a8-4d96-ac45-8c970e121908"
   },
   "outputs": [
    {
     "name": "stdout",
     "output_type": "stream",
     "text": [
      "[(1.083238528595846, 578), (1.022751085146313, 2400), (0.9966262508392211, 2957), (0.9908832161020463, 2977), (0.9840310843788325, 385)]\n",
      "[(-0.7276613466308991, 2966), (-0.7945531071982457, 1675), (-0.8957302656565864, 363), (-1.1193722204687548, 515), (-1.1920507009589338, 1293)]\n"
     ]
    }
   ],
   "source": [
    "'''\n",
    "코드 설명\n",
    "# 위에거는 가장 긍정적인 5개의 리뷰에 대한 정보를 나타냄.\n",
    "# 아래거는 가장 부정적인 5개의 리뷰에 대한 정보를 나타냄.\n",
    "# 왼쪽 숫자가 커질수록 긍정적, 작아질수록 부정적.\n",
    "# (1.2523469722092242, 2977)에서 2977번째 인덱스는 1.252 정도로 가장 긍정적이라는 의미.\n",
    "# (-1.0217428474064871, 1293)에서 1293번째 인덱스는 -1.022정도로 가장 부정적이라는 의미.\n",
    "\n",
    "함수 설명\n",
    "enumerate() = 반복문 사용 시 몇번째 반복문인지 인덱스 번호와 해당 원소를 튜플형태로 반환\n",
    "'''\n",
    "print(sorted(((value, index) for index, value in enumerate(lr.coef_[0])), reverse=True)[:5])\n",
    "print(sorted(((value, index) for index, value in enumerate(lr.coef_[0])), reverse=True)[-5:])"
   ]
  },
  {
   "cell_type": "code",
   "execution_count": null,
   "metadata": {
    "colab": {
     "base_uri": "https://localhost:8080/"
    },
    "executionInfo": {
     "elapsed": 4,
     "status": "ok",
     "timestamp": 1676466200723,
     "user": {
      "displayName": "버물리",
      "userId": "16343119817703036426"
     },
     "user_tz": -540
    },
    "id": "yGxlW37CFbd7",
    "outputId": "c7392681-aa9d-4fdf-8298-c913d72b04f9"
   },
   "outputs": [
    {
     "data": {
      "text/plain": [
       "[(1.083238528595846, 578),\n",
       " (1.022751085146313, 2400),\n",
       " (0.9966262508392211, 2957),\n",
       " (0.9908832161020463, 2977),\n",
       " (0.9840310843788325, 385),\n",
       " (0.859138389758252, 2779),\n",
       " (0.7138365309433674, 131),\n",
       " (0.705009995636754, 1384),\n",
       " (0.6827598276071477, 26),\n",
       " (0.6784648442999069, 2730),\n",
       " (0.675354903533449, 826),\n",
       " (0.636344121614274, 1028),\n",
       " (0.6289226056870417, 1853),\n",
       " (0.5893360431765826, 2455),\n",
       " (0.5809528536420479, 1816),\n",
       " (0.5535300525949505, 1491),\n",
       " (0.5444323152033318, 956),\n",
       " (0.5198978042259592, 1217),\n",
       " (0.517535268586637, 2167),\n",
       " (0.5164192421012165, 1247),\n",
       " (0.5084945738009876, 627),\n",
       " (0.5053042490531611, 1700),\n",
       " (0.4944914285119937, 1159),\n",
       " (0.4877846716664475, 883),\n",
       " (0.47396327578246356, 19),\n",
       " (0.46917880547352375, 3428),\n",
       " (0.46893582249135607, 981),\n",
       " (0.46610739757071384, 660),\n",
       " (0.4490931433931324, 910),\n",
       " (0.44705465173123315, 1148),\n",
       " (0.4463995919945082, 2834),\n",
       " (0.4463564008381002, 2680),\n",
       " (0.4383296352377443, 2),\n",
       " (0.4338542374225313, 1695),\n",
       " (0.4337383833654608, 790),\n",
       " (0.43048675934329417, 680),\n",
       " (0.42279674294460096, 1918),\n",
       " (0.42114108683020934, 2780),\n",
       " (0.415600639285801, 2311),\n",
       " (0.4115276959570544, 2188),\n",
       " (0.41050835608805253, 2595),\n",
       " (0.4087865375038908, 278),\n",
       " (0.4009523223830739, 2988),\n",
       " (0.39472022119773664, 3447),\n",
       " (0.39264977172686494, 2351),\n",
       " (0.3922102114841719, 2678),\n",
       " (0.38452288913915167, 3598),\n",
       " (0.3813979385506009, 2606),\n",
       " (0.37320895487944755, 1885),\n",
       " (0.36443836471774893, 246),\n",
       " (0.35856419161705455, 1809),\n",
       " (0.3569889491439497, 40),\n",
       " (0.35269161208955685, 3201),\n",
       " (0.35050912163639597, 1799),\n",
       " (0.3432786490428092, 3425),\n",
       " (0.3382196157193346, 717),\n",
       " (0.33534507877043396, 341),\n",
       " (0.3316812129178043, 2771),\n",
       " (0.3281860615995962, 115),\n",
       " (0.32650844407874335, 2849),\n",
       " (0.3232778994339634, 2685),\n",
       " (0.3160139604141497, 73),\n",
       " (0.31267193099406104, 2438),\n",
       " (0.31233290138627623, 1292),\n",
       " (0.309901619824498, 1263),\n",
       " (0.3065895988926103, 3414),\n",
       " (0.3063893592360448, 692),\n",
       " (0.3057937144547978, 147),\n",
       " (0.30486575571835683, 2722),\n",
       " (0.30409515528856346, 969),\n",
       " (0.30044744072091123, 2674),\n",
       " (0.2998059473467188, 154),\n",
       " (0.2986498745244941, 0),\n",
       " (0.2984224027404989, 106),\n",
       " (0.2980058874902234, 979),\n",
       " (0.29583681793822647, 3547),\n",
       " (0.29514278906735847, 1917),\n",
       " (0.290419105090212, 3088),\n",
       " (0.2892184333049539, 3029),\n",
       " (0.2883777195979175, 1926),\n",
       " (0.28693590749856757, 3274),\n",
       " (0.285858645677134, 3152),\n",
       " (0.28418671266473555, 2374),\n",
       " (0.28263721875315406, 1779),\n",
       " (0.28222293884462335, 1935),\n",
       " (0.2818724350041858, 3408),\n",
       " (0.27808683384695354, 2385),\n",
       " (0.27750721560186187, 3272),\n",
       " (0.27740604345668757, 263),\n",
       " (0.2734912211176953, 2070),\n",
       " (0.2724907249836346, 1),\n",
       " (0.2713790438578432, 3453),\n",
       " (0.2704021649495482, 960),\n",
       " (0.26996547964056333, 1553),\n",
       " (0.26897217309414295, 2711),\n",
       " (0.2682007407340409, 2225),\n",
       " (0.2676860028966148, 1025),\n",
       " (0.26744222856308403, 3576),\n",
       " (0.26371093705502635, 1721),\n",
       " (0.26316255382930276, 2726),\n",
       " (0.26240225929670985, 1205),\n",
       " (0.25998369964696316, 1554),\n",
       " (0.2593404611383491, 2599),\n",
       " (0.2592358973489605, 3208),\n",
       " (0.25650731280758493, 723),\n",
       " (0.25304403758821054, 714),\n",
       " (0.2501720987181401, 135),\n",
       " (0.2492100102075304, 2075),\n",
       " (0.2473889640738498, 3013),\n",
       " (0.24696678225309265, 2673),\n",
       " (0.246694608707631, 237),\n",
       " (0.24657179656116232, 2064),\n",
       " (0.2444521895741703, 939),\n",
       " (0.2434759099410097, 2047),\n",
       " (0.24285424852924367, 1350),\n",
       " (0.2402509584296643, 1949),\n",
       " (0.23967441231272946, 43),\n",
       " (0.23913443837138537, 2186),\n",
       " (0.23766054924410937, 3353),\n",
       " (0.23730264108395877, 2753),\n",
       " (0.23603794108697213, 416),\n",
       " (0.23558330441790828, 2913),\n",
       " (0.23519811307954672, 438),\n",
       " (0.23510668760562559, 1566),\n",
       " (0.23425240300973324, 3551),\n",
       " (0.23396165966195984, 1085),\n",
       " (0.23382711405219822, 1120),\n",
       " (0.23351923852873765, 2274),\n",
       " (0.23296997579366907, 1886),\n",
       " (0.2324872927436713, 235),\n",
       " (0.23232969284893099, 2551),\n",
       " (0.23071899892549583, 10),\n",
       " (0.22971540967302984, 2038),\n",
       " (0.22932653677475337, 2082),\n",
       " (0.22768846787069205, 3168),\n",
       " (0.22768846787069205, 2632),\n",
       " (0.22745181418843705, 3515),\n",
       " (0.22727969255658154, 3102),\n",
       " (0.22727969255658154, 1541),\n",
       " (0.22722125460412776, 582),\n",
       " (0.22694155711065384, 3187),\n",
       " (0.22653935040546164, 3286),\n",
       " (0.22523999009012566, 2781),\n",
       " (0.22442395469190396, 3016),\n",
       " (0.22061838553897692, 68),\n",
       " (0.22009838563353967, 109),\n",
       " (0.2191277281851725, 3390),\n",
       " (0.21872023624569278, 817),\n",
       " (0.21786651455641035, 3299),\n",
       " (0.21786651455641035, 172),\n",
       " (0.21609577682003622, 1922),\n",
       " (0.215354651037115, 2965),\n",
       " (0.2150739421452063, 1161),\n",
       " (0.21444886695755605, 2844),\n",
       " (0.2134170881630476, 136),\n",
       " (0.2130167935088007, 2180),\n",
       " (0.21289692607723573, 3549),\n",
       " (0.21279580109032714, 1762),\n",
       " (0.21208410398472557, 3339),\n",
       " (0.2114831663730927, 3033),\n",
       " (0.21061216542088207, 2426),\n",
       " (0.21050192732003467, 2016),\n",
       " (0.20954169797446007, 718),\n",
       " (0.20940559279801435, 769),\n",
       " (0.20934369355567214, 2429),\n",
       " (0.20629490916321233, 423),\n",
       " (0.20564151112692503, 1249),\n",
       " (0.20460458146363505, 3432),\n",
       " (0.20357102996743334, 457),\n",
       " (0.2021608363554548, 3320),\n",
       " (0.20105417804627426, 3443),\n",
       " (0.20103318358626954, 2200),\n",
       " (0.1996701708793625, 3516),\n",
       " (0.19829336438749906, 3518),\n",
       " (0.19757656652766445, 51),\n",
       " (0.1971541896480496, 576),\n",
       " (0.19692002281017706, 801),\n",
       " (0.19642139771723174, 326),\n",
       " (0.1956949634963287, 1439),\n",
       " (0.19454739300699056, 1374),\n",
       " (0.19374043046645226, 2972),\n",
       " (0.19359187064149927, 269),\n",
       " (0.19207595511018377, 3297),\n",
       " (0.19193248727401052, 487),\n",
       " (0.19169946876585334, 353),\n",
       " (0.19145273627656703, 3369),\n",
       " (0.1907753736644439, 1826),\n",
       " (0.190646781262453, 734),\n",
       " (0.18991025603089434, 3503),\n",
       " (0.1896249907186925, 625),\n",
       " (0.18955203120513123, 1505),\n",
       " (0.18797087491526432, 2759),\n",
       " (0.18430921424495741, 1539),\n",
       " (0.18363623165863685, 2484),\n",
       " (0.18358449181097478, 3370),\n",
       " (0.18358449181097478, 663),\n",
       " (0.18244793626812456, 3359),\n",
       " (0.1822662444555221, 2566),\n",
       " (0.18128865404722522, 234),\n",
       " (0.18044008385086402, 3349),\n",
       " (0.18044008385086402, 2118),\n",
       " (0.18007536713688088, 2396),\n",
       " (0.17910585515640634, 3271),\n",
       " (0.17910585515640634, 2607),\n",
       " (0.17910585515640634, 2465),\n",
       " (0.17910585515640634, 2398),\n",
       " (0.17910585515640634, 571),\n",
       " (0.179035199346612, 629),\n",
       " (0.17895865390308874, 1447),\n",
       " (0.17863917925105602, 2811),\n",
       " (0.17726881359187688, 1452),\n",
       " (0.17677214810920883, 2146),\n",
       " (0.1765991728736017, 748),\n",
       " (0.1764256544677068, 888),\n",
       " (0.1760315861909405, 3506),\n",
       " (0.17588758713451325, 1910),\n",
       " (0.1754414736731476, 1194),\n",
       " (0.1747418851858923, 2533),\n",
       " (0.17458799780996764, 646),\n",
       " (0.17352565262588704, 406),\n",
       " (0.17341720438814884, 1805),\n",
       " (0.17297606345076297, 3476),\n",
       " (0.17297606345076297, 1112),\n",
       " (0.17266998661035748, 3537),\n",
       " (0.1726081215370959, 1953),\n",
       " (0.17257634409450068, 284),\n",
       " (0.17139310846607012, 300),\n",
       " (0.171182126119441, 2170),\n",
       " (0.17041376724090276, 3424),\n",
       " (0.1699034818331546, 153),\n",
       " (0.16925398664081556, 192),\n",
       " (0.16908142299845366, 3164),\n",
       " (0.16908142299845366, 683),\n",
       " (0.16735079423568786, 697),\n",
       " (0.16708450629578694, 393),\n",
       " (0.16699499577642382, 2271),\n",
       " (0.16689268206126354, 2836),\n",
       " (0.16687164210064565, 454),\n",
       " (0.16668943194018224, 2705),\n",
       " (0.16655129591699774, 440),\n",
       " (0.166394670658271, 935),\n",
       " (0.1663773361060166, 1671),\n",
       " (0.16601215314057677, 3150),\n",
       " (0.16519522811684198, 1441),\n",
       " (0.1648222094224562, 612),\n",
       " (0.1643685803388623, 543),\n",
       " (0.16414153351369737, 2013),\n",
       " (0.16349876830014806, 3026),\n",
       " (0.163038621764738, 2003),\n",
       " (0.16294123044047581, 623),\n",
       " (0.16278416357289083, 3060),\n",
       " (0.16238157452534266, 1864),\n",
       " (0.1619645110396985, 1891),\n",
       " (0.16176285567784487, 2088),\n",
       " (0.16175232968310627, 3189),\n",
       " (0.16170317944646678, 1593),\n",
       " (0.16156425612612513, 2411),\n",
       " (0.161473202870407, 206),\n",
       " (0.16037381105494397, 1319),\n",
       " (0.16037381105494397, 987),\n",
       " (0.16005449943934066, 93),\n",
       " (0.1589622504356325, 1598),\n",
       " (0.15890378049249845, 726),\n",
       " (0.1572561908372488, 1796),\n",
       " (0.1571841408835445, 3162),\n",
       " (0.15563166761545663, 667),\n",
       " (0.15560584746324618, 176),\n",
       " (0.1554909870675999, 2787),\n",
       " (0.1554854064546674, 3134),\n",
       " (0.15532958352138415, 3058),\n",
       " (0.1548872146528085, 388),\n",
       " (0.15428032653863932, 2161),\n",
       " (0.15387829467002406, 1348),\n",
       " (0.15380864680089348, 3034),\n",
       " (0.15333311507470357, 244),\n",
       " (0.1523960516096754, 179),\n",
       " (0.1521796073574055, 1199),\n",
       " (0.15194058693559556, 843),\n",
       " (0.15187978636661292, 100),\n",
       " (0.15169962510829568, 1153),\n",
       " (0.15082970661303616, 2683),\n",
       " (0.150180164293398, 1938),\n",
       " (0.15009071748081204, 1053),\n",
       " (0.14965494108061747, 1709),\n",
       " (0.1493328142650963, 3250),\n",
       " (0.14927403076705534, 1749),\n",
       " (0.14903509881582788, 561),\n",
       " (0.14877960391397663, 2212),\n",
       " (0.1473304169131024, 12),\n",
       " (0.14686313088980554, 3366),\n",
       " (0.1466023888411277, 290),\n",
       " (0.1460635365147812, 1740),\n",
       " (0.1458953122706689, 2018),\n",
       " (0.14581553637893843, 3581),\n",
       " (0.14581553637893843, 2488),\n",
       " (0.14581553637893843, 2094),\n",
       " (0.14532893533552335, 311),\n",
       " (0.14425588143176865, 1781),\n",
       " (0.14373439434004648, 2691),\n",
       " (0.14344828233842657, 2153),\n",
       " (0.1431353559406776, 2895),\n",
       " (0.1431353559406776, 2425),\n",
       " (0.1430680698946073, 1967),\n",
       " (0.14303736081054555, 1172),\n",
       " (0.1427619007657729, 804),\n",
       " (0.14265219846658062, 1621),\n",
       " (0.14222164706236073, 2910),\n",
       " (0.14158967298490857, 589),\n",
       " (0.14111146942231168, 1253),\n",
       " (0.14111146942231168, 30),\n",
       " (0.14066155984101997, 1921),\n",
       " (0.14066007476386388, 1557),\n",
       " (0.1406099012352914, 2298),\n",
       " (0.14055624658450946, 1306),\n",
       " (0.14047485278385274, 2246),\n",
       " (0.14041034567366337, 453),\n",
       " (0.1400066487464094, 271),\n",
       " (0.13988222255873445, 852),\n",
       " (0.1397258271767574, 3508),\n",
       " (0.13941925038890313, 665),\n",
       " (0.13905265551327878, 2421),\n",
       " (0.13905265551327878, 2166),\n",
       " (0.13890533728408014, 3426),\n",
       " (0.1381742371005497, 1996),\n",
       " (0.137856954806695, 1739),\n",
       " (0.13783376575125883, 3185),\n",
       " (0.1371636272042947, 1616),\n",
       " (0.1371636272042947, 818),\n",
       " (0.1371057229509389, 1078),\n",
       " (0.13708646937968247, 2969),\n",
       " (0.13708646937968247, 767),\n",
       " (0.1368456330081732, 3309),\n",
       " (0.13679210879542866, 2475),\n",
       " (0.13574833403315098, 1614),\n",
       " (0.13538863872041934, 2967),\n",
       " (0.13473248503661842, 3347),\n",
       " (0.1340921351340042, 606),\n",
       " (0.13372111428154201, 709),\n",
       " (0.13339012095422514, 1676),\n",
       " (0.13338171708409371, 349),\n",
       " (0.13338171708409371, 81),\n",
       " (0.13330544777984688, 3577),\n",
       " (0.1328900940264827, 443),\n",
       " (0.13252433382242912, 2858),\n",
       " (0.13223656709678294, 2523),\n",
       " (0.1318437616466894, 2634),\n",
       " (0.13180092967307033, 1912),\n",
       " (0.13179318019376543, 2618),\n",
       " (0.13146979436373635, 1301),\n",
       " (0.1311009390933262, 2220),\n",
       " (0.1311009390933262, 1383),\n",
       " (0.13064034981411426, 1506),\n",
       " (0.13042326881959926, 375),\n",
       " (0.1302813687738106, 996),\n",
       " (0.1301226525094617, 2573),\n",
       " (0.13004501769427315, 2869),\n",
       " (0.13002727648628828, 2544),\n",
       " (0.13002727648628828, 792),\n",
       " (0.1294442086963627, 3384),\n",
       " (0.1288443102013911, 3434),\n",
       " (0.12881007466753688, 3238),\n",
       " (0.12834983476970277, 2911),\n",
       " (0.12834983476970277, 2862),\n",
       " (0.12821015780243877, 2899),\n",
       " (0.12821015780243877, 415),\n",
       " (0.1281221708090143, 1746),\n",
       " (0.12799013862607192, 60),\n",
       " (0.1276316587225724, 3513),\n",
       " (0.1276316587225724, 3143),\n",
       " (0.1276316587225724, 401),\n",
       " (0.12691889739890042, 110),\n",
       " (0.12647311205589995, 2767),\n",
       " (0.12639739305505038, 97),\n",
       " (0.12620799172794184, 1873),\n",
       " (0.12451439678795313, 1602),\n",
       " (0.12428928797340215, 1307),\n",
       " (0.12422059646857203, 1165),\n",
       " (0.12379753489064324, 519),\n",
       " (0.12350427198271853, 937),\n",
       " (0.12337021782494087, 24),\n",
       " (0.12305827791925097, 3412),\n",
       " (0.12305827791925097, 1690),\n",
       " (0.12305827791925097, 867),\n",
       " (0.12305827791925097, 182),\n",
       " (0.1227763764616337, 909),\n",
       " (0.12261310772978186, 3103),\n",
       " (0.12261310772978186, 1742),\n",
       " (0.12261310772978186, 58),\n",
       " (0.1221967228732356, 1882),\n",
       " (0.12213344315883644, 2033),\n",
       " (0.121976578544916, 2848),\n",
       " (0.12135857520789436, 3332),\n",
       " (0.12135857520789436, 1443),\n",
       " (0.12113849762567615, 2765),\n",
       " (0.12113849762567615, 658),\n",
       " (0.1210066684106434, 1743),\n",
       " (0.12059412573188766, 3512),\n",
       " (0.12044602422553251, 2546),\n",
       " (0.12034264558337901, 3262),\n",
       " (0.12034264558337901, 2036),\n",
       " (0.11987478208159456, 2760),\n",
       " (0.11953538840334113, 217),\n",
       " (0.118612754181543, 1075),\n",
       " (0.11861100667625554, 2719),\n",
       " (0.11861100667625554, 2459),\n",
       " (0.11856651814573246, 3254),\n",
       " (0.11856059319072605, 2832),\n",
       " (0.11808624972099771, 3427),\n",
       " (0.11808624972099771, 390),\n",
       " (0.11793463226930154, 466),\n",
       " (0.11780468847975677, 2975),\n",
       " (0.11742203892121288, 782),\n",
       " (0.11721208641594755, 825),\n",
       " (0.11702264087649741, 1758),\n",
       " (0.11684196877481864, 544),\n",
       " (0.11674257673137114, 795),\n",
       " (0.11655145309414262, 2971),\n",
       " (0.116444740287616, 2456),\n",
       " (0.116444740287616, 493),\n",
       " (0.116444740287616, 146),\n",
       " (0.11641559983227782, 2371),\n",
       " (0.11612361037059099, 1523),\n",
       " (0.11608616689689712, 1612),\n",
       " (0.11608616689689712, 266),\n",
       " (0.11602197249624707, 159),\n",
       " (0.11546886372297346, 2250),\n",
       " (0.11546886372297346, 730),\n",
       " (0.11523434097787633, 2436),\n",
       " (0.11512219242931965, 1530),\n",
       " (0.11473083482075859, 3160),\n",
       " (0.11458773636594989, 2165),\n",
       " (0.11458773636594989, 498),\n",
       " (0.11458773636594989, 432),\n",
       " (0.11416472529325358, 2666),\n",
       " (0.11358119246843734, 2303),\n",
       " (0.11353323323900687, 751),\n",
       " (0.11296421635593186, 267),\n",
       " (0.11282053754009069, 2001),\n",
       " (0.11282053754009069, 1866),\n",
       " (0.11263145175165927, 2308),\n",
       " (0.11263145175165927, 2216),\n",
       " (0.11263145175165927, 1642),\n",
       " (0.11246238711899237, 2613),\n",
       " (0.11246238711899237, 1406),\n",
       " (0.11246238711899237, 970),\n",
       " (0.11194684571594259, 1546),\n",
       " (0.11194684571594259, 1335),\n",
       " (0.11172855051456256, 2677),\n",
       " (0.11162867090420354, 1465),\n",
       " (0.11141738262719098, 3344),\n",
       " (0.11141738262719098, 2173),\n",
       " (0.11141738262719098, 1138),\n",
       " (0.11141738262719098, 461),\n",
       " (0.11141738262719098, 34),\n",
       " (0.11124818548257726, 3315),\n",
       " (0.11124818548257726, 875),\n",
       " (0.11123866393595926, 1562),\n",
       " (0.11123098311966559, 3003),\n",
       " (0.11091168974578983, 2676),\n",
       " (0.11068908541707685, 282),\n",
       " (0.11059180684605222, 2221),\n",
       " (0.11014880152373112, 551),\n",
       " (0.11001193961448724, 400),\n",
       " (0.10990607790832183, 610),\n",
       " (0.10989808597980687, 2051),\n",
       " (0.10989808597980687, 1725),\n",
       " (0.10989808597980687, 1684),\n",
       " (0.10989808597980687, 95),\n",
       " (0.1098304563384161, 1349),\n",
       " (0.10970144205757652, 6),\n",
       " (0.10855441765527325, 3430),\n",
       " (0.10855441765527325, 2948),\n",
       " (0.10855441765527325, 857),\n",
       " (0.10855441765527325, 346),\n",
       " (0.10855441765527325, 265),\n",
       " (0.1085318814776671, 2085),\n",
       " (0.10735735702546441, 1752),\n",
       " (0.10735735702546441, 518),\n",
       " (0.10730376313086731, 761),\n",
       " (0.10721854826721695, 340),\n",
       " (0.10695920151689398, 3198),\n",
       " (0.10695920151689398, 2962),\n",
       " (0.10695920151689398, 995),\n",
       " (0.10648171416387271, 1107),\n",
       " (0.10646590379503076, 446),\n",
       " (0.1063040492838916, 1339),\n",
       " (0.10606177416281544, 2897),\n",
       " (0.10603561102700049, 1163),\n",
       " (0.10600719709348724, 3270),\n",
       " (0.10550544945378373, 641),\n",
       " (0.10514280102849327, 2688),\n",
       " (0.10514280102849327, 1636),\n",
       " (0.10514280102849327, 1337),\n",
       " (0.10514280102849327, 1324),\n",
       " (0.10514280102849327, 707),\n",
       " (0.1050450943309541, 3057),\n",
       " (0.10497631126810213, 1679),\n",
       " (0.10459284670679633, 3120),\n",
       " (0.10447174321854942, 3423),\n",
       " (0.10447174321854942, 1945),\n",
       " (0.10447174321854942, 1095),\n",
       " (0.10418299753813934, 2162),\n",
       " (0.10389710421089247, 484),\n",
       " (0.10372346058269893, 3504),\n",
       " (0.10372346058269893, 942),\n",
       " (0.10361073820838948, 2961),\n",
       " (0.10358126489762953, 3076),\n",
       " (0.10355963384313835, 2304),\n",
       " (0.10350698333805125, 2622),\n",
       " (0.10273835758569924, 56),\n",
       " (0.10263334718486694, 3413),\n",
       " (0.10263334718486694, 1793),\n",
       " (0.10263334718486694, 439),\n",
       " (0.10241570071777685, 3107),\n",
       " (0.10237760344004482, 1770),\n",
       " (0.10237760344004482, 431),\n",
       " (0.10219536723926811, 477),\n",
       " (0.10205259057852055, 702),\n",
       " (0.10201016782252555, 3167),\n",
       " (0.10201016782252555, 2182),\n",
       " (0.1019842474045635, 360),\n",
       " (0.10175508853429753, 3072),\n",
       " (0.10166049694254889, 1989),\n",
       " (0.10113443782031709, 2773),\n",
       " (0.10094969738174506, 3207),\n",
       " (0.10094969738174506, 2138),\n",
       " (0.10048411559883197, 601),\n",
       " (0.09999151012146384, 588),\n",
       " (0.09956430933481794, 1222),\n",
       " (0.09934504891425182, 3130),\n",
       " (0.09923535137852495, 2863),\n",
       " (0.09923535137852495, 894),\n",
       " (0.09896057368901368, 2106),\n",
       " (0.09862117711691797, 1670),\n",
       " (0.09835101097291246, 2446),\n",
       " (0.09835101097291246, 468),\n",
       " (0.09818306501686391, 777),\n",
       " (0.09812073340063875, 1000),\n",
       " (0.09762716095906833, 377),\n",
       " (0.09753338578160992, 1106),\n",
       " (0.09713291125669311, 839),\n",
       " (0.09704122237374571, 3105),\n",
       " (0.09697468756047657, 1361),\n",
       " (0.09697468756047657, 383),\n",
       " (0.0968668912319005, 2703),\n",
       " (0.0968668912319005, 11),\n",
       " (0.09638426850001268, 1843),\n",
       " (0.09629043328589533, 2587),\n",
       " (0.09629043328589533, 2077),\n",
       " (0.096278725210177, 989),\n",
       " (0.09614736134116153, 1750),\n",
       " (0.09603797755509189, 2919),\n",
       " (0.09603797755509189, 1278),\n",
       " (0.09603797755509189, 1007),\n",
       " (0.09603797755509189, 421),\n",
       " (0.09599600224858451, 3063),\n",
       " (0.09599600224858451, 2728),\n",
       " (0.09599600224858451, 2205),\n",
       " (0.09599600224858451, 2015),\n",
       " (0.09599600224858451, 1958),\n",
       " (0.09599600224858451, 1900),\n",
       " (0.09599600224858451, 789),\n",
       " (0.09599526339851097, 3356),\n",
       " (0.09514667968759413, 3381),\n",
       " (0.09514667968759413, 2287),\n",
       " (0.09514667968759413, 1836),\n",
       " (0.09514667968759413, 1769),\n",
       " (0.09505789910889781, 3011),\n",
       " (0.09505789910889781, 946),\n",
       " (0.09505789910889781, 693),\n",
       " (0.09454681734256985, 2415),\n",
       " (0.09454681734256985, 382),\n",
       " (0.09419696061723923, 1549),\n",
       " (0.09419696061723923, 922),\n",
       " (0.09397640927575404, 2211),\n",
       " (0.09397640927575404, 2169),\n",
       " (0.09397640927575404, 1884),\n",
       " (0.09377778142837478, 1394),\n",
       " (0.09365770389647572, 1955),\n",
       " (0.09365770389647572, 355),\n",
       " (0.09305797689796462, 916),\n",
       " (0.09294795373075787, 2331),\n",
       " (0.09287544300726618, 3179),\n",
       " (0.09287544300726618, 2648),\n",
       " (0.09287544300726618, 230),\n",
       " (0.09278270467137353, 1744),\n",
       " (0.09277552562218998, 1286),\n",
       " (0.0925264754128711, 3575),\n",
       " (0.09251310565096124, 2108),\n",
       " (0.09231610873644684, 2150),\n",
       " (0.09223706408592375, 1248),\n",
       " (0.09223706408592375, 800),\n",
       " (0.09207594025845187, 2642),\n",
       " (0.09193611480382345, 2998),\n",
       " (0.09189201527165136, 1426),\n",
       " (0.09152616347246337, 3111),\n",
       " (0.09152616347246337, 245),\n",
       " (0.0911748369232472, 1939),\n",
       " (0.09088035403324243, 2997),\n",
       " (0.09076182174465605, 1130),\n",
       " (0.09060246560761104, 559),\n",
       " (0.08971706980508835, 1321),\n",
       " (0.08966592481495014, 2360),\n",
       " (0.08923305952680477, 2490),\n",
       " (0.08917693645679277, 3259),\n",
       " (0.08917693645679277, 1302),\n",
       " (0.08917693645679277, 293),\n",
       " (0.08913649949881385, 961),\n",
       " (0.08854763503991746, 1442),\n",
       " (0.08825017814789932, 1330),\n",
       " (0.08825017814789932, 1291),\n",
       " (0.08774334009731606, 2749),\n",
       " (0.08774334009731606, 2473),\n",
       " (0.08774334009731606, 1409),\n",
       " (0.08774334009731606, 1124),\n",
       " (0.08765723502805088, 721),\n",
       " (0.08720086202735895, 1411),\n",
       " (0.08713887889140257, 88),\n",
       " (0.08704184171637895, 2718),\n",
       " (0.08700906966922353, 495),\n",
       " (0.08694283538177734, 3048),\n",
       " (0.08694283538177734, 1994),\n",
       " (0.08694283538177734, 1204),\n",
       " (0.08690412077090867, 2393),\n",
       " (0.08679225879906245, 1359),\n",
       " (0.08653895077185497, 3140),\n",
       " (0.08648075934863426, 103),\n",
       " (0.08643610608822641, 855),\n",
       " (0.086158423771381, 893),\n",
       " (0.086158423771381, 482),\n",
       " (0.0859276911088548, 773),\n",
       " (0.08547722288533809, 3410),\n",
       " (0.08491715691666023, 2710),\n",
       " (0.08491715691666023, 1213),\n",
       " (0.08466198312632019, 1812),\n",
       " (0.08466198312632019, 1797),\n",
       " (0.08416652911645411, 2529),\n",
       " (0.08416652911645411, 548),\n",
       " (0.08408035272110655, 1811),\n",
       " (0.08344562550916557, 3529),\n",
       " (0.08344562550916557, 3213),\n",
       " (0.08344562550916557, 2127),\n",
       " (0.08344562550916557, 1525),\n",
       " (0.08344562550916557, 1126),\n",
       " (0.08306592877155959, 2629),\n",
       " (0.08261023280342651, 3199),\n",
       " (0.0823014804546647, 3010),\n",
       " (0.0823014804546647, 324),\n",
       " (0.08176600787664533, 2822),\n",
       " (0.08164973401702705, 9),\n",
       " (0.08163176246372607, 2901),\n",
       " (0.08098679707086853, 735),\n",
       " (0.08098225551984925, 2435),\n",
       " (0.08089260786208079, 3303),\n",
       " (0.08089260786208079, 1008),\n",
       " (0.08089260786208079, 805),\n",
       " (0.08087616484155313, 1316),\n",
       " (0.08086236949717567, 3284),\n",
       " (0.08086236949717567, 2821),\n",
       " (0.08086236949717567, 1143),\n",
       " (0.08086236949717567, 963),\n",
       " (0.08086236949717567, 208),\n",
       " (0.08067622644876114, 1969),\n",
       " (0.08039662992911505, 2386),\n",
       " (0.08035836031649138, 2042),\n",
       " (0.08022450830961907, 920),\n",
       " (0.08021834283031955, 3588),\n",
       " (0.08014608534545786, 2228),\n",
       " (0.08002724971967033, 1594),\n",
       " (0.07935629700456813, 2839),\n",
       " (0.07935629700456813, 1054),\n",
       " (0.07935629700456813, 1011),\n",
       " (0.07875723194932575, 1597),\n",
       " (0.07875723194932575, 141),\n",
       " (0.07871540561082953, 2530),\n",
       " (0.07859207044177224, 2735),\n",
       " (0.07856688371435151, 2022),\n",
       " (0.07839417738539797, 2096),\n",
       " (0.07839417738539797, 1080),\n",
       " (0.07839417738539797, 892),\n",
       " (0.07839417738539797, 116),\n",
       " (0.07720361421578012, 3181),\n",
       " (0.07720361421578012, 2217),\n",
       " (0.07686920913112803, 344),\n",
       " (0.07676095619384382, 2027),\n",
       " (0.0766825041710205, 2764),\n",
       " (0.0764486538979838, 365),\n",
       " (0.07640590977615276, 1952),\n",
       " (0.07634765563210953, 2369),\n",
       " (0.07634765563210953, 1832),\n",
       " (0.07634765563210953, 903),\n",
       " (0.07633213646290514, 3283),\n",
       " (0.07631911621013181, 863),\n",
       " (0.07614343161132528, 107),\n",
       " (0.07613034413180572, 3377),\n",
       " (0.07611634008989539, 669),\n",
       " (0.07600452613271072, 2892),\n",
       " (0.07600452613271072, 2129),\n",
       " (0.07553091764824037, 3539),\n",
       " (0.07544458524582737, 2951),\n",
       " (0.07544458524582737, 2224),\n",
       " (0.07544458524582737, 1026),\n",
       " (0.07544458524582737, 57),\n",
       " (0.07510705480763391, 3109),\n",
       " (0.07510705480763391, 1125),\n",
       " (0.07510705480763391, 711),\n",
       " (0.07510705480763391, 445),\n",
       " (0.07510705480763391, 25),\n",
       " (0.0748670583386545, 2352),\n",
       " (0.0748670583386545, 2061),\n",
       " (0.0748670583386545, 1526),\n",
       " (0.0748670583386545, 21),\n",
       " (0.0739895995044128, 2026),\n",
       " (0.07357413954109424, 2462),\n",
       " (0.07322263721298292, 1759),\n",
       " (0.07312296070629194, 2260),\n",
       " (0.07312296070629194, 1894),\n",
       " (0.07310809702003292, 771),\n",
       " (0.07286592814204021, 2417),\n",
       " (0.0726001765510442, 791),\n",
       " (0.07253477781539235, 2740),\n",
       " (0.07253477781539235, 2736),\n",
       " (0.07253477781539235, 1943),\n",
       " (0.07253477781539235, 1847),\n",
       " (0.07253477781539235, 1180),\n",
       " (0.07253477781539235, 829),\n",
       " (0.07251158078188273, 2792),\n",
       " (0.07216177906518931, 396),\n",
       " (0.07196204521331014, 2035),\n",
       " (0.07190403629720249, 1483),\n",
       " (0.07146772215807981, 38),\n",
       " (0.07140789711285292, 3277),\n",
       " (0.0712057302377542, 1417),\n",
       " (0.07088716395164206, 3555),\n",
       " (0.07088716395164206, 1396),\n",
       " (0.07086450176421696, 1962),\n",
       " (0.07060920422795253, 1298),\n",
       " (0.07056124641636669, 1067),\n",
       " (0.06965596585728437, 304),\n",
       " (0.06944939203215969, 322),\n",
       " (0.06937110246855971, 3149),\n",
       " (0.06937110246855971, 2846),\n",
       " (0.06937110246855971, 2624),\n",
       " (0.06937110246855971, 2461),\n",
       " (0.06937110246855971, 2359),\n",
       " (0.06937110246855971, 2279),\n",
       " (0.06937110246855971, 1069),\n",
       " (0.06937110246855971, 364),\n",
       " (0.06922558223176847, 1239),\n",
       " (0.06861720354539715, 356),\n",
       " (0.06857800847632067, 1451),\n",
       " (0.06857800847632067, 1131),\n",
       " (0.0681982147471246, 94),\n",
       " (0.06806814093267906, 202),\n",
       " (0.06784438720246512, 1010),\n",
       " (0.06738918585977728, 3251),\n",
       " (0.06738918585977728, 1252),\n",
       " (0.06738918585977728, 1117),\n",
       " (0.06714742922840404, 3399),\n",
       " (0.06701171968491063, 1846),\n",
       " (0.06700200482614747, 3041),\n",
       " (0.06700200482614747, 2564),\n",
       " (0.06700200482614747, 2259),\n",
       " (0.06700200482614747, 2059),\n",
       " (0.06700200482614747, 2014),\n",
       " (0.06700200482614747, 1579),\n",
       " (0.06700200482614747, 842),\n",
       " (0.06700200482614747, 815),\n",
       " (0.06700200482614747, 526),\n",
       " (0.06694868276731138, 370),\n",
       " (0.06685009783241494, 758),\n",
       " (0.06668061633316906, 1715),\n",
       " (0.06665272388992344, 3305),\n",
       " (0.06665272388992344, 2880),\n",
       " (0.06665272388992344, 2859),\n",
       " (0.06665272388992344, 1627),\n",
       " (0.06665272388992344, 1024),\n",
       " (0.06665272388992344, 657),\n",
       " (0.06635431598691419, 1440),\n",
       " (0.06625056908026676, 3593),\n",
       " (0.06614688112922908, 2222),\n",
       " (0.06547348616970577, 3379),\n",
       " (0.0653612060422297, 1538),\n",
       " (0.06520336465448896, 838),\n",
       " (0.06466751723752433, 3027),\n",
       " (0.06465492387656137, 2520),\n",
       " (0.0646548626586584, 1960),\n",
       " (0.06465418882811985, 3561),\n",
       " (0.06411531540972999, 3326),\n",
       " (0.06411531540972999, 3227),\n",
       " (0.06411531540972999, 2305),\n",
       " (0.06411531540972999, 2156),\n",
       " (0.0636029235714908, 1513),\n",
       " (0.0636029235714908, 232),\n",
       " (0.0636029235714908, 18),\n",
       " (0.06323749630929582, 308),\n",
       " (0.06318643636048407, 1005),\n",
       " (0.0629078397270385, 480),\n",
       " (0.06280693029305306, 2267),\n",
       " (0.06267253292872893, 1981),\n",
       " (0.06262614799992017, 321),\n",
       " (0.06223970944741115, 3184),\n",
       " (0.06223970944741115, 3031),\n",
       " (0.06223970944741115, 2944),\n",
       " (0.06223970944741115, 2647),\n",
       " (0.06223970944741115, 2528),\n",
       " (0.06223970944741115, 2261),\n",
       " (0.06223970944741115, 1269),\n",
       " (0.06223970944741115, 1109),\n",
       " (0.06223970944741115, 554),\n",
       " (0.061875037120962144, 1923),\n",
       " (0.06140727767684645, 1386),\n",
       " (0.06140727767684645, 676),\n",
       " (0.06056653501020083, 2168),\n",
       " (0.060250802128668415, 165),\n",
       " (0.060250802128668415, 45),\n",
       " (0.05994314092925239, 3062),\n",
       " (0.05966279007113826, 1489),\n",
       " (0.05930676042299569, 3552),\n",
       " (0.05930676042299569, 3279),\n",
       " (0.05930676042299569, 2582),\n",
       " (0.05887865728619044, 2029),\n",
       " (0.05874277055865546, 2809),\n",
       " (0.05874277055865546, 2057),\n",
       " (0.05874277055865546, 1691),\n",
       " (0.05818984365244964, 3005),\n",
       " (0.058170306375909524, 83),\n",
       " (0.05782193861297909, 724),\n",
       " (0.057603615016187076, 1515),\n",
       " (0.05736559433202979, 912),\n",
       " (0.057328662152571715, 1653),\n",
       " (0.0572981332246339, 1895),\n",
       " (0.057278639132841085, 3127),\n",
       " (0.05723349016942431, 2619),\n",
       " (0.056972156157614307, 2709),\n",
       " (0.05692710501378155, 2239),\n",
       " (0.05692710501378155, 1734),\n",
       " (0.05669324088351885, 1485),\n",
       " (0.05629164404760687, 2605),\n",
       " (0.056261652931917275, 276),\n",
       " (0.0556305173179659, 2132),\n",
       " (0.05409261489050925, 3570),\n",
       " (0.05401782577623197, 2956),\n",
       " (0.0537737480462599, 3015),\n",
       " (0.05372865487456336, 2193),\n",
       " (0.05372865487456336, 1603),\n",
       " (0.05372865487456336, 42),\n",
       " (0.053678678512732204, 3510),\n",
       " (0.053678678512732204, 3055),\n",
       " (0.053678678512732204, 2737),\n",
       " (0.053678678512732204, 2292),\n",
       " (0.053678678512732204, 1475),\n",
       " (0.0535559031322681, 2204),\n",
       " (0.05320911850456852, 3267),\n",
       " (0.05278195787481886, 1016),\n",
       " (0.05276471404316158, 3417),\n",
       " (0.05215826345869817, 1678),\n",
       " (0.05209125940195265, 2525),\n",
       " (0.0519046425008299, 3544),\n",
       " (0.0519046425008299, 3157),\n",
       " (0.0519046425008299, 2343),\n",
       " (0.0519046425008299, 2229),\n",
       " (0.0519046425008299, 2181),\n",
       " (0.0519046425008299, 2102),\n",
       " (0.0519046425008299, 1767),\n",
       " (0.0519046425008299, 1681),\n",
       " (0.0519046425008299, 1279),\n",
       " (0.0519046425008299, 1152),\n",
       " (0.0519046425008299, 1056),\n",
       " (0.0519046425008299, 933),\n",
       " (0.0519046425008299, 781),\n",
       " (0.0519046425008299, 597),\n",
       " (0.0519046425008299, 564),\n",
       " (0.05106571031337636, 1818),\n",
       " (0.05088454875837883, 3440),\n",
       " (0.05083432050428875, 806),\n",
       " (0.05075270530839052, 1352),\n",
       " (0.05066274125893136, 1407),\n",
       " (0.05064686231186519, 3235),\n",
       " (0.05064686231186519, 3049),\n",
       " (0.05064686231186519, 2154),\n",
       " (0.05064686231186519, 1978),\n",
       " (0.05064686231186519, 546),\n",
       " (0.05047650027636294, 3308),\n",
       " (0.05045047194641812, 2940),\n",
       " (0.05015498573547457, 2407),\n",
       " (0.05003610110494951, 2638),\n",
       " (0.049965131311909425, 1857),\n",
       " (0.049699084253619324, 1260),\n",
       " (0.04968844665404247, 2939),\n",
       " (0.04961408573713415, 2584),\n",
       " (0.049371157672500735, 3002),\n",
       " (0.048988379483543856, 2133),\n",
       " (0.04889479288411176, 59),\n",
       " (0.04852289972335215, 3511),\n",
       " (0.04782918007631476, 3212),\n",
       " (0.04780126769093491, 3287),\n",
       " (0.04739568776687544, 1128),\n",
       " (0.04713188360435973, 1090),\n",
       " (0.04684334533235245, 686),\n",
       " (0.045782286176775905, 991),\n",
       " (0.045782286176775905, 547),\n",
       " (0.044426813623093246, 210),\n",
       " (0.04421624244917209, 2476),\n",
       " (0.04404782980214873, 189),\n",
       " (0.04394549538458208, 2443),\n",
       " (0.04330812414500303, 286),\n",
       " (0.0430792118856905, 3051),\n",
       " (0.0430792118856905, 2743),\n",
       " (0.0430792118856905, 2535),\n",
       " (0.0430792118856905, 1784),\n",
       " (0.0430792118856905, 1780),\n",
       " (0.0430792118856905, 1511),\n",
       " (0.0430792118856905, 1245),\n",
       " (0.0430792118856905, 520),\n",
       " (0.042437191690514124, 1427),\n",
       " (0.04195056275236846, 971),\n",
       " (0.04133729218523317, 3108),\n",
       " (0.0411072843750192, 2089),\n",
       " (0.04087119371535316, 264),\n",
       " (0.04075703312662236, 2515),\n",
       " (0.04070579986286472, 2920),\n",
       " (0.040658805802861596, 2401),\n",
       " (0.040658805802861596, 1294),\n",
       " (0.040324526592121455, 1027),\n",
       " (0.04009109693491535, 1002),\n",
       " (0.04003947733265115, 2235),\n",
       " (0.03986178588058739, 44),\n",
       " (0.039806574716608534, 2747),\n",
       " (0.03916276799695696, 2959),\n",
       " (0.03895783883064058, 121),\n",
       " (0.03886975825754995, 3151),\n",
       " (0.037949811051654674, 1697),\n",
       " (0.03787915150593886, 988),\n",
       " (0.03778643046618034, 1760),\n",
       " (0.03760945476795517, 3567),\n",
       " (0.037570321593381736, 1006),\n",
       " (0.03734656421839841, 1342),\n",
       " (0.03695785712609145, 1728),\n",
       " (0.036352258130176854, 3462),\n",
       " (0.036352258130176854, 3345),\n",
       " (0.036352258130176854, 2553),\n",
       " (0.036352258130176854, 1920),\n",
       " (0.036352258130176854, 833),\n",
       " (0.036352258130176854, 412),\n",
       " (0.036352258130176854, 296),\n",
       " (0.03577688073260411, 967),\n",
       " (0.03560089858905018, 864),\n",
       " (0.034574009977067485, 2145),\n",
       " (0.03334513722893572, 2358),\n",
       " (0.032660213889101807, 2491),\n",
       " (0.032597330592811294, 2257),\n",
       " (0.03231527635899606, 2399),\n",
       " (0.03185242650635127, 1371),\n",
       " (0.031736620704383225, 1072),\n",
       " (0.031539107217706544, 577),\n",
       " (0.030430239585853284, 2770),\n",
       " (0.02998866781255378, 3435),\n",
       " (0.028876242210061263, 992),\n",
       " (0.028339921415688255, 2556),\n",
       " (0.02830082112641956, 2702),\n",
       " (0.027594974916663805, 3487),\n",
       " (0.026859811054221697, 2480),\n",
       " (0.026529941248991648, 2233),\n",
       " (0.02592271812945578, 469),\n",
       " (0.025795862020082362, 7),\n",
       " (0.024406105040341918, 2797),\n",
       " (0.023702711973049566, 1101),\n",
       " (0.02325780737879838, 3460),\n",
       " (0.022688675513421592, 1325),\n",
       " (0.022554314177628206, 3361),\n",
       " (0.022495155987718986, 736),\n",
       " (0.02195163935396037, 2757),\n",
       " (0.02101962954572354, 3597),\n",
       " (0.02052394638909644, 653),\n",
       " (0.020451555725935988, 3001),\n",
       " (0.020377391157551394, 2581),\n",
       " (0.020105667317269697, 3067),\n",
       " (0.020004869188262456, 2500),\n",
       " (0.01930729540446397, 2284),\n",
       " (0.018464242500445156, 1317),\n",
       " (0.017242882774147508, 1591),\n",
       " (0.016981434555311235, 1162),\n",
       " (0.01611432331683555, 1129),\n",
       " (0.015870576230638048, 570),\n",
       " (0.015776537071841405, 3568),\n",
       " (0.015364349661739118, 3342),\n",
       " (0.014647424518044197, 2074),\n",
       " (0.01464050992657452, 1259),\n",
       " (0.013815406926773178, 1801),\n",
       " (0.013701921614136102, 860),\n",
       " (0.01360063940569112, 1617),\n",
       " (0.012917175035228575, 3337),\n",
       " (0.012676885951151714, 1964),\n",
       " (0.012613613124250304, 2496),\n",
       " (0.012512852797124758, 472),\n",
       " (0.011881282417089205, 586),\n",
       " (0.011043044979798704, 2110),\n",
       " (0.010933967663776942, 3220),\n",
       " (0.010610135611298569, 252),\n",
       " ...]"
      ]
     },
     "execution_count": 74,
     "metadata": {},
     "output_type": "execute_result"
    }
   ],
   "source": [
    "# 위에거는 상위 n개의 긍정적인 인덱스, 아래거는 상위 n개의 부정적인 인덱스\n",
    "coef_pos_index = sorted(((value, index) for index, value in enumerate(lr.coef_[0])), reverse=True)\n",
    "coef_neg_index = sorted(((value, index) for index, value in enumerate(lr.coef_[0])), reverse=False)\n",
    "coef_pos_index"
   ]
  },
  {
   "cell_type": "code",
   "execution_count": null,
   "metadata": {
    "id": "bQuDlc-GFbwJ"
   },
   "outputs": [],
   "source": [
    "# invert_index_vectorizer = {v: k for k, v in vect.vocabulary_.items()}"
   ]
  },
  {
   "cell_type": "code",
   "execution_count": null,
   "metadata": {
    "colab": {
     "base_uri": "https://localhost:8080/"
    },
    "executionInfo": {
     "elapsed": 682,
     "status": "ok",
     "timestamp": 1676466293497,
     "user": {
      "displayName": "버물리",
      "userId": "16343119817703036426"
     },
     "user_tz": -540
    },
    "id": "POmHB6T73FES",
    "outputId": "97455f0c-2da1-40a6-dd05-5c4465fede58"
   },
   "outputs": [
    {
     "data": {
      "text/plain": [
       "{2866: '집중',\n",
       " 3588: '휴식',\n",
       " 2696: '제공',\n",
       " 2311: '위치',\n",
       " 1584: '선정',\n",
       " 790: '또한',\n",
       " 2927: '청소',\n",
       " 2925: '청결',\n",
       " 1527: '상태',\n",
       " 2392: '이상',\n",
       " 3022: '침대',\n",
       " 2388: '이불',\n",
       " 3021: '침구',\n",
       " 299: '교체',\n",
       " 2013: '어메니티',\n",
       " 1296: '보강',\n",
       " 1277: '베스트',\n",
       " 2299: '웨스턴',\n",
       " 3564: '회원',\n",
       " 185: '경우',\n",
       " 106: '객실',\n",
       " 3009: '층수',\n",
       " 2234: '요청',\n",
       " 2606: '적극',\n",
       " 1188: '반영',\n",
       " 2837: '지인',\n",
       " 1629: '소개',\n",
       " 2910: '처음',\n",
       " 611: '당황',\n",
       " 1607: '세면',\n",
       " 675: '도구',\n",
       " 2555: '잠옷',\n",
       " 3358: '필수',\n",
       " 361: '그것',\n",
       " 2673: '정도',\n",
       " 578: '다음',\n",
       " 2074: '여기',\n",
       " 1171: '박만',\n",
       " 2595: '저녁',\n",
       " 981: '맥주',\n",
       " 3414: '한잔',\n",
       " 838: '렌트',\n",
       " 791: '뚜벅',\n",
       " 1159: '바로',\n",
       " 1247: '버스',\n",
       " 2676: '정류',\n",
       " 697: '도착',\n",
       " 24: '가방',\n",
       " 2487: '일찍',\n",
       " 2685: '정비',\n",
       " 1225: '방이',\n",
       " 2500: '입실',\n",
       " 2038: '업그레이드',\n",
       " 2849: '직원',\n",
       " 2680: '정말',\n",
       " 1148: '바다',\n",
       " 2623: '전망',\n",
       " 2636: '전일',\n",
       " 3425: '함덕',\n",
       " 624: '대명',\n",
       " 3091: '콘도',\n",
       " 1861: '실내',\n",
       " 1384: '분위기',\n",
       " 1659: '손님',\n",
       " 40: '가장',\n",
       " 1241: '배치',\n",
       " 651: '대해',\n",
       " 634: '대응',\n",
       " 1889: '써비스',\n",
       " 2730: '조식',\n",
       " 1351: '부분',\n",
       " 1838: '신경',\n",
       " 1922: '아주',\n",
       " 3208: '특급',\n",
       " 3191: '트랜디',\n",
       " 210: '고민',\n",
       " 3593: '흔적',\n",
       " 2082: '여름',\n",
       " 1700: '수영장',\n",
       " 1483: '사용',\n",
       " 1297: '보고',\n",
       " 2035: '엄마',\n",
       " 2: '가격',\n",
       " 627: '대비',\n",
       " 2769: '주위',\n",
       " 924: '마트',\n",
       " 1826: '식당',\n",
       " 1816: '시장',\n",
       " 1217: '방문',\n",
       " 2361: '의사',\n",
       " 726: '동안',\n",
       " 2695: '정해진',\n",
       " 3580: '휘슬',\n",
       " 269: '공항',\n",
       " 1539: '생각',\n",
       " 1809: '시설',\n",
       " 1028: '모두',\n",
       " 3017: '친절',\n",
       " 1029: '모드',\n",
       " 917: '마지막',\n",
       " 900: '마무리',\n",
       " 3156: '테라스',\n",
       " 2612: '전경',\n",
       " 2427: '인근',\n",
       " 2583: '재래시장',\n",
       " 1979: '야시장',\n",
       " 2402: '이용도',\n",
       " 2400: '이용',\n",
       " 2488: '일차',\n",
       " 3581: '휘슬락',\n",
       " 2940: '체크',\n",
       " 2761: '주변',\n",
       " 2094: '여친',\n",
       " 2975: '추억',\n",
       " 26: '가성',\n",
       " 2977: '추천',\n",
       " 3575: '후회',\n",
       " 2145: '예전',\n",
       " 372: '그랜드',\n",
       " 2605: '저희',\n",
       " 1918: '아이',\n",
       " 708: '돌잔치',\n",
       " 581: '다정',\n",
       " 3470: '했었더랬',\n",
       " 2642: '전통',\n",
       " 1004: '메종',\n",
       " 387: '글래드',\n",
       " 1563: '서비스',\n",
       " 969: '매우',\n",
       " 3428: '합리',\n",
       " 635: '대의',\n",
       " 1018: '명절',\n",
       " 1721: '숙박',\n",
       " 1928: '아티',\n",
       " 1243: '백미',\n",
       " 3061: '커피',\n",
       " 1280: '베이커리',\n",
       " 43: '가족',\n",
       " 3342: '플러스',\n",
       " 2816: '지금',\n",
       " 2257: '우선',\n",
       " 2664: '접근성',\n",
       " 1671: '쇼핑',\n",
       " 940: '만족도',\n",
       " 2957: '최고',\n",
       " 1078: '무엇',\n",
       " 423: '기억',\n",
       " 2251: '우리',\n",
       " 2902: '찾기',\n",
       " 300: '교통',\n",
       " 2418: '이틀',\n",
       " 2691: '정원',\n",
       " 109: '거기',\n",
       " 160: '겨울',\n",
       " 3016: '친구',\n",
       " 541: '놀러와',\n",
       " 3185: '투숙',\n",
       " 1981: '야외',\n",
       " 1235: '방향',\n",
       " 1976: '야간',\n",
       " 2726: '조명',\n",
       " 1723: '순간',\n",
       " 638: '대접',\n",
       " 1868: '실명',\n",
       " 112: '거론',\n",
       " 3337: '프론트',\n",
       " 2378: '이름',\n",
       " 1938: '안나',\n",
       " 416: '기분',\n",
       " 1037: '모습',\n",
       " 2921: '첫날',\n",
       " 1761: '스타트',\n",
       " 576: '다시',\n",
       " 1578: '선물',\n",
       " 3032: '카운터',\n",
       " 1939: '안내',\n",
       " 777: '디너',\n",
       " 438: '기회',\n",
       " 1121: '미니바',\n",
       " 1067: '무료',\n",
       " 2959: '최근',\n",
       " 281: '관광지',\n",
       " 1719: '숙고',\n",
       " 88: '강추',\n",
       " 1977: '야경',\n",
       " 2475: '일부러',\n",
       " 2476: '일어나서',\n",
       " 714: '동네',\n",
       " 1168: '바퀴',\n",
       " 990: '먹방',\n",
       " 1843: '신라',\n",
       " 3105: '퀄리티',\n",
       " 1024: '모녀',\n",
       " 2711: '제주시',\n",
       " 2313: '위해',\n",
       " 1586: '선택',\n",
       " 2180: '오픈',\n",
       " 2143: '예약',\n",
       " 622: '대로',\n",
       " 115: '거리',\n",
       " 657: '더군다나',\n",
       " 1627: '셔틀버스',\n",
       " 2271: '운행',\n",
       " 670: '데스크',\n",
       " 2880: '차안',\n",
       " 1374: '분도',\n",
       " 2438: '인상',\n",
       " 3201: '트윈',\n",
       " 1489: '사이즈',\n",
       " 939: '만족',\n",
       " 1758: '스타',\n",
       " 45: '가짓수',\n",
       " 558: '느낌',\n",
       " 3538: '화장실',\n",
       " 505: '내부',\n",
       " 2455: '인테리어',\n",
       " 2859: '질적',\n",
       " 2368: '이건',\n",
       " 100: '개인',\n",
       " 3005: '취향',\n",
       " 321: '구비',\n",
       " 273: '과일',\n",
       " 480: '나이프',\n",
       " 3295: '포크',\n",
       " 1364: '부탁',\n",
       " 2786: '준비',\n",
       " 3305: '표방',\n",
       " 1046: '모텔',\n",
       " 165: '결론',\n",
       " 3577: '훌륭',\n",
       " 1799: '시간',\n",
       " 1737: '슈페리어킹룸',\n",
       " 3376: '하루',\n",
       " 3570: '후기',\n",
       " 2836: '지은지',\n",
       " 2033: '얼마',\n",
       " 136: '건물',\n",
       " 1985: '약간',\n",
       " 2318: '유럽',\n",
       " 1760: '스타일',\n",
       " 378: '그림',\n",
       " 2715: '조각',\n",
       " 1323: '복도',\n",
       " 2633: '전시',\n",
       " 2630: '전부',\n",
       " 3039: '카펫',\n",
       " 770: '등급',\n",
       " 567: '다른',\n",
       " 2394: '이서',\n",
       " 2512: '자기',\n",
       " 2722: '조금',\n",
       " 2218: '외투',\n",
       " 2206: '완전',\n",
       " 2856: '진짜',\n",
       " 1626: '셔틀',\n",
       " 1127: '미리',\n",
       " 1821: '시티',\n",
       " 2162: '오름',\n",
       " 570: '다만',\n",
       " 680: '도로',\n",
       " 39: '가인',\n",
       " 276: '관계',\n",
       " 2876: '차량',\n",
       " 1638: '소리',\n",
       " 574: '다소',\n",
       " 1215: '방도',\n",
       " 3273: '편의점',\n",
       " 3027: '칫솔',\n",
       " 709: '동계',\n",
       " 3576: '훈련',\n",
       " 795: '라마',\n",
       " 2116: '연인',\n",
       " 2641: '전체',\n",
       " 1493: '사진',\n",
       " 2920: '첨부',\n",
       " 2064: '엘리베이터',\n",
       " 1873: '실시간',\n",
       " 1440: '비행기',\n",
       " 3151: '택시',\n",
       " 1128: '미만',\n",
       " 2374: '이동',\n",
       " 9: '가능',\n",
       " 2961: '최상',\n",
       " 2235: '욕실',\n",
       " 1791: '슬리퍼',\n",
       " 2304: '위생',\n",
       " 2123: '염려',\n",
       " 1590: '설날',\n",
       " 788: '떡국',\n",
       " 840: '려고',\n",
       " 3495: '현장',\n",
       " 167: '결재',\n",
       " 3559: '황스',\n",
       " 841: '려운',\n",
       " 2789: '중국',\n",
       " 932: '만두',\n",
       " 2744: '종류',\n",
       " 1293: '별로',\n",
       " 316: '구만',\n",
       " 996: '메뉴',\n",
       " 603: '답변',\n",
       " 2709: '제일',\n",
       " 2779: '주차',\n",
       " 131: '걱정',\n",
       " 3423: '할아버지',\n",
       " 1945: '안심',\n",
       " 3067: '컨디션',\n",
       " 1095: '문어',\n",
       " 2909: '처리',\n",
       " 3561: '회사',\n",
       " 2988: '출장',\n",
       " 1567: '서울',\n",
       " 64: '간혹',\n",
       " 2386: '이벤트',\n",
       " 3460: '해주시',\n",
       " 1344: '부대',\n",
       " 3435: '항상',\n",
       " 855: '롯데',\n",
       " 1434: '비지니스',\n",
       " 2097: '여행객',\n",
       " 1664: '손색',\n",
       " 2236: '욕조',\n",
       " 175: '겸비',\n",
       " 1459: '사계절',\n",
       " 1715: '수풀',\n",
       " 2794: '중문',\n",
       " 3306: '표선등',\n",
       " 2281: '원거리',\n",
       " 2101: '여행지',\n",
       " 1322: '복귀',\n",
       " 1805: '시내',\n",
       " 2323: '유명',\n",
       " 2462: '일단',\n",
       " 2781: '주차장',\n",
       " 2844: '지하',\n",
       " 246: '공간',\n",
       " 2356: '응대',\n",
       " 1097: '문의사항',\n",
       " 1850: '신지',\n",
       " 71: '감동',\n",
       " 2106: '역시',\n",
       " 2566: '장도',\n",
       " 807: '락타',\n",
       " 1550: '샤워',\n",
       " 896: '마련',\n",
       " 3089: '코인',\n",
       " 1620: '세탁실',\n",
       " 2167: '오션',\n",
       " 994: '멀리',\n",
       " 497: '남자친구',\n",
       " 665: '덕분',\n",
       " 2385: '이번',\n",
       " 3331: '프런트',\n",
       " 1239: '배정',\n",
       " 2415: '이착륙',\n",
       " 3120: '클리닝',\n",
       " 382: '근무',\n",
       " 1923: '아주머니',\n",
       " 2436: '인사',\n",
       " 3085: '코로나',\n",
       " 1496: '사태',\n",
       " 535: '노화',\n",
       " 1286: '벽지',\n",
       " 2756: '주름',\n",
       " 2814: '지고',\n",
       " 3133: '타일',\n",
       " 4: '가구',\n",
       " 3082: '코너',\n",
       " 243: '곳곳이',\n",
       " 279: '관광객',\n",
       " 2449: '인지',\n",
       " 1463: '사람',\n",
       " 1369: '북적',\n",
       " 2627: '전반',\n",
       " 284: '관리',\n",
       " 3274: '편이',\n",
       " 3346: '피드백',\n",
       " 3276: '편입',\n",
       " 686: '도시',\n",
       " 278: '관광',\n",
       " 3214: '특화',\n",
       " 2834: '지역',\n",
       " 385: '근처',\n",
       " 3034: '카페',\n",
       " 6: '가기',\n",
       " 221: '고유',\n",
       " 3210: '특색',\n",
       " 1768: '스테이',\n",
       " 10: '가도',\n",
       " 1759: '스타벅스',\n",
       " 1263: '번화가',\n",
       " 1924: '아침',\n",
       " 3057: '커서',\n",
       " 1224: '방음',\n",
       " 988: '먹거리',\n",
       " 588: '단점',\n",
       " 797: '라면',\n",
       " 2170: '오심',\n",
       " 2411: '이중',\n",
       " 3523: '혼자',\n",
       " 157: '겐찮은듯',\n",
       " 563: '다그',\n",
       " 694: '도일',\n",
       " 456: '께빵',\n",
       " 2793: '중국인',\n",
       " 3127: '타고',\n",
       " 556: '눈앞',\n",
       " 44: '가지',\n",
       " 3598: '힐링',\n",
       " 3354: '피트니스',\n",
       " 3254: '패키지',\n",
       " 1122: '미닫이',\n",
       " 847: '로비',\n",
       " 1421: '비롯',\n",
       " 1030: '모든',\n",
       " 52: '각종',\n",
       " 1103: '물건',\n",
       " 1926: '아침식사',\n",
       " 1207: '밥맛',\n",
       " 3349: '피아노',\n",
       " 2118: '연주',\n",
       " 867: '룸타입',\n",
       " 3250: '패밀리',\n",
       " 121: '거실',\n",
       " 3412: '한실',\n",
       " 1562: '서부',\n",
       " 1690: '수산시장',\n",
       " 1534: '새벽',\n",
       " 182: '경매',\n",
       " 304: '구경',\n",
       " 2972: '추가',\n",
       " 2022: '어차피',\n",
       " 3496: '현재',\n",
       " 1090: '묵고',\n",
       " 2453: '인터넷',\n",
       " 2840: '지정',\n",
       " 1952: '안해',\n",
       " 3330: '프런터',\n",
       " 1096: '문의',\n",
       " 2135: '영화',\n",
       " 1810: '시스템',\n",
       " 3219: '티브이',\n",
       " 2903: '채널',\n",
       " 1020: '몇개',\n",
       " 3092: '콘센트',\n",
       " 3341: '플러그',\n",
       " 2201: '와이프',\n",
       " 2995: '충전',\n",
       " 168: '결정',\n",
       " 594: '달라',\n",
       " 190: '경험',\n",
       " 2579: '장점',\n",
       " 2439: '인생',\n",
       " 2966: '최악',\n",
       " 2797: '중심',\n",
       " 1153: '바닷가',\n",
       " 1413: '비교',\n",
       " 3275: '편임',\n",
       " 3408: '한번',\n",
       " 2146: '예정',\n",
       " 3585: '휴가',\n",
       " 1750: '스위트룸',\n",
       " 2322: '유리창',\n",
       " 2312: '위트',\n",
       " 3050: '캠핑',\n",
       " 3160: '테이블',\n",
       " 1621: '세트',\n",
       " 3161: '텐트',\n",
       " 2054: '에어컨',\n",
       " 2543: '작은방',\n",
       " 975: '매트',\n",
       " 2520: '자리',\n",
       " 3142: '탑동',\n",
       " 263: '공원',\n",
       " 3338: '프리',\n",
       " 923: '마켓',\n",
       " 259: '공연',\n",
       " 971: '매일',\n",
       " 1833: '식사',\n",
       " 282: '관덕정',\n",
       " 2682: '정문',\n",
       " 684: '도보',\n",
       " 1645: '소요',\n",
       " 3458: '해장국',\n",
       " 717: '동문',\n",
       " 1560: '서문시장',\n",
       " 1047: '목관',\n",
       " 960: '맞은편',\n",
       " 1792: '슬슬',\n",
       " 1291: '별관',\n",
       " 1330: '본관',\n",
       " 68: '갈수',\n",
       " 2965: '최신',\n",
       " 377: '그린',\n",
       " 3545: '환경',\n",
       " 787: '때문',\n",
       " 1292: '별도',\n",
       " 641: '대중교통',\n",
       " 317: '구매',\n",
       " 1882: '심플',\n",
       " 1438: '비품',\n",
       " 3205: '트윈침대',\n",
       " 1763: '스탠다드',\n",
       " 548: '높이',\n",
       " 3404: '한라산',\n",
       " 525: '노곤',\n",
       " 3152: '터미널',\n",
       " 2189: '온돌룸',\n",
       " 1608: '세면대',\n",
       " 1114: '물이',\n",
       " 3013: '치약',\n",
       " 150: '것임',\n",
       " 1545: '생수',\n",
       " 3550: '환승',\n",
       " 231: '곧바로',\n",
       " 710: '동광양',\n",
       " 2677: '정류장',\n",
       " 1818: '시청',\n",
       " 1771: '스텝',\n",
       " 3502: '협소하',\n",
       " 130: '거품',\n",
       " 3131: '타월',\n",
       " 3537: '화장',\n",
       " 612: '대가',\n",
       " 123: '거울',\n",
       " 1670: '쇼파',\n",
       " 2739: '조합',\n",
       " 395: '금액',\n",
       " 2780: '주차공간',\n",
       " 267: '공터',\n",
       " 3150: '태풍',\n",
       " 104: '개층',\n",
       " 2184: '오후',\n",
       " 3409: '한시',\n",
       " 1485: '사우나',\n",
       " 1349: '부모님',\n",
       " 3422: '할머니',\n",
       " 1038: '모시',\n",
       " 197: '계획',\n",
       " 2464: '일로',\n",
       " 1445: '빠듯해',\n",
       " 2004: '어디',\n",
       " 441: '길가',\n",
       " 235: '골목길',\n",
       " 2377: '이륙',\n",
       " 2887: '착륙',\n",
       " 1310: '보이',\n",
       " 363: '그냥',\n",
       " 2469: '일반',\n",
       " 633: '대욕',\n",
       " 3489: '헬스장',\n",
       " 19: '가면',\n",
       " 206: '고려',\n",
       " 837: '렌터카',\n",
       " 2496: '입구',\n",
       " 1182: '반대쪽',\n",
       " 3416: '한정',\n",
       " 591: '단체',\n",
       " 660: '더블',\n",
       " 2708: '제외',\n",
       " 2088: '여유',\n",
       " 1183: '반대편',\n",
       " 688: '도심',\n",
       " 1387: '불구',\n",
       " 1648: '소음',\n",
       " 125: '거의',\n",
       " 1609: '세명',\n",
       " 3199: '트리플',\n",
       " 2618: '전날',\n",
       " 495: '남아',\n",
       " 2534: '자체',\n",
       " 610: '당일',\n",
       " 2683: '정보',\n",
       " 3468: '햇반',\n",
       " 2580: '장조림',\n",
       " 2637: '전자',\n",
       " 831: '레인지',\n",
       " 33: '가야',\n",
       " 1610: '세미나',\n",
       " 3400: '한국인',\n",
       " 369: '그대로',\n",
       " 469: '나름',\n",
       " 2697: '제과점',\n",
       " 2670: '정거장',\n",
       " 1022: '모기',\n",
       " 944: '만해',\n",
       " 898: '마리',\n",
       " 16: '가량',\n",
       " 1222: '방안',\n",
       " 2058: '에프킬라',\n",
       " 1435: '비치',\n",
       " 195: '계속',\n",
       " 1456: '뿌리',\n",
       " 2557: '잡고',\n",
       " 2891: '찬장',\n",
       " 2915: '천장',\n",
       " 242: '곳곳',\n",
       " 3008: '측은',\n",
       " 1265: '벌레',\n",
       " 414: '기본',\n",
       " 2223: '요금',\n",
       " 135: '건너편',\n",
       " 1262: '번호',\n",
       " 1538: '샐러드',\n",
       " 2349: '음식',\n",
       " 326: '구성',\n",
       " 2629: '전복죽',\n",
       " 2601: '저번',\n",
       " 3464: '핸드폰',\n",
       " 2996: '충전기',\n",
       " 1400: '불편',\n",
       " 1622: '센터',\n",
       " 256: '공사',\n",
       " 1720: '숙면',\n",
       " 1061: '무난',\n",
       " 528: '노력',\n",
       " 2826: '지불',\n",
       " 1430: '비용',\n",
       " 845: '로맨틱',\n",
       " 702: '독립',\n",
       " 1368: '북유럽',\n",
       " 2321: '유리',\n",
       " 3059: '커튼',\n",
       " 1145: '바깥',\n",
       " 1595: '설치',\n",
       " 1025: '모던',\n",
       " 1418: '비데',\n",
       " 3569: '효율',\n",
       " 2451: '인치',\n",
       " 1512: '삼성',\n",
       " 927: '만끽',\n",
       " 3270: '편안함',\n",
       " 2091: '여정',\n",
       " 1151: '바닥',\n",
       " 1052: '목적',\n",
       " 3060: '커플',\n",
       " 464: '끼리',\n",
       " 2852: '직진',\n",
       " 2268: '운전',\n",
       " 261: '공영',\n",
       " 1962: '애기',\n",
       " 1074: '무선인터넷',\n",
       " 80: '갑자기',\n",
       " 1568: '서전',\n",
       " 3432: '항공',\n",
       " 562: '다가',\n",
       " 5: '가급',\n",
       " 169: '결제',\n",
       " 2342: '은방',\n",
       " 1533: '상황',\n",
       " 1914: '아시',\n",
       " 227: '고트',\n",
       " 2822: '지도',\n",
       " 1614: '세심',\n",
       " 257: '공시',\n",
       " 1815: '시작',\n",
       " 982: '맥주잔',\n",
       " 3102: '쿠폰',\n",
       " 2463: '일도',\n",
       " 3108: '크기',\n",
       " 864: '룸서비스',\n",
       " 2690: '정신',\n",
       " 3277: '평가',\n",
       " 3272: '편의',\n",
       " 2233: '요즘',\n",
       " 2078: '여러',\n",
       " 2848: '직언',\n",
       " 1412: '블룸',\n",
       " 1288: '변기',\n",
       " 1115: '물질',\n",
       " 1997: '얘기',\n",
       " 1675: '수건',\n",
       " 3548: '환불',\n",
       " 2293: '월일',\n",
       " 3313: '푸른',\n",
       " 3223: '파도',\n",
       " 2918: '철썩',\n",
       " 3320: '풍경',\n",
       " 1544: '생선회',\n",
       " 2573: '장소',\n",
       " 543: '놀이',\n",
       " 1989: '양도',\n",
       " 735: '돼지',\n",
       " 2613: '전골',\n",
       " 970: '매운탕',\n",
       " 3512: '형편',\n",
       " 1406: '브런치',\n",
       " 751: '뒤쪽',\n",
       " 956: '맛집',\n",
       " 2869: '쭈욱',\n",
       " 79: '갑인',\n",
       " 764: '드타',\n",
       " 1233: '방파제',\n",
       " 3567: '횟집',\n",
       " 3129: '타운',\n",
       " 3448: '해산물',\n",
       " 356: '규모',\n",
       " 7: '가까이',\n",
       " 2008: '어르신',\n",
       " 454: '깨끗',\n",
       " 629: '대신',\n",
       " 2538: '작고',\n",
       " 1697: '수영',\n",
       " 1912: '아쉬움',\n",
       " 2430: '인도',\n",
       " 1634: '소독약',\n",
       " 1745: '스비',\n",
       " 3525: '홀로',\n",
       " 775: '등정후',\n",
       " 1365: '부터',\n",
       " 3520: '혹시',\n",
       " 3543: '확인',\n",
       " 2645: '전화',\n",
       " 3180: '통해',\n",
       " 3582: '휘트니',\n",
       " 2266: '운동복',\n",
       " 1698: '수영모',\n",
       " 219: '고오',\n",
       " 1157: '바람',\n",
       " 631: '대여',\n",
       " 2093: '여직원',\n",
       " 1077: '무시',\n",
       " 951: '말투',\n",
       " 2284: '원래',\n",
       " 2700: '제로',\n",
       " 2267: '운영',\n",
       " 2470: '일반인',\n",
       " 2503: '입장',\n",
       " 1583: '선심',\n",
       " 3360: '필요',\n",
       " 430: '기전',\n",
       " 620: '대뜸',\n",
       " 3528: '화가',\n",
       " 200: '고객',\n",
       " 3343: '플레인',\n",
       " 1800: '시경',\n",
       " 1917: '아웃',\n",
       " 3382: '하야',\n",
       " 998: '메리어트',\n",
       " 2081: '여럿',\n",
       " 2397: '이어도',\n",
       " 1707: '수준',\n",
       " 2370: '이군',\n",
       " 1867: '실망',\n",
       " 2747: '종일',\n",
       " 880: '리셉션',\n",
       " 3070: '컨시어',\n",
       " 3147: '태도',\n",
       " 2319: '유료',\n",
       " 1460: '사고',\n",
       " 3393: '학생',\n",
       " 1580: '선생님',\n",
       " 2005: '어딘',\n",
       " 1498: '사항',\n",
       " 1075: '무슨',\n",
       " 128: '거지',\n",
       " 879: '리빙룸',\n",
       " 3368: '하나요',\n",
       " 3202: '트윈룸',\n",
       " 1065: '무려',\n",
       " 156: '게재',\n",
       " 1869: '실물',\n",
       " 2881: '차이',\n",
       " 1879: '실화',\n",
       " 3231: '파우더',\n",
       " 240: '곰팡이',\n",
       " 2511: '자국',\n",
       " 2539: '작동',\n",
       " 233: '골드스타',\n",
       " 517: '냉장고',\n",
       " 2649: '절대',\n",
       " 826: '레스토랑',\n",
       " 2513: '자꾸',\n",
       " 2687: '정색',\n",
       " 1510: '살짝',\n",
       " 1561: '서버',\n",
       " 669: '데리',\n",
       " 32: '가신',\n",
       " 470: '나머지',\n",
       " 1105: '물기',\n",
       " 2851: '직접',\n",
       " 2931: '체계',\n",
       " 2048: '엉망',\n",
       " 1630: '소규모',\n",
       " 1803: '시기',\n",
       " 910: '마음',\n",
       " 886: '리트',\n",
       " 794: '라그',\n",
       " 409: '기대',\n",
       " 1862: '실내수영장',\n",
       " 1701: '수온',\n",
       " 1749: '스위트',\n",
       " 1427: '비수',\n",
       " 1515: '상대',\n",
       " 536: '노후',\n",
       " 2669: '정가',\n",
       " 1072: '무리',\n",
       " 3424: '할인',\n",
       " 3473: '행사',\n",
       " 2893: '참고',\n",
       " 3298: '포함',\n",
       " 913: '마일리지',\n",
       " 650: '대한항공',\n",
       " 3377: '하룻밤',\n",
       " 3542: '확실',\n",
       " 2115: '연식',\n",
       " 201: '고급',\n",
       " 2280: '원가',\n",
       " 1566: '서우',\n",
       " 3453: '해수욕장',\n",
       " 3402: '한눈',\n",
       " 2900: '창문',\n",
       " 161: '겨울철',\n",
       " 2187: '온도',\n",
       " 870: '리기',\n",
       " 1214: '방기',\n",
       " 725: '동시',\n",
       " 1221: '방식',\n",
       " 621: '대략',\n",
       " 695: '도정',\n",
       " 1352: '부스',\n",
       " 2137: '옆방',\n",
       " 3220: '티비',\n",
       " 3001: '취침',\n",
       " 2946: '초등학생',\n",
       " 1996: '양호',\n",
       " 3411: '한식당',\n",
       " 2875: '차라리',\n",
       " 1184: '반드시',\n",
       " 3107: '크게',\n",
       " 1896: '씨유',\n",
       " 674: '델문',\n",
       " 3035: '카페나',\n",
       " 3452: '해수욕',\n",
       " 2969: '최적',\n",
       " 778: '디럭스',\n",
       " 1203: '발코니',\n",
       " 1034: '모로',\n",
       " 3203: '트윈룸입니',\n",
       " 1585: '선착순',\n",
       " 2142: '예술',\n",
       " 1106: '물놀이',\n",
       " 1031: '모래',\n",
       " 3352: '피크',\n",
       " 1817: '시즌',\n",
       " 491: '날씨',\n",
       " 1581: '선선',\n",
       " 381: '근래',\n",
       " 3269: '편리',\n",
       " 3086: '코르',\n",
       " 434: '기지',\n",
       " 1481: '사양',\n",
       " 2782: '주체',\n",
       " 302: '교회',\n",
       " 2653: '절반',\n",
       " 2440: '인수',\n",
       " 1314: '보임',\n",
       " 1927: '아트',\n",
       " 2976: '추정',\n",
       " 3333: '프로',\n",
       " 3264: '페셔',\n",
       " 2432: '인력',\n",
       " 976: '매트리스',\n",
       " 472: '나무',\n",
       " 3482: '허리',\n",
       " 1934: '안감',\n",
       " 3447: '해변',\n",
       " 2275: '워낙',\n",
       " 31: '가시',\n",
       " 2757: '주말',\n",
       " 3397: '한국',\n",
       " 1270: '벚꽃',\n",
       " 403: '기간',\n",
       " 3503: '협재',\n",
       " 2197: '옹포',\n",
       " 1209: '밥집',\n",
       " 1505: '산책',\n",
       " 860: '루프',\n",
       " 1425: '비바람',\n",
       " 1396: '불어',\n",
       " 1410: '블로거',\n",
       " 1108: '물떄',\n",
       " 360: '그거',\n",
       " 2308: '위주',\n",
       " 3317: '풀이',\n",
       " 2192: '온수',\n",
       " 1133: '미온수',\n",
       " 1132: '미온',\n",
       " 2536: '자쿠지',\n",
       " 2551: '잠깐',\n",
       " 2458: '인피니트',\n",
       " 3549: '환상',\n",
       " 3365: '하나',\n",
       " 1782: '스페',\n",
       " 3015: '치킨',\n",
       " 1446: '빠에야',\n",
       " 1779: '스파',\n",
       " 333: '구조',\n",
       " 1780: '스파룸',\n",
       " 2535: '자쿠',\n",
       " 2401: '이용권',\n",
       " 3371: '하니',\n",
       " 1487: '사이',\n",
       " 1820: '시트',\n",
       " 2678: '정리',\n",
       " 1511: '삼다수',\n",
       " 1294: '병과',\n",
       " 520: '네스프레소',\n",
       " 3051: '캡슐',\n",
       " 2089: '여자',\n",
       " 3347: '피로',\n",
       " 1784: '스페인',\n",
       " 2132: '영업',\n",
       " 2743: '종료',\n",
       " 1245: '버거',\n",
       " 2161: '오른쪽',\n",
       " 893: '마담',\n",
       " 482: '나탈리',\n",
       " 2351: '음악',\n",
       " 3362: '필터',\n",
       " 1875: '실외수영장',\n",
       " 147: '검색',\n",
       " 2186: '옥상',\n",
       " 164: '결과',\n",
       " 653: '대형',\n",
       " 942: '만큼',\n",
       " 1260: '번잡',\n",
       " 98: '개수대',\n",
       " 2407: '이전',\n",
       " 1909: '아무',\n",
       " 884: '리지',\n",
       " 2714: '제한',\n",
       " 189: '경치',\n",
       " 2403: '이웃',\n",
       " 2467: '일몰',\n",
       " 1877: '실제',\n",
       " 883: '리조트',\n",
       " 3527: '홍보',\n",
       " 1529: '상통',\n",
       " 3532: '화산',\n",
       " 1166: '바위',\n",
       " 2686: '정상',\n",
       " 431: '기점',\n",
       " 1770: '스템',\n",
       " 2556: '잠자리',\n",
       " 435: '기타',\n",
       " 1359: '부족함',\n",
       " 444: '길이',\n",
       " 582: '다행',\n",
       " 2792: '중국어',\n",
       " 2131: '영어',\n",
       " 692: '도움',\n",
       " 3438: '해결',\n",
       " 1053: '목적지',\n",
       " 3461: '해피',\n",
       " 2346: '음료',\n",
       " 1488: '사이다',\n",
       " 2764: '주스',\n",
       " 592: '달걀',\n",
       " 3014: '치즈',\n",
       " 3597: '히터',\n",
       " 3187: '투어',\n",
       " 3515: '호스텔',\n",
       " 2858: '질문',\n",
       " 1530: '상품',\n",
       " 270: '과거',\n",
       " 154: '게스트하우스',\n",
       " 2510: '자고',\n",
       " 2150: '오기',\n",
       " 2479: '일이',\n",
       " 1201: '발전',\n",
       " 2141: '예상',\n",
       " 3165: '토스터',\n",
       " 2424: '이후',\n",
       " 1635: '소등',\n",
       " 1399: '불키',\n",
       " 2733: '조용조',\n",
       " 1232: '방키',\n",
       " 218: '고여',\n",
       " 496: '남자',\n",
       " 1946: '안전',\n",
       " 2878: '차로',\n",
       " 2373: '이내',\n",
       " 1403: '뷔페',\n",
       " 2076: '여느',\n",
       " 856: '롯데리아',\n",
       " 1216: '방만',\n",
       " 224: '고정',\n",
       " 1060: '무궁화',\n",
       " 1676: '수기',\n",
       " 1490: '사이트',\n",
       " 3526: '홈페이지',\n",
       " 921: '마치',\n",
       " 1088: '무척',\n",
       " 2617: '전기차',\n",
       " 134: '건너',\n",
       " 402: '급속',\n",
       " 1628: '소가',\n",
       " 2333: '유치원',\n",
       " 2784: '주택가',\n",
       " ...}"
      ]
     },
     "execution_count": 75,
     "metadata": {},
     "output_type": "execute_result"
    }
   ],
   "source": [
    "invert_index_vectorizer"
   ]
  },
  {
   "cell_type": "code",
   "execution_count": null,
   "metadata": {
    "colab": {
     "base_uri": "https://localhost:8080/",
     "height": 35
    },
    "executionInfo": {
     "elapsed": 5,
     "status": "ok",
     "timestamp": 1676466333282,
     "user": {
      "displayName": "버물리",
      "userId": "16343119817703036426"
     },
     "user_tz": -540
    },
    "id": "_JmTLGK4LciN",
    "outputId": "3e3032bb-386c-45a5-fed2-62fbf44e7b8a"
   },
   "outputs": [
    {
     "data": {
      "application/vnd.google.colaboratory.intrinsic+json": {
       "type": "string"
      },
      "text/plain": [
       "'근처'"
      ]
     },
     "execution_count": 78,
     "metadata": {},
     "output_type": "execute_result"
    }
   ],
   "source": [
    "invert_index_vectorizer[385]"
   ]
  },
  {
   "cell_type": "code",
   "execution_count": null,
   "metadata": {
    "id": "eHkWYQM0FdNU"
   },
   "outputs": [],
   "source": [
    "# invert_index_vectorizer 딕셔너리에서 인덱스 빼고 긍정적인 단어만 리스트로 뽑아내기\n",
    "pos_list = []\n",
    "for coef in coef_pos_index:\n",
    "    pos_list.append(invert_index_vectorizer[coef[1]])\n",
    "    # print(invert_index_vectorizer[coef[1]], coef[0])"
   ]
  },
  {
   "cell_type": "code",
   "execution_count": null,
   "metadata": {
    "id": "IdBDBkm23aQQ"
   },
   "outputs": [],
   "source": [
    "pos_list"
   ]
  },
  {
   "cell_type": "code",
   "execution_count": null,
   "metadata": {
    "colab": {
     "base_uri": "https://localhost:8080/"
    },
    "executionInfo": {
     "elapsed": 7,
     "status": "ok",
     "timestamp": 1676444083263,
     "user": {
      "displayName": "버물리",
      "userId": "16343119817703036426"
     },
     "user_tz": -540
    },
    "id": "O0gRzUtXFeLX",
    "outputId": "892090a3-c001-4ca1-96ab-94fa38025026"
   },
   "outputs": [
    {
     "name": "stdout",
     "output_type": "stream",
     "text": [
      "냄새 -1.3163121095292618\n",
      "별로 -1.1619844433241595\n",
      "다른 -0.8634908897500504\n",
      "최악 -0.6994140155571499\n",
      "그냥 -0.6974560123347292\n",
      "침대 -0.6966079469775018\n",
      "화장실 -0.6755517172032797\n",
      "노후 -0.6706467606649311\n",
      "느낌 -0.6652777131702173\n",
      "에어컨 -0.6295384632021115\n",
      "예약 -0.5893151861671186\n",
      "아무 -0.5859538929309703\n",
      "진짜 -0.5801044925739788\n",
      "모기 -0.5579164162043734\n",
      "곰팡이 -0.5511386607779531\n"
     ]
    }
   ],
   "source": [
    "for coef in coef_neg_index[:15]:\n",
    "    print(invert_index_vectorizer[coef[1]], coef[0])"
   ]
  },
  {
   "cell_type": "code",
   "execution_count": null,
   "metadata": {
    "id": "fF8BtpB_FfkB"
   },
   "outputs": [],
   "source": []
  }
 ],
 "metadata": {
  "colab": {
   "provenance": [],
   "toc_visible": true
  },
  "kernelspec": {
   "display_name": "Python 3 (ipykernel)",
   "language": "python",
   "name": "python3"
  },
  "language_info": {
   "codemirror_mode": {
    "name": "ipython",
    "version": 3
   },
   "file_extension": ".py",
   "mimetype": "text/x-python",
   "name": "python",
   "nbconvert_exporter": "python",
   "pygments_lexer": "ipython3",
   "version": "3.10.9"
  }
 },
 "nbformat": 4,
 "nbformat_minor": 1
}
