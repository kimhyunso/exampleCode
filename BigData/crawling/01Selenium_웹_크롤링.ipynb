{
 "cells": [
  {
   "cell_type": "markdown",
   "id": "dcd15e4a",
   "metadata": {},
   "source": [
    "# Selenium(셀레늄) WebnDriver\n",
    "### 웹드라이버란?"
   ]
  },
  {
   "cell_type": "markdown",
   "id": "530582b5",
   "metadata": {},
   "source": [
    "- 웹드라이버는 셀레늄의 한 구성요서\n",
    "- 웹 드라이버는 모듈\n",
    "- 브라우저 엔진의 한 종류\n",
    "\n",
    "> Firefox browser => Firefox()\n",
    ">\n",
    "> Chrome browser => Chrome()\n",
    ">\n",
    "> Edge => Edge()\n",
    "\n",
    "- 웹 드라이버는 API (Application Programming Interface)"
   ]
  },
  {
   "cell_type": "code",
   "execution_count": 1,
   "id": "4d0df739",
   "metadata": {},
   "outputs": [],
   "source": [
    "# https://opensource-demo.orangehrmlive.com/web/index.php/dashboard/index\n",
    "from selenium.webdriver.chrome.service import Service\n",
    "from selenium import webdriver\n",
    "from selenium.webdriver.common.by import By\n",
    "import time"
   ]
  },
  {
   "cell_type": "code",
   "execution_count": 5,
   "id": "5f650ddf",
   "metadata": {},
   "outputs": [
    {
     "name": "stderr",
     "output_type": "stream",
     "text": [
      "C:\\ProgramData\\Anaconda3\\envs\\venv\\lib\\site-packages\\ipykernel_launcher.py:2: DeprecationWarning: executable_path has been deprecated, please pass in a Service object\n",
      "  \n"
     ]
    }
   ],
   "source": [
    "# 셀레늄 4버전의 문법\n",
    "driver = webdriver.Chrome('.//chromedriver.exe')\n",
    "driver.get('https://opensource-demo.orangehrmlive.com/')\n",
    "# 너무빨리 결과를 요청했기 때문에\n",
    "# 홈페이지가 뜨지도 않았음...\n",
    "# solution => time sleep을 줘보자...\n",
    "\n",
    "time.sleep(2.2)\n",
    "driver.find_element(By.NAME, 'username').send_keys('Admin')\n",
    "time.sleep(3)\n",
    "driver.find_element(By.NAME, 'password').send_keys('admin123')\n",
    "time.sleep(1.2)\n",
    "driver.find_element(By.XPATH, '//*[@id=\"app\"]/div[1]/div/div[1]/div/div[2]/div[2]/form/div[3]/button').click()\n",
    "\n",
    "# check the title\n",
    "act_title = driver.title\n",
    "exp_title = 'OrangeHRM'\n",
    "\n",
    "if act_title == exp_title:\n",
    "    print('Login Test is okey')\n",
    "else:\n",
    "    print('Nokay')\n",
    "    \n",
    "driver.close()\n"
   ]
  },
  {
   "cell_type": "code",
   "execution_count": null,
   "id": "fc7d9cb6",
   "metadata": {},
   "outputs": [],
   "source": []
  }
 ],
 "metadata": {
  "kernelspec": {
   "display_name": "Python 3 (ipykernel)",
   "language": "python",
   "name": "python3"
  },
  "language_info": {
   "codemirror_mode": {
    "name": "ipython",
    "version": 3
   },
   "file_extension": ".py",
   "mimetype": "text/x-python",
   "name": "python",
   "nbconvert_exporter": "python",
   "pygments_lexer": "ipython3",
   "version": "3.7.16"
  }
 },
 "nbformat": 4,
 "nbformat_minor": 5
}
