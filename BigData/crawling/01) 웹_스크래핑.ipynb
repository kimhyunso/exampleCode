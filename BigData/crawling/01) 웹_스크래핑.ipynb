{
 "cells": [
  {
   "cell_type": "code",
   "execution_count": 5,
   "id": "d5ebf974",
   "metadata": {},
   "outputs": [
    {
     "data": {
      "text/plain": [
       "True"
      ]
     },
     "execution_count": 5,
     "metadata": {},
     "output_type": "execute_result"
    }
   ],
   "source": [
    "import webbrowser\n",
    "\n",
    "url = 'www.naver.com'\n",
    "webbrowser.open(url)"
   ]
  },
  {
   "cell_type": "code",
   "execution_count": 7,
   "id": "7be5a298",
   "metadata": {},
   "outputs": [
    {
     "data": {
      "text/plain": [
       "True"
      ]
     },
     "execution_count": 7,
     "metadata": {},
     "output_type": "execute_result"
    }
   ],
   "source": [
    "# 네이버 검색 사이트\n",
    "import webbrowser\n",
    "\n",
    "# naver_search = 'https://search.naver.com/search.naver?query='\n",
    "# search_word = '고양이'\n",
    "\n",
    "\n",
    "google_search = 'https://www.google.com/search?q='\n",
    "google_word = '고양이'\n",
    "\n",
    "# url = naver_search + search_word\n",
    "\n",
    "url = google_search + google_word\n",
    "\n",
    "webbrowser.open(url)\n",
    "\n"
   ]
  },
  {
   "cell_type": "markdown",
   "id": "b3831c19",
   "metadata": {},
   "source": [
    "# 여러 개의 웹사이트에 접속하기"
   ]
  },
  {
   "cell_type": "code",
   "execution_count": 13,
   "id": "4e8deaf7",
   "metadata": {},
   "outputs": [
    {
     "name": "stdout",
     "output_type": "stream",
     "text": [
      "0 https://search.naver.com/search.naver?query=\n",
      "1 https://www.google.com/search?q=\n"
     ]
    }
   ],
   "source": [
    "import webbrowser\n",
    "\n",
    "urls = ['https://search.naver.com/search.naver?query=', 'https://www.google.com/search?q=']\n",
    "words = ['한자', '고양이']\n",
    "\n",
    "for index, url in enumerate(urls):\n",
    "    webbrowser.open(url + words[index])"
   ]
  },
  {
   "cell_type": "code",
   "execution_count": 14,
   "id": "332a217f",
   "metadata": {},
   "outputs": [],
   "source": [
    "import webbrowser\n",
    "\n",
    "google_search_url = 'https://www.google.com/search?q='\n",
    "words = ['python', '고양이', 'web']\n",
    "\n",
    "for word in words:\n",
    "    webbrowser.open(google_search + word)\n"
   ]
  },
  {
   "cell_type": "code",
   "execution_count": 16,
   "id": "23e2d020",
   "metadata": {},
   "outputs": [
    {
     "name": "stdout",
     "output_type": "stream",
     "text": [
      "Overwriting ./\\HTML_example.html\n"
     ]
    }
   ],
   "source": [
    "%%writefile ./\\HTML_example.html  # magic word(마술 명령어)\n",
    "<!doctype html>\n",
    "<html>\n",
    " <head>\n",
    "  <meta charset=\"utf-8\">\n",
    "  <title>이것은 HTML 예제</title>\n",
    " </head>\n",
    " <body>\n",
    "  <h1>출간된 책 정보</h1>\n",
    "  <p id=\"book_title\">이해가 쏙쏙 되는 파이썬</p>\n",
    "  <p id=\"author\">홍길동</p>\n",
    "  <p id=\"publisher\">영식북스 출판사</p>\n",
    "  <p id=\"year\">2022</p>\n",
    " </body>\n",
    "</html>"
   ]
  },
  {
   "cell_type": "markdown",
   "id": "70dfebf7",
   "metadata": {},
   "source": [
    "## 웹 페이지의 HTML 소스코드 갖고 오기"
   ]
  },
  {
   "cell_type": "code",
   "execution_count": 26,
   "id": "f1a70a4e",
   "metadata": {
    "scrolled": true
   },
   "outputs": [
    {
     "data": {
      "text/plain": [
       "'<!doctype html><html itemscope=\"\" itemtype=\"http://schema.org/WebPage\" lang=\"ko\"><head><meta content=\"text/html; charset=UTF-8\" http-equiv=\"Content-Type\"><meta content=\"/images/branding/googleg/1x/googleg_standard_color_128dp.png\" itemprop=\"image\"><title>Google</title><script nonce=\"l0mHvlKEXGghj8dL'"
      ]
     },
     "execution_count": 26,
     "metadata": {},
     "output_type": "execute_result"
    }
   ],
   "source": [
    "# 1. 과거 방식 :: urllib -> 사용하기 불편..\n",
    "# 2. requests -> 사용성이 좋음\n",
    "import requests\n",
    "\n",
    "data = requests.get('https://www.google.com/')\n",
    "\n",
    "data.text[:300]"
   ]
  },
  {
   "cell_type": "markdown",
   "id": "1c3bb874",
   "metadata": {},
   "source": [
    "## HTML 소스코드를 분석하고 처리하기\n",
    "- HTML 코드를 분석하기 위해서는 HTML 코드 구문을 이해하고 요소별로 HTML 코드를 분류해야 한다.\n",
    "- 위와 같은 작업을 Parsing 이라 한다.\n",
    "- Parsing을 위해서는 Beautiful Soup 라이브러리를 사용하면 파싱을 좀 더 손쉽게 할 수 있다."
   ]
  },
  {
   "cell_type": "code",
   "execution_count": 33,
   "id": "e16412fc",
   "metadata": {},
   "outputs": [
    {
     "name": "stdout",
     "output_type": "stream",
     "text": [
      "<html>\n",
      " <body>\n",
      "  <div>\n",
      "   <span>\n",
      "    <a href=\"http://www.naver.com\">\n",
      "     naver\n",
      "    </a>\n",
      "    <a href=\"https://www.google.com\">\n",
      "     google\n",
      "    </a>\n",
      "    <a href=\"http://www.daum.net/\">\n",
      "     daum\n",
      "    </a>\n",
      "   </span>\n",
      "  </div>\n",
      " </body>\n",
      "</html>\n"
     ]
    }
   ],
   "source": [
    "# parsing :: HTML코드를 우리가 알아볼 수 있도록 해석해주는 것\n",
    "### Beautiful Soup 라이브러리에 대한 자세한 방법은 웹 사이트(https://www.crummy.com/software/BeautifulSoup/bs4/doc)\n",
    "from bs4 import BeautifulSoup\n",
    "# 테스트용 html 코드\n",
    "html = \"\"\"<html><body><div><span>\\\n",
    "        <a href=http://www.naver.com>naver</a>\\\n",
    "        <a href=https://www.google.com>google</a>\\\n",
    "        <a href=http://www.daum.net/>daum</a>\\\n",
    "        </span></div></body></html>\"\"\"\n",
    "# BeautifulSoup를 이용해 HTML 소스를 파싱\n",
    "soup = BeautifulSoup(html)  # parsing이 이루어짐\n",
    "\n",
    "# 좀 더 보기가 편하도록\n",
    "print(soup.prettify())\n"
   ]
  },
  {
   "cell_type": "code",
   "execution_count": 47,
   "id": "c82083ce",
   "metadata": {},
   "outputs": [
    {
     "name": "stdout",
     "output_type": "stream",
     "text": [
      "naver\n",
      "google\n",
      "daum\n"
     ]
    }
   ],
   "source": [
    "# a 태그의 요소들만 찾아보자\n",
    "# 1개의 요소만 가져올때\n",
    "# print(soup.find('a'))\n",
    "\n",
    "# 여러개의 요소를 가져올때\n",
    "# print(soup.find_all('a'))\n",
    "\n",
    "site_names = soup.find_all('a')\n",
    "\n",
    "for name in site_names:\n",
    "    print(name.get_text())\n",
    "    "
   ]
  },
  {
   "cell_type": "code",
   "execution_count": 102,
   "id": "676dc1ce",
   "metadata": {},
   "outputs": [
    {
     "name": "stdout",
     "output_type": "stream",
     "text": [
      "<html>\n",
      "<head>\n",
      "<title>작품과 작가 모음</title>\n",
      "</head>\n",
      "<body>\n",
      "<h1>책 정보</h1>\n",
      "<p id=\"book_title\">토지</p>\n",
      "<p id=\"author\">박경리</p>\n",
      "<p id=\"book_title\">태백산맥</p>\n",
      "<p id=\"author\">조정래</p>\n",
      "<p id=\"book_title\">감옥으로부터의 사색</p>\n",
      "<p id=\"author\">신영복</p>\n",
      "<p class=\"test\">테스트</p>\n",
      "<p class=\"test\">123</p>\n",
      "<p class=\"test\">456</p>\n",
      "<p class=\"test\">789</p>\n",
      "</body>\n",
      "</html>\n",
      "\n"
     ]
    }
   ],
   "source": [
    "from bs4 import BeautifulSoup\n",
    "import requests\n",
    "\n",
    "html = '''\n",
    "<html>\n",
    " <head>\n",
    "  <title>작품과 작가 모음</title>\n",
    " </head>\n",
    " <body>\n",
    "  <h1>책 정보</h1>\n",
    "  <p id=\"book_title\">토지</p>\n",
    "  <p id=\"author\">박경리</p>\n",
    "  <p id=\"book_title\">태백산맥</p>\n",
    "  <p id=\"author\">조정래</p>\n",
    "  <p id=\"book_title\">감옥으로부터의 사색</p>\n",
    "  <p id=\"author\">신영복</p>\n",
    "  <p class='test'>테스트</p>\n",
    "  <p class='test'>123</p>\n",
    "  <p class='test'>456</p>\n",
    "  <p class='test'>789</p>\n",
    " </body>\n",
    "</html>\n",
    "'''\n",
    "soup = BeautifulSoup(html)\n",
    "\n",
    "print(soup)\n"
   ]
  },
  {
   "cell_type": "code",
   "execution_count": 72,
   "id": "1a0fb2c1",
   "metadata": {},
   "outputs": [
    {
     "data": {
      "text/plain": [
       "'작품과 작가 모음'"
      ]
     },
     "execution_count": 72,
     "metadata": {},
     "output_type": "execute_result"
    }
   ],
   "source": [
    "soup.head.title.get_text()"
   ]
  },
  {
   "cell_type": "code",
   "execution_count": 73,
   "id": "2ff436b5",
   "metadata": {},
   "outputs": [
    {
     "data": {
      "text/plain": [
       "[<p id=\"book_title\">토지</p>,\n",
       " <p id=\"book_title\">태백산맥</p>,\n",
       " <p id=\"book_title\">감옥으로부터의 사색</p>]"
      ]
     },
     "execution_count": 73,
     "metadata": {},
     "output_type": "execute_result"
    }
   ],
   "source": [
    "soup.find_all('p', {'id' : 'book_title',})"
   ]
  },
  {
   "cell_type": "code",
   "execution_count": 103,
   "id": "4c995d0f",
   "metadata": {},
   "outputs": [],
   "source": [
    "# 책 제목 및 저자 --> 토지 :: 박경리\n",
    "#                 태백산맥 :: 조정래\n",
    "#      감옥으로부터의 사색 :: 신영복\n",
    "\n",
    "from bs4 import BeautifulSoup\n",
    "\n",
    "soup = BeautifulSoup(html)\n",
    "\n",
    "book_titles = soup.find_all('p', {'id' : 'book_title',})\n",
    "authors = soup.find_all('p', {'id' : 'author',})"
   ]
  },
  {
   "cell_type": "code",
   "execution_count": 104,
   "id": "39cf40a5",
   "metadata": {},
   "outputs": [
    {
     "name": "stdout",
     "output_type": "stream",
     "text": [
      "토지::박경리\n",
      "태백산맥::조정래\n",
      "감옥으로부터의 사색::신영복\n"
     ]
    }
   ],
   "source": [
    "for book, author in zip(book_titles, authors):\n",
    "    print(book.get_text() + '::' + author.get_text())\n",
    "\n",
    "# html 소스에서 원하는 요소를 찾기 위해 -find() 혹은 find_all()을 활용"
   ]
  },
  {
   "cell_type": "markdown",
   "id": "3757fc91",
   "metadata": {},
   "source": [
    "## CSS 선택자(selector)를 활용하여 가져와보기"
   ]
  },
  {
   "cell_type": "code",
   "execution_count": 105,
   "id": "33501f4c",
   "metadata": {},
   "outputs": [
    {
     "data": {
      "text/plain": [
       "[<p class=\"test\">테스트</p>,\n",
       " <p class=\"test\">123</p>,\n",
       " <p class=\"test\">456</p>,\n",
       " <p class=\"test\">789</p>]"
      ]
     },
     "execution_count": 105,
     "metadata": {},
     "output_type": "execute_result"
    }
   ],
   "source": [
    "from bs4 import BeautifulSoup\n",
    "\n",
    "soup = BeautifulSoup(html)\n",
    "\n",
    "# select를 활용해서 불러오기\n",
    "soup.select('body h1')\n",
    "\n",
    "soup.select('body p')\n",
    "\n",
    "soup.select('p')\n",
    "\n",
    "# p 태그 안의 id book_title 가져오기\n",
    "soup.select('p#book_title')\n",
    "\n",
    "# p 태그 안의 class book_title 가져오기\n",
    "soup.select('p.test')"
   ]
  },
  {
   "cell_type": "code",
   "execution_count": null,
   "id": "007d57e8",
   "metadata": {},
   "outputs": [],
   "source": []
  }
 ],
 "metadata": {
  "kernelspec": {
   "display_name": "Python 3 (ipykernel)",
   "language": "python",
   "name": "python3"
  },
  "language_info": {
   "codemirror_mode": {
    "name": "ipython",
    "version": 3
   },
   "file_extension": ".py",
   "mimetype": "text/x-python",
   "name": "python",
   "nbconvert_exporter": "python",
   "pygments_lexer": "ipython3",
   "version": "3.7.16"
  }
 },
 "nbformat": 4,
 "nbformat_minor": 5
}
