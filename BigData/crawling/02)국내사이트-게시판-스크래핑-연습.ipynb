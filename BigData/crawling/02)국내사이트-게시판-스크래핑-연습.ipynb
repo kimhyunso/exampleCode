{
 "cells": [
  {
   "cell_type": "code",
   "execution_count": 25,
   "id": "78ad3e31",
   "metadata": {},
   "outputs": [],
   "source": [
    "import requests\n",
    "import pandas as pd\n",
    "from bs4 import BeautifulSoup\n",
    "\n",
    "\n",
    "html = requests.get('https://tbever.com/%EA%B5%AD%EB%82%B4-%EC%9B%B9%EC%82%AC%EC%9D%B4%ED%8A%B8-%EB%9E%AD%ED%82%B9-top50/')\n",
    "# HTML 소스코드 가져오기.\n",
    "soup = BeautifulSoup(html.text)"
   ]
  },
  {
   "cell_type": "code",
   "execution_count": 16,
   "id": "5ff047a1",
   "metadata": {},
   "outputs": [],
   "source": [
    "# rank_50 = soup.find_all('p', {'target' : '_blank'})\n",
    "rank_50 = soup.select('p span a')\n"
   ]
  },
  {
   "cell_type": "code",
   "execution_count": 24,
   "id": "c93b2796",
   "metadata": {},
   "outputs": [],
   "source": [
    "# for문을 활용하여 전체 사이트를 리스트에 담기\n",
    "\n",
    "result = [i.get_text() for i in rank_50]"
   ]
  },
  {
   "cell_type": "code",
   "execution_count": 27,
   "id": "c18bcb5d",
   "metadata": {},
   "outputs": [],
   "source": [
    "result_df = pd.DataFrame(result, columns=['web_site'])"
   ]
  },
  {
   "cell_type": "code",
   "execution_count": 32,
   "id": "ff9a0615",
   "metadata": {},
   "outputs": [],
   "source": [
    "result_df.to_csv('./result_data.csv')"
   ]
  },
  {
   "cell_type": "code",
   "execution_count": null,
   "id": "05cfcea4",
   "metadata": {},
   "outputs": [],
   "source": []
  }
 ],
 "metadata": {
  "kernelspec": {
   "display_name": "Python 3 (ipykernel)",
   "language": "python",
   "name": "python3"
  },
  "language_info": {
   "codemirror_mode": {
    "name": "ipython",
    "version": 3
   },
   "file_extension": ".py",
   "mimetype": "text/x-python",
   "name": "python",
   "nbconvert_exporter": "python",
   "pygments_lexer": "ipython3",
   "version": "3.7.16"
  }
 },
 "nbformat": 4,
 "nbformat_minor": 5
}
