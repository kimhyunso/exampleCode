{
 "cells": [
  {
   "cell_type": "code",
   "execution_count": 43,
   "id": "be11f7d1",
   "metadata": {},
   "outputs": [],
   "source": [
    "from selenium import webdriver\n",
    "from selenium.webdriver.common.keys import Keys\n",
    "from selenium.webdriver.common.by import By\n",
    "import urllib as u"
   ]
  },
  {
   "cell_type": "code",
   "execution_count": 35,
   "id": "d7af7e09",
   "metadata": {},
   "outputs": [
    {
     "data": {
      "text/plain": [
       "('test.png', <http.client.HTTPMessage at 0x15451db6b48>)"
      ]
     },
     "execution_count": 35,
     "metadata": {},
     "output_type": "execute_result"
    }
   ],
   "source": [
    "# 단일 크롤링\n",
    "import time\n",
    "\n",
    "\n",
    "driver = webdriver.Chrome()\n",
    "driver.get(\"https://www.google.co.kr/imghp?hl=ko&ogbl\") # 이미지 사이트를 한 번에 접속\n",
    "# assert \"Python\" in driver.title\n",
    "\n",
    "elem = driver.find_element(By.NAME, 'q')\n",
    "elem.clear()\n",
    "elem.send_keys(\"해리포터\") # 검색어를 확인\n",
    "elem.send_keys(Keys.RETURN) # enter 키를 친다\n",
    "\n",
    "\n",
    "driver.find_elements(By.CSS_SELECTOR, '.rg_i.Q4LuWd')[0].click() # 큰 그림을 클릭\n",
    "time.sleep(3)\n",
    "src = driver.find_element(By.CSS_SELECTOR, '.n3VNCb').get_attribute('src') # src 주소를 가져와야한다.\n",
    "\n",
    "# 이미지 다운로드\n",
    "u.request.urlretrieve(src, 'test.png')\n",
    "\n",
    "\n",
    "\n",
    "# n3VNCb KAlRDb\n",
    "\n",
    "\n",
    "\n",
    "# https://upload.wikimedia.org/wikipedia/ko/d/dd/%ED%95%B4%EB%A6%AC_%ED%8F%AC%ED%84%B0%EC%99%80_%EB%A7%88%EB%B2%95%EC%82%AC%EC%9D%98_%EB%8F%8C_%EC%98%81%ED%99%94.jpg\n",
    "\n",
    "# assert \"No results found.\" not in driver.page_source\n",
    "# driver.close()"
   ]
  },
  {
   "cell_type": "code",
   "execution_count": 45,
   "id": "12aaea11",
   "metadata": {},
   "outputs": [
    {
     "ename": "NoSuchWindowException",
     "evalue": "Message: no such window: target window already closed\nfrom unknown error: web view not found\n  (Session info: chrome=109.0.5414.120)\nStacktrace:\nBacktrace:\n\t(No symbol) [0x00836643]\n\t(No symbol) [0x007CBE21]\n\t(No symbol) [0x006CDA9D]\n\t(No symbol) [0x006AEF6A]\n\t(No symbol) [0x00723AAB]\n\t(No symbol) [0x00729567]\n\t(No symbol) [0x0071FD43]\n\t(No symbol) [0x006F49C1]\n\t(No symbol) [0x006F5E5D]\n\tGetHandleVerifier [0x00AAA142+2497106]\n\tGetHandleVerifier [0x00AD85D3+2686691]\n\tGetHandleVerifier [0x00ADBB9C+2700460]\n\tGetHandleVerifier [0x008E3B10+635936]\n\t(No symbol) [0x007D4A1F]\n\t(No symbol) [0x007DA418]\n\t(No symbol) [0x007DA505]\n\t(No symbol) [0x007E508B]\n\tBaseThreadInitThunk [0x74F16359+25]\n\tRtlGetAppContainerNamedObjectPath [0x76F67B74+228]\n\tRtlGetAppContainerNamedObjectPath [0x76F67B44+180]\n",
     "output_type": "error",
     "traceback": [
      "\u001b[1;31m---------------------------------------------------------------------------\u001b[0m",
      "\u001b[1;31mNoSuchWindowException\u001b[0m                     Traceback (most recent call last)",
      "\u001b[1;32m~\\AppData\\Local\\Temp\\ipykernel_9856\\908471307.py\u001b[0m in \u001b[0;36m<module>\u001b[1;34m\u001b[0m\n\u001b[0;32m     54\u001b[0m \u001b[1;31m# https://upload.wikimedia.org/wikipedia/ko/d/dd/%ED%95%B4%EB%A6%AC_%ED%8F%AC%ED%84%B0%EC%99%80_%EB%A7%88%EB%B2%95%EC%82%AC%EC%9D%98_%EB%8F%8C_%EC%98%81%ED%99%94.jpg\u001b[0m\u001b[1;33m\u001b[0m\u001b[1;33m\u001b[0m\u001b[1;33m\u001b[0m\u001b[0m\n\u001b[0;32m     55\u001b[0m \u001b[1;33m\u001b[0m\u001b[0m\n\u001b[1;32m---> 56\u001b[1;33m \u001b[0mdriver\u001b[0m\u001b[1;33m.\u001b[0m\u001b[0mclose\u001b[0m\u001b[1;33m(\u001b[0m\u001b[1;33m)\u001b[0m\u001b[1;33m\u001b[0m\u001b[1;33m\u001b[0m\u001b[0m\n\u001b[0m",
      "\u001b[1;32m~\\AppData\\Roaming\\Python\\Python37\\site-packages\\selenium\\webdriver\\remote\\webdriver.py\u001b[0m in \u001b[0;36mclose\u001b[1;34m(self)\u001b[0m\n\u001b[0;32m    549\u001b[0m                 \u001b[0mdriver\u001b[0m\u001b[1;33m.\u001b[0m\u001b[0mclose\u001b[0m\u001b[1;33m(\u001b[0m\u001b[1;33m)\u001b[0m\u001b[1;33m\u001b[0m\u001b[1;33m\u001b[0m\u001b[0m\n\u001b[0;32m    550\u001b[0m         \"\"\"\n\u001b[1;32m--> 551\u001b[1;33m         \u001b[0mself\u001b[0m\u001b[1;33m.\u001b[0m\u001b[0mexecute\u001b[0m\u001b[1;33m(\u001b[0m\u001b[0mCommand\u001b[0m\u001b[1;33m.\u001b[0m\u001b[0mCLOSE\u001b[0m\u001b[1;33m)\u001b[0m\u001b[1;33m\u001b[0m\u001b[1;33m\u001b[0m\u001b[0m\n\u001b[0m\u001b[0;32m    552\u001b[0m \u001b[1;33m\u001b[0m\u001b[0m\n\u001b[0;32m    553\u001b[0m     \u001b[1;32mdef\u001b[0m \u001b[0mquit\u001b[0m\u001b[1;33m(\u001b[0m\u001b[0mself\u001b[0m\u001b[1;33m)\u001b[0m \u001b[1;33m->\u001b[0m \u001b[1;32mNone\u001b[0m\u001b[1;33m:\u001b[0m\u001b[1;33m\u001b[0m\u001b[1;33m\u001b[0m\u001b[0m\n",
      "\u001b[1;32m~\\AppData\\Roaming\\Python\\Python37\\site-packages\\selenium\\webdriver\\remote\\webdriver.py\u001b[0m in \u001b[0;36mexecute\u001b[1;34m(self, driver_command, params)\u001b[0m\n\u001b[0;32m    438\u001b[0m         \u001b[0mresponse\u001b[0m \u001b[1;33m=\u001b[0m \u001b[0mself\u001b[0m\u001b[1;33m.\u001b[0m\u001b[0mcommand_executor\u001b[0m\u001b[1;33m.\u001b[0m\u001b[0mexecute\u001b[0m\u001b[1;33m(\u001b[0m\u001b[0mdriver_command\u001b[0m\u001b[1;33m,\u001b[0m \u001b[0mparams\u001b[0m\u001b[1;33m)\u001b[0m\u001b[1;33m\u001b[0m\u001b[1;33m\u001b[0m\u001b[0m\n\u001b[0;32m    439\u001b[0m         \u001b[1;32mif\u001b[0m \u001b[0mresponse\u001b[0m\u001b[1;33m:\u001b[0m\u001b[1;33m\u001b[0m\u001b[1;33m\u001b[0m\u001b[0m\n\u001b[1;32m--> 440\u001b[1;33m             \u001b[0mself\u001b[0m\u001b[1;33m.\u001b[0m\u001b[0merror_handler\u001b[0m\u001b[1;33m.\u001b[0m\u001b[0mcheck_response\u001b[0m\u001b[1;33m(\u001b[0m\u001b[0mresponse\u001b[0m\u001b[1;33m)\u001b[0m\u001b[1;33m\u001b[0m\u001b[1;33m\u001b[0m\u001b[0m\n\u001b[0m\u001b[0;32m    441\u001b[0m             \u001b[0mresponse\u001b[0m\u001b[1;33m[\u001b[0m\u001b[1;34m\"value\"\u001b[0m\u001b[1;33m]\u001b[0m \u001b[1;33m=\u001b[0m \u001b[0mself\u001b[0m\u001b[1;33m.\u001b[0m\u001b[0m_unwrap_value\u001b[0m\u001b[1;33m(\u001b[0m\u001b[0mresponse\u001b[0m\u001b[1;33m.\u001b[0m\u001b[0mget\u001b[0m\u001b[1;33m(\u001b[0m\u001b[1;34m\"value\"\u001b[0m\u001b[1;33m,\u001b[0m \u001b[1;32mNone\u001b[0m\u001b[1;33m)\u001b[0m\u001b[1;33m)\u001b[0m\u001b[1;33m\u001b[0m\u001b[1;33m\u001b[0m\u001b[0m\n\u001b[0;32m    442\u001b[0m             \u001b[1;32mreturn\u001b[0m \u001b[0mresponse\u001b[0m\u001b[1;33m\u001b[0m\u001b[1;33m\u001b[0m\u001b[0m\n",
      "\u001b[1;32m~\\AppData\\Roaming\\Python\\Python37\\site-packages\\selenium\\webdriver\\remote\\errorhandler.py\u001b[0m in \u001b[0;36mcheck_response\u001b[1;34m(self, response)\u001b[0m\n\u001b[0;32m    243\u001b[0m                 \u001b[0malert_text\u001b[0m \u001b[1;33m=\u001b[0m \u001b[0mvalue\u001b[0m\u001b[1;33m[\u001b[0m\u001b[1;34m\"alert\"\u001b[0m\u001b[1;33m]\u001b[0m\u001b[1;33m.\u001b[0m\u001b[0mget\u001b[0m\u001b[1;33m(\u001b[0m\u001b[1;34m\"text\"\u001b[0m\u001b[1;33m)\u001b[0m\u001b[1;33m\u001b[0m\u001b[1;33m\u001b[0m\u001b[0m\n\u001b[0;32m    244\u001b[0m             \u001b[1;32mraise\u001b[0m \u001b[0mexception_class\u001b[0m\u001b[1;33m(\u001b[0m\u001b[0mmessage\u001b[0m\u001b[1;33m,\u001b[0m \u001b[0mscreen\u001b[0m\u001b[1;33m,\u001b[0m \u001b[0mstacktrace\u001b[0m\u001b[1;33m,\u001b[0m \u001b[0malert_text\u001b[0m\u001b[1;33m)\u001b[0m  \u001b[1;31m# type: ignore[call-arg]  # mypy is not smart enough here\u001b[0m\u001b[1;33m\u001b[0m\u001b[1;33m\u001b[0m\u001b[0m\n\u001b[1;32m--> 245\u001b[1;33m         \u001b[1;32mraise\u001b[0m \u001b[0mexception_class\u001b[0m\u001b[1;33m(\u001b[0m\u001b[0mmessage\u001b[0m\u001b[1;33m,\u001b[0m \u001b[0mscreen\u001b[0m\u001b[1;33m,\u001b[0m \u001b[0mstacktrace\u001b[0m\u001b[1;33m)\u001b[0m\u001b[1;33m\u001b[0m\u001b[1;33m\u001b[0m\u001b[0m\n\u001b[0m",
      "\u001b[1;31mNoSuchWindowException\u001b[0m: Message: no such window: target window already closed\nfrom unknown error: web view not found\n  (Session info: chrome=109.0.5414.120)\nStacktrace:\nBacktrace:\n\t(No symbol) [0x00836643]\n\t(No symbol) [0x007CBE21]\n\t(No symbol) [0x006CDA9D]\n\t(No symbol) [0x006AEF6A]\n\t(No symbol) [0x00723AAB]\n\t(No symbol) [0x00729567]\n\t(No symbol) [0x0071FD43]\n\t(No symbol) [0x006F49C1]\n\t(No symbol) [0x006F5E5D]\n\tGetHandleVerifier [0x00AAA142+2497106]\n\tGetHandleVerifier [0x00AD85D3+2686691]\n\tGetHandleVerifier [0x00ADBB9C+2700460]\n\tGetHandleVerifier [0x008E3B10+635936]\n\t(No symbol) [0x007D4A1F]\n\t(No symbol) [0x007DA418]\n\t(No symbol) [0x007DA505]\n\t(No symbol) [0x007E508B]\n\tBaseThreadInitThunk [0x74F16359+25]\n\tRtlGetAppContainerNamedObjectPath [0x76F67B74+228]\n\tRtlGetAppContainerNamedObjectPath [0x76F67B44+180]\n"
     ]
    }
   ],
   "source": [
    "import time\n",
    "\n",
    "\n",
    "driver = webdriver.Chrome()\n",
    "driver.get(\"https://www.google.co.kr/imghp?hl=ko&ogbl\") # 이미지 사이트를 한 번에 접속\n",
    "\n",
    "elem = driver.find_element(By.NAME, 'q')\n",
    "elem.clear()\n",
    "elem.send_keys(\"해리포터\") # 검색어를 확인\n",
    "elem.send_keys(Keys.RETURN) # enter 키를 친다\n",
    "\n",
    "# 스크롤바 내리기\n",
    "\n",
    "SCROLL_PAUSE_TIME = 5\n",
    "\n",
    "# Get scroll height\n",
    "last_height = driver.execute_script(\"return document.body.scrollHeight\")\n",
    "\n",
    "while True:\n",
    "    # Scroll down to bottom\n",
    "    driver.execute_script(\"window.scrollTo(0, document.body.scrollHeight);\")\n",
    "\n",
    "    # Wait to load page\n",
    "    time.sleep(SCROLL_PAUSE_TIME)\n",
    "    # Calculate new scroll height and compare with last scroll height\n",
    "    new_height = driver.execute_script(\"return document.body.scrollHeight\")\n",
    "    if new_height == last_height:\n",
    "        try:\n",
    "            driver.find_element(By.CSS_SELECTOR, '.mye4qd').click() # 결과 더보기 클릭\n",
    "        except:\n",
    "            break\n",
    "    last_height = new_height\n",
    "    \n",
    "\n",
    "\n",
    "imgs = driver.find_elements(By.CSS_SELECTOR, '.rg_i.Q4LuWd') # 큰 그림을 클릭 CSS-selector를 전체 가져오기\n",
    "cnt = 1\n",
    "for img in imgs:\n",
    "    try:\n",
    "        img.click()\n",
    "        time.sleep(3)\n",
    "        src = driver.find_element(By.CSS_SELECTOR, '.n3VNCb').get_attribute('src') # src 주소를 가져와야한다.\n",
    "        # 이미지 다운로드\n",
    "        u.request.urlretrieve(src, f'./images/images{cnt}.png')\n",
    "        cnt += 1\n",
    "    except:\n",
    "        pass\n",
    "\n",
    "\n",
    "# n3VNCb KAlRDb\n",
    "\n",
    "\n",
    "\n",
    "# https://upload.wikimedia.org/wikipedia/ko/d/dd/%ED%95%B4%EB%A6%AC_%ED%8F%AC%ED%84%B0%EC%99%80_%EB%A7%88%EB%B2%95%EC%82%AC%EC%9D%98_%EB%8F%8C_%EC%98%81%ED%99%94.jpg\n",
    "\n",
    "driver.close()"
   ]
  },
  {
   "cell_type": "code",
   "execution_count": null,
   "id": "39c74656",
   "metadata": {},
   "outputs": [],
   "source": [
    "# rg_i Q4LuWd"
   ]
  },
  {
   "cell_type": "code",
   "execution_count": null,
   "id": "7e0da09c",
   "metadata": {},
   "outputs": [],
   "source": []
  }
 ],
 "metadata": {
  "kernelspec": {
   "display_name": "Python 3 (ipykernel)",
   "language": "python",
   "name": "python3"
  },
  "language_info": {
   "codemirror_mode": {
    "name": "ipython",
    "version": 3
   },
   "file_extension": ".py",
   "mimetype": "text/x-python",
   "name": "python",
   "nbconvert_exporter": "python",
   "pygments_lexer": "ipython3",
   "version": "3.8.8"
  }
 },
 "nbformat": 4,
 "nbformat_minor": 5
}
