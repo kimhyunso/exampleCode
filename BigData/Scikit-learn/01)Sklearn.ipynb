{
 "cells": [
  {
   "cell_type": "code",
   "execution_count": 1,
   "id": "c7374f66",
   "metadata": {},
   "outputs": [],
   "source": [
    "# 데이터셋 정의 - iris_data()\n",
    "import sklearn\n",
    "import pandas as pd\n",
    "import numpy as np"
   ]
  },
  {
   "cell_type": "code",
   "execution_count": null,
   "id": "ee106f89",
   "metadata": {},
   "outputs": [],
   "source": []
  },
  {
   "cell_type": "code",
   "execution_count": 12,
   "id": "d1d588bd",
   "metadata": {},
   "outputs": [
    {
     "name": "stdout",
     "output_type": "stream",
     "text": [
      "<class 'pandas.core.frame.DataFrame'>\n",
      "RangeIndex: 150 entries, 0 to 149\n",
      "Data columns (total 5 columns):\n",
      " #   Column   Non-Null Count  Dtype  \n",
      "---  ------   --------------  -----  \n",
      " 0   sep.len  150 non-null    float64\n",
      " 1   sep.wid  150 non-null    float64\n",
      " 2   pet.len  150 non-null    float64\n",
      " 3   pet.wid  150 non-null    float64\n",
      " 4   target   150 non-null    int32  \n",
      "dtypes: float64(4), int32(1)\n",
      "memory usage: 5.4 KB\n"
     ]
    }
   ],
   "source": [
    "from sklearn.datasets import load_iris\n",
    "\n",
    "iris = load_iris()\n",
    "# type(iris)\n",
    "x_featrues =  iris.data\n",
    "y_label = iris.target # Label\n",
    "\n",
    "col_names = ['sep.len', 'sep.wid', 'pet.len', 'pet.wid']\n",
    "iris_df = pd.DataFrame(data=x_featrues, columns=col_names)\n",
    "iris_df['target'] = y_label\n",
    "iris_df.info()"
   ]
  },
  {
   "cell_type": "code",
   "execution_count": 3,
   "id": "a5e1bd13",
   "metadata": {},
   "outputs": [],
   "source": [
    "from sklearn.model_selection import train_test_split"
   ]
  },
  {
   "cell_type": "code",
   "execution_count": null,
   "id": "e6720341",
   "metadata": {},
   "outputs": [],
   "source": [
    "# train_test_split ==> 과대적합 // 과소적합\n",
    "?train_test_split"
   ]
  },
  {
   "cell_type": "code",
   "execution_count": null,
   "id": "a63a57ac",
   "metadata": {},
   "outputs": [],
   "source": [
    "# train_test_split의 용례\n",
    "array1 = np.arange(1, 11)\n",
    "# array_train, array_test = train_test_split(array1, test_size=0.2, random_state=11)\n",
    "# 두 줄로 코드를 쓴다면?\n",
    "# x_train, x_test = train_test_split(x_featrues, test_size=0.2, random_state=11)\n",
    "# y_train, y_test = train_test_split(y_label, test_size=0.2, random_state=11)"
   ]
  },
  {
   "cell_type": "code",
   "execution_count": 4,
   "id": "6a4cd721",
   "metadata": {},
   "outputs": [],
   "source": [
    "# 각 쓰일 데이터들의 shape을 확인\n",
    "x_train, x_test, y_train, y_test = train_test_split(x_featrues, y_label, test_size=0.2, random_state=11)"
   ]
  },
  {
   "cell_type": "code",
   "execution_count": 5,
   "id": "1d77cb6a",
   "metadata": {},
   "outputs": [],
   "source": [
    "# 쓰일 알고리즘 Loading => 의사결정나무\n",
    "# Block - Box\n",
    "from sklearn.tree import DecisionTreeClassifier\n",
    "# 알고리즘 객체화 (insternce)\n",
    "dt_clf = DecisionTreeClassifier(random_state=11)"
   ]
  },
  {
   "cell_type": "code",
   "execution_count": 6,
   "id": "6f772775",
   "metadata": {},
   "outputs": [
    {
     "data": {
      "text/plain": [
       "DecisionTreeClassifier(random_state=11)"
      ]
     },
     "execution_count": 6,
     "metadata": {},
     "output_type": "execute_result"
    }
   ],
   "source": [
    "# 학습을 수행 fit() - estimator를 활용한다. :: 적합시키다.\n",
    "dt_clf.fit(x_train, y_train) # 전체데이터 중에서 150 -> 120개 학습에 적용"
   ]
  },
  {
   "cell_type": "code",
   "execution_count": 7,
   "id": "ad247351",
   "metadata": {},
   "outputs": [],
   "source": [
    "# 학습된 dt_clf 모델을 토대로\n",
    "# 분류예측을 수행한다. x_test값만 넣는다. predict()\n",
    "\n",
    "y_pred = dt_clf.predict(x_test) # 30개만 현재 데이터에 예측의 재료로..."
   ]
  },
  {
   "cell_type": "code",
   "execution_count": 8,
   "id": "584fce38",
   "metadata": {},
   "outputs": [
    {
     "data": {
      "text/plain": [
       "array([2, 2, 1, 1, 2, 0, 1, 0, 0, 1, 1, 1, 1, 2, 2, 0, 2, 1, 2, 2, 1, 0,\n",
       "       0, 1, 0, 0, 2, 1, 0, 1])"
      ]
     },
     "execution_count": 8,
     "metadata": {},
     "output_type": "execute_result"
    }
   ],
   "source": [
    "y_pred # 예측값 2개를 틀림"
   ]
  },
  {
   "cell_type": "code",
   "execution_count": 9,
   "id": "bf5e5bf8",
   "metadata": {},
   "outputs": [
    {
     "data": {
      "text/plain": [
       "array([2, 2, 2, 1, 2, 0, 1, 0, 0, 1, 2, 1, 1, 2, 2, 0, 2, 1, 2, 2, 1, 0,\n",
       "       0, 1, 0, 0, 2, 1, 0, 1])"
      ]
     },
     "execution_count": 9,
     "metadata": {},
     "output_type": "execute_result"
    }
   ],
   "source": [
    "y_test # 실제값"
   ]
  },
  {
   "cell_type": "code",
   "execution_count": 10,
   "id": "248abbbe",
   "metadata": {},
   "outputs": [],
   "source": [
    "# 평가지표 호출\n",
    "from sklearn.metrics import accuracy_score as acc_sc"
   ]
  },
  {
   "cell_type": "code",
   "execution_count": 13,
   "id": "470aaa0b",
   "metadata": {},
   "outputs": [
    {
     "data": {
      "text/plain": [
       "0.9333333333333333"
      ]
     },
     "execution_count": 13,
     "metadata": {},
     "output_type": "execute_result"
    }
   ],
   "source": [
    "acc_sc(y_test, y_pred)"
   ]
  },
  {
   "cell_type": "code",
   "execution_count": null,
   "id": "0633b36b",
   "metadata": {},
   "outputs": [],
   "source": []
  }
 ],
 "metadata": {
  "kernelspec": {
   "display_name": "Python 3 (ipykernel)",
   "language": "python",
   "name": "python3"
  },
  "language_info": {
   "codemirror_mode": {
    "name": "ipython",
    "version": 3
   },
   "file_extension": ".py",
   "mimetype": "text/x-python",
   "name": "python",
   "nbconvert_exporter": "python",
   "pygments_lexer": "ipython3",
   "version": "3.7.16"
  }
 },
 "nbformat": 4,
 "nbformat_minor": 5
}
