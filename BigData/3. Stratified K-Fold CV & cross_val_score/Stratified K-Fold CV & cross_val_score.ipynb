{
 "cells": [
  {
   "cell_type": "markdown",
   "metadata": {},
   "source": [
    "<br>\n",
    "<br>\n",
    "\n",
    "# Cross-validation"
   ]
  },
  {
   "cell_type": "code",
   "execution_count": 1,
   "metadata": {},
   "outputs": [],
   "source": [
    "from collections import Counter \n",
    "\n",
    "import numpy as np\n",
    "import pandas as pd\n",
    "import matplotlib.pyplot as plt\n",
    "\n",
    "from sklearn import datasets, model_selection, ensemble\n",
    "from sklearn.metrics import accuracy_score, roc_curve, auc"
   ]
  },
  {
   "cell_type": "code",
   "execution_count": 2,
   "metadata": {},
   "outputs": [],
   "source": [
    "data = datasets.load_breast_cancer()\n",
    "\n",
    "x_data = data.data\n",
    "y_data = data.target"
   ]
  },
  {
   "cell_type": "code",
   "execution_count": 25,
   "metadata": {},
   "outputs": [],
   "source": [
    "def create_model():\n",
    "    \n",
    "    # Tree-based model이므로 Standard-scaling or Min-max scaling 필수 X\n",
    "    # n_estimators : tree model갯수 max_depth : 트리의 깊이, min_saples_split : 가지치기 얼마나\n",
    "    # learning_rate : 경사하강법\n",
    "    model = ensemble.GradientBoostingClassifier(n_estimators=1000, \n",
    "                                            max_depth=4, \n",
    "                                            min_samples_split=5, \n",
    "                                            learning_rate=0.01,\n",
    "                                            random_state=42)\n",
    "    return model"
   ]
  },
  {
   "cell_type": "markdown",
   "metadata": {},
   "source": [
    "<br>\n",
    "<br>\n",
    "\n",
    "## 1. Train-Test split → Model-training"
   ]
  },
  {
   "cell_type": "code",
   "execution_count": 4,
   "metadata": {},
   "outputs": [],
   "source": [
    "from sklearn import model_selection\n",
    "\n",
    "x_train, x_test, y_train, y_test = model_selection.train_test_split(x_data, \n",
    "                                                                    y_data, \n",
    "                                                                    test_size=0.3, \n",
    "                                                                    random_state=0)"
   ]
  },
  {
   "cell_type": "code",
   "execution_count": 5,
   "metadata": {},
   "outputs": [
    {
     "name": "stdout",
     "output_type": "stream",
     "text": [
      "AUC:  0.9961787184009406\n",
      "Accuracy:  0.9590643274853801\n"
     ]
    }
   ],
   "source": [
    "model = create_model()\n",
    "model.fit(x_train, y_train)\n",
    "\n",
    "pred_test = model.predict_proba(x_test) \n",
    "fpr, tpr, _ = roc_curve(y_true=y_test, y_score=pred_test[:,1]) \n",
    "roc_auc = auc(fpr, tpr) \n",
    "\n",
    "print('AUC: ', roc_auc)\n",
    "print('Accuracy: ', accuracy_score(model.predict(x_test), y_test))"
   ]
  },
  {
   "cell_type": "markdown",
   "metadata": {},
   "source": [
    "<br>\n",
    "<br>\n",
    "\n",
    "## 2. K-Fold CV"
   ]
  },
  {
   "cell_type": "code",
   "execution_count": 6,
   "metadata": {},
   "outputs": [],
   "source": [
    "from sklearn import model_selection # train_test_split, GridSearchCV, RandomizedSearchCV\n",
    "\n",
    "kf = model_selection.KFold(n_splits=10, shuffle=False) # 5번에서 활용할 cross_val_score의 결과와 동일한 결과를 만들기 위함 "
   ]
  },
  {
   "cell_type": "code",
   "execution_count": 7,
   "metadata": {},
   "outputs": [
    {
     "data": {
      "text/plain": [
       "<generator object _BaseKFold.split at 0x000001C6A33C8970>"
      ]
     },
     "execution_count": 7,
     "metadata": {},
     "output_type": "execute_result"
    }
   ],
   "source": [
    "kf.split(x_data, y_data) # Generate indices to split data into training and test set"
   ]
  },
  {
   "cell_type": "code",
   "execution_count": 8,
   "metadata": {},
   "outputs": [
    {
     "name": "stdout",
     "output_type": "stream",
     "text": [
      "<class 'tuple'> 2\n",
      "<class 'tuple'> 2\n",
      "<class 'tuple'> 2\n",
      "<class 'tuple'> 2\n",
      "<class 'tuple'> 2\n",
      "<class 'tuple'> 2\n",
      "<class 'tuple'> 2\n",
      "<class 'tuple'> 2\n",
      "<class 'tuple'> 2\n",
      "<class 'tuple'> 2\n"
     ]
    }
   ],
   "source": [
    "for i in kf.split(x_data, y_data):\n",
    "    print(type(i), len(i))"
   ]
  },
  {
   "cell_type": "code",
   "execution_count": 18,
   "metadata": {},
   "outputs": [
    {
     "data": {
      "text/plain": [
       "512.1"
      ]
     },
     "execution_count": 18,
     "metadata": {},
     "output_type": "execute_result"
    }
   ],
   "source": [
    "x_data.shape[0] * 0.9"
   ]
  },
  {
   "cell_type": "code",
   "execution_count": 21,
   "metadata": {},
   "outputs": [
    {
     "name": "stdout",
     "output_type": "stream",
     "text": [
      "(512,) (57,) 569\n",
      "(512,) (57,) 569\n",
      "(512,) (57,) 569\n",
      "(512,) (57,) 569\n",
      "(512,) (57,) 569\n",
      "(512,) (57,) 569\n",
      "(512,) (57,) 569\n",
      "(512,) (57,) 569\n",
      "(512,) (57,) 569\n",
      "(513,) (56,) 569\n"
     ]
    }
   ],
   "source": [
    "for i in kf.split(x_data, y_data):\n",
    "    print(i[0].shape, i[1].shape, i[0].shape[0] + i[1].shape[0])\n"
   ]
  },
  {
   "cell_type": "code",
   "execution_count": 16,
   "metadata": {},
   "outputs": [],
   "source": [
    "# i[0] # indices to split data into training and test set"
   ]
  },
  {
   "cell_type": "code",
   "execution_count": 20,
   "metadata": {},
   "outputs": [
    {
     "data": {
      "text/plain": [
       "array([[ 4,  5,  6],\n",
       "       [10, 11, 12]])"
      ]
     },
     "execution_count": 20,
     "metadata": {},
     "output_type": "execute_result"
    }
   ],
   "source": [
    "example_matrix = np.array([[1, 2, 3], [4, 5, 6], [7, 8, 9], [10, 11, 12]])\n",
    "\n",
    "example_matrix[ [1, 3] , : ]\n",
    "# example_matrix[ (1, 3) , : ]\n",
    "example_matrix[[]]"
   ]
  },
  {
   "cell_type": "code",
   "execution_count": 11,
   "metadata": {},
   "outputs": [
    {
     "data": {
      "text/plain": [
       "array([[1.969e+01, 2.125e+01, 1.300e+02, 1.203e+03, 1.096e-01, 1.599e-01,\n",
       "        1.974e-01, 1.279e-01, 2.069e-01, 5.999e-02, 7.456e-01, 7.869e-01,\n",
       "        4.585e+00, 9.403e+01, 6.150e-03, 4.006e-02, 3.832e-02, 2.058e-02,\n",
       "        2.250e-02, 4.571e-03, 2.357e+01, 2.553e+01, 1.525e+02, 1.709e+03,\n",
       "        1.444e-01, 4.245e-01, 4.504e-01, 2.430e-01, 3.613e-01, 8.758e-02],\n",
       "       [1.245e+01, 1.570e+01, 8.257e+01, 4.771e+02, 1.278e-01, 1.700e-01,\n",
       "        1.578e-01, 8.089e-02, 2.087e-01, 7.613e-02, 3.345e-01, 8.902e-01,\n",
       "        2.217e+00, 2.719e+01, 7.510e-03, 3.345e-02, 3.672e-02, 1.137e-02,\n",
       "        2.165e-02, 5.082e-03, 1.547e+01, 2.375e+01, 1.034e+02, 7.416e+02,\n",
       "        1.791e-01, 5.249e-01, 5.355e-01, 1.741e-01, 3.985e-01, 1.244e-01],\n",
       "       [1.602e+01, 2.324e+01, 1.027e+02, 7.978e+02, 8.206e-02, 6.669e-02,\n",
       "        3.299e-02, 3.323e-02, 1.528e-01, 5.697e-02, 3.795e-01, 1.187e+00,\n",
       "        2.466e+00, 4.051e+01, 4.029e-03, 9.269e-03, 1.101e-02, 7.591e-03,\n",
       "        1.460e-02, 3.042e-03, 1.919e+01, 3.388e+01, 1.238e+02, 1.150e+03,\n",
       "        1.181e-01, 1.551e-01, 1.459e-01, 9.975e-02, 2.948e-01, 8.452e-02]])"
      ]
     },
     "execution_count": 11,
     "metadata": {},
     "output_type": "execute_result"
    }
   ],
   "source": [
    "train_index = [2, 5, 10]\n",
    "\n",
    "x_data[train_index, :]"
   ]
  },
  {
   "cell_type": "code",
   "execution_count": 22,
   "metadata": {
    "scrolled": true
   },
   "outputs": [
    {
     "name": "stdout",
     "output_type": "stream",
     "text": [
      "0\n",
      "[0 Fold] \n",
      " Selected validation data : \n",
      " [0 0 0 0 0 0 0 0 0 0 0 0 0 0 0 0 0 0 0 1 1 1 0 0 0 0 0 0 0 0 0 0 0 0 0 0 0\n",
      " 1 0 0 0 0 0 0 0 0 1 0 1 1 1 1 1 0 0 1 0] \n",
      " Counter({0: 46, 1: 11}) \n",
      "\n",
      "1\n",
      "[1 Fold] \n",
      " Selected validation data : \n",
      " [0 1 1 1 1 0 1 0 0 1 1 1 1 0 1 0 0 1 0 1 0 0 1 1 1 0 0 1 0 0 0 1 1 1 0 1 1\n",
      " 0 0 1 1 1 0 0 1 1 1 1 0 1 1 0 1 1 1 1 1] \n",
      " Counter({1: 35, 0: 22}) \n",
      "\n",
      "2\n",
      "[2 Fold] \n",
      " Selected validation data : \n",
      " [1 1 1 0 0 0 1 0 0 1 1 1 0 0 1 0 1 0 0 1 0 0 1 1 0 1 1 0 1 1 1 1 0 1 1 1 1\n",
      " 1 1 1 1 1 0 1 1 1 1 0 0 1 0 1 1 0 0 1 1] \n",
      " Counter({1: 36, 0: 21}) \n",
      "\n",
      "3\n",
      "[3 Fold] \n",
      " Selected validation data : \n",
      " [0 0 1 1 1 1 0 1 1 0 0 0 1 0 1 0 1 1 1 0 1 1 0 0 1 0 0 0 0 1 0 0 0 1 0 1 0\n",
      " 1 1 0 1 0 0 0 0 1 1 0 0 1 1 1 0 1 1 1 1] \n",
      " Counter({1: 29, 0: 28}) \n",
      "\n",
      "4\n",
      "[4 Fold] \n",
      " Selected validation data : \n",
      " [1 0 0 1 1 0 1 1 0 0 1 0 1 1 1 1 0 1 1 1 1 1 0 1 0 0 0 0 0 0 0 0 0 0 0 0 0\n",
      " 0 1 1 1 1 1 1 0 1 0 1 1 0 1 1 0 1 0 0 1] \n",
      " Counter({1: 29, 0: 28}) \n",
      "\n",
      "5\n",
      "[5 Fold] \n",
      " Selected validation data : \n",
      " [1 1 1 1 1 1 1 1 1 1 1 1 0 1 1 0 1 0 1 1 1 1 1 1 1 1 1 1 1 1 1 1 0 1 1 1 0\n",
      " 1 0 1 1 1 1 0 0 0 1 1 1 1 0 1 0 1 0 1 1] \n",
      " Counter({1: 45, 0: 12}) \n",
      "\n",
      "6\n",
      "[6 Fold] \n",
      " Selected validation data : \n",
      " [1 0 1 1 1 1 1 1 1 0 0 0 1 1 1 1 1 1 1 1 1 1 1 0 0 1 0 0 0 1 0 0 1 1 1 1 1\n",
      " 0 1 1 1 1 1 0 1 1 1 0 1 1 0 0 1 1 1 1 1] \n",
      " Counter({1: 41, 0: 16}) \n",
      "\n",
      "7\n",
      "[7 Fold] \n",
      " Selected validation data : \n",
      " [1 0 1 1 1 1 1 1 1 0 1 1 1 1 1 0 1 1 0 1 1 1 1 1 1 1 1 1 1 1 1 0 1 0 0 1 0\n",
      " 1 1 1 1 1 0 1 1 0 1 0 1 1 0 1 0 1 1 1 1] \n",
      " Counter({1: 44, 0: 13}) \n",
      "\n",
      "8\n",
      "[8 Fold] \n",
      " Selected validation data : \n",
      " [1 1 1 1 0 0 1 1 1 1 1 1 0 1 1 1 1 1 1 1 1 1 1 0 1 1 1 1 1 1 1 0 1 0 1 1 0\n",
      " 1 1 1 1 1 0 0 1 0 1 0 1 1 1 1 1 0 1 1 0] \n",
      " Counter({1: 44, 0: 13}) \n",
      "\n",
      "9\n",
      "[9 Fold] \n",
      " Selected validation data : \n",
      " [1 0 1 0 0 1 1 1 0 1 1 1 1 1 1 1 1 1 1 1 0 1 0 0 1 1 1 1 1 1 1 1 1 1 1 1 1\n",
      " 1 1 1 1 1 1 1 1 1 1 1 1 0 0 0 0 0 0 1] \n",
      " Counter({1: 43, 0: 13}) \n",
      "\n"
     ]
    }
   ],
   "source": [
    "for fold_idx, (train_idx, valid_idx) in enumerate(kf.split(x_data, y_data)) :\n",
    "    train_data, train_label = x_data[train_idx, :], y_data[train_idx]\n",
    "    valid_data, valid_label = x_data[valid_idx, :], y_data[valid_idx]\n",
    "    \n",
    "    print('[{} Fold] \\n Selected validation data : \\n {} \\n {} \\n'.format(fold_idx, valid_label, Counter(valid_label)))"
   ]
  },
  {
   "cell_type": "markdown",
   "metadata": {},
   "source": [
    "<br>\n",
    "<br>\n",
    "\n",
    "## 3. Stratified K-Fold CV"
   ]
  },
  {
   "cell_type": "code",
   "execution_count": 23,
   "metadata": {},
   "outputs": [],
   "source": [
    "from sklearn import model_selection \n",
    "\n",
    "stratified_kf = model_selection.StratifiedKFold(n_splits=10, shuffle=False)"
   ]
  },
  {
   "cell_type": "code",
   "execution_count": 24,
   "metadata": {
    "scrolled": true
   },
   "outputs": [
    {
     "name": "stdout",
     "output_type": "stream",
     "text": [
      "[0 Fold] \n",
      " Selected validation data : \n",
      " [0 0 0 0 0 0 0 0 0 0 0 0 0 0 0 0 0 0 0 1 1 1 0 0 0 1 1 1 1 1 1 1 1 1 1 1 1\n",
      " 1 1 1 1 1 1 1 1 1 1 1 1 1 1 1 1 1 1 1 1] \n",
      " Counter({1: 35, 0: 22}) \n",
      "\n",
      "[1 Fold] \n",
      " Selected validation data : \n",
      " [0 0 0 0 0 0 0 0 0 0 0 0 0 0 0 0 0 0 0 0 0 0 1 1 1 1 1 1 1 1 1 1 1 1 1 1 1\n",
      " 1 1 1 1 1 1 1 1 1 1 1 1 1 1 1 1 1 1 1 1] \n",
      " Counter({1: 35, 0: 22}) \n",
      "\n",
      "[2 Fold] \n",
      " Selected validation data : \n",
      " [0 0 0 0 0 0 0 0 0 0 0 0 0 0 0 0 0 0 0 0 0 1 1 1 1 1 1 1 1 1 1 1 1 1 1 1 1\n",
      " 1 1 1 1 1 1 1 1 1 1 1 1 1 1 1 1 1 1 1 1] \n",
      " Counter({1: 36, 0: 21}) \n",
      "\n",
      "[3 Fold] \n",
      " Selected validation data : \n",
      " [0 0 0 0 0 0 0 0 0 0 0 0 0 0 0 0 0 0 0 0 0 1 1 1 1 1 1 1 1 1 1 1 1 1 1 1 1\n",
      " 1 1 1 1 1 1 1 1 1 1 1 1 1 1 1 1 1 1 1 1] \n",
      " Counter({1: 36, 0: 21}) \n",
      "\n",
      "[4 Fold] \n",
      " Selected validation data : \n",
      " [0 0 0 0 0 0 0 0 0 0 0 0 0 0 0 0 0 0 0 0 0 1 1 1 1 1 1 1 1 1 1 1 1 1 1 1 1\n",
      " 1 1 1 1 1 1 1 1 1 1 1 1 1 1 1 1 1 1 1 1] \n",
      " Counter({1: 36, 0: 21}) \n",
      "\n",
      "[5 Fold] \n",
      " Selected validation data : \n",
      " [0 0 0 0 0 0 0 0 0 0 0 0 0 0 0 0 0 0 0 0 0 1 1 1 1 1 1 1 1 1 1 1 1 1 1 1 1\n",
      " 1 1 1 1 1 1 1 1 1 1 1 1 1 1 1 1 1 1 1 1] \n",
      " Counter({1: 36, 0: 21}) \n",
      "\n",
      "[6 Fold] \n",
      " Selected validation data : \n",
      " [0 0 0 0 0 0 0 0 0 0 0 0 0 0 0 0 0 0 0 0 0 1 1 1 1 1 1 1 1 1 1 1 1 1 1 1 1\n",
      " 1 1 1 1 1 1 1 1 1 1 1 1 1 1 1 1 1 1 1 1] \n",
      " Counter({1: 36, 0: 21}) \n",
      "\n",
      "[7 Fold] \n",
      " Selected validation data : \n",
      " [0 0 0 0 0 0 0 0 0 0 0 0 0 0 0 0 0 0 0 0 0 1 1 1 1 1 1 1 1 1 1 1 1 1 1 1 1\n",
      " 1 1 1 1 1 1 1 1 1 1 1 1 1 1 1 1 1 1 1 1] \n",
      " Counter({1: 36, 0: 21}) \n",
      "\n",
      "[8 Fold] \n",
      " Selected validation data : \n",
      " [0 0 0 0 0 0 0 0 0 0 0 0 0 0 0 0 0 0 0 1 1 1 1 0 1 1 1 1 1 1 1 0 1 1 1 1 1\n",
      " 1 1 1 1 1 1 1 1 1 1 1 1 1 1 1 1 1 1 1 1] \n",
      " Counter({1: 36, 0: 21}) \n",
      "\n",
      "[9 Fold] \n",
      " Selected validation data : \n",
      " [0 0 0 0 0 0 0 0 0 0 0 0 1 1 1 1 1 1 1 1 0 1 0 0 1 1 1 1 1 1 1 1 1 1 1 1 1\n",
      " 1 1 1 1 1 1 1 1 1 1 1 1 0 0 0 0 0 0 1] \n",
      " Counter({1: 35, 0: 21}) \n",
      "\n"
     ]
    }
   ],
   "source": [
    "for fold_idx, (train_idx, valid_idx) in enumerate(stratified_kf.split(x_data, y_data)) :\n",
    "    train_data, train_label = x_data[train_idx, :], y_data[train_idx]\n",
    "    valid_data, valid_label = x_data[valid_idx, :], y_data[valid_idx]\n",
    "    \n",
    "    print('[{} Fold] \\n Selected validation data : \\n {} \\n {} \\n'.format(fold_idx, valid_label, Counter(valid_label)))"
   ]
  },
  {
   "cell_type": "markdown",
   "metadata": {},
   "source": [
    "<br>\n",
    "<br>\n",
    "\n",
    "## 4. Stratified K-Fold CV → Model-training"
   ]
  },
  {
   "cell_type": "code",
   "execution_count": 11,
   "metadata": {
    "scrolled": true
   },
   "outputs": [
    {
     "name": "stdout",
     "output_type": "stream",
     "text": [
      "[0 Fold] \n",
      " Accuracy-Training : 100.00% \n",
      " Accuracy-Validation : 96.49% \n",
      "\n",
      "[1 Fold] \n",
      " Accuracy-Training : 100.00% \n",
      " Accuracy-Validation : 92.98% \n",
      "\n",
      "[2 Fold] \n",
      " Accuracy-Training : 100.00% \n",
      " Accuracy-Validation : 92.98% \n",
      "\n",
      "[3 Fold] \n",
      " Accuracy-Training : 100.00% \n",
      " Accuracy-Validation : 92.98% \n",
      "\n",
      "[4 Fold] \n",
      " Accuracy-Training : 100.00% \n",
      " Accuracy-Validation : 100.00% \n",
      "\n",
      "[5 Fold] \n",
      " Accuracy-Training : 100.00% \n",
      " Accuracy-Validation : 96.49% \n",
      "\n",
      "[6 Fold] \n",
      " Accuracy-Training : 100.00% \n",
      " Accuracy-Validation : 98.25% \n",
      "\n",
      "[7 Fold] \n",
      " Accuracy-Training : 100.00% \n",
      " Accuracy-Validation : 98.25% \n",
      "\n",
      "[8 Fold] \n",
      " Accuracy-Training : 100.00% \n",
      " Accuracy-Validation : 98.25% \n",
      "\n",
      "[9 Fold] \n",
      " Accuracy-Training : 100.00% \n",
      " Accuracy-Validation : 98.21% \n",
      "\n",
      "Cross-Validation Score : 96.49%\n"
     ]
    }
   ],
   "source": [
    "valid_scores = []\n",
    "\n",
    "stratified_kf = model_selection.StratifiedKFold(n_splits=10, shuffle=False)\n",
    "\n",
    "for fold_idx, (train_idx, valid_idx) in enumerate(stratified_kf.split(x_data, y_data)) :\n",
    "    train_data, train_label = x_data[train_idx, :], y_data[train_idx]\n",
    "    valid_data, valid_label = x_data[valid_idx, :], y_data[valid_idx]\n",
    "    \n",
    "    model = create_model()\n",
    "    model.fit(train_data, train_label)\n",
    "    \n",
    "    train_acc = accuracy_score(model.predict(train_data), train_label) * 100\n",
    "    valid_acc = accuracy_score(model.predict(valid_data), valid_label) * 100\n",
    "    print('[{} Fold] \\n Accuracy-Training : {:.2f}% \\n Accuracy-Validation : {:.2f}% \\n'.format(fold_idx, \n",
    "                                                                                                train_acc, \n",
    "                                                                                                valid_acc))\n",
    "    valid_scores.append(valid_acc)\n",
    "\n",
    "print('Cross-Validation Score : {:.2f}%'.format(np.mean(valid_scores)))"
   ]
  },
  {
   "cell_type": "markdown",
   "metadata": {},
   "source": [
    "## 5-1 활용"
   ]
  },
  {
   "cell_type": "markdown",
   "metadata": {},
   "source": [
    "<br>\n",
    "<br>\n",
    "\n",
    "## 5. cross_val_score → Model-training"
   ]
  },
  {
   "cell_type": "markdown",
   "metadata": {},
   "source": [
    "### 1) 'cv' parameter <- int"
   ]
  },
  {
   "cell_type": "code",
   "execution_count": 16,
   "metadata": {},
   "outputs": [
    {
     "name": "stderr",
     "output_type": "stream",
     "text": [
      "[Parallel(n_jobs=-1)]: Using backend LokyBackend with 4 concurrent workers.\n",
      "[Parallel(n_jobs=-1)]: Done  10 out of  10 | elapsed:   27.6s finished\n"
     ]
    }
   ],
   "source": [
    "from sklearn import model_selection\n",
    "\n",
    "model = create_model()\n",
    "\n",
    "# Classification model이 활용되고 y_data가 이진분류 or 다중분류 형태일 경우 자동으로 Stratified K-Fold가 적용됨\n",
    "valid_scores = model_selection.cross_val_score(model, x_data, y_data, \n",
    "                                               cv=10, verbose=1,\n",
    "                                               n_jobs=-1) # Number of jobs to run in parallel. '-1' == use all processors"
   ]
  },
  {
   "cell_type": "code",
   "execution_count": 17,
   "metadata": {},
   "outputs": [
    {
     "data": {
      "text/plain": [
       "array([0.96491228, 0.92982456, 0.92982456, 0.92982456, 1.        ,\n",
       "       0.96491228, 0.98245614, 0.98245614, 0.98245614, 0.98214286])"
      ]
     },
     "execution_count": 17,
     "metadata": {},
     "output_type": "execute_result"
    }
   ],
   "source": [
    "valid_scores"
   ]
  },
  {
   "cell_type": "code",
   "execution_count": 18,
   "metadata": {},
   "outputs": [
    {
     "name": "stdout",
     "output_type": "stream",
     "text": [
      "Cross-Validation Score : 96.49%\n"
     ]
    }
   ],
   "source": [
    "print('Cross-Validation Score : {:.2f}%'.format(np.mean(valid_scores * 100)))"
   ]
  },
  {
   "cell_type": "markdown",
   "metadata": {},
   "source": [
    "### 2) 'cv' parameter <- KFold or StratifiedKFold"
   ]
  },
  {
   "cell_type": "code",
   "execution_count": 26,
   "metadata": {},
   "outputs": [
    {
     "name": "stderr",
     "output_type": "stream",
     "text": [
      "[Parallel(n_jobs=-1)]: Using backend LokyBackend with 8 concurrent workers.\n",
      "[Parallel(n_jobs=-1)]: Done   6 out of  10 | elapsed:    7.7s remaining:    5.1s\n",
      "[Parallel(n_jobs=-1)]: Done  10 out of  10 | elapsed:   11.9s finished\n",
      "[Parallel(n_jobs=-1)]: Using backend LokyBackend with 8 concurrent workers.\n",
      "[Parallel(n_jobs=-1)]: Done   6 out of  10 | elapsed:    5.2s remaining:    3.4s\n",
      "[Parallel(n_jobs=-1)]: Done  10 out of  10 | elapsed:    9.3s finished\n"
     ]
    }
   ],
   "source": [
    "# K-Fold\n",
    "\n",
    "model = create_model()\n",
    "kf = model_selection.KFold(n_splits=10, shuffle=False)\n",
    "\n",
    "valid_scores_kf = model_selection.cross_val_score(model, x_data, y_data,\n",
    "                                                  cv=kf, verbose=1, n_jobs=-1)\n",
    "\n",
    "# Stratified K-Fold\n",
    "\n",
    "model = create_model()\n",
    "stratified_kf = model_selection.StratifiedKFold(n_splits=10, shuffle=False)\n",
    "\n",
    "valid_scores_s_kf = model_selection.cross_val_score(model, x_data, y_data,\n",
    "                                                    cv=stratified_kf, verbose=1, n_jobs=-1)"
   ]
  },
  {
   "cell_type": "code",
   "execution_count": 27,
   "metadata": {},
   "outputs": [
    {
     "name": "stdout",
     "output_type": "stream",
     "text": [
      "Cross-Validation Score (K-Fold): 96.32%\n",
      "Cross-Validation Score (Stratified K-Fold): 96.49%\n"
     ]
    }
   ],
   "source": [
    "print('Cross-Validation Score (K-Fold): {:.2f}%'.format(np.mean(valid_scores_kf * 100)))\n",
    "print('Cross-Validation Score (Stratified K-Fold): {:.2f}%'.format(np.mean(valid_scores_s_kf * 100)))"
   ]
  },
  {
   "cell_type": "code",
   "execution_count": null,
   "metadata": {},
   "outputs": [],
   "source": []
  }
 ],
 "metadata": {
  "colab": {
   "collapsed_sections": [],
   "name": "Lab_05) Model Validation.ipynb",
   "provenance": [],
   "version": "0.3.2"
  },
  "kernelspec": {
   "display_name": "Python 3",
   "language": "python",
   "name": "python3"
  },
  "language_info": {
   "codemirror_mode": {
    "name": "ipython",
    "version": 3
   },
   "file_extension": ".py",
   "mimetype": "text/x-python",
   "name": "python",
   "nbconvert_exporter": "python",
   "pygments_lexer": "ipython3",
   "version": "3.8.8"
  }
 },
 "nbformat": 4,
 "nbformat_minor": 2
}
