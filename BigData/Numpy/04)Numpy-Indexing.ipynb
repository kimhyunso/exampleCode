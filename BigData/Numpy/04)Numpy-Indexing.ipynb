{
 "cells": [
  {
   "cell_type": "markdown",
   "id": "44f6fa59",
   "metadata": {},
   "source": [
    "# Boolean Indexing"
   ]
  },
  {
   "cell_type": "code",
   "execution_count": 4,
   "id": "ee9dbc46",
   "metadata": {
    "scrolled": true
   },
   "outputs": [],
   "source": [
    "import numpy as np"
   ]
  },
  {
   "cell_type": "code",
   "execution_count": 10,
   "id": "f84dc3a9",
   "metadata": {},
   "outputs": [
    {
     "data": {
      "text/plain": [
       "array([6, 7, 8, 9])"
      ]
     },
     "execution_count": 10,
     "metadata": {},
     "output_type": "execute_result"
    }
   ],
   "source": [
    "array1d = np.arange(start=1, stop=10)\n",
    "# boolean indexing\n",
    "array1d[array1d>5]"
   ]
  },
  {
   "cell_type": "code",
   "execution_count": 11,
   "id": "e1d62765",
   "metadata": {},
   "outputs": [
    {
     "name": "stdout",
     "output_type": "stream",
     "text": [
      "6 7 8 9 "
     ]
    }
   ],
   "source": [
    "# 첫번째 방법\n",
    "for i in array1d:\n",
    "    if i > 5:\n",
    "        print(i, end=' ')"
   ]
  },
  {
   "cell_type": "code",
   "execution_count": 13,
   "id": "35ede182",
   "metadata": {},
   "outputs": [
    {
     "data": {
      "text/plain": [
       "array([6, 7, 8, 9])"
      ]
     },
     "execution_count": 13,
     "metadata": {},
     "output_type": "execute_result"
    }
   ],
   "source": [
    "# 두번째 방법\n",
    "boolean_indexes = np.array([False, False, False, False, False,  True,  True,  True,  True])\n",
    "array1d[boolean_indexes]"
   ]
  },
  {
   "cell_type": "markdown",
   "id": "f6f6818d",
   "metadata": {},
   "source": [
    "# 행렬의 정렬 - sort()와 argsort()"
   ]
  },
  {
   "cell_type": "code",
   "execution_count": 21,
   "id": "87eebce1",
   "metadata": {},
   "outputs": [
    {
     "name": "stdout",
     "output_type": "stream",
     "text": [
      "원본행렬 :  [3 1 9 5]\n",
      "np.sort() 적용 후 원본행렬 :  [3 1 9 5]\n",
      "np.sort() 적용 후 반환된 정렬행렬 :  [1 3 5 9]\n",
      "------------------------------------------------------\n",
      "org_array.sort() 적용 후 원본행렬 :  [1 3 5 9]\n",
      "org_array.sort() 적용 후 반환된 정렬행렬 :  None\n"
     ]
    }
   ],
   "source": [
    "org_array = np.array([3, 1, 9, 5,])\n",
    "print('원본행렬 : ', org_array)\n",
    "# 1. np.sort()로 정렬\n",
    "sort_array1 = np.sort(org_array)\n",
    "print('np.sort() 적용 후 원본행렬 : ', org_array)\n",
    "print('np.sort() 적용 후 반환된 정렬행렬 : ', sort_array1)\n",
    "print('------------------------------------------------------')\n",
    "# 2. ndarray.sort()로 정렬\n",
    "sort_array2 = org_array.sort()\n",
    "print('org_array.sort() 적용 후 원본행렬 : ', org_array)\n",
    "print('org_array.sort() 적용 후 반환된 정렬행렬 : ', sort_array2)"
   ]
  },
  {
   "cell_type": "code",
   "execution_count": 28,
   "id": "b6b00cc9",
   "metadata": {},
   "outputs": [
    {
     "name": "stdout",
     "output_type": "stream",
     "text": [
      "내림차순으로 정렬 :  [9 5 3 1]\n"
     ]
    }
   ],
   "source": [
    "# 내림차순 정렬\n",
    "sort_array_desc = np.sort(org_array)[::-1]\n",
    "print('내림차순으로 정렬 : ', sort_array_desc)\n"
   ]
  },
  {
   "cell_type": "code",
   "execution_count": null,
   "id": "a1718eb2",
   "metadata": {},
   "outputs": [],
   "source": []
  }
 ],
 "metadata": {
  "kernelspec": {
   "display_name": "Python 3 (ipykernel)",
   "language": "python",
   "name": "python3"
  },
  "language_info": {
   "codemirror_mode": {
    "name": "ipython",
    "version": 3
   },
   "file_extension": ".py",
   "mimetype": "text/x-python",
   "name": "python",
   "nbconvert_exporter": "python",
   "pygments_lexer": "ipython3",
   "version": "3.7.16"
  }
 },
 "nbformat": 4,
 "nbformat_minor": 5
}
