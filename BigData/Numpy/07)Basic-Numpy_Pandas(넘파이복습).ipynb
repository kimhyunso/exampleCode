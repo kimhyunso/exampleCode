{
 "cells": [
  {
   "cell_type": "markdown",
   "id": "d3892fe4",
   "metadata": {},
   "source": [
    "# 행렬의 정렬 - sort(), argsort()"
   ]
  },
  {
   "cell_type": "code",
   "execution_count": 15,
   "id": "c3360b70",
   "metadata": {},
   "outputs": [
    {
     "name": "stdout",
     "output_type": "stream",
     "text": [
      "org_arr : [3 1 9 5] / sort_arr : [1 3 5 9]\n",
      "org_arr : [1 3 5 9] / sort_arr : None\n"
     ]
    }
   ],
   "source": [
    "import numpy as np\n",
    "org_arr = np.array([3, 1, 9, 5])\n",
    "\n",
    "sort_arr = np.sort(org_array)\n",
    "# np.sort()로 정렬 - 원본 불변\n",
    "print(f'org_arr : {org_arr} / sort_arr : {sort_arr}')\n",
    "\n",
    "# ndarray.sort()로 정렬 - 원본 변함\n",
    "sort_arr = org_array.sort()\n",
    "print(f'org_arr : {org_array} / sort_arr : {sort_arr}')\n",
    "\n"
   ]
  },
  {
   "cell_type": "code",
   "execution_count": 19,
   "id": "8fbb9eb9",
   "metadata": {},
   "outputs": [
    {
     "name": "stdout",
     "output_type": "stream",
     "text": [
      "org_arr : [3 1 9 5] / desc_arr : [9 5 3 1]\n"
     ]
    }
   ],
   "source": [
    "# 내림차순\n",
    "desc_arr = np.sort(org_arr)[::-1]\n",
    "print(f'org_arr : {org_arr} / desc_arr : {desc_arr}')"
   ]
  },
  {
   "cell_type": "code",
   "execution_count": 25,
   "id": "aa518428",
   "metadata": {},
   "outputs": [
    {
     "name": "stdout",
     "output_type": "stream",
     "text": [
      "로우(행) 방향으로 정렬 [axis=0] : \n",
      " [[ 4  1]\n",
      " [ 7 12]]\n",
      "컬럼(열) 방향으로 정렬 [axis=1] : \n",
      " [[ 4 12]\n",
      " [ 1  7]]\n"
     ]
    }
   ],
   "source": [
    "# axis에 따른 정렬...\n",
    "array2d = np.array([[4,12], [7, 1],])\n",
    "\n",
    "sort_array2d_ax0 = np.sort(array2d, axis=0)\n",
    "print(f'로우(행) 방향으로 위아래 정렬 [axis=0] : \\n {sort_array2d_ax0}')\n",
    "sort_array2d_ax1 = np.sort(array2d, axis=1)\n",
    "print(f'컬럼(열) 방향으로 좌우 정렬 [axis=1] : \\n {sort_array2d_ax1}')"
   ]
  },
  {
   "cell_type": "markdown",
   "id": "4928f9d6",
   "metadata": {},
   "source": [
    "* argsort()함수 : 정렬된 행렬의 인덱스 변환!!!"
   ]
  },
  {
   "cell_type": "code",
   "execution_count": 27,
   "id": "0bc91dd6",
   "metadata": {},
   "outputs": [
    {
     "name": "stdout",
     "output_type": "stream",
     "text": [
      "행렬 정렬 후 원본행렬의 인덱스 : [1 0 3 2]\n"
     ]
    }
   ],
   "source": [
    "org_arr = np.array([3, 1, 9, 5,])  # sort => 1, 3, 5, 9\n",
    "                  # 0  1  2  3     # 1, 0, 3, 2\n",
    "sort_arr = np.argsort(org_arr)\n",
    "print(f'행렬 정렬 후 원본행렬의 인덱스 : {sort_arr}')"
   ]
  },
  {
   "cell_type": "markdown",
   "id": "b9b1d9ae",
   "metadata": {},
   "source": [
    "# 행렬의 내적 (:: 행렬곱)"
   ]
  },
  {
   "cell_type": "code",
   "execution_count": 28,
   "id": "66be444b",
   "metadata": {},
   "outputs": [
    {
     "data": {
      "text/plain": [
       "array([[ 58,  64],\n",
       "       [112, 124]])"
      ]
     },
     "execution_count": 28,
     "metadata": {},
     "output_type": "execute_result"
    }
   ],
   "source": [
    "# 2, 3\n",
    "A = np.array([[1, 2, 3], [3, 4, 5]])\n",
    "\n",
    "# 3, 2\n",
    "B = np.array([[7, 8], [9, 10], [11, 12]])\n",
    "np.dot(A, B)"
   ]
  },
  {
   "cell_type": "markdown",
   "id": "eda7fb0d",
   "metadata": {},
   "source": [
    "# 전치행렬(Transpose)"
   ]
  },
  {
   "cell_type": "code",
   "execution_count": 30,
   "id": "d0f1dfe8",
   "metadata": {},
   "outputs": [
    {
     "data": {
      "text/plain": [
       "array([[1, 3, 5],\n",
       "       [2, 4, 6]])"
      ]
     },
     "execution_count": 30,
     "metadata": {},
     "output_type": "execute_result"
    }
   ],
   "source": [
    "A = np.array([[1, 2], [3, 4]])\n",
    "\n",
    "transpose_A = np.transpose(A)\n",
    "transpose_A\n",
    "\n",
    "B = np.array([[1, 2], [3, 4], [5, 6]])\n",
    "transpose_B = np.transpose(B)\n",
    "transpose_B\n"
   ]
  },
  {
   "cell_type": "markdown",
   "id": "8926574e",
   "metadata": {},
   "source": [
    "# Pandas - index"
   ]
  },
  {
   "cell_type": "code",
   "execution_count": 2,
   "id": "c7d5a05b",
   "metadata": {},
   "outputs": [
    {
     "data": {
      "text/html": [
       "<div>\n",
       "<style scoped>\n",
       "    .dataframe tbody tr th:only-of-type {\n",
       "        vertical-align: middle;\n",
       "    }\n",
       "\n",
       "    .dataframe tbody tr th {\n",
       "        vertical-align: top;\n",
       "    }\n",
       "\n",
       "    .dataframe thead th {\n",
       "        text-align: right;\n",
       "    }\n",
       "</style>\n",
       "<table border=\"1\" class=\"dataframe\">\n",
       "  <thead>\n",
       "    <tr style=\"text-align: right;\">\n",
       "      <th></th>\n",
       "      <th>Name</th>\n",
       "      <th>Year</th>\n",
       "      <th>Gender</th>\n",
       "    </tr>\n",
       "  </thead>\n",
       "  <tbody>\n",
       "    <tr>\n",
       "      <th>one</th>\n",
       "      <td>Chulmin</td>\n",
       "      <td>2011</td>\n",
       "      <td>Male</td>\n",
       "    </tr>\n",
       "    <tr>\n",
       "      <th>two</th>\n",
       "      <td>Eunkyoung</td>\n",
       "      <td>2016</td>\n",
       "      <td>Female</td>\n",
       "    </tr>\n",
       "    <tr>\n",
       "      <th>three</th>\n",
       "      <td>Jiwoong</td>\n",
       "      <td>2015</td>\n",
       "      <td>Male</td>\n",
       "    </tr>\n",
       "    <tr>\n",
       "      <th>four</th>\n",
       "      <td>Soobeom</td>\n",
       "      <td>2015</td>\n",
       "      <td>Male</td>\n",
       "    </tr>\n",
       "  </tbody>\n",
       "</table>\n",
       "</div>"
      ],
      "text/plain": [
       "            Name  Year  Gender\n",
       "one      Chulmin  2011    Male\n",
       "two    Eunkyoung  2016  Female\n",
       "three    Jiwoong  2015    Male\n",
       "four     Soobeom  2015    Male"
      ]
     },
     "execution_count": 2,
     "metadata": {},
     "output_type": "execute_result"
    }
   ],
   "source": [
    "\n",
    "import pandas as pd\n",
    "# Name, Year, Gender\n",
    "\n",
    "data = {\n",
    "        'Name' : ['Chulmin', 'Eunkyoung', 'Jiwoong', 'Soobeom'],\n",
    "        'Year' : [2011, 2016, 2015, 2015],\n",
    "        'Gender' : ['Male', 'Female', 'Male', ' Male'],\n",
    "}\n",
    "\n",
    "data_df = pd.DataFrame(data, index=['one', 'two', 'three', 'four'])\n",
    "data_df"
   ]
  },
  {
   "cell_type": "code",
   "execution_count": 15,
   "id": "d9c13666",
   "metadata": {},
   "outputs": [
    {
     "data": {
      "text/plain": [
       "one        Chulmin\n",
       "two      Eunkyoung\n",
       "three      Jiwoong\n",
       "four       Soobeom\n",
       "Name: Name, dtype: object"
      ]
     },
     "execution_count": 15,
     "metadata": {},
     "output_type": "execute_result"
    }
   ],
   "source": [
    "# 인덱싱 시작 1 - 컬럼명\n",
    "# data_df[['Name']]\n",
    "data_df['Name']"
   ]
  },
  {
   "cell_type": "code",
   "execution_count": 18,
   "id": "d8d18c51",
   "metadata": {},
   "outputs": [
    {
     "data": {
      "text/html": [
       "<div>\n",
       "<style scoped>\n",
       "    .dataframe tbody tr th:only-of-type {\n",
       "        vertical-align: middle;\n",
       "    }\n",
       "\n",
       "    .dataframe tbody tr th {\n",
       "        vertical-align: top;\n",
       "    }\n",
       "\n",
       "    .dataframe thead th {\n",
       "        text-align: right;\n",
       "    }\n",
       "</style>\n",
       "<table border=\"1\" class=\"dataframe\">\n",
       "  <thead>\n",
       "    <tr style=\"text-align: right;\">\n",
       "      <th></th>\n",
       "      <th>Name</th>\n",
       "      <th>Year</th>\n",
       "      <th>Gender</th>\n",
       "    </tr>\n",
       "  </thead>\n",
       "  <tbody>\n",
       "    <tr>\n",
       "      <th>one</th>\n",
       "      <td>Chulmin</td>\n",
       "      <td>2011</td>\n",
       "      <td>Male</td>\n",
       "    </tr>\n",
       "    <tr>\n",
       "      <th>two</th>\n",
       "      <td>Eunkyoung</td>\n",
       "      <td>2016</td>\n",
       "      <td>Female</td>\n",
       "    </tr>\n",
       "    <tr>\n",
       "      <th>three</th>\n",
       "      <td>Jiwoong</td>\n",
       "      <td>2015</td>\n",
       "      <td>Male</td>\n",
       "    </tr>\n",
       "  </tbody>\n",
       "</table>\n",
       "</div>"
      ],
      "text/plain": [
       "            Name  Year  Gender\n",
       "one      Chulmin  2011    Male\n",
       "two    Eunkyoung  2016  Female\n",
       "three    Jiwoong  2015    Male"
      ]
     },
     "execution_count": 18,
     "metadata": {},
     "output_type": "execute_result"
    }
   ],
   "source": [
    "# 인덱싱 시작 1 - 행은 슬라이싱으로만 !!\n",
    "data_df[0:3]"
   ]
  },
  {
   "cell_type": "code",
   "execution_count": 26,
   "id": "d5d9cc0f",
   "metadata": {},
   "outputs": [
    {
     "data": {
      "text/plain": [
       "'Jiwoong'"
      ]
     },
     "execution_count": 26,
     "metadata": {},
     "output_type": "execute_result"
    }
   ],
   "source": [
    "# 단일값 불러오기1 - loc(lable::명칭) // iloc(Positional - 위치)\n",
    "data_df.loc['three', 'Name'] # loc"
   ]
  },
  {
   "cell_type": "code",
   "execution_count": 27,
   "id": "cc1218da",
   "metadata": {},
   "outputs": [
    {
     "data": {
      "text/plain": [
       "'Jiwoong'"
      ]
     },
     "execution_count": 27,
     "metadata": {},
     "output_type": "execute_result"
    }
   ],
   "source": [
    "data_df.iloc[2, 0] # iloc"
   ]
  },
  {
   "cell_type": "code",
   "execution_count": 28,
   "id": "8b706f5a",
   "metadata": {},
   "outputs": [
    {
     "data": {
      "text/html": [
       "<div>\n",
       "<style scoped>\n",
       "    .dataframe tbody tr th:only-of-type {\n",
       "        vertical-align: middle;\n",
       "    }\n",
       "\n",
       "    .dataframe tbody tr th {\n",
       "        vertical-align: top;\n",
       "    }\n",
       "\n",
       "    .dataframe thead th {\n",
       "        text-align: right;\n",
       "    }\n",
       "</style>\n",
       "<table border=\"1\" class=\"dataframe\">\n",
       "  <thead>\n",
       "    <tr style=\"text-align: right;\">\n",
       "      <th></th>\n",
       "      <th>Name</th>\n",
       "      <th>Year</th>\n",
       "      <th>Gender</th>\n",
       "    </tr>\n",
       "  </thead>\n",
       "  <tbody>\n",
       "    <tr>\n",
       "      <th>one</th>\n",
       "      <td>Chulmin</td>\n",
       "      <td>2011</td>\n",
       "      <td>Male</td>\n",
       "    </tr>\n",
       "    <tr>\n",
       "      <th>two</th>\n",
       "      <td>Eunkyoung</td>\n",
       "      <td>2016</td>\n",
       "      <td>Female</td>\n",
       "    </tr>\n",
       "    <tr>\n",
       "      <th>three</th>\n",
       "      <td>Jiwoong</td>\n",
       "      <td>2015</td>\n",
       "      <td>Male</td>\n",
       "    </tr>\n",
       "    <tr>\n",
       "      <th>four</th>\n",
       "      <td>Soobeom</td>\n",
       "      <td>2015</td>\n",
       "      <td>Male</td>\n",
       "    </tr>\n",
       "  </tbody>\n",
       "</table>\n",
       "</div>"
      ],
      "text/plain": [
       "            Name  Year  Gender\n",
       "one      Chulmin  2011    Male\n",
       "two    Eunkyoung  2016  Female\n",
       "three    Jiwoong  2015    Male\n",
       "four     Soobeom  2015    Male"
      ]
     },
     "execution_count": 28,
     "metadata": {},
     "output_type": "execute_result"
    }
   ],
   "source": [
    "data_df"
   ]
  },
  {
   "cell_type": "code",
   "execution_count": 57,
   "id": "6b2420c5",
   "metadata": {},
   "outputs": [
    {
     "data": {
      "text/html": [
       "<div>\n",
       "<style scoped>\n",
       "    .dataframe tbody tr th:only-of-type {\n",
       "        vertical-align: middle;\n",
       "    }\n",
       "\n",
       "    .dataframe tbody tr th {\n",
       "        vertical-align: top;\n",
       "    }\n",
       "\n",
       "    .dataframe thead th {\n",
       "        text-align: right;\n",
       "    }\n",
       "</style>\n",
       "<table border=\"1\" class=\"dataframe\">\n",
       "  <thead>\n",
       "    <tr style=\"text-align: right;\">\n",
       "      <th></th>\n",
       "      <th>Name</th>\n",
       "      <th>Year</th>\n",
       "    </tr>\n",
       "  </thead>\n",
       "  <tbody>\n",
       "    <tr>\n",
       "      <th>one</th>\n",
       "      <td>Chulmin</td>\n",
       "      <td>2011</td>\n",
       "    </tr>\n",
       "    <tr>\n",
       "      <th>two</th>\n",
       "      <td>Eunkyoung</td>\n",
       "      <td>2016</td>\n",
       "    </tr>\n",
       "  </tbody>\n",
       "</table>\n",
       "</div>"
      ],
      "text/plain": [
       "          Name  Year\n",
       "one    Chulmin  2011\n",
       "two  Eunkyoung  2016"
      ]
     },
     "execution_count": 57,
     "metadata": {},
     "output_type": "execute_result"
    }
   ],
   "source": [
    "# 연습\n",
    "data_df.iloc[0:2, 0:2]\n",
    "data_df.iloc[0:2, [0,1]]\n",
    "# data_df.iloc[0:2, (0,1)]\n",
    "data_df.loc['one' : 'two', 'Name' : 'Year']\n",
    "\n",
    "data_df.loc[data_df['Year']>2014][:2]"
   ]
  },
  {
   "cell_type": "code",
   "execution_count": 61,
   "id": "823b57f5",
   "metadata": {},
   "outputs": [
    {
     "name": "stdout",
     "output_type": "stream",
     "text": [
      "Index 객체 array:\n",
      " [0 1 2 3 4]\n"
     ]
    }
   ],
   "source": [
    "## 타이타닉 데이터의 index의 특징\n",
    "titan_df = pd.read_csv('./titanic/train.csv')\n",
    "## Index 객체 추출\n",
    "Indexes = titan_df.index\n",
    "## Index 객체를 실제 값 array로 변환\n",
    "print('Index 객체 array:\\n', Indexes.values[:5])"
   ]
  },
  {
   "cell_type": "code",
   "execution_count": 63,
   "id": "1edf358c",
   "metadata": {},
   "outputs": [
    {
     "name": "stdout",
     "output_type": "stream",
     "text": [
      "<class 'numpy.ndarray'>\n",
      "(891,)\n"
     ]
    }
   ],
   "source": [
    "print(type(Indexes.values))\n",
    "print(Indexes.values.shape)"
   ]
  },
  {
   "cell_type": "code",
   "execution_count": 66,
   "id": "2d43d023",
   "metadata": {},
   "outputs": [],
   "source": [
    "# 단 번에 인덱스 값을 바꿀 수는 없습니다.\n",
    "# Indexes[0] = 1000\n",
    "# 인덱스 값을 바꾸고 싶으시다면, Index.values를 하고\n",
    "# 변화한 값을 다시금 pd.DataFrame(Index=Index.values)이렇게 바꾸셔야 합니다."
   ]
  },
  {
   "cell_type": "code",
   "execution_count": null,
   "id": "ea194a8e",
   "metadata": {},
   "outputs": [],
   "source": []
  },
  {
   "cell_type": "code",
   "execution_count": null,
   "id": "356eaaf2",
   "metadata": {},
   "outputs": [],
   "source": []
  }
 ],
 "metadata": {
  "kernelspec": {
   "display_name": "Python 3 (ipykernel)",
   "language": "python",
   "name": "python3"
  },
  "language_info": {
   "codemirror_mode": {
    "name": "ipython",
    "version": 3
   },
   "file_extension": ".py",
   "mimetype": "text/x-python",
   "name": "python",
   "nbconvert_exporter": "python",
   "pygments_lexer": "ipython3",
   "version": "3.7.16"
  }
 },
 "nbformat": 4,
 "nbformat_minor": 5
}
