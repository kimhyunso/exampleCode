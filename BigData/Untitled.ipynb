{
 "cells": [
  {
   "cell_type": "code",
   "execution_count": 29,
   "id": "e4159376",
   "metadata": {},
   "outputs": [
    {
     "data": {
      "text/plain": [
       "{'lastBuildDate': 'Wed, 08 Feb 2023 17:46:53 +0900',\n",
       " 'total': 15788,\n",
       " 'start': 1,\n",
       " 'display': 2,\n",
       " 'items': [{'title': '외신, 윤리적 해킹에 필요한 프로그래밍 언어 10종 선정',\n",
       "   'originallink': 'https://www.codingworldnews.com/news/articleView.html?idxno=15151',\n",
       "   'link': 'https://www.codingworldnews.com/news/articleView.html?idxno=15151',\n",
       "   'description': '<b>파이썬</b> <b>파이썬</b>은 Scapy와 같은 인기 사이버 보안 도구 작동을 지원하는 언어이다. 윤리적 해커가 역설계와 악성코드 분석, 포렌식, 디버거, 디스어셈블러, 헥스 에디터(hex editor) 등에 사용하는 언어이기도 하다. 9. 루비... ',\n",
       "   'pubDate': 'Wed, 08 Feb 2023 15:32:00 +0900'},\n",
       "  {'title': '&apos;챗GPT&apos; 탑재한 MS 검색 엔진 빙, 구글 위협할까?',\n",
       "   'originallink': 'https://www.inven.co.kr/webzine/news/?news=281465',\n",
       "   'link': 'https://sports.news.naver.com/news.nhn?oid=442&aid=0000158613',\n",
       "   'description': '빙 예제에는 여행 계획 짜기, 구매할 자동차 추천 같은 검색 결과 기반 결과부터 운율이 살아 있는 시 쓰기, 주어진 주제에 따른 이야기 작성, <b>파이썬</b> 코드 표현 등도 확인할 수 있다. 일찌감치 오픈AI 투자 확대와 함께... ',\n",
       "   'pubDate': 'Wed, 08 Feb 2023 10:03:00 +0900'}]}"
      ]
     },
     "execution_count": 29,
     "metadata": {},
     "output_type": "execute_result"
    }
   ],
   "source": [
    "import requests as r\n",
    "client_id = {'3ksuUMV1u9PDgQnkpMli'}\n",
    "client_secret = {'bBhPbePzvM'}\n",
    "\n",
    "key_word = '파이썬'\n",
    "\n",
    "params = {'query':key_word, 'display':2, 'start':1, 'sort':'date',}\n",
    "\n",
    "headers = {\n",
    "    'X-Naver-Client-Id' : client_id,\n",
    "    'X-Naver-Client-Secret' : client_secret,\n",
    "}\n",
    "\n",
    "url = 'https://openapi.naver.com/v1/search/news.json'\n",
    "\n",
    "news = r.get(url, headers=key_data, params=params).json()\n",
    "news\n"
   ]
  },
  {
   "cell_type": "code",
   "execution_count": null,
   "id": "2743e9f7",
   "metadata": {},
   "outputs": [],
   "source": []
  }
 ],
 "metadata": {
  "kernelspec": {
   "display_name": "Python 3 (ipykernel)",
   "language": "python",
   "name": "python3"
  },
  "language_info": {
   "codemirror_mode": {
    "name": "ipython",
    "version": 3
   },
   "file_extension": ".py",
   "mimetype": "text/x-python",
   "name": "python",
   "nbconvert_exporter": "python",
   "pygments_lexer": "ipython3",
   "version": "3.7.16"
  }
 },
 "nbformat": 4,
 "nbformat_minor": 5
}
