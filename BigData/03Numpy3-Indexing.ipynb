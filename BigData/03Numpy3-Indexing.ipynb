{
 "cells": [
  {
   "cell_type": "markdown",
   "id": "9264260e",
   "metadata": {},
   "source": [
    "### 넘파이의 ndarray의 데이터 세트 선택하기 - 인덱싱(Indexing)\n",
    "*넘파이에서 ndarray내의 일부 데이터 셋이나 특정 데이터만을 선택 할 수 있도록 하는 인덱싱에 대한 알아보자\n",
    "#### 1.특정한 데이터만 추출\n",
    "#### 2.슬라이싱(Slicing)\n",
    "#### 3.팬시 인덱싱(Fancy Indexing)\n",
    "#### 4.불린 인덱싱(Boolean Indexing)"
   ]
  },
  {
   "cell_type": "code",
   "execution_count": 10,
   "id": "a6ac2ce5",
   "metadata": {},
   "outputs": [
    {
     "name": "stdout",
     "output_type": "stream",
     "text": [
      "value :  9\n",
      "type :  <class 'numpy.int32'>\n"
     ]
    }
   ],
   "source": [
    "import numpy as np\n",
    "# 1-9까지 1차원 ndarray생성\n",
    "array1 = np.arange(1, 10, dtype='int32')\n",
    "value = array1[-1]\n",
    "print('value : ', value)\n",
    "print('type : ', type(value))"
   ]
  },
  {
   "cell_type": "code",
   "execution_count": 16,
   "id": "228476dc",
   "metadata": {},
   "outputs": [
    {
     "name": "stdout",
     "output_type": "stream",
     "text": [
      "[[1 2 3]\n",
      " [4 5 6]\n",
      " [7 8 9]]\n"
     ]
    }
   ],
   "source": [
    "array1d = array1.copy()\n",
    "array2d = array1d.reshape(-1, 3)\n",
    "print(array2d)"
   ]
  },
  {
   "cell_type": "code",
   "execution_count": 25,
   "id": "ed4cee91",
   "metadata": {},
   "outputs": [
    {
     "name": "stdout",
     "output_type": "stream",
     "text": [
      "(row =0, col=0) index 가리키는 값 :  1\n",
      "(row =0, col=0) index 가리키는 값 :  1\n",
      "(row =0, col=1) index 가리키는 값 :  2\n",
      "(row =0, col=2) index 가리키는 값 :  3\n",
      "(row =1, col=0) index 가리키는 값 :  4\n",
      "(row =2, col=2) index 가리키는 값 :  9\n"
     ]
    }
   ],
   "source": [
    "print('(row =0, col=0) index 가리키는 값 : ', array2d[0, 0])\n",
    "print('(row =0, col=0) index 가리키는 값 : ', array2d[0][0])\n",
    "print('(row =0, col=1) index 가리키는 값 : ', array2d[0, 1])\n",
    "print('(row =0, col=2) index 가리키는 값 : ', array2d[0, 2])\n",
    "print('(row =1, col=0) index 가리키는 값 : ', array2d[1, 0])\n",
    "print('(row =2, col=2) index 가리키는 값 : ', array2d[2, 2])"
   ]
  },
  {
   "cell_type": "markdown",
   "id": "bc6fb09a",
   "metadata": {},
   "source": [
    "## 2. 슬라이싱(Slicing) - 2차원"
   ]
  },
  {
   "cell_type": "code",
   "execution_count": 44,
   "id": "7c0f4dbc",
   "metadata": {},
   "outputs": [
    {
     "name": "stdout",
     "output_type": "stream",
     "text": [
      "[[1 2 3]\n",
      " [4 5 6]\n",
      " [7 8 9]]\n",
      "array2d(0:2, 0:2):\n",
      " [[1 2]\n",
      " [4 5]]\n",
      "array2d(1:3, 0:3):\n",
      " [[4 5 6]\n",
      " [7 8 9]]\n",
      "array2d(1:, :):\n",
      " [[4 5 6]\n",
      " [7 8 9]]\n",
      "array2d(:2, 0):\n",
      " [1 4]\n",
      "array2d(:2, 0:1):\n",
      " [[1]\n",
      " [4]]\n"
     ]
    }
   ],
   "source": [
    "print(array2d)\n",
    "print('array2d(0:2, 0:2):\\n', array2d[0:2, 0:2])\n",
    "print('array2d(1:3, 0:3):\\n', array2d[1:3, 0:3])\n",
    "print('array2d(1:, :):\\n', array2d[1:, :])\n",
    "\n",
    "## question 1\n",
    "print('array2d(:2, 0):\\n', array2d[:2, 0])\n",
    "print('array2d(:2, 0:1):\\n', array2d[:2, 0:1])\n"
   ]
  },
  {
   "cell_type": "markdown",
   "id": "e6585b60",
   "metadata": {},
   "source": [
    "## 3. 팬시 인덱싱(Fancy Indexing)"
   ]
  },
  {
   "cell_type": "code",
   "execution_count": 39,
   "id": "ce26593e",
   "metadata": {},
   "outputs": [
    {
     "data": {
      "text/plain": [
       "array([[1, 2, 3],\n",
       "       [4, 5, 6],\n",
       "       [7, 8, 9]])"
      ]
     },
     "execution_count": 39,
     "metadata": {},
     "output_type": "execute_result"
    }
   ],
   "source": [
    "print(array2d)"
   ]
  },
  {
   "cell_type": "code",
   "execution_count": 49,
   "id": "cccb0e22",
   "metadata": {},
   "outputs": [
    {
     "name": "stdout",
     "output_type": "stream",
     "text": [
      "[3 6]\n",
      "[[3]\n",
      " [6]]\n"
     ]
    }
   ],
   "source": [
    "print(array2d[[0,1], 2])\n",
    "print(array2d[[0,1], 2:])"
   ]
  },
  {
   "cell_type": "code",
   "execution_count": 51,
   "id": "8b9eb9bd",
   "metadata": {},
   "outputs": [],
   "source": [
    "from sklearn.datasets import load_iris\n",
    "import pandas as pd"
   ]
  },
  {
   "cell_type": "code",
   "execution_count": 56,
   "id": "50a820f0",
   "metadata": {},
   "outputs": [],
   "source": [
    "iris_df = pd.DataFrame(load_iris().data)\n",
    "iris_df.rename(columns={0:'a',\n",
    "               1:'b',\n",
    "               2:'c',\n",
    "               3:'d'}, inplace=True)"
   ]
  },
  {
   "cell_type": "code",
   "execution_count": 63,
   "id": "dc5e08f7",
   "metadata": {},
   "outputs": [
    {
     "data": {
      "text/plain": [
       "pandas.core.frame.DataFrame"
      ]
     },
     "execution_count": 63,
     "metadata": {},
     "output_type": "execute_result"
    }
   ],
   "source": [
    "type(iris_df)"
   ]
  },
  {
   "cell_type": "code",
   "execution_count": 64,
   "id": "a3249336",
   "metadata": {},
   "outputs": [
    {
     "data": {
      "text/plain": [
       "pandas.core.frame.DataFrame"
      ]
     },
     "execution_count": 64,
     "metadata": {},
     "output_type": "execute_result"
    }
   ],
   "source": [
    "type(iris_df[['a']])"
   ]
  }
 ],
 "metadata": {
  "kernelspec": {
   "display_name": "Python 3 (ipykernel)",
   "language": "python",
   "name": "python3"
  },
  "language_info": {
   "codemirror_mode": {
    "name": "ipython",
    "version": 3
   },
   "file_extension": ".py",
   "mimetype": "text/x-python",
   "name": "python",
   "nbconvert_exporter": "python",
   "pygments_lexer": "ipython3",
   "version": "3.9.13"
  }
 },
 "nbformat": 4,
 "nbformat_minor": 5
}
