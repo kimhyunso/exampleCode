{
 "cells": [
  {
   "cell_type": "markdown",
   "metadata": {},
   "source": [
    "### from https://scikit-learn.org/stable/auto_examples/ensemble/plot_gradient_boosting_regression.html"
   ]
  },
  {
   "cell_type": "markdown",
   "metadata": {},
   "source": [
    "# Bostern 집값 데이터\n",
    "0 - CRIM: 지역별 범죄 발생률\n",
    "\n",
    "1 - ZN: 25,000평방피트를 초과하는 거주 지역의 비율\n",
    "\n",
    "2 - NDUS: 비상업 지역 넓이 비율\n",
    "\n",
    "3 - CHAS: 찰스강에 대한 더미 변수(강의 경계에 위치한 경우는 1, 아니면 0)\n",
    "\n",
    "4 - NOX: 일산화질소 농도\n",
    "\n",
    "5 - RM: 거주할 수 있는 방 개수\n",
    "\n",
    "6 - AGE: 1940년 이전에 건축된 소유 주택의 비율\n",
    "\n",
    "7 - DIS: 5개 주요 고용센터까지의 가중 거리\n",
    "\n",
    "8 - RAD: 고속도로 접근 용이도\n",
    "\n",
    "9 - TAX: 10,000달러당 재산세율\n",
    "\n",
    "10 - PTRATIO: 지역의 교사와 학생 수 비율\n",
    "\n",
    "11 - B: 지역의 흑인 거주 비율\n",
    "\n",
    "12 - LSTAT: 하위 계층의 비율\n",
    "\n",
    "13 - PRICE: 본인 소유의 주택 가격(중앙값) - 종속변수 (위의 건 독립변수)"
   ]
  },
  {
   "cell_type": "markdown",
   "metadata": {},
   "source": [
    "Boston 13 columns\n",
    "\n",
    "12번 열인 LSTAT 중요도?\n",
    "- 12개 + LSTAT => 모델 학습 => mse 계산 : mse 1\n",
    "- 12개         => 모델 학습 => mse 계산 : mse 2\n",
    "\n",
    "mse2 - mse1 -> LASTAT가 기여한 에러 감소량\n",
    "\n",
    "[Permutation Importance]\n",
    "\n",
    "12개 + LSTAT[12번열] = 13개의 열\n",
    "=> 모델 학습\n",
    "\n",
    "=> train 데이터 기준 model predict 후 mse 계산 -> mse_1(mean_squred_error)\n",
    "\n",
    "=> train 데이텅에서 LSTAT(12번) 열을 기준으로 위아래로 랜덤하게 섞음 => model predict 후 mse 계산 => mse_2(mean_squred_error)\n",
    "\n",
    "=> mse_2 - mse_1 -> LSTAT가 기여한 에러 감소량"
   ]
  },
  {
   "cell_type": "code",
   "execution_count": 2,
   "metadata": {
    "scrolled": true
   },
   "outputs": [
    {
     "name": "stdout",
     "output_type": "stream",
     "text": [
      "Name: scikit-learn\n",
      "Version: 0.24.1\n",
      "Summary: A set of python modules for machine learning and data mining\n",
      "Home-page: http://scikit-learn.org\n",
      "Author: None\n",
      "Author-email: None\n",
      "License: new BSD\n",
      "Location: c:\\programdata\\anaconda3\\lib\\site-packages\n",
      "Requires: threadpoolctl, scipy, joblib, numpy\n",
      "Required-by: vecstack, lightgbm, imbalanced-learn\n"
     ]
    }
   ],
   "source": [
    "!pip show scikit-learn"
   ]
  },
  {
   "cell_type": "code",
   "execution_count": 1,
   "metadata": {},
   "outputs": [
    {
     "data": {
      "text/plain": [
       "'0.24.1'"
      ]
     },
     "execution_count": 1,
     "metadata": {},
     "output_type": "execute_result"
    }
   ],
   "source": [
    "import sklearn\n",
    "\n",
    "sklearn.__version__"
   ]
  },
  {
   "cell_type": "code",
   "execution_count": 18,
   "metadata": {},
   "outputs": [],
   "source": [
    "import matplotlib.pyplot as plt\n",
    "import numpy as np\n",
    "from sklearn import datasets, ensemble\n",
    "from sklearn.metrics import mean_squared_error\n",
    "from sklearn.model_selection import train_test_split\n",
    "import pandas as pd\n",
    "\n",
    "from sklearn.inspection import permutation_importance \n",
    "# if you want to use this func., upgrade the scikit-learn to 0.23.1 (https://j.mp/334YxRi)"
   ]
  },
  {
   "cell_type": "code",
   "execution_count": 31,
   "metadata": {},
   "outputs": [],
   "source": [
    "diabetes = datasets.load_diabetes()\n",
    "X, y = diabetes.data, diabetes.target\n",
    "\n"
   ]
  },
  {
   "cell_type": "code",
   "execution_count": 32,
   "metadata": {},
   "outputs": [
    {
     "name": "stdout",
     "output_type": "stream",
     "text": [
      ".. _diabetes_dataset:\n",
      "\n",
      "Diabetes dataset\n",
      "----------------\n",
      "\n",
      "Ten baseline variables, age, sex, body mass index, average blood\n",
      "pressure, and six blood serum measurements were obtained for each of n =\n",
      "442 diabetes patients, as well as the response of interest, a\n",
      "quantitative measure of disease progression one year after baseline.\n",
      "\n",
      "**Data Set Characteristics:**\n",
      "\n",
      "  :Number of Instances: 442\n",
      "\n",
      "  :Number of Attributes: First 10 columns are numeric predictive values\n",
      "\n",
      "  :Target: Column 11 is a quantitative measure of disease progression one year after baseline\n",
      "\n",
      "  :Attribute Information:\n",
      "      - age     age in years\n",
      "      - sex\n",
      "      - bmi     body mass index\n",
      "      - bp      average blood pressure\n",
      "      - s1      tc, T-Cells (a type of white blood cells)\n",
      "      - s2      ldl, low-density lipoproteins\n",
      "      - s3      hdl, high-density lipoproteins\n",
      "      - s4      tch, thyroid stimulating hormone\n",
      "      - s5      ltg, lamotrigine\n",
      "      - s6      glu, blood sugar level\n",
      "\n",
      "Note: Each of these 10 feature variables have been mean centered and scaled by the standard deviation times `n_samples` (i.e. the sum of squares of each column totals 1).\n",
      "\n",
      "Source URL:\n",
      "https://www4.stat.ncsu.edu/~boos/var.select/diabetes.html\n",
      "\n",
      "For more information see:\n",
      "Bradley Efron, Trevor Hastie, Iain Johnstone and Robert Tibshirani (2004) \"Least Angle Regression,\" Annals of Statistics (with discussion), 407-499.\n",
      "(https://web.stanford.edu/~hastie/Papers/LARS/LeastAngle_2002.pdf)\n"
     ]
    }
   ],
   "source": [
    "# import pandas as pd\n",
    "\n",
    "# pd.DataFrame(diabetes['target'])\n",
    "\n",
    "print(diabetes['DESCR'])"
   ]
  },
  {
   "cell_type": "code",
   "execution_count": 33,
   "metadata": {},
   "outputs": [],
   "source": [
    "X_train, X_test, y_train, y_test = train_test_split(\n",
    "    X, y, test_size=0.1, random_state=13)\n",
    "\n",
    "# loss : 'ls' ==> Least Squares Estimation :: 최소제곱법\n",
    "params = {'n_estimators': 2000,\n",
    "          'max_depth': 4,\n",
    "          'min_samples_split': 5,\n",
    "          'learning_rate': 0.01,\n",
    "          'loss': 'ls'}"
   ]
  },
  {
   "cell_type": "code",
   "execution_count": 34,
   "metadata": {},
   "outputs": [
    {
     "name": "stdout",
     "output_type": "stream",
     "text": [
      "The mean squared error (MSE) on test set: 3473.3550\n"
     ]
    }
   ],
   "source": [
    "# GradientBoostingRegressor\n",
    "reg = ensemble.GradientBoostingRegressor(**params)\n",
    "reg.fit(X_train, y_train)\n",
    "\n",
    "mse = mean_squared_error(y_test, reg.predict(X_test))\n",
    "print(\"The mean squared error (MSE) on test set: {:.4f}\".format(mse))"
   ]
  },
  {
   "cell_type": "code",
   "execution_count": 35,
   "metadata": {},
   "outputs": [
    {
     "data": {
      "text/plain": [
       "GradientBoostingRegressor(learning_rate=0.01, max_depth=4, min_samples_split=5,\n",
       "                          n_estimators=2000)"
      ]
     },
     "execution_count": 35,
     "metadata": {},
     "output_type": "execute_result"
    }
   ],
   "source": []
  },
  {
   "cell_type": "code",
   "execution_count": 14,
   "metadata": {},
   "outputs": [
    {
     "data": {
      "text/plain": [
       "0.9999999999999999"
      ]
     },
     "execution_count": 14,
     "metadata": {},
     "output_type": "execute_result"
    }
   ],
   "source": [
    "reg.feature_importances_\n",
    "sum(reg.feature_importances_)"
   ]
  },
  {
   "cell_type": "code",
   "execution_count": 7,
   "metadata": {},
   "outputs": [
    {
     "data": {
      "image/png": "[encoded data removed]",
      "text/plain": [
       "<Figure size 432x432 with 1 Axes>"
      ]
     },
     "metadata": {
      "needs_background": "light"
     },
     "output_type": "display_data"
    }
   ],
   "source": [
    "test_score = np.zeros((params['n_estimators'],), dtype=np.float64)\n",
    "for i, y_pred in enumerate(reg.staged_predict(X_test)):\n",
    "    test_score[i] = reg.loss_(y_test, y_pred)\n",
    "\n",
    "fig = plt.figure(figsize=(6, 6))\n",
    "plt.subplot(1, 1, 1)\n",
    "plt.title('Deviance')\n",
    "plt.plot(np.arange(params['n_estimators']) + 1, reg.train_score_, 'b-',\n",
    "         label='Training Set Deviance')\n",
    "plt.plot(np.arange(params['n_estimators']) + 1, test_score, 'r-',\n",
    "         label='Test Set Deviance')\n",
    "plt.legend(loc='upper right')\n",
    "plt.xlabel('Boosting Iterations')\n",
    "plt.ylabel('Deviance')\n",
    "fig.tight_layout()\n",
    "plt.show()"
   ]
  },
  {
   "cell_type": "code",
   "execution_count": 8,
   "metadata": {},
   "outputs": [
    {
     "data": {
      "text/plain": [
       "array([0.061823  , 0.01321289, 0.29954439, 0.07486626, 0.03677334,\n",
       "       0.07194332, 0.04598548, 0.02836688, 0.29219585, 0.0752886 ])"
      ]
     },
     "execution_count": 8,
     "metadata": {},
     "output_type": "execute_result"
    }
   ],
   "source": [
    "reg.feature_importances_"
   ]
  },
  {
   "cell_type": "code",
   "execution_count": 9,
   "metadata": {},
   "outputs": [
    {
     "data": {
      "image/png": "[encoded data removed]",
      "text/plain": [
       "<Figure size 864x432 with 1 Axes>"
      ]
     },
     "metadata": {
      "needs_background": "light"
     },
     "output_type": "display_data"
    }
   ],
   "source": [
    "feature_importance = reg.feature_importances_\n",
    "\n",
    "sorted_idx = np.argsort(feature_importance)\n",
    "pos = np.arange(sorted_idx.shape[0]) + .5\n",
    "\n",
    "fig = plt.figure(figsize=(12, 6))\n",
    "# plt.subplot(1, 2, 1)\n",
    "\n",
    "plt.barh(pos, feature_importance[sorted_idx], align='center')\n",
    "plt.yticks(pos, np.array(diabetes.feature_names)[sorted_idx])\n",
    "plt.title('Feature Importance (MDI)')\n",
    "\n",
    "# result = permutation_importance(reg, X_test, y_test, n_repeats=10, random_state=42, n_jobs=2)\n",
    "# sorted_idx = result.importances_mean.argsort()\n",
    "# plt.subplot(1, 2, 2)\n",
    "# plt.boxplot(result.importances[sorted_idx].T, vert=False, labels=np.array(diabetes.feature_names)[sorted_idx])\n",
    "# plt.title(\"Permutation Importance (test set)\")\n",
    "\n",
    "fig.tight_layout()\n",
    "plt.show()"
   ]
  },
  {
   "cell_type": "code",
   "execution_count": 15,
   "metadata": {},
   "outputs": [
    {
     "data": {
      "text/plain": [
       "0.3381964443594423"
      ]
     },
     "execution_count": 15,
     "metadata": {},
     "output_type": "execute_result"
    }
   ],
   "source": [
    "reg.score(X_test, y_test)\n",
    "\n",
    "# - Regression     -> model.score(x, y) == R2 score (1에 가까울수록 모델의 설명력이 좋음 vs 0에 가까울수록 모델의 설명력이 떨어짐)\n",
    "# - Classification -> model.score(x, y) == Accuracy score (1에 가까울수록 모델이 분류를 정확하게 해냄)"
   ]
  },
  {
   "cell_type": "code",
   "execution_count": 16,
   "metadata": {},
   "outputs": [
    {
     "data": {
      "text/plain": [
       "0.7719771444492001"
      ]
     },
     "execution_count": 16,
     "metadata": {},
     "output_type": "execute_result"
    }
   ],
   "source": [
    "sum(result['importances_mean'])"
   ]
  },
  {
   "cell_type": "code",
   "execution_count": 17,
   "metadata": {
    "scrolled": false
   },
   "outputs": [
    {
     "data": {
      "text/plain": [
       "{'importances_mean': array([-0.00149848,  0.00326376,  0.29352619,  0.08845981, -0.0277835 ,\n",
       "        -0.01250664, -0.01172158,  0.00698071,  0.40398918,  0.02926768]),\n",
       " 'importances_std': array([0.03820375, 0.01780783, 0.068419  , 0.0680171 , 0.02147959,\n",
       "        0.033016  , 0.02732783, 0.01848913, 0.11269887, 0.02218935]),\n",
       " 'importances': array([[-6.88530496e-03, -6.06776604e-02,  9.62208885e-03,\n",
       "          3.27443828e-02, -4.63641417e-02, -3.21018289e-02,\n",
       "          1.98226353e-02,  6.79090207e-02,  2.82090473e-02,\n",
       "         -2.72630268e-02],\n",
       "        [-1.10960446e-02,  3.72407639e-02,  1.39968765e-02,\n",
       "         -1.06008084e-02, -5.50487312e-03,  4.13977142e-04,\n",
       "          1.16978048e-02,  2.75371702e-02, -2.06151275e-02,\n",
       "         -1.04321307e-02],\n",
       "        [ 3.05326407e-01,  2.68355320e-01,  4.34641076e-01,\n",
       "          2.03255122e-01,  3.56135887e-01,  3.08874890e-01,\n",
       "          2.74104759e-01,  2.42762004e-01,  2.00749285e-01,\n",
       "          3.41057161e-01],\n",
       "        [-1.56783088e-02,  1.95862010e-01,  1.50013828e-01,\n",
       "          1.66204516e-01,  4.05250944e-02,  1.10221262e-01,\n",
       "         -9.26370597e-03,  5.83209775e-02,  7.47695670e-02,\n",
       "          1.13622905e-01],\n",
       "        [-7.14062656e-02, -4.03955106e-02, -2.39369388e-02,\n",
       "         -5.03045853e-02, -3.05228295e-02,  3.31505822e-03,\n",
       "         -9.58234397e-03, -2.69835051e-02, -8.99775613e-04,\n",
       "         -2.71182815e-02],\n",
       "        [ 3.69194974e-02, -3.20905439e-02, -1.54935601e-02,\n",
       "          2.09662184e-02,  5.53818147e-03,  5.51761293e-03,\n",
       "         -9.00576790e-02, -1.27694598e-02, -1.44721706e-02,\n",
       "         -2.91244518e-02],\n",
       "        [-1.45920198e-02, -2.54664286e-02, -4.04809192e-02,\n",
       "         -6.65204266e-02,  2.73693716e-02,  2.13850166e-02,\n",
       "          6.27790277e-04, -2.58895176e-02,  6.31300446e-03,\n",
       "          3.82893930e-05],\n",
       "        [-7.47240566e-03,  1.17486896e-03,  3.71832788e-02,\n",
       "          2.18806810e-02, -6.79208350e-03, -6.65399446e-04,\n",
       "          1.56268754e-02,  1.76910163e-02,  2.15185858e-02,\n",
       "         -3.03382763e-02],\n",
       "        [ 2.17809366e-01,  3.67057591e-01,  3.76902206e-01,\n",
       "          4.49731958e-01,  5.18915940e-01,  4.31349762e-01,\n",
       "          2.79142268e-01,  2.91470243e-01,  5.30378671e-01,\n",
       "          5.77133809e-01],\n",
       "        [ 4.15713786e-02, -5.23944717e-03,  8.40314916e-02,\n",
       "          3.78702537e-02,  2.43425547e-02,  3.31441847e-02,\n",
       "          2.02847728e-02,  1.81985509e-02,  1.35479254e-02,\n",
       "          2.49251209e-02]])}"
      ]
     },
     "execution_count": 17,
     "metadata": {},
     "output_type": "execute_result"
    }
   ],
   "source": [
    "# n_repeats = 몇 번 반복할 것인지 n_jobs = 병렬적으로 처리하기 위해서 == Thread :: 보통 -1\n",
    "result = permutation_importance(reg, X_test, y_test, n_repeats=10, random_state=42, n_jobs=2)\n",
    "result"
   ]
  },
  {
   "cell_type": "code",
   "execution_count": 25,
   "metadata": {},
   "outputs": [
    {
     "data": {
      "text/plain": [
       "0.8052273112034618"
      ]
     },
     "execution_count": 25,
     "metadata": {},
     "output_type": "execute_result"
    }
   ],
   "source": [
    "# mse를 각각의 열에대해서 10번을 한 것\n",
    "df = pd.DataFrame(result['importances'], columns=['age', 'sex', 'bmi', 'bp', 's1', 's2', 's3', 's4', 's5', 's6'])\n",
    "'''\n",
    "      - age     age in years\n",
    "      - sex\n",
    "      - bmi     body mass index\n",
    "      - bp      average blood pressure\n",
    "      - s1      tc, T-Cells (a type of white blood cells)\n",
    "      - s2      ldl, low-density lipoproteins\n",
    "      - s3      hdl, high-density lipoproteins\n",
    "      - s4      tch, thyroid stimulating hormone\n",
    "      - s5      ltg, lamotrigine\n",
    "      - s6      glu, blood sugar level\n",
    "'''\n"
   ]
  },
  {
   "cell_type": "code",
   "execution_count": 26,
   "metadata": {},
   "outputs": [
    {
     "data": {
      "text/plain": [
       "array([-0.00149848,  0.00326376,  0.29352619,  0.08845981, -0.0277835 ,\n",
       "       -0.01250664, -0.01172158,  0.00698071,  0.40398918,  0.02926768])"
      ]
     },
     "execution_count": 26,
     "metadata": {},
     "output_type": "execute_result"
    }
   ],
   "source": [
    "result['importances'].mean(axis=1)"
   ]
  },
  {
   "cell_type": "code",
   "execution_count": 29,
   "metadata": {},
   "outputs": [
    {
     "data": {
      "text/plain": [
       "array([-0.00149848,  0.00326376,  0.29352619,  0.08845981, -0.0277835 ,\n",
       "       -0.01250664, -0.01172158,  0.00698071,  0.40398918,  0.02926768])"
      ]
     },
     "execution_count": 29,
     "metadata": {},
     "output_type": "execute_result"
    }
   ],
   "source": [
    "result['importances_mean']"
   ]
  },
  {
   "cell_type": "code",
   "execution_count": 30,
   "metadata": {},
   "outputs": [
    {
     "data": {
      "image/png": "[encoded data removed]",
      "text/plain": [
       "<Figure size 864x432 with 1 Axes>"
      ]
     },
     "metadata": {
      "needs_background": "light"
     },
     "output_type": "display_data"
    }
   ],
   "source": [
    "fig = plt.figure(figsize=(12, 6))\n",
    "\n",
    "result = permutation_importance(reg, X_test, y_test, n_repeats=10, random_state=42, n_jobs=2)\n",
    "sorted_idx = result.importances_mean.argsort()\n",
    "\n",
    "plt.boxplot(result.importances[sorted_idx].T, vert=False, labels=np.array(diabetes.feature_names)[sorted_idx])\n",
    "plt.title(\"Permutation Importance (test set)\")\n",
    "\n",
    "fig.tight_layout()\n",
    "plt.show()"
   ]
  },
  {
   "cell_type": "code",
   "execution_count": null,
   "metadata": {},
   "outputs": [],
   "source": []
  },
  {
   "cell_type": "code",
   "execution_count": null,
   "metadata": {},
   "outputs": [],
   "source": []
  }
 ],
 "metadata": {
  "kernelspec": {
   "display_name": "Python 3",
   "language": "python",
   "name": "python3"
  },
  "language_info": {
   "codemirror_mode": {
    "name": "ipython",
    "version": 3
   },
   "file_extension": ".py",
   "mimetype": "text/x-python",
   "name": "python",
   "nbconvert_exporter": "python",
   "pygments_lexer": "ipython3",
   "version": "3.8.8"
  }
 },
 "nbformat": 4,
 "nbformat_minor": 2
}
