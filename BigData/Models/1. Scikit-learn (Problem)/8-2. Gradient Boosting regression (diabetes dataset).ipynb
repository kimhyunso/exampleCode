{
 "cells": [
  {
   "cell_type": "markdown",
   "metadata": {},
   "source": [
    "### from https://scikit-learn.org/stable/auto_examples/ensemble/plot_gradient_boosting_regression.html"
   ]
  },
  {
   "cell_type": "code",
   "execution_count": 2,
   "metadata": {},
   "outputs": [
    {
     "name": "stdout",
     "output_type": "stream",
     "text": [
      "Name: scikit-learn\n",
      "Version: 0.24.1\n",
      "Summary: A set of python modules for machine learning and data mining\n",
      "Home-page: http://scikit-learn.org\n",
      "Author: None\n",
      "Author-email: None\n",
      "License: new BSD\n",
      "Location: c:\\programdata\\anaconda3\\lib\\site-packages\n",
      "Requires: threadpoolctl, scipy, joblib, numpy\n",
      "Required-by: vecstack, lightgbm, imbalanced-learn\n"
     ]
    }
   ],
   "source": [
    "!pip show scikit-learn"
   ]
  },
  {
   "cell_type": "code",
   "execution_count": 3,
   "metadata": {},
   "outputs": [
    {
     "data": {
      "text/plain": [
       "'0.24.1'"
      ]
     },
     "execution_count": 3,
     "metadata": {},
     "output_type": "execute_result"
    }
   ],
   "source": [
    "import sklearn\n",
    "\n",
    "sklearn.__version__"
   ]
  },
  {
   "cell_type": "code",
   "execution_count": 4,
   "metadata": {},
   "outputs": [],
   "source": [
    "import matplotlib.pyplot as plt\n",
    "import numpy as np\n",
    "from sklearn import datasets, ensemble\n",
    "from sklearn.metrics import mean_squared_error\n",
    "from sklearn.model_selection import train_test_split\n",
    "\n",
    "from sklearn.inspection import permutation_importance \n",
    "# if you want to use this func., upgrade the scikit-learn to 0.23.1 (https://j.mp/334YxRi)"
   ]
  },
  {
   "cell_type": "code",
   "execution_count": 33,
   "metadata": {},
   "outputs": [],
   "source": [
    "diabetes = datasets.load_diabetes()\n",
    "X, y = diabetes.data, diabetes.target"
   ]
  },
  {
   "cell_type": "code",
   "execution_count": 11,
   "metadata": {},
   "outputs": [
    {
     "name": "stdout",
     "output_type": "stream",
     "text": [
      ".. _diabetes_dataset:\n",
      "\n",
      "Diabetes dataset\n",
      "----------------\n",
      "\n",
      "Ten baseline variables, age, sex, body mass index, average blood\n",
      "pressure, and six blood serum measurements were obtained for each of n =\n",
      "442 diabetes patients, as well as the response of interest, a\n",
      "quantitative measure of disease progression one year after baseline.\n",
      "\n",
      "**Data Set Characteristics:**\n",
      "\n",
      "  :Number of Instances: 442\n",
      "\n",
      "  :Number of Attributes: First 10 columns are numeric predictive values\n",
      "\n",
      "  :Target: Column 11 is a quantitative measure of disease progression one year after baseline\n",
      "\n",
      "  :Attribute Information:\n",
      "      - age     age in years\n",
      "      - sex\n",
      "      - bmi     body mass index\n",
      "      - bp      average blood pressure\n",
      "      - s1      tc, T-Cells (a type of white blood cells)\n",
      "      - s2      ldl, low-density lipoproteins\n",
      "      - s3      hdl, high-density lipoproteins\n",
      "      - s4      tch, thyroid stimulating hormone\n",
      "      - s5      ltg, lamotrigine\n",
      "      - s6      glu, blood sugar level\n",
      "\n",
      "Note: Each of these 10 feature variables have been mean centered and scaled by the standard deviation times `n_samples` (i.e. the sum of squares of each column totals 1).\n",
      "\n",
      "Source URL:\n",
      "https://www4.stat.ncsu.edu/~boos/var.select/diabetes.html\n",
      "\n",
      "For more information see:\n",
      "Bradley Efron, Trevor Hastie, Iain Johnstone and Robert Tibshirani (2004) \"Least Angle Regression,\" Annals of Statistics (with discussion), 407-499.\n",
      "(https://web.stanford.edu/~hastie/Papers/LARS/LeastAngle_2002.pdf)\n"
     ]
    }
   ],
   "source": [
    "# import pandas as pd\n",
    "\n",
    "# pd.DataFrame(diabetes['target'])\n",
    "\n",
    "print(diabetes['DESCR'])"
   ]
  },
  {
   "cell_type": "code",
   "execution_count": 34,
   "metadata": {},
   "outputs": [],
   "source": [
    "X_train, X_test, y_train, y_test = train_test_split(\n",
    "    X, y, test_size=0.1, random_state=13)\n",
    "\n",
    "params = {'n_estimators': 2000,\n",
    "          'max_depth': 4,\n",
    "          'min_samples_split': 5,\n",
    "          'learning_rate': 0.01,\n",
    "          'loss': 'ls'}"
   ]
  },
  {
   "cell_type": "code",
   "execution_count": 35,
   "metadata": {},
   "outputs": [
    {
     "name": "stdout",
     "output_type": "stream",
     "text": [
      "The mean squared error (MSE) on test set: 3467.4409\n"
     ]
    }
   ],
   "source": [
    "reg = ensemble.GradientBoostingRegressor(**params)\n",
    "reg.fit(X_train, y_train)\n",
    "\n",
    "mse = mean_squared_error(y_test, reg.predict(X_test))\n",
    "print(\"The mean squared error (MSE) on test set: {:.4f}\".format(mse))"
   ]
  },
  {
   "cell_type": "code",
   "execution_count": 20,
   "metadata": {},
   "outputs": [
    {
     "data": {
      "image/png": "[encoded data removed]",
      "text/plain": [
       "<Figure size 432x432 with 1 Axes>"
      ]
     },
     "metadata": {
      "needs_background": "light"
     },
     "output_type": "display_data"
    }
   ],
   "source": [
    "test_score = np.zeros((params['n_estimators'],), dtype=np.float64)\n",
    "for i, y_pred in enumerate(reg.staged_predict(X_test)):\n",
    "    test_score[i] = reg.loss_(y_test, y_pred)\n",
    "\n",
    "fig = plt.figure(figsize=(6, 6))\n",
    "plt.subplot(1, 1, 1)\n",
    "plt.title('Deviance')\n",
    "plt.plot(np.arange(params['n_estimators']) + 1, reg.train_score_, 'b-',\n",
    "         label='Training Set Deviance')\n",
    "plt.plot(np.arange(params['n_estimators']) + 1, test_score, 'r-',\n",
    "         label='Test Set Deviance')\n",
    "plt.legend(loc='upper right')\n",
    "plt.xlabel('Boosting Iterations')\n",
    "plt.ylabel('Deviance')\n",
    "fig.tight_layout()\n",
    "plt.show()"
   ]
  },
  {
   "cell_type": "code",
   "execution_count": 22,
   "metadata": {},
   "outputs": [
    {
     "data": {
      "text/plain": [
       "array([0.06238821, 0.01321827, 0.29956669, 0.07505409, 0.0356741 ,\n",
       "       0.0729104 , 0.04581124, 0.02775809, 0.29235951, 0.07525941])"
      ]
     },
     "execution_count": 22,
     "metadata": {},
     "output_type": "execute_result"
    }
   ],
   "source": [
    "reg.feature_importances_"
   ]
  },
  {
   "cell_type": "code",
   "execution_count": 21,
   "metadata": {},
   "outputs": [
    {
     "data": {
      "image/png": "[encoded data removed]",
      "text/plain": [
       "<Figure size 864x432 with 1 Axes>"
      ]
     },
     "metadata": {
      "needs_background": "light"
     },
     "output_type": "display_data"
    }
   ],
   "source": [
    "feature_importance = reg.feature_importances_\n",
    "\n",
    "sorted_idx = np.argsort(feature_importance)\n",
    "pos = np.arange(sorted_idx.shape[0]) + .5\n",
    "\n",
    "fig = plt.figure(figsize=(12, 6))\n",
    "# plt.subplot(1, 2, 1)\n",
    "\n",
    "plt.barh(pos, feature_importance[sorted_idx], align='center')\n",
    "plt.yticks(pos, np.array(diabetes.feature_names)[sorted_idx])\n",
    "plt.title('Feature Importance (MDI)')\n",
    "\n",
    "# result = permutation_importance(reg, X_test, y_test, n_repeats=10, random_state=42, n_jobs=2)\n",
    "# sorted_idx = result.importances_mean.argsort()\n",
    "# plt.subplot(1, 2, 2)\n",
    "# plt.boxplot(result.importances[sorted_idx].T, vert=False, labels=np.array(diabetes.feature_names)[sorted_idx])\n",
    "# plt.title(\"Permutation Importance (test set)\")\n",
    "\n",
    "fig.tight_layout()\n",
    "plt.show()"
   ]
  },
  {
   "cell_type": "code",
   "execution_count": 42,
   "metadata": {},
   "outputs": [
    {
     "data": {
      "text/plain": [
       "0.3341098589861513"
      ]
     },
     "execution_count": 42,
     "metadata": {},
     "output_type": "execute_result"
    }
   ],
   "source": [
    "reg.score(X_test, y_test)\n",
    "\n",
    "- Regression     -> model.score(x, y) == R2 score (1에 가까울수록 모델의 설명력이 좋음 vs 0에 가까울수록 모델의 설명력이 떨어짐)\n",
    "- Classification -> model.score(x, y) == Accuracy score (1에 가까울수록 모델이 분류를 정확하게 해냄)"
   ]
  },
  {
   "cell_type": "code",
   "execution_count": 36,
   "metadata": {},
   "outputs": [
    {
     "data": {
      "text/plain": [
       "{'importances_mean': array([-0.00186725,  0.00323713,  0.29035889,  0.08645032, -0.03072896,\n",
       "        -0.01233949, -0.01170004,  0.0060382 ,  0.40154548,  0.02986607]),\n",
       " 'importances_std': array([0.0380879 , 0.01768509, 0.06926484, 0.0680282 , 0.0217053 ,\n",
       "        0.03442189, 0.02697923, 0.01895631, 0.11443057, 0.02242984]),\n",
       " 'importances': array([[-6.64638697e-03, -6.04166881e-02,  6.00023422e-03,\n",
       "          3.24784411e-02, -4.74869557e-02, -3.17899883e-02,\n",
       "          1.85569936e-02,  6.68724947e-02,  3.07550106e-02,\n",
       "         -2.69956994e-02],\n",
       "        [-1.09104895e-02,  3.69836676e-02,  1.37328131e-02,\n",
       "         -1.05131072e-02, -6.56466376e-03,  6.45092837e-04,\n",
       "          1.16983816e-02,  2.75781764e-02, -1.99948505e-02,\n",
       "         -1.02837035e-02],\n",
       "        [ 3.01543548e-01,  2.66862469e-01,  4.30726973e-01,\n",
       "          1.94574043e-01,  3.56723450e-01,  3.04580704e-01,\n",
       "          2.69099870e-01,  2.42828840e-01,  1.97147038e-01,\n",
       "          3.39502006e-01],\n",
       "        [-1.85703424e-02,  1.92009871e-01,  1.51887841e-01,\n",
       "          1.64357267e-01,  3.57708481e-02,  1.08760167e-01,\n",
       "         -8.95986673e-03,  5.72908724e-02,  7.23486929e-02,\n",
       "          1.09607891e-01],\n",
       "        [-7.20298100e-02, -4.43771794e-02, -2.46223404e-02,\n",
       "         -5.29583184e-02, -3.58598078e-02,  7.49553923e-04,\n",
       "         -1.34268396e-02, -3.05449515e-02,  2.12828757e-04,\n",
       "         -3.44326904e-02],\n",
       "        [ 3.79842309e-02, -3.15731386e-02, -1.62715742e-02,\n",
       "          2.19402461e-02,  1.25053592e-02,  6.15706263e-03,\n",
       "         -9.24108955e-02, -1.26126062e-02, -1.79887989e-02,\n",
       "         -3.11247376e-02],\n",
       "        [-1.35907911e-02, -2.70058565e-02, -4.23306562e-02,\n",
       "         -6.27362207e-02,  2.79391058e-02,  2.22054878e-02,\n",
       "          1.52789712e-04, -2.64847905e-02,  5.51113369e-03,\n",
       "         -6.60610661e-04],\n",
       "        [-9.60116672e-03,  6.05572909e-04,  3.85282325e-02,\n",
       "          2.18365508e-02, -6.78750386e-03, -1.01557069e-03,\n",
       "          1.37265969e-02,  1.50993075e-02,  2.01538944e-02,\n",
       "         -3.21639352e-02],\n",
       "        [ 2.10309680e-01,  3.65982630e-01,  3.74417405e-01,\n",
       "          4.47404933e-01,  5.19440761e-01,  4.32295380e-01,\n",
       "          2.69438884e-01,  2.93874901e-01,  5.22696667e-01,\n",
       "          5.79593527e-01],\n",
       "        [ 3.98848568e-02, -5.37857619e-03,  8.53825890e-02,\n",
       "          3.94315031e-02,  2.62420506e-02,  3.31950442e-02,\n",
       "          2.11097115e-02,  1.87648634e-02,  1.30647445e-02,\n",
       "          2.69638643e-02]])}"
      ]
     },
     "execution_count": 36,
     "metadata": {},
     "output_type": "execute_result"
    }
   ],
   "source": [
    "result = permutation_importance(reg, X_test, y_test, n_repeats=10, random_state=42, n_jobs=2)\n",
    "result"
   ]
  },
  {
   "cell_type": "code",
   "execution_count": 37,
   "metadata": {},
   "outputs": [
    {
     "data": {
      "text/html": [
       "<div>\n",
       "<style scoped>\n",
       "    .dataframe tbody tr th:only-of-type {\n",
       "        vertical-align: middle;\n",
       "    }\n",
       "\n",
       "    .dataframe tbody tr th {\n",
       "        vertical-align: top;\n",
       "    }\n",
       "\n",
       "    .dataframe thead th {\n",
       "        text-align: right;\n",
       "    }\n",
       "</style>\n",
       "<table border=\"1\" class=\"dataframe\">\n",
       "  <thead>\n",
       "    <tr style=\"text-align: right;\">\n",
       "      <th></th>\n",
       "      <th>0</th>\n",
       "      <th>1</th>\n",
       "      <th>2</th>\n",
       "      <th>3</th>\n",
       "      <th>4</th>\n",
       "      <th>5</th>\n",
       "      <th>6</th>\n",
       "      <th>7</th>\n",
       "      <th>8</th>\n",
       "      <th>9</th>\n",
       "    </tr>\n",
       "  </thead>\n",
       "  <tbody>\n",
       "    <tr>\n",
       "      <th>0</th>\n",
       "      <td>-0.006646</td>\n",
       "      <td>-0.060417</td>\n",
       "      <td>0.006000</td>\n",
       "      <td>0.032478</td>\n",
       "      <td>-0.047487</td>\n",
       "      <td>-0.031790</td>\n",
       "      <td>0.018557</td>\n",
       "      <td>0.066872</td>\n",
       "      <td>0.030755</td>\n",
       "      <td>-0.026996</td>\n",
       "    </tr>\n",
       "    <tr>\n",
       "      <th>1</th>\n",
       "      <td>-0.010910</td>\n",
       "      <td>0.036984</td>\n",
       "      <td>0.013733</td>\n",
       "      <td>-0.010513</td>\n",
       "      <td>-0.006565</td>\n",
       "      <td>0.000645</td>\n",
       "      <td>0.011698</td>\n",
       "      <td>0.027578</td>\n",
       "      <td>-0.019995</td>\n",
       "      <td>-0.010284</td>\n",
       "    </tr>\n",
       "    <tr>\n",
       "      <th>2</th>\n",
       "      <td>0.301544</td>\n",
       "      <td>0.266862</td>\n",
       "      <td>0.430727</td>\n",
       "      <td>0.194574</td>\n",
       "      <td>0.356723</td>\n",
       "      <td>0.304581</td>\n",
       "      <td>0.269100</td>\n",
       "      <td>0.242829</td>\n",
       "      <td>0.197147</td>\n",
       "      <td>0.339502</td>\n",
       "    </tr>\n",
       "    <tr>\n",
       "      <th>3</th>\n",
       "      <td>-0.018570</td>\n",
       "      <td>0.192010</td>\n",
       "      <td>0.151888</td>\n",
       "      <td>0.164357</td>\n",
       "      <td>0.035771</td>\n",
       "      <td>0.108760</td>\n",
       "      <td>-0.008960</td>\n",
       "      <td>0.057291</td>\n",
       "      <td>0.072349</td>\n",
       "      <td>0.109608</td>\n",
       "    </tr>\n",
       "    <tr>\n",
       "      <th>4</th>\n",
       "      <td>-0.072030</td>\n",
       "      <td>-0.044377</td>\n",
       "      <td>-0.024622</td>\n",
       "      <td>-0.052958</td>\n",
       "      <td>-0.035860</td>\n",
       "      <td>0.000750</td>\n",
       "      <td>-0.013427</td>\n",
       "      <td>-0.030545</td>\n",
       "      <td>0.000213</td>\n",
       "      <td>-0.034433</td>\n",
       "    </tr>\n",
       "    <tr>\n",
       "      <th>5</th>\n",
       "      <td>0.037984</td>\n",
       "      <td>-0.031573</td>\n",
       "      <td>-0.016272</td>\n",
       "      <td>0.021940</td>\n",
       "      <td>0.012505</td>\n",
       "      <td>0.006157</td>\n",
       "      <td>-0.092411</td>\n",
       "      <td>-0.012613</td>\n",
       "      <td>-0.017989</td>\n",
       "      <td>-0.031125</td>\n",
       "    </tr>\n",
       "    <tr>\n",
       "      <th>6</th>\n",
       "      <td>-0.013591</td>\n",
       "      <td>-0.027006</td>\n",
       "      <td>-0.042331</td>\n",
       "      <td>-0.062736</td>\n",
       "      <td>0.027939</td>\n",
       "      <td>0.022205</td>\n",
       "      <td>0.000153</td>\n",
       "      <td>-0.026485</td>\n",
       "      <td>0.005511</td>\n",
       "      <td>-0.000661</td>\n",
       "    </tr>\n",
       "    <tr>\n",
       "      <th>7</th>\n",
       "      <td>-0.009601</td>\n",
       "      <td>0.000606</td>\n",
       "      <td>0.038528</td>\n",
       "      <td>0.021837</td>\n",
       "      <td>-0.006788</td>\n",
       "      <td>-0.001016</td>\n",
       "      <td>0.013727</td>\n",
       "      <td>0.015099</td>\n",
       "      <td>0.020154</td>\n",
       "      <td>-0.032164</td>\n",
       "    </tr>\n",
       "    <tr>\n",
       "      <th>8</th>\n",
       "      <td>0.210310</td>\n",
       "      <td>0.365983</td>\n",
       "      <td>0.374417</td>\n",
       "      <td>0.447405</td>\n",
       "      <td>0.519441</td>\n",
       "      <td>0.432295</td>\n",
       "      <td>0.269439</td>\n",
       "      <td>0.293875</td>\n",
       "      <td>0.522697</td>\n",
       "      <td>0.579594</td>\n",
       "    </tr>\n",
       "    <tr>\n",
       "      <th>9</th>\n",
       "      <td>0.039885</td>\n",
       "      <td>-0.005379</td>\n",
       "      <td>0.085383</td>\n",
       "      <td>0.039432</td>\n",
       "      <td>0.026242</td>\n",
       "      <td>0.033195</td>\n",
       "      <td>0.021110</td>\n",
       "      <td>0.018765</td>\n",
       "      <td>0.013065</td>\n",
       "      <td>0.026964</td>\n",
       "    </tr>\n",
       "  </tbody>\n",
       "</table>\n",
       "</div>"
      ],
      "text/plain": [
       "          0         1         2         3         4         5         6  \\\n",
       "0 -0.006646 -0.060417  0.006000  0.032478 -0.047487 -0.031790  0.018557   \n",
       "1 -0.010910  0.036984  0.013733 -0.010513 -0.006565  0.000645  0.011698   \n",
       "2  0.301544  0.266862  0.430727  0.194574  0.356723  0.304581  0.269100   \n",
       "3 -0.018570  0.192010  0.151888  0.164357  0.035771  0.108760 -0.008960   \n",
       "4 -0.072030 -0.044377 -0.024622 -0.052958 -0.035860  0.000750 -0.013427   \n",
       "5  0.037984 -0.031573 -0.016272  0.021940  0.012505  0.006157 -0.092411   \n",
       "6 -0.013591 -0.027006 -0.042331 -0.062736  0.027939  0.022205  0.000153   \n",
       "7 -0.009601  0.000606  0.038528  0.021837 -0.006788 -0.001016  0.013727   \n",
       "8  0.210310  0.365983  0.374417  0.447405  0.519441  0.432295  0.269439   \n",
       "9  0.039885 -0.005379  0.085383  0.039432  0.026242  0.033195  0.021110   \n",
       "\n",
       "          7         8         9  \n",
       "0  0.066872  0.030755 -0.026996  \n",
       "1  0.027578 -0.019995 -0.010284  \n",
       "2  0.242829  0.197147  0.339502  \n",
       "3  0.057291  0.072349  0.109608  \n",
       "4 -0.030545  0.000213 -0.034433  \n",
       "5 -0.012613 -0.017989 -0.031125  \n",
       "6 -0.026485  0.005511 -0.000661  \n",
       "7  0.015099  0.020154 -0.032164  \n",
       "8  0.293875  0.522697  0.579594  \n",
       "9  0.018765  0.013065  0.026964  "
      ]
     },
     "execution_count": 37,
     "metadata": {},
     "output_type": "execute_result"
    }
   ],
   "source": [
    "pd.DataFrame(result['importances'])"
   ]
  },
  {
   "cell_type": "code",
   "execution_count": 41,
   "metadata": {},
   "outputs": [
    {
     "data": {
      "text/plain": [
       "array([-0.00186725,  0.00323713,  0.29035889,  0.08645032, -0.03072896,\n",
       "       -0.01233949, -0.01170004,  0.0060382 ,  0.40154548,  0.02986607])"
      ]
     },
     "execution_count": 41,
     "metadata": {},
     "output_type": "execute_result"
    }
   ],
   "source": [
    "result['importances'].mean(axis=1)"
   ]
  },
  {
   "cell_type": "code",
   "execution_count": 39,
   "metadata": {},
   "outputs": [
    {
     "data": {
      "text/plain": [
       "array([-0.00186725,  0.00323713,  0.29035889,  0.08645032, -0.03072896,\n",
       "       -0.01233949, -0.01170004,  0.0060382 ,  0.40154548,  0.02986607])"
      ]
     },
     "execution_count": 39,
     "metadata": {},
     "output_type": "execute_result"
    }
   ],
   "source": [
    "result['importances_mean']"
   ]
  },
  {
   "cell_type": "code",
   "execution_count": 23,
   "metadata": {},
   "outputs": [
    {
     "data": {
      "image/png": "[encoded data removed]",
      "text/plain": [
       "<Figure size 864x432 with 1 Axes>"
      ]
     },
     "metadata": {
      "needs_background": "light"
     },
     "output_type": "display_data"
    }
   ],
   "source": [
    "fig = plt.figure(figsize=(12, 6))\n",
    "\n",
    "result = permutation_importance(reg, X_test, y_test, n_repeats=10, random_state=42, n_jobs=2)\n",
    "sorted_idx = result.importances_mean.argsort()\n",
    "\n",
    "plt.boxplot(result.importances[sorted_idx].T, vert=False, labels=np.array(diabetes.feature_names)[sorted_idx])\n",
    "plt.title(\"Permutation Importance (test set)\")\n",
    "\n",
    "fig.tight_layout()\n",
    "plt.show()"
   ]
  }
 ],
 "metadata": {
  "kernelspec": {
   "display_name": "Python 3",
   "language": "python",
   "name": "python3"
  },
  "language_info": {
   "codemirror_mode": {
    "name": "ipython",
    "version": 3
   },
   "file_extension": ".py",
   "mimetype": "text/x-python",
   "name": "python",
   "nbconvert_exporter": "python",
   "pygments_lexer": "ipython3",
   "version": "3.8.8"
  }
 },
 "nbformat": 4,
 "nbformat_minor": 2
}
