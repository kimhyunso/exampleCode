{
 "cells": [
  {
   "cell_type": "code",
   "execution_count": 6,
   "id": "6a56e178",
   "metadata": {},
   "outputs": [],
   "source": [
    "# 아이리스\n",
    "from sklearn.datasets import load_iris\n",
    "\n",
    "# 의사결정 나무\n",
    "from sklearn.tree import DecisionTreeClassifier\n",
    "\n",
    "# 평가지표\n",
    "from sklearn.metrics import accuracy_score as acc_sc\n",
    "\n",
    "iris = load_iris()\n",
    "\n",
    "x_data = iris.data # X => 독립변수 == 설명변수 == feature(머신러닝)\n",
    "y_target = iris.target # Y => 종속변수 == label(레이블) (이산) == target\n",
    "\n",
    "## 의사결정나무 객체화 Instarnce\n",
    "dt_clf = DecisionTreeClassifier()\n"
   ]
  },
  {
   "cell_type": "code",
   "execution_count": 10,
   "id": "ab5676d5",
   "metadata": {},
   "outputs": [
    {
     "data": {
      "text/plain": [
       "DecisionTreeClassifier()"
      ]
     },
     "execution_count": 10,
     "metadata": {},
     "output_type": "execute_result"
    }
   ],
   "source": [
    "# 학습을 수행\n",
    "x_train = x_data.copy()\n",
    "y_train = y_target.copy()\n",
    "\n",
    "dt_clf.fit(x_train, y_train)"
   ]
  },
  {
   "cell_type": "code",
   "execution_count": 16,
   "id": "269843a2",
   "metadata": {},
   "outputs": [],
   "source": [
    "# 예측을 수행\n",
    "y_pred = dt_clf.predict(x_train) # 2차원의 입력 x가 들어와야한다.\n"
   ]
  },
  {
   "cell_type": "code",
   "execution_count": 17,
   "id": "3adc2697",
   "metadata": {},
   "outputs": [
    {
     "name": "stdout",
     "output_type": "stream",
     "text": [
      "예측 정확도 : 1.0\n"
     ]
    }
   ],
   "source": [
    "# 평가지표로 평가 - acc_sc\n",
    "print(f'예측 정확도 : {acc_sc(y_train, y_pred)}')"
   ]
  },
  {
   "cell_type": "code",
   "execution_count": 23,
   "id": "f9e1122b",
   "metadata": {},
   "outputs": [],
   "source": [
    "from sklearn.model_selection import train_test_split\n",
    "# train과 test 두 가지를 분리하는 것 :: Hold_out(홀드아웃)\n"
   ]
  },
  {
   "cell_type": "code",
   "execution_count": 41,
   "id": "66dffc34",
   "metadata": {},
   "outputs": [
    {
     "data": {
      "text/plain": [
       "array([19, 20])"
      ]
     },
     "execution_count": 41,
     "metadata": {},
     "output_type": "execute_result"
    }
   ],
   "source": [
    "import numpy as np\n",
    "array_1 = np.arange(1, 11)\n",
    "array_11 = np.arange(11, 21)\n",
    "\n",
    "train1, test1, train11, test11 = train_test_split(array_1, array_11, test_size=0.2, random_state=121) # train >= 50%\n",
    "# train11, test11 = train_test_split(array_11, test_size=0.2, random_state=121)\n"
   ]
  },
  {
   "cell_type": "code",
   "execution_count": 46,
   "id": "926aba88",
   "metadata": {},
   "outputs": [
    {
     "data": {
      "text/plain": [
       "array([1, 2, 1, 0, 0, 1, 1, 1, 1, 2, 1, 1, 1, 0, 0, 2, 1, 0, 2, 0, 2, 2,\n",
       "       1, 1, 1, 1, 0, 0, 2, 2])"
      ]
     },
     "execution_count": 46,
     "metadata": {},
     "output_type": "execute_result"
    }
   ],
   "source": [
    "x_train, x_test, y_train, y_test = train_test_split(x_data, y_target, test_size=0.2, random_state=121)\n"
   ]
  },
  {
   "cell_type": "code",
   "execution_count": 52,
   "id": "d92117be",
   "metadata": {},
   "outputs": [
    {
     "data": {
      "text/plain": [
       "0.967"
      ]
     },
     "execution_count": 52,
     "metadata": {},
     "output_type": "execute_result"
    }
   ],
   "source": [
    "# 재학습\n",
    "df_clf.fit(x_train, y_train)\n",
    "\n",
    "# 예측수행\n",
    "pred_y = df_clf.predict(x_test)\n",
    "\n",
    "# 평가지표\n",
    "np.round(acc_sc(pred_y, y_test), 3)\n"
   ]
  },
  {
   "cell_type": "code",
   "execution_count": 57,
   "id": "28caf7a1",
   "metadata": {},
   "outputs": [
    {
     "name": "stdout",
     "output_type": "stream",
     "text": [
      "데이터 셋의 형태 : 150\n"
     ]
    }
   ],
   "source": [
    "# 필수 라이브러리 호출\n",
    "# 데이터\n",
    "from sklearn.datasets import load_iris\n",
    "# 알고리즘\n",
    "from sklearn.tree import DecisionTreeClassifier\n",
    "# 모델분할\n",
    "from sklearn.model_selection import KFold\n",
    "from sklearn.model_selection import train_test_split\n",
    "# 평가지표\n",
    "from sklearn.metrics import accuracy_score as acc_sc\n",
    "# 넘파이 판다스\n",
    "import numpy as np\n",
    "import pandas as pd\n",
    "\n",
    "iris = load_iris()\n",
    "features = iris.data\n",
    "label = iris.target\n",
    "\n",
    "dt_clf = DecisionTreeClassifier(random_state=156)\n",
    "\n",
    "# kfold에서 k=5로 놓자.\n",
    "kfold = KFold(n_splits=5)\n",
    "print(f'데이터 셋의 크기 : {features.shape[0]}')"
   ]
  },
  {
   "cell_type": "code",
   "execution_count": 92,
   "id": "7dd33bcb",
   "metadata": {
    "scrolled": true
   },
   "outputs": [
    {
     "name": "stdout",
     "output_type": "stream",
     "text": [
      "[ 0  1  2  3  4  5  6  7  8  9 10 11 12 13 14 15 16 17 18 19 20 21 22 23\n",
      " 24 25 26 27 28 29] [ 30  31  32  33  34  35  36  37  38  39  40  41  42  43  44  45  46  47\n",
      "  48  49  50  51  52  53  54  55  56  57  58  59  60  61  62  63  64  65\n",
      "  66  67  68  69  70  71  72  73  74  75  76  77  78  79  80  81  82  83\n",
      "  84  85  86  87  88  89  90  91  92  93  94  95  96  97  98  99 100 101\n",
      " 102 103 104 105 106 107 108 109 110 111 112 113 114 115 116 117 118 119\n",
      " 120 121 122 123 124 125 126 127 128 129 130 131 132 133 134 135 136 137\n",
      " 138 139 140 141 142 143 144 145 146 147 148 149]\n",
      "[30 31 32 33 34 35 36 37 38 39 40 41 42 43 44 45 46 47 48 49 50 51 52 53\n",
      " 54 55 56 57 58 59] [  0   1   2   3   4   5   6   7   8   9  10  11  12  13  14  15  16  17\n",
      "  18  19  20  21  22  23  24  25  26  27  28  29  60  61  62  63  64  65\n",
      "  66  67  68  69  70  71  72  73  74  75  76  77  78  79  80  81  82  83\n",
      "  84  85  86  87  88  89  90  91  92  93  94  95  96  97  98  99 100 101\n",
      " 102 103 104 105 106 107 108 109 110 111 112 113 114 115 116 117 118 119\n",
      " 120 121 122 123 124 125 126 127 128 129 130 131 132 133 134 135 136 137\n",
      " 138 139 140 141 142 143 144 145 146 147 148 149]\n",
      "[60 61 62 63 64 65 66 67 68 69 70 71 72 73 74 75 76 77 78 79 80 81 82 83\n",
      " 84 85 86 87 88 89] [  0   1   2   3   4   5   6   7   8   9  10  11  12  13  14  15  16  17\n",
      "  18  19  20  21  22  23  24  25  26  27  28  29  30  31  32  33  34  35\n",
      "  36  37  38  39  40  41  42  43  44  45  46  47  48  49  50  51  52  53\n",
      "  54  55  56  57  58  59  90  91  92  93  94  95  96  97  98  99 100 101\n",
      " 102 103 104 105 106 107 108 109 110 111 112 113 114 115 116 117 118 119\n",
      " 120 121 122 123 124 125 126 127 128 129 130 131 132 133 134 135 136 137\n",
      " 138 139 140 141 142 143 144 145 146 147 148 149]\n",
      "[ 90  91  92  93  94  95  96  97  98  99 100 101 102 103 104 105 106 107\n",
      " 108 109 110 111 112 113 114 115 116 117 118 119] [  0   1   2   3   4   5   6   7   8   9  10  11  12  13  14  15  16  17\n",
      "  18  19  20  21  22  23  24  25  26  27  28  29  30  31  32  33  34  35\n",
      "  36  37  38  39  40  41  42  43  44  45  46  47  48  49  50  51  52  53\n",
      "  54  55  56  57  58  59  60  61  62  63  64  65  66  67  68  69  70  71\n",
      "  72  73  74  75  76  77  78  79  80  81  82  83  84  85  86  87  88  89\n",
      " 120 121 122 123 124 125 126 127 128 129 130 131 132 133 134 135 136 137\n",
      " 138 139 140 141 142 143 144 145 146 147 148 149]\n",
      "[120 121 122 123 124 125 126 127 128 129 130 131 132 133 134 135 136 137\n",
      " 138 139 140 141 142 143 144 145 146 147 148 149] [  0   1   2   3   4   5   6   7   8   9  10  11  12  13  14  15  16  17\n",
      "  18  19  20  21  22  23  24  25  26  27  28  29  30  31  32  33  34  35\n",
      "  36  37  38  39  40  41  42  43  44  45  46  47  48  49  50  51  52  53\n",
      "  54  55  56  57  58  59  60  61  62  63  64  65  66  67  68  69  70  71\n",
      "  72  73  74  75  76  77  78  79  80  81  82  83  84  85  86  87  88  89\n",
      "  90  91  92  93  94  95  96  97  98  99 100 101 102 103 104 105 106 107\n",
      " 108 109 110 111 112 113 114 115 116 117 118 119]\n",
      "\n",
      " ## 평균 CV 정확도 : 0.9332\n"
     ]
    }
   ],
   "source": [
    "n_iter = 0\n",
    "cv_accuracy = []\n",
    "for train_index, val_index in kfold.split(features):\n",
    "    # kfold.split()으로 반환된 인덱스를 통해 확슴용, 검증용 데이터 정의\n",
    "    x_val, x_train = features[val_index], features[train_index]\n",
    "    y_val, y_train = label[val_index], label[train_index]\n",
    "    \n",
    "    # 각 CV별 학습 및예측\n",
    "    df_clf.fit(x_train, y_train) # 학습\n",
    "    pred = df_clf.predict(x_val)\n",
    "    \n",
    "    # 정확도\n",
    "    accuracy = np.round(acc_sc(y_val, pred), 3)\n",
    "    train_size = x_train.shape[0]\n",
    "    val_size = x_val.shape[0]\n",
    "    n_iter += 1\n",
    "    \n",
    "#     print(f'\\n #{n_iter} CV 정확도 : {accuracy}, 학습데이터 크기 : {train_size}, 검증데이터 크기 : {val_size}')\n",
    "#     print(f'\\n # {n_iter} 검증 데이터 셋 인덱스 : {val_index}')\n",
    "    cv_accuracy.append(accuracy)\n",
    "    \n",
    "\n",
    "# 개별 iteration 별 정확도 평균내기\n",
    "print(f'\\n ## 평균 CV 정확도 : {np.mean(cv_accuracy)}')\n",
    "    \n",
    "\n",
    "\n"
   ]
  },
  {
   "cell_type": "code",
   "execution_count": 2,
   "id": "f96fdeb0",
   "metadata": {},
   "outputs": [],
   "source": []
  },
  {
   "cell_type": "code",
   "execution_count": null,
   "id": "ef6778df",
   "metadata": {},
   "outputs": [],
   "source": []
  }
 ],
 "metadata": {
  "kernelspec": {
   "display_name": "Python 3 (ipykernel)",
   "language": "python",
   "name": "python3"
  },
  "language_info": {
   "codemirror_mode": {
    "name": "ipython",
    "version": 3
   },
   "file_extension": ".py",
   "mimetype": "text/x-python",
   "name": "python",
   "nbconvert_exporter": "python",
   "pygments_lexer": "ipython3",
   "version": "3.7.16"
  }
 },
 "nbformat": 4,
 "nbformat_minor": 5
}
