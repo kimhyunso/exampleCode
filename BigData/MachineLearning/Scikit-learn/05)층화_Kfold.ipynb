{
 "cells": [
  {
   "cell_type": "markdown",
   "id": "9be776e5",
   "metadata": {},
   "source": [
    "# Statified Kfold - 층화 Kfold\n",
    "- statified k폴드는 불균형 분포도를 가진 레이블(결정 클래스) 데이터 집합을 위한 k폴드 방식입니다.\n",
    "- 불균형한 분포도를 가진 레이블 데이터 집합은 특정 레이블 값이 특이하게 많거나 매우 적어서 값의 분포가 한쪽으로 치우치는 것을 말한다"
   ]
  },
  {
   "cell_type": "code",
   "execution_count": 2,
   "id": "17af318d",
   "metadata": {},
   "outputs": [],
   "source": [
    "import numpy as np\n",
    "import pandas as pd\n",
    "# 데이터셋\n",
    "from sklearn.datasets import load_iris\n",
    "# 데이터 분할\n",
    "from sklearn.model_selection import train_test_split\n",
    "from sklearn.model_selection import KFold\n",
    "from sklearn.model_selection import StratifiedKFold\n",
    "\n",
    "# 필요 알고리즘\n",
    "from sklearn.tree import DecisionTreeClassifier\n",
    "# 평가지표\n",
    "from sklearn.metrics import accuracy_score as acc_sc"
   ]
  },
  {
   "cell_type": "code",
   "execution_count": 3,
   "id": "3ddefeb7",
   "metadata": {},
   "outputs": [
    {
     "data": {
      "text/plain": [
       "0    50\n",
       "1    50\n",
       "2    50\n",
       "Name: label, dtype: int64"
      ]
     },
     "execution_count": 3,
     "metadata": {},
     "output_type": "execute_result"
    }
   ],
   "source": [
    "iris = load_iris()\n",
    "\n",
    "iris_df = pd.DataFrame(iris.data, columns=iris.feature_names)\n",
    "iris_df['label'] = iris.target\n",
    "iris_df.label.value_counts()"
   ]
  },
  {
   "cell_type": "code",
   "execution_count": 13,
   "id": "3456f590",
   "metadata": {},
   "outputs": [
    {
     "name": "stdout",
     "output_type": "stream",
     "text": [
      "학습 레이블의 데이터 분포 : \n",
      " 2    34\n",
      "0    33\n",
      "1    33\n",
      "Name: label, dtype: int64\n",
      "검증 레이블의 데이터 분포 : \n",
      " 0    17\n",
      "1    17\n",
      "2    16\n",
      "Name: label, dtype: int64\n",
      "--------------------------------------------------------\n",
      "학습 레이블의 데이터 분포 : \n",
      " 1    34\n",
      "0    33\n",
      "2    33\n",
      "Name: label, dtype: int64\n",
      "검증 레이블의 데이터 분포 : \n",
      " 0    17\n",
      "2    17\n",
      "1    16\n",
      "Name: label, dtype: int64\n",
      "--------------------------------------------------------\n",
      "학습 레이블의 데이터 분포 : \n",
      " 0    34\n",
      "1    33\n",
      "2    33\n",
      "Name: label, dtype: int64\n",
      "검증 레이블의 데이터 분포 : \n",
      " 1    17\n",
      "2    17\n",
      "0    16\n",
      "Name: label, dtype: int64\n",
      "--------------------------------------------------------\n"
     ]
    }
   ],
   "source": [
    "# 층화 K-fold를 적용\n",
    "from sklearn.model_selection import StratifiedKFold\n",
    "\n",
    "skf = StratifiedKFold(n_splits=3) # K = 3 // cv = 3\n",
    "\n",
    "for train_index, val_index in skf.split(iris_df, y=iris_df['label']):\n",
    "    y_train = iris_df['label'].iloc[train_index]\n",
    "    y_val = iris_df['label'].iloc[val_index]\n",
    "    print('학습 레이블의 데이터 분포 : \\n', y_train.value_counts())\n",
    "    print('검증 레이블의 데이터 분포 : \\n', y_val.value_counts())\n",
    "    print('--------------------------------------------------------')\n",
    "    "
   ]
  },
  {
   "cell_type": "code",
   "execution_count": null,
   "id": "ee3dc746",
   "metadata": {},
   "outputs": [],
   "source": []
  }
 ],
 "metadata": {
  "kernelspec": {
   "display_name": "Python 3 (ipykernel)",
   "language": "python",
   "name": "python3"
  },
  "language_info": {
   "codemirror_mode": {
    "name": "ipython",
    "version": 3
   },
   "file_extension": ".py",
   "mimetype": "text/x-python",
   "name": "python",
   "nbconvert_exporter": "python",
   "pygments_lexer": "ipython3",
   "version": "3.7.16"
  }
 },
 "nbformat": 4,
 "nbformat_minor": 5
}
